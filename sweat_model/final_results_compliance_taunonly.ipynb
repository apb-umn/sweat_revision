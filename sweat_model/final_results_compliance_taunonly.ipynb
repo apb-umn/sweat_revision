{
 "cells": [
  {
   "cell_type": "markdown",
   "metadata": {},
   "source": [
    "<h1 align=\"center\">RESULTS: Comparision of Tax Compliance Baseline and  Lower Tax on Employees   </h1> \n",
    "\n",
    "\n"
   ]
  },
  {
   "cell_type": "markdown",
   "metadata": {},
   "source": [
    "This file generates  aggregate and  cross-sectional moments using the simulated data. The simlations are generated using the simulate.py fle. Please update the paths to the simulation data before running."
   ]
  },
  {
   "cell_type": "markdown",
   "metadata": {},
   "source": [
    "## Import libraries"
   ]
  },
  {
   "cell_type": "code",
   "execution_count": 1,
   "metadata": {},
   "outputs": [],
   "source": [
    "import numpy as np\n",
    "import pandas as pd\n",
    "import stats\n",
    "import os.path\n",
    "pd.options.display.float_format = '{:.3f}'.format\n",
    "pd.set_option('display.max_colwidth', -1)\n",
    "from SCEconomy import *\n",
    "import seaborn as sns\n",
    "sns.set_style('whitegrid')\n",
    "\n",
    "import warnings\n",
    "warnings.filterwarnings('ignore')\n",
    "\n",
    "%matplotlib inline\n",
    "import matplotlib as mpl\n",
    "mpl.rc(\"savefig\",dpi=200)\n",
    "from matplotlib import pyplot as plt\n",
    "# plt.rcParams[\"figure.figsize\"] = (10.,10.)"
   ]
  },
  {
   "cell_type": "code",
   "execution_count": 2,
   "metadata": {},
   "outputs": [
    {
     "data": {
      "text/html": [
       "<script>\n",
       "code_show=true; \n",
       "function code_toggle() {\n",
       " if (code_show){\n",
       " $('div.input').hide();\n",
       " } else {\n",
       " $('div.input').show();\n",
       " }\n",
       " code_show = !code_show\n",
       "} \n",
       "$( document ).ready(code_toggle);\n",
       "</script>\n",
       "<form action=\"javascript:code_toggle()\"><input type=\"submit\" value=\"Click here to toggle on/off the raw code.\"></form>"
      ],
      "text/plain": [
       "<IPython.core.display.HTML object>"
      ]
     },
     "execution_count": 2,
     "metadata": {},
     "output_type": "execute_result"
    }
   ],
   "source": [
    "from IPython.display import HTML\n",
    "from IPython.core.interactiveshell import InteractiveShell\n",
    "InteractiveShell.ast_node_interactivity = \"all\"\n",
    "HTML('''<script>\n",
    "code_show=true; \n",
    "function code_toggle() {\n",
    " if (code_show){\n",
    " $('div.input').hide();\n",
    " } else {\n",
    " $('div.input').show();\n",
    " }\n",
    " code_show = !code_show\n",
    "} \n",
    "$( document ).ready(code_toggle);\n",
    "</script>\n",
    "<form action=\"javascript:code_toggle()\"><input type=\"submit\" value=\"Click here to toggle on/off the raw code.\"></form>''')"
   ]
  },
  {
   "cell_type": "code",
   "execution_count": 3,
   "metadata": {},
   "outputs": [],
   "source": [
    "df_baseline=[]\n",
    "df_target=[]\n",
    "def gini(series, weights):\n",
    "    if series.size!=weights.size:\n",
    "        print(\"Weights are not the same size as the series\")\n",
    "        return\n",
    "    sorted_series = series.sort_values()\n",
    "    height, area = 0, 0\n",
    "    for i in range(series.size):\n",
    "        value = series[sorted_series.index[i]]\n",
    "        wgt = weights[sorted_series.index[i]]\n",
    "        height += wgt*value\n",
    "        area += wgt*(height - value / 2)\n",
    "    fair_area = height * weights.sum() / 2.\n",
    "    return (fair_area - area) / fair_area\n",
    "\n",
    "\n",
    "def gini_alt(series):\n",
    "    csum= 0.0\n",
    "    N=len(series)\n",
    "    for i in range(N):\n",
    "        for j in range(N):\n",
    "            value_i = series.iloc[i]\n",
    "            value_j = series.iloc[j]\n",
    "            csum+=np.abs(value_i-value_j)\n",
    "        \n",
    "    gini_val=0.5*(csum/(N)**2)/series.mean()\n",
    "    \n",
    "    return gini_val\n",
    "\n",
    "\n",
    "def Lorenz(series,quantiles):\n",
    "    N=len(quantiles)\n",
    "    Lz=np.zeros(N)\n",
    "    for n in range(N):\n",
    "        selection = series<series.quantile(quantiles[n])\n",
    "        Lz[n]=series[selection].sum()/series.sum()\n",
    "               \n",
    "        \n",
    "    return  Lz\n",
    "\n",
    "\n",
    "def uploadData(case,w,rs,rc,p,delta):\n",
    "    data=pd.DataFrame()\n",
    "    is_iz=pd.read_csv(case+'/is_to_iz.csv',delim_whitespace=True,header=None)\n",
    "    zgrid=pd.read_csv(case+'/zgrid.csv',delim_whitespace=True,header=None)\n",
    "    is_to_ieps=pd.read_csv(case+'/is_to_ieps.csv', delim_whitespace=True,header=None)\n",
    "    epsgrid=pd.read_csv(case+'/epsgrid.csv', delim_whitespace=True,header=None)\n",
    "    T=100-1\n",
    "    \n",
    "    data['s_ind_']=pd.read_csv(case+'/data_i_s.csv', delim_whitespace=True,header=None).iloc[:,T-1]\n",
    "    data['s_ind']=pd.read_csv(case+'/data_i_s.csv', delim_whitespace=True,header=None, usecols=[T])\n",
    "    \n",
    "    \n",
    "    data['eps']=epsgrid.values.flatten()[is_to_ieps.astype('int').values.flatten()[data.s_ind.astype('int').values.flatten()]]   \n",
    "    data['eps_']=epsgrid.values.flatten()[is_to_ieps.astype('int').values.flatten()[data.s_ind_.astype('int').values.flatten()]]   \n",
    "    data['iz']=is_iz.astype('int').values.flatten()[data.s_ind.astype('int').values.flatten()]\n",
    "    data['iz_']=is_iz.astype('int').values.flatten()[data.s_ind_.astype('int').values.flatten()]\n",
    "    data['ieps']=is_to_ieps.astype('int').values.flatten()[data.s_ind.astype('int').values.flatten()]  \n",
    "    data['ieps_']=is_to_ieps.astype('int').values.flatten()[data.s_ind_.astype('int').values.flatten()]\n",
    "    data['z']=zgrid.values.flatten()[is_iz.astype('int').values.flatten()[data.s_ind.astype('int').values.flatten()]]    \n",
    "    data['z_']=zgrid.values.flatten()[is_iz.astype('int').values.flatten()[data.s_ind_.astype('int').values.flatten()]]    \n",
    "    data['ys']=pd.read_csv(case+'/data_ys.csv', delim_whitespace=True,header=None, usecols=[T])\n",
    "    data['ys_']=pd.read_csv(case+'/data_ys.csv', delim_whitespace=True,header=None, usecols=[T-1])\n",
    "    data['ks']=pd.read_csv(case+'/data_ks.csv', delim_whitespace=True,header=None, usecols=[T])\n",
    "    data['ns']=pd.read_csv(case+'/data_ns.csv', delim_whitespace=True,header=None, usecols=[T])\n",
    "    data['x']=pd.read_csv(case+'/data_x.csv',  delim_whitespace=True,header=None, usecols=[T])\n",
    "    data['n']=pd.read_csv(case+'/data_n.csv', delim_whitespace=True,header=None, usecols=[T])\n",
    "    data['ks_']=pd.read_csv(case+'/data_ks.csv', delim_whitespace=True,header=None, usecols=[T-1])\n",
    "    data['ns_']=pd.read_csv(case+'/data_ns.csv', delim_whitespace=True,header=None, usecols=[T-1])\n",
    "    data['x_']=pd.read_csv(case+'/data_x.csv',  delim_whitespace=True,header=None, usecols=[T-1])\n",
    "    data['n_']=pd.read_csv(case+'/data_n.csv', delim_whitespace=True,header=None, usecols=[T-1])\n",
    "    data['flagC']=pd.read_csv(case+'/data_is_c.csv', delim_whitespace=True,header=None, usecols=[T])\n",
    "    data['flagC_']=pd.read_csv(case+'/data_is_c.csv', delim_whitespace=True,header=None, usecols=[T-1])\n",
    "    data['flagO']=pd.read_csv(case+'/data_is_o.csv',delim_whitespace=True,header=None, usecols=[T])\n",
    "    data['kappa']=pd.read_csv(case+'/data_kap.csv', delim_whitespace=True,header=None, usecols=[T])\n",
    "    data['hkap']=pd.read_csv(case+'/data_hkap.csv',  delim_whitespace=True,header=None, usecols=[T])\n",
    "    data['hy']=pd.read_csv(case+'/data_hy.csv',  delim_whitespace=True,header=None, usecols=[T])\n",
    "    data['s_age']=pd.read_csv(case+'/s_age.csv',  delim_whitespace=True,header=None)\n",
    "    data['sind_age']=pd.read_csv(case+'/sind_age.csv',  delim_whitespace=True,header=None)\n",
    "    data['ind_age']=pd.read_csv(case+'/ind_age.csv',  delim_whitespace=True,header=None)\n",
    "    data['c_age']=pd.read_csv(case+'/c_age.csv',  delim_whitespace=True,header=None)\n",
    "    data['div_']=pd.read_csv(case+'/data_div_sweat.csv',  delim_whitespace=True,header=None, usecols=[T-1])\n",
    "    data['div']= pd.read_csv(case+'/data_div_sweat.csv',  delim_whitespace=True,header=None, usecols=[T])\n",
    "    data['val_sdf_']=pd.read_csv(case+'/data_val_sweat_dyna_sdf.csv',  delim_whitespace=True,header=None, usecols=[T-1])\n",
    "    data['val_mf_']=pd.read_csv(case+'/data_val_sweat_dyna_fix.csv',  delim_whitespace=True,header=None, usecols=[T-1])\n",
    "\n",
    "    data['val_sdf']=pd.read_csv(case+'/data_val_sweat_dyna_sdf.csv',  delim_whitespace=True,header=None, usecols=[T])\n",
    "    data['val_mf']=pd.read_csv(case+'/data_val_sweat_dyna_fix.csv',  delim_whitespace=True,header=None, usecols=[T])\n",
    "    data['a']= pd.read_csv(case+'/data_a.csv',  delim_whitespace=True,header=None, usecols=[T])\n",
    "    \n",
    "    data['flagC']=data['flagC'].astype('bool')\n",
    "    data['flagC_']=data['flagC_'].astype('bool')\n",
    "    data['flagO']=data['flagO'].astype('bool')\n",
    "    data['expenses']=(rs+delta)*data['ks']+w*data['ns']+data['x']\n",
    "    data['expenses_']=(rs+delta)*data['ks_']+w*data['ns_']+data['x_']\n",
    "    data['wns']=data['ns']*w\n",
    "    data['pys']=p*data['ys']\n",
    "\n",
    "    data['bus_inc']=p*data['ys']-data['expenses']\n",
    "    data['bus_inc_']=p*data['ys_']-data['expenses_']\n",
    "    data['lab_inc']=data.eps*w*data.n\n",
    "    data['lab_inc_']=data.eps_*w*data.n_\n",
    "    data['n_e']=data['hkap']+data['hy']\n",
    "    data['ne']=data['n_e']\n",
    "    data['kappa_adj']=(data.kappa**0.15)*data.z\n",
    "    data['ret_sdf']=(data['val_sdf']+data['div_'])/data['val_sdf_']+0.02\n",
    "    data['ret_mf']=(data['val_mf']+data['div_'])/data['val_mf_']+0.02\n",
    "    data['div_yld_sdf']=(data['div'])/data['val_sdf']\n",
    "    data['div_yld_mf']=(data['div'])/data['val_mf']\n",
    "    #data['intan_int_sdf']=data['val_sdf'] /(data['val_sdf']+data['ks'])\n",
    "    #data['intan_int_mf']=data['val_mf'] /(data['val_mf']+data['ks'])\n",
    "    data['profit_rate']=100*data['bus_inc']/data['ks']\n",
    "    data['measured_markups']=100*(data['bus_inc'])/(data['x']+(rs+delta)*data['ks']+w*data['ns'])\n",
    "    data['measured_markups_alt']=100*(data['bus_inc']+data['x'])/((rs+delta)*data['ks']+w*data['ns'])\n",
    "    data['x_pys']=data['x']/(p*data['ys'])\n",
    "    data['cogs']=((rs+delta)*data['ks']+w*data['ns']+data['x'])    \n",
    "    data['wealth_sdf']=data['a']+data['val_sdf']   \n",
    "    data['wealth_mf']=data['a']+data['val_mf']   \n",
    "    data['ztilde'] = np.log(data['z'])\n",
    "    data['zkapphi']=data['z']*data['kappa']**(0.15)\n",
    "    data['ztilde_meas'] = np.log(data['ys']/(data['ks']**(0.333)*data['ns']**(0.666)))\n",
    "    data['inc']=0.0\n",
    "    data['inc'][data['flagC']==True]=data[data['flagC']==True]['lab_inc']\n",
    "    data['inc'][data['flagC']==False]=data[data['flagC']==False]['bus_inc']\n",
    "    data['tot_inc']=data['inc']+rc*data['a'] \n",
    "    if os.path.exists(case+'/data_R.csv'):\n",
    "        data['R']= pd.read_csv(case+'/data_R.csv',  delim_whitespace=True,header=None, usecols=[T])\n",
    "        data['intan_int']=data['R']/(data['R']+data['ks'])\n",
    "        data['wealth_R']=0.0\n",
    "        data['wealth_R'][data['flagC']==True]=data[data['flagC']==True]['a']   \n",
    "        data['wealth_R'][data['flagC']==False]=data[data['flagC']==False]['a']+data[data['flagC']==False]['R']   \n",
    "        data['wealth_income_ratio']=data['wealth_R']/data['tot_inc']\n",
    "  \n",
    "  \n",
    "\n",
    "    data['wgt']=1.0\n",
    "    return data\n",
    "\n",
    "\n",
    "\n",
    "\n",
    "def get_prices(path_baseline,momfilename):\n",
    "    with open (path_baseline+ momfilename, 'rt') as myfile:  # Open file lorem.txt for reading text\n",
    "        for myline in myfile:                 # For each line, read it to a string \n",
    "          #print(\"gdp line\")\n",
    "          #print(myline.find(\"GDP(\"))\n",
    "          if myline.find(\"w\")==0:\n",
    "            #print(myline)\n",
    "            w=float(myline[ myline.find(\"=\")+1:])\n",
    "          if myline.find(\"S-good price\")==0:\n",
    "            #print(myline)\n",
    "            p=float(myline[ myline.find(\"=\")+1:])\n",
    "          if myline.find(\"rc\")==0:\n",
    "            #print(myline)\n",
    "            rc=float(myline[ myline.find(\"=\")+1:])\n",
    "          if myline.find(\"rs\")==0:\n",
    "            #print(myline)\n",
    "            rs=float(myline[ myline.find(\"=\")+1:])\n",
    "          if myline.find(\"GDP(\")==2:\n",
    "            #print(myline)\n",
    "            GVA=float(myline[ myline.find(\"=\")+1:])\n",
    "          if myline.find(\"investment,\")==2:\n",
    "            #print(myline)\n",
    "            x=float(myline[ myline.find(\"=\")+1:])\n",
    "            #print(\"GDP = \"+ str(GVA-x))\n",
    "          if myline.find(\"delk \")==0:\n",
    "            #print(myline)\n",
    "            delta=float(myline[ myline.find(\"=\")+1:])\n",
    "            #print(\"delta= \"+ str(delta))\n",
    "            \n",
    "    return w,p,rc,rs,delta,GVA-x\n",
    "\n",
    "\n",
    "\n",
    "def decomposition (var_bin,bins,varlist):\n",
    "    print('')\n",
    "    print(\"SORTED BY \" + var_bin)\n",
    "    print(\"BINS = \" + str([round(b,2) for b in bins ]) )\n",
    "    \n",
    "\n",
    "    data['bin_' + var_bin] = pd.cut(data[var_bin], bins, labels = False)     \n",
    "    mean_baseline=data.groupby('bin_' + var_bin).mean()[varlist]\n",
    "    count_baseline=data.groupby('bin_' + var_bin).count()[varlist]\n",
    "    \n",
    "    \n",
    "    print(\"-------------- baseline means ----------\")\n",
    "    print(mean_baseline)\n",
    "    print(\"-------------- baseline counts ----------\")\n",
    "    print(count_baseline)\n",
    "    print('')\n",
    "    return mean_baseline,count_baseline\n",
    "\n",
    "def format_table(data,total):\n",
    "    results=[]\n",
    "    results=pd.DataFrame(data) \n",
    "    results['bins/total']=(sorted(pd.cut(df_baseline[var_bin], bins).unique()) )\n",
    "    cols = results.columns.tolist()\n",
    "    cols = cols[-1:] + cols[:-1]\n",
    "    results=results[cols]  #    OR    df = df.ix[:, cols]\n",
    "    results=results.append(total,ignore_index=True)\n",
    "    results.iloc[-1,0]='total'\n",
    "    \n",
    "    return results\n",
    "\n",
    "\n",
    "def print_results (var_bin,bins,varlist,df_baseline=df_baseline,df_target=df_target):\n",
    "    print('')\n",
    "    print(\"SORTED BY \" + var_bin)\n",
    "    print(\"BINS = \" + str([round(b,2) for b in bins ]) )\n",
    "    \n",
    "\n",
    "    df_baseline['bin_' + var_bin] = pd.cut(df_baseline[var_bin], bins, labels = False) \n",
    "    df_target['bin_' + var_bin] = pd.cut(df_target[var_bin], bins, labels = False) \n",
    "    \n",
    "    mean_baseline=df_baseline.groupby('bin_' + var_bin).mean()[varlist]\n",
    "    mean_target=df_target.groupby('bin_' + var_bin).mean()[varlist]\n",
    "    sum_baseline=df_baseline.groupby('bin_' + var_bin).sum()[varlist]\n",
    "    sum_target=df_target.groupby('bin_' + var_bin).sum()[varlist]\n",
    "    count_baseline=df_baseline.groupby('bin_' + var_bin).count()[varlist]\n",
    "    count_target=df_target.groupby('bin_' + var_bin).count()[varlist]\n",
    "    \n",
    "    intensive=(mean_target-mean_baseline)*(count_target+count_baseline)/2\n",
    "    extensive=(count_target-count_baseline)*(mean_target+mean_baseline)/2\n",
    "    total=intensive+extensive\n",
    "    intensive=100.*(intensive/(total.sum()))\n",
    "    extensive=100.*(extensive/(total.sum()))\n",
    "    total_per_change=(100*total.sum()/sum_baseline.sum()).T\n",
    "    intensive_alt=intensive*total_per_change*(1.0/100)\n",
    "    extensive_alt=extensive*total_per_change*(1.0/100)\n",
    "   \n",
    "    return total,sum_baseline,intensive_alt,extensive_alt\n",
    "\n",
    "   \n",
    "\n",
    "    print('')\n",
    "    \n",
    "def __extract_num__(item_name, text):\n",
    "    \n",
    "    import re\n",
    "    for ln in text.splitlines():\n",
    "        if ln.startswith(item_name):\n",
    "\n",
    "            match = re.search(r'[-+]?[0-9]*\\.?[0-9]+([eE][-+]?[0-9]+)?', ln[len(item_name):])\n",
    "\n",
    "            if match is not None:\n",
    "                return float(match.group(0))\n",
    "            else:\n",
    "                return np.nan\n",
    "                    \n",
    "                \n",
    "    return np.nan\n",
    "\n",
    "def get_data_textbuffer(item_name, outputs):\n",
    "    \n",
    "    return np.array([__extract_num__(item_name, text) for text in outputs])\n",
    "    \n",
    "   "
   ]
  },
  {
   "cell_type": "markdown",
   "metadata": {},
   "source": [
    "## Set paths"
   ]
  },
  {
   "cell_type": "code",
   "execution_count": 4,
   "metadata": {},
   "outputs": [],
   "source": [
    "casename='newbench_compliance'\n",
    "targetname='newbench_compliance_taunonly'\n",
    "#path_baseline = '/home/shared/yaoxx366/save_data/save_data_'+casename+'/'\n",
    "path_baseline='./save_data_'+casename\n",
    "path_table = './save_data_'+casename+'/'\n",
    "path_target = './save_data_'+ targetname + '/'\n",
    "momfilename_baseline= 'paras_mom_' + casename  + '.txt'\n",
    "momfilename_target= 'paras_mom_' + targetname  + '.txt'\n",
    "pathtosiminitbase='./save_data_'+ casename+  '/econ_' +casename + '.pickle'\n",
    "pathtosiminittarget='./save_data_'+ targetname+  '/econ_' +targetname + '.pickle'\n",
    "my_file_handle=open(path_baseline+ '/' + momfilename_baseline )\n",
    "textbuffer_baseline=my_file_handle.read()"
   ]
  },
  {
   "cell_type": "markdown",
   "metadata": {},
   "source": [
    "# Calibration"
   ]
  },
  {
   "cell_type": "markdown",
   "metadata": {},
   "source": [
    "## Preferences"
   ]
  },
  {
   "cell_type": "code",
   "execution_count": 5,
   "metadata": {},
   "outputs": [
    {
     "name": "stdout",
     "output_type": "stream",
     "text": [
      "Discount factor                           0.980\n",
      "Paternalistic discount factor             1.000\n",
      "Consumption weight                        0.420\n",
      "Leisure weight                            0.580\n",
      "Intertemporal elasticity inverse          1.500\n",
      "C-corporate good share in consumption     0.449\n",
      "Love of business parameter                0.000\n",
      "Labor productivity decline for the old    0.500\n",
      "Business productivity decline for the old 0.500\n"
     ]
    }
   ],
   "source": [
    "print(pd.read_csv(path_table + 'preferences.csv').to_string(header=None))"
   ]
  },
  {
   "cell_type": "markdown",
   "metadata": {},
   "source": [
    "## Life cycle related params"
   ]
  },
  {
   "cell_type": "code",
   "execution_count": 6,
   "metadata": {},
   "outputs": [
    {
     "name": "stdout",
     "output_type": "stream",
     "text": [
      "Unnamed: 0     y     o\n",
      " y         0.978 0.022\n",
      " o         0.067 0.933\n"
     ]
    }
   ],
   "source": [
    "print(pd.read_csv(path_table + 'age_transition_table.csv', skiprows = 1).to_string(index=None))"
   ]
  },
  {
   "cell_type": "markdown",
   "metadata": {},
   "source": [
    "## Technology"
   ]
  },
  {
   "cell_type": "code",
   "execution_count": 7,
   "metadata": {},
   "outputs": [
    {
     "name": "stdout",
     "output_type": "stream",
     "text": [
      "Technology growth                                                      0.020\n",
      "C-corporate fixed asset share                                          0.502\n",
      "Private business fixed asset share                                     0.300\n",
      "Private business sweat capital share                                   0.150\n",
      "Private business ces labor composite share                             0.550\n",
      "Private business employee hours share parameter in ces labor composite 0.575\n",
      "Private business hours substitution parameter in ces labor composite   0.500\n",
      "Fixed asset depreciation                                               0.041\n",
      "Sweat capital depreciation                                             0.058\n",
      "Sweat capital owner hour share                                         0.408\n",
      "Sweat capital c-good share                                             0.592\n",
      "Sweat capital deterioration for workers                                0.500\n",
      "Sweat capital deterioration for bequests                               0.100\n",
      "Working-capital constraint                                             0.000\n",
      "Non-business production relative to GDP                                0.266\n",
      "Non-business consumption relative to GDP                               0.110\n"
     ]
    }
   ],
   "source": [
    "print(pd.read_csv(path_table + 'technologies.csv').to_string(header=None))"
   ]
  },
  {
   "cell_type": "markdown",
   "metadata": {},
   "source": [
    "## Shocks"
   ]
  },
  {
   "cell_type": "markdown",
   "metadata": {},
   "source": [
    "### Business skill"
   ]
  },
  {
   "cell_type": "code",
   "execution_count": 8,
   "metadata": {},
   "outputs": [
    {
     "name": "stdout",
     "output_type": "stream",
     "text": [
      "       0  1  2  3  4\n",
      "zgrid  0  1  2  3  4\n",
      "\n",
      "      0     1     2     3     4\n",
      "0 0.612 0.170 0.098 0.065 0.055\n",
      "1 0.172 0.551 0.187 0.064 0.025\n",
      "2 0.099 0.191 0.475 0.190 0.045\n",
      "3 0.060 0.055 0.164 0.558 0.164\n",
      "4 0.046 0.009 0.034 0.135 0.776\n"
     ]
    }
   ],
   "source": [
    "# np.loadtxt(path_table + 'business_productivity_transition_table.csv', skiprows = 2, skipcolumn = 1)\n",
    "# pd.read_csv(path_table + 'business_productivity_transition_table.csv', skiprows = 1)\n",
    "\n",
    "\n",
    "print(pd.Series(pd.read_csv(path_table + 'business_productivity_transition_table.csv', skiprows = 1).iloc[:,0]).to_frame('zgrid').T)\n",
    "print()\n",
    "print(pd.DataFrame(pd.read_csv(path_table + 'business_productivity_transition_table.csv', skiprows = 1).iloc[:,1:].values))\n"
   ]
  },
  {
   "cell_type": "markdown",
   "metadata": {},
   "source": [
    "### Labor skills"
   ]
  },
  {
   "cell_type": "code",
   "execution_count": 9,
   "metadata": {},
   "outputs": [
    {
     "name": "stdout",
     "output_type": "stream",
     "text": [
      "         0  1  2  3  4\n",
      "epsgrid  0  1  2  3  4\n",
      "\n",
      "      0     1     2     3     4\n",
      "0 0.424 0.549 0.027 0.000 0.000\n",
      "1 0.046 0.621 0.327 0.005 0.000\n",
      "2 0.001 0.145 0.709 0.145 0.001\n",
      "3 0.000 0.005 0.327 0.621 0.046\n",
      "4 0.000 0.000 0.027 0.549 0.424\n"
     ]
    }
   ],
   "source": [
    "print(pd.Series(pd.read_csv(path_table + 'labor_productivity_transition_table.csv', skiprows = 1).iloc[:,0]).to_frame('epsgrid').T)\n",
    "print('')\n",
    "print(pd.DataFrame(pd.read_csv(path_table + 'labor_productivity_transition_table.csv', skiprows = 1).iloc[:,1:].values))\n"
   ]
  },
  {
   "cell_type": "markdown",
   "metadata": {},
   "source": [
    "## Tax policy"
   ]
  },
  {
   "cell_type": "markdown",
   "metadata": {},
   "source": [
    "### Pass thru income tax"
   ]
  },
  {
   "cell_type": "code",
   "execution_count": 10,
   "metadata": {},
   "outputs": [
    {
     "name": "stdout",
     "output_type": "stream",
     "text": [
      " bbracket_left  bbracket_right   taub   psib\n",
      "-inf             0.153         0.216  0.045 \n",
      "0.153            0.304         0.254  0.063 \n",
      "0.304            0.912         0.272  0.080 \n",
      "0.912            2.667         0.312  0.193 \n",
      "2.667            5.727         0.331  0.345 \n",
      "5.727            9.104         0.339  0.477 \n",
      "9.104            inf           0.350  0.785 \n"
     ]
    }
   ],
   "source": [
    "print(pd.read_csv(path_table + 'business_income_tax.csv').to_string(index=None))"
   ]
  },
  {
   "cell_type": "markdown",
   "metadata": {},
   "source": [
    "### Labor income tax"
   ]
  },
  {
   "cell_type": "code",
   "execution_count": 11,
   "metadata": {},
   "outputs": [
    {
     "name": "stdout",
     "output_type": "stream",
     "text": [
      " nbracket_left  nbracket_right   taun   psin\n",
      "-inf             0.173         0.293  -0.033\n",
      "0.173            0.262         0.324  -0.016\n",
      "0.262            0.404         0.343  -0.001\n",
      "0.404            0.732         0.390  0.058 \n",
      "0.732            1.409         0.400  0.080 \n",
      "1.409            3.3138        0.408  0.115 \n",
      "3.314            inf           0.419  0.227 \n"
     ]
    }
   ],
   "source": [
    "print(pd.read_csv(path_table + 'labor_income_tax.csv').to_string(index=None))"
   ]
  },
  {
   "cell_type": "markdown",
   "metadata": {},
   "source": [
    "### Other taxes"
   ]
  },
  {
   "cell_type": "code",
   "execution_count": 12,
   "metadata": {},
   "outputs": [
    {
     "name": "stdout",
     "output_type": "stream",
     "text": [
      "Consumption tax                        0.065\n",
      "Dividends tax                          0.133\n",
      "Profits tax                            0.360\n",
      "Government expenditure relative to GDP 0.133\n",
      "Retirement Transfer                    0.800\n"
     ]
    }
   ],
   "source": [
    "print(pd.read_csv(path_table + 'policies.csv').to_string(header=None))"
   ]
  },
  {
   "cell_type": "markdown",
   "metadata": {},
   "source": [
    "# Aggregates"
   ]
  },
  {
   "cell_type": "code",
   "execution_count": 13,
   "metadata": {},
   "outputs": [],
   "source": [
    "mom=pd.read_csv(path_table + 'moments.csv')\n",
    "mom.columns=['desc','val']    \n",
    "tax=pd.read_csv(path_table + 'policies.csv')\n",
    "tax.columns=['val']\n",
    "cal=pd.read_csv(path_table + 'technologies.csv')\n",
    "cal.columns=['val']\n",
    "w=float(mom[mom.desc.str.strip()=='Wage (w)']['val'].values)\n",
    "p=float(mom[mom.desc.str.strip()=='S-good price (p)']['val'].values)\n",
    "rc=float(mom[mom.desc.str.strip()=='Interest rate (rc)']['val'].values)\n",
    "GDP=float(mom[mom.desc.str.strip()=='GDP(yc + yn + p*Eys - Ex)']['val'].values)\n",
    "taup=float(tax[tax.index.str.strip()=='Profits tax']['val'].values)\n",
    "rs=rc*(1-taup)\n",
    "delta=float(cal[cal.index.str.strip()=='Fixed asset depreciation']['val'].values)"
   ]
  },
  {
   "cell_type": "code",
   "execution_count": 14,
   "metadata": {},
   "outputs": [],
   "source": [
    "data=uploadData(path_baseline,w,rs,rc,p,delta)"
   ]
  },
  {
   "cell_type": "markdown",
   "metadata": {},
   "source": [
    "## GDP\n",
    "We normalize several things in the paper by GDP"
   ]
  },
  {
   "cell_type": "code",
   "execution_count": 15,
   "metadata": {},
   "outputs": [
    {
     "name": "stdout",
     "output_type": "stream",
     "text": [
      "3.0955824458731653\n"
     ]
    }
   ],
   "source": [
    "print(GDP)"
   ]
  },
  {
   "cell_type": "markdown",
   "metadata": {},
   "source": [
    "## Aggregate markups\n",
    "Agg markups  is defined as  sum of business incomes in passthrus / sum rental and wage expenses in pass thrus "
   ]
  },
  {
   "cell_type": "code",
   "execution_count": 16,
   "metadata": {},
   "outputs": [
    {
     "name": "stdout",
     "output_type": "stream",
     "text": [
      "38.62891152584405\n"
     ]
    }
   ],
   "source": [
    "print(100*data.bus_inc.sum()/data.cogs.sum())"
   ]
  },
  {
   "cell_type": "markdown",
   "metadata": {},
   "source": [
    "## Aggregate profitability\n",
    "Agg profitability is defined as  sum of business incomes in passthrus / sum of physical capital used in pass thrus "
   ]
  },
  {
   "cell_type": "code",
   "execution_count": 17,
   "metadata": {},
   "outputs": [
    {
     "name": "stdout",
     "output_type": "stream",
     "text": [
      "7.902559038317037\n"
     ]
    }
   ],
   "source": [
    "print(100*data.bus_inc.sum()/data.ks.sum())"
   ]
  },
  {
   "cell_type": "markdown",
   "metadata": {},
   "source": [
    "## National Accounts"
   ]
  },
  {
   "cell_type": "markdown",
   "metadata": {},
   "source": [
    "### income share"
   ]
  },
  {
   "cell_type": "code",
   "execution_count": 18,
   "metadata": {},
   "outputs": [
    {
     "name": "stdout",
     "output_type": "stream",
     "text": [
      " Business Income                              0.736\n",
      " Sweat labor income                           0.087\n",
      " Non-sweat labor income                       0.331\n",
      " Non-sweat labor income C corporations        0.222\n",
      " Non-sweat labor income pass through business 0.109\n",
      " Non-sweat capital income                     0.318\n",
      " Non-sweat capital income rents               0.189\n",
      " Non-sweat capital income depreciation        0.129\n",
      " Non-business Income                          0.264\n"
     ]
    }
   ],
   "source": [
    "print(pd.read_csv(path_table + 'income_shares.csv').to_string(header=None,index=None))"
   ]
  },
  {
   "cell_type": "markdown",
   "metadata": {},
   "source": [
    "### product share"
   ]
  },
  {
   "cell_type": "code",
   "execution_count": 19,
   "metadata": {},
   "outputs": [
    {
     "name": "stdout",
     "output_type": "stream",
     "text": [
      " Private Consumption                        0.566\n",
      " Government Consumption                     0.132\n",
      " Business Investments C corporations        0.125\n",
      " Business Investments pass through business 0.067\n",
      " Non-business Investments                   0.109\n"
     ]
    }
   ],
   "source": [
    "print(pd.read_csv(path_table + 'product_shares.csv').to_string(header=None,index=None))"
   ]
  },
  {
   "cell_type": "markdown",
   "metadata": {},
   "source": [
    "## Sweat equity by GDP"
   ]
  },
  {
   "cell_type": "code",
   "execution_count": 20,
   "metadata": {},
   "outputs": [
    {
     "name": "stdout",
     "output_type": "stream",
     "text": [
      "0  discounted by beta_tilde 1.012\n",
      "1  discounted by owner SDF  0.896\n"
     ]
    }
   ],
   "source": [
    "print(pd.read_csv(path_table + 'sweat_equity_div_gdp.csv').to_string(header=None))"
   ]
  },
  {
   "cell_type": "markdown",
   "metadata": {},
   "source": [
    "# Age profiles"
   ]
  },
  {
   "cell_type": "markdown",
   "metadata": {},
   "source": [
    "## distribution by age"
   ]
  },
  {
   "cell_type": "code",
   "execution_count": 21,
   "metadata": {},
   "outputs": [
    {
     "name": "stdout",
     "output_type": "stream",
     "text": [
      "0    11.756\n",
      "1    9.310 \n",
      "2    7.856 \n",
      "3    6.899 \n",
      "4    6.094 \n",
      "5    5.227 \n",
      "6    4.715 \n",
      "7    4.285 \n",
      "8    3.950 \n",
      "9    3.324 \n",
      "10   3.091 \n",
      "11   2.633 \n",
      "12   2.571 \n",
      "13   2.280 \n",
      "14   2.117 \n",
      "15   1.938 \n",
      "16   1.678 \n",
      "17   1.612 \n",
      "18   1.491 \n",
      "19   1.456 \n",
      "20   1.119 \n",
      "21   1.032 \n",
      "22   1.009 \n",
      "23   0.948 \n",
      "24   0.867 \n",
      "25   0.792 \n",
      "26   0.776 \n",
      "27   0.678 \n",
      "28   0.620 \n",
      "29   0.566 \n",
      "30   0.520 \n",
      "31   0.478 \n",
      "32   0.404 \n",
      "33   0.395 \n",
      "34   0.360 \n",
      "35   0.333 \n",
      "36   0.343 \n",
      "37   0.327 \n",
      "38   0.310 \n",
      "39   0.225 \n",
      "40   0.223 \n"
     ]
    }
   ],
   "source": [
    "df = pd.read_csv(path_table + 'started_n_periods_ago.csv')\n",
    "print((100*df[df['N periods ago'] <= 40].set_index('N periods ago').iloc[:,0]).to_string(header=None))"
   ]
  },
  {
   "cell_type": "markdown",
   "metadata": {},
   "source": [
    "## sweat capital by age"
   ]
  },
  {
   "cell_type": "code",
   "execution_count": 22,
   "metadata": {},
   "outputs": [
    {
     "data": {
      "text/plain": [
       "<matplotlib.axes._subplots.AxesSubplot at 0x7f3f2723e400>"
      ]
     },
     "execution_count": 22,
     "metadata": {},
     "output_type": "execute_result"
    },
    {
     "name": "stdout",
     "output_type": "stream",
     "text": [
      "              sind_age  kappa\n",
      "bin_sind_age                 \n",
      "0.000        0.000     0.318 \n",
      "1.000        1.000     0.423 \n",
      "2.000        2.000     0.463 \n",
      "3.000        3.000     0.496 \n",
      "4.000        4.000     0.523 \n",
      "5.000        5.918     0.530 \n",
      "6.000        8.909     0.502 \n",
      "7.000        11.452    0.479 \n",
      "8.000        13.937    0.450 \n",
      "9.000        19.690    0.365 \n",
      "10.000       27.815    0.283 \n",
      "11.000       32.825    0.255 \n",
      "12.000       37.830    0.180 \n",
      "13.000       42.991    0.156 \n",
      "14.000       47.860    0.126 \n",
      "15.000       52.746    0.150 \n",
      "16.000       57.699    0.098 \n",
      "17.000       68.035    0.084 \n",
      "18.000       93.048    0.033 \n"
     ]
    },
    {
     "data": {
      "image/png": "[encoded data removed]",
      "text/plain": [
       "<Figure size 432x288 with 1 Axes>"
      ]
     },
     "metadata": {
      "needs_background": "light"
     },
     "output_type": "display_data"
    }
   ],
   "source": [
    "sel=(~data['flagC'] )\n",
    "var_bin = 'sind_age'\n",
    "varlist=['kappa','intan_int','ret_sdf','div_yld_sdf','measured_markups','val_sdf','a','wealth_sdf','s_age','sind_age','ind_age','ztilde_meas','ztilde','bus_inc','hy','hkap','n_e','ns','ks','R','x']\n",
    "bins=[-1,0,1,2,3,4,7,10, 12,15,25,30,35,40,45,50,55,60,80,500 ]\n",
    "data['bin_' + var_bin] = pd.cut(data[var_bin], bins, labels = False)     \n",
    "mean_baseline=data[sel].groupby('bin_' + var_bin).mean()[varlist]\n",
    "count_baseline=data[sel].groupby('bin_' + var_bin).count()[varlist]\n",
    "mean_baseline[['sind_age','kappa']].plot(x='sind_age',y='kappa')\n",
    "mean_baseline[['sind_age','kappa']].to_csv('sind_kappa.csv')\n",
    "print(mean_baseline[['sind_age','kappa']])"
   ]
  },
  {
   "cell_type": "markdown",
   "metadata": {},
   "source": [
    "## Regression of $\\log V_{\\kappa}$ on $age,age^2$: Pratts"
   ]
  },
  {
   "cell_type": "code",
   "execution_count": 23,
   "metadata": {},
   "outputs": [
    {
     "data": {
      "text/plain": [
       "24"
      ]
     },
     "execution_count": 23,
     "metadata": {},
     "output_type": "execute_result"
    },
    {
     "data": {
      "text/html": [
       "<table class=\"simpletable\">\n",
       "<caption>OLS Regression Results</caption>\n",
       "<tr>\n",
       "  <th>Dep. Variable:</th>    <td>TotalIntangiblesPPA</td> <th>  R-squared:         </th> <td>   0.228</td> \n",
       "</tr>\n",
       "<tr>\n",
       "  <th>Model:</th>                    <td>OLS</td>         <th>  Adj. R-squared:    </th> <td>   0.223</td> \n",
       "</tr>\n",
       "<tr>\n",
       "  <th>Method:</th>              <td>Least Squares</td>    <th>  F-statistic:       </th> <td>   45.30</td> \n",
       "</tr>\n",
       "<tr>\n",
       "  <th>Date:</th>              <td>Mon, 15 Jun 2020</td>   <th>  Prob (F-statistic):</th>  <td>  0.00</td>  \n",
       "</tr>\n",
       "<tr>\n",
       "  <th>Time:</th>                  <td>13:07:22</td>       <th>  Log-Likelihood:    </th> <td> -13411.</td> \n",
       "</tr>\n",
       "<tr>\n",
       "  <th>No. Observations:</th>       <td>  6943</td>        <th>  AIC:               </th> <td>2.691e+04</td>\n",
       "</tr>\n",
       "<tr>\n",
       "  <th>Df Residuals:</th>           <td>  6897</td>        <th>  BIC:               </th> <td>2.723e+04</td>\n",
       "</tr>\n",
       "<tr>\n",
       "  <th>Df Model:</th>               <td>    45</td>        <th>                     </th>     <td> </td>    \n",
       "</tr>\n",
       "<tr>\n",
       "  <th>Covariance Type:</th>       <td>nonrobust</td>      <th>                     </th>     <td> </td>    \n",
       "</tr>\n",
       "</table>\n",
       "<table class=\"simpletable\">\n",
       "<tr>\n",
       "             <td></td>               <th>coef</th>     <th>std err</th>      <th>t</th>      <th>P>|t|</th>  <th>[0.025</th>    <th>0.975]</th>  \n",
       "</tr>\n",
       "<tr>\n",
       "  <th>const</th>                  <td>   11.5470</td> <td>    1.145</td> <td>   10.084</td> <td> 0.000</td> <td>    9.302</td> <td>   13.792</td>\n",
       "</tr>\n",
       "<tr>\n",
       "  <th>TargetAge</th>              <td>    0.0183</td> <td>    0.002</td> <td>    8.629</td> <td> 0.000</td> <td>    0.014</td> <td>    0.022</td>\n",
       "</tr>\n",
       "<tr>\n",
       "  <th>TargetAge2</th>             <td> -4.99e-05</td> <td> 1.46e-05</td> <td>   -3.413</td> <td> 0.001</td> <td>-7.86e-05</td> <td>-2.12e-05</td>\n",
       "</tr>\n",
       "<tr>\n",
       "  <th>nacis_code_cat[11, 21)</th> <td>   -0.4594</td> <td>    1.285</td> <td>   -0.357</td> <td> 0.721</td> <td>   -2.979</td> <td>    2.060</td>\n",
       "</tr>\n",
       "<tr>\n",
       "  <th>nacis_code_cat[21, 22)</th> <td>    3.1797</td> <td>    1.294</td> <td>    2.458</td> <td> 0.014</td> <td>    0.644</td> <td>    5.716</td>\n",
       "</tr>\n",
       "<tr>\n",
       "  <th>nacis_code_cat[22, 23)</th> <td>   -0.5650</td> <td>    1.349</td> <td>   -0.419</td> <td> 0.675</td> <td>   -3.209</td> <td>    2.079</td>\n",
       "</tr>\n",
       "<tr>\n",
       "  <th>nacis_code_cat[23, 24)</th> <td>   -0.1541</td> <td>    1.194</td> <td>   -0.129</td> <td> 0.897</td> <td>   -2.494</td> <td>    2.186</td>\n",
       "</tr>\n",
       "<tr>\n",
       "  <th>nacis_code_cat[24, 31)</th> <td>-6.894e-15</td> <td> 1.01e-14</td> <td>   -0.686</td> <td> 0.493</td> <td>-2.66e-14</td> <td> 1.28e-14</td>\n",
       "</tr>\n",
       "<tr>\n",
       "  <th>nacis_code_cat[31, 35)</th> <td>    0.2924</td> <td>    1.192</td> <td>    0.245</td> <td> 0.806</td> <td>   -2.044</td> <td>    2.629</td>\n",
       "</tr>\n",
       "<tr>\n",
       "  <th>nacis_code_cat[35, 42)</th> <td>-1.458e-14</td> <td>  3.9e-14</td> <td>   -0.373</td> <td> 0.709</td> <td>-9.11e-14</td> <td> 6.19e-14</td>\n",
       "</tr>\n",
       "<tr>\n",
       "  <th>nacis_code_cat[42, 44)</th> <td>   -1.7597</td> <td>    1.286</td> <td>   -1.369</td> <td> 0.171</td> <td>   -4.280</td> <td>    0.761</td>\n",
       "</tr>\n",
       "<tr>\n",
       "  <th>nacis_code_cat[44, 46)</th> <td>   -1.0531</td> <td>    1.191</td> <td>   -0.884</td> <td> 0.377</td> <td>   -3.388</td> <td>    1.281</td>\n",
       "</tr>\n",
       "<tr>\n",
       "  <th>nacis_code_cat[46, 48)</th> <td>-1.401e-14</td> <td> 1.87e-14</td> <td>   -0.751</td> <td> 0.453</td> <td>-5.06e-14</td> <td> 2.26e-14</td>\n",
       "</tr>\n",
       "<tr>\n",
       "  <th>nacis_code_cat[48, 50)</th> <td>   -0.6359</td> <td>    1.194</td> <td>   -0.533</td> <td> 0.594</td> <td>   -2.977</td> <td>    1.705</td>\n",
       "</tr>\n",
       "<tr>\n",
       "  <th>nacis_code_cat[50, 51)</th> <td> 4.997e-15</td> <td> 7.13e-15</td> <td>    0.701</td> <td> 0.484</td> <td>-8.98e-15</td> <td>  1.9e-14</td>\n",
       "</tr>\n",
       "<tr>\n",
       "  <th>nacis_code_cat[51, 52)</th> <td>    1.9595</td> <td>    1.198</td> <td>    1.636</td> <td> 0.102</td> <td>   -0.388</td> <td>    4.307</td>\n",
       "</tr>\n",
       "<tr>\n",
       "  <th>nacis_code_cat[52, 53)</th> <td>    0.4310</td> <td>    1.199</td> <td>    0.360</td> <td> 0.719</td> <td>   -1.919</td> <td>    2.781</td>\n",
       "</tr>\n",
       "<tr>\n",
       "  <th>nacis_code_cat[53, 54)</th> <td>   -0.5248</td> <td>    1.196</td> <td>   -0.439</td> <td> 0.661</td> <td>   -2.870</td> <td>    1.820</td>\n",
       "</tr>\n",
       "<tr>\n",
       "  <th>nacis_code_cat[54, 55)</th> <td>    0.3950</td> <td>    1.193</td> <td>    0.331</td> <td> 0.741</td> <td>   -1.944</td> <td>    2.734</td>\n",
       "</tr>\n",
       "<tr>\n",
       "  <th>nacis_code_cat[55, 56)</th> <td>    5.4398</td> <td>    1.407</td> <td>    3.866</td> <td> 0.000</td> <td>    2.681</td> <td>    8.198</td>\n",
       "</tr>\n",
       "<tr>\n",
       "  <th>nacis_code_cat[56, 61)</th> <td>   -0.8055</td> <td>    1.192</td> <td>   -0.676</td> <td> 0.499</td> <td>   -3.141</td> <td>    1.530</td>\n",
       "</tr>\n",
       "<tr>\n",
       "  <th>nacis_code_cat[61, 62)</th> <td>   -1.0929</td> <td>    1.205</td> <td>   -0.907</td> <td> 0.364</td> <td>   -3.455</td> <td>    1.269</td>\n",
       "</tr>\n",
       "<tr>\n",
       "  <th>nacis_code_cat[62, 71)</th> <td>   -0.5618</td> <td>    1.194</td> <td>   -0.471</td> <td> 0.638</td> <td>   -2.902</td> <td>    1.778</td>\n",
       "</tr>\n",
       "<tr>\n",
       "  <th>nacis_code_cat[71, 72)</th> <td>   -1.2780</td> <td>    1.201</td> <td>   -1.064</td> <td> 0.287</td> <td>   -3.632</td> <td>    1.076</td>\n",
       "</tr>\n",
       "<tr>\n",
       "  <th>nacis_code_cat[72, 81)</th> <td>   -1.5446</td> <td>    1.191</td> <td>   -1.297</td> <td> 0.195</td> <td>   -3.879</td> <td>    0.790</td>\n",
       "</tr>\n",
       "<tr>\n",
       "  <th>nacis_code_cat[81, 83)</th> <td>   -1.6104</td> <td>    1.191</td> <td>   -1.352</td> <td> 0.176</td> <td>   -3.946</td> <td>    0.725</td>\n",
       "</tr>\n",
       "<tr>\n",
       "  <th>nacis_code_cat[83, 92)</th> <td> 3.713e-15</td> <td> 1.25e-14</td> <td>    0.298</td> <td> 0.766</td> <td>-2.07e-14</td> <td> 2.82e-14</td>\n",
       "</tr>\n",
       "<tr>\n",
       "  <th>year1990</th>               <td>-1.387e-14</td> <td> 2.27e-14</td> <td>   -0.612</td> <td> 0.540</td> <td>-5.83e-14</td> <td> 3.05e-14</td>\n",
       "</tr>\n",
       "<tr>\n",
       "  <th>year1991</th>               <td>-9.191e-15</td> <td> 8.71e-15</td> <td>   -1.055</td> <td> 0.291</td> <td>-2.63e-14</td> <td> 7.88e-15</td>\n",
       "</tr>\n",
       "<tr>\n",
       "  <th>year1992</th>               <td>-1.186e-14</td> <td> 8.03e-15</td> <td>   -1.477</td> <td> 0.140</td> <td>-2.76e-14</td> <td> 3.88e-15</td>\n",
       "</tr>\n",
       "<tr>\n",
       "  <th>year1993</th>               <td>   -1.1647</td> <td>    1.142</td> <td>   -1.020</td> <td> 0.308</td> <td>   -3.403</td> <td>    1.074</td>\n",
       "</tr>\n",
       "<tr>\n",
       "  <th>year1994</th>               <td>    0.0515</td> <td>    0.662</td> <td>    0.078</td> <td> 0.938</td> <td>   -1.247</td> <td>    1.350</td>\n",
       "</tr>\n",
       "<tr>\n",
       "  <th>year1995</th>               <td>   -0.1088</td> <td>    0.454</td> <td>   -0.239</td> <td> 0.811</td> <td>   -1.000</td> <td>    0.782</td>\n",
       "</tr>\n",
       "<tr>\n",
       "  <th>year1996</th>               <td>    0.1736</td> <td>    0.332</td> <td>    0.523</td> <td> 0.601</td> <td>   -0.477</td> <td>    0.824</td>\n",
       "</tr>\n",
       "<tr>\n",
       "  <th>year1997</th>               <td>    0.1796</td> <td>    0.264</td> <td>    0.681</td> <td> 0.496</td> <td>   -0.338</td> <td>    0.697</td>\n",
       "</tr>\n",
       "<tr>\n",
       "  <th>year1998</th>               <td>    0.3877</td> <td>    0.184</td> <td>    2.103</td> <td> 0.035</td> <td>    0.026</td> <td>    0.749</td>\n",
       "</tr>\n",
       "<tr>\n",
       "  <th>year1999</th>               <td>    0.2742</td> <td>    0.171</td> <td>    1.599</td> <td> 0.110</td> <td>   -0.062</td> <td>    0.610</td>\n",
       "</tr>\n",
       "<tr>\n",
       "  <th>year2000</th>               <td>    0.5887</td> <td>    0.174</td> <td>    3.386</td> <td> 0.001</td> <td>    0.248</td> <td>    0.930</td>\n",
       "</tr>\n",
       "<tr>\n",
       "  <th>year2001</th>               <td>    0.0710</td> <td>    0.165</td> <td>    0.430</td> <td> 0.667</td> <td>   -0.253</td> <td>    0.395</td>\n",
       "</tr>\n",
       "<tr>\n",
       "  <th>year2002</th>               <td>    0.3106</td> <td>    0.150</td> <td>    2.068</td> <td> 0.039</td> <td>    0.016</td> <td>    0.605</td>\n",
       "</tr>\n",
       "<tr>\n",
       "  <th>year2003</th>               <td>    0.2908</td> <td>    0.152</td> <td>    1.917</td> <td> 0.055</td> <td>   -0.007</td> <td>    0.588</td>\n",
       "</tr>\n",
       "<tr>\n",
       "  <th>year2004</th>               <td>    0.3179</td> <td>    0.144</td> <td>    2.213</td> <td> 0.027</td> <td>    0.036</td> <td>    0.600</td>\n",
       "</tr>\n",
       "<tr>\n",
       "  <th>year2005</th>               <td>    0.9144</td> <td>    0.137</td> <td>    6.660</td> <td> 0.000</td> <td>    0.645</td> <td>    1.184</td>\n",
       "</tr>\n",
       "<tr>\n",
       "  <th>year2006</th>               <td>    0.7611</td> <td>    0.124</td> <td>    6.127</td> <td> 0.000</td> <td>    0.518</td> <td>    1.005</td>\n",
       "</tr>\n",
       "<tr>\n",
       "  <th>year2007</th>               <td>    0.8835</td> <td>    0.118</td> <td>    7.489</td> <td> 0.000</td> <td>    0.652</td> <td>    1.115</td>\n",
       "</tr>\n",
       "<tr>\n",
       "  <th>year2008</th>               <td>    0.7802</td> <td>    0.110</td> <td>    7.093</td> <td> 0.000</td> <td>    0.565</td> <td>    0.996</td>\n",
       "</tr>\n",
       "<tr>\n",
       "  <th>year2009</th>               <td>    0.4965</td> <td>    0.105</td> <td>    4.751</td> <td> 0.000</td> <td>    0.292</td> <td>    0.701</td>\n",
       "</tr>\n",
       "<tr>\n",
       "  <th>year2010</th>               <td>    0.5255</td> <td>    0.103</td> <td>    5.093</td> <td> 0.000</td> <td>    0.323</td> <td>    0.728</td>\n",
       "</tr>\n",
       "<tr>\n",
       "  <th>year2011</th>               <td>    0.5614</td> <td>    0.102</td> <td>    5.521</td> <td> 0.000</td> <td>    0.362</td> <td>    0.761</td>\n",
       "</tr>\n",
       "<tr>\n",
       "  <th>year2012</th>               <td>    0.6878</td> <td>    0.102</td> <td>    6.747</td> <td> 0.000</td> <td>    0.488</td> <td>    0.888</td>\n",
       "</tr>\n",
       "<tr>\n",
       "  <th>year2013</th>               <td>    0.8902</td> <td>    0.104</td> <td>    8.568</td> <td> 0.000</td> <td>    0.687</td> <td>    1.094</td>\n",
       "</tr>\n",
       "<tr>\n",
       "  <th>year2014</th>               <td>    1.0386</td> <td>    0.103</td> <td>   10.080</td> <td> 0.000</td> <td>    0.837</td> <td>    1.241</td>\n",
       "</tr>\n",
       "<tr>\n",
       "  <th>year2015</th>               <td>    1.0080</td> <td>    0.102</td> <td>    9.842</td> <td> 0.000</td> <td>    0.807</td> <td>    1.209</td>\n",
       "</tr>\n",
       "<tr>\n",
       "  <th>year2016</th>               <td>    0.9196</td> <td>    0.102</td> <td>    9.012</td> <td> 0.000</td> <td>    0.720</td> <td>    1.120</td>\n",
       "</tr>\n",
       "<tr>\n",
       "  <th>year2017</th>               <td>    0.7077</td> <td>    0.137</td> <td>    5.152</td> <td> 0.000</td> <td>    0.438</td> <td>    0.977</td>\n",
       "</tr>\n",
       "</table>\n",
       "<table class=\"simpletable\">\n",
       "<tr>\n",
       "  <th>Omnibus:</th>       <td>623.299</td> <th>  Durbin-Watson:     </th> <td>   1.631</td>\n",
       "</tr>\n",
       "<tr>\n",
       "  <th>Prob(Omnibus):</th> <td> 0.000</td>  <th>  Jarque-Bera (JB):  </th> <td>2654.069</td>\n",
       "</tr>\n",
       "<tr>\n",
       "  <th>Skew:</th>          <td> 0.356</td>  <th>  Prob(JB):          </th> <td>    0.00</td>\n",
       "</tr>\n",
       "<tr>\n",
       "  <th>Kurtosis:</th>      <td> 5.944</td>  <th>  Cond. No.          </th> <td>1.03e+16</td>\n",
       "</tr>\n",
       "</table><br/><br/>Warnings:<br/>[1] Standard Errors assume that the covariance matrix of the errors is correctly specified.<br/>[2] The smallest eigenvalue is 2.73e-22. This might indicate that there are<br/>strong multicollinearity problems or that the design matrix is singular."
      ],
      "text/plain": [
       "<class 'statsmodels.iolib.summary.Summary'>\n",
       "\"\"\"\n",
       "                             OLS Regression Results                            \n",
       "===============================================================================\n",
       "Dep. Variable:     TotalIntangiblesPPA   R-squared:                       0.228\n",
       "Model:                             OLS   Adj. R-squared:                  0.223\n",
       "Method:                  Least Squares   F-statistic:                     45.30\n",
       "Date:                 Mon, 15 Jun 2020   Prob (F-statistic):               0.00\n",
       "Time:                         13:07:22   Log-Likelihood:                -13411.\n",
       "No. Observations:                 6943   AIC:                         2.691e+04\n",
       "Df Residuals:                     6897   BIC:                         2.723e+04\n",
       "Df Model:                           45                                         \n",
       "Covariance Type:             nonrobust                                         \n",
       "==========================================================================================\n",
       "                             coef    std err          t      P>|t|      [0.025      0.975]\n",
       "------------------------------------------------------------------------------------------\n",
       "const                     11.5470      1.145     10.084      0.000       9.302      13.792\n",
       "TargetAge                  0.0183      0.002      8.629      0.000       0.014       0.022\n",
       "TargetAge2              -4.99e-05   1.46e-05     -3.413      0.001   -7.86e-05   -2.12e-05\n",
       "nacis_code_cat[11, 21)    -0.4594      1.285     -0.357      0.721      -2.979       2.060\n",
       "nacis_code_cat[21, 22)     3.1797      1.294      2.458      0.014       0.644       5.716\n",
       "nacis_code_cat[22, 23)    -0.5650      1.349     -0.419      0.675      -3.209       2.079\n",
       "nacis_code_cat[23, 24)    -0.1541      1.194     -0.129      0.897      -2.494       2.186\n",
       "nacis_code_cat[24, 31) -6.894e-15   1.01e-14     -0.686      0.493   -2.66e-14    1.28e-14\n",
       "nacis_code_cat[31, 35)     0.2924      1.192      0.245      0.806      -2.044       2.629\n",
       "nacis_code_cat[35, 42) -1.458e-14    3.9e-14     -0.373      0.709   -9.11e-14    6.19e-14\n",
       "nacis_code_cat[42, 44)    -1.7597      1.286     -1.369      0.171      -4.280       0.761\n",
       "nacis_code_cat[44, 46)    -1.0531      1.191     -0.884      0.377      -3.388       1.281\n",
       "nacis_code_cat[46, 48) -1.401e-14   1.87e-14     -0.751      0.453   -5.06e-14    2.26e-14\n",
       "nacis_code_cat[48, 50)    -0.6359      1.194     -0.533      0.594      -2.977       1.705\n",
       "nacis_code_cat[50, 51)  4.997e-15   7.13e-15      0.701      0.484   -8.98e-15     1.9e-14\n",
       "nacis_code_cat[51, 52)     1.9595      1.198      1.636      0.102      -0.388       4.307\n",
       "nacis_code_cat[52, 53)     0.4310      1.199      0.360      0.719      -1.919       2.781\n",
       "nacis_code_cat[53, 54)    -0.5248      1.196     -0.439      0.661      -2.870       1.820\n",
       "nacis_code_cat[54, 55)     0.3950      1.193      0.331      0.741      -1.944       2.734\n",
       "nacis_code_cat[55, 56)     5.4398      1.407      3.866      0.000       2.681       8.198\n",
       "nacis_code_cat[56, 61)    -0.8055      1.192     -0.676      0.499      -3.141       1.530\n",
       "nacis_code_cat[61, 62)    -1.0929      1.205     -0.907      0.364      -3.455       1.269\n",
       "nacis_code_cat[62, 71)    -0.5618      1.194     -0.471      0.638      -2.902       1.778\n",
       "nacis_code_cat[71, 72)    -1.2780      1.201     -1.064      0.287      -3.632       1.076\n",
       "nacis_code_cat[72, 81)    -1.5446      1.191     -1.297      0.195      -3.879       0.790\n",
       "nacis_code_cat[81, 83)    -1.6104      1.191     -1.352      0.176      -3.946       0.725\n",
       "nacis_code_cat[83, 92)  3.713e-15   1.25e-14      0.298      0.766   -2.07e-14    2.82e-14\n",
       "year1990               -1.387e-14   2.27e-14     -0.612      0.540   -5.83e-14    3.05e-14\n",
       "year1991               -9.191e-15   8.71e-15     -1.055      0.291   -2.63e-14    7.88e-15\n",
       "year1992               -1.186e-14   8.03e-15     -1.477      0.140   -2.76e-14    3.88e-15\n",
       "year1993                  -1.1647      1.142     -1.020      0.308      -3.403       1.074\n",
       "year1994                   0.0515      0.662      0.078      0.938      -1.247       1.350\n",
       "year1995                  -0.1088      0.454     -0.239      0.811      -1.000       0.782\n",
       "year1996                   0.1736      0.332      0.523      0.601      -0.477       0.824\n",
       "year1997                   0.1796      0.264      0.681      0.496      -0.338       0.697\n",
       "year1998                   0.3877      0.184      2.103      0.035       0.026       0.749\n",
       "year1999                   0.2742      0.171      1.599      0.110      -0.062       0.610\n",
       "year2000                   0.5887      0.174      3.386      0.001       0.248       0.930\n",
       "year2001                   0.0710      0.165      0.430      0.667      -0.253       0.395\n",
       "year2002                   0.3106      0.150      2.068      0.039       0.016       0.605\n",
       "year2003                   0.2908      0.152      1.917      0.055      -0.007       0.588\n",
       "year2004                   0.3179      0.144      2.213      0.027       0.036       0.600\n",
       "year2005                   0.9144      0.137      6.660      0.000       0.645       1.184\n",
       "year2006                   0.7611      0.124      6.127      0.000       0.518       1.005\n",
       "year2007                   0.8835      0.118      7.489      0.000       0.652       1.115\n",
       "year2008                   0.7802      0.110      7.093      0.000       0.565       0.996\n",
       "year2009                   0.4965      0.105      4.751      0.000       0.292       0.701\n",
       "year2010                   0.5255      0.103      5.093      0.000       0.323       0.728\n",
       "year2011                   0.5614      0.102      5.521      0.000       0.362       0.761\n",
       "year2012                   0.6878      0.102      6.747      0.000       0.488       0.888\n",
       "year2013                   0.8902      0.104      8.568      0.000       0.687       1.094\n",
       "year2014                   1.0386      0.103     10.080      0.000       0.837       1.241\n",
       "year2015                   1.0080      0.102      9.842      0.000       0.807       1.209\n",
       "year2016                   0.9196      0.102      9.012      0.000       0.720       1.120\n",
       "year2017                   0.7077      0.137      5.152      0.000       0.438       0.977\n",
       "==============================================================================\n",
       "Omnibus:                      623.299   Durbin-Watson:                   1.631\n",
       "Prob(Omnibus):                  0.000   Jarque-Bera (JB):             2654.069\n",
       "Skew:                           0.356   Prob(JB):                         0.00\n",
       "Kurtosis:                       5.944   Cond. No.                     1.03e+16\n",
       "==============================================================================\n",
       "\n",
       "Warnings:\n",
       "[1] Standard Errors assume that the covariance matrix of the errors is correctly specified.\n",
       "[2] The smallest eigenvalue is 2.73e-22. This might indicate that there are\n",
       "strong multicollinearity problems or that the design matrix is singular.\n",
       "\"\"\""
      ]
     },
     "execution_count": 23,
     "metadata": {},
     "output_type": "execute_result"
    }
   ],
   "source": [
    "prattsdata=pd.read_csv('prattsdatabase.csv',encoding='latin-1')    \n",
    "prattsdata['TargetAge2']=prattsdata['TargetAge']**2\n",
    "\n",
    "prattsdata['TargetStructureAlt']=prattsdata['TargetStructure'].values\n",
    "sel=prattsdata['TargetStructure'].isin(['Partnership', 'Limited Partnership', 'LLP'])\n",
    "prattsdata.loc[sel,'TargetStructureAlt']='Partnership'\n",
    "sel=prattsdata['TargetStructure'].isin(['Consolidated', 'UK Corporation', 'PC','Non-Profit','Ltd','Limited Corporation'])\n",
    "prattsdata.loc[sel,'TargetStructureAlt']='Others'\n",
    "sel=prattsdata['TargetStructure'].isin(['C corporation'])\n",
    "prattsdata.loc[sel,'TargetStructureAlt']='C Corporation'\n",
    "\n",
    "naics_labels=['Agriculture, Forestry, Fishing and Hunting',\\\n",
    "        'Mining, Quarrying, and Oil and Gas Extraction',\\\n",
    "        'Utilities',\\\n",
    "        'Construction',\\\n",
    "        'NA1',\\\n",
    "        'Manufacturing',\\\n",
    "        'NA2',\\\n",
    "        'Wholesale Trade',\\\n",
    "        'Retail Trade',\\\n",
    "        'NA3',\\\n",
    "        'Transportation and Warehousing',\\\n",
    "        'NA4',\\\n",
    "        'Information',\\\n",
    "        'Finance and Insurance',\\\n",
    "        'Real Estate and Rental and Leasing',\\\n",
    "        'Professional, Scientific, and Technical Services',\\\n",
    "        'Management of Companies and Enterprises',\\\n",
    "        'Administrative and Support and Waste Management and Remediation Services'\\\n",
    "        'NA5',\\\n",
    "        'Educational Services',\\\n",
    "        'Health Care and Social Assistance',\\\n",
    "        'Arts, Entertainment, and Recreation',\\\n",
    "        'Accommodation and Food Service',\\\n",
    "        'Other Services','Public administration']\n",
    "\n",
    "len(naics_labels)\n",
    "\n",
    "naics_code=[11,21,22,23,24,31,35,42,44,46,48,50,51,52,53,54,55,56,61,62,71,72,81,83,92]\n",
    "n=24\n",
    "\n",
    "\n",
    "#naics_labels=['Ag. Mining and Utilities',\\\n",
    "#        'Consts and Mfg',\\\n",
    "#        'Trade and warehousing',\\\n",
    "#        'Information and FIRE',\\\n",
    "#        'RE',\\\n",
    "#        'Professional services',\\\n",
    "#        'Nonprof services']\n",
    "\n",
    "#naics_code=[11,23,42,51,53,54,57,92]\n",
    "\n",
    "prattsdata['naics_label']=pd.cut(prattsdata['TargetNAICS1']/10**10,naics_code[:n+1],labels=naics_labels[:n],include_lowest=True,right=False)\n",
    "prattsdata['naics_code_cat']=pd.cut(prattsdata['TargetNAICS1']/10**10,naics_code[:n+1],include_lowest=True,right=False)\n",
    "prattsdata['naics_2d']=pd.cut(prattsdata['TargetNAICS1']/10**10,naics_code[:n+1],labels=naics_code[:n],include_lowest=True,right=False)\n",
    "\n",
    "prattsdata['year'] = prattsdata['SaleDate'].str[-4:]\n",
    "prattsdata['year']=prattsdata['year'].astype(int)\n",
    "\n",
    "\n",
    "\n",
    "import statsmodels.api as sm\n",
    "\n",
    "dummies1 = pd.get_dummies(prattsdata['naics_code_cat']).rename(columns=lambda x: 'nacis_code_cat' + str(x))\n",
    "dummies2 = pd.get_dummies(prattsdata['year']).rename(columns=lambda x: 'year' + str(x))\n",
    "X = pd.concat([prattsdata[['TargetAge','TargetAge2']],dummies1,dummies2],axis=1)\n",
    "Y=np.log(prattsdata.TotalIntangiblesPPA)\n",
    "X = sm.add_constant(X)\n",
    "selection=(pd.notnull(prattsdata.TargetAge)) & (prattsdata.TotalIntangiblesPPA>0)& ~(prattsdata.TargetStructureAlt=='C Corporation')& ~(prattsdata.TargetStructureAlt=='LLC')\n",
    "model11 = sm.OLS(Y[selection], X[selection]).fit()\n",
    "model11.summary()"
   ]
  },
  {
   "cell_type": "markdown",
   "metadata": {},
   "source": [
    "## Regression of $\\log V_{\\kappa}$ on $age,age^2$: Model"
   ]
  },
  {
   "cell_type": "code",
   "execution_count": 24,
   "metadata": {},
   "outputs": [
    {
     "data": {
      "text/html": [
       "<table class=\"simpletable\">\n",
       "<caption>OLS Regression Results</caption>\n",
       "<tr>\n",
       "  <th>Dep. Variable:</th>            <td>R</td>        <th>  R-squared:         </th> <td>   0.012</td> \n",
       "</tr>\n",
       "<tr>\n",
       "  <th>Model:</th>                   <td>OLS</td>       <th>  Adj. R-squared:    </th> <td>   0.012</td> \n",
       "</tr>\n",
       "<tr>\n",
       "  <th>Method:</th>             <td>Least Squares</td>  <th>  F-statistic:       </th> <td>   301.8</td> \n",
       "</tr>\n",
       "<tr>\n",
       "  <th>Date:</th>             <td>Mon, 15 Jun 2020</td> <th>  Prob (F-statistic):</th> <td>5.72e-131</td>\n",
       "</tr>\n",
       "<tr>\n",
       "  <th>Time:</th>                 <td>13:07:22</td>     <th>  Log-Likelihood:    </th> <td> -95768.</td> \n",
       "</tr>\n",
       "<tr>\n",
       "  <th>No. Observations:</th>      <td> 48079</td>      <th>  AIC:               </th> <td>1.915e+05</td>\n",
       "</tr>\n",
       "<tr>\n",
       "  <th>Df Residuals:</th>          <td> 48076</td>      <th>  BIC:               </th> <td>1.916e+05</td>\n",
       "</tr>\n",
       "<tr>\n",
       "  <th>Df Model:</th>              <td>     2</td>      <th>                     </th>     <td> </td>    \n",
       "</tr>\n",
       "<tr>\n",
       "  <th>Covariance Type:</th>      <td>nonrobust</td>    <th>                     </th>     <td> </td>    \n",
       "</tr>\n",
       "</table>\n",
       "<table class=\"simpletable\">\n",
       "<tr>\n",
       "      <td></td>         <th>coef</th>     <th>std err</th>      <th>t</th>      <th>P>|t|</th>  <th>[0.025</th>    <th>0.975]</th>  \n",
       "</tr>\n",
       "<tr>\n",
       "  <th>const</th>     <td>   -1.4373</td> <td>    0.012</td> <td> -116.908</td> <td> 0.000</td> <td>   -1.461</td> <td>   -1.413</td>\n",
       "</tr>\n",
       "<tr>\n",
       "  <th>sind_age</th>  <td>    0.0150</td> <td>    0.002</td> <td>    9.538</td> <td> 0.000</td> <td>    0.012</td> <td>    0.018</td>\n",
       "</tr>\n",
       "<tr>\n",
       "  <th>sind_age2</th> <td>   -0.0006</td> <td> 3.17e-05</td> <td>  -19.324</td> <td> 0.000</td> <td>   -0.001</td> <td>   -0.001</td>\n",
       "</tr>\n",
       "</table>\n",
       "<table class=\"simpletable\">\n",
       "<tr>\n",
       "  <th>Omnibus:</th>       <td>4708.120</td> <th>  Durbin-Watson:     </th> <td>   1.996</td>\n",
       "</tr>\n",
       "<tr>\n",
       "  <th>Prob(Omnibus):</th>  <td> 0.000</td>  <th>  Jarque-Bera (JB):  </th> <td>1526.124</td>\n",
       "</tr>\n",
       "<tr>\n",
       "  <th>Skew:</th>           <td> 0.147</td>  <th>  Prob(JB):          </th> <td>    0.00</td>\n",
       "</tr>\n",
       "<tr>\n",
       "  <th>Kurtosis:</th>       <td> 2.178</td>  <th>  Cond. No.          </th> <td>    854.</td>\n",
       "</tr>\n",
       "</table><br/><br/>Warnings:<br/>[1] Standard Errors assume that the covariance matrix of the errors is correctly specified."
      ],
      "text/plain": [
       "<class 'statsmodels.iolib.summary.Summary'>\n",
       "\"\"\"\n",
       "                            OLS Regression Results                            \n",
       "==============================================================================\n",
       "Dep. Variable:                      R   R-squared:                       0.012\n",
       "Model:                            OLS   Adj. R-squared:                  0.012\n",
       "Method:                 Least Squares   F-statistic:                     301.8\n",
       "Date:                Mon, 15 Jun 2020   Prob (F-statistic):          5.72e-131\n",
       "Time:                        13:07:22   Log-Likelihood:                -95768.\n",
       "No. Observations:               48079   AIC:                         1.915e+05\n",
       "Df Residuals:                   48076   BIC:                         1.916e+05\n",
       "Df Model:                           2                                         \n",
       "Covariance Type:            nonrobust                                         \n",
       "==============================================================================\n",
       "                 coef    std err          t      P>|t|      [0.025      0.975]\n",
       "------------------------------------------------------------------------------\n",
       "const         -1.4373      0.012   -116.908      0.000      -1.461      -1.413\n",
       "sind_age       0.0150      0.002      9.538      0.000       0.012       0.018\n",
       "sind_age2     -0.0006   3.17e-05    -19.324      0.000      -0.001      -0.001\n",
       "==============================================================================\n",
       "Omnibus:                     4708.120   Durbin-Watson:                   1.996\n",
       "Prob(Omnibus):                  0.000   Jarque-Bera (JB):             1526.124\n",
       "Skew:                           0.147   Prob(JB):                         0.00\n",
       "Kurtosis:                       2.178   Cond. No.                         854.\n",
       "==============================================================================\n",
       "\n",
       "Warnings:\n",
       "[1] Standard Errors assume that the covariance matrix of the errors is correctly specified.\n",
       "\"\"\""
      ]
     },
     "execution_count": 24,
     "metadata": {},
     "output_type": "execute_result"
    }
   ],
   "source": [
    "sel=(~data['flagC'] )\n",
    "data['sind_age2']=data['sind_age']**2\n",
    "X = data[['sind_age','sind_age2']]\n",
    "Y=np.log(data.R)\n",
    "X = sm.add_constant(X)\n",
    "model11 = sm.OLS(Y[sel], X[sel]).fit()\n",
    "model11.summary()"
   ]
  },
  {
   "cell_type": "markdown",
   "metadata": {},
   "source": [
    "# Business and Labor Income Percentiles"
   ]
  },
  {
   "cell_type": "code",
   "execution_count": 25,
   "metadata": {},
   "outputs": [
    {
     "name": "stdout",
     "output_type": "stream",
     "text": [
      "       lab_inc  bus_inc\n",
      "0.000 0.000    -2.178  \n",
      "0.050 0.000    -0.418  \n",
      "0.100 0.776    -0.002  \n",
      "0.150 1.063    -0.001  \n",
      "0.200 1.241    -0.000  \n",
      "0.250 1.274    -0.000  \n",
      "0.300 1.398    -0.000  \n",
      "0.350 1.491    -0.000  \n",
      "0.400 1.579    -0.000  \n",
      "0.450 1.650    0.000   \n",
      "0.500 1.717    0.000   \n",
      "0.550 1.787    0.002   \n",
      "0.600 1.834    0.021   \n",
      "0.650 1.971    0.076   \n",
      "0.700 2.607    0.361   \n",
      "0.750 2.993    0.552   \n",
      "0.800 3.199    2.134   \n",
      "0.850 3.360    2.505   \n",
      "0.900 3.512    2.699   \n",
      "0.950 3.692    2.802   \n",
      "1.000 6.515    3.279   \n"
     ]
    }
   ],
   "source": [
    "quantiles=pd.DataFrame( (data[data.flagC==True].lab_inc.quantile(np.linspace(0,1,21))))\n",
    "quantiles['bus_inc']=data[data.flagC==False].bus_inc.quantile(np.linspace(0,1,21))\n",
    "print(quantiles)"
   ]
  },
  {
   "cell_type": "markdown",
   "metadata": {},
   "source": [
    "# Lorenz curves"
   ]
  },
  {
   "cell_type": "code",
   "execution_count": 26,
   "metadata": {},
   "outputs": [
    {
     "data": {
      "text/html": [
       "<div>\n",
       "<style scoped>\n",
       "    .dataframe tbody tr th:only-of-type {\n",
       "        vertical-align: middle;\n",
       "    }\n",
       "\n",
       "    .dataframe tbody tr th {\n",
       "        vertical-align: top;\n",
       "    }\n",
       "\n",
       "    .dataframe thead th {\n",
       "        text-align: right;\n",
       "    }\n",
       "</style>\n",
       "<table border=\"1\" class=\"dataframe\">\n",
       "  <thead>\n",
       "    <tr style=\"text-align: right;\">\n",
       "      <th></th>\n",
       "      <th>frac_pop</th>\n",
       "      <th>bus_inc</th>\n",
       "      <th>kappa</th>\n",
       "      <th>hkap</th>\n",
       "      <th>hy</th>\n",
       "      <th>ns</th>\n",
       "      <th>ks</th>\n",
       "      <th>R</th>\n",
       "      <th>Vb_sdf</th>\n",
       "      <th>Vb_mf</th>\n",
       "    </tr>\n",
       "  </thead>\n",
       "  <tbody>\n",
       "    <tr>\n",
       "      <th>0</th>\n",
       "      <td>0.000</td>\n",
       "      <td>0.000</td>\n",
       "      <td>0.000</td>\n",
       "      <td>0.000</td>\n",
       "      <td>0.000</td>\n",
       "      <td>0.000</td>\n",
       "      <td>0.000</td>\n",
       "      <td>0.000</td>\n",
       "      <td>0.000</td>\n",
       "      <td>0.000</td>\n",
       "    </tr>\n",
       "    <tr>\n",
       "      <th>1</th>\n",
       "      <td>0.050</td>\n",
       "      <td>-0.147</td>\n",
       "      <td>0.000</td>\n",
       "      <td>0.000</td>\n",
       "      <td>0.000</td>\n",
       "      <td>0.000</td>\n",
       "      <td>0.000</td>\n",
       "      <td>0.001</td>\n",
       "      <td>0.018</td>\n",
       "      <td>0.022</td>\n",
       "    </tr>\n",
       "    <tr>\n",
       "      <th>2</th>\n",
       "      <td>0.100</td>\n",
       "      <td>-0.148</td>\n",
       "      <td>0.000</td>\n",
       "      <td>0.000</td>\n",
       "      <td>0.000</td>\n",
       "      <td>0.000</td>\n",
       "      <td>0.000</td>\n",
       "      <td>0.002</td>\n",
       "      <td>0.038</td>\n",
       "      <td>0.046</td>\n",
       "    </tr>\n",
       "    <tr>\n",
       "      <th>3</th>\n",
       "      <td>0.150</td>\n",
       "      <td>-0.148</td>\n",
       "      <td>0.000</td>\n",
       "      <td>0.000</td>\n",
       "      <td>0.000</td>\n",
       "      <td>0.000</td>\n",
       "      <td>0.000</td>\n",
       "      <td>0.005</td>\n",
       "      <td>0.061</td>\n",
       "      <td>0.071</td>\n",
       "    </tr>\n",
       "    <tr>\n",
       "      <th>4</th>\n",
       "      <td>0.200</td>\n",
       "      <td>-0.148</td>\n",
       "      <td>0.000</td>\n",
       "      <td>0.000</td>\n",
       "      <td>0.000</td>\n",
       "      <td>0.000</td>\n",
       "      <td>0.000</td>\n",
       "      <td>0.009</td>\n",
       "      <td>0.086</td>\n",
       "      <td>0.099</td>\n",
       "    </tr>\n",
       "    <tr>\n",
       "      <th>5</th>\n",
       "      <td>0.250</td>\n",
       "      <td>-0.148</td>\n",
       "      <td>0.000</td>\n",
       "      <td>0.000</td>\n",
       "      <td>0.000</td>\n",
       "      <td>0.000</td>\n",
       "      <td>0.000</td>\n",
       "      <td>0.013</td>\n",
       "      <td>0.114</td>\n",
       "      <td>0.127</td>\n",
       "    </tr>\n",
       "    <tr>\n",
       "      <th>6</th>\n",
       "      <td>0.300</td>\n",
       "      <td>-0.148</td>\n",
       "      <td>0.001</td>\n",
       "      <td>0.000</td>\n",
       "      <td>0.000</td>\n",
       "      <td>0.000</td>\n",
       "      <td>0.000</td>\n",
       "      <td>0.017</td>\n",
       "      <td>0.142</td>\n",
       "      <td>0.157</td>\n",
       "    </tr>\n",
       "    <tr>\n",
       "      <th>7</th>\n",
       "      <td>0.350</td>\n",
       "      <td>-0.148</td>\n",
       "      <td>0.004</td>\n",
       "      <td>0.000</td>\n",
       "      <td>0.000</td>\n",
       "      <td>0.000</td>\n",
       "      <td>0.000</td>\n",
       "      <td>0.021</td>\n",
       "      <td>0.172</td>\n",
       "      <td>0.187</td>\n",
       "    </tr>\n",
       "    <tr>\n",
       "      <th>8</th>\n",
       "      <td>0.400</td>\n",
       "      <td>-0.148</td>\n",
       "      <td>0.014</td>\n",
       "      <td>0.001</td>\n",
       "      <td>0.000</td>\n",
       "      <td>0.000</td>\n",
       "      <td>0.000</td>\n",
       "      <td>0.025</td>\n",
       "      <td>0.201</td>\n",
       "      <td>0.218</td>\n",
       "    </tr>\n",
       "    <tr>\n",
       "      <th>9</th>\n",
       "      <td>0.450</td>\n",
       "      <td>-0.148</td>\n",
       "      <td>0.038</td>\n",
       "      <td>0.001</td>\n",
       "      <td>0.000</td>\n",
       "      <td>0.000</td>\n",
       "      <td>0.000</td>\n",
       "      <td>0.029</td>\n",
       "      <td>0.233</td>\n",
       "      <td>0.250</td>\n",
       "    </tr>\n",
       "    <tr>\n",
       "      <th>10</th>\n",
       "      <td>0.500</td>\n",
       "      <td>-0.148</td>\n",
       "      <td>0.082</td>\n",
       "      <td>0.002</td>\n",
       "      <td>0.000</td>\n",
       "      <td>0.000</td>\n",
       "      <td>0.000</td>\n",
       "      <td>0.034</td>\n",
       "      <td>0.267</td>\n",
       "      <td>0.286</td>\n",
       "    </tr>\n",
       "    <tr>\n",
       "      <th>11</th>\n",
       "      <td>0.550</td>\n",
       "      <td>-0.148</td>\n",
       "      <td>0.143</td>\n",
       "      <td>0.003</td>\n",
       "      <td>0.001</td>\n",
       "      <td>0.000</td>\n",
       "      <td>0.000</td>\n",
       "      <td>0.041</td>\n",
       "      <td>0.306</td>\n",
       "      <td>0.325</td>\n",
       "    </tr>\n",
       "    <tr>\n",
       "      <th>12</th>\n",
       "      <td>0.600</td>\n",
       "      <td>-0.147</td>\n",
       "      <td>0.216</td>\n",
       "      <td>0.005</td>\n",
       "      <td>0.003</td>\n",
       "      <td>0.001</td>\n",
       "      <td>0.001</td>\n",
       "      <td>0.054</td>\n",
       "      <td>0.348</td>\n",
       "      <td>0.368</td>\n",
       "    </tr>\n",
       "    <tr>\n",
       "      <th>13</th>\n",
       "      <td>0.650</td>\n",
       "      <td>-0.144</td>\n",
       "      <td>0.298</td>\n",
       "      <td>0.006</td>\n",
       "      <td>0.011</td>\n",
       "      <td>0.004</td>\n",
       "      <td>0.005</td>\n",
       "      <td>0.077</td>\n",
       "      <td>0.396</td>\n",
       "      <td>0.417</td>\n",
       "    </tr>\n",
       "    <tr>\n",
       "      <th>14</th>\n",
       "      <td>0.700</td>\n",
       "      <td>-0.122</td>\n",
       "      <td>0.386</td>\n",
       "      <td>0.008</td>\n",
       "      <td>0.043</td>\n",
       "      <td>0.018</td>\n",
       "      <td>0.022</td>\n",
       "      <td>0.113</td>\n",
       "      <td>0.451</td>\n",
       "      <td>0.473</td>\n",
       "    </tr>\n",
       "    <tr>\n",
       "      <th>15</th>\n",
       "      <td>0.750</td>\n",
       "      <td>-0.084</td>\n",
       "      <td>0.479</td>\n",
       "      <td>0.024</td>\n",
       "      <td>0.100</td>\n",
       "      <td>0.041</td>\n",
       "      <td>0.049</td>\n",
       "      <td>0.169</td>\n",
       "      <td>0.511</td>\n",
       "      <td>0.532</td>\n",
       "    </tr>\n",
       "    <tr>\n",
       "      <th>16</th>\n",
       "      <td>0.800</td>\n",
       "      <td>0.056</td>\n",
       "      <td>0.577</td>\n",
       "      <td>0.068</td>\n",
       "      <td>0.239</td>\n",
       "      <td>0.184</td>\n",
       "      <td>0.193</td>\n",
       "      <td>0.276</td>\n",
       "      <td>0.594</td>\n",
       "      <td>0.612</td>\n",
       "    </tr>\n",
       "    <tr>\n",
       "      <th>17</th>\n",
       "      <td>0.850</td>\n",
       "      <td>0.266</td>\n",
       "      <td>0.677</td>\n",
       "      <td>0.121</td>\n",
       "      <td>0.410</td>\n",
       "      <td>0.372</td>\n",
       "      <td>0.379</td>\n",
       "      <td>0.430</td>\n",
       "      <td>0.690</td>\n",
       "      <td>0.704</td>\n",
       "    </tr>\n",
       "    <tr>\n",
       "      <th>18</th>\n",
       "      <td>0.900</td>\n",
       "      <td>0.499</td>\n",
       "      <td>0.779</td>\n",
       "      <td>0.204</td>\n",
       "      <td>0.596</td>\n",
       "      <td>0.572</td>\n",
       "      <td>0.577</td>\n",
       "      <td>0.605</td>\n",
       "      <td>0.790</td>\n",
       "      <td>0.800</td>\n",
       "    </tr>\n",
       "    <tr>\n",
       "      <th>19</th>\n",
       "      <td>0.950</td>\n",
       "      <td>0.737</td>\n",
       "      <td>0.887</td>\n",
       "      <td>0.378</td>\n",
       "      <td>0.792</td>\n",
       "      <td>0.781</td>\n",
       "      <td>0.784</td>\n",
       "      <td>0.792</td>\n",
       "      <td>0.893</td>\n",
       "      <td>0.898</td>\n",
       "    </tr>\n",
       "    <tr>\n",
       "      <th>20</th>\n",
       "      <td>1.000</td>\n",
       "      <td>1.000</td>\n",
       "      <td>1.000</td>\n",
       "      <td>1.000</td>\n",
       "      <td>1.000</td>\n",
       "      <td>1.000</td>\n",
       "      <td>1.000</td>\n",
       "      <td>1.000</td>\n",
       "      <td>1.000</td>\n",
       "      <td>1.000</td>\n",
       "    </tr>\n",
       "  </tbody>\n",
       "</table>\n",
       "</div>"
      ],
      "text/plain": [
       "    frac_pop  bus_inc  kappa  hkap    hy    ns    ks     R  Vb_sdf  Vb_mf\n",
       "0  0.000     0.000    0.000  0.000 0.000 0.000 0.000 0.000 0.000   0.000 \n",
       "1  0.050     -0.147   0.000  0.000 0.000 0.000 0.000 0.001 0.018   0.022 \n",
       "2  0.100     -0.148   0.000  0.000 0.000 0.000 0.000 0.002 0.038   0.046 \n",
       "3  0.150     -0.148   0.000  0.000 0.000 0.000 0.000 0.005 0.061   0.071 \n",
       "4  0.200     -0.148   0.000  0.000 0.000 0.000 0.000 0.009 0.086   0.099 \n",
       "5  0.250     -0.148   0.000  0.000 0.000 0.000 0.000 0.013 0.114   0.127 \n",
       "6  0.300     -0.148   0.001  0.000 0.000 0.000 0.000 0.017 0.142   0.157 \n",
       "7  0.350     -0.148   0.004  0.000 0.000 0.000 0.000 0.021 0.172   0.187 \n",
       "8  0.400     -0.148   0.014  0.001 0.000 0.000 0.000 0.025 0.201   0.218 \n",
       "9  0.450     -0.148   0.038  0.001 0.000 0.000 0.000 0.029 0.233   0.250 \n",
       "10 0.500     -0.148   0.082  0.002 0.000 0.000 0.000 0.034 0.267   0.286 \n",
       "11 0.550     -0.148   0.143  0.003 0.001 0.000 0.000 0.041 0.306   0.325 \n",
       "12 0.600     -0.147   0.216  0.005 0.003 0.001 0.001 0.054 0.348   0.368 \n",
       "13 0.650     -0.144   0.298  0.006 0.011 0.004 0.005 0.077 0.396   0.417 \n",
       "14 0.700     -0.122   0.386  0.008 0.043 0.018 0.022 0.113 0.451   0.473 \n",
       "15 0.750     -0.084   0.479  0.024 0.100 0.041 0.049 0.169 0.511   0.532 \n",
       "16 0.800     0.056    0.577  0.068 0.239 0.184 0.193 0.276 0.594   0.612 \n",
       "17 0.850     0.266    0.677  0.121 0.410 0.372 0.379 0.430 0.690   0.704 \n",
       "18 0.900     0.499    0.779  0.204 0.596 0.572 0.577 0.605 0.790   0.800 \n",
       "19 0.950     0.737    0.887  0.378 0.792 0.781 0.784 0.792 0.893   0.898 \n",
       "20 1.000     1.000    1.000  1.000 1.000 1.000 1.000 1.000 1.000   1.000 "
      ]
     },
     "execution_count": 26,
     "metadata": {},
     "output_type": "execute_result"
    }
   ],
   "source": [
    "sel=(~data['flagC'] )\n",
    "LzData=pd.DataFrame()\n",
    "LzData['frac_pop']=np.linspace(0,1,21)\n",
    "LzData['bus_inc']=Lorenz(data[sel]['bus_inc'],LzData.frac_pop)\n",
    "LzData['kappa']=Lorenz(data[sel]['kappa'],LzData.frac_pop)\n",
    "LzData['hkap']=Lorenz(data[sel]['hkap'],LzData.frac_pop)\n",
    "LzData['hy']=Lorenz(data[sel]['hy'],LzData.frac_pop)\n",
    "\n",
    "LzData['ns']=Lorenz(data[sel]['ns'],LzData.frac_pop)\n",
    "LzData['ks']=Lorenz(data[sel]['ks'],LzData.frac_pop)\n",
    "LzData['R']=Lorenz(data[sel]['R'],LzData.frac_pop)\n",
    "LzData['Vb_sdf']=Lorenz(data[sel]['val_sdf'],LzData.frac_pop)\n",
    "LzData['Vb_mf']=Lorenz(data[sel]['val_mf'],LzData.frac_pop)\n",
    "\n",
    "LzData"
   ]
  },
  {
   "cell_type": "markdown",
   "metadata": {},
   "source": [
    "# Cross Sectional Moments: All Businesses"
   ]
  },
  {
   "cell_type": "code",
   "execution_count": 27,
   "metadata": {},
   "outputs": [
    {
     "name": "stdout",
     "output_type": "stream",
     "text": [
      "      gross_returns: sdf  gross_returns: mf  intan. intensity  div yield: sdf  \\\n",
      "mean 1.079               1.076              0.610             0.015             \n",
      "std  0.246               0.225              0.407             0.119             \n",
      "gini 0.104               0.096              0.355             3.222             \n",
      "p10  0.889               0.904              0.102             -0.001            \n",
      "p25  1.012               1.015              0.116             -0.000            \n",
      "p50  1.020               1.020              0.828             0.000             \n",
      "p75  1.166               1.158              1.000             0.045             \n",
      "p95  1.591               1.555              1.000             0.160             \n",
      "p99  2.016               1.943              1.000             0.179             \n",
      "\n",
      "      div yield: mf  market value: R  valuation: sdf  valuation: mf  kappa  \\\n",
      "mean 0.015          0.948            3.428           3.793          0.432    \n",
      "std  0.108          1.322            2.048           2.070          0.383    \n",
      "gini 2.895          0.676            0.320           0.292          0.493    \n",
      "p10  -0.001         0.047            1.467           1.853          0.000    \n",
      "p25  -0.000         0.075            1.939           2.220          0.003    \n",
      "p50  0.000          0.104            2.504           2.828          0.458    \n",
      "p75  0.040          1.460            4.370           4.793          0.822    \n",
      "p95  0.150          3.617            7.162           7.598          0.952    \n",
      "p99  0.169          3.957            7.431           7.816          0.990    \n",
      "\n",
      "      bus inc  fin wealth:a  wealth:vb_sdf+a  wealth:vb_mf+a  markups  \\\n",
      "mean 0.559    14.522        17.950           18.314          -6.784     \n",
      "std  1.172    9.794         10.264           10.164          70.563     \n",
      "gini 1.009    0.376         0.322            0.312           -5.681     \n",
      "p10  -0.002   3.024         5.341            5.835           -99.923    \n",
      "p25  -0.000   7.000         9.895            10.330          -93.718    \n",
      "p50  0.000    12.644        16.548           16.872          34.278     \n",
      "p75  0.552    20.763        24.772           25.062          53.673     \n",
      "p95  2.802    32.862        36.761           36.950          71.698     \n",
      "p99  2.861    41.426        44.867           44.957          76.721     \n",
      "\n",
      "      log_meas_tfp  log_z    hy  hkap  total owner hrs: hy+hkap  \n",
      "mean 0.787         0.262  0.076 0.021 0.096                      \n",
      "std  0.076         0.608  0.117 0.058 0.134                      \n",
      "gini 0.054         1.261  0.732 0.873 0.687                      \n",
      "p10  0.672         -0.840 0.000 0.000 0.000                      \n",
      "p25  0.698         -0.420 0.000 0.000 0.000                      \n",
      "p50  0.809         0.420  0.000 0.000 0.001                      \n",
      "p75  0.843         0.840  0.142 0.016 0.262                      \n",
      "p95  0.887         0.840  0.303 0.159 0.328                      \n",
      "p99  0.922         0.840  0.322 0.285 0.355                      \n"
     ]
    }
   ],
   "source": [
    "sel=(~data['flagC'] )\n",
    "\n",
    "val,cols=stats.describe(data[sel].ret_sdf,data[sel]['wgt'])\n",
    "moments_only_business=pd.DataFrame(val.T,columns=['gross_returns: sdf'])\n",
    "moments_only_business.index=cols\n",
    "\n",
    "\n",
    "\n",
    "val,cols=stats.describe(data[sel].ret_sdf,data[sel]['wgt'])\n",
    "moments_only_business['gross_returns: sdf']=val\n",
    "\n",
    "\n",
    "val,cols=stats.describe(data[sel].ret_mf,data[sel]['wgt'])\n",
    "moments_only_business['gross_returns: mf']=val\n",
    "\n",
    "sel2=sel&(data['ns']>0)\n",
    "val,cols=stats.describe(data[sel2].intan_int,data[sel2]['wgt'])\n",
    "moments_only_business['intan. intensity']=val\n",
    "\n",
    "\n",
    "val,cols=stats.describe(data[sel].div_yld_sdf,data[sel]['wgt'])\n",
    "moments_only_business['div yield: sdf']=val\n",
    "\n",
    "\n",
    "val,cols=stats.describe(data[sel].div_yld_mf,data[sel]['wgt'])\n",
    "moments_only_business['div yield: mf']=val\n",
    "\n",
    "\n",
    "val,cols=stats.describe(data[sel2].R,data[sel2]['wgt'])\n",
    "moments_only_business['market value: R']=val\n",
    "\n",
    "\n",
    "val,cols=stats.describe(data[sel].val_sdf,data[sel]['wgt'])\n",
    "moments_only_business['valuation: sdf']=val\n",
    "\n",
    "val,cols=stats.describe(data[sel].val_mf,data[sel]['wgt'])\n",
    "moments_only_business['valuation: mf']=val\n",
    "\n",
    "\n",
    "val,cols=stats.describe(data[sel].kappa,data[sel]['wgt'])\n",
    "moments_only_business['kappa']=val\n",
    "\n",
    "\n",
    "val,cols=stats.describe(data[sel].bus_inc,data[sel]['wgt'])\n",
    "moments_only_business['bus inc']=val\n",
    "\n",
    "\n",
    "\n",
    "val,cols=stats.describe(data[sel].a,data[sel]['wgt'])\n",
    "moments_only_business['fin wealth:a']=val\n",
    "\n",
    "\n",
    "val,cols=stats.describe(data[sel].wealth_sdf,data[sel]['wgt'])\n",
    "moments_only_business['wealth:vb_sdf+a']=val\n",
    "\n",
    "val,cols=stats.describe(data[sel].wealth_mf,data[sel]['wgt'])\n",
    "moments_only_business['wealth:vb_mf+a']=val\n",
    "\n",
    "\n",
    "\n",
    "val,cols=stats.describe(data[sel].measured_markups,data[sel]['wgt'])\n",
    "moments_only_business['markups']=val\n",
    "\n",
    "\n",
    "sel_temp=(~data['flagC'] )  & (~pd.isna(data['ztilde_meas']))\n",
    "val,cols=stats.describe(data[sel_temp].ztilde_meas,data[sel_temp]['wgt'])\n",
    "moments_only_business['log_meas_tfp']=val\n",
    "\n",
    "val,cols=stats.describe(data[sel].ztilde,data[sel]['wgt'])\n",
    "moments_only_business['log_z']=val\n",
    "\n",
    "val,cols=stats.describe(data[sel].hy,data[sel]['wgt'])\n",
    "moments_only_business['hy']=val\n",
    "\n",
    "\n",
    "val,cols=stats.describe(data[sel].hkap,data[sel]['wgt'])\n",
    "moments_only_business['hkap']=val\n",
    "\n",
    "\n",
    "val,cols=stats.describe(data[sel].hy,data[sel]['wgt'])\n",
    "moments_only_business['hy']=val\n",
    "\n",
    "\n",
    "val,cols=stats.describe(data[sel].n_e,data[sel]['wgt'])\n",
    "moments_only_business['total owner hrs: hy+hkap']=val\n",
    "\n",
    "\n",
    "\n",
    "print (moments_only_business)\n",
    "moments_only_business.to_excel('moments_all_businesses.xls')\n"
   ]
  },
  {
   "cell_type": "markdown",
   "metadata": {},
   "source": [
    "## Decomposition by  Sweat Capital: All Businesses"
   ]
  },
  {
   "cell_type": "code",
   "execution_count": 28,
   "metadata": {},
   "outputs": [
    {
     "name": "stdout",
     "output_type": "stream",
     "text": [
      "           kappa  intan_int  ret_sdf  div_yld_sdf  measured_markups  val_sdf  \\\n",
      "bin_kappa                                                                      \n",
      "0         0.000  0.999      1.007    -0.000       -43.476           1.842      \n",
      "1         0.030  0.902      1.009    0.000        -38.834           1.901      \n",
      "2         0.438  0.617      1.048    0.002        -3.148            2.624      \n",
      "3         0.779  0.397      1.118    -0.022       14.216            4.282      \n",
      "4         0.914  0.181      1.213    0.095        37.320            6.491      \n",
      "\n",
      "               a  wealth_sdf  s_age  sind_age  ind_age  ztilde_meas  ztilde  \\\n",
      "bin_kappa                                                                     \n",
      "0         12.804 14.646      8.831  8.434     54.164   0.833        -0.039    \n",
      "1         14.036 15.937      12.333 11.426    59.192   0.837        -0.014    \n",
      "2         16.379 19.003      12.588 11.328    54.528   0.816        0.132     \n",
      "3         15.160 19.443      8.244  6.729     47.344   0.761        0.465     \n",
      "4         14.229 20.720      8.254  6.717     47.251   0.688        0.767     \n",
      "\n",
      "           bus_inc    hy  hkap   n_e     ks  \n",
      "bin_kappa                                    \n",
      "0         0.000    0.000 0.000 0.000 0.000   \n",
      "1         0.003    0.001 0.000 0.001 0.027   \n",
      "2         0.158    0.030 0.010 0.040 2.066   \n",
      "3         0.534    0.103 0.053 0.156 8.891   \n",
      "4         2.102    0.244 0.040 0.284 24.414  \n"
     ]
    }
   ],
   "source": [
    "sel=(~data['flagC'] )\n",
    "\n",
    "var_bin = 'kappa'\n",
    "num_bins=5\n",
    "varlist=['kappa','intan_int','ret_sdf','div_yld_sdf','measured_markups','val_sdf','a','wealth_sdf','s_age','sind_age','ind_age','ztilde_meas','ztilde','bus_inc','hy','hkap','n_e','ks']\n",
    "tmp, bins_original = pd.qcut(data[sel][var_bin], q = num_bins, labels=False, retbins = True)\n",
    "data['bin_' + var_bin] = tmp[:]\n",
    "bins = bins_original.copy()\n",
    "bins[0] = -np.inf\n",
    "bins[-1] = np.inf\n",
    "data['bin_' + var_bin] = pd.cut(data[var_bin], bins, labels = False)     \n",
    "mean_baseline=data[sel].groupby('bin_' + var_bin).mean()[varlist]\n",
    "count_baseline=data[sel].groupby('bin_' + var_bin).count()[varlist]\n",
    "print(mean_baseline)\n"
   ]
  },
  {
   "cell_type": "markdown",
   "metadata": {},
   "source": [
    "## Decomposition by  Financial assets: All Businesses"
   ]
  },
  {
   "cell_type": "code",
   "execution_count": 29,
   "metadata": {},
   "outputs": [
    {
     "name": "stdout",
     "output_type": "stream",
     "text": [
      "       kappa     R  intan_int  ret_sdf  div_yld_sdf  measured_markups  \\\n",
      "bin_a                                                                   \n",
      "0     0.360  0.712 0.677      1.098    -0.003       -12.640             \n",
      "1     0.402  0.855 0.638      1.082    0.014        -7.957              \n",
      "2     0.467  1.027 0.589      1.079    0.019        -4.211              \n",
      "3     0.494  1.085 0.574      1.075    0.025        -1.407              \n",
      "4     0.438  0.962 0.619      1.061    0.022        -7.708              \n",
      "\n",
      "       val_sdf      a  wealth_sdf  s_age  sind_age  ind_age  ztilde_meas  \\\n",
      "bin_a                                                                      \n",
      "0     2.657    2.979  5.637       7.840  7.184     49.876   0.839          \n",
      "1     3.248    8.046  11.294      9.353  8.354     49.655   0.805          \n",
      "2     3.766    12.719 16.485      9.106  8.186     52.724   0.779          \n",
      "3     3.923    18.960 22.883      10.257 8.944     54.358   0.765          \n",
      "4     3.547    29.904 33.451      13.694 11.965    55.867   0.749          \n",
      "\n",
      "       ztilde  bus_inc    hy  hkap   n_e    ns    ks  \n",
      "bin_a                                                 \n",
      "0     0.246   0.383    0.066 0.027 0.093 0.090 5.414  \n",
      "1     0.243   0.533    0.075 0.021 0.096 0.115 6.772  \n",
      "2     0.282   0.652    0.086 0.022 0.108 0.139 8.116  \n",
      "3     0.284   0.683    0.086 0.019 0.105 0.144 8.334  \n",
      "4     0.255   0.547    0.066 0.015 0.080 0.118 6.763  \n"
     ]
    }
   ],
   "source": [
    "sel=(~data['flagC'] )\n",
    "\n",
    "var_bin = 'a'\n",
    "num_bins=5\n",
    "varlist=['kappa','R','intan_int','ret_sdf','div_yld_sdf','measured_markups','val_sdf','a','wealth_sdf','s_age','sind_age','ind_age','ztilde_meas','ztilde','bus_inc','hy','hkap','n_e','ns','ks']\n",
    "tmp, bins_original = pd.qcut(data[sel][var_bin], q = num_bins, labels=False, retbins = True)\n",
    "data['bin_' + var_bin] = tmp[:]\n",
    "bins = bins_original.copy()\n",
    "bins[0] = -np.inf\n",
    "bins[-1] = np.inf\n",
    "data['bin_' + var_bin] = pd.cut(data[var_bin], bins, labels = False)     \n",
    "mean_baseline=data[sel].groupby('bin_' + var_bin).mean()[varlist]\n",
    "count_baseline=data[sel].groupby('bin_' + var_bin).count()[varlist]\n",
    "print(mean_baseline)\n"
   ]
  },
  {
   "cell_type": "markdown",
   "metadata": {},
   "source": [
    "## Decomposition by z: All Businesses"
   ]
  },
  {
   "cell_type": "code",
   "execution_count": 30,
   "metadata": {},
   "outputs": [
    {
     "name": "stdout",
     "output_type": "stream",
     "text": [
      "       kappa  intan_int  ret_sdf  div_yld_sdf  measured_markups  val_sdf  \\\n",
      "bin_z                                                                      \n",
      "0     0.228  0.999      0.964    -0.000       -97.189           2.112      \n",
      "1     0.159  0.991      0.985    -0.000       -77.966           2.008      \n",
      "2     0.236  0.886      0.969    0.000        -24.717           2.169      \n",
      "3     0.374  0.575      0.971    0.016        31.289            2.723      \n",
      "4     0.676  0.315      1.234    0.029        31.774            5.056      \n",
      "\n",
      "           a  wealth_sdf  s_age  sind_age  ind_age  ztilde_meas  ztilde  \\\n",
      "bin_z                                                                     \n",
      "0     14.531 16.644      10.904 9.930     55.263   0.829        -0.840    \n",
      "1     14.179 16.187      10.693 9.779     54.895   0.832        -0.420    \n",
      "2     14.624 16.793      10.800 9.855     54.579   0.834        0.000     \n",
      "3     14.320 17.042      10.726 9.561     53.385   0.825        0.420     \n",
      "4     14.688 19.744      8.994  7.719     49.732   0.724        0.840     \n",
      "\n",
      "       bus_inc    hy  hkap   n_e    ns     ks     R  \n",
      "bin_z                                                \n",
      "0     -0.001   0.000 0.000 0.000 0.000 0.000  0.144  \n",
      "1     -0.001   0.000 0.000 0.000 0.000 0.002  0.104  \n",
      "2     0.006    0.002 0.000 0.002 0.001 0.058  0.157  \n",
      "3     0.169    0.032 0.000 0.033 0.020 1.452  0.436  \n",
      "4     1.289    0.169 0.050 0.219 0.288 16.644 1.934  \n"
     ]
    }
   ],
   "source": [
    "sel=(~data['flagC'] )  \n",
    "var_bin = 'z'\n",
    "varlist=['kappa','intan_int','ret_sdf','div_yld_sdf','measured_markups','val_sdf','a','wealth_sdf','s_age','sind_age','ind_age','ztilde_meas','ztilde','bus_inc','hy','hkap','n_e','ns','ks','R']\n",
    "bins=data[sel].z\n",
    "bins=np.hstack((-1,sorted(data.z.unique())))\n",
    "data['bin_' + var_bin] = pd.cut(data[var_bin], bins, labels = False)     \n",
    "mean_baseline=data[sel].groupby('bin_' + var_bin).mean()[varlist]\n",
    "count_baseline=data[sel].groupby('bin_' + var_bin).count()[varlist]\n",
    "print(mean_baseline)"
   ]
  },
  {
   "cell_type": "markdown",
   "metadata": {},
   "source": [
    "# Cross Sectional Moments: Young Businesses"
   ]
  },
  {
   "cell_type": "markdown",
   "metadata": {},
   "source": [
    "#### ``young'' defined as owners that have been running the businesse for less than 5 yrs (variable: sind_age)"
   ]
  },
  {
   "cell_type": "code",
   "execution_count": 31,
   "metadata": {},
   "outputs": [
    {
     "name": "stdout",
     "output_type": "stream",
     "text": [
      "      gross_returns: sdf  gross_returns: mf  intan. intensity  \\\n",
      "mean 1.121               1.117              0.595               \n",
      "std  0.303               0.279              0.417               \n",
      "gini 0.135               0.124              0.371               \n",
      "p10  0.825               0.844              0.099               \n",
      "p25  1.007               1.012              0.111               \n",
      "p50  1.030               1.028              0.830               \n",
      "p75  1.208               1.192              1.000               \n",
      "p95  1.712               1.679              1.000               \n",
      "p99  2.106               2.025              1.000               \n",
      "\n",
      "      market value: R  div yield: sdf  div yield: mf  valuation: sdf  \\\n",
      "mean 0.939            -0.011          -0.008         3.593             \n",
      "std  1.316            0.160           0.144          1.994             \n",
      "gini 0.682            -6.599          -8.397         0.304             \n",
      "p10  0.022            -0.322          -0.268         1.510             \n",
      "p25  0.066            -0.000          -0.000         2.007             \n",
      "p50  0.097            -0.000          -0.000         2.753             \n",
      "p75  1.702            0.051           0.046          5.235             \n",
      "p95  3.581            0.160           0.150          7.041             \n",
      "p99  3.916            0.180           0.169          7.398             \n",
      "\n",
      "      valuation: mf    ns     ks  bus inc  fin wealth:a  wealth:vb_sdf+a  \\\n",
      "mean 3.991          0.734 7.455  0.481    13.062        16.656             \n",
      "std  2.022          1.172 11.774 1.289    9.334         9.678              \n",
      "gini 0.278          0.740 0.736  1.370    0.393         0.325              \n",
      "p10  1.896          0.000 0.000  -1.193   2.414         4.876              \n",
      "p25  2.319          0.000 0.000  -0.000   6.012         9.225              \n",
      "p50  3.121          0.000 0.006  0.000    11.177        15.216             \n",
      "p75  5.730          1.733 17.916 1.346    18.551        22.661             \n",
      "p95  7.505          2.971 29.872 2.802    30.892        34.643             \n",
      "p99  7.784          3.079 30.878 2.855    40.419        43.208             \n",
      "\n",
      "      wealth:vb_mf+a  markups  log_meas_tfp  log_z    hy  hkap  \\\n",
      "mean 17.053          -10.521  0.753         0.291  0.081 0.038   \n",
      "std  9.559           70.648   0.077         0.608  0.121 0.081   \n",
      "gini 0.313           -3.682   0.057         1.123  0.719 0.822   \n",
      "p10  5.505           -99.971  0.668         -0.840 0.000 0.000   \n",
      "p25  9.690           -95.655  0.676         0.000  0.000 0.000   \n",
      "p50  15.568          30.984   0.756         0.420  0.000 0.001   \n",
      "p75  22.975          50.143   0.823         0.840  0.193 0.027   \n",
      "p95  34.889          71.890   0.865         0.840  0.310 0.265   \n",
      "p99  43.335          77.234   0.919         0.840  0.326 0.299   \n",
      "\n",
      "      total owner hrs: hy+hkap  \n",
      "mean 0.119                      \n",
      "std  0.142                      \n",
      "gini 0.619                      \n",
      "p10  0.000                      \n",
      "p25  0.000                      \n",
      "p50  0.005                      \n",
      "p75  0.281                      \n",
      "p95  0.337                      \n",
      "p99  0.365                      \n"
     ]
    }
   ],
   "source": [
    "sel=(~data['flagC'] ) & (data['sind_age']<5.0)  \n",
    "\n",
    "val,cols=stats.describe(data[sel].ret_sdf,data[sel]['wgt'])\n",
    "moments_only_business=pd.DataFrame(val.T,columns=['gross_returns: sdf'])\n",
    "moments_only_business.index=cols\n",
    "\n",
    "val,cols=stats.describe(data[sel].ret_mf,data[sel]['wgt'])\n",
    "moments_only_business['gross_returns: mf']=val\n",
    "\n",
    "\n",
    "val,cols=stats.describe(data[sel].ret_sdf,data[sel]['wgt'])\n",
    "moments_only_business['gross_returns: sdf']=val\n",
    "\n",
    "\n",
    "sel2=sel&(data['ns']>0)\n",
    "val,cols=stats.describe(data[sel2].intan_int,data[sel2]['wgt'])\n",
    "moments_only_business['intan. intensity']=val\n",
    "\n",
    "\n",
    "val,cols=stats.describe(data[sel].R,data[sel]['wgt'])\n",
    "moments_only_business['market value: R']=val\n",
    "\n",
    "\n",
    "val,cols=stats.describe(data[sel].div_yld_sdf,data[sel]['wgt'])\n",
    "moments_only_business['div yield: sdf']=val\n",
    "\n",
    "\n",
    "val,cols=stats.describe(data[sel].div_yld_mf,data[sel]['wgt'])\n",
    "moments_only_business['div yield: mf']=val\n",
    "\n",
    "\n",
    "val,cols=stats.describe(data[sel].val_sdf,data[sel]['wgt'])\n",
    "moments_only_business['valuation: sdf']=val\n",
    "\n",
    "val,cols=stats.describe(data[sel].val_mf,data[sel]['wgt'])\n",
    "moments_only_business['valuation: mf']=val\n",
    "\n",
    "\n",
    "val,cols=stats.describe(w*data[sel].ns,data[sel]['wgt'])\n",
    "moments_only_business['ns']=val\n",
    "\n",
    "\n",
    "val,cols=stats.describe(data[sel].ks,data[sel]['wgt'])\n",
    "moments_only_business['ks']=val\n",
    "\n",
    "\n",
    "val,cols=stats.describe(data[sel].bus_inc,data[sel]['wgt'])\n",
    "moments_only_business['bus inc']=val\n",
    "\n",
    "\n",
    "\n",
    "val,cols=stats.describe(data[sel].a,data[sel]['wgt'])\n",
    "moments_only_business['fin wealth:a']=val\n",
    "\n",
    "\n",
    "val,cols=stats.describe(data[sel].wealth_sdf,data[sel]['wgt'])\n",
    "moments_only_business['wealth:vb_sdf+a']=val\n",
    "\n",
    "val,cols=stats.describe(data[sel].wealth_mf,data[sel]['wgt'])\n",
    "moments_only_business['wealth:vb_mf+a']=val\n",
    "\n",
    "\n",
    "\n",
    "val,cols=stats.describe(data[sel].measured_markups,data[sel]['wgt'])\n",
    "moments_only_business['markups']=val\n",
    "\n",
    "\n",
    "sel_temp=(~data['flagC'] ) & (~data['flagO']) & (~pd.isna(data['ztilde_meas']))\n",
    "val,cols=stats.describe(data[sel_temp].ztilde_meas,data[sel_temp]['wgt'])\n",
    "moments_only_business['log_meas_tfp']=val\n",
    "\n",
    "\n",
    "val,cols=stats.describe(data[sel].ztilde,data[sel]['wgt'])\n",
    "moments_only_business['log_z']=val\n",
    "\n",
    "val,cols=stats.describe(data[sel].hy,data[sel]['wgt'])\n",
    "moments_only_business['hy']=val\n",
    "\n",
    "\n",
    "val,cols=stats.describe(data[sel].hkap,data[sel]['wgt'])\n",
    "moments_only_business['hkap']=val\n",
    "\n",
    "\n",
    "val,cols=stats.describe(data[sel].hy,data[sel]['wgt'])\n",
    "moments_only_business['hy']=val\n",
    "\n",
    "\n",
    "val,cols=stats.describe(data[sel].n_e,data[sel]['wgt'])\n",
    "moments_only_business['total owner hrs: hy+hkap']=val\n",
    "\n",
    "\n",
    "print (moments_only_business)\n",
    "moments_only_business.to_excel('moments_young_businesses.xls')\n"
   ]
  },
  {
   "cell_type": "markdown",
   "metadata": {},
   "source": [
    "## Decomposition by  Sweat Capital: Young Businesses"
   ]
  },
  {
   "cell_type": "code",
   "execution_count": 32,
   "metadata": {},
   "outputs": [
    {
     "name": "stdout",
     "output_type": "stream",
     "text": [
      "           kappa     x  intan_int  ret_sdf  div_yld_sdf  measured_markups  \\\n",
      "bin_kappa                                                                   \n",
      "0         0.000  0.000 1.000      0.998    0.000        -39.288             \n",
      "1         0.011  0.001 0.928      1.003    -0.000       -38.411             \n",
      "2         0.407  0.196 0.538      1.103    -0.021       -1.703              \n",
      "3         0.802  0.714 0.388      1.244    -0.099       -4.254              \n",
      "4         0.910  0.414 0.205      1.258    0.066        31.043              \n",
      "\n",
      "           val_sdf      a  wealth_sdf  s_age  sind_age  ind_age  ztilde_meas  \\\n",
      "bin_kappa                                                                      \n",
      "0         1.958    12.708 14.666      2.045  1.435     46.088   0.832          \n",
      "1         2.034    13.897 15.931      2.704  1.414     48.367   0.836          \n",
      "2         3.018    15.120 18.138      2.265  1.546     48.463   0.805          \n",
      "3         4.558    11.557 16.115      3.161  1.612     41.073   0.741          \n",
      "4         6.399    12.029 18.428      3.533  2.200     42.926   0.688          \n",
      "\n",
      "           ztilde  bus_inc    hy  hkap   n_e    ns     ks  \n",
      "bin_kappa                                                  \n",
      "0         -0.112  0.000    0.000 0.000 0.000 0.000 0.000   \n",
      "1         -0.118  0.001    0.000 0.000 0.000 0.000 0.012   \n",
      "2         0.242   0.185    0.050 0.031 0.080 0.059 3.627   \n",
      "3         0.652   0.286    0.114 0.105 0.219 0.166 9.872   \n",
      "4         0.791   1.935    0.241 0.056 0.297 0.411 23.762  \n"
     ]
    }
   ],
   "source": [
    "sel=(~data['flagC'] ) & (data['sind_age']<5) \n",
    "var_bin = 'kappa'\n",
    "num_bins=5\n",
    "varlist=['kappa','x','intan_int','ret_sdf','div_yld_sdf','measured_markups','val_sdf','a','wealth_sdf','s_age','sind_age','ind_age','ztilde_meas','ztilde','bus_inc','hy','hkap','n_e','ns','ks']\n",
    "tmp, bins_original = pd.qcut(data[sel][var_bin], q = num_bins, labels=False, retbins = True)\n",
    "data['bin_' + var_bin] = tmp[:]\n",
    "bins = bins_original.copy()\n",
    "bins[0] = -np.inf\n",
    "bins[-1] = np.inf\n",
    "data['bin_' + var_bin] = pd.cut(data[var_bin], bins, labels = False)     \n",
    "mean_baseline=data[sel].groupby('bin_' + var_bin).mean()[varlist]\n",
    "count_baseline=data[sel].groupby('bin_' + var_bin).count()[varlist]\n",
    "print(mean_baseline)\n"
   ]
  },
  {
   "cell_type": "markdown",
   "metadata": {},
   "source": [
    "## Decomposition by Financial Assets: Young Businesses"
   ]
  },
  {
   "cell_type": "code",
   "execution_count": 33,
   "metadata": {},
   "outputs": [
    {
     "name": "stdout",
     "output_type": "stream",
     "text": [
      "       kappa  intan_int  ret_sdf  div_yld_sdf  measured_markups  val_sdf  \\\n",
      "bin_a                                                                      \n",
      "0     0.430  0.630      1.160    -0.027       -14.382           3.010      \n",
      "1     0.414  0.619      1.124    -0.005       -7.989            3.457      \n",
      "2     0.459  0.586      1.120    -0.008       -8.544            3.901      \n",
      "3     0.445  0.597      1.102    -0.003       -7.934            3.975      \n",
      "4     0.383  0.627      1.100    -0.010       -13.758           3.623      \n",
      "\n",
      "           a  wealth_sdf  s_age  sind_age  ind_age  ztilde_meas  ztilde  \\\n",
      "bin_a                                                                     \n",
      "0     2.338  5.349       2.171  1.618     45.326   0.825        0.329     \n",
      "1     7.021  10.478      2.831  1.594     42.017   0.797        0.256     \n",
      "2     11.220 15.121      2.673  1.661     45.879   0.773        0.300     \n",
      "3     16.876 20.851      2.690  1.657     48.137   0.764        0.289     \n",
      "4     27.854 31.478      3.343  1.678     45.558   0.747        0.280     \n",
      "\n",
      "       bus_inc    hy  hkap   n_e  \n",
      "bin_a                             \n",
      "0     0.417    0.086 0.049 0.134  \n",
      "1     0.488    0.082 0.037 0.119  \n",
      "2     0.564    0.091 0.040 0.130  \n",
      "3     0.551    0.084 0.035 0.119  \n",
      "4     0.387    0.063 0.032 0.095  \n"
     ]
    }
   ],
   "source": [
    "sel=(~data['flagC'] ) & (data['sind_age']<5.0)  \n",
    "\n",
    "var_bin = 'a'\n",
    "num_bins=5\n",
    "varlist=['kappa','intan_int','ret_sdf','div_yld_sdf','measured_markups','val_sdf','a','wealth_sdf','s_age','sind_age','ind_age','ztilde_meas','ztilde','bus_inc','hy','hkap','n_e']\n",
    "tmp, bins_original = pd.qcut(data[sel][var_bin], q = num_bins, labels=False, retbins = True)\n",
    "data['bin_' + var_bin] = tmp[:]\n",
    "bins = bins_original.copy()\n",
    "bins[0] = -np.inf\n",
    "bins[-1] = np.inf\n",
    "data['bin_' + var_bin] = pd.cut(data[var_bin], bins, labels = False)     \n",
    "mean_baseline=data[sel].groupby('bin_' + var_bin).mean()[varlist]\n",
    "count_baseline=data[sel].groupby('bin_' + var_bin).count()[varlist]\n",
    "print(mean_baseline)\n"
   ]
  },
  {
   "cell_type": "markdown",
   "metadata": {},
   "source": [
    "## Decomposition by z: Young Businesses"
   ]
  },
  {
   "cell_type": "code",
   "execution_count": 34,
   "metadata": {},
   "outputs": [
    {
     "name": "stdout",
     "output_type": "stream",
     "text": [
      "       bus_inc  kappa  intan_int  ret_sdf  div_yld_sdf  measured_markups  \\\n",
      "bin_z                                                                      \n",
      "0     -0.001   0.133  0.999      0.957    -0.000       -97.363             \n",
      "1     -0.000   0.071  0.992      0.980    -0.000       -75.515             \n",
      "2     0.004    0.138  0.901      0.961    0.000        -10.710             \n",
      "3     0.163    0.313  0.566      0.951    0.016        40.475              \n",
      "4     1.019    0.737  0.331      1.323    -0.031       11.465              \n",
      "\n",
      "       val_sdf      a  wealth_sdf  s_age  sind_age  ind_age  ztilde_meas  \\\n",
      "bin_z                                                                      \n",
      "0     2.106    13.209 15.315      2.505  1.559     47.969   0.833          \n",
      "1     2.042    13.379 15.421      2.333  1.449     47.297   0.833          \n",
      "2     2.160    13.559 15.719      2.552  1.566     46.018   0.837          \n",
      "3     2.734    12.988 15.721      2.932  1.786     46.625   0.830          \n",
      "4     5.211    12.819 18.030      2.901  1.682     43.431   0.712          \n",
      "\n",
      "       ztilde    hy  hkap   n_e    ns     ks     R  \n",
      "bin_z                                               \n",
      "0     -0.840  0.000 0.000 0.000 0.000 0.000  0.108  \n",
      "1     -0.420  0.000 0.000 0.000 0.000 0.001  0.074  \n",
      "2     0.000   0.001 0.000 0.001 0.001 0.041  0.113  \n",
      "3     0.420   0.033 0.000 0.033 0.019 1.392  0.386  \n",
      "4     0.840   0.169 0.086 0.256 0.279 16.252 1.880  \n"
     ]
    }
   ],
   "source": [
    "sel=(~data['flagC'] ) & (data['sind_age']<5)  \n",
    "\n",
    "var_bin = 'z'\n",
    "varlist=['bus_inc','kappa','intan_int','ret_sdf','div_yld_sdf','measured_markups','val_sdf','a','wealth_sdf','s_age','sind_age','ind_age','ztilde_meas','ztilde','hy','hkap','n_e','ns','ks','R']\n",
    "bins=np.hstack((-1,sorted(data.z.unique())))\n",
    "data['bin_' + var_bin] = pd.cut(data[var_bin], bins, labels = False)     \n",
    "mean_baseline=data[sel].groupby('bin_' + var_bin).mean()[varlist]\n",
    "count_baseline=data[sel].groupby('bin_' + var_bin).count()[varlist]\n",
    "print(mean_baseline)\n"
   ]
  },
  {
   "cell_type": "markdown",
   "metadata": {},
   "source": [
    "# Effects of change in $\\tau_{b}$\n",
    "Please point to the simulations of the economy after the tabx change"
   ]
  },
  {
   "cell_type": "code",
   "execution_count": 35,
   "metadata": {},
   "outputs": [],
   "source": [
    "df_baseline=[]\n",
    "df_target=[]\n",
    "my_file_handle=open(path_baseline+ '/' + momfilename_baseline )\n",
    "textbuffer_baseline=my_file_handle.read()\n",
    "my_file_handle=open(path_target+'/'+momfilename_target)\n",
    "textbuffer_target=my_file_handle.read()\n",
    "w,p,rc,rs,delta,GDP=get_prices(path_target,momfilename_target)\n",
    "df_target=uploadData(path_target,w,rs,rc,p,delta)"
   ]
  },
  {
   "cell_type": "markdown",
   "metadata": {},
   "source": [
    "##    $\\Delta$  in Equilibrium Prices\n",
    "% change in wage, rental rate of capital, and relative price of s-good"
   ]
  },
  {
   "cell_type": "code",
   "execution_count": 36,
   "metadata": {},
   "outputs": [
    {
     "name": "stdout",
     "output_type": "stream",
     "text": [
      "Wage (w):  0.48469007504139405\n",
      "S-good price (p):  -2.969410817217044\n",
      "Interest rate (r_c):  -0.7625835518266788\n"
     ]
    }
   ],
   "source": [
    "varlist=['Wage (w)','S-good price (p)','Interest rate (r_c)']\n",
    "for var in varlist:\n",
    "    print(var+ \":  \"+ str((__extract_num__(var,textbuffer_target)/__extract_num__(var,textbuffer_baseline)-1)*100 ))"
   ]
  },
  {
   "cell_type": "markdown",
   "metadata": {},
   "source": [
    "##    $\\Delta$  in economy-wide aggregates"
   ]
  },
  {
   "cell_type": "code",
   "execution_count": 37,
   "metadata": {},
   "outputs": [],
   "source": [
    "DeltaDebt=(__extract_num__('  Govt. debt(b)',textbuffer_target)/__extract_num__('  Govt. debt(b)',textbuffer_baseline)-1)*100\n",
    "DeltaFracS=(__extract_num__('  Frac of S-corp owner',textbuffer_target)/__extract_num__('  Frac of S-corp owner',textbuffer_baseline)-1)*100\n",
    "\n",
    "DeltaGDP=(__extract_num__('  GDP',textbuffer_target)/__extract_num__('  GDP',textbuffer_baseline)-1)*100\n",
    "AggCons_baseline=__extract_num__('  Consumption(Ecc)',textbuffer_baseline)+__extract_num__('  Consumption(Ecs)',textbuffer_baseline)*__extract_num__('S-good price (p)',textbuffer_baseline)\n",
    "AggCons_target=__extract_num__('  Consumption(Ecc)',textbuffer_target)+__extract_num__('  Consumption(Ecs)',textbuffer_target)*__extract_num__('S-good price (p)',textbuffer_target)\n",
    "DeltaAggCons=(AggCons_target/AggCons_baseline-1)*100\n",
    "AggHours_baseline=__extract_num__('  Eff. Worked Hours Demand(nc)',textbuffer_baseline)+__extract_num__('  Eff. Worked Hours Demand(Ens)',textbuffer_baseline)+__extract_num__('  Hours, sweat(Ehkap) ',textbuffer_baseline)+__extract_num__('  Hours, production(Ehy) ',textbuffer_baseline)\n",
    "AggHours_target=__extract_num__('  Eff. Worked Hours Demand(nc)',textbuffer_target)+__extract_num__('  Eff. Worked Hours Demand(Ens)',textbuffer_target)+__extract_num__('  Hours, sweat(Ehkap) ',textbuffer_target)+__extract_num__('  Hours, production(Ehy) ',textbuffer_target)\n",
    "DeltaAggHours=(AggHours_target/AggHours_baseline-1)*100\n",
    "DeltaVb_mutual=(df_target.val_mf.sum()/data.val_mf.sum()-1)*100\n",
    "AggFa_baseline=__extract_num__('  Capital(kc)',textbuffer_baseline)+__extract_num__('  S-Corp Rental Capital (ks)',textbuffer_baseline)\n",
    "AggFa_target=__extract_num__('  Capital(kc)',textbuffer_target)+__extract_num__('  S-Corp Rental Capital (ks)',textbuffer_target)\n",
    "DeltaAggFa=(AggFa_target/AggFa_baseline-1)*100  \n",
    "DeltaTaxRevenues=(__extract_num__('  Tax revenue(tax_rev)',textbuffer_target)/__extract_num__('  Tax revenue(tax_rev)',textbuffer_baseline)-1)*100\n",
    "AggEmpHours_baseline=__extract_num__('  Eff. Worked Hours Demand(nc)',textbuffer_baseline)+__extract_num__('  Eff. Worked Hours Demand(Ens)',textbuffer_baseline)\n",
    "AggEmpHours_target=__extract_num__('  Eff. Worked Hours Demand(nc)',textbuffer_target)+__extract_num__('  Eff. Worked Hours Demand(Ens)',textbuffer_target)\n",
    "DeltaAggEmpHours=(AggEmpHours_target/AggEmpHours_baseline-1)*100\n"
   ]
  },
  {
   "cell_type": "code",
   "execution_count": 38,
   "metadata": {},
   "outputs": [
    {
     "name": "stdout",
     "output_type": "stream",
     "text": [
      "GDP: -0.5648602737117869\n",
      "Agg. Cons: -0.797678992725237\n",
      "Agg. Hours: 1.6142244012749662\n",
      "Agg. Emp Hours: -2.524318273973014\n",
      "Agg. Vb (mf): 1.0676311800379867\n",
      "Agg. Fixed assets: -0.21149175732516623\n",
      "Agg. Tax revenues: -4.621611069199616\n",
      "Agg. Debt: -37.87606107125383\n",
      "Frac in S: 8.063811643337004\n"
     ]
    }
   ],
   "source": [
    "print(\"GDP: \" + str( DeltaGDP))\n",
    "print(\"Agg. Cons: \" + str( DeltaAggCons))\n",
    "print(\"Agg. Hours: \" + str( DeltaAggHours))\n",
    "print(\"Agg. Emp Hours: \" + str( DeltaAggEmpHours))\n",
    "print(\"Agg. Vb (mf): \" + str( DeltaVb_mutual))\n",
    "print(\"Agg. Fixed assets: \" + str( DeltaAggFa))\n",
    "print(\"Agg. Tax revenues: \" + str( DeltaTaxRevenues))\n",
    "print(\"Agg. Debt: \" + str(DeltaDebt))\n",
    "print(\"Frac in S: \" + str(DeltaFracS))"
   ]
  },
  {
   "cell_type": "markdown",
   "metadata": {},
   "source": [
    "##    $\\Delta$  in C-corp sector"
   ]
  },
  {
   "cell_type": "code",
   "execution_count": 39,
   "metadata": {},
   "outputs": [
    {
     "name": "stdout",
     "output_type": "stream",
     "text": [
      "  Output(yc) :  -0.5271832136157562\n",
      "  Consumption(Ecc):  -0.8142883195894512\n",
      "  Eff. Worked Hours Demand(nc):  -1.006992495972736\n",
      "  Capital(kc):  -0.049392550289628634\n"
     ]
    }
   ],
   "source": [
    "varlist=['  Output(yc) ','  Consumption(Ecc)','  Eff. Worked Hours Demand(nc)','  Capital(kc)']\n",
    "for var in varlist:\n",
    "    print(var+ \":  \"+ str((__extract_num__(var,textbuffer_target)/__extract_num__(var,textbuffer_baseline)-1)*100 ))"
   ]
  },
  {
   "cell_type": "code",
   "execution_count": 40,
   "metadata": {},
   "outputs": [],
   "source": [
    "df_baseline_workers = data[data['flagC']==True]\n",
    "df_target_workers=df_target[df_target['flagC']==True]\n",
    "df_baseline = data[data['flagC']==False]\n",
    "df_target=df_target[df_target['flagC']==False]"
   ]
  },
  {
   "cell_type": "code",
   "execution_count": 41,
   "metadata": {},
   "outputs": [],
   "source": [
    "my_file_handle=open(path_baseline+'/'+momfilename_baseline)\n",
    "textbuffer_baseline=my_file_handle.read()\n",
    "my_file_handle=open(path_target+'/'+momfilename_target)\n",
    "textbuffer_target=my_file_handle.read()"
   ]
  },
  {
   "cell_type": "markdown",
   "metadata": {},
   "source": [
    "##    $\\Delta$ factor use and outputs for  Private Busineses"
   ]
  },
  {
   "cell_type": "code",
   "execution_count": 42,
   "metadata": {},
   "outputs": [
    {
     "name": "stdout",
     "output_type": "stream",
     "text": [
      "---------------- sum change (%)--------------\n",
      "x         2.062 \n",
      "hy        18.893\n",
      "ns        -5.630\n",
      "hkap      12.471\n",
      "ne        17.515\n",
      "ys        2.127 \n",
      "ks        -0.513\n",
      "kappa     3.471 \n",
      "bus_inc   3.655 \n",
      "pys       -0.906\n",
      "wns       -5.172\n",
      "val_mf    4.453 \n",
      "val_sdf   2.000 \n",
      "div       -4.962\n",
      "s_age     7.271 \n",
      "pys       -0.906\n",
      "dtype: float64\n"
     ]
    }
   ],
   "source": [
    "varlist=['x','hy','ns','hkap','ne','ys','ks','kappa','bus_inc','pys','wns','val_mf','val_sdf','div','s_age','pys']\n",
    "print(\"---------------- sum change (%)--------------\")\n",
    "# per_change_agg=100.*(df_target[varlist].sum()/df_baseline[varlist].sum() -1.)\n",
    "# print(per_change_agg)\n",
    "print(100.*(df_target.sum()/df_baseline.sum() - 1.)[varlist])"
   ]
  },
  {
   "cell_type": "markdown",
   "metadata": {},
   "source": [
    "##  Aggregate $\\Delta$ profitability\n",
    "Agg profitability is defined as  sum of business incomes in passthrus / sum of physical capital used in pass thrus "
   ]
  },
  {
   "cell_type": "code",
   "execution_count": 43,
   "metadata": {},
   "outputs": [
    {
     "name": "stdout",
     "output_type": "stream",
     "text": [
      "---------------- profitability --------------\n",
      "after tax change:   8.23\n",
      "Baseline:           7.90\n",
      "DELTA:              4.19\n"
     ]
    }
   ],
   "source": [
    "print(\"---------------- profitability --------------\")\n",
    "target_profitability=df_target.bus_inc.sum()/df_target.ks.sum()\n",
    "baseline_profitability=df_baseline.bus_inc.sum()/df_baseline.ks.sum()\n",
    "print(\"after tax change:  % 4.2f\" % (100*target_profitability))\n",
    "print(\"Baseline:          % 4.2f\"  % (100*baseline_profitability))\n",
    "print(\"DELTA:             % 4.2f\" % ( 100*(target_profitability/baseline_profitability-1) ))\n"
   ]
  },
  {
   "cell_type": "markdown",
   "metadata": {},
   "source": [
    "##  Aggregate $\\Delta$ markups\n",
    "Agg markups  is defined as  sum of business incomes in passthrus / sum rental and wage expenses in pass thrus "
   ]
  },
  {
   "cell_type": "code",
   "execution_count": 44,
   "metadata": {},
   "outputs": [
    {
     "name": "stdout",
     "output_type": "stream",
     "text": [
      "after tax change:   41.14\n",
      "Baseline:           38.63\n",
      "DELTA:              6.50\n"
     ]
    }
   ],
   "source": [
    "target_markups=df_target.bus_inc.sum()/df_target.cogs.sum()\n",
    "baseline_markups=df_baseline.bus_inc.sum()/df_baseline.cogs.sum()\n",
    "print(\"after tax change:  % 4.2f\" % (100*target_markups))\n",
    "print(\"Baseline:          % 4.2f\"  % (100*baseline_markups))\n",
    "print(\"DELTA:             % 4.2f\" % ( 100*(target_markups/baseline_markups-1) ))\n"
   ]
  },
  {
   "cell_type": "markdown",
   "metadata": {},
   "source": [
    "## Aggregate $\\Delta$ TFP in passthru\n",
    "Agg. TFP is defined as (sum of ys )  divided   (sum of ks)^(1/3) x (sum of ns)^(2/3)"
   ]
  },
  {
   "cell_type": "code",
   "execution_count": 45,
   "metadata": {},
   "outputs": [
    {
     "name": "stdout",
     "output_type": "stream",
     "text": [
      "after tax change:    2.32\n",
      "Baseline:            2.18\n",
      "DELTA:               6.29\n"
     ]
    }
   ],
   "source": [
    "target_TFP=(df_target.ys.sum())/ (((df_target.ks.sum())**(0.33))*((df_target.ns.sum())**(0.66)))\n",
    "baseline_TFP=(df_baseline.ys.sum()) /(((df_baseline.ks.sum())**(0.33))*((df_baseline.ns.sum())**(0.66)))\n",
    "print(\"after tax change:   % 4.2f\" % (target_TFP))\n",
    "print(\"Baseline:           % 4.2f\" % (baseline_TFP))\n",
    "print(\"DELTA:              % 4.2f\"% (100*(target_TFP/baseline_TFP-1))) \n"
   ]
  },
  {
   "cell_type": "markdown",
   "metadata": {},
   "source": [
    "## Decomposition of $\\Delta$ by Owner productivity \"z\""
   ]
  },
  {
   "cell_type": "code",
   "execution_count": 46,
   "metadata": {},
   "outputs": [
    {
     "name": "stdout",
     "output_type": "stream",
     "text": [
      "\n",
      "SORTED BY z\n",
      "BINS = [-1.0, 0.43, 0.66, 1.0, 1.52, 2.32]\n"
     ]
    }
   ],
   "source": [
    "var_bin = 'z'\n",
    "var_list=['ztilde','eps','a','bus_inc','ys','ks','kappa','ns','hy','hkap','ztilde_meas','zkapphi','ne','measured_markups','pys','wns']\n",
    "bins=data[sel].z\n",
    "bins=np.hstack((-1,sorted(data.z.unique())))\n",
    "total,sum_baseline,intensive_alt,extensive_alt=print_results(var_bin,bins,var_list,df_baseline,df_target)"
   ]
  },
  {
   "cell_type": "markdown",
   "metadata": {},
   "source": [
    "### Total change"
   ]
  },
  {
   "cell_type": "code",
   "execution_count": 47,
   "metadata": {},
   "outputs": [
    {
     "data": {
      "text/html": [
       "<div>\n",
       "<style scoped>\n",
       "    .dataframe tbody tr th:only-of-type {\n",
       "        vertical-align: middle;\n",
       "    }\n",
       "\n",
       "    .dataframe tbody tr th {\n",
       "        vertical-align: top;\n",
       "    }\n",
       "\n",
       "    .dataframe thead th {\n",
       "        text-align: right;\n",
       "    }\n",
       "</style>\n",
       "<table border=\"1\" class=\"dataframe\">\n",
       "  <thead>\n",
       "    <tr style=\"text-align: right;\">\n",
       "      <th></th>\n",
       "      <th>bins/total</th>\n",
       "      <th>ztilde</th>\n",
       "      <th>eps</th>\n",
       "      <th>a</th>\n",
       "      <th>bus_inc</th>\n",
       "      <th>ys</th>\n",
       "      <th>ks</th>\n",
       "      <th>kappa</th>\n",
       "      <th>ns</th>\n",
       "      <th>hy</th>\n",
       "      <th>hkap</th>\n",
       "      <th>ztilde_meas</th>\n",
       "      <th>zkapphi</th>\n",
       "      <th>ne</th>\n",
       "      <th>measured_markups</th>\n",
       "      <th>pys</th>\n",
       "      <th>wns</th>\n",
       "    </tr>\n",
       "  </thead>\n",
       "  <tbody>\n",
       "    <tr>\n",
       "      <th>0</th>\n",
       "      <td>(-1.0, 0.432]</td>\n",
       "      <td>-3.100</td>\n",
       "      <td>0.972</td>\n",
       "      <td>-1.513</td>\n",
       "      <td>0.002</td>\n",
       "      <td>0.000</td>\n",
       "      <td>-0.000</td>\n",
       "      <td>0.053</td>\n",
       "      <td>-0.000</td>\n",
       "      <td>0.000</td>\n",
       "      <td>0.007</td>\n",
       "      <td>2.368</td>\n",
       "      <td>0.189</td>\n",
       "      <td>0.002</td>\n",
       "      <td>13.430</td>\n",
       "      <td>-0.000</td>\n",
       "      <td>-0.000</td>\n",
       "    </tr>\n",
       "    <tr>\n",
       "      <th>1</th>\n",
       "      <td>(0.432, 0.657]</td>\n",
       "      <td>-1.160</td>\n",
       "      <td>0.736</td>\n",
       "      <td>-1.524</td>\n",
       "      <td>0.001</td>\n",
       "      <td>0.000</td>\n",
       "      <td>-0.000</td>\n",
       "      <td>-0.027</td>\n",
       "      <td>-0.000</td>\n",
       "      <td>0.002</td>\n",
       "      <td>0.005</td>\n",
       "      <td>1.976</td>\n",
       "      <td>0.196</td>\n",
       "      <td>0.002</td>\n",
       "      <td>6.564</td>\n",
       "      <td>-0.000</td>\n",
       "      <td>-0.000</td>\n",
       "    </tr>\n",
       "    <tr>\n",
       "      <th>2</th>\n",
       "      <td>(0.657, 1.0]</td>\n",
       "      <td>0.000</td>\n",
       "      <td>0.902</td>\n",
       "      <td>-1.605</td>\n",
       "      <td>0.008</td>\n",
       "      <td>0.003</td>\n",
       "      <td>0.000</td>\n",
       "      <td>0.030</td>\n",
       "      <td>-0.006</td>\n",
       "      <td>0.051</td>\n",
       "      <td>0.008</td>\n",
       "      <td>2.317</td>\n",
       "      <td>0.449</td>\n",
       "      <td>0.042</td>\n",
       "      <td>-0.954</td>\n",
       "      <td>-0.000</td>\n",
       "      <td>-0.005</td>\n",
       "    </tr>\n",
       "    <tr>\n",
       "      <th>3</th>\n",
       "      <td>(1.0, 1.522]</td>\n",
       "      <td>2.327</td>\n",
       "      <td>1.486</td>\n",
       "      <td>-2.262</td>\n",
       "      <td>0.270</td>\n",
       "      <td>0.154</td>\n",
       "      <td>0.044</td>\n",
       "      <td>0.405</td>\n",
       "      <td>-0.172</td>\n",
       "      <td>1.571</td>\n",
       "      <td>0.015</td>\n",
       "      <td>3.483</td>\n",
       "      <td>1.316</td>\n",
       "      <td>1.237</td>\n",
       "      <td>-19.386</td>\n",
       "      <td>0.028</td>\n",
       "      <td>-0.156</td>\n",
       "    </tr>\n",
       "    <tr>\n",
       "      <th>4</th>\n",
       "      <td>(1.522, 2.317]</td>\n",
       "      <td>12.840</td>\n",
       "      <td>4.611</td>\n",
       "      <td>-3.299</td>\n",
       "      <td>3.374</td>\n",
       "      <td>1.970</td>\n",
       "      <td>-0.557</td>\n",
       "      <td>3.010</td>\n",
       "      <td>-5.452</td>\n",
       "      <td>17.268</td>\n",
       "      <td>12.437</td>\n",
       "      <td>7.315</td>\n",
       "      <td>6.731</td>\n",
       "      <td>16.232</td>\n",
       "      <td>-39.508</td>\n",
       "      <td>-0.933</td>\n",
       "      <td>-5.010</td>\n",
       "    </tr>\n",
       "    <tr>\n",
       "      <th>5</th>\n",
       "      <td>total</td>\n",
       "      <td>10.907</td>\n",
       "      <td>8.706</td>\n",
       "      <td>-10.202</td>\n",
       "      <td>3.655</td>\n",
       "      <td>2.127</td>\n",
       "      <td>-0.513</td>\n",
       "      <td>3.471</td>\n",
       "      <td>-5.630</td>\n",
       "      <td>18.893</td>\n",
       "      <td>12.471</td>\n",
       "      <td>17.460</td>\n",
       "      <td>8.881</td>\n",
       "      <td>17.515</td>\n",
       "      <td>-39.854</td>\n",
       "      <td>-0.906</td>\n",
       "      <td>-5.172</td>\n",
       "    </tr>\n",
       "  </tbody>\n",
       "</table>\n",
       "</div>"
      ],
      "text/plain": [
       "       bins/total  ztilde   eps       a  bus_inc    ys     ks  kappa     ns  \\\n",
       "0  (-1.0, 0.432]  -3.100  0.972 -1.513  0.002    0.000 -0.000 0.053  -0.000   \n",
       "1  (0.432, 0.657] -1.160  0.736 -1.524  0.001    0.000 -0.000 -0.027 -0.000   \n",
       "2  (0.657, 1.0]   0.000   0.902 -1.605  0.008    0.003 0.000  0.030  -0.006   \n",
       "3  (1.0, 1.522]   2.327   1.486 -2.262  0.270    0.154 0.044  0.405  -0.172   \n",
       "4  (1.522, 2.317] 12.840  4.611 -3.299  3.374    1.970 -0.557 3.010  -5.452   \n",
       "5  total          10.907  8.706 -10.202 3.655    2.127 -0.513 3.471  -5.630   \n",
       "\n",
       "      hy   hkap  ztilde_meas  zkapphi     ne  measured_markups    pys    wns  \n",
       "0 0.000  0.007  2.368        0.189    0.002  13.430            -0.000 -0.000  \n",
       "1 0.002  0.005  1.976        0.196    0.002  6.564             -0.000 -0.000  \n",
       "2 0.051  0.008  2.317        0.449    0.042  -0.954            -0.000 -0.005  \n",
       "3 1.571  0.015  3.483        1.316    1.237  -19.386           0.028  -0.156  \n",
       "4 17.268 12.437 7.315        6.731    16.232 -39.508           -0.933 -5.010  \n",
       "5 18.893 12.471 17.460       8.881    17.515 -39.854           -0.906 -5.172  "
      ]
     },
     "execution_count": 47,
     "metadata": {},
     "output_type": "execute_result"
    }
   ],
   "source": [
    "agg= 100*total/sum_baseline.sum() \n",
    "aggsum=100*total.sum()/sum_baseline.sum()    \n",
    "format_table(agg,aggsum)   "
   ]
  },
  {
   "cell_type": "markdown",
   "metadata": {},
   "source": [
    "### Intensive "
   ]
  },
  {
   "cell_type": "code",
   "execution_count": 48,
   "metadata": {},
   "outputs": [
    {
     "data": {
      "text/html": [
       "<div>\n",
       "<style scoped>\n",
       "    .dataframe tbody tr th:only-of-type {\n",
       "        vertical-align: middle;\n",
       "    }\n",
       "\n",
       "    .dataframe tbody tr th {\n",
       "        vertical-align: top;\n",
       "    }\n",
       "\n",
       "    .dataframe thead th {\n",
       "        text-align: right;\n",
       "    }\n",
       "</style>\n",
       "<table border=\"1\" class=\"dataframe\">\n",
       "  <thead>\n",
       "    <tr style=\"text-align: right;\">\n",
       "      <th></th>\n",
       "      <th>bins/total</th>\n",
       "      <th>ztilde</th>\n",
       "      <th>eps</th>\n",
       "      <th>a</th>\n",
       "      <th>bus_inc</th>\n",
       "      <th>ys</th>\n",
       "      <th>ks</th>\n",
       "      <th>kappa</th>\n",
       "      <th>ns</th>\n",
       "      <th>hy</th>\n",
       "      <th>hkap</th>\n",
       "      <th>ztilde_meas</th>\n",
       "      <th>zkapphi</th>\n",
       "      <th>ne</th>\n",
       "      <th>measured_markups</th>\n",
       "      <th>pys</th>\n",
       "      <th>wns</th>\n",
       "    </tr>\n",
       "  </thead>\n",
       "  <tbody>\n",
       "    <tr>\n",
       "      <th>0</th>\n",
       "      <td>(-1.0, 0.432]</td>\n",
       "      <td>0.000</td>\n",
       "      <td>0.041</td>\n",
       "      <td>-2.396</td>\n",
       "      <td>0.003</td>\n",
       "      <td>-0.000</td>\n",
       "      <td>-0.000</td>\n",
       "      <td>-0.441</td>\n",
       "      <td>-0.000</td>\n",
       "      <td>0.000</td>\n",
       "      <td>-0.004</td>\n",
       "      <td>1.258</td>\n",
       "      <td>-0.008</td>\n",
       "      <td>-0.001</td>\n",
       "      <td>-0.411</td>\n",
       "      <td>-0.000</td>\n",
       "      <td>-0.000</td>\n",
       "    </tr>\n",
       "    <tr>\n",
       "      <th>1</th>\n",
       "      <td>(0.432, 0.657]</td>\n",
       "      <td>0.000</td>\n",
       "      <td>0.043</td>\n",
       "      <td>-2.169</td>\n",
       "      <td>0.002</td>\n",
       "      <td>-0.000</td>\n",
       "      <td>-0.000</td>\n",
       "      <td>-0.285</td>\n",
       "      <td>-0.000</td>\n",
       "      <td>0.001</td>\n",
       "      <td>-0.001</td>\n",
       "      <td>1.174</td>\n",
       "      <td>-0.009</td>\n",
       "      <td>0.001</td>\n",
       "      <td>-1.705</td>\n",
       "      <td>-0.000</td>\n",
       "      <td>-0.000</td>\n",
       "    </tr>\n",
       "    <tr>\n",
       "      <th>2</th>\n",
       "      <td>(0.657, 1.0]</td>\n",
       "      <td>0.000</td>\n",
       "      <td>0.021</td>\n",
       "      <td>-2.447</td>\n",
       "      <td>-0.002</td>\n",
       "      <td>-0.004</td>\n",
       "      <td>-0.007</td>\n",
       "      <td>-0.455</td>\n",
       "      <td>-0.011</td>\n",
       "      <td>0.032</td>\n",
       "      <td>-0.002</td>\n",
       "      <td>1.280</td>\n",
       "      <td>0.006</td>\n",
       "      <td>0.025</td>\n",
       "      <td>-4.152</td>\n",
       "      <td>-0.007</td>\n",
       "      <td>-0.011</td>\n",
       "    </tr>\n",
       "    <tr>\n",
       "      <th>3</th>\n",
       "      <td>(1.0, 1.522]</td>\n",
       "      <td>0.000</td>\n",
       "      <td>0.059</td>\n",
       "      <td>-3.568</td>\n",
       "      <td>-0.163</td>\n",
       "      <td>-0.139</td>\n",
       "      <td>-0.245</td>\n",
       "      <td>-0.824</td>\n",
       "      <td>-0.401</td>\n",
       "      <td>0.915</td>\n",
       "      <td>-0.012</td>\n",
       "      <td>1.855</td>\n",
       "      <td>0.029</td>\n",
       "      <td>0.716</td>\n",
       "      <td>-12.260</td>\n",
       "      <td>-0.261</td>\n",
       "      <td>-0.386</td>\n",
       "    </tr>\n",
       "    <tr>\n",
       "      <th>4</th>\n",
       "      <td>(1.522, 2.317]</td>\n",
       "      <td>0.000</td>\n",
       "      <td>0.395</td>\n",
       "      <td>-7.021</td>\n",
       "      <td>-5.592</td>\n",
       "      <td>-7.115</td>\n",
       "      <td>-9.528</td>\n",
       "      <td>-3.109</td>\n",
       "      <td>-14.276</td>\n",
       "      <td>7.937</td>\n",
       "      <td>2.563</td>\n",
       "      <td>3.330</td>\n",
       "      <td>-0.099</td>\n",
       "      <td>6.784</td>\n",
       "      <td>-19.819</td>\n",
       "      <td>-9.888</td>\n",
       "      <td>-13.855</td>\n",
       "    </tr>\n",
       "    <tr>\n",
       "      <th>5</th>\n",
       "      <td>total</td>\n",
       "      <td>0.000</td>\n",
       "      <td>0.558</td>\n",
       "      <td>-17.602</td>\n",
       "      <td>-5.751</td>\n",
       "      <td>-7.258</td>\n",
       "      <td>-9.780</td>\n",
       "      <td>-5.114</td>\n",
       "      <td>-14.689</td>\n",
       "      <td>8.885</td>\n",
       "      <td>2.543</td>\n",
       "      <td>8.898</td>\n",
       "      <td>-0.081</td>\n",
       "      <td>7.524</td>\n",
       "      <td>-38.348</td>\n",
       "      <td>-10.156</td>\n",
       "      <td>-14.252</td>\n",
       "    </tr>\n",
       "  </tbody>\n",
       "</table>\n",
       "</div>"
      ],
      "text/plain": [
       "       bins/total  ztilde   eps       a  bus_inc     ys     ks  kappa      ns  \\\n",
       "0  (-1.0, 0.432]  0.000   0.041 -2.396  0.003    -0.000 -0.000 -0.441 -0.000    \n",
       "1  (0.432, 0.657] 0.000   0.043 -2.169  0.002    -0.000 -0.000 -0.285 -0.000    \n",
       "2  (0.657, 1.0]   0.000   0.021 -2.447  -0.002   -0.004 -0.007 -0.455 -0.011    \n",
       "3  (1.0, 1.522]   0.000   0.059 -3.568  -0.163   -0.139 -0.245 -0.824 -0.401    \n",
       "4  (1.522, 2.317] 0.000   0.395 -7.021  -5.592   -7.115 -9.528 -3.109 -14.276   \n",
       "5  total          0.000   0.558 -17.602 -5.751   -7.258 -9.780 -5.114 -14.689   \n",
       "\n",
       "     hy   hkap  ztilde_meas  zkapphi     ne  measured_markups     pys     wns  \n",
       "0 0.000 -0.004 1.258        -0.008   -0.001 -0.411            -0.000  -0.000   \n",
       "1 0.001 -0.001 1.174        -0.009   0.001  -1.705            -0.000  -0.000   \n",
       "2 0.032 -0.002 1.280        0.006    0.025  -4.152            -0.007  -0.011   \n",
       "3 0.915 -0.012 1.855        0.029    0.716  -12.260           -0.261  -0.386   \n",
       "4 7.937 2.563  3.330        -0.099   6.784  -19.819           -9.888  -13.855  \n",
       "5 8.885 2.543  8.898        -0.081   7.524  -38.348           -10.156 -14.252  "
      ]
     },
     "execution_count": 48,
     "metadata": {},
     "output_type": "execute_result"
    }
   ],
   "source": [
    "format_table(intensive_alt,intensive_alt.sum())   "
   ]
  },
  {
   "cell_type": "markdown",
   "metadata": {},
   "source": [
    "### Extensive"
   ]
  },
  {
   "cell_type": "code",
   "execution_count": 49,
   "metadata": {},
   "outputs": [
    {
     "data": {
      "text/html": [
       "<div>\n",
       "<style scoped>\n",
       "    .dataframe tbody tr th:only-of-type {\n",
       "        vertical-align: middle;\n",
       "    }\n",
       "\n",
       "    .dataframe tbody tr th {\n",
       "        vertical-align: top;\n",
       "    }\n",
       "\n",
       "    .dataframe thead th {\n",
       "        text-align: right;\n",
       "    }\n",
       "</style>\n",
       "<table border=\"1\" class=\"dataframe\">\n",
       "  <thead>\n",
       "    <tr style=\"text-align: right;\">\n",
       "      <th></th>\n",
       "      <th>bins/total</th>\n",
       "      <th>ztilde</th>\n",
       "      <th>eps</th>\n",
       "      <th>a</th>\n",
       "      <th>bus_inc</th>\n",
       "      <th>ys</th>\n",
       "      <th>ks</th>\n",
       "      <th>kappa</th>\n",
       "      <th>ns</th>\n",
       "      <th>hy</th>\n",
       "      <th>hkap</th>\n",
       "      <th>ztilde_meas</th>\n",
       "      <th>zkapphi</th>\n",
       "      <th>ne</th>\n",
       "      <th>measured_markups</th>\n",
       "      <th>pys</th>\n",
       "      <th>wns</th>\n",
       "    </tr>\n",
       "  </thead>\n",
       "  <tbody>\n",
       "    <tr>\n",
       "      <th>0</th>\n",
       "      <td>(-1.0, 0.432]</td>\n",
       "      <td>-3.100</td>\n",
       "      <td>0.931</td>\n",
       "      <td>0.884</td>\n",
       "      <td>-0.002</td>\n",
       "      <td>0.000</td>\n",
       "      <td>0.000</td>\n",
       "      <td>0.494</td>\n",
       "      <td>0.000</td>\n",
       "      <td>0.000</td>\n",
       "      <td>0.011</td>\n",
       "      <td>1.110</td>\n",
       "      <td>0.197</td>\n",
       "      <td>0.002</td>\n",
       "      <td>13.840</td>\n",
       "      <td>0.000</td>\n",
       "      <td>0.000</td>\n",
       "    </tr>\n",
       "    <tr>\n",
       "      <th>1</th>\n",
       "      <td>(0.432, 0.657]</td>\n",
       "      <td>-1.160</td>\n",
       "      <td>0.693</td>\n",
       "      <td>0.645</td>\n",
       "      <td>-0.001</td>\n",
       "      <td>0.000</td>\n",
       "      <td>0.000</td>\n",
       "      <td>0.258</td>\n",
       "      <td>0.000</td>\n",
       "      <td>0.001</td>\n",
       "      <td>0.006</td>\n",
       "      <td>0.802</td>\n",
       "      <td>0.205</td>\n",
       "      <td>0.002</td>\n",
       "      <td>8.270</td>\n",
       "      <td>0.000</td>\n",
       "      <td>0.000</td>\n",
       "    </tr>\n",
       "    <tr>\n",
       "      <th>2</th>\n",
       "      <td>(0.657, 1.0]</td>\n",
       "      <td>0.000</td>\n",
       "      <td>0.881</td>\n",
       "      <td>0.842</td>\n",
       "      <td>0.010</td>\n",
       "      <td>0.007</td>\n",
       "      <td>0.007</td>\n",
       "      <td>0.485</td>\n",
       "      <td>0.006</td>\n",
       "      <td>0.019</td>\n",
       "      <td>0.010</td>\n",
       "      <td>1.036</td>\n",
       "      <td>0.443</td>\n",
       "      <td>0.017</td>\n",
       "      <td>3.198</td>\n",
       "      <td>0.007</td>\n",
       "      <td>0.006</td>\n",
       "    </tr>\n",
       "    <tr>\n",
       "      <th>3</th>\n",
       "      <td>(1.0, 1.522]</td>\n",
       "      <td>2.327</td>\n",
       "      <td>1.427</td>\n",
       "      <td>1.306</td>\n",
       "      <td>0.433</td>\n",
       "      <td>0.293</td>\n",
       "      <td>0.289</td>\n",
       "      <td>1.229</td>\n",
       "      <td>0.229</td>\n",
       "      <td>0.656</td>\n",
       "      <td>0.027</td>\n",
       "      <td>1.628</td>\n",
       "      <td>1.287</td>\n",
       "      <td>0.521</td>\n",
       "      <td>-7.125</td>\n",
       "      <td>0.289</td>\n",
       "      <td>0.230</td>\n",
       "    </tr>\n",
       "    <tr>\n",
       "      <th>4</th>\n",
       "      <td>(1.522, 2.317]</td>\n",
       "      <td>12.840</td>\n",
       "      <td>4.216</td>\n",
       "      <td>3.723</td>\n",
       "      <td>8.966</td>\n",
       "      <td>9.084</td>\n",
       "      <td>8.971</td>\n",
       "      <td>6.119</td>\n",
       "      <td>8.825</td>\n",
       "      <td>9.332</td>\n",
       "      <td>9.874</td>\n",
       "      <td>3.986</td>\n",
       "      <td>6.830</td>\n",
       "      <td>9.448</td>\n",
       "      <td>-19.690</td>\n",
       "      <td>8.954</td>\n",
       "      <td>8.844</td>\n",
       "    </tr>\n",
       "    <tr>\n",
       "      <th>5</th>\n",
       "      <td>total</td>\n",
       "      <td>10.907</td>\n",
       "      <td>8.148</td>\n",
       "      <td>7.400</td>\n",
       "      <td>9.406</td>\n",
       "      <td>9.385</td>\n",
       "      <td>9.268</td>\n",
       "      <td>8.585</td>\n",
       "      <td>9.060</td>\n",
       "      <td>10.008</td>\n",
       "      <td>9.928</td>\n",
       "      <td>8.562</td>\n",
       "      <td>8.962</td>\n",
       "      <td>9.991</td>\n",
       "      <td>-1.507</td>\n",
       "      <td>9.250</td>\n",
       "      <td>9.080</td>\n",
       "    </tr>\n",
       "  </tbody>\n",
       "</table>\n",
       "</div>"
      ],
      "text/plain": [
       "       bins/total  ztilde   eps     a  bus_inc    ys    ks  kappa    ns  \\\n",
       "0  (-1.0, 0.432]  -3.100  0.931 0.884 -0.002   0.000 0.000 0.494  0.000   \n",
       "1  (0.432, 0.657] -1.160  0.693 0.645 -0.001   0.000 0.000 0.258  0.000   \n",
       "2  (0.657, 1.0]   0.000   0.881 0.842 0.010    0.007 0.007 0.485  0.006   \n",
       "3  (1.0, 1.522]   2.327   1.427 1.306 0.433    0.293 0.289 1.229  0.229   \n",
       "4  (1.522, 2.317] 12.840  4.216 3.723 8.966    9.084 8.971 6.119  8.825   \n",
       "5  total          10.907  8.148 7.400 9.406    9.385 9.268 8.585  9.060   \n",
       "\n",
       "      hy  hkap  ztilde_meas  zkapphi    ne  measured_markups   pys   wns  \n",
       "0 0.000  0.011 1.110        0.197    0.002 13.840            0.000 0.000  \n",
       "1 0.001  0.006 0.802        0.205    0.002 8.270             0.000 0.000  \n",
       "2 0.019  0.010 1.036        0.443    0.017 3.198             0.007 0.006  \n",
       "3 0.656  0.027 1.628        1.287    0.521 -7.125            0.289 0.230  \n",
       "4 9.332  9.874 3.986        6.830    9.448 -19.690           8.954 8.844  \n",
       "5 10.008 9.928 8.562        8.962    9.991 -1.507            9.250 9.080  "
      ]
     },
     "execution_count": 49,
     "metadata": {},
     "output_type": "execute_result"
    }
   ],
   "source": [
    "format_table(extensive_alt,extensive_alt.sum())   "
   ]
  },
  {
   "cell_type": "markdown",
   "metadata": {},
   "source": [
    "##  Decomposition of $\\Delta$ by Owner sweat capital"
   ]
  },
  {
   "cell_type": "code",
   "execution_count": 50,
   "metadata": {},
   "outputs": [
    {
     "name": "stdout",
     "output_type": "stream",
     "text": [
      "\n",
      "SORTED BY kappa\n",
      "BINS = [-inf, 0.0, 0.14, 0.67, 0.86, inf]\n"
     ]
    }
   ],
   "source": [
    "var_bin = 'kappa'\n",
    "num_bins=5\n",
    "tmp, bins_original = pd.qcut(df_baseline[var_bin], q = num_bins, labels=False, retbins = True)\n",
    "df_baseline['bin_' + var_bin] = tmp[:]\n",
    "bins = bins_original.copy()\n",
    "bins[0] = -np.inf\n",
    "bins[-1] = np.inf\n",
    "total,sum_baseline,intensive_alt,extensive_alt=print_results(var_bin,bins,var_list,df_baseline,df_target)\n"
   ]
  },
  {
   "cell_type": "markdown",
   "metadata": {},
   "source": [
    "### Total change"
   ]
  },
  {
   "cell_type": "code",
   "execution_count": 51,
   "metadata": {},
   "outputs": [
    {
     "data": {
      "text/html": [
       "<div>\n",
       "<style scoped>\n",
       "    .dataframe tbody tr th:only-of-type {\n",
       "        vertical-align: middle;\n",
       "    }\n",
       "\n",
       "    .dataframe tbody tr th {\n",
       "        vertical-align: top;\n",
       "    }\n",
       "\n",
       "    .dataframe thead th {\n",
       "        text-align: right;\n",
       "    }\n",
       "</style>\n",
       "<table border=\"1\" class=\"dataframe\">\n",
       "  <thead>\n",
       "    <tr style=\"text-align: right;\">\n",
       "      <th></th>\n",
       "      <th>bins/total</th>\n",
       "      <th>ztilde</th>\n",
       "      <th>eps</th>\n",
       "      <th>a</th>\n",
       "      <th>bus_inc</th>\n",
       "      <th>ys</th>\n",
       "      <th>ks</th>\n",
       "      <th>kappa</th>\n",
       "      <th>ns</th>\n",
       "      <th>hy</th>\n",
       "      <th>hkap</th>\n",
       "      <th>ztilde_meas</th>\n",
       "      <th>zkapphi</th>\n",
       "      <th>ne</th>\n",
       "      <th>measured_markups</th>\n",
       "      <th>pys</th>\n",
       "      <th>wns</th>\n",
       "    </tr>\n",
       "  </thead>\n",
       "  <tbody>\n",
       "    <tr>\n",
       "      <th>0</th>\n",
       "      <td>(-inf, 0.000352]</td>\n",
       "      <td>-0.733</td>\n",
       "      <td>0.721</td>\n",
       "      <td>-2.100</td>\n",
       "      <td>0.000</td>\n",
       "      <td>0.000</td>\n",
       "      <td>0.000</td>\n",
       "      <td>0.000</td>\n",
       "      <td>-0.000</td>\n",
       "      <td>0.000</td>\n",
       "      <td>0.000</td>\n",
       "      <td>2.538</td>\n",
       "      <td>0.142</td>\n",
       "      <td>0.000</td>\n",
       "      <td>0.440</td>\n",
       "      <td>-0.000</td>\n",
       "      <td>-0.000</td>\n",
       "    </tr>\n",
       "    <tr>\n",
       "      <th>1</th>\n",
       "      <td>(0.000352, 0.136]</td>\n",
       "      <td>-0.160</td>\n",
       "      <td>2.171</td>\n",
       "      <td>-2.496</td>\n",
       "      <td>0.003</td>\n",
       "      <td>-0.003</td>\n",
       "      <td>-0.005</td>\n",
       "      <td>0.138</td>\n",
       "      <td>-0.008</td>\n",
       "      <td>0.024</td>\n",
       "      <td>-0.013</td>\n",
       "      <td>4.383</td>\n",
       "      <td>1.071</td>\n",
       "      <td>0.016</td>\n",
       "      <td>5.548</td>\n",
       "      <td>-0.005</td>\n",
       "      <td>-0.008</td>\n",
       "    </tr>\n",
       "    <tr>\n",
       "      <th>2</th>\n",
       "      <td>(0.136, 0.674]</td>\n",
       "      <td>3.517</td>\n",
       "      <td>4.816</td>\n",
       "      <td>0.592</td>\n",
       "      <td>4.097</td>\n",
       "      <td>2.907</td>\n",
       "      <td>2.681</td>\n",
       "      <td>5.053</td>\n",
       "      <td>2.168</td>\n",
       "      <td>5.144</td>\n",
       "      <td>0.299</td>\n",
       "      <td>6.739</td>\n",
       "      <td>4.785</td>\n",
       "      <td>4.104</td>\n",
       "      <td>-25.925</td>\n",
       "      <td>2.647</td>\n",
       "      <td>2.205</td>\n",
       "    </tr>\n",
       "    <tr>\n",
       "      <th>3</th>\n",
       "      <td>(0.674, 0.858]</td>\n",
       "      <td>35.953</td>\n",
       "      <td>11.341</td>\n",
       "      <td>6.173</td>\n",
       "      <td>48.741</td>\n",
       "      <td>39.445</td>\n",
       "      <td>37.776</td>\n",
       "      <td>19.052</td>\n",
       "      <td>34.963</td>\n",
       "      <td>47.490</td>\n",
       "      <td>8.786</td>\n",
       "      <td>11.876</td>\n",
       "      <td>20.826</td>\n",
       "      <td>39.186</td>\n",
       "      <td>-102.164</td>\n",
       "      <td>37.528</td>\n",
       "      <td>35.252</td>\n",
       "    </tr>\n",
       "    <tr>\n",
       "      <th>4</th>\n",
       "      <td>(0.858, inf]</td>\n",
       "      <td>-27.670</td>\n",
       "      <td>-10.343</td>\n",
       "      <td>-12.370</td>\n",
       "      <td>-49.185</td>\n",
       "      <td>-40.222</td>\n",
       "      <td>-40.965</td>\n",
       "      <td>-20.772</td>\n",
       "      <td>-42.753</td>\n",
       "      <td>-33.765</td>\n",
       "      <td>3.399</td>\n",
       "      <td>-8.076</td>\n",
       "      <td>-17.942</td>\n",
       "      <td>-25.791</td>\n",
       "      <td>82.246</td>\n",
       "      <td>-41.076</td>\n",
       "      <td>-42.622</td>\n",
       "    </tr>\n",
       "    <tr>\n",
       "      <th>5</th>\n",
       "      <td>total</td>\n",
       "      <td>10.907</td>\n",
       "      <td>8.706</td>\n",
       "      <td>-10.202</td>\n",
       "      <td>3.655</td>\n",
       "      <td>2.127</td>\n",
       "      <td>-0.513</td>\n",
       "      <td>3.471</td>\n",
       "      <td>-5.630</td>\n",
       "      <td>18.893</td>\n",
       "      <td>12.471</td>\n",
       "      <td>17.460</td>\n",
       "      <td>8.881</td>\n",
       "      <td>17.515</td>\n",
       "      <td>-39.854</td>\n",
       "      <td>-0.906</td>\n",
       "      <td>-5.172</td>\n",
       "    </tr>\n",
       "  </tbody>\n",
       "</table>\n",
       "</div>"
      ],
      "text/plain": [
       "          bins/total  ztilde     eps       a  bus_inc      ys      ks   kappa  \\\n",
       "0  (-inf, 0.000352]  -0.733  0.721   -2.100  0.000    0.000   0.000   0.000     \n",
       "1  (0.000352, 0.136] -0.160  2.171   -2.496  0.003    -0.003  -0.005  0.138     \n",
       "2  (0.136, 0.674]    3.517   4.816   0.592   4.097    2.907   2.681   5.053     \n",
       "3  (0.674, 0.858]    35.953  11.341  6.173   48.741   39.445  37.776  19.052    \n",
       "4  (0.858, inf]      -27.670 -10.343 -12.370 -49.185  -40.222 -40.965 -20.772   \n",
       "5  total             10.907  8.706   -10.202 3.655    2.127   -0.513  3.471     \n",
       "\n",
       "       ns      hy   hkap  ztilde_meas  zkapphi      ne  measured_markups  \\\n",
       "0 -0.000  0.000   0.000  2.538        0.142    0.000   0.440               \n",
       "1 -0.008  0.024   -0.013 4.383        1.071    0.016   5.548               \n",
       "2 2.168   5.144   0.299  6.739        4.785    4.104   -25.925             \n",
       "3 34.963  47.490  8.786  11.876       20.826   39.186  -102.164            \n",
       "4 -42.753 -33.765 3.399  -8.076       -17.942  -25.791 82.246              \n",
       "5 -5.630  18.893  12.471 17.460       8.881    17.515  -39.854             \n",
       "\n",
       "      pys     wns  \n",
       "0 -0.000  -0.000   \n",
       "1 -0.005  -0.008   \n",
       "2 2.647   2.205    \n",
       "3 37.528  35.252   \n",
       "4 -41.076 -42.622  \n",
       "5 -0.906  -5.172   "
      ]
     },
     "execution_count": 51,
     "metadata": {},
     "output_type": "execute_result"
    }
   ],
   "source": [
    "agg= 100*total/sum_baseline.sum()  \n",
    "aggsum=100*total.sum()/sum_baseline.sum()\n",
    "format_table(agg,aggsum)   "
   ]
  },
  {
   "cell_type": "markdown",
   "metadata": {},
   "source": [
    "### Intensive "
   ]
  },
  {
   "cell_type": "code",
   "execution_count": 52,
   "metadata": {},
   "outputs": [
    {
     "data": {
      "text/html": [
       "<div>\n",
       "<style scoped>\n",
       "    .dataframe tbody tr th:only-of-type {\n",
       "        vertical-align: middle;\n",
       "    }\n",
       "\n",
       "    .dataframe tbody tr th {\n",
       "        vertical-align: top;\n",
       "    }\n",
       "\n",
       "    .dataframe thead th {\n",
       "        text-align: right;\n",
       "    }\n",
       "</style>\n",
       "<table border=\"1\" class=\"dataframe\">\n",
       "  <thead>\n",
       "    <tr style=\"text-align: right;\">\n",
       "      <th></th>\n",
       "      <th>bins/total</th>\n",
       "      <th>ztilde</th>\n",
       "      <th>eps</th>\n",
       "      <th>a</th>\n",
       "      <th>bus_inc</th>\n",
       "      <th>ys</th>\n",
       "      <th>ks</th>\n",
       "      <th>kappa</th>\n",
       "      <th>ns</th>\n",
       "      <th>hy</th>\n",
       "      <th>hkap</th>\n",
       "      <th>ztilde_meas</th>\n",
       "      <th>zkapphi</th>\n",
       "      <th>ne</th>\n",
       "      <th>measured_markups</th>\n",
       "      <th>pys</th>\n",
       "      <th>wns</th>\n",
       "    </tr>\n",
       "  </thead>\n",
       "  <tbody>\n",
       "    <tr>\n",
       "      <th>0</th>\n",
       "      <td>(-inf, 0.000352]</td>\n",
       "      <td>-0.620</td>\n",
       "      <td>0.029</td>\n",
       "      <td>-2.672</td>\n",
       "      <td>-0.000</td>\n",
       "      <td>-0.000</td>\n",
       "      <td>-0.000</td>\n",
       "      <td>0.000</td>\n",
       "      <td>-0.000</td>\n",
       "      <td>0.000</td>\n",
       "      <td>0.000</td>\n",
       "      <td>1.743</td>\n",
       "      <td>0.040</td>\n",
       "      <td>0.000</td>\n",
       "      <td>-3.983</td>\n",
       "      <td>-0.000</td>\n",
       "      <td>-0.000</td>\n",
       "    </tr>\n",
       "    <tr>\n",
       "      <th>1</th>\n",
       "      <td>(0.000352, 0.136]</td>\n",
       "      <td>-0.046</td>\n",
       "      <td>0.089</td>\n",
       "      <td>-4.294</td>\n",
       "      <td>-0.007</td>\n",
       "      <td>-0.010</td>\n",
       "      <td>-0.012</td>\n",
       "      <td>-0.005</td>\n",
       "      <td>-0.014</td>\n",
       "      <td>0.004</td>\n",
       "      <td>-0.029</td>\n",
       "      <td>2.005</td>\n",
       "      <td>-0.018</td>\n",
       "      <td>-0.003</td>\n",
       "      <td>-6.058</td>\n",
       "      <td>-0.012</td>\n",
       "      <td>-0.014</td>\n",
       "    </tr>\n",
       "    <tr>\n",
       "      <th>2</th>\n",
       "      <td>(0.136, 0.674]</td>\n",
       "      <td>1.197</td>\n",
       "      <td>0.325</td>\n",
       "      <td>-3.954</td>\n",
       "      <td>2.600</td>\n",
       "      <td>1.484</td>\n",
       "      <td>1.278</td>\n",
       "      <td>0.565</td>\n",
       "      <td>0.885</td>\n",
       "      <td>3.102</td>\n",
       "      <td>-1.617</td>\n",
       "      <td>1.909</td>\n",
       "      <td>0.356</td>\n",
       "      <td>2.089</td>\n",
       "      <td>-25.445</td>\n",
       "      <td>1.247</td>\n",
       "      <td>0.919</td>\n",
       "    </tr>\n",
       "    <tr>\n",
       "      <th>3</th>\n",
       "      <td>(0.674, 0.858]</td>\n",
       "      <td>14.172</td>\n",
       "      <td>0.094</td>\n",
       "      <td>-4.053</td>\n",
       "      <td>31.925</td>\n",
       "      <td>21.594</td>\n",
       "      <td>20.215</td>\n",
       "      <td>-0.057</td>\n",
       "      <td>18.059</td>\n",
       "      <td>27.326</td>\n",
       "      <td>-15.356</td>\n",
       "      <td>0.930</td>\n",
       "      <td>4.420</td>\n",
       "      <td>18.168</td>\n",
       "      <td>-66.081</td>\n",
       "      <td>20.009</td>\n",
       "      <td>18.298</td>\n",
       "    </tr>\n",
       "    <tr>\n",
       "      <th>4</th>\n",
       "      <td>(0.858, inf]</td>\n",
       "      <td>1.037</td>\n",
       "      <td>-1.841</td>\n",
       "      <td>-4.212</td>\n",
       "      <td>-18.716</td>\n",
       "      <td>-9.948</td>\n",
       "      <td>-11.041</td>\n",
       "      <td>-0.354</td>\n",
       "      <td>-13.119</td>\n",
       "      <td>-3.519</td>\n",
       "      <td>32.673</td>\n",
       "      <td>1.176</td>\n",
       "      <td>0.276</td>\n",
       "      <td>4.246</td>\n",
       "      <td>42.477</td>\n",
       "      <td>-11.204</td>\n",
       "      <td>-12.926</td>\n",
       "    </tr>\n",
       "    <tr>\n",
       "      <th>5</th>\n",
       "      <td>total</td>\n",
       "      <td>15.740</td>\n",
       "      <td>-1.305</td>\n",
       "      <td>-19.186</td>\n",
       "      <td>15.802</td>\n",
       "      <td>13.119</td>\n",
       "      <td>10.439</td>\n",
       "      <td>0.149</td>\n",
       "      <td>5.812</td>\n",
       "      <td>26.913</td>\n",
       "      <td>15.671</td>\n",
       "      <td>7.764</td>\n",
       "      <td>5.075</td>\n",
       "      <td>24.501</td>\n",
       "      <td>-59.090</td>\n",
       "      <td>10.040</td>\n",
       "      <td>6.277</td>\n",
       "    </tr>\n",
       "  </tbody>\n",
       "</table>\n",
       "</div>"
      ],
      "text/plain": [
       "          bins/total  ztilde    eps       a  bus_inc     ys      ks  kappa  \\\n",
       "0  (-inf, 0.000352]  -0.620  0.029  -2.672  -0.000   -0.000 -0.000  0.000    \n",
       "1  (0.000352, 0.136] -0.046  0.089  -4.294  -0.007   -0.010 -0.012  -0.005   \n",
       "2  (0.136, 0.674]    1.197   0.325  -3.954  2.600    1.484  1.278   0.565    \n",
       "3  (0.674, 0.858]    14.172  0.094  -4.053  31.925   21.594 20.215  -0.057   \n",
       "4  (0.858, inf]      1.037   -1.841 -4.212  -18.716  -9.948 -11.041 -0.354   \n",
       "5  total             15.740  -1.305 -19.186 15.802   13.119 10.439  0.149    \n",
       "\n",
       "       ns     hy    hkap  ztilde_meas  zkapphi     ne  measured_markups  \\\n",
       "0 -0.000  0.000  0.000   1.743        0.040    0.000  -3.983              \n",
       "1 -0.014  0.004  -0.029  2.005        -0.018   -0.003 -6.058              \n",
       "2 0.885   3.102  -1.617  1.909        0.356    2.089  -25.445             \n",
       "3 18.059  27.326 -15.356 0.930        4.420    18.168 -66.081             \n",
       "4 -13.119 -3.519 32.673  1.176        0.276    4.246  42.477              \n",
       "5 5.812   26.913 15.671  7.764        5.075    24.501 -59.090             \n",
       "\n",
       "      pys     wns  \n",
       "0 -0.000  -0.000   \n",
       "1 -0.012  -0.014   \n",
       "2 1.247   0.919    \n",
       "3 20.009  18.298   \n",
       "4 -11.204 -12.926  \n",
       "5 10.040  6.277    "
      ]
     },
     "execution_count": 52,
     "metadata": {},
     "output_type": "execute_result"
    }
   ],
   "source": [
    "format_table(intensive_alt,intensive_alt.sum())   "
   ]
  },
  {
   "cell_type": "markdown",
   "metadata": {},
   "source": [
    "### Extensive"
   ]
  },
  {
   "cell_type": "code",
   "execution_count": 53,
   "metadata": {},
   "outputs": [
    {
     "data": {
      "text/html": [
       "<div>\n",
       "<style scoped>\n",
       "    .dataframe tbody tr th:only-of-type {\n",
       "        vertical-align: middle;\n",
       "    }\n",
       "\n",
       "    .dataframe tbody tr th {\n",
       "        vertical-align: top;\n",
       "    }\n",
       "\n",
       "    .dataframe thead th {\n",
       "        text-align: right;\n",
       "    }\n",
       "</style>\n",
       "<table border=\"1\" class=\"dataframe\">\n",
       "  <thead>\n",
       "    <tr style=\"text-align: right;\">\n",
       "      <th></th>\n",
       "      <th>bins/total</th>\n",
       "      <th>ztilde</th>\n",
       "      <th>eps</th>\n",
       "      <th>a</th>\n",
       "      <th>bus_inc</th>\n",
       "      <th>ys</th>\n",
       "      <th>ks</th>\n",
       "      <th>kappa</th>\n",
       "      <th>ns</th>\n",
       "      <th>hy</th>\n",
       "      <th>hkap</th>\n",
       "      <th>ztilde_meas</th>\n",
       "      <th>zkapphi</th>\n",
       "      <th>ne</th>\n",
       "      <th>measured_markups</th>\n",
       "      <th>pys</th>\n",
       "      <th>wns</th>\n",
       "    </tr>\n",
       "  </thead>\n",
       "  <tbody>\n",
       "    <tr>\n",
       "      <th>0</th>\n",
       "      <td>(-inf, 0.000352]</td>\n",
       "      <td>-0.114</td>\n",
       "      <td>0.692</td>\n",
       "      <td>0.572</td>\n",
       "      <td>0.000</td>\n",
       "      <td>0.000</td>\n",
       "      <td>0.000</td>\n",
       "      <td>0.000</td>\n",
       "      <td>0.000</td>\n",
       "      <td>0.000</td>\n",
       "      <td>0.000</td>\n",
       "      <td>0.794</td>\n",
       "      <td>0.102</td>\n",
       "      <td>0.000</td>\n",
       "      <td>4.423</td>\n",
       "      <td>0.000</td>\n",
       "      <td>0.000</td>\n",
       "    </tr>\n",
       "    <tr>\n",
       "      <th>1</th>\n",
       "      <td>(0.000352, 0.136]</td>\n",
       "      <td>-0.114</td>\n",
       "      <td>2.082</td>\n",
       "      <td>1.798</td>\n",
       "      <td>0.009</td>\n",
       "      <td>0.008</td>\n",
       "      <td>0.007</td>\n",
       "      <td>0.143</td>\n",
       "      <td>0.006</td>\n",
       "      <td>0.019</td>\n",
       "      <td>0.015</td>\n",
       "      <td>2.378</td>\n",
       "      <td>1.088</td>\n",
       "      <td>0.018</td>\n",
       "      <td>11.606</td>\n",
       "      <td>0.007</td>\n",
       "      <td>0.006</td>\n",
       "    </tr>\n",
       "    <tr>\n",
       "      <th>2</th>\n",
       "      <td>(0.136, 0.674]</td>\n",
       "      <td>2.320</td>\n",
       "      <td>4.491</td>\n",
       "      <td>4.546</td>\n",
       "      <td>1.496</td>\n",
       "      <td>1.423</td>\n",
       "      <td>1.403</td>\n",
       "      <td>4.488</td>\n",
       "      <td>1.283</td>\n",
       "      <td>2.042</td>\n",
       "      <td>1.916</td>\n",
       "      <td>4.830</td>\n",
       "      <td>4.429</td>\n",
       "      <td>2.015</td>\n",
       "      <td>-0.479</td>\n",
       "      <td>1.400</td>\n",
       "      <td>1.286</td>\n",
       "    </tr>\n",
       "    <tr>\n",
       "      <th>3</th>\n",
       "      <td>(0.674, 0.858]</td>\n",
       "      <td>21.781</td>\n",
       "      <td>11.248</td>\n",
       "      <td>10.227</td>\n",
       "      <td>16.816</td>\n",
       "      <td>17.851</td>\n",
       "      <td>17.562</td>\n",
       "      <td>19.109</td>\n",
       "      <td>16.904</td>\n",
       "      <td>20.164</td>\n",
       "      <td>24.142</td>\n",
       "      <td>10.947</td>\n",
       "      <td>16.406</td>\n",
       "      <td>21.018</td>\n",
       "      <td>-36.084</td>\n",
       "      <td>17.518</td>\n",
       "      <td>16.954</td>\n",
       "    </tr>\n",
       "    <tr>\n",
       "      <th>4</th>\n",
       "      <td>(0.858, inf]</td>\n",
       "      <td>-28.707</td>\n",
       "      <td>-8.501</td>\n",
       "      <td>-8.158</td>\n",
       "      <td>-30.469</td>\n",
       "      <td>-30.274</td>\n",
       "      <td>-29.924</td>\n",
       "      <td>-20.418</td>\n",
       "      <td>-29.634</td>\n",
       "      <td>-30.246</td>\n",
       "      <td>-29.273</td>\n",
       "      <td>-9.252</td>\n",
       "      <td>-18.219</td>\n",
       "      <td>-30.037</td>\n",
       "      <td>39.770</td>\n",
       "      <td>-29.872</td>\n",
       "      <td>-29.696</td>\n",
       "    </tr>\n",
       "    <tr>\n",
       "      <th>5</th>\n",
       "      <td>total</td>\n",
       "      <td>-4.834</td>\n",
       "      <td>10.011</td>\n",
       "      <td>8.984</td>\n",
       "      <td>-12.147</td>\n",
       "      <td>-10.993</td>\n",
       "      <td>-10.952</td>\n",
       "      <td>3.321</td>\n",
       "      <td>-11.441</td>\n",
       "      <td>-8.020</td>\n",
       "      <td>-3.199</td>\n",
       "      <td>9.696</td>\n",
       "      <td>3.806</td>\n",
       "      <td>-6.986</td>\n",
       "      <td>19.235</td>\n",
       "      <td>-10.946</td>\n",
       "      <td>-11.450</td>\n",
       "    </tr>\n",
       "  </tbody>\n",
       "</table>\n",
       "</div>"
      ],
      "text/plain": [
       "          bins/total  ztilde    eps      a  bus_inc      ys      ks   kappa  \\\n",
       "0  (-inf, 0.000352]  -0.114  0.692  0.572  0.000    0.000   0.000   0.000     \n",
       "1  (0.000352, 0.136] -0.114  2.082  1.798  0.009    0.008   0.007   0.143     \n",
       "2  (0.136, 0.674]    2.320   4.491  4.546  1.496    1.423   1.403   4.488     \n",
       "3  (0.674, 0.858]    21.781  11.248 10.227 16.816   17.851  17.562  19.109    \n",
       "4  (0.858, inf]      -28.707 -8.501 -8.158 -30.469  -30.274 -29.924 -20.418   \n",
       "5  total             -4.834  10.011 8.984  -12.147  -10.993 -10.952 3.321     \n",
       "\n",
       "       ns      hy    hkap  ztilde_meas  zkapphi      ne  measured_markups  \\\n",
       "0 0.000   0.000   0.000   0.794        0.102    0.000   4.423               \n",
       "1 0.006   0.019   0.015   2.378        1.088    0.018   11.606              \n",
       "2 1.283   2.042   1.916   4.830        4.429    2.015   -0.479              \n",
       "3 16.904  20.164  24.142  10.947       16.406   21.018  -36.084             \n",
       "4 -29.634 -30.246 -29.273 -9.252       -18.219  -30.037 39.770              \n",
       "5 -11.441 -8.020  -3.199  9.696        3.806    -6.986  19.235              \n",
       "\n",
       "      pys     wns  \n",
       "0 0.000   0.000    \n",
       "1 0.007   0.006    \n",
       "2 1.400   1.286    \n",
       "3 17.518  16.954   \n",
       "4 -29.872 -29.696  \n",
       "5 -10.946 -11.450  "
      ]
     },
     "execution_count": 53,
     "metadata": {},
     "output_type": "execute_result"
    }
   ],
   "source": [
    "format_table(extensive_alt,extensive_alt.sum())   "
   ]
  },
  {
   "cell_type": "markdown",
   "metadata": {},
   "source": [
    "##   Decomposition of $\\Delta$ by Owner Financial assets"
   ]
  },
  {
   "cell_type": "code",
   "execution_count": 54,
   "metadata": {},
   "outputs": [
    {
     "name": "stdout",
     "output_type": "stream",
     "text": [
      "\n",
      "SORTED BY a\n",
      "BINS = [-inf, 5.85, 10.24, 15.46, 22.96, inf]\n"
     ]
    }
   ],
   "source": [
    "var_bin = 'a'\n",
    "tmp, bins_original = pd.qcut(df_baseline[var_bin], q = num_bins, labels=False, retbins = True)\n",
    "df_baseline['bin_' + var_bin] = tmp[:]\n",
    "bins = bins_original.copy()\n",
    "bins[0] = -np.inf\n",
    "bins[-1] = np.inf\n",
    "total,sum_baseline,intensive_alt,extensive_alt=print_results(var_bin,bins,var_list,df_baseline,df_target)"
   ]
  },
  {
   "cell_type": "markdown",
   "metadata": {},
   "source": [
    "### Total change"
   ]
  },
  {
   "cell_type": "code",
   "execution_count": 55,
   "metadata": {},
   "outputs": [
    {
     "data": {
      "text/html": [
       "<div>\n",
       "<style scoped>\n",
       "    .dataframe tbody tr th:only-of-type {\n",
       "        vertical-align: middle;\n",
       "    }\n",
       "\n",
       "    .dataframe tbody tr th {\n",
       "        vertical-align: top;\n",
       "    }\n",
       "\n",
       "    .dataframe thead th {\n",
       "        text-align: right;\n",
       "    }\n",
       "</style>\n",
       "<table border=\"1\" class=\"dataframe\">\n",
       "  <thead>\n",
       "    <tr style=\"text-align: right;\">\n",
       "      <th></th>\n",
       "      <th>bins/total</th>\n",
       "      <th>ztilde</th>\n",
       "      <th>eps</th>\n",
       "      <th>a</th>\n",
       "      <th>bus_inc</th>\n",
       "      <th>ys</th>\n",
       "      <th>ks</th>\n",
       "      <th>kappa</th>\n",
       "      <th>ns</th>\n",
       "      <th>hy</th>\n",
       "      <th>hkap</th>\n",
       "      <th>ztilde_meas</th>\n",
       "      <th>zkapphi</th>\n",
       "      <th>ne</th>\n",
       "      <th>measured_markups</th>\n",
       "      <th>pys</th>\n",
       "      <th>wns</th>\n",
       "    </tr>\n",
       "  </thead>\n",
       "  <tbody>\n",
       "    <tr>\n",
       "      <th>0</th>\n",
       "      <td>(-inf, 5.854]</td>\n",
       "      <td>9.543</td>\n",
       "      <td>9.422</td>\n",
       "      <td>1.717</td>\n",
       "      <td>4.944</td>\n",
       "      <td>6.204</td>\n",
       "      <td>5.648</td>\n",
       "      <td>7.868</td>\n",
       "      <td>4.501</td>\n",
       "      <td>10.496</td>\n",
       "      <td>17.025</td>\n",
       "      <td>12.055</td>\n",
       "      <td>9.412</td>\n",
       "      <td>11.897</td>\n",
       "      <td>4.818</td>\n",
       "      <td>5.565</td>\n",
       "      <td>4.595</td>\n",
       "    </tr>\n",
       "    <tr>\n",
       "      <th>1</th>\n",
       "      <td>(5.854, 10.236]</td>\n",
       "      <td>5.307</td>\n",
       "      <td>4.625</td>\n",
       "      <td>2.417</td>\n",
       "      <td>5.390</td>\n",
       "      <td>4.557</td>\n",
       "      <td>3.944</td>\n",
       "      <td>4.394</td>\n",
       "      <td>2.834</td>\n",
       "      <td>8.078</td>\n",
       "      <td>3.888</td>\n",
       "      <td>6.505</td>\n",
       "      <td>5.024</td>\n",
       "      <td>7.179</td>\n",
       "      <td>-8.777</td>\n",
       "      <td>3.853</td>\n",
       "      <td>2.939</td>\n",
       "    </tr>\n",
       "    <tr>\n",
       "      <th>2</th>\n",
       "      <td>(10.236, 15.46]</td>\n",
       "      <td>2.637</td>\n",
       "      <td>2.675</td>\n",
       "      <td>2.162</td>\n",
       "      <td>2.077</td>\n",
       "      <td>1.079</td>\n",
       "      <td>0.458</td>\n",
       "      <td>1.283</td>\n",
       "      <td>-0.660</td>\n",
       "      <td>4.528</td>\n",
       "      <td>-0.247</td>\n",
       "      <td>4.297</td>\n",
       "      <td>2.343</td>\n",
       "      <td>3.503</td>\n",
       "      <td>-7.648</td>\n",
       "      <td>0.366</td>\n",
       "      <td>-0.552</td>\n",
       "    </tr>\n",
       "    <tr>\n",
       "      <th>3</th>\n",
       "      <td>(15.46, 22.961]</td>\n",
       "      <td>-1.573</td>\n",
       "      <td>-1.830</td>\n",
       "      <td>-2.866</td>\n",
       "      <td>-2.608</td>\n",
       "      <td>-3.294</td>\n",
       "      <td>-3.817</td>\n",
       "      <td>-3.081</td>\n",
       "      <td>-4.806</td>\n",
       "      <td>-0.224</td>\n",
       "      <td>-3.430</td>\n",
       "      <td>-0.655</td>\n",
       "      <td>-1.933</td>\n",
       "      <td>-0.912</td>\n",
       "      <td>-12.740</td>\n",
       "      <td>-3.895</td>\n",
       "      <td>-4.715</td>\n",
       "    </tr>\n",
       "    <tr>\n",
       "      <th>4</th>\n",
       "      <td>(22.961, inf]</td>\n",
       "      <td>-5.007</td>\n",
       "      <td>-6.185</td>\n",
       "      <td>-13.631</td>\n",
       "      <td>-6.148</td>\n",
       "      <td>-6.418</td>\n",
       "      <td>-6.746</td>\n",
       "      <td>-6.993</td>\n",
       "      <td>-7.498</td>\n",
       "      <td>-3.986</td>\n",
       "      <td>-4.765</td>\n",
       "      <td>-4.743</td>\n",
       "      <td>-5.965</td>\n",
       "      <td>-4.153</td>\n",
       "      <td>-15.508</td>\n",
       "      <td>-6.795</td>\n",
       "      <td>-7.440</td>\n",
       "    </tr>\n",
       "    <tr>\n",
       "      <th>5</th>\n",
       "      <td>total</td>\n",
       "      <td>10.907</td>\n",
       "      <td>8.706</td>\n",
       "      <td>-10.202</td>\n",
       "      <td>3.655</td>\n",
       "      <td>2.127</td>\n",
       "      <td>-0.513</td>\n",
       "      <td>3.471</td>\n",
       "      <td>-5.630</td>\n",
       "      <td>18.893</td>\n",
       "      <td>12.471</td>\n",
       "      <td>17.460</td>\n",
       "      <td>8.881</td>\n",
       "      <td>17.515</td>\n",
       "      <td>-39.854</td>\n",
       "      <td>-0.906</td>\n",
       "      <td>-5.172</td>\n",
       "    </tr>\n",
       "  </tbody>\n",
       "</table>\n",
       "</div>"
      ],
      "text/plain": [
       "        bins/total  ztilde    eps       a  bus_inc     ys     ks  kappa  \\\n",
       "0  (-inf, 5.854]   9.543   9.422  1.717   4.944    6.204  5.648  7.868    \n",
       "1  (5.854, 10.236] 5.307   4.625  2.417   5.390    4.557  3.944  4.394    \n",
       "2  (10.236, 15.46] 2.637   2.675  2.162   2.077    1.079  0.458  1.283    \n",
       "3  (15.46, 22.961] -1.573  -1.830 -2.866  -2.608   -3.294 -3.817 -3.081   \n",
       "4  (22.961, inf]   -5.007  -6.185 -13.631 -6.148   -6.418 -6.746 -6.993   \n",
       "5  total           10.907  8.706  -10.202 3.655    2.127  -0.513 3.471    \n",
       "\n",
       "      ns     hy   hkap  ztilde_meas  zkapphi     ne  measured_markups    pys  \\\n",
       "0 4.501  10.496 17.025 12.055       9.412    11.897 4.818             5.565    \n",
       "1 2.834  8.078  3.888  6.505        5.024    7.179  -8.777            3.853    \n",
       "2 -0.660 4.528  -0.247 4.297        2.343    3.503  -7.648            0.366    \n",
       "3 -4.806 -0.224 -3.430 -0.655       -1.933   -0.912 -12.740           -3.895   \n",
       "4 -7.498 -3.986 -4.765 -4.743       -5.965   -4.153 -15.508           -6.795   \n",
       "5 -5.630 18.893 12.471 17.460       8.881    17.515 -39.854           -0.906   \n",
       "\n",
       "     wns  \n",
       "0 4.595   \n",
       "1 2.939   \n",
       "2 -0.552  \n",
       "3 -4.715  \n",
       "4 -7.440  \n",
       "5 -5.172  "
      ]
     },
     "execution_count": 55,
     "metadata": {},
     "output_type": "execute_result"
    }
   ],
   "source": [
    "agg= 100*total/sum_baseline.sum()  \n",
    "aggsum=100*total.sum()/sum_baseline.sum()   \n",
    "format_table(agg,aggsum)   "
   ]
  },
  {
   "cell_type": "markdown",
   "metadata": {},
   "source": [
    "### Intensive "
   ]
  },
  {
   "cell_type": "code",
   "execution_count": 56,
   "metadata": {},
   "outputs": [
    {
     "data": {
      "text/html": [
       "<div>\n",
       "<style scoped>\n",
       "    .dataframe tbody tr th:only-of-type {\n",
       "        vertical-align: middle;\n",
       "    }\n",
       "\n",
       "    .dataframe tbody tr th {\n",
       "        vertical-align: top;\n",
       "    }\n",
       "\n",
       "    .dataframe thead th {\n",
       "        text-align: right;\n",
       "    }\n",
       "</style>\n",
       "<table border=\"1\" class=\"dataframe\">\n",
       "  <thead>\n",
       "    <tr style=\"text-align: right;\">\n",
       "      <th></th>\n",
       "      <th>bins/total</th>\n",
       "      <th>ztilde</th>\n",
       "      <th>eps</th>\n",
       "      <th>a</th>\n",
       "      <th>bus_inc</th>\n",
       "      <th>ys</th>\n",
       "      <th>ks</th>\n",
       "      <th>kappa</th>\n",
       "      <th>ns</th>\n",
       "      <th>hy</th>\n",
       "      <th>hkap</th>\n",
       "      <th>ztilde_meas</th>\n",
       "      <th>zkapphi</th>\n",
       "      <th>ne</th>\n",
       "      <th>measured_markups</th>\n",
       "      <th>pys</th>\n",
       "      <th>wns</th>\n",
       "    </tr>\n",
       "  </thead>\n",
       "  <tbody>\n",
       "    <tr>\n",
       "      <th>0</th>\n",
       "      <td>(-inf, 5.854]</td>\n",
       "      <td>0.847</td>\n",
       "      <td>0.683</td>\n",
       "      <td>-0.127</td>\n",
       "      <td>-1.090</td>\n",
       "      <td>-0.640</td>\n",
       "      <td>-1.109</td>\n",
       "      <td>0.246</td>\n",
       "      <td>-1.924</td>\n",
       "      <td>2.173</td>\n",
       "      <td>4.349</td>\n",
       "      <td>1.863</td>\n",
       "      <td>1.118</td>\n",
       "      <td>2.640</td>\n",
       "      <td>-10.243</td>\n",
       "      <td>-1.178</td>\n",
       "      <td>-1.845</td>\n",
       "    </tr>\n",
       "    <tr>\n",
       "      <th>1</th>\n",
       "      <td>(5.854, 10.236]</td>\n",
       "      <td>1.062</td>\n",
       "      <td>0.156</td>\n",
       "      <td>-0.050</td>\n",
       "      <td>1.038</td>\n",
       "      <td>0.263</td>\n",
       "      <td>-0.293</td>\n",
       "      <td>0.219</td>\n",
       "      <td>-1.275</td>\n",
       "      <td>3.342</td>\n",
       "      <td>-0.624</td>\n",
       "      <td>1.622</td>\n",
       "      <td>0.689</td>\n",
       "      <td>2.491</td>\n",
       "      <td>-12.732</td>\n",
       "      <td>-0.376</td>\n",
       "      <td>-1.179</td>\n",
       "    </tr>\n",
       "    <tr>\n",
       "      <th>2</th>\n",
       "      <td>(10.236, 15.46]</td>\n",
       "      <td>-0.084</td>\n",
       "      <td>0.118</td>\n",
       "      <td>-0.051</td>\n",
       "      <td>-0.822</td>\n",
       "      <td>-1.719</td>\n",
       "      <td>-2.304</td>\n",
       "      <td>-1.367</td>\n",
       "      <td>-3.359</td>\n",
       "      <td>1.548</td>\n",
       "      <td>-2.728</td>\n",
       "      <td>1.634</td>\n",
       "      <td>-0.316</td>\n",
       "      <td>0.630</td>\n",
       "      <td>-8.700</td>\n",
       "      <td>-2.391</td>\n",
       "      <td>-3.257</td>\n",
       "    </tr>\n",
       "    <tr>\n",
       "      <th>3</th>\n",
       "      <td>(15.46, 22.961]</td>\n",
       "      <td>0.608</td>\n",
       "      <td>0.187</td>\n",
       "      <td>-0.290</td>\n",
       "      <td>-0.197</td>\n",
       "      <td>-1.011</td>\n",
       "      <td>-1.563</td>\n",
       "      <td>-0.857</td>\n",
       "      <td>-2.589</td>\n",
       "      <td>2.137</td>\n",
       "      <td>-1.707</td>\n",
       "      <td>1.363</td>\n",
       "      <td>0.232</td>\n",
       "      <td>1.312</td>\n",
       "      <td>-13.007</td>\n",
       "      <td>-1.645</td>\n",
       "      <td>-2.493</td>\n",
       "    </tr>\n",
       "    <tr>\n",
       "      <th>4</th>\n",
       "      <td>(22.961, inf]</td>\n",
       "      <td>1.071</td>\n",
       "      <td>0.091</td>\n",
       "      <td>-1.436</td>\n",
       "      <td>-0.292</td>\n",
       "      <td>-0.781</td>\n",
       "      <td>-1.180</td>\n",
       "      <td>-1.057</td>\n",
       "      <td>-1.959</td>\n",
       "      <td>1.537</td>\n",
       "      <td>-0.554</td>\n",
       "      <td>1.306</td>\n",
       "      <td>0.185</td>\n",
       "      <td>1.089</td>\n",
       "      <td>-10.510</td>\n",
       "      <td>-1.240</td>\n",
       "      <td>-1.888</td>\n",
       "    </tr>\n",
       "    <tr>\n",
       "      <th>5</th>\n",
       "      <td>total</td>\n",
       "      <td>3.503</td>\n",
       "      <td>1.235</td>\n",
       "      <td>-1.955</td>\n",
       "      <td>-1.363</td>\n",
       "      <td>-3.888</td>\n",
       "      <td>-6.450</td>\n",
       "      <td>-2.816</td>\n",
       "      <td>-11.106</td>\n",
       "      <td>10.736</td>\n",
       "      <td>-1.263</td>\n",
       "      <td>7.788</td>\n",
       "      <td>1.908</td>\n",
       "      <td>8.162</td>\n",
       "      <td>-55.193</td>\n",
       "      <td>-6.831</td>\n",
       "      <td>-10.662</td>\n",
       "    </tr>\n",
       "  </tbody>\n",
       "</table>\n",
       "</div>"
      ],
      "text/plain": [
       "        bins/total  ztilde   eps      a  bus_inc     ys     ks  kappa      ns  \\\n",
       "0  (-inf, 5.854]   0.847   0.683 -0.127 -1.090   -0.640 -1.109 0.246  -1.924    \n",
       "1  (5.854, 10.236] 1.062   0.156 -0.050 1.038    0.263  -0.293 0.219  -1.275    \n",
       "2  (10.236, 15.46] -0.084  0.118 -0.051 -0.822   -1.719 -2.304 -1.367 -3.359    \n",
       "3  (15.46, 22.961] 0.608   0.187 -0.290 -0.197   -1.011 -1.563 -0.857 -2.589    \n",
       "4  (22.961, inf]   1.071   0.091 -1.436 -0.292   -0.781 -1.180 -1.057 -1.959    \n",
       "5  total           3.503   1.235 -1.955 -1.363   -3.888 -6.450 -2.816 -11.106   \n",
       "\n",
       "      hy   hkap  ztilde_meas  zkapphi    ne  measured_markups    pys     wns  \n",
       "0 2.173  4.349  1.863        1.118    2.640 -10.243           -1.178 -1.845   \n",
       "1 3.342  -0.624 1.622        0.689    2.491 -12.732           -0.376 -1.179   \n",
       "2 1.548  -2.728 1.634        -0.316   0.630 -8.700            -2.391 -3.257   \n",
       "3 2.137  -1.707 1.363        0.232    1.312 -13.007           -1.645 -2.493   \n",
       "4 1.537  -0.554 1.306        0.185    1.089 -10.510           -1.240 -1.888   \n",
       "5 10.736 -1.263 7.788        1.908    8.162 -55.193           -6.831 -10.662  "
      ]
     },
     "execution_count": 56,
     "metadata": {},
     "output_type": "execute_result"
    }
   ],
   "source": [
    "format_table(intensive_alt,intensive_alt.sum())   "
   ]
  },
  {
   "cell_type": "markdown",
   "metadata": {},
   "source": [
    "### Extensive"
   ]
  },
  {
   "cell_type": "code",
   "execution_count": 57,
   "metadata": {},
   "outputs": [
    {
     "data": {
      "text/html": [
       "<div>\n",
       "<style scoped>\n",
       "    .dataframe tbody tr th:only-of-type {\n",
       "        vertical-align: middle;\n",
       "    }\n",
       "\n",
       "    .dataframe tbody tr th {\n",
       "        vertical-align: top;\n",
       "    }\n",
       "\n",
       "    .dataframe thead th {\n",
       "        text-align: right;\n",
       "    }\n",
       "</style>\n",
       "<table border=\"1\" class=\"dataframe\">\n",
       "  <thead>\n",
       "    <tr style=\"text-align: right;\">\n",
       "      <th></th>\n",
       "      <th>bins/total</th>\n",
       "      <th>ztilde</th>\n",
       "      <th>eps</th>\n",
       "      <th>a</th>\n",
       "      <th>bus_inc</th>\n",
       "      <th>ys</th>\n",
       "      <th>ks</th>\n",
       "      <th>kappa</th>\n",
       "      <th>ns</th>\n",
       "      <th>hy</th>\n",
       "      <th>hkap</th>\n",
       "      <th>ztilde_meas</th>\n",
       "      <th>zkapphi</th>\n",
       "      <th>ne</th>\n",
       "      <th>measured_markups</th>\n",
       "      <th>pys</th>\n",
       "      <th>wns</th>\n",
       "    </tr>\n",
       "  </thead>\n",
       "  <tbody>\n",
       "    <tr>\n",
       "      <th>0</th>\n",
       "      <td>(-inf, 5.854]</td>\n",
       "      <td>8.696</td>\n",
       "      <td>8.739</td>\n",
       "      <td>1.844</td>\n",
       "      <td>6.034</td>\n",
       "      <td>6.843</td>\n",
       "      <td>6.756</td>\n",
       "      <td>7.622</td>\n",
       "      <td>6.425</td>\n",
       "      <td>8.323</td>\n",
       "      <td>12.675</td>\n",
       "      <td>10.193</td>\n",
       "      <td>8.294</td>\n",
       "      <td>9.257</td>\n",
       "      <td>15.062</td>\n",
       "      <td>6.744</td>\n",
       "      <td>6.440</td>\n",
       "    </tr>\n",
       "    <tr>\n",
       "      <th>1</th>\n",
       "      <td>(5.854, 10.236]</td>\n",
       "      <td>4.245</td>\n",
       "      <td>4.470</td>\n",
       "      <td>2.467</td>\n",
       "      <td>4.352</td>\n",
       "      <td>4.294</td>\n",
       "      <td>4.238</td>\n",
       "      <td>4.175</td>\n",
       "      <td>4.109</td>\n",
       "      <td>4.736</td>\n",
       "      <td>4.512</td>\n",
       "      <td>4.884</td>\n",
       "      <td>4.334</td>\n",
       "      <td>4.688</td>\n",
       "      <td>3.955</td>\n",
       "      <td>4.230</td>\n",
       "      <td>4.119</td>\n",
       "    </tr>\n",
       "    <tr>\n",
       "      <th>2</th>\n",
       "      <td>(10.236, 15.46]</td>\n",
       "      <td>2.720</td>\n",
       "      <td>2.557</td>\n",
       "      <td>2.212</td>\n",
       "      <td>2.899</td>\n",
       "      <td>2.797</td>\n",
       "      <td>2.762</td>\n",
       "      <td>2.651</td>\n",
       "      <td>2.699</td>\n",
       "      <td>2.980</td>\n",
       "      <td>2.481</td>\n",
       "      <td>2.664</td>\n",
       "      <td>2.659</td>\n",
       "      <td>2.873</td>\n",
       "      <td>1.052</td>\n",
       "      <td>2.757</td>\n",
       "      <td>2.705</td>\n",
       "    </tr>\n",
       "    <tr>\n",
       "      <th>3</th>\n",
       "      <td>(15.46, 22.961]</td>\n",
       "      <td>-2.181</td>\n",
       "      <td>-2.018</td>\n",
       "      <td>-2.576</td>\n",
       "      <td>-2.411</td>\n",
       "      <td>-2.283</td>\n",
       "      <td>-2.254</td>\n",
       "      <td>-2.225</td>\n",
       "      <td>-2.217</td>\n",
       "      <td>-2.360</td>\n",
       "      <td>-1.723</td>\n",
       "      <td>-2.018</td>\n",
       "      <td>-2.165</td>\n",
       "      <td>-2.224</td>\n",
       "      <td>0.267</td>\n",
       "      <td>-2.250</td>\n",
       "      <td>-2.222</td>\n",
       "    </tr>\n",
       "    <tr>\n",
       "      <th>4</th>\n",
       "      <td>(22.961, inf]</td>\n",
       "      <td>-6.078</td>\n",
       "      <td>-6.276</td>\n",
       "      <td>-12.195</td>\n",
       "      <td>-5.856</td>\n",
       "      <td>-5.637</td>\n",
       "      <td>-5.565</td>\n",
       "      <td>-5.936</td>\n",
       "      <td>-5.540</td>\n",
       "      <td>-5.523</td>\n",
       "      <td>-4.211</td>\n",
       "      <td>-6.049</td>\n",
       "      <td>-6.150</td>\n",
       "      <td>-5.242</td>\n",
       "      <td>-4.998</td>\n",
       "      <td>-5.555</td>\n",
       "      <td>-5.552</td>\n",
       "    </tr>\n",
       "    <tr>\n",
       "      <th>5</th>\n",
       "      <td>total</td>\n",
       "      <td>7.403</td>\n",
       "      <td>7.471</td>\n",
       "      <td>-8.247</td>\n",
       "      <td>5.018</td>\n",
       "      <td>6.015</td>\n",
       "      <td>5.937</td>\n",
       "      <td>6.287</td>\n",
       "      <td>5.477</td>\n",
       "      <td>8.157</td>\n",
       "      <td>13.735</td>\n",
       "      <td>9.672</td>\n",
       "      <td>6.973</td>\n",
       "      <td>9.353</td>\n",
       "      <td>15.338</td>\n",
       "      <td>5.926</td>\n",
       "      <td>5.490</td>\n",
       "    </tr>\n",
       "  </tbody>\n",
       "</table>\n",
       "</div>"
      ],
      "text/plain": [
       "        bins/total  ztilde    eps       a  bus_inc     ys     ks  kappa  \\\n",
       "0  (-inf, 5.854]   8.696   8.739  1.844   6.034    6.843  6.756  7.622    \n",
       "1  (5.854, 10.236] 4.245   4.470  2.467   4.352    4.294  4.238  4.175    \n",
       "2  (10.236, 15.46] 2.720   2.557  2.212   2.899    2.797  2.762  2.651    \n",
       "3  (15.46, 22.961] -2.181  -2.018 -2.576  -2.411   -2.283 -2.254 -2.225   \n",
       "4  (22.961, inf]   -6.078  -6.276 -12.195 -5.856   -5.637 -5.565 -5.936   \n",
       "5  total           7.403   7.471  -8.247  5.018    6.015  5.937  6.287    \n",
       "\n",
       "      ns     hy   hkap  ztilde_meas  zkapphi     ne  measured_markups    pys  \\\n",
       "0 6.425  8.323  12.675 10.193       8.294    9.257  15.062            6.744    \n",
       "1 4.109  4.736  4.512  4.884        4.334    4.688  3.955             4.230    \n",
       "2 2.699  2.980  2.481  2.664        2.659    2.873  1.052             2.757    \n",
       "3 -2.217 -2.360 -1.723 -2.018       -2.165   -2.224 0.267             -2.250   \n",
       "4 -5.540 -5.523 -4.211 -6.049       -6.150   -5.242 -4.998            -5.555   \n",
       "5 5.477  8.157  13.735 9.672        6.973    9.353  15.338            5.926    \n",
       "\n",
       "     wns  \n",
       "0 6.440   \n",
       "1 4.119   \n",
       "2 2.705   \n",
       "3 -2.222  \n",
       "4 -5.552  \n",
       "5 5.490   "
      ]
     },
     "execution_count": 57,
     "metadata": {},
     "output_type": "execute_result"
    }
   ],
   "source": [
    "format_table(extensive_alt,extensive_alt.sum())   "
   ]
  },
  {
   "cell_type": "markdown",
   "metadata": {},
   "source": [
    "## Short-run Elasticities"
   ]
  },
  {
   "cell_type": "markdown",
   "metadata": {},
   "source": [
    "## Concept\n",
    "Our goal is to approximate short-run elaticities by comparing  similar agents across different levels of taxes. For this we use the optimal policies in the two economies and simulate paths for a buch of agents fixing their initial conditions and the sequence of exogenous shocks. \n",
    "\n",
    "### Implementation\n",
    "Let $\\Theta$ be the vector of parameters including tax rates and market clearing prices. Let $s^1=(a,\\kappa)$ be the vector of endogenous  state variables for an individual,;  $s^2=(\\epsilon,z,age)$ be the vector of shocks. Functions $\\mathcal{F}^x(s; \\Theta)$ be the optimal policies for choice variable $x$ and $\\mathcal{S}^1(s;\\Theta)$ the law of motion for the endogenous states under the optimal policies. We denote the ergodic distribution associated with optimal policies using $\\mu(s,\\Theta)$. We use $\\Theta^*$ for the benchmark calibrated to US policies and $\\Theta^{\\prime}$ to denote the counterfactual economy with alternative taxes.\n",
    "\n",
    "\n",
    "* We draw agents from the ergodic distribution, that is, a collection of $\\{s_{i,0}\\}_i$ from $\\mu(s,\\Theta)$. \n",
    "* We draw a sequence of exogenous shocks $\\{s^{2}_{i,t}\\}_i,t$\n",
    "* We use $\\mathcal{F}^x(s; \\Theta^{\\prime})$ and $\\mathcal{S}^1(s;\\Theta^{\\prime})$ to generate a panel for $x^{\\prime}_{i,t}$ \n",
    "$$ x^{\\prime}_{i,1}= \\mathcal{F}^x(s_{i,0}; \\Theta^{\\prime}) $$\n",
    "$$ x_{i,2}= \\mathcal{F}^x(\\mathcal{S}^1(s^{\\prime}_{i,1};\\Theta^{\\prime}),s_{2,i}; \\Theta^{\\prime})$$\n",
    "and so on\n",
    "*  We use $\\mathcal{F}^x(s; \\Theta^{*})$ and $\\mathcal{S}^1(s;\\Theta^{*})$ to generate a panel for $x^{*}_{i,t}$ \n",
    "* For a group $G$, we compute $\\Delta^{x}_{G,t}\\left(\\Theta^*,\\Theta^{\\prime}\\right)= \\frac{\\sum_{i\\in G} x^{\\prime}_{i,t} - \\sum_{i\\in G} x^{*}_{i,t}}{ \\sum_{i\\in G} x^{*}_{i,t}} $\n",
    "\n",
    "## Application\n",
    "We now compute $\\Delta^{G,x}_{i,t}$ for $x=\\{h_y+h_{\\kappa},n_s+h_y+h_{\\kappa}\\} and for $G=\\{all, by $z$\\}$ "
   ]
  },
  {
   "cell_type": "code",
   "execution_count": 60,
   "metadata": {},
   "outputs": [],
   "source": [
    "T0=0\n",
    "TN=10\n",
    "e1 = import_econ(pathtosiminitbase)\n",
    "e2 = import_econ(pathtosiminittarget)\n",
    "\n",
    "base_tot_hrs=e1.data_hy+e1.data_ns+e1.data_hkap\n",
    "tax_tot_hrs=e2.data_hy+e2.data_ns+e2.data_hkap\n",
    "base_e_hrs=e1.data_hy+e1.data_hkap\n",
    "tax_e_hrs=e2.data_hy+e2.data_hkap\n",
    "\n",
    "\n",
    "data_baseline=[]\n",
    "data_target=[]\n",
    "data=[]\n",
    "for t in range (T0,TN):\n",
    "    data=np.vstack( (e1.data_hy[:,t],\n",
    "                     e1.data_hkap[:,t],\n",
    "                     e1.data_is_c[:,t],\n",
    "                     e1.is_to_iz[e1.data_i_s[:,t]],\n",
    "                     base_tot_hrs[:,t], \n",
    "                     e1.data_ns[:,t],\n",
    "                     e1.data_a[:,t],\n",
    "                     e1.data_kap[:,t],\n",
    "                     base_e_hrs[:,t],\n",
    "                     e1.data_n[:,1]\n",
    "\n",
    "                    )  \n",
    "                  )\n",
    "    coldata=['hy','hkap','flagC','z','totalhrs','ns','a','kappa','ent_hrs','emp_hrs']\n",
    "    data=data.T\n",
    "    data_baseline.append( pd.DataFrame( data ,columns=coldata))\n",
    "    data_baseline[t].flagC=data_baseline[t].flagC.astype('bool')    \n",
    "    data_baseline[t]['flagS']=~data_baseline[t].flagC.astype('bool')\n",
    "\n",
    "    data=np.vstack( (e2.data_hy[:,t],\n",
    "                     e2.data_hkap[:,t],\n",
    "                     e2.data_is_c[:,t],\n",
    "                     e2.is_to_iz[e2.data_i_s[:,t]], \n",
    "                     tax_tot_hrs[:,t],\n",
    "                     e2.data_ns[:,t],\n",
    "                     e2.data_a[:,t],\n",
    "                     e2.data_kap[:,t],\n",
    "                     tax_e_hrs[:,t],    \n",
    "                     e2.data_n[:,t]\n",
    "                    )  \n",
    "                  )\n",
    "    data=data.T\n",
    "    data_target.append( pd.DataFrame( data ,columns=coldata))\n",
    "    data_target[t].flagC=data_target[t].flagC.astype('bool')\n",
    "    data_target[t]['flagS']=~data_target[t].flagC.astype('bool')\n",
    "   "
   ]
  },
  {
   "cell_type": "markdown",
   "metadata": {},
   "source": [
    "### Total hours in business: $n_s+h_y+h_{\\kappa}$"
   ]
  },
  {
   "cell_type": "markdown",
   "metadata": {},
   "source": [
    "All business owners"
   ]
  },
  {
   "cell_type": "code",
   "execution_count": 61,
   "metadata": {},
   "outputs": [
    {
     "data": {
      "text/plain": [
       "[<matplotlib.lines.Line2D at 0x7f3f057a88d0>]"
      ]
     },
     "execution_count": 61,
     "metadata": {},
     "output_type": "execute_result"
    },
    {
     "name": "stdout",
     "output_type": "stream",
     "text": [
      "   Delta_all\n",
      "0 nan       \n",
      "1 -0.001    \n",
      "2 0.037     \n",
      "3 0.037     \n",
      "4 0.038     \n",
      "5 0.038     \n",
      "6 0.039     \n",
      "7 0.039     \n",
      "8 0.042     \n",
      "9 0.047     \n"
     ]
    },
    {
     "data": {
      "image/png": "[encoded data removed]",
      "text/plain": [
       "<Figure size 432x288 with 1 Axes>"
      ]
     },
     "metadata": {
      "needs_background": "light"
     },
     "output_type": "display_data"
    }
   ],
   "source": [
    "data_e1=[data_baseline[t].totalhrs.sum() for t in range(T0,TN)]\n",
    "data_e2=[data_target[t].totalhrs.sum() for t in range(T0,TN)]\n",
    "Delta=np.array(data_e2)/np.array(data_e1)-1\n",
    "plt.plot(Delta)\n",
    "print(pd.DataFrame(Delta,columns=['Delta_all']))"
   ]
  },
  {
   "cell_type": "markdown",
   "metadata": {},
   "source": [
    "Grouped by $z$"
   ]
  },
  {
   "cell_type": "code",
   "execution_count": 62,
   "metadata": {},
   "outputs": [
    {
     "data": {
      "text/plain": [
       "[<matplotlib.lines.Line2D at 0x7f3e068156a0>]"
      ]
     },
     "execution_count": 62,
     "metadata": {},
     "output_type": "execute_result"
    },
    {
     "data": {
      "text/plain": [
       "[<matplotlib.lines.Line2D at 0x7f3e067347b8>]"
      ]
     },
     "execution_count": 62,
     "metadata": {},
     "output_type": "execute_result"
    },
    {
     "data": {
      "text/plain": [
       "[<matplotlib.lines.Line2D at 0x7f3e06734390>]"
      ]
     },
     "execution_count": 62,
     "metadata": {},
     "output_type": "execute_result"
    },
    {
     "data": {
      "text/plain": [
       "[<matplotlib.lines.Line2D at 0x7f3e067345c0>]"
      ]
     },
     "execution_count": 62,
     "metadata": {},
     "output_type": "execute_result"
    },
    {
     "data": {
      "text/plain": [
       "[<matplotlib.lines.Line2D at 0x7f3e06734ac8>]"
      ]
     },
     "execution_count": 62,
     "metadata": {},
     "output_type": "execute_result"
    },
    {
     "data": {
      "text/plain": [
       "<matplotlib.legend.Legend at 0x7f3e06734470>"
      ]
     },
     "execution_count": 62,
     "metadata": {},
     "output_type": "execute_result"
    },
    {
     "name": "stdout",
     "output_type": "stream",
     "text": [
      "        0      1     2     3     4     5     6     7     8     9\n",
      "0.000 nan 0.138  0.128 0.101 0.085 0.094 0.078 0.063 0.063 0.062\n",
      "1.000 nan 0.126  0.138 0.154 0.128 0.124 0.114 0.106 0.103 0.080\n",
      "2.000 nan 0.098  0.127 0.114 0.134 0.138 0.164 0.126 0.148 0.125\n",
      "3.000 nan 0.023  0.055 0.088 0.088 0.094 0.086 0.086 0.088 0.085\n",
      "4.000 nan -0.003 0.036 0.035 0.035 0.035 0.036 0.037 0.039 0.044\n"
     ]
    },
    {
     "data": {
      "image/png": "[encoded data removed]",
      "text/plain": [
       "<Figure size 432x288 with 1 Axes>"
      ]
     },
     "metadata": {
      "needs_background": "light"
     },
     "output_type": "display_data"
    }
   ],
   "source": [
    "\n",
    "Delta=[]\n",
    "fig, ax = plt.subplots()\n",
    "for zval in np.sort(data_baseline[0].z.unique()):\n",
    "    sel_baseline=[data_baseline[t].z==zval for t in range(T0,TN)]\n",
    "    sel_target=[data_target[t].z==zval for t in range(T0,TN)]\n",
    "    data_e1=[data_baseline[t][sel_baseline[t]].totalhrs.sum() for t in range(T0,TN)]\n",
    "    data_e2=[data_target[t][sel_target[t]].totalhrs.sum() for t in range(T0,TN)]\n",
    "    temp=np.array(data_e2)/np.array(data_e1)-1\n",
    "    Delta.append(temp)\n",
    "    ax.plot(temp)\n",
    "    \n",
    "ax.legend(np.sort(data_baseline[0].z.unique()))\n",
    "Delta_by_z=pd.DataFrame(Delta,index=np.sort(data_baseline[0].z.unique()))    \n",
    "print(Delta_by_z)"
   ]
  },
  {
   "cell_type": "markdown",
   "metadata": {},
   "source": [
    "### Total hours by entreprenurs : $h_y+h_{\\kappa}$"
   ]
  },
  {
   "cell_type": "markdown",
   "metadata": {},
   "source": [
    "All business owners"
   ]
  },
  {
   "cell_type": "code",
   "execution_count": 63,
   "metadata": {},
   "outputs": [
    {
     "data": {
      "text/plain": [
       "[<matplotlib.lines.Line2D at 0x7f3e066c5da0>]"
      ]
     },
     "execution_count": 63,
     "metadata": {},
     "output_type": "execute_result"
    },
    {
     "name": "stdout",
     "output_type": "stream",
     "text": [
      "   Delta_all\n",
      "0 nan       \n",
      "1 0.133     \n",
      "2 0.151     \n",
      "3 0.156     \n",
      "4 0.157     \n",
      "5 0.159     \n",
      "6 0.160     \n",
      "7 0.163     \n",
      "8 0.165     \n",
      "9 0.170     \n"
     ]
    },
    {
     "data": {
      "image/png": "[encoded data removed]",
      "text/plain": [
       "<Figure size 432x288 with 1 Axes>"
      ]
     },
     "metadata": {
      "needs_background": "light"
     },
     "output_type": "display_data"
    }
   ],
   "source": [
    "data_e1=[data_baseline[t].ent_hrs.sum() for t in range(T0,TN)]\n",
    "data_e2=[data_target[t].ent_hrs.sum() for t in range(T0,TN)]\n",
    "Delta=np.array(data_e2)/np.array(data_e1)-1\n",
    "plt.plot(Delta)\n",
    "print(pd.DataFrame(Delta,columns=['Delta_all']))"
   ]
  },
  {
   "cell_type": "markdown",
   "metadata": {},
   "source": [
    "Grouped by $z$"
   ]
  },
  {
   "cell_type": "code",
   "execution_count": 64,
   "metadata": {},
   "outputs": [
    {
     "data": {
      "text/plain": [
       "[<matplotlib.lines.Line2D at 0x7f3f0577ef60>]"
      ]
     },
     "execution_count": 64,
     "metadata": {},
     "output_type": "execute_result"
    },
    {
     "data": {
      "text/plain": [
       "[<matplotlib.lines.Line2D at 0x7f3e06734ef0>]"
      ]
     },
     "execution_count": 64,
     "metadata": {},
     "output_type": "execute_result"
    },
    {
     "data": {
      "text/plain": [
       "[<matplotlib.lines.Line2D at 0x7f3e066699e8>]"
      ]
     },
     "execution_count": 64,
     "metadata": {},
     "output_type": "execute_result"
    },
    {
     "data": {
      "text/plain": [
       "[<matplotlib.lines.Line2D at 0x7f3e0663b400>]"
      ]
     },
     "execution_count": 64,
     "metadata": {},
     "output_type": "execute_result"
    },
    {
     "data": {
      "text/plain": [
       "[<matplotlib.lines.Line2D at 0x7f3e0674dc88>]"
      ]
     },
     "execution_count": 64,
     "metadata": {},
     "output_type": "execute_result"
    },
    {
     "data": {
      "text/plain": [
       "<matplotlib.legend.Legend at 0x7f3e0662ef98>"
      ]
     },
     "execution_count": 64,
     "metadata": {},
     "output_type": "execute_result"
    },
    {
     "name": "stdout",
     "output_type": "stream",
     "text": [
      "        0     1     2     3     4     5     6     7     8     9\n",
      "0.000 nan 0.139 0.129 0.102 0.086 0.094 0.079 0.063 0.064 0.062\n",
      "1.000 nan 0.139 0.151 0.165 0.138 0.133 0.124 0.117 0.113 0.091\n",
      "2.000 nan 0.151 0.186 0.170 0.198 0.197 0.234 0.188 0.214 0.188\n",
      "3.000 nan 0.086 0.124 0.162 0.164 0.172 0.164 0.164 0.166 0.164\n",
      "4.000 nan 0.137 0.153 0.155 0.156 0.158 0.160 0.163 0.164 0.170\n"
     ]
    },
    {
     "data": {
      "image/png": "[encoded data removed]",
      "text/plain": [
       "<Figure size 432x288 with 1 Axes>"
      ]
     },
     "metadata": {
      "needs_background": "light"
     },
     "output_type": "display_data"
    }
   ],
   "source": [
    "Delta=[]\n",
    "fig, ax = plt.subplots()\n",
    "for zval in np.sort(data_baseline[0].z.unique()):\n",
    "    sel_baseline=[data_baseline[t].z==zval for t in range(T0,TN)]\n",
    "    sel_target=[data_target[t].z==zval for t in range(T0,TN)]\n",
    "    data_e1=[data_baseline[t][sel_baseline[t]].ent_hrs.sum() for t in range(T0,TN)]\n",
    "    data_e2=[data_target[t][sel_target[t]].ent_hrs.sum() for t in range(T0,TN)]\n",
    "    temp=np.array(data_e2)/np.array(data_e1)-1\n",
    "    Delta.append(temp)\n",
    "    ax.plot(temp)\n",
    "    \n",
    "ax.legend(np.sort(data_baseline[0].z.unique()))\n",
    "Delta_by_z=pd.DataFrame(Delta,index=np.sort(data_baseline[0].z.unique()))    \n",
    "print(Delta_by_z)"
   ]
  },
  {
   "cell_type": "markdown",
   "metadata": {},
   "source": [
    "## Intensive Margin entreprenur hours: $h_y$+$h_{\\kappa}$\n",
    "In here we condition on individual who were running business in date $t=0$. We then compute the % change in hours \"person-by-person\" and report the 25, 50, 75 percentiles. Note that this not what GR do. But is closer to what Chettty does and calls as intensive margin. "
   ]
  },
  {
   "cell_type": "code",
   "execution_count": 65,
   "metadata": {},
   "outputs": [
    {
     "data": {
      "text/plain": [
       "[<matplotlib.lines.Line2D at 0x7f3e065c1f28>,\n",
       " <matplotlib.lines.Line2D at 0x7f3e065cd1d0>,\n",
       " <matplotlib.lines.Line2D at 0x7f3e065cd358>]"
      ]
     },
     "execution_count": 65,
     "metadata": {},
     "output_type": "execute_result"
    },
    {
     "data": {
      "image/png": "[encoded data removed]",
      "text/plain": [
       "<Figure size 432x288 with 1 Axes>"
      ]
     },
     "metadata": {
      "needs_background": "light"
     },
     "output_type": "display_data"
    }
   ],
   "source": [
    "Delta_ent_hrs=[(data_target[t].ent_hrs-data_baseline[t].ent_hrs)/data_baseline[t].ent_hrs for t in range(T0,TN)]\n",
    "sel=data_baseline[1].flagS\n",
    "plt.plot([Delta_ent_hrs[t][data_baseline[1][sel].index].quantile([.25,.5,.75]) for t in range(T0,TN)])"
   ]
  },
  {
   "cell_type": "markdown",
   "metadata": {},
   "source": [
    "### Num of entreprenurs "
   ]
  },
  {
   "cell_type": "code",
   "execution_count": 66,
   "metadata": {},
   "outputs": [
    {
     "data": {
      "text/plain": [
       "[<matplotlib.lines.Line2D at 0x7f3e06536208>]"
      ]
     },
     "execution_count": 66,
     "metadata": {},
     "output_type": "execute_result"
    },
    {
     "name": "stdout",
     "output_type": "stream",
     "text": [
      "   Delta_all\n",
      "0 nan       \n",
      "1 0.059     \n",
      "2 0.067     \n",
      "3 0.071     \n",
      "4 0.072     \n",
      "5 0.073     \n",
      "6 0.074     \n",
      "7 0.077     \n",
      "8 0.078     \n",
      "9 0.077     \n"
     ]
    },
    {
     "data": {
      "image/png": "[encoded data removed]",
      "text/plain": [
       "<Figure size 432x288 with 1 Axes>"
      ]
     },
     "metadata": {
      "needs_background": "light"
     },
     "output_type": "display_data"
    }
   ],
   "source": [
    "data_e1=[data_baseline[t].flagS.sum() for t in range(T0,TN)]\n",
    "data_e2=[data_target[t].flagS.sum() for t in range(T0,TN)]\n",
    "Delta=np.array(data_e2)/np.array(data_e1)-1\n",
    "Delta[0]=np.nan\n",
    "plt.plot(Delta)\n",
    "print(pd.DataFrame(Delta,columns=['Delta_all']))"
   ]
  },
  {
   "cell_type": "code",
   "execution_count": 67,
   "metadata": {},
   "outputs": [
    {
     "data": {
      "text/plain": [
       "[<matplotlib.lines.Line2D at 0x7f3e0663b208>]"
      ]
     },
     "execution_count": 67,
     "metadata": {},
     "output_type": "execute_result"
    },
    {
     "data": {
      "text/plain": [
       "[<matplotlib.lines.Line2D at 0x7f3e0663b5c0>]"
      ]
     },
     "execution_count": 67,
     "metadata": {},
     "output_type": "execute_result"
    },
    {
     "data": {
      "text/plain": [
       "[<matplotlib.lines.Line2D at 0x7f3e06561c18>]"
      ]
     },
     "execution_count": 67,
     "metadata": {},
     "output_type": "execute_result"
    },
    {
     "data": {
      "text/plain": [
       "[<matplotlib.lines.Line2D at 0x7f3e0651f828>]"
      ]
     },
     "execution_count": 67,
     "metadata": {},
     "output_type": "execute_result"
    },
    {
     "data": {
      "text/plain": [
       "[<matplotlib.lines.Line2D at 0x7f3e0663be48>]"
      ]
     },
     "execution_count": 67,
     "metadata": {},
     "output_type": "execute_result"
    },
    {
     "data": {
      "text/plain": [
       "<matplotlib.legend.Legend at 0x7f3e0651f3c8>"
      ]
     },
     "execution_count": 67,
     "metadata": {},
     "output_type": "execute_result"
    },
    {
     "name": "stdout",
     "output_type": "stream",
     "text": [
      "        0     1     2     3     4     5     6     7     8     9\n",
      "0.000 nan 0.060 0.066 0.065 0.058 0.066 0.067 0.068 0.063 0.060\n",
      "1.000 nan 0.055 0.062 0.062 0.062 0.057 0.056 0.057 0.063 0.058\n",
      "2.000 nan 0.056 0.059 0.058 0.061 0.065 0.060 0.063 0.072 0.066\n",
      "3.000 nan 0.036 0.046 0.059 0.065 0.064 0.064 0.069 0.070 0.070\n",
      "4.000 nan 0.073 0.082 0.085 0.086 0.088 0.091 0.095 0.093 0.096\n"
     ]
    },
    {
     "data": {
      "image/png": "[encoded data removed]",
      "text/plain": [
       "<Figure size 432x288 with 1 Axes>"
      ]
     },
     "metadata": {
      "needs_background": "light"
     },
     "output_type": "display_data"
    }
   ],
   "source": [
    "Delta=[]\n",
    "fig, ax = plt.subplots()\n",
    "for zval in np.sort(data_baseline[0].z.unique()):\n",
    "    sel_baseline=[data_baseline[t].z==zval for t in range(T0,TN)]\n",
    "    sel_target=[data_target[t].z==zval for t in range(T0,TN)]\n",
    "    data_e1=[data_baseline[t][sel_baseline[t]].flagS.sum() for t in range(T0,TN)]\n",
    "    data_e2=[data_target[t][sel_target[t]].flagS.sum() for t in range(T0,TN)]\n",
    "    temp=np.array(data_e2)/np.array(data_e1)-1\n",
    "    temp[0]=np.nan\n",
    "    Delta.append(temp)\n",
    "    ax.plot(temp)\n",
    "    \n",
    "ax.legend(np.sort(data_baseline[0].z.unique()))\n",
    "Delta_by_z=pd.DataFrame(Delta,index=np.sort(data_baseline[0].z.unique()))    \n",
    "print(Delta_by_z)"
   ]
  },
  {
   "cell_type": "markdown",
   "metadata": {},
   "source": [
    "## Employee Hours: n"
   ]
  },
  {
   "cell_type": "code",
   "execution_count": 68,
   "metadata": {},
   "outputs": [
    {
     "data": {
      "text/plain": [
       "[<matplotlib.lines.Line2D at 0x7f3e06426fd0>]"
      ]
     },
     "execution_count": 68,
     "metadata": {},
     "output_type": "execute_result"
    },
    {
     "name": "stdout",
     "output_type": "stream",
     "text": [
      "   Delta_all\n",
      "0 nan       \n",
      "1 -0.053    \n",
      "2 -0.060    \n",
      "3 -0.067    \n",
      "4 -0.067    \n",
      "5 -0.067    \n",
      "6 -0.067    \n",
      "7 -0.067    \n",
      "8 -0.068    \n",
      "9 -0.066    \n"
     ]
    },
    {
     "data": {
      "image/png": "[encoded data removed]",
      "text/plain": [
       "<Figure size 432x288 with 1 Axes>"
      ]
     },
     "metadata": {
      "needs_background": "light"
     },
     "output_type": "display_data"
    }
   ],
   "source": [
    "data_e1=[data_baseline[t].emp_hrs.sum() for t in range(T0,TN)]\n",
    "data_e2=[data_target[t].emp_hrs.sum() for t in range(T0,TN)]\n",
    "Delta=np.array(data_e2)/np.array(data_e1)-1\n",
    "Delta[0]=np.nan\n",
    "plt.plot(Delta)\n",
    "print(pd.DataFrame(Delta,columns=['Delta_all']))"
   ]
  },
  {
   "cell_type": "markdown",
   "metadata": {},
   "source": [
    "## Employee Hours: n intensive"
   ]
  },
  {
   "cell_type": "code",
   "execution_count": 69,
   "metadata": {},
   "outputs": [
    {
     "data": {
      "text/plain": [
       "[<matplotlib.lines.Line2D at 0x7f3e06413be0>]"
      ]
     },
     "execution_count": 69,
     "metadata": {},
     "output_type": "execute_result"
    },
    {
     "data": {
      "image/png": "[encoded data removed]",
      "text/plain": [
       "<Figure size 432x288 with 1 Axes>"
      ]
     },
     "metadata": {
      "needs_background": "light"
     },
     "output_type": "display_data"
    }
   ],
   "source": [
    "Delta_emp_hrs=[]\n",
    "for t in range(T0,TN):\n",
    "    Delta_emp_hrs.append((data_target[t].emp_hrs-data_baseline[t].emp_hrs)/data_baseline[t].emp_hrs)\n",
    "sel=data_baseline[1].flagC\n",
    "plt.plot([Delta_emp_hrs[t][data_baseline[1][sel].index].quantile(.5) for t in range(T0+1,TN)])"
   ]
  },
  {
   "cell_type": "code",
   "execution_count": null,
   "metadata": {},
   "outputs": [],
   "source": []
  },
  {
   "cell_type": "code",
   "execution_count": null,
   "metadata": {},
   "outputs": [],
   "source": []
  }
 ],
 "metadata": {
  "kernelspec": {
   "display_name": "Python 3",
   "language": "python",
   "name": "python3"
  },
  "language_info": {
   "codemirror_mode": {
    "name": "ipython",
    "version": 3
   },
   "file_extension": ".py",
   "mimetype": "text/x-python",
   "name": "python",
   "nbconvert_exporter": "python",
   "pygments_lexer": "ipython3",
   "version": "3.6.8"
  }
 },
 "nbformat": 4,
 "nbformat_minor": 4
}
