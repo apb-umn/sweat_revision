{
 "cells": [
  {
   "cell_type": "markdown",
   "metadata": {},
   "source": [
    "<h1 align=\"center\">RESULTS: Comparision of SuperStar Baseline and Lower Tax on Private Businesses  </h1> \n",
    "\n"
   ]
  },
  {
   "cell_type": "markdown",
   "metadata": {},
   "source": [
    "This file generates  aggregate and  cross-sectional moments using the simulated data. The simlations are generated using the simulate.py fle. Please update the paths to the simulation data before running."
   ]
  },
  {
   "cell_type": "markdown",
   "metadata": {},
   "source": [
    "## Import libraries"
   ]
  },
  {
   "cell_type": "code",
   "execution_count": 1,
   "metadata": {},
   "outputs": [],
   "source": [
    "import numpy as np\n",
    "import pandas as pd\n",
    "import stats\n",
    "import os.path\n",
    "pd.options.display.float_format = '{:.3f}'.format\n",
    "pd.set_option('display.max_colwidth', -1)\n",
    "from SCEconomy import *\n",
    "import seaborn as sns\n",
    "sns.set_style('whitegrid')\n",
    "\n",
    "import warnings\n",
    "warnings.filterwarnings('ignore')\n",
    "\n",
    "%matplotlib inline\n",
    "import matplotlib as mpl\n",
    "mpl.rc(\"savefig\",dpi=200)\n",
    "from matplotlib import pyplot as plt\n",
    "# plt.rcParams[\"figure.figsize\"] = (10.,10.)"
   ]
  },
  {
   "cell_type": "code",
   "execution_count": 2,
   "metadata": {},
   "outputs": [
    {
     "data": {
      "text/html": [
       "<script>\n",
       "code_show=true; \n",
       "function code_toggle() {\n",
       " if (code_show){\n",
       " $('div.input').hide();\n",
       " } else {\n",
       " $('div.input').show();\n",
       " }\n",
       " code_show = !code_show\n",
       "} \n",
       "$( document ).ready(code_toggle);\n",
       "</script>\n",
       "<form action=\"javascript:code_toggle()\"><input type=\"submit\" value=\"Click here to toggle on/off the raw code.\"></form>"
      ],
      "text/plain": [
       "<IPython.core.display.HTML object>"
      ]
     },
     "execution_count": 2,
     "metadata": {},
     "output_type": "execute_result"
    }
   ],
   "source": [
    "from IPython.display import HTML\n",
    "from IPython.core.interactiveshell import InteractiveShell\n",
    "InteractiveShell.ast_node_interactivity = \"all\"\n",
    "HTML('''<script>\n",
    "code_show=true; \n",
    "function code_toggle() {\n",
    " if (code_show){\n",
    " $('div.input').hide();\n",
    " } else {\n",
    " $('div.input').show();\n",
    " }\n",
    " code_show = !code_show\n",
    "} \n",
    "$( document ).ready(code_toggle);\n",
    "</script>\n",
    "<form action=\"javascript:code_toggle()\"><input type=\"submit\" value=\"Click here to toggle on/off the raw code.\"></form>''')"
   ]
  },
  {
   "cell_type": "code",
   "execution_count": 3,
   "metadata": {},
   "outputs": [],
   "source": [
    "df_baseline=[]\n",
    "df_target=[]\n",
    "def gini(series, weights):\n",
    "    if series.size!=weights.size:\n",
    "        print(\"Weights are not the same size as the series\")\n",
    "        return\n",
    "    sorted_series = series.sort_values()\n",
    "    height, area = 0, 0\n",
    "    for i in range(series.size):\n",
    "        value = series[sorted_series.index[i]]\n",
    "        wgt = weights[sorted_series.index[i]]\n",
    "        height += wgt*value\n",
    "        area += wgt*(height - value / 2)\n",
    "    fair_area = height * weights.sum() / 2.\n",
    "    return (fair_area - area) / fair_area\n",
    "\n",
    "\n",
    "def gini_alt(series):\n",
    "    csum= 0.0\n",
    "    N=len(series)\n",
    "    for i in range(N):\n",
    "        for j in range(N):\n",
    "            value_i = series.iloc[i]\n",
    "            value_j = series.iloc[j]\n",
    "            csum+=np.abs(value_i-value_j)\n",
    "        \n",
    "    gini_val=0.5*(csum/(N)**2)/series.mean()\n",
    "    \n",
    "    return gini_val\n",
    "\n",
    "\n",
    "def Lorenz(series,quantiles):\n",
    "    N=len(quantiles)\n",
    "    Lz=np.zeros(N)\n",
    "    for n in range(N):\n",
    "        selection = series<series.quantile(quantiles[n])\n",
    "        Lz[n]=series[selection].sum()/series.sum()\n",
    "               \n",
    "        \n",
    "    return  Lz\n",
    "\n",
    "\n",
    "def uploadData(case,w,rs,rc,p,delta):\n",
    "    data=pd.DataFrame()\n",
    "    is_iz=pd.read_csv(case+'/is_to_iz.csv',delim_whitespace=True,header=None)\n",
    "    zgrid=pd.read_csv(case+'/zgrid.csv',delim_whitespace=True,header=None)\n",
    "    is_to_ieps=pd.read_csv(case+'/is_to_ieps.csv', delim_whitespace=True,header=None)\n",
    "    epsgrid=pd.read_csv(case+'/epsgrid.csv', delim_whitespace=True,header=None)\n",
    "    T=100-1\n",
    "    \n",
    "    data['s_ind_']=pd.read_csv(case+'/data_i_s.csv', delim_whitespace=True,header=None).iloc[:,T-1]\n",
    "    data['s_ind']=pd.read_csv(case+'/data_i_s.csv', delim_whitespace=True,header=None, usecols=[T])\n",
    "    \n",
    "    \n",
    "    data['eps']=epsgrid.values.flatten()[is_to_ieps.astype('int').values.flatten()[data.s_ind.astype('int').values.flatten()]]   \n",
    "    data['eps_']=epsgrid.values.flatten()[is_to_ieps.astype('int').values.flatten()[data.s_ind_.astype('int').values.flatten()]]   \n",
    "    data['iz']=is_iz.astype('int').values.flatten()[data.s_ind.astype('int').values.flatten()]\n",
    "    data['iz_']=is_iz.astype('int').values.flatten()[data.s_ind_.astype('int').values.flatten()]\n",
    "    data['ieps']=is_to_ieps.astype('int').values.flatten()[data.s_ind.astype('int').values.flatten()]  \n",
    "    data['ieps_']=is_to_ieps.astype('int').values.flatten()[data.s_ind_.astype('int').values.flatten()]\n",
    "    data['z']=zgrid.values.flatten()[is_iz.astype('int').values.flatten()[data.s_ind.astype('int').values.flatten()]]    \n",
    "    data['z_']=zgrid.values.flatten()[is_iz.astype('int').values.flatten()[data.s_ind_.astype('int').values.flatten()]]    \n",
    "    data['ys']=pd.read_csv(case+'/data_ys.csv', delim_whitespace=True,header=None, usecols=[T])\n",
    "    data['ys_']=pd.read_csv(case+'/data_ys.csv', delim_whitespace=True,header=None, usecols=[T-1])\n",
    "    data['ks']=pd.read_csv(case+'/data_ks.csv', delim_whitespace=True,header=None, usecols=[T])\n",
    "    data['ns']=pd.read_csv(case+'/data_ns.csv', delim_whitespace=True,header=None, usecols=[T])\n",
    "    data['x']=pd.read_csv(case+'/data_x.csv',  delim_whitespace=True,header=None, usecols=[T])\n",
    "    data['n']=pd.read_csv(case+'/data_n.csv', delim_whitespace=True,header=None, usecols=[T])\n",
    "    data['ks_']=pd.read_csv(case+'/data_ks.csv', delim_whitespace=True,header=None, usecols=[T-1])\n",
    "    data['ns_']=pd.read_csv(case+'/data_ns.csv', delim_whitespace=True,header=None, usecols=[T-1])\n",
    "    data['x_']=pd.read_csv(case+'/data_x.csv',  delim_whitespace=True,header=None, usecols=[T-1])\n",
    "    data['n_']=pd.read_csv(case+'/data_n.csv', delim_whitespace=True,header=None, usecols=[T-1])\n",
    "    data['flagC']=pd.read_csv(case+'/data_is_c.csv', delim_whitespace=True,header=None, usecols=[T])\n",
    "    data['flagC_']=pd.read_csv(case+'/data_is_c.csv', delim_whitespace=True,header=None, usecols=[T-1])\n",
    "    data['flagO']=pd.read_csv(case+'/data_is_o.csv',delim_whitespace=True,header=None, usecols=[T])\n",
    "    data['kappa']=pd.read_csv(case+'/data_kap.csv', delim_whitespace=True,header=None, usecols=[T])\n",
    "    data['hkap']=pd.read_csv(case+'/data_hkap.csv',  delim_whitespace=True,header=None, usecols=[T])\n",
    "    data['hy']=pd.read_csv(case+'/data_hy.csv',  delim_whitespace=True,header=None, usecols=[T])\n",
    "    data['s_age']=pd.read_csv(case+'/s_age.csv',  delim_whitespace=True,header=None)\n",
    "    data['sind_age']=pd.read_csv(case+'/sind_age.csv',  delim_whitespace=True,header=None)\n",
    "    data['ind_age']=pd.read_csv(case+'/ind_age.csv',  delim_whitespace=True,header=None)\n",
    "    data['c_age']=pd.read_csv(case+'/c_age.csv',  delim_whitespace=True,header=None)\n",
    "    data['div_']=pd.read_csv(case+'/data_div_sweat.csv',  delim_whitespace=True,header=None, usecols=[T-1])\n",
    "    data['div']= pd.read_csv(case+'/data_div_sweat.csv',  delim_whitespace=True,header=None, usecols=[T])\n",
    "    data['val_sdf_']=pd.read_csv(case+'/data_val_sweat_dyna_sdf.csv',  delim_whitespace=True,header=None, usecols=[T-1])\n",
    "    data['val_mf_']=pd.read_csv(case+'/data_val_sweat_dyna_fix.csv',  delim_whitespace=True,header=None, usecols=[T-1])\n",
    "\n",
    "    data['val_sdf']=pd.read_csv(case+'/data_val_sweat_dyna_sdf.csv',  delim_whitespace=True,header=None, usecols=[T])\n",
    "    data['val_mf']=pd.read_csv(case+'/data_val_sweat_dyna_fix.csv',  delim_whitespace=True,header=None, usecols=[T])\n",
    "    data['a']= pd.read_csv(case+'/data_a.csv',  delim_whitespace=True,header=None, usecols=[T])\n",
    "    \n",
    "    data['flagC']=data['flagC'].astype('bool')\n",
    "    data['flagC_']=data['flagC_'].astype('bool')\n",
    "    data['flagO']=data['flagO'].astype('bool')\n",
    "    data['expenses']=(rs+delta)*data['ks']+w*data['ns']+data['x']\n",
    "    data['expenses_']=(rs+delta)*data['ks_']+w*data['ns_']+data['x_']\n",
    "    data['wns']=data['ns']*w\n",
    "    data['pys']=p*data['ys']\n",
    "\n",
    "    data['bus_inc']=p*data['ys']-data['expenses']\n",
    "    data['bus_inc_']=p*data['ys_']-data['expenses_']\n",
    "    data['lab_inc']=data.eps*w*data.n\n",
    "    data['lab_inc_']=data.eps_*w*data.n_\n",
    "    data['n_e']=data['hkap']+data['hy']\n",
    "    data['ne']=data['n_e']\n",
    "    data['kappa_adj']=(data.kappa**0.15)*data.z\n",
    "    data['ret_sdf']=(data['val_sdf']+data['div_'])/data['val_sdf_']+0.02\n",
    "    data['ret_mf']=(data['val_mf']+data['div_'])/data['val_mf_']+0.02\n",
    "    data['div_yld_sdf']=(data['div'])/data['val_sdf']\n",
    "    data['div_yld_mf']=(data['div'])/data['val_mf']\n",
    "    #data['intan_int_sdf']=data['val_sdf'] /(data['val_sdf']+data['ks'])\n",
    "    #data['intan_int_mf']=data['val_mf'] /(data['val_mf']+data['ks'])\n",
    "    data['profit_rate']=100*data['bus_inc']/data['ks']\n",
    "    data['measured_markups']=100*(data['bus_inc'])/(data['x']+(rs+delta)*data['ks']+w*data['ns'])\n",
    "    data['measured_markups_alt']=100*(data['bus_inc']+data['x'])/((rs+delta)*data['ks']+w*data['ns'])\n",
    "    data['x_pys']=data['x']/(p*data['ys'])\n",
    "    data['cogs']=((rs+delta)*data['ks']+w*data['ns']+data['x'])    \n",
    "    data['wealth_sdf']=data['a']+data['val_sdf']   \n",
    "    data['wealth_mf']=data['a']+data['val_mf']   \n",
    "    data['ztilde'] = np.log(data['z'])\n",
    "    data['zkapphi']=data['z']*data['kappa']**(0.15)\n",
    "    data['ztilde_meas'] = np.log(data['ys']/(data['ks']**(0.333)*data['ns']**(0.666)))\n",
    "    data['inc']=0.0\n",
    "    data['inc'][data['flagC']==True]=data[data['flagC']==True]['lab_inc']\n",
    "    data['inc'][data['flagC']==False]=data[data['flagC']==False]['bus_inc']\n",
    "    data['tot_inc']=data['inc']+rc*data['a'] \n",
    "    if os.path.exists(case+'/data_R.csv'):\n",
    "        data['R']= pd.read_csv(case+'/data_R.csv',  delim_whitespace=True,header=None, usecols=[T])\n",
    "        data['intan_int']=data['R']/(data['R']+data['ks'])\n",
    "        data['wealth_R']=0.0\n",
    "        data['wealth_R'][data['flagC']==True]=data[data['flagC']==True]['a']   \n",
    "        data['wealth_R'][data['flagC']==False]=data[data['flagC']==False]['a']+data[data['flagC']==False]['R']   \n",
    "        data['wealth_income_ratio']=data['wealth_R']/data['tot_inc']\n",
    "  \n",
    "  \n",
    "\n",
    "    data['wgt']=1.0\n",
    "    return data\n",
    "\n",
    "\n",
    "\n",
    "\n",
    "def get_prices(path_baseline,momfilename):\n",
    "    with open (path_baseline+ momfilename, 'rt') as myfile:  # Open file lorem.txt for reading text\n",
    "        for myline in myfile:                 # For each line, read it to a string \n",
    "          #print(\"gdp line\")\n",
    "          #print(myline.find(\"GDP(\"))\n",
    "          if myline.find(\"w\")==0:\n",
    "            #print(myline)\n",
    "            w=float(myline[ myline.find(\"=\")+1:])\n",
    "          if myline.find(\"S-good price\")==0:\n",
    "            #print(myline)\n",
    "            p=float(myline[ myline.find(\"=\")+1:])\n",
    "          if myline.find(\"rc\")==0:\n",
    "            #print(myline)\n",
    "            rc=float(myline[ myline.find(\"=\")+1:])\n",
    "          if myline.find(\"rs\")==0:\n",
    "            #print(myline)\n",
    "            rs=float(myline[ myline.find(\"=\")+1:])\n",
    "          if myline.find(\"GDP(\")==2:\n",
    "            #print(myline)\n",
    "            GVA=float(myline[ myline.find(\"=\")+1:])\n",
    "          if myline.find(\"investment,\")==2:\n",
    "            #print(myline)\n",
    "            x=float(myline[ myline.find(\"=\")+1:])\n",
    "            #print(\"GDP = \"+ str(GVA-x))\n",
    "          if myline.find(\"delk \")==0:\n",
    "            #print(myline)\n",
    "            delta=float(myline[ myline.find(\"=\")+1:])\n",
    "            #print(\"delta= \"+ str(delta))\n",
    "            \n",
    "    return w,p,rc,rs,delta,GVA-x\n",
    "\n",
    "\n",
    "\n",
    "def decomposition (var_bin,bins,varlist):\n",
    "    print('')\n",
    "    print(\"SORTED BY \" + var_bin)\n",
    "    print(\"BINS = \" + str([round(b,2) for b in bins ]) )\n",
    "    \n",
    "\n",
    "    data['bin_' + var_bin] = pd.cut(data[var_bin], bins, labels = False)     \n",
    "    mean_baseline=data.groupby('bin_' + var_bin).mean()[varlist]\n",
    "    count_baseline=data.groupby('bin_' + var_bin).count()[varlist]\n",
    "    \n",
    "    \n",
    "    print(\"-------------- baseline means ----------\")\n",
    "    print(mean_baseline)\n",
    "    print(\"-------------- baseline counts ----------\")\n",
    "    print(count_baseline)\n",
    "    print('')\n",
    "    return mean_baseline,count_baseline\n",
    "\n",
    "def format_table(data,total):\n",
    "    results=[]\n",
    "    results=pd.DataFrame(data) \n",
    "    results['bins/total']=(sorted(pd.cut(df_baseline[var_bin], bins).unique()) )\n",
    "    cols = results.columns.tolist()\n",
    "    cols = cols[-1:] + cols[:-1]\n",
    "    results=results[cols]  #    OR    df = df.ix[:, cols]\n",
    "    results=results.append(total,ignore_index=True)\n",
    "    results.iloc[-1,0]='total'\n",
    "    \n",
    "    return results\n",
    "\n",
    "\n",
    "def print_results (var_bin,bins,varlist,df_baseline=df_baseline,df_target=df_target):\n",
    "    print('')\n",
    "    print(\"SORTED BY \" + var_bin)\n",
    "    print(\"BINS = \" + str([round(b,2) for b in bins ]) )\n",
    "    \n",
    "\n",
    "    df_baseline['bin_' + var_bin] = pd.cut(df_baseline[var_bin], bins, labels = False) \n",
    "    df_target['bin_' + var_bin] = pd.cut(df_target[var_bin], bins, labels = False) \n",
    "    \n",
    "    mean_baseline=df_baseline.groupby('bin_' + var_bin).mean()[varlist]\n",
    "    mean_target=df_target.groupby('bin_' + var_bin).mean()[varlist]\n",
    "    sum_baseline=df_baseline.groupby('bin_' + var_bin).sum()[varlist]\n",
    "    sum_target=df_target.groupby('bin_' + var_bin).sum()[varlist]\n",
    "    count_baseline=df_baseline.groupby('bin_' + var_bin).count()[varlist]\n",
    "    count_target=df_target.groupby('bin_' + var_bin).count()[varlist]\n",
    "    \n",
    "    intensive=(mean_target-mean_baseline)*(count_target+count_baseline)/2\n",
    "    extensive=(count_target-count_baseline)*(mean_target+mean_baseline)/2\n",
    "    total=intensive+extensive\n",
    "    intensive=100.*(intensive/(total.sum()))\n",
    "    extensive=100.*(extensive/(total.sum()))\n",
    "    total_per_change=(100*total.sum()/sum_baseline.sum()).T\n",
    "    intensive_alt=intensive*total_per_change*(1.0/100)\n",
    "    extensive_alt=extensive*total_per_change*(1.0/100)\n",
    "   \n",
    "    return total,sum_baseline,intensive_alt,extensive_alt\n",
    "\n",
    "   \n",
    "\n",
    "    print('')\n",
    "    \n",
    "def __extract_num__(item_name, text):\n",
    "    \n",
    "    import re\n",
    "    for ln in text.splitlines():\n",
    "        if ln.startswith(item_name):\n",
    "\n",
    "            match = re.search(r'[-+]?[0-9]*\\.?[0-9]+([eE][-+]?[0-9]+)?', ln[len(item_name):])\n",
    "\n",
    "            if match is not None:\n",
    "                return float(match.group(0))\n",
    "            else:\n",
    "                return np.nan\n",
    "                    \n",
    "                \n",
    "    return np.nan\n",
    "\n",
    "def get_data_textbuffer(item_name, outputs):\n",
    "    \n",
    "    return np.array([__extract_num__(item_name, text) for text in outputs])\n",
    "    \n",
    "   "
   ]
  },
  {
   "cell_type": "markdown",
   "metadata": {},
   "source": [
    "## Set paths"
   ]
  },
  {
   "cell_type": "code",
   "execution_count": 4,
   "metadata": {},
   "outputs": [],
   "source": [
    "casename='newbench_superstar'\n",
    "targetname='newbench_superstar_taubonly'\n",
    "#path_baseline = '/home/shared/yaoxx366/save_data/save_data_'+casename+'/'\n",
    "path_baseline='./save_data_'+casename\n",
    "path_table = './save_data_'+casename+'/'\n",
    "path_target = './save_data_'+ targetname + '/'\n",
    "momfilename_baseline= 'paras_mom_' + casename  + '.txt'\n",
    "momfilename_target= 'paras_mom_' + targetname  + '.txt'\n",
    "pathtosiminitbase='./save_data_'+ casename+  '/econ_' +casename + '.pickle'\n",
    "pathtosiminittarget='./save_data_'+ targetname+  '/econ_' +targetname + '.pickle'\n",
    "my_file_handle=open(path_baseline+ '/' + momfilename_baseline )\n",
    "textbuffer_baseline=my_file_handle.read()"
   ]
  },
  {
   "cell_type": "markdown",
   "metadata": {},
   "source": [
    "# Calibration"
   ]
  },
  {
   "cell_type": "markdown",
   "metadata": {},
   "source": [
    "## Preferences"
   ]
  },
  {
   "cell_type": "code",
   "execution_count": 5,
   "metadata": {},
   "outputs": [
    {
     "name": "stdout",
     "output_type": "stream",
     "text": [
      "Discount factor                           0.980\n",
      "Paternalistic discount factor             1.000\n",
      "Consumption weight                        0.420\n",
      "Leisure weight                            0.580\n",
      "Intertemporal elasticity inverse          1.500\n",
      "C-corporate good share in consumption     0.448\n",
      "Love of business parameter                0.000\n",
      "Labor productivity decline for the old    0.500\n",
      "Business productivity decline for the old 0.500\n"
     ]
    }
   ],
   "source": [
    "print(pd.read_csv(path_table + 'preferences.csv').to_string(header=None))"
   ]
  },
  {
   "cell_type": "markdown",
   "metadata": {},
   "source": [
    "## Life cycle related params"
   ]
  },
  {
   "cell_type": "code",
   "execution_count": 6,
   "metadata": {},
   "outputs": [
    {
     "name": "stdout",
     "output_type": "stream",
     "text": [
      "Unnamed: 0     y     o\n",
      " y         0.978 0.022\n",
      " o         0.067 0.933\n"
     ]
    }
   ],
   "source": [
    "print(pd.read_csv(path_table + 'age_transition_table.csv', skiprows = 1).to_string(index=None))"
   ]
  },
  {
   "cell_type": "markdown",
   "metadata": {},
   "source": [
    "## Technology"
   ]
  },
  {
   "cell_type": "code",
   "execution_count": 7,
   "metadata": {},
   "outputs": [
    {
     "name": "stdout",
     "output_type": "stream",
     "text": [
      "Technology growth                                                      0.020\n",
      "C-corporate fixed asset share                                          0.522\n",
      "Private business fixed asset share                                     0.300\n",
      "Private business sweat capital share                                   0.150\n",
      "Private business ces labor composite share                             0.550\n",
      "Private business employee hours share parameter in ces labor composite 0.522\n",
      "Private business hours substitution parameter in ces labor composite   0.500\n",
      "Fixed asset depreciation                                               0.041\n",
      "Sweat capital depreciation                                             0.058\n",
      "Sweat capital owner hour share                                         0.408\n",
      "Sweat capital c-good share                                             0.592\n",
      "Sweat capital deterioration for workers                                0.200\n",
      "Sweat capital deterioration for bequests                               0.100\n",
      "Working-capital constraint                                             0.000\n",
      "Non-business production relative to GDP                                0.266\n",
      "Non-business consumption relative to GDP                               0.110\n"
     ]
    }
   ],
   "source": [
    "print(pd.read_csv(path_table + 'technologies.csv').to_string(header=None))"
   ]
  },
  {
   "cell_type": "markdown",
   "metadata": {},
   "source": [
    "## Shocks"
   ]
  },
  {
   "cell_type": "markdown",
   "metadata": {},
   "source": [
    "### Business skill"
   ]
  },
  {
   "cell_type": "code",
   "execution_count": 8,
   "metadata": {},
   "outputs": [
    {
     "name": "stdout",
     "output_type": "stream",
     "text": [
      "       0  1  2  3  4  5\n",
      "zgrid  0  1  2  3  4  5\n",
      "\n",
      "      0     1     2     3     4     5\n",
      "0 0.612 0.170 0.098 0.065 0.055 0.000\n",
      "1 0.172 0.551 0.187 0.064 0.025 0.000\n",
      "2 0.099 0.191 0.475 0.190 0.045 0.000\n",
      "3 0.060 0.055 0.164 0.558 0.164 0.000\n",
      "4 0.045 0.009 0.034 0.135 0.775 0.001\n",
      "5 0.000 0.000 0.000 0.000 0.022 0.978\n"
     ]
    }
   ],
   "source": [
    "# np.loadtxt(path_table + 'business_productivity_transition_table.csv', skiprows = 2, skipcolumn = 1)\n",
    "# pd.read_csv(path_table + 'business_productivity_transition_table.csv', skiprows = 1)\n",
    "\n",
    "\n",
    "print(pd.Series(pd.read_csv(path_table + 'business_productivity_transition_table.csv', skiprows = 1).iloc[:,0]).to_frame('zgrid').T)\n",
    "print()\n",
    "print(pd.DataFrame(pd.read_csv(path_table + 'business_productivity_transition_table.csv', skiprows = 1).iloc[:,1:].values))\n"
   ]
  },
  {
   "cell_type": "markdown",
   "metadata": {},
   "source": [
    "### Labor skills"
   ]
  },
  {
   "cell_type": "code",
   "execution_count": 9,
   "metadata": {},
   "outputs": [
    {
     "name": "stdout",
     "output_type": "stream",
     "text": [
      "         0  1  2  3  4\n",
      "epsgrid  0  1  2  3  4\n",
      "\n",
      "      0     1     2     3     4\n",
      "0 0.424 0.549 0.027 0.000 0.000\n",
      "1 0.046 0.621 0.327 0.005 0.000\n",
      "2 0.001 0.145 0.709 0.145 0.001\n",
      "3 0.000 0.005 0.327 0.621 0.046\n",
      "4 0.000 0.000 0.027 0.549 0.424\n"
     ]
    }
   ],
   "source": [
    "print(pd.Series(pd.read_csv(path_table + 'labor_productivity_transition_table.csv', skiprows = 1).iloc[:,0]).to_frame('epsgrid').T)\n",
    "print('')\n",
    "print(pd.DataFrame(pd.read_csv(path_table + 'labor_productivity_transition_table.csv', skiprows = 1).iloc[:,1:].values))\n"
   ]
  },
  {
   "cell_type": "markdown",
   "metadata": {},
   "source": [
    "## Tax policy"
   ]
  },
  {
   "cell_type": "markdown",
   "metadata": {},
   "source": [
    "### Pass thru income tax"
   ]
  },
  {
   "cell_type": "code",
   "execution_count": 10,
   "metadata": {},
   "outputs": [
    {
     "name": "stdout",
     "output_type": "stream",
     "text": [
      " bbracket_left  bbracket_right   taub   psib\n",
      "-inf             0.153         0.140  0.010 \n",
      "0.153            0.304         0.183  0.037 \n",
      "0.304            0.912         0.201  0.060 \n",
      "0.912            2.667         0.235  0.188 \n",
      "2.667            5.727         0.262  0.484 \n",
      "5.727            9.104         0.269  0.650 \n",
      "9.104            inf           0.280  1.062 \n"
     ]
    }
   ],
   "source": [
    "print(pd.read_csv(path_table + 'business_income_tax.csv').to_string(index=None))"
   ]
  },
  {
   "cell_type": "markdown",
   "metadata": {},
   "source": [
    "### Labor income tax"
   ]
  },
  {
   "cell_type": "code",
   "execution_count": 11,
   "metadata": {},
   "outputs": [
    {
     "name": "stdout",
     "output_type": "stream",
     "text": [
      " nbracket_left  nbracket_right   taun   psin\n",
      "-inf             0.173         0.293  -0.091\n",
      "0.173            0.262         0.324  -0.069\n",
      "0.262            0.404         0.343  -0.048\n",
      "0.404            0.732         0.390  0.030 \n",
      "0.732            1.409         0.400  0.060 \n",
      "1.409            3.3138        0.408  0.106 \n",
      "3.314            inf           0.419  0.257 \n"
     ]
    }
   ],
   "source": [
    "print(pd.read_csv(path_table + 'labor_income_tax.csv').to_string(index=None))"
   ]
  },
  {
   "cell_type": "markdown",
   "metadata": {},
   "source": [
    "### Other taxes"
   ]
  },
  {
   "cell_type": "code",
   "execution_count": 12,
   "metadata": {},
   "outputs": [
    {
     "name": "stdout",
     "output_type": "stream",
     "text": [
      "Consumption tax                        0.065\n",
      "Dividends tax                          0.133\n",
      "Profits tax                            0.360\n",
      "Government expenditure relative to GDP 0.133\n",
      "Retirement Transfer                    0.800\n"
     ]
    }
   ],
   "source": [
    "print(pd.read_csv(path_table + 'policies.csv').to_string(header=None))"
   ]
  },
  {
   "cell_type": "markdown",
   "metadata": {},
   "source": [
    "# Aggregates"
   ]
  },
  {
   "cell_type": "code",
   "execution_count": 13,
   "metadata": {},
   "outputs": [],
   "source": [
    "mom=pd.read_csv(path_table + 'moments.csv')\n",
    "mom.columns=['desc','val']    \n",
    "tax=pd.read_csv(path_table + 'policies.csv')\n",
    "tax.columns=['val']\n",
    "cal=pd.read_csv(path_table + 'technologies.csv')\n",
    "cal.columns=['val']\n",
    "w=float(mom[mom.desc.str.strip()=='Wage (w)']['val'].values)\n",
    "p=float(mom[mom.desc.str.strip()=='S-good price (p)']['val'].values)\n",
    "rc=float(mom[mom.desc.str.strip()=='Interest rate (rc)']['val'].values)\n",
    "GDP=float(mom[mom.desc.str.strip()=='GDP(yc + yn + p*Eys - Ex)']['val'].values)\n",
    "taup=float(tax[tax.index.str.strip()=='Profits tax']['val'].values)\n",
    "rs=rc*(1-taup)\n",
    "delta=float(cal[cal.index.str.strip()=='Fixed asset depreciation']['val'].values)"
   ]
  },
  {
   "cell_type": "code",
   "execution_count": 14,
   "metadata": {},
   "outputs": [],
   "source": [
    "data=uploadData(path_baseline,w,rs,rc,p,delta)"
   ]
  },
  {
   "cell_type": "markdown",
   "metadata": {},
   "source": [
    "## GDP\n",
    "We normalize several things in the paper by GDP"
   ]
  },
  {
   "cell_type": "code",
   "execution_count": 15,
   "metadata": {},
   "outputs": [
    {
     "name": "stdout",
     "output_type": "stream",
     "text": [
      "4.157832003091141\n"
     ]
    }
   ],
   "source": [
    "print(GDP)"
   ]
  },
  {
   "cell_type": "markdown",
   "metadata": {},
   "source": [
    "## Aggregate markups\n",
    "Agg markups  is defined as  sum of business incomes in passthrus / sum rental and wage expenses in pass thrus "
   ]
  },
  {
   "cell_type": "code",
   "execution_count": 16,
   "metadata": {},
   "outputs": [
    {
     "name": "stdout",
     "output_type": "stream",
     "text": [
      "40.85246698091567\n"
     ]
    }
   ],
   "source": [
    "print(100*data.bus_inc.sum()/data.cogs.sum())"
   ]
  },
  {
   "cell_type": "markdown",
   "metadata": {},
   "source": [
    "## Aggregate profitability\n",
    "Agg profitability is defined as  sum of business incomes in passthrus / sum of physical capital used in pass thrus "
   ]
  },
  {
   "cell_type": "code",
   "execution_count": 17,
   "metadata": {},
   "outputs": [
    {
     "name": "stdout",
     "output_type": "stream",
     "text": [
      "8.01754654489454\n"
     ]
    }
   ],
   "source": [
    "print(100*data.bus_inc.sum()/data.ks.sum())"
   ]
  },
  {
   "cell_type": "markdown",
   "metadata": {},
   "source": [
    "## National Accounts"
   ]
  },
  {
   "cell_type": "markdown",
   "metadata": {},
   "source": [
    "### income share"
   ]
  },
  {
   "cell_type": "code",
   "execution_count": 18,
   "metadata": {},
   "outputs": [
    {
     "name": "stdout",
     "output_type": "stream",
     "text": [
      " Business Income                              0.736\n",
      " Sweat labor income                           0.089\n",
      " Non-sweat labor income                       0.320\n",
      " Non-sweat labor income C corporations        0.216\n",
      " Non-sweat labor income pass through business 0.105\n",
      " Non-sweat capital income                     0.328\n",
      " Non-sweat capital income rents               0.191\n",
      " Non-sweat capital income depreciation        0.136\n",
      " Non-business Income                          0.264\n"
     ]
    }
   ],
   "source": [
    "print(pd.read_csv(path_table + 'income_shares.csv').to_string(header=None,index=None))"
   ]
  },
  {
   "cell_type": "markdown",
   "metadata": {},
   "source": [
    "### product share"
   ]
  },
  {
   "cell_type": "code",
   "execution_count": 19,
   "metadata": {},
   "outputs": [
    {
     "name": "stdout",
     "output_type": "stream",
     "text": [
      " Private Consumption                        0.557\n",
      " Government Consumption                     0.132\n",
      " Business Investments C corporations        0.135\n",
      " Business Investments pass through business 0.068\n",
      " Non-business Investments                   0.109\n"
     ]
    }
   ],
   "source": [
    "print(pd.read_csv(path_table + 'product_shares.csv').to_string(header=None,index=None))"
   ]
  },
  {
   "cell_type": "markdown",
   "metadata": {},
   "source": [
    "## Sweat equity by GDP"
   ]
  },
  {
   "cell_type": "code",
   "execution_count": 20,
   "metadata": {},
   "outputs": [
    {
     "name": "stdout",
     "output_type": "stream",
     "text": [
      "0  discounted by beta_tilde 1.099\n",
      "1  discounted by owner SDF  0.672\n"
     ]
    }
   ],
   "source": [
    "print(pd.read_csv(path_table + 'sweat_equity_div_gdp.csv').to_string(header=None))"
   ]
  },
  {
   "cell_type": "markdown",
   "metadata": {},
   "source": [
    "# Age profiles"
   ]
  },
  {
   "cell_type": "markdown",
   "metadata": {},
   "source": [
    "## distribution by age"
   ]
  },
  {
   "cell_type": "code",
   "execution_count": 21,
   "metadata": {},
   "outputs": [
    {
     "name": "stdout",
     "output_type": "stream",
     "text": [
      "0    11.797\n",
      "1    9.753 \n",
      "2    8.302 \n",
      "3    7.127 \n",
      "4    6.346 \n",
      "5    5.481 \n",
      "6    4.886 \n",
      "7    4.334 \n",
      "8    3.856 \n",
      "9    3.066 \n",
      "10   2.999 \n",
      "11   2.516 \n",
      "12   2.252 \n",
      "13   2.105 \n",
      "14   1.855 \n",
      "15   1.702 \n",
      "16   1.534 \n",
      "17   1.361 \n",
      "18   1.219 \n",
      "19   1.110 \n",
      "20   0.926 \n",
      "21   0.907 \n",
      "22   0.769 \n",
      "23   0.694 \n",
      "24   0.678 \n",
      "25   0.598 \n",
      "26   0.558 \n",
      "27   0.488 \n",
      "28   0.512 \n",
      "29   0.342 \n",
      "30   0.331 \n",
      "31   0.406 \n",
      "32   0.323 \n",
      "33   0.270 \n",
      "34   0.259 \n",
      "35   0.254 \n",
      "36   0.264 \n",
      "37   0.203 \n",
      "38   0.211 \n",
      "39   0.195 \n",
      "40   0.171 \n"
     ]
    }
   ],
   "source": [
    "df = pd.read_csv(path_table + 'started_n_periods_ago.csv')\n",
    "print((100*df[df['N periods ago'] <= 40].set_index('N periods ago').iloc[:,0]).to_string(header=None))"
   ]
  },
  {
   "cell_type": "markdown",
   "metadata": {},
   "source": [
    "## sweat capital by age"
   ]
  },
  {
   "cell_type": "code",
   "execution_count": 22,
   "metadata": {},
   "outputs": [
    {
     "data": {
      "text/plain": [
       "<matplotlib.axes._subplots.AxesSubplot at 0x7fc5cb5b3588>"
      ]
     },
     "execution_count": 22,
     "metadata": {},
     "output_type": "execute_result"
    },
    {
     "name": "stdout",
     "output_type": "stream",
     "text": [
      "              sind_age  kappa\n",
      "bin_sind_age                 \n",
      "0.000        0.000     0.353 \n",
      "1.000        1.000     0.448 \n",
      "2.000        2.000     0.485 \n",
      "3.000        3.000     0.501 \n",
      "4.000        4.000     0.520 \n",
      "5.000        5.918     0.583 \n",
      "6.000        8.891     0.579 \n",
      "7.000        11.449    0.636 \n",
      "8.000        13.930    0.714 \n",
      "9.000        19.662    0.793 \n",
      "10.000       27.810    1.026 \n",
      "11.000       32.783    1.071 \n",
      "12.000       37.784    1.086 \n",
      "13.000       42.846    1.216 \n",
      "14.000       48.016    1.280 \n",
      "15.000       52.753    1.239 \n",
      "16.000       57.890    0.955 \n",
      "17.000       69.696    1.049 \n",
      "18.000       112.595   0.512 \n"
     ]
    },
    {
     "data": {
      "image/png": "[encoded data removed]",
      "text/plain": [
       "<Figure size 432x288 with 1 Axes>"
      ]
     },
     "metadata": {
      "needs_background": "light"
     },
     "output_type": "display_data"
    }
   ],
   "source": [
    "sel=(~data['flagC'] )\n",
    "var_bin = 'sind_age'\n",
    "varlist=['kappa','intan_int','ret_sdf','div_yld_sdf','measured_markups','val_sdf','a','wealth_sdf','s_age','sind_age','ind_age','ztilde_meas','ztilde','bus_inc','hy','hkap','n_e','ns','ks','R','x']\n",
    "bins=[-1,0,1,2,3,4,7,10, 12,15,25,30,35,40,45,50,55,60,80,500 ]\n",
    "data['bin_' + var_bin] = pd.cut(data[var_bin], bins, labels = False)     \n",
    "mean_baseline=data[sel].groupby('bin_' + var_bin).mean()[varlist]\n",
    "count_baseline=data[sel].groupby('bin_' + var_bin).count()[varlist]\n",
    "mean_baseline[['sind_age','kappa']].plot(x='sind_age',y='kappa')\n",
    "mean_baseline[['sind_age','kappa']].to_csv('sind_kappa.csv')\n",
    "print(mean_baseline[['sind_age','kappa']])"
   ]
  },
  {
   "cell_type": "markdown",
   "metadata": {},
   "source": [
    "## Regression of $\\log V_{\\kappa}$ on $age,age^2$: Pratts"
   ]
  },
  {
   "cell_type": "code",
   "execution_count": 23,
   "metadata": {},
   "outputs": [
    {
     "data": {
      "text/plain": [
       "24"
      ]
     },
     "execution_count": 23,
     "metadata": {},
     "output_type": "execute_result"
    },
    {
     "data": {
      "text/html": [
       "<table class=\"simpletable\">\n",
       "<caption>OLS Regression Results</caption>\n",
       "<tr>\n",
       "  <th>Dep. Variable:</th>    <td>TotalIntangiblesPPA</td> <th>  R-squared:         </th> <td>   0.228</td> \n",
       "</tr>\n",
       "<tr>\n",
       "  <th>Model:</th>                    <td>OLS</td>         <th>  Adj. R-squared:    </th> <td>   0.223</td> \n",
       "</tr>\n",
       "<tr>\n",
       "  <th>Method:</th>              <td>Least Squares</td>    <th>  F-statistic:       </th> <td>   45.30</td> \n",
       "</tr>\n",
       "<tr>\n",
       "  <th>Date:</th>              <td>Tue, 16 Jun 2020</td>   <th>  Prob (F-statistic):</th>  <td>  0.00</td>  \n",
       "</tr>\n",
       "<tr>\n",
       "  <th>Time:</th>                  <td>15:23:16</td>       <th>  Log-Likelihood:    </th> <td> -13411.</td> \n",
       "</tr>\n",
       "<tr>\n",
       "  <th>No. Observations:</th>       <td>  6943</td>        <th>  AIC:               </th> <td>2.691e+04</td>\n",
       "</tr>\n",
       "<tr>\n",
       "  <th>Df Residuals:</th>           <td>  6897</td>        <th>  BIC:               </th> <td>2.723e+04</td>\n",
       "</tr>\n",
       "<tr>\n",
       "  <th>Df Model:</th>               <td>    45</td>        <th>                     </th>     <td> </td>    \n",
       "</tr>\n",
       "<tr>\n",
       "  <th>Covariance Type:</th>       <td>nonrobust</td>      <th>                     </th>     <td> </td>    \n",
       "</tr>\n",
       "</table>\n",
       "<table class=\"simpletable\">\n",
       "<tr>\n",
       "             <td></td>               <th>coef</th>     <th>std err</th>      <th>t</th>      <th>P>|t|</th>  <th>[0.025</th>    <th>0.975]</th>  \n",
       "</tr>\n",
       "<tr>\n",
       "  <th>const</th>                  <td>   11.5470</td> <td>    1.145</td> <td>   10.084</td> <td> 0.000</td> <td>    9.302</td> <td>   13.792</td>\n",
       "</tr>\n",
       "<tr>\n",
       "  <th>TargetAge</th>              <td>    0.0183</td> <td>    0.002</td> <td>    8.629</td> <td> 0.000</td> <td>    0.014</td> <td>    0.022</td>\n",
       "</tr>\n",
       "<tr>\n",
       "  <th>TargetAge2</th>             <td> -4.99e-05</td> <td> 1.46e-05</td> <td>   -3.413</td> <td> 0.001</td> <td>-7.86e-05</td> <td>-2.12e-05</td>\n",
       "</tr>\n",
       "<tr>\n",
       "  <th>nacis_code_cat[11, 21)</th> <td>   -0.4594</td> <td>    1.285</td> <td>   -0.357</td> <td> 0.721</td> <td>   -2.979</td> <td>    2.060</td>\n",
       "</tr>\n",
       "<tr>\n",
       "  <th>nacis_code_cat[21, 22)</th> <td>    3.1797</td> <td>    1.294</td> <td>    2.458</td> <td> 0.014</td> <td>    0.644</td> <td>    5.716</td>\n",
       "</tr>\n",
       "<tr>\n",
       "  <th>nacis_code_cat[22, 23)</th> <td>   -0.5650</td> <td>    1.349</td> <td>   -0.419</td> <td> 0.675</td> <td>   -3.209</td> <td>    2.079</td>\n",
       "</tr>\n",
       "<tr>\n",
       "  <th>nacis_code_cat[23, 24)</th> <td>   -0.1541</td> <td>    1.194</td> <td>   -0.129</td> <td> 0.897</td> <td>   -2.494</td> <td>    2.186</td>\n",
       "</tr>\n",
       "<tr>\n",
       "  <th>nacis_code_cat[24, 31)</th> <td>-6.894e-15</td> <td> 1.01e-14</td> <td>   -0.686</td> <td> 0.493</td> <td>-2.66e-14</td> <td> 1.28e-14</td>\n",
       "</tr>\n",
       "<tr>\n",
       "  <th>nacis_code_cat[31, 35)</th> <td>    0.2924</td> <td>    1.192</td> <td>    0.245</td> <td> 0.806</td> <td>   -2.044</td> <td>    2.629</td>\n",
       "</tr>\n",
       "<tr>\n",
       "  <th>nacis_code_cat[35, 42)</th> <td>-1.458e-14</td> <td>  3.9e-14</td> <td>   -0.373</td> <td> 0.709</td> <td>-9.11e-14</td> <td> 6.19e-14</td>\n",
       "</tr>\n",
       "<tr>\n",
       "  <th>nacis_code_cat[42, 44)</th> <td>   -1.7597</td> <td>    1.286</td> <td>   -1.369</td> <td> 0.171</td> <td>   -4.280</td> <td>    0.761</td>\n",
       "</tr>\n",
       "<tr>\n",
       "  <th>nacis_code_cat[44, 46)</th> <td>   -1.0531</td> <td>    1.191</td> <td>   -0.884</td> <td> 0.377</td> <td>   -3.388</td> <td>    1.281</td>\n",
       "</tr>\n",
       "<tr>\n",
       "  <th>nacis_code_cat[46, 48)</th> <td>-1.401e-14</td> <td> 1.87e-14</td> <td>   -0.751</td> <td> 0.453</td> <td>-5.06e-14</td> <td> 2.26e-14</td>\n",
       "</tr>\n",
       "<tr>\n",
       "  <th>nacis_code_cat[48, 50)</th> <td>   -0.6359</td> <td>    1.194</td> <td>   -0.533</td> <td> 0.594</td> <td>   -2.977</td> <td>    1.705</td>\n",
       "</tr>\n",
       "<tr>\n",
       "  <th>nacis_code_cat[50, 51)</th> <td> 4.997e-15</td> <td> 7.13e-15</td> <td>    0.701</td> <td> 0.484</td> <td>-8.98e-15</td> <td>  1.9e-14</td>\n",
       "</tr>\n",
       "<tr>\n",
       "  <th>nacis_code_cat[51, 52)</th> <td>    1.9595</td> <td>    1.198</td> <td>    1.636</td> <td> 0.102</td> <td>   -0.388</td> <td>    4.307</td>\n",
       "</tr>\n",
       "<tr>\n",
       "  <th>nacis_code_cat[52, 53)</th> <td>    0.4310</td> <td>    1.199</td> <td>    0.360</td> <td> 0.719</td> <td>   -1.919</td> <td>    2.781</td>\n",
       "</tr>\n",
       "<tr>\n",
       "  <th>nacis_code_cat[53, 54)</th> <td>   -0.5248</td> <td>    1.196</td> <td>   -0.439</td> <td> 0.661</td> <td>   -2.870</td> <td>    1.820</td>\n",
       "</tr>\n",
       "<tr>\n",
       "  <th>nacis_code_cat[54, 55)</th> <td>    0.3950</td> <td>    1.193</td> <td>    0.331</td> <td> 0.741</td> <td>   -1.944</td> <td>    2.734</td>\n",
       "</tr>\n",
       "<tr>\n",
       "  <th>nacis_code_cat[55, 56)</th> <td>    5.4398</td> <td>    1.407</td> <td>    3.866</td> <td> 0.000</td> <td>    2.681</td> <td>    8.198</td>\n",
       "</tr>\n",
       "<tr>\n",
       "  <th>nacis_code_cat[56, 61)</th> <td>   -0.8055</td> <td>    1.192</td> <td>   -0.676</td> <td> 0.499</td> <td>   -3.141</td> <td>    1.530</td>\n",
       "</tr>\n",
       "<tr>\n",
       "  <th>nacis_code_cat[61, 62)</th> <td>   -1.0929</td> <td>    1.205</td> <td>   -0.907</td> <td> 0.364</td> <td>   -3.455</td> <td>    1.269</td>\n",
       "</tr>\n",
       "<tr>\n",
       "  <th>nacis_code_cat[62, 71)</th> <td>   -0.5618</td> <td>    1.194</td> <td>   -0.471</td> <td> 0.638</td> <td>   -2.902</td> <td>    1.778</td>\n",
       "</tr>\n",
       "<tr>\n",
       "  <th>nacis_code_cat[71, 72)</th> <td>   -1.2780</td> <td>    1.201</td> <td>   -1.064</td> <td> 0.287</td> <td>   -3.632</td> <td>    1.076</td>\n",
       "</tr>\n",
       "<tr>\n",
       "  <th>nacis_code_cat[72, 81)</th> <td>   -1.5446</td> <td>    1.191</td> <td>   -1.297</td> <td> 0.195</td> <td>   -3.879</td> <td>    0.790</td>\n",
       "</tr>\n",
       "<tr>\n",
       "  <th>nacis_code_cat[81, 83)</th> <td>   -1.6104</td> <td>    1.191</td> <td>   -1.352</td> <td> 0.176</td> <td>   -3.946</td> <td>    0.725</td>\n",
       "</tr>\n",
       "<tr>\n",
       "  <th>nacis_code_cat[83, 92)</th> <td> 3.713e-15</td> <td> 1.25e-14</td> <td>    0.298</td> <td> 0.766</td> <td>-2.07e-14</td> <td> 2.82e-14</td>\n",
       "</tr>\n",
       "<tr>\n",
       "  <th>year1990</th>               <td>-1.387e-14</td> <td> 2.27e-14</td> <td>   -0.612</td> <td> 0.540</td> <td>-5.83e-14</td> <td> 3.05e-14</td>\n",
       "</tr>\n",
       "<tr>\n",
       "  <th>year1991</th>               <td>-9.191e-15</td> <td> 8.71e-15</td> <td>   -1.055</td> <td> 0.291</td> <td>-2.63e-14</td> <td> 7.88e-15</td>\n",
       "</tr>\n",
       "<tr>\n",
       "  <th>year1992</th>               <td>-1.186e-14</td> <td> 8.03e-15</td> <td>   -1.477</td> <td> 0.140</td> <td>-2.76e-14</td> <td> 3.88e-15</td>\n",
       "</tr>\n",
       "<tr>\n",
       "  <th>year1993</th>               <td>   -1.1647</td> <td>    1.142</td> <td>   -1.020</td> <td> 0.308</td> <td>   -3.403</td> <td>    1.074</td>\n",
       "</tr>\n",
       "<tr>\n",
       "  <th>year1994</th>               <td>    0.0515</td> <td>    0.662</td> <td>    0.078</td> <td> 0.938</td> <td>   -1.247</td> <td>    1.350</td>\n",
       "</tr>\n",
       "<tr>\n",
       "  <th>year1995</th>               <td>   -0.1088</td> <td>    0.454</td> <td>   -0.239</td> <td> 0.811</td> <td>   -1.000</td> <td>    0.782</td>\n",
       "</tr>\n",
       "<tr>\n",
       "  <th>year1996</th>               <td>    0.1736</td> <td>    0.332</td> <td>    0.523</td> <td> 0.601</td> <td>   -0.477</td> <td>    0.824</td>\n",
       "</tr>\n",
       "<tr>\n",
       "  <th>year1997</th>               <td>    0.1796</td> <td>    0.264</td> <td>    0.681</td> <td> 0.496</td> <td>   -0.338</td> <td>    0.697</td>\n",
       "</tr>\n",
       "<tr>\n",
       "  <th>year1998</th>               <td>    0.3877</td> <td>    0.184</td> <td>    2.103</td> <td> 0.035</td> <td>    0.026</td> <td>    0.749</td>\n",
       "</tr>\n",
       "<tr>\n",
       "  <th>year1999</th>               <td>    0.2742</td> <td>    0.171</td> <td>    1.599</td> <td> 0.110</td> <td>   -0.062</td> <td>    0.610</td>\n",
       "</tr>\n",
       "<tr>\n",
       "  <th>year2000</th>               <td>    0.5887</td> <td>    0.174</td> <td>    3.386</td> <td> 0.001</td> <td>    0.248</td> <td>    0.930</td>\n",
       "</tr>\n",
       "<tr>\n",
       "  <th>year2001</th>               <td>    0.0710</td> <td>    0.165</td> <td>    0.430</td> <td> 0.667</td> <td>   -0.253</td> <td>    0.395</td>\n",
       "</tr>\n",
       "<tr>\n",
       "  <th>year2002</th>               <td>    0.3106</td> <td>    0.150</td> <td>    2.068</td> <td> 0.039</td> <td>    0.016</td> <td>    0.605</td>\n",
       "</tr>\n",
       "<tr>\n",
       "  <th>year2003</th>               <td>    0.2908</td> <td>    0.152</td> <td>    1.917</td> <td> 0.055</td> <td>   -0.007</td> <td>    0.588</td>\n",
       "</tr>\n",
       "<tr>\n",
       "  <th>year2004</th>               <td>    0.3179</td> <td>    0.144</td> <td>    2.213</td> <td> 0.027</td> <td>    0.036</td> <td>    0.600</td>\n",
       "</tr>\n",
       "<tr>\n",
       "  <th>year2005</th>               <td>    0.9144</td> <td>    0.137</td> <td>    6.660</td> <td> 0.000</td> <td>    0.645</td> <td>    1.184</td>\n",
       "</tr>\n",
       "<tr>\n",
       "  <th>year2006</th>               <td>    0.7611</td> <td>    0.124</td> <td>    6.127</td> <td> 0.000</td> <td>    0.518</td> <td>    1.005</td>\n",
       "</tr>\n",
       "<tr>\n",
       "  <th>year2007</th>               <td>    0.8835</td> <td>    0.118</td> <td>    7.489</td> <td> 0.000</td> <td>    0.652</td> <td>    1.115</td>\n",
       "</tr>\n",
       "<tr>\n",
       "  <th>year2008</th>               <td>    0.7802</td> <td>    0.110</td> <td>    7.093</td> <td> 0.000</td> <td>    0.565</td> <td>    0.996</td>\n",
       "</tr>\n",
       "<tr>\n",
       "  <th>year2009</th>               <td>    0.4965</td> <td>    0.105</td> <td>    4.751</td> <td> 0.000</td> <td>    0.292</td> <td>    0.701</td>\n",
       "</tr>\n",
       "<tr>\n",
       "  <th>year2010</th>               <td>    0.5255</td> <td>    0.103</td> <td>    5.093</td> <td> 0.000</td> <td>    0.323</td> <td>    0.728</td>\n",
       "</tr>\n",
       "<tr>\n",
       "  <th>year2011</th>               <td>    0.5614</td> <td>    0.102</td> <td>    5.521</td> <td> 0.000</td> <td>    0.362</td> <td>    0.761</td>\n",
       "</tr>\n",
       "<tr>\n",
       "  <th>year2012</th>               <td>    0.6878</td> <td>    0.102</td> <td>    6.747</td> <td> 0.000</td> <td>    0.488</td> <td>    0.888</td>\n",
       "</tr>\n",
       "<tr>\n",
       "  <th>year2013</th>               <td>    0.8902</td> <td>    0.104</td> <td>    8.568</td> <td> 0.000</td> <td>    0.687</td> <td>    1.094</td>\n",
       "</tr>\n",
       "<tr>\n",
       "  <th>year2014</th>               <td>    1.0386</td> <td>    0.103</td> <td>   10.080</td> <td> 0.000</td> <td>    0.837</td> <td>    1.241</td>\n",
       "</tr>\n",
       "<tr>\n",
       "  <th>year2015</th>               <td>    1.0080</td> <td>    0.102</td> <td>    9.842</td> <td> 0.000</td> <td>    0.807</td> <td>    1.209</td>\n",
       "</tr>\n",
       "<tr>\n",
       "  <th>year2016</th>               <td>    0.9196</td> <td>    0.102</td> <td>    9.012</td> <td> 0.000</td> <td>    0.720</td> <td>    1.120</td>\n",
       "</tr>\n",
       "<tr>\n",
       "  <th>year2017</th>               <td>    0.7077</td> <td>    0.137</td> <td>    5.152</td> <td> 0.000</td> <td>    0.438</td> <td>    0.977</td>\n",
       "</tr>\n",
       "</table>\n",
       "<table class=\"simpletable\">\n",
       "<tr>\n",
       "  <th>Omnibus:</th>       <td>623.299</td> <th>  Durbin-Watson:     </th> <td>   1.631</td>\n",
       "</tr>\n",
       "<tr>\n",
       "  <th>Prob(Omnibus):</th> <td> 0.000</td>  <th>  Jarque-Bera (JB):  </th> <td>2654.069</td>\n",
       "</tr>\n",
       "<tr>\n",
       "  <th>Skew:</th>          <td> 0.356</td>  <th>  Prob(JB):          </th> <td>    0.00</td>\n",
       "</tr>\n",
       "<tr>\n",
       "  <th>Kurtosis:</th>      <td> 5.944</td>  <th>  Cond. No.          </th> <td>1.03e+16</td>\n",
       "</tr>\n",
       "</table><br/><br/>Warnings:<br/>[1] Standard Errors assume that the covariance matrix of the errors is correctly specified.<br/>[2] The smallest eigenvalue is 2.73e-22. This might indicate that there are<br/>strong multicollinearity problems or that the design matrix is singular."
      ],
      "text/plain": [
       "<class 'statsmodels.iolib.summary.Summary'>\n",
       "\"\"\"\n",
       "                             OLS Regression Results                            \n",
       "===============================================================================\n",
       "Dep. Variable:     TotalIntangiblesPPA   R-squared:                       0.228\n",
       "Model:                             OLS   Adj. R-squared:                  0.223\n",
       "Method:                  Least Squares   F-statistic:                     45.30\n",
       "Date:                 Tue, 16 Jun 2020   Prob (F-statistic):               0.00\n",
       "Time:                         15:23:16   Log-Likelihood:                -13411.\n",
       "No. Observations:                 6943   AIC:                         2.691e+04\n",
       "Df Residuals:                     6897   BIC:                         2.723e+04\n",
       "Df Model:                           45                                         \n",
       "Covariance Type:             nonrobust                                         \n",
       "==========================================================================================\n",
       "                             coef    std err          t      P>|t|      [0.025      0.975]\n",
       "------------------------------------------------------------------------------------------\n",
       "const                     11.5470      1.145     10.084      0.000       9.302      13.792\n",
       "TargetAge                  0.0183      0.002      8.629      0.000       0.014       0.022\n",
       "TargetAge2              -4.99e-05   1.46e-05     -3.413      0.001   -7.86e-05   -2.12e-05\n",
       "nacis_code_cat[11, 21)    -0.4594      1.285     -0.357      0.721      -2.979       2.060\n",
       "nacis_code_cat[21, 22)     3.1797      1.294      2.458      0.014       0.644       5.716\n",
       "nacis_code_cat[22, 23)    -0.5650      1.349     -0.419      0.675      -3.209       2.079\n",
       "nacis_code_cat[23, 24)    -0.1541      1.194     -0.129      0.897      -2.494       2.186\n",
       "nacis_code_cat[24, 31) -6.894e-15   1.01e-14     -0.686      0.493   -2.66e-14    1.28e-14\n",
       "nacis_code_cat[31, 35)     0.2924      1.192      0.245      0.806      -2.044       2.629\n",
       "nacis_code_cat[35, 42) -1.458e-14    3.9e-14     -0.373      0.709   -9.11e-14    6.19e-14\n",
       "nacis_code_cat[42, 44)    -1.7597      1.286     -1.369      0.171      -4.280       0.761\n",
       "nacis_code_cat[44, 46)    -1.0531      1.191     -0.884      0.377      -3.388       1.281\n",
       "nacis_code_cat[46, 48) -1.401e-14   1.87e-14     -0.751      0.453   -5.06e-14    2.26e-14\n",
       "nacis_code_cat[48, 50)    -0.6359      1.194     -0.533      0.594      -2.977       1.705\n",
       "nacis_code_cat[50, 51)  4.997e-15   7.13e-15      0.701      0.484   -8.98e-15     1.9e-14\n",
       "nacis_code_cat[51, 52)     1.9595      1.198      1.636      0.102      -0.388       4.307\n",
       "nacis_code_cat[52, 53)     0.4310      1.199      0.360      0.719      -1.919       2.781\n",
       "nacis_code_cat[53, 54)    -0.5248      1.196     -0.439      0.661      -2.870       1.820\n",
       "nacis_code_cat[54, 55)     0.3950      1.193      0.331      0.741      -1.944       2.734\n",
       "nacis_code_cat[55, 56)     5.4398      1.407      3.866      0.000       2.681       8.198\n",
       "nacis_code_cat[56, 61)    -0.8055      1.192     -0.676      0.499      -3.141       1.530\n",
       "nacis_code_cat[61, 62)    -1.0929      1.205     -0.907      0.364      -3.455       1.269\n",
       "nacis_code_cat[62, 71)    -0.5618      1.194     -0.471      0.638      -2.902       1.778\n",
       "nacis_code_cat[71, 72)    -1.2780      1.201     -1.064      0.287      -3.632       1.076\n",
       "nacis_code_cat[72, 81)    -1.5446      1.191     -1.297      0.195      -3.879       0.790\n",
       "nacis_code_cat[81, 83)    -1.6104      1.191     -1.352      0.176      -3.946       0.725\n",
       "nacis_code_cat[83, 92)  3.713e-15   1.25e-14      0.298      0.766   -2.07e-14    2.82e-14\n",
       "year1990               -1.387e-14   2.27e-14     -0.612      0.540   -5.83e-14    3.05e-14\n",
       "year1991               -9.191e-15   8.71e-15     -1.055      0.291   -2.63e-14    7.88e-15\n",
       "year1992               -1.186e-14   8.03e-15     -1.477      0.140   -2.76e-14    3.88e-15\n",
       "year1993                  -1.1647      1.142     -1.020      0.308      -3.403       1.074\n",
       "year1994                   0.0515      0.662      0.078      0.938      -1.247       1.350\n",
       "year1995                  -0.1088      0.454     -0.239      0.811      -1.000       0.782\n",
       "year1996                   0.1736      0.332      0.523      0.601      -0.477       0.824\n",
       "year1997                   0.1796      0.264      0.681      0.496      -0.338       0.697\n",
       "year1998                   0.3877      0.184      2.103      0.035       0.026       0.749\n",
       "year1999                   0.2742      0.171      1.599      0.110      -0.062       0.610\n",
       "year2000                   0.5887      0.174      3.386      0.001       0.248       0.930\n",
       "year2001                   0.0710      0.165      0.430      0.667      -0.253       0.395\n",
       "year2002                   0.3106      0.150      2.068      0.039       0.016       0.605\n",
       "year2003                   0.2908      0.152      1.917      0.055      -0.007       0.588\n",
       "year2004                   0.3179      0.144      2.213      0.027       0.036       0.600\n",
       "year2005                   0.9144      0.137      6.660      0.000       0.645       1.184\n",
       "year2006                   0.7611      0.124      6.127      0.000       0.518       1.005\n",
       "year2007                   0.8835      0.118      7.489      0.000       0.652       1.115\n",
       "year2008                   0.7802      0.110      7.093      0.000       0.565       0.996\n",
       "year2009                   0.4965      0.105      4.751      0.000       0.292       0.701\n",
       "year2010                   0.5255      0.103      5.093      0.000       0.323       0.728\n",
       "year2011                   0.5614      0.102      5.521      0.000       0.362       0.761\n",
       "year2012                   0.6878      0.102      6.747      0.000       0.488       0.888\n",
       "year2013                   0.8902      0.104      8.568      0.000       0.687       1.094\n",
       "year2014                   1.0386      0.103     10.080      0.000       0.837       1.241\n",
       "year2015                   1.0080      0.102      9.842      0.000       0.807       1.209\n",
       "year2016                   0.9196      0.102      9.012      0.000       0.720       1.120\n",
       "year2017                   0.7077      0.137      5.152      0.000       0.438       0.977\n",
       "==============================================================================\n",
       "Omnibus:                      623.299   Durbin-Watson:                   1.631\n",
       "Prob(Omnibus):                  0.000   Jarque-Bera (JB):             2654.069\n",
       "Skew:                           0.356   Prob(JB):                         0.00\n",
       "Kurtosis:                       5.944   Cond. No.                     1.03e+16\n",
       "==============================================================================\n",
       "\n",
       "Warnings:\n",
       "[1] Standard Errors assume that the covariance matrix of the errors is correctly specified.\n",
       "[2] The smallest eigenvalue is 2.73e-22. This might indicate that there are\n",
       "strong multicollinearity problems or that the design matrix is singular.\n",
       "\"\"\""
      ]
     },
     "execution_count": 23,
     "metadata": {},
     "output_type": "execute_result"
    }
   ],
   "source": [
    "prattsdata=pd.read_csv('prattsdatabase.csv',encoding='latin-1')    \n",
    "prattsdata['TargetAge2']=prattsdata['TargetAge']**2\n",
    "\n",
    "prattsdata['TargetStructureAlt']=prattsdata['TargetStructure'].values\n",
    "sel=prattsdata['TargetStructure'].isin(['Partnership', 'Limited Partnership', 'LLP'])\n",
    "prattsdata.loc[sel,'TargetStructureAlt']='Partnership'\n",
    "sel=prattsdata['TargetStructure'].isin(['Consolidated', 'UK Corporation', 'PC','Non-Profit','Ltd','Limited Corporation'])\n",
    "prattsdata.loc[sel,'TargetStructureAlt']='Others'\n",
    "sel=prattsdata['TargetStructure'].isin(['C corporation'])\n",
    "prattsdata.loc[sel,'TargetStructureAlt']='C Corporation'\n",
    "\n",
    "naics_labels=['Agriculture, Forestry, Fishing and Hunting',\\\n",
    "        'Mining, Quarrying, and Oil and Gas Extraction',\\\n",
    "        'Utilities',\\\n",
    "        'Construction',\\\n",
    "        'NA1',\\\n",
    "        'Manufacturing',\\\n",
    "        'NA2',\\\n",
    "        'Wholesale Trade',\\\n",
    "        'Retail Trade',\\\n",
    "        'NA3',\\\n",
    "        'Transportation and Warehousing',\\\n",
    "        'NA4',\\\n",
    "        'Information',\\\n",
    "        'Finance and Insurance',\\\n",
    "        'Real Estate and Rental and Leasing',\\\n",
    "        'Professional, Scientific, and Technical Services',\\\n",
    "        'Management of Companies and Enterprises',\\\n",
    "        'Administrative and Support and Waste Management and Remediation Services'\\\n",
    "        'NA5',\\\n",
    "        'Educational Services',\\\n",
    "        'Health Care and Social Assistance',\\\n",
    "        'Arts, Entertainment, and Recreation',\\\n",
    "        'Accommodation and Food Service',\\\n",
    "        'Other Services','Public administration']\n",
    "\n",
    "len(naics_labels)\n",
    "\n",
    "naics_code=[11,21,22,23,24,31,35,42,44,46,48,50,51,52,53,54,55,56,61,62,71,72,81,83,92]\n",
    "n=24\n",
    "\n",
    "\n",
    "#naics_labels=['Ag. Mining and Utilities',\\\n",
    "#        'Consts and Mfg',\\\n",
    "#        'Trade and warehousing',\\\n",
    "#        'Information and FIRE',\\\n",
    "#        'RE',\\\n",
    "#        'Professional services',\\\n",
    "#        'Nonprof services']\n",
    "\n",
    "#naics_code=[11,23,42,51,53,54,57,92]\n",
    "\n",
    "prattsdata['naics_label']=pd.cut(prattsdata['TargetNAICS1']/10**10,naics_code[:n+1],labels=naics_labels[:n],include_lowest=True,right=False)\n",
    "prattsdata['naics_code_cat']=pd.cut(prattsdata['TargetNAICS1']/10**10,naics_code[:n+1],include_lowest=True,right=False)\n",
    "prattsdata['naics_2d']=pd.cut(prattsdata['TargetNAICS1']/10**10,naics_code[:n+1],labels=naics_code[:n],include_lowest=True,right=False)\n",
    "\n",
    "prattsdata['year'] = prattsdata['SaleDate'].str[-4:]\n",
    "prattsdata['year']=prattsdata['year'].astype(int)\n",
    "\n",
    "\n",
    "\n",
    "import statsmodels.api as sm\n",
    "\n",
    "dummies1 = pd.get_dummies(prattsdata['naics_code_cat']).rename(columns=lambda x: 'nacis_code_cat' + str(x))\n",
    "dummies2 = pd.get_dummies(prattsdata['year']).rename(columns=lambda x: 'year' + str(x))\n",
    "X = pd.concat([prattsdata[['TargetAge','TargetAge2']],dummies1,dummies2],axis=1)\n",
    "Y=np.log(prattsdata.TotalIntangiblesPPA)\n",
    "X = sm.add_constant(X)\n",
    "selection=(pd.notnull(prattsdata.TargetAge)) & (prattsdata.TotalIntangiblesPPA>0)& ~(prattsdata.TargetStructureAlt=='C Corporation')& ~(prattsdata.TargetStructureAlt=='LLC')\n",
    "model11 = sm.OLS(Y[selection], X[selection]).fit()\n",
    "model11.summary()"
   ]
  },
  {
   "cell_type": "markdown",
   "metadata": {},
   "source": [
    "## Regression of $\\log V_{\\kappa}$ on $age,age^2$: Model"
   ]
  },
  {
   "cell_type": "code",
   "execution_count": 24,
   "metadata": {},
   "outputs": [
    {
     "data": {
      "text/html": [
       "<table class=\"simpletable\">\n",
       "<caption>OLS Regression Results</caption>\n",
       "<tr>\n",
       "  <th>Dep. Variable:</th>            <td>R</td>        <th>  R-squared:         </th> <td>     nan</td>\n",
       "</tr>\n",
       "<tr>\n",
       "  <th>Model:</th>                   <td>OLS</td>       <th>  Adj. R-squared:    </th> <td>     nan</td>\n",
       "</tr>\n",
       "<tr>\n",
       "  <th>Method:</th>             <td>Least Squares</td>  <th>  F-statistic:       </th> <td>     nan</td>\n",
       "</tr>\n",
       "<tr>\n",
       "  <th>Date:</th>             <td>Tue, 16 Jun 2020</td> <th>  Prob (F-statistic):</th>  <td>   nan</td> \n",
       "</tr>\n",
       "<tr>\n",
       "  <th>Time:</th>                 <td>15:23:16</td>     <th>  Log-Likelihood:    </th> <td>     nan</td>\n",
       "</tr>\n",
       "<tr>\n",
       "  <th>No. Observations:</th>      <td> 37475</td>      <th>  AIC:               </th> <td>     nan</td>\n",
       "</tr>\n",
       "<tr>\n",
       "  <th>Df Residuals:</th>          <td> 37472</td>      <th>  BIC:               </th> <td>     nan</td>\n",
       "</tr>\n",
       "<tr>\n",
       "  <th>Df Model:</th>              <td>     2</td>      <th>                     </th>     <td> </td>   \n",
       "</tr>\n",
       "<tr>\n",
       "  <th>Covariance Type:</th>      <td>nonrobust</td>    <th>                     </th>     <td> </td>   \n",
       "</tr>\n",
       "</table>\n",
       "<table class=\"simpletable\">\n",
       "<tr>\n",
       "      <td></td>         <th>coef</th>     <th>std err</th>      <th>t</th>      <th>P>|t|</th>  <th>[0.025</th>    <th>0.975]</th>  \n",
       "</tr>\n",
       "<tr>\n",
       "  <th>const</th>     <td>       nan</td> <td>      nan</td> <td>      nan</td> <td>   nan</td> <td>      nan</td> <td>      nan</td>\n",
       "</tr>\n",
       "<tr>\n",
       "  <th>sind_age</th>  <td>       nan</td> <td>      nan</td> <td>      nan</td> <td>   nan</td> <td>      nan</td> <td>      nan</td>\n",
       "</tr>\n",
       "<tr>\n",
       "  <th>sind_age2</th> <td>      -inf</td> <td>      nan</td> <td>      nan</td> <td>   nan</td> <td>      nan</td> <td>      nan</td>\n",
       "</tr>\n",
       "</table>\n",
       "<table class=\"simpletable\">\n",
       "<tr>\n",
       "  <th>Omnibus:</th>       <td>   nan</td> <th>  Durbin-Watson:     </th> <td>     nan</td>\n",
       "</tr>\n",
       "<tr>\n",
       "  <th>Prob(Omnibus):</th> <td>   nan</td> <th>  Jarque-Bera (JB):  </th> <td>     nan</td>\n",
       "</tr>\n",
       "<tr>\n",
       "  <th>Skew:</th>          <td>   nan</td> <th>  Prob(JB):          </th> <td>     nan</td>\n",
       "</tr>\n",
       "<tr>\n",
       "  <th>Kurtosis:</th>      <td>   nan</td> <th>  Cond. No.          </th> <td>2.07e+03</td>\n",
       "</tr>\n",
       "</table><br/><br/>Warnings:<br/>[1] Standard Errors assume that the covariance matrix of the errors is correctly specified.<br/>[2] The condition number is large, 2.07e+03. This might indicate that there are<br/>strong multicollinearity or other numerical problems."
      ],
      "text/plain": [
       "<class 'statsmodels.iolib.summary.Summary'>\n",
       "\"\"\"\n",
       "                            OLS Regression Results                            \n",
       "==============================================================================\n",
       "Dep. Variable:                      R   R-squared:                         nan\n",
       "Model:                            OLS   Adj. R-squared:                    nan\n",
       "Method:                 Least Squares   F-statistic:                       nan\n",
       "Date:                Tue, 16 Jun 2020   Prob (F-statistic):                nan\n",
       "Time:                        15:23:16   Log-Likelihood:                    nan\n",
       "No. Observations:               37475   AIC:                               nan\n",
       "Df Residuals:                   37472   BIC:                               nan\n",
       "Df Model:                           2                                         \n",
       "Covariance Type:            nonrobust                                         \n",
       "==============================================================================\n",
       "                 coef    std err          t      P>|t|      [0.025      0.975]\n",
       "------------------------------------------------------------------------------\n",
       "const             nan        nan        nan        nan         nan         nan\n",
       "sind_age          nan        nan        nan        nan         nan         nan\n",
       "sind_age2        -inf        nan        nan        nan         nan         nan\n",
       "==============================================================================\n",
       "Omnibus:                          nan   Durbin-Watson:                     nan\n",
       "Prob(Omnibus):                    nan   Jarque-Bera (JB):                  nan\n",
       "Skew:                             nan   Prob(JB):                          nan\n",
       "Kurtosis:                         nan   Cond. No.                     2.07e+03\n",
       "==============================================================================\n",
       "\n",
       "Warnings:\n",
       "[1] Standard Errors assume that the covariance matrix of the errors is correctly specified.\n",
       "[2] The condition number is large, 2.07e+03. This might indicate that there are\n",
       "strong multicollinearity or other numerical problems.\n",
       "\"\"\""
      ]
     },
     "execution_count": 24,
     "metadata": {},
     "output_type": "execute_result"
    }
   ],
   "source": [
    "sel=(~data['flagC'] )\n",
    "data['sind_age2']=data['sind_age']**2\n",
    "X = data[['sind_age','sind_age2']]\n",
    "Y=np.log(data.R)\n",
    "X = sm.add_constant(X)\n",
    "model11 = sm.OLS(Y[sel], X[sel]).fit()\n",
    "model11.summary()"
   ]
  },
  {
   "cell_type": "markdown",
   "metadata": {},
   "source": [
    "# Business and Labor Income Percentiles"
   ]
  },
  {
   "cell_type": "code",
   "execution_count": 25,
   "metadata": {},
   "outputs": [
    {
     "name": "stdout",
     "output_type": "stream",
     "text": [
      "       lab_inc  bus_inc\n",
      "0.000 0.000    -15.160 \n",
      "0.050 0.000    -1.284  \n",
      "0.100 0.000    -0.006  \n",
      "0.150 0.503    -0.002  \n",
      "0.200 0.876    -0.000  \n",
      "0.250 1.281    -0.000  \n",
      "0.300 1.584    -0.000  \n",
      "0.350 1.755    -0.000  \n",
      "0.400 1.899    0.000   \n",
      "0.450 2.015    0.000   \n",
      "0.500 2.103    0.003   \n",
      "0.550 2.171    0.044   \n",
      "0.600 2.234    0.186   \n",
      "0.650 2.299    0.552   \n",
      "0.700 2.388    1.181   \n",
      "0.750 2.661    2.446   \n",
      "0.800 3.827    2.727   \n",
      "0.850 4.057    2.883   \n",
      "0.900 4.240    3.019   \n",
      "0.950 4.435    3.153   \n",
      "1.000 7.848    22.198  \n"
     ]
    }
   ],
   "source": [
    "quantiles=pd.DataFrame( (data[data.flagC==True].lab_inc.quantile(np.linspace(0,1,21))))\n",
    "quantiles['bus_inc']=data[data.flagC==False].bus_inc.quantile(np.linspace(0,1,21))\n",
    "print(quantiles)"
   ]
  },
  {
   "cell_type": "markdown",
   "metadata": {},
   "source": [
    "# Lorenz curves"
   ]
  },
  {
   "cell_type": "code",
   "execution_count": 26,
   "metadata": {},
   "outputs": [
    {
     "data": {
      "text/html": [
       "<div>\n",
       "<style scoped>\n",
       "    .dataframe tbody tr th:only-of-type {\n",
       "        vertical-align: middle;\n",
       "    }\n",
       "\n",
       "    .dataframe tbody tr th {\n",
       "        vertical-align: top;\n",
       "    }\n",
       "\n",
       "    .dataframe thead th {\n",
       "        text-align: right;\n",
       "    }\n",
       "</style>\n",
       "<table border=\"1\" class=\"dataframe\">\n",
       "  <thead>\n",
       "    <tr style=\"text-align: right;\">\n",
       "      <th></th>\n",
       "      <th>frac_pop</th>\n",
       "      <th>bus_inc</th>\n",
       "      <th>kappa</th>\n",
       "      <th>hkap</th>\n",
       "      <th>hy</th>\n",
       "      <th>ns</th>\n",
       "      <th>ks</th>\n",
       "      <th>R</th>\n",
       "      <th>Vb_sdf</th>\n",
       "      <th>Vb_mf</th>\n",
       "    </tr>\n",
       "  </thead>\n",
       "  <tbody>\n",
       "    <tr>\n",
       "      <th>0</th>\n",
       "      <td>0.000</td>\n",
       "      <td>0.000</td>\n",
       "      <td>0.000</td>\n",
       "      <td>0.000</td>\n",
       "      <td>0.000</td>\n",
       "      <td>0.000</td>\n",
       "      <td>0.000</td>\n",
       "      <td>0.000</td>\n",
       "      <td>0.000</td>\n",
       "      <td>0.000</td>\n",
       "    </tr>\n",
       "    <tr>\n",
       "      <th>1</th>\n",
       "      <td>0.050</td>\n",
       "      <td>-0.092</td>\n",
       "      <td>0.000</td>\n",
       "      <td>0.000</td>\n",
       "      <td>0.000</td>\n",
       "      <td>0.000</td>\n",
       "      <td>0.000</td>\n",
       "      <td>0.000</td>\n",
       "      <td>0.004</td>\n",
       "      <td>0.006</td>\n",
       "    </tr>\n",
       "    <tr>\n",
       "      <th>2</th>\n",
       "      <td>0.100</td>\n",
       "      <td>-0.108</td>\n",
       "      <td>0.000</td>\n",
       "      <td>0.000</td>\n",
       "      <td>0.000</td>\n",
       "      <td>0.000</td>\n",
       "      <td>0.000</td>\n",
       "      <td>0.000</td>\n",
       "      <td>0.015</td>\n",
       "      <td>0.024</td>\n",
       "    </tr>\n",
       "    <tr>\n",
       "      <th>3</th>\n",
       "      <td>0.150</td>\n",
       "      <td>-0.108</td>\n",
       "      <td>0.000</td>\n",
       "      <td>0.000</td>\n",
       "      <td>0.000</td>\n",
       "      <td>0.000</td>\n",
       "      <td>0.000</td>\n",
       "      <td>0.002</td>\n",
       "      <td>0.027</td>\n",
       "      <td>0.047</td>\n",
       "    </tr>\n",
       "    <tr>\n",
       "      <th>4</th>\n",
       "      <td>0.200</td>\n",
       "      <td>-0.108</td>\n",
       "      <td>0.000</td>\n",
       "      <td>0.000</td>\n",
       "      <td>0.000</td>\n",
       "      <td>0.000</td>\n",
       "      <td>0.000</td>\n",
       "      <td>0.003</td>\n",
       "      <td>0.040</td>\n",
       "      <td>0.070</td>\n",
       "    </tr>\n",
       "    <tr>\n",
       "      <th>5</th>\n",
       "      <td>0.250</td>\n",
       "      <td>-0.108</td>\n",
       "      <td>0.000</td>\n",
       "      <td>0.000</td>\n",
       "      <td>0.000</td>\n",
       "      <td>0.000</td>\n",
       "      <td>0.000</td>\n",
       "      <td>0.005</td>\n",
       "      <td>0.055</td>\n",
       "      <td>0.093</td>\n",
       "    </tr>\n",
       "    <tr>\n",
       "      <th>6</th>\n",
       "      <td>0.300</td>\n",
       "      <td>-0.108</td>\n",
       "      <td>0.001</td>\n",
       "      <td>0.000</td>\n",
       "      <td>0.000</td>\n",
       "      <td>0.000</td>\n",
       "      <td>0.000</td>\n",
       "      <td>0.007</td>\n",
       "      <td>0.071</td>\n",
       "      <td>0.117</td>\n",
       "    </tr>\n",
       "    <tr>\n",
       "      <th>7</th>\n",
       "      <td>0.350</td>\n",
       "      <td>-0.108</td>\n",
       "      <td>0.005</td>\n",
       "      <td>0.000</td>\n",
       "      <td>0.000</td>\n",
       "      <td>0.000</td>\n",
       "      <td>0.000</td>\n",
       "      <td>0.010</td>\n",
       "      <td>0.088</td>\n",
       "      <td>0.141</td>\n",
       "    </tr>\n",
       "    <tr>\n",
       "      <th>8</th>\n",
       "      <td>0.400</td>\n",
       "      <td>-0.108</td>\n",
       "      <td>0.020</td>\n",
       "      <td>0.001</td>\n",
       "      <td>0.000</td>\n",
       "      <td>0.000</td>\n",
       "      <td>0.000</td>\n",
       "      <td>0.012</td>\n",
       "      <td>0.106</td>\n",
       "      <td>0.166</td>\n",
       "    </tr>\n",
       "    <tr>\n",
       "      <th>9</th>\n",
       "      <td>0.450</td>\n",
       "      <td>-0.108</td>\n",
       "      <td>0.051</td>\n",
       "      <td>0.002</td>\n",
       "      <td>0.000</td>\n",
       "      <td>0.000</td>\n",
       "      <td>0.000</td>\n",
       "      <td>0.015</td>\n",
       "      <td>0.126</td>\n",
       "      <td>0.192</td>\n",
       "    </tr>\n",
       "    <tr>\n",
       "      <th>10</th>\n",
       "      <td>0.500</td>\n",
       "      <td>-0.108</td>\n",
       "      <td>0.091</td>\n",
       "      <td>0.003</td>\n",
       "      <td>0.000</td>\n",
       "      <td>0.000</td>\n",
       "      <td>0.000</td>\n",
       "      <td>0.018</td>\n",
       "      <td>0.148</td>\n",
       "      <td>0.218</td>\n",
       "    </tr>\n",
       "    <tr>\n",
       "      <th>11</th>\n",
       "      <td>0.550</td>\n",
       "      <td>-0.107</td>\n",
       "      <td>0.137</td>\n",
       "      <td>0.005</td>\n",
       "      <td>0.004</td>\n",
       "      <td>0.001</td>\n",
       "      <td>0.001</td>\n",
       "      <td>0.024</td>\n",
       "      <td>0.172</td>\n",
       "      <td>0.247</td>\n",
       "    </tr>\n",
       "    <tr>\n",
       "      <th>12</th>\n",
       "      <td>0.600</td>\n",
       "      <td>-0.102</td>\n",
       "      <td>0.188</td>\n",
       "      <td>0.007</td>\n",
       "      <td>0.016</td>\n",
       "      <td>0.003</td>\n",
       "      <td>0.005</td>\n",
       "      <td>0.035</td>\n",
       "      <td>0.201</td>\n",
       "      <td>0.280</td>\n",
       "    </tr>\n",
       "    <tr>\n",
       "      <th>13</th>\n",
       "      <td>0.650</td>\n",
       "      <td>-0.080</td>\n",
       "      <td>0.243</td>\n",
       "      <td>0.011</td>\n",
       "      <td>0.056</td>\n",
       "      <td>0.013</td>\n",
       "      <td>0.020</td>\n",
       "      <td>0.050</td>\n",
       "      <td>0.235</td>\n",
       "      <td>0.315</td>\n",
       "    </tr>\n",
       "    <tr>\n",
       "      <th>14</th>\n",
       "      <td>0.700</td>\n",
       "      <td>-0.044</td>\n",
       "      <td>0.300</td>\n",
       "      <td>0.025</td>\n",
       "      <td>0.117</td>\n",
       "      <td>0.028</td>\n",
       "      <td>0.043</td>\n",
       "      <td>0.079</td>\n",
       "      <td>0.273</td>\n",
       "      <td>0.354</td>\n",
       "    </tr>\n",
       "    <tr>\n",
       "      <th>15</th>\n",
       "      <td>0.750</td>\n",
       "      <td>0.058</td>\n",
       "      <td>0.360</td>\n",
       "      <td>0.053</td>\n",
       "      <td>0.231</td>\n",
       "      <td>0.095</td>\n",
       "      <td>0.125</td>\n",
       "      <td>0.128</td>\n",
       "      <td>0.328</td>\n",
       "      <td>0.404</td>\n",
       "    </tr>\n",
       "    <tr>\n",
       "      <th>16</th>\n",
       "      <td>0.800</td>\n",
       "      <td>0.190</td>\n",
       "      <td>0.421</td>\n",
       "      <td>0.086</td>\n",
       "      <td>0.368</td>\n",
       "      <td>0.176</td>\n",
       "      <td>0.223</td>\n",
       "      <td>0.197</td>\n",
       "      <td>0.390</td>\n",
       "      <td>0.458</td>\n",
       "    </tr>\n",
       "    <tr>\n",
       "      <th>17</th>\n",
       "      <td>0.850</td>\n",
       "      <td>0.332</td>\n",
       "      <td>0.484</td>\n",
       "      <td>0.126</td>\n",
       "      <td>0.514</td>\n",
       "      <td>0.261</td>\n",
       "      <td>0.326</td>\n",
       "      <td>0.274</td>\n",
       "      <td>0.455</td>\n",
       "      <td>0.514</td>\n",
       "    </tr>\n",
       "    <tr>\n",
       "      <th>18</th>\n",
       "      <td>0.900</td>\n",
       "      <td>0.483</td>\n",
       "      <td>0.547</td>\n",
       "      <td>0.196</td>\n",
       "      <td>0.668</td>\n",
       "      <td>0.350</td>\n",
       "      <td>0.434</td>\n",
       "      <td>0.355</td>\n",
       "      <td>0.520</td>\n",
       "      <td>0.571</td>\n",
       "    </tr>\n",
       "    <tr>\n",
       "      <th>19</th>\n",
       "      <td>0.950</td>\n",
       "      <td>0.638</td>\n",
       "      <td>0.614</td>\n",
       "      <td>0.463</td>\n",
       "      <td>0.829</td>\n",
       "      <td>0.442</td>\n",
       "      <td>0.546</td>\n",
       "      <td>0.445</td>\n",
       "      <td>0.587</td>\n",
       "      <td>0.629</td>\n",
       "    </tr>\n",
       "    <tr>\n",
       "      <th>20</th>\n",
       "      <td>1.000</td>\n",
       "      <td>0.999</td>\n",
       "      <td>1.000</td>\n",
       "      <td>0.999</td>\n",
       "      <td>1.000</td>\n",
       "      <td>0.999</td>\n",
       "      <td>0.999</td>\n",
       "      <td>0.999</td>\n",
       "      <td>0.999</td>\n",
       "      <td>0.999</td>\n",
       "    </tr>\n",
       "  </tbody>\n",
       "</table>\n",
       "</div>"
      ],
      "text/plain": [
       "    frac_pop  bus_inc  kappa  hkap    hy    ns    ks     R  Vb_sdf  Vb_mf\n",
       "0  0.000     0.000    0.000  0.000 0.000 0.000 0.000 0.000 0.000   0.000 \n",
       "1  0.050     -0.092   0.000  0.000 0.000 0.000 0.000 0.000 0.004   0.006 \n",
       "2  0.100     -0.108   0.000  0.000 0.000 0.000 0.000 0.000 0.015   0.024 \n",
       "3  0.150     -0.108   0.000  0.000 0.000 0.000 0.000 0.002 0.027   0.047 \n",
       "4  0.200     -0.108   0.000  0.000 0.000 0.000 0.000 0.003 0.040   0.070 \n",
       "5  0.250     -0.108   0.000  0.000 0.000 0.000 0.000 0.005 0.055   0.093 \n",
       "6  0.300     -0.108   0.001  0.000 0.000 0.000 0.000 0.007 0.071   0.117 \n",
       "7  0.350     -0.108   0.005  0.000 0.000 0.000 0.000 0.010 0.088   0.141 \n",
       "8  0.400     -0.108   0.020  0.001 0.000 0.000 0.000 0.012 0.106   0.166 \n",
       "9  0.450     -0.108   0.051  0.002 0.000 0.000 0.000 0.015 0.126   0.192 \n",
       "10 0.500     -0.108   0.091  0.003 0.000 0.000 0.000 0.018 0.148   0.218 \n",
       "11 0.550     -0.107   0.137  0.005 0.004 0.001 0.001 0.024 0.172   0.247 \n",
       "12 0.600     -0.102   0.188  0.007 0.016 0.003 0.005 0.035 0.201   0.280 \n",
       "13 0.650     -0.080   0.243  0.011 0.056 0.013 0.020 0.050 0.235   0.315 \n",
       "14 0.700     -0.044   0.300  0.025 0.117 0.028 0.043 0.079 0.273   0.354 \n",
       "15 0.750     0.058    0.360  0.053 0.231 0.095 0.125 0.128 0.328   0.404 \n",
       "16 0.800     0.190    0.421  0.086 0.368 0.176 0.223 0.197 0.390   0.458 \n",
       "17 0.850     0.332    0.484  0.126 0.514 0.261 0.326 0.274 0.455   0.514 \n",
       "18 0.900     0.483    0.547  0.196 0.668 0.350 0.434 0.355 0.520   0.571 \n",
       "19 0.950     0.638    0.614  0.463 0.829 0.442 0.546 0.445 0.587   0.629 \n",
       "20 1.000     0.999    1.000  0.999 1.000 0.999 0.999 0.999 0.999   0.999 "
      ]
     },
     "execution_count": 26,
     "metadata": {},
     "output_type": "execute_result"
    }
   ],
   "source": [
    "sel=(~data['flagC'] )\n",
    "LzData=pd.DataFrame()\n",
    "LzData['frac_pop']=np.linspace(0,1,21)\n",
    "LzData['bus_inc']=Lorenz(data[sel]['bus_inc'],LzData.frac_pop)\n",
    "LzData['kappa']=Lorenz(data[sel]['kappa'],LzData.frac_pop)\n",
    "LzData['hkap']=Lorenz(data[sel]['hkap'],LzData.frac_pop)\n",
    "LzData['hy']=Lorenz(data[sel]['hy'],LzData.frac_pop)\n",
    "\n",
    "LzData['ns']=Lorenz(data[sel]['ns'],LzData.frac_pop)\n",
    "LzData['ks']=Lorenz(data[sel]['ks'],LzData.frac_pop)\n",
    "LzData['R']=Lorenz(data[sel]['R'],LzData.frac_pop)\n",
    "LzData['Vb_sdf']=Lorenz(data[sel]['val_sdf'],LzData.frac_pop)\n",
    "LzData['Vb_mf']=Lorenz(data[sel]['val_mf'],LzData.frac_pop)\n",
    "\n",
    "LzData"
   ]
  },
  {
   "cell_type": "markdown",
   "metadata": {},
   "source": [
    "# Cross Sectional Moments: All Businesses"
   ]
  },
  {
   "cell_type": "code",
   "execution_count": 27,
   "metadata": {},
   "outputs": [
    {
     "name": "stdout",
     "output_type": "stream",
     "text": [
      "      gross_returns: sdf  gross_returns: mf  intan. intensity  div yield: sdf  \\\n",
      "mean 1.132               1.106              0.531             0.026             \n",
      "std  1.222               0.961              0.416             0.128             \n",
      "gini 0.148               0.107              0.416             2.213             \n",
      "p10  0.882               0.973              0.106             -0.004            \n",
      "p25  1.001               1.016              0.119             -0.000            \n",
      "p50  1.022               1.024              0.321             0.000             \n",
      "p75  1.178               1.141              1.000             0.115             \n",
      "p95  1.750               1.510              1.000             0.172             \n",
      "p99  2.633               1.910              1.000             0.190             \n",
      "\n",
      "      div yield: mf  market value: R  valuation: sdf  valuation: mf  kappa  \\\n",
      "mean 0.023          2.193            4.653           6.836          0.587    \n",
      "std  0.086          7.377            11.614          15.239         1.214    \n",
      "gini 1.714          0.792            0.577           0.476          0.612    \n",
      "p10  -0.002         0.040            1.065           3.070          0.000    \n",
      "p25  -0.000         0.092            1.450           3.212          0.002    \n",
      "p50  0.000          0.208            2.112           3.742          0.511    \n",
      "p75  0.087          2.746            5.614           7.252          0.707    \n",
      "p95  0.133          3.873            6.319           8.011          0.843    \n",
      "p99  0.148          51.384           84.643          110.173        8.251    \n",
      "\n",
      "      bus inc  fin wealth:a  wealth:vb_sdf+a  wealth:vb_mf+a  markups  \\\n",
      "mean 0.985    31.129        35.782           37.965          10.343     \n",
      "std  2.280    73.253        76.499           77.148          79.283     \n",
      "gini 0.929    0.769         0.715            0.681           nan        \n",
      "p10  -0.006   0.850         2.704            4.887           -99.952    \n",
      "p25  -0.000   3.506         6.027            7.864           -90.822    \n",
      "p50  0.003    7.822         11.619           13.325          58.445     \n",
      "p75  2.446    14.557        19.122           20.718          71.609     \n",
      "p95  3.153    216.935       230.044          235.088         100.959    \n",
      "p99  12.161   381.556       399.166          400.832         111.263    \n",
      "\n",
      "      log_meas_tfp  log_z    hy  hkap  total owner hrs: hy+hkap  \n",
      "mean 0.975         0.356  0.102 0.023 0.125                      \n",
      "std  0.160         0.597  0.135 0.061 0.147                      \n",
      "gini 0.091         0.886  0.671 0.858 0.620                      \n",
      "p10  0.831         -0.840 0.000 0.000 0.000                      \n",
      "p25  0.851         0.000  0.000 0.000 0.000                      \n",
      "p50  1.024         0.420  0.002 0.001 0.019                      \n",
      "p75  1.104         0.840  0.268 0.014 0.290                      \n",
      "p95  1.190         0.840  0.333 0.216 0.355                      \n",
      "p99  1.229         1.063  0.357 0.259 0.417                      \n"
     ]
    }
   ],
   "source": [
    "sel=(~data['flagC'] )\n",
    "\n",
    "val,cols=stats.describe(data[sel].ret_sdf,data[sel]['wgt'])\n",
    "moments_only_business=pd.DataFrame(val.T,columns=['gross_returns: sdf'])\n",
    "moments_only_business.index=cols\n",
    "\n",
    "\n",
    "\n",
    "val,cols=stats.describe(data[sel].ret_sdf,data[sel]['wgt'])\n",
    "moments_only_business['gross_returns: sdf']=val\n",
    "\n",
    "\n",
    "val,cols=stats.describe(data[sel].ret_mf,data[sel]['wgt'])\n",
    "moments_only_business['gross_returns: mf']=val\n",
    "\n",
    "sel2=sel&(data['ns']>0)\n",
    "val,cols=stats.describe(data[sel2].intan_int,data[sel2]['wgt'])\n",
    "moments_only_business['intan. intensity']=val\n",
    "\n",
    "\n",
    "val,cols=stats.describe(data[sel].div_yld_sdf,data[sel]['wgt'])\n",
    "moments_only_business['div yield: sdf']=val\n",
    "\n",
    "\n",
    "val,cols=stats.describe(data[sel].div_yld_mf,data[sel]['wgt'])\n",
    "moments_only_business['div yield: mf']=val\n",
    "\n",
    "\n",
    "val,cols=stats.describe(data[sel2].R,data[sel2]['wgt'])\n",
    "moments_only_business['market value: R']=val\n",
    "\n",
    "\n",
    "val,cols=stats.describe(data[sel].val_sdf,data[sel]['wgt'])\n",
    "moments_only_business['valuation: sdf']=val\n",
    "\n",
    "val,cols=stats.describe(data[sel].val_mf,data[sel]['wgt'])\n",
    "moments_only_business['valuation: mf']=val\n",
    "\n",
    "\n",
    "val,cols=stats.describe(data[sel].kappa,data[sel]['wgt'])\n",
    "moments_only_business['kappa']=val\n",
    "\n",
    "\n",
    "val,cols=stats.describe(data[sel].bus_inc,data[sel]['wgt'])\n",
    "moments_only_business['bus inc']=val\n",
    "\n",
    "\n",
    "\n",
    "val,cols=stats.describe(data[sel].a,data[sel]['wgt'])\n",
    "moments_only_business['fin wealth:a']=val\n",
    "\n",
    "\n",
    "val,cols=stats.describe(data[sel].wealth_sdf,data[sel]['wgt'])\n",
    "moments_only_business['wealth:vb_sdf+a']=val\n",
    "\n",
    "val,cols=stats.describe(data[sel].wealth_mf,data[sel]['wgt'])\n",
    "moments_only_business['wealth:vb_mf+a']=val\n",
    "\n",
    "\n",
    "\n",
    "val,cols=stats.describe(data[sel].measured_markups,data[sel]['wgt'])\n",
    "moments_only_business['markups']=val\n",
    "\n",
    "\n",
    "sel_temp=(~data['flagC'] )  & (~pd.isna(data['ztilde_meas']))\n",
    "val,cols=stats.describe(data[sel_temp].ztilde_meas,data[sel_temp]['wgt'])\n",
    "moments_only_business['log_meas_tfp']=val\n",
    "\n",
    "val,cols=stats.describe(data[sel].ztilde,data[sel]['wgt'])\n",
    "moments_only_business['log_z']=val\n",
    "\n",
    "val,cols=stats.describe(data[sel].hy,data[sel]['wgt'])\n",
    "moments_only_business['hy']=val\n",
    "\n",
    "\n",
    "val,cols=stats.describe(data[sel].hkap,data[sel]['wgt'])\n",
    "moments_only_business['hkap']=val\n",
    "\n",
    "\n",
    "val,cols=stats.describe(data[sel].hy,data[sel]['wgt'])\n",
    "moments_only_business['hy']=val\n",
    "\n",
    "\n",
    "val,cols=stats.describe(data[sel].n_e,data[sel]['wgt'])\n",
    "moments_only_business['total owner hrs: hy+hkap']=val\n",
    "\n",
    "\n",
    "\n",
    "print (moments_only_business)\n",
    "moments_only_business.to_excel('moments_all_businesses.xls')\n"
   ]
  },
  {
   "cell_type": "markdown",
   "metadata": {},
   "source": [
    "## Decomposition by  Sweat Capital: All Businesses"
   ]
  },
  {
   "cell_type": "code",
   "execution_count": 28,
   "metadata": {},
   "outputs": [
    {
     "name": "stdout",
     "output_type": "stream",
     "text": [
      "           kappa  intan_int  ret_sdf  div_yld_sdf  measured_markups  val_sdf  \\\n",
      "bin_kappa                                                                      \n",
      "0         0.000  0.998      0.998    0.000        -31.595           1.273      \n",
      "1         0.060  0.839      1.002    -0.003       -30.469           1.415      \n",
      "2         0.493  0.443      1.078    0.007        31.282            2.702      \n",
      "3         0.684  0.216      1.139    0.088        58.915            4.733      \n",
      "4         1.701  0.287      1.442    0.035        22.722            13.140     \n",
      "\n",
      "               a  wealth_sdf  s_age  sind_age  ind_age  ztilde_meas  ztilde  \\\n",
      "bin_kappa                                                                     \n",
      "0         52.389 53.663      23.321 11.824    55.841   1.041        -0.020    \n",
      "1         38.722 40.136      15.879 11.909    57.757   1.053        0.028     \n",
      "2         16.681 19.382      11.079 9.876     54.191   1.025        0.337     \n",
      "3         10.444 15.177      7.006  6.327     49.948   0.922        0.633     \n",
      "4         37.409 50.549      11.804 8.276     44.437   0.825        0.802     \n",
      "\n",
      "           bus_inc    hy  hkap   n_e     ks  \n",
      "bin_kappa                                    \n",
      "0         0.000    0.000 0.000 0.000 0.000   \n",
      "1         0.012    0.004 0.003 0.006 0.186   \n",
      "2         0.466    0.075 0.019 0.094 4.828   \n",
      "3         1.787    0.212 0.020 0.231 16.627  \n",
      "4         2.659    0.220 0.075 0.296 39.769  \n"
     ]
    }
   ],
   "source": [
    "sel=(~data['flagC'] )\n",
    "\n",
    "var_bin = 'kappa'\n",
    "num_bins=5\n",
    "varlist=['kappa','intan_int','ret_sdf','div_yld_sdf','measured_markups','val_sdf','a','wealth_sdf','s_age','sind_age','ind_age','ztilde_meas','ztilde','bus_inc','hy','hkap','n_e','ks']\n",
    "tmp, bins_original = pd.qcut(data[sel][var_bin], q = num_bins, labels=False, retbins = True)\n",
    "data['bin_' + var_bin] = tmp[:]\n",
    "bins = bins_original.copy()\n",
    "bins[0] = -np.inf\n",
    "bins[-1] = np.inf\n",
    "data['bin_' + var_bin] = pd.cut(data[var_bin], bins, labels = False)     \n",
    "mean_baseline=data[sel].groupby('bin_' + var_bin).mean()[varlist]\n",
    "count_baseline=data[sel].groupby('bin_' + var_bin).count()[varlist]\n",
    "print(mean_baseline)\n"
   ]
  },
  {
   "cell_type": "markdown",
   "metadata": {},
   "source": [
    "## Decomposition by  Financial assets: All Businesses"
   ]
  },
  {
   "cell_type": "code",
   "execution_count": 29,
   "metadata": {},
   "outputs": [
    {
     "name": "stdout",
     "output_type": "stream",
     "text": [
      "       kappa     R  intan_int  ret_sdf  div_yld_sdf  measured_markups  \\\n",
      "bin_a                                                                   \n",
      "0     0.366  0.938 0.671      1.138    -0.013       -2.791              \n",
      "1     0.441  1.207 0.548      1.157    0.036        12.840              \n",
      "2     0.498  1.429 0.484      1.124    0.037        21.967              \n",
      "3     0.522  1.653 0.453      1.094    0.044        25.041              \n",
      "4     1.110  5.139 0.631      1.146    0.025        -5.491              \n",
      "\n",
      "       val_sdf       a  wealth_sdf  s_age  sind_age  ind_age  ztilde_meas  \\\n",
      "bin_a                                                                       \n",
      "0     2.731    1.029   3.760       7.107  6.631     48.473   1.105          \n",
      "1     3.240    4.316   7.556       6.763  6.207     47.713   1.026          \n",
      "2     3.735    7.891   11.627      7.061  6.449     51.579   0.983          \n",
      "3     4.225    13.030  17.256      8.274  7.680     58.724   0.956          \n",
      "4     9.331    129.378 138.709     39.884 21.245    55.684   0.809          \n",
      "\n",
      "       ztilde  bus_inc    hy  hkap   n_e    ns     ks  \n",
      "bin_a                                                  \n",
      "0     0.299   0.353    0.070 0.035 0.105 0.068 5.758   \n",
      "1     0.327   0.804    0.106 0.024 0.130 0.099 8.760   \n",
      "2     0.405   1.038    0.129 0.023 0.152 0.120 10.710  \n",
      "3     0.436   1.168    0.135 0.019 0.155 0.137 11.909  \n",
      "4     0.312   1.561    0.070 0.015 0.084 0.398 24.275  \n"
     ]
    }
   ],
   "source": [
    "sel=(~data['flagC'] )\n",
    "\n",
    "var_bin = 'a'\n",
    "num_bins=5\n",
    "varlist=['kappa','R','intan_int','ret_sdf','div_yld_sdf','measured_markups','val_sdf','a','wealth_sdf','s_age','sind_age','ind_age','ztilde_meas','ztilde','bus_inc','hy','hkap','n_e','ns','ks']\n",
    "tmp, bins_original = pd.qcut(data[sel][var_bin], q = num_bins, labels=False, retbins = True)\n",
    "data['bin_' + var_bin] = tmp[:]\n",
    "bins = bins_original.copy()\n",
    "bins[0] = -np.inf\n",
    "bins[-1] = np.inf\n",
    "data['bin_' + var_bin] = pd.cut(data[var_bin], bins, labels = False)     \n",
    "mean_baseline=data[sel].groupby('bin_' + var_bin).mean()[varlist]\n",
    "count_baseline=data[sel].groupby('bin_' + var_bin).count()[varlist]\n",
    "print(mean_baseline)\n"
   ]
  },
  {
   "cell_type": "markdown",
   "metadata": {},
   "source": [
    "## Decomposition by z: All Businesses"
   ]
  },
  {
   "cell_type": "code",
   "execution_count": 30,
   "metadata": {},
   "outputs": [
    {
     "name": "stdout",
     "output_type": "stream",
     "text": [
      "       kappa  intan_int  ret_sdf  div_yld_sdf  measured_markups  val_sdf  \\\n",
      "bin_z                                                                      \n",
      "0     0.205  0.997      0.945    -0.001       -96.309           1.514      \n",
      "1     0.149  0.983      0.974    -0.001       -77.392           1.446      \n",
      "2     0.218  0.847      0.948    0.000        -18.606           1.585      \n",
      "3     0.373  0.520      0.955    0.027        54.671            2.191      \n",
      "4     0.600  0.317      1.279    0.042        43.451            4.398      \n",
      "5     6.476  0.209      1.999    0.051        27.014            62.335     \n",
      "\n",
      "            a  wealth_sdf  s_age  sind_age  ind_age  ztilde_meas  ztilde  \\\n",
      "bin_z                                                                      \n",
      "0     38.921  40.435      17.042 11.445    56.212   1.051        -0.840    \n",
      "1     38.016  39.462      17.045 11.098    56.362   1.056        -0.420    \n",
      "2     35.048  36.633      16.361 11.172    55.904   1.060        0.000     \n",
      "3     28.206  30.397      14.727 10.330    53.402   1.043        0.420     \n",
      "4     19.532  23.930      9.771  7.375     49.851   0.907        0.840     \n",
      "5     168.186 230.521     38.666 23.206    44.456   0.606        1.063     \n",
      "\n",
      "       bus_inc    hy  hkap   n_e    ns      ks      R  \n",
      "bin_z                                                  \n",
      "0     -0.002   0.000 0.000 0.000 0.000 0.000   0.145   \n",
      "1     -0.001   0.000 0.000 0.000 0.000 0.003   0.121   \n",
      "2     0.010    0.003 0.000 0.003 0.001 0.083   0.160   \n",
      "3     0.270    0.051 0.000 0.052 0.017 2.023   0.471   \n",
      "4     1.505    0.189 0.045 0.234 0.175 15.831  2.007   \n",
      "5     8.876    0.212 0.096 0.308 2.913 167.917 36.717  \n"
     ]
    }
   ],
   "source": [
    "sel=(~data['flagC'] )  \n",
    "var_bin = 'z'\n",
    "varlist=['kappa','intan_int','ret_sdf','div_yld_sdf','measured_markups','val_sdf','a','wealth_sdf','s_age','sind_age','ind_age','ztilde_meas','ztilde','bus_inc','hy','hkap','n_e','ns','ks','R']\n",
    "bins=data[sel].z\n",
    "bins=np.hstack((-1,sorted(data.z.unique())))\n",
    "data['bin_' + var_bin] = pd.cut(data[var_bin], bins, labels = False)     \n",
    "mean_baseline=data[sel].groupby('bin_' + var_bin).mean()[varlist]\n",
    "count_baseline=data[sel].groupby('bin_' + var_bin).count()[varlist]\n",
    "print(mean_baseline)"
   ]
  },
  {
   "cell_type": "markdown",
   "metadata": {},
   "source": [
    "# Cross Sectional Moments: Young Businesses"
   ]
  },
  {
   "cell_type": "markdown",
   "metadata": {},
   "source": [
    "#### ``young'' defined as owners that have been running the businesse for less than 5 yrs (variable: sind_age)"
   ]
  },
  {
   "cell_type": "code",
   "execution_count": 31,
   "metadata": {},
   "outputs": [
    {
     "name": "stdout",
     "output_type": "stream",
     "text": [
      "      gross_returns: sdf  gross_returns: mf  intan. intensity  \\\n",
      "mean 1.225               1.176              0.517               \n",
      "std  1.783               1.383              0.423               \n",
      "gini 0.203               0.146              0.430               \n",
      "p10  0.846               0.974              0.101               \n",
      "p25  0.990               1.016              0.112               \n",
      "p50  1.055               1.065              0.232               \n",
      "p75  1.251               1.175              1.000               \n",
      "p95  2.023               1.653              1.000               \n",
      "p99  2.934               2.030              1.000               \n",
      "\n",
      "      market value: R  div yield: sdf  div yield: mf  valuation: sdf  \\\n",
      "mean 1.313            0.001           0.009          3.627             \n",
      "std  2.712            0.171           0.113          5.136             \n",
      "gini 0.686            84.404          6.364          0.400             \n",
      "p10  0.008            -0.298          -0.150         1.209             \n",
      "p25  0.068            -0.000          -0.000         1.587             \n",
      "p50  0.173            0.000           0.000          2.471             \n",
      "p75  2.680            0.131           0.102          5.710             \n",
      "p95  3.828            0.174           0.134          6.206             \n",
      "p99  4.599            0.193           0.148          6.789             \n",
      "\n",
      "      valuation: mf    ns     ks  bus inc  fin wealth:a  wealth:vb_sdf+a  \\\n",
      "mean 5.713          0.747 9.312  0.727    13.537        17.165             \n",
      "std  8.591          1.567 15.789 1.633    36.086        36.794             \n",
      "gini 0.314          0.719 0.701  1.176    0.672         0.568              \n",
      "p10  3.123          0.000 0.000  -1.408   0.614         2.762              \n",
      "p25  3.291          0.000 0.000  -0.000   2.776         5.508              \n",
      "p50  4.503          0.001 0.013  0.000    6.218         10.037             \n",
      "p75  7.376          1.865 24.041 2.581    11.110        15.440             \n",
      "p95  7.993          2.172 28.163 3.151    41.376        49.989             \n",
      "p99  8.770          2.410 30.474 3.346    215.548       229.321            \n",
      "\n",
      "      wealth:vb_mf+a  markups  log_meas_tfp  log_z    hy  hkap  \\\n",
      "mean 19.251          4.454    0.913         0.398  0.110 0.042   \n",
      "std  37.355          81.346   0.145         0.582  0.142 0.082   \n",
      "gini 0.515           nan      0.085         0.748  0.655 0.802   \n",
      "p10  5.085           -100.000 0.795         -0.420 0.000 0.000   \n",
      "p25  7.355           -96.959  0.847         0.000  0.000 0.000   \n",
      "p50  11.747          56.999   0.858         0.840  0.000 0.001   \n",
      "p75  17.082          68.884   1.041         0.840  0.288 0.019   \n",
      "p95  57.138          100.887  1.130         0.840  0.340 0.247   \n",
      "p99  235.952         108.239  1.210         0.840  0.357 0.270   \n",
      "\n",
      "      total owner hrs: hy+hkap  \n",
      "mean 0.152                      \n",
      "std  0.150                      \n",
      "gini 0.541                      \n",
      "p10  0.000                      \n",
      "p25  0.000                      \n",
      "p50  0.122                      \n",
      "p75  0.311                      \n",
      "p95  0.363                      \n",
      "p99  0.379                      \n"
     ]
    }
   ],
   "source": [
    "sel=(~data['flagC'] ) & (data['sind_age']<5.0)  \n",
    "\n",
    "val,cols=stats.describe(data[sel].ret_sdf,data[sel]['wgt'])\n",
    "moments_only_business=pd.DataFrame(val.T,columns=['gross_returns: sdf'])\n",
    "moments_only_business.index=cols\n",
    "\n",
    "val,cols=stats.describe(data[sel].ret_mf,data[sel]['wgt'])\n",
    "moments_only_business['gross_returns: mf']=val\n",
    "\n",
    "\n",
    "val,cols=stats.describe(data[sel].ret_sdf,data[sel]['wgt'])\n",
    "moments_only_business['gross_returns: sdf']=val\n",
    "\n",
    "\n",
    "sel2=sel&(data['ns']>0)\n",
    "val,cols=stats.describe(data[sel2].intan_int,data[sel2]['wgt'])\n",
    "moments_only_business['intan. intensity']=val\n",
    "\n",
    "\n",
    "val,cols=stats.describe(data[sel].R,data[sel]['wgt'])\n",
    "moments_only_business['market value: R']=val\n",
    "\n",
    "\n",
    "val,cols=stats.describe(data[sel].div_yld_sdf,data[sel]['wgt'])\n",
    "moments_only_business['div yield: sdf']=val\n",
    "\n",
    "\n",
    "val,cols=stats.describe(data[sel].div_yld_mf,data[sel]['wgt'])\n",
    "moments_only_business['div yield: mf']=val\n",
    "\n",
    "\n",
    "val,cols=stats.describe(data[sel].val_sdf,data[sel]['wgt'])\n",
    "moments_only_business['valuation: sdf']=val\n",
    "\n",
    "val,cols=stats.describe(data[sel].val_mf,data[sel]['wgt'])\n",
    "moments_only_business['valuation: mf']=val\n",
    "\n",
    "\n",
    "val,cols=stats.describe(w*data[sel].ns,data[sel]['wgt'])\n",
    "moments_only_business['ns']=val\n",
    "\n",
    "\n",
    "val,cols=stats.describe(data[sel].ks,data[sel]['wgt'])\n",
    "moments_only_business['ks']=val\n",
    "\n",
    "\n",
    "val,cols=stats.describe(data[sel].bus_inc,data[sel]['wgt'])\n",
    "moments_only_business['bus inc']=val\n",
    "\n",
    "\n",
    "\n",
    "val,cols=stats.describe(data[sel].a,data[sel]['wgt'])\n",
    "moments_only_business['fin wealth:a']=val\n",
    "\n",
    "\n",
    "val,cols=stats.describe(data[sel].wealth_sdf,data[sel]['wgt'])\n",
    "moments_only_business['wealth:vb_sdf+a']=val\n",
    "\n",
    "val,cols=stats.describe(data[sel].wealth_mf,data[sel]['wgt'])\n",
    "moments_only_business['wealth:vb_mf+a']=val\n",
    "\n",
    "\n",
    "\n",
    "val,cols=stats.describe(data[sel].measured_markups,data[sel]['wgt'])\n",
    "moments_only_business['markups']=val\n",
    "\n",
    "\n",
    "sel_temp=(~data['flagC'] ) & (~data['flagO']) & (~pd.isna(data['ztilde_meas']))\n",
    "val,cols=stats.describe(data[sel_temp].ztilde_meas,data[sel_temp]['wgt'])\n",
    "moments_only_business['log_meas_tfp']=val\n",
    "\n",
    "\n",
    "val,cols=stats.describe(data[sel].ztilde,data[sel]['wgt'])\n",
    "moments_only_business['log_z']=val\n",
    "\n",
    "val,cols=stats.describe(data[sel].hy,data[sel]['wgt'])\n",
    "moments_only_business['hy']=val\n",
    "\n",
    "\n",
    "val,cols=stats.describe(data[sel].hkap,data[sel]['wgt'])\n",
    "moments_only_business['hkap']=val\n",
    "\n",
    "\n",
    "val,cols=stats.describe(data[sel].hy,data[sel]['wgt'])\n",
    "moments_only_business['hy']=val\n",
    "\n",
    "\n",
    "val,cols=stats.describe(data[sel].n_e,data[sel]['wgt'])\n",
    "moments_only_business['total owner hrs: hy+hkap']=val\n",
    "\n",
    "\n",
    "print (moments_only_business)\n",
    "moments_only_business.to_excel('moments_young_businesses.xls')\n"
   ]
  },
  {
   "cell_type": "markdown",
   "metadata": {},
   "source": [
    "## Decomposition by  Sweat Capital: Young Businesses"
   ]
  },
  {
   "cell_type": "code",
   "execution_count": 32,
   "metadata": {},
   "outputs": [
    {
     "name": "stdout",
     "output_type": "stream",
     "text": [
      "           kappa     x  intan_int  ret_sdf  div_yld_sdf  measured_markups  \\\n",
      "bin_kappa                                                                   \n",
      "0         0.000  0.000 0.997      0.980    0.000        -29.216             \n",
      "1         0.033  0.012 0.873      0.985    -0.006       -27.445             \n",
      "2         0.563  0.316 0.357      1.169    -0.028       30.034              \n",
      "3         0.713  0.338 0.197      1.318    0.062        43.089              \n",
      "4         0.928  0.979 0.389      1.672    -0.023       5.457               \n",
      "\n",
      "           val_sdf      a  wealth_sdf  s_age  sind_age  ind_age  ztilde_meas  \\\n",
      "bin_kappa                                                                      \n",
      "0         1.491    18.055 19.546      4.305  1.455     50.574   1.088          \n",
      "1         1.536    20.066 21.602      3.200  1.393     49.341   1.087          \n",
      "2         3.475    12.437 15.912      2.704  1.987     47.216   0.978          \n",
      "3         4.921    8.053  12.974      2.677  1.957     45.349   0.902          \n",
      "4         6.712    9.076  15.788      2.843  1.506     39.234   0.862          \n",
      "\n",
      "           ztilde  bus_inc    hy  hkap   n_e    ns     ks  \n",
      "bin_kappa                                                  \n",
      "0         -0.101  0.000    0.000 0.000 0.000 0.000 0.000   \n",
      "1         -0.049  -0.000   0.003 0.003 0.006 0.001 0.082   \n",
      "2         0.592   0.700    0.124 0.051 0.175 0.089 8.494   \n",
      "3         0.732   1.745    0.224 0.046 0.270 0.195 17.881  \n",
      "4         0.818   1.187    0.201 0.109 0.310 0.244 20.105  \n"
     ]
    }
   ],
   "source": [
    "sel=(~data['flagC'] ) & (data['sind_age']<5) \n",
    "var_bin = 'kappa'\n",
    "num_bins=5\n",
    "varlist=['kappa','x','intan_int','ret_sdf','div_yld_sdf','measured_markups','val_sdf','a','wealth_sdf','s_age','sind_age','ind_age','ztilde_meas','ztilde','bus_inc','hy','hkap','n_e','ns','ks']\n",
    "tmp, bins_original = pd.qcut(data[sel][var_bin], q = num_bins, labels=False, retbins = True)\n",
    "data['bin_' + var_bin] = tmp[:]\n",
    "bins = bins_original.copy()\n",
    "bins[0] = -np.inf\n",
    "bins[-1] = np.inf\n",
    "data['bin_' + var_bin] = pd.cut(data[var_bin], bins, labels = False)     \n",
    "mean_baseline=data[sel].groupby('bin_' + var_bin).mean()[varlist]\n",
    "count_baseline=data[sel].groupby('bin_' + var_bin).count()[varlist]\n",
    "print(mean_baseline)\n"
   ]
  },
  {
   "cell_type": "markdown",
   "metadata": {},
   "source": [
    "## Decomposition by Financial Assets: Young Businesses"
   ]
  },
  {
   "cell_type": "code",
   "execution_count": 33,
   "metadata": {},
   "outputs": [
    {
     "name": "stdout",
     "output_type": "stream",
     "text": [
      "       kappa  intan_int  ret_sdf  div_yld_sdf  measured_markups  val_sdf  \\\n",
      "bin_a                                                                      \n",
      "0     0.445  0.625      1.225    -0.049       -6.681            3.353      \n",
      "1     0.457  0.526      1.240    0.032        7.270             3.283      \n",
      "2     0.469  0.533      1.205    0.020        11.055            3.583      \n",
      "3     0.457  0.532      1.140    0.009        11.328            3.846      \n",
      "4     0.408  0.603      1.314    -0.007       -0.712            4.071      \n",
      "\n",
      "           a  wealth_sdf  s_age  sind_age  ind_age  ztilde_meas  ztilde  \\\n",
      "bin_a                                                                     \n",
      "0     0.781  4.134       2.071  1.543     40.885   1.071        0.427     \n",
      "1     3.433  6.715       2.183  1.663     41.889   1.012        0.376     \n",
      "2     6.270  9.853       2.228  1.700     45.890   0.983        0.407     \n",
      "3     10.028 13.874      2.302  1.659     51.584   0.964        0.409     \n",
      "4     47.176 51.247      6.945  1.733     51.467   0.915        0.374     \n",
      "\n",
      "       bus_inc    hy  hkap   n_e  \n",
      "bin_a                             \n",
      "0     0.422    0.094 0.060 0.154  \n",
      "1     0.786    0.119 0.042 0.161  \n",
      "2     0.891    0.126 0.041 0.167  \n",
      "3     0.954    0.128 0.035 0.163  \n",
      "4     0.578    0.084 0.032 0.116  \n"
     ]
    }
   ],
   "source": [
    "sel=(~data['flagC'] ) & (data['sind_age']<5.0)  \n",
    "\n",
    "var_bin = 'a'\n",
    "num_bins=5\n",
    "varlist=['kappa','intan_int','ret_sdf','div_yld_sdf','measured_markups','val_sdf','a','wealth_sdf','s_age','sind_age','ind_age','ztilde_meas','ztilde','bus_inc','hy','hkap','n_e']\n",
    "tmp, bins_original = pd.qcut(data[sel][var_bin], q = num_bins, labels=False, retbins = True)\n",
    "data['bin_' + var_bin] = tmp[:]\n",
    "bins = bins_original.copy()\n",
    "bins[0] = -np.inf\n",
    "bins[-1] = np.inf\n",
    "data['bin_' + var_bin] = pd.cut(data[var_bin], bins, labels = False)     \n",
    "mean_baseline=data[sel].groupby('bin_' + var_bin).mean()[varlist]\n",
    "count_baseline=data[sel].groupby('bin_' + var_bin).count()[varlist]\n",
    "print(mean_baseline)\n"
   ]
  },
  {
   "cell_type": "markdown",
   "metadata": {},
   "source": [
    "## Decomposition by z: Young Businesses"
   ]
  },
  {
   "cell_type": "code",
   "execution_count": 34,
   "metadata": {},
   "outputs": [
    {
     "name": "stdout",
     "output_type": "stream",
     "text": [
      "       bus_inc  kappa  intan_int  ret_sdf  div_yld_sdf  measured_markups  \\\n",
      "bin_z                                                                      \n",
      "0     -0.001   0.104  0.997      0.925    -0.000       -96.431             \n",
      "1     -0.000   0.041  0.985      0.964    -0.000       -75.003             \n",
      "2     0.008    0.113  0.868      0.931    0.001        -4.102              \n",
      "3     0.282    0.315  0.529      0.919    0.029        62.977              \n",
      "4     1.269    0.630  0.359      1.384    -0.006       21.222              \n",
      "5     1.189    4.113  0.275      6.862    -0.053       -1.592              \n",
      "\n",
      "       val_sdf      a  wealth_sdf  s_age  sind_age  ind_age  ztilde_meas  \\\n",
      "bin_z                                                                      \n",
      "0     1.565    17.623 19.188      3.710  1.588     51.504   1.087          \n",
      "1     1.533    15.976 17.509      3.285  1.473     49.790   1.088          \n",
      "2     1.622    17.023 18.645      3.474  1.626     49.839   1.089          \n",
      "3     2.225    14.206 16.431      3.737  1.948     46.838   1.066          \n",
      "4     4.474    9.968  14.441      2.473  1.618     44.305   0.903          \n",
      "5     47.158   97.270 144.428     19.873 1.949     23.102   0.612          \n",
      "\n",
      "       ztilde    hy  hkap   n_e    ns     ks      R  \n",
      "bin_z                                                \n",
      "0     -0.840  0.000 0.000 0.000 0.000 0.000  0.100   \n",
      "1     -0.420  0.000 0.000 0.000 0.000 0.001  0.073   \n",
      "2     0.000   0.002 0.000 0.002 0.000 0.062  0.106   \n",
      "3     0.420   0.055 0.000 0.056 0.017 2.085  0.424   \n",
      "4     0.840   0.189 0.075 0.264 0.168 15.371 1.942   \n",
      "5     1.063   0.190 0.233 0.423 1.555 94.439 20.982  \n"
     ]
    }
   ],
   "source": [
    "sel=(~data['flagC'] ) & (data['sind_age']<5)  \n",
    "\n",
    "var_bin = 'z'\n",
    "varlist=['bus_inc','kappa','intan_int','ret_sdf','div_yld_sdf','measured_markups','val_sdf','a','wealth_sdf','s_age','sind_age','ind_age','ztilde_meas','ztilde','hy','hkap','n_e','ns','ks','R']\n",
    "bins=np.hstack((-1,sorted(data.z.unique())))\n",
    "data['bin_' + var_bin] = pd.cut(data[var_bin], bins, labels = False)     \n",
    "mean_baseline=data[sel].groupby('bin_' + var_bin).mean()[varlist]\n",
    "count_baseline=data[sel].groupby('bin_' + var_bin).count()[varlist]\n",
    "print(mean_baseline)\n"
   ]
  },
  {
   "cell_type": "markdown",
   "metadata": {},
   "source": [
    "## Wealth Income Ratio Analysis\n",
    "We define wealth as financial assets $a$ + resale value of business ($R(s)$) if the agent is running a business. We define pre-tax total income as income from financial assets $r_c a$ + income from wages $w n \\epsilon $ + income from business $py_s -(r+\\delta)k_s-wns-e$. Using these concepts of wealth and total income we compute Wealth-Income ratios for all individuals. We report several aggregated and cross-sectional stats for the wealth, total income and wealth-income ration separately for individuals currently running businesses and individuals currently working for others"
   ]
  },
  {
   "cell_type": "markdown",
   "metadata": {},
   "source": [
    "### Wealth income statistics for business owners"
   ]
  },
  {
   "cell_type": "code",
   "execution_count": 35,
   "metadata": {},
   "outputs": [
    {
     "data": {
      "text/html": [
       "<div>\n",
       "<style scoped>\n",
       "    .dataframe tbody tr th:only-of-type {\n",
       "        vertical-align: middle;\n",
       "    }\n",
       "\n",
       "    .dataframe tbody tr th {\n",
       "        vertical-align: top;\n",
       "    }\n",
       "\n",
       "    .dataframe thead th {\n",
       "        text-align: right;\n",
       "    }\n",
       "</style>\n",
       "<table border=\"1\" class=\"dataframe\">\n",
       "  <thead>\n",
       "    <tr style=\"text-align: right;\">\n",
       "      <th></th>\n",
       "      <th>tot_inc</th>\n",
       "      <th>wealth_R</th>\n",
       "      <th>wealth_income_ratio</th>\n",
       "    </tr>\n",
       "  </thead>\n",
       "  <tbody>\n",
       "    <tr>\n",
       "      <th>count</th>\n",
       "      <td>37475.000</td>\n",
       "      <td>37475.000</td>\n",
       "      <td>37475.000</td>\n",
       "    </tr>\n",
       "    <tr>\n",
       "      <th>mean</th>\n",
       "      <td>3.024</td>\n",
       "      <td>33.202</td>\n",
       "      <td>2635.873</td>\n",
       "    </tr>\n",
       "    <tr>\n",
       "      <th>std</th>\n",
       "      <td>5.545</td>\n",
       "      <td>75.190</td>\n",
       "      <td>646205.671</td>\n",
       "    </tr>\n",
       "    <tr>\n",
       "      <th>min</th>\n",
       "      <td>-14.703</td>\n",
       "      <td>0.046</td>\n",
       "      <td>-19820601.312</td>\n",
       "    </tr>\n",
       "    <tr>\n",
       "      <th>25%</th>\n",
       "      <td>0.302</td>\n",
       "      <td>4.352</td>\n",
       "      <td>3.807</td>\n",
       "    </tr>\n",
       "    <tr>\n",
       "      <th>50%</th>\n",
       "      <td>0.974</td>\n",
       "      <td>9.317</td>\n",
       "      <td>14.062</td>\n",
       "    </tr>\n",
       "    <tr>\n",
       "      <th>75%</th>\n",
       "      <td>3.502</td>\n",
       "      <td>16.412</td>\n",
       "      <td>15.380</td>\n",
       "    </tr>\n",
       "    <tr>\n",
       "      <th>max</th>\n",
       "      <td>35.108</td>\n",
       "      <td>487.041</td>\n",
       "      <td>123421984.023</td>\n",
       "    </tr>\n",
       "  </tbody>\n",
       "</table>\n",
       "</div>"
      ],
      "text/plain": [
       "        tot_inc  wealth_R  wealth_income_ratio\n",
       "count 37475.000 37475.000 37475.000           \n",
       "mean  3.024     33.202    2635.873            \n",
       "std   5.545     75.190    646205.671          \n",
       "min   -14.703   0.046     -19820601.312       \n",
       "25%   0.302     4.352     3.807               \n",
       "50%   0.974     9.317     14.062              \n",
       "75%   3.502     16.412    15.380              \n",
       "max   35.108    487.041   123421984.023       "
      ]
     },
     "execution_count": 35,
     "metadata": {},
     "output_type": "execute_result"
    }
   ],
   "source": [
    "sel=(~data['flagC'] )\n",
    "varlist=['tot_inc','wealth_R','wealth_income_ratio']\n",
    "data[sel][varlist].describe()"
   ]
  },
  {
   "cell_type": "markdown",
   "metadata": {},
   "source": [
    "We sort business owners by total income (each bin has 5% ) and report the averages  by bins. "
   ]
  },
  {
   "cell_type": "code",
   "execution_count": 36,
   "metadata": {},
   "outputs": [
    {
     "name": "stdout",
     "output_type": "stream",
     "text": [
      "             tot_inc  wealth_R  wealth_income_ratio\n",
      "bin_tot_inc                                        \n",
      "0           -1.439   5.623     -4.401              \n",
      "1           -0.149   2.661     55158.516           \n",
      "2           0.053    1.163     23.519              \n",
      "3           0.145    2.464     17.082              \n",
      "4           0.236    3.741     15.927              \n",
      "5           0.325    4.973     15.318              \n",
      "6           0.432    6.557     15.192              \n",
      "7           0.560    8.357     14.933              \n",
      "8           0.700    8.805     12.640              \n",
      "9           0.835    8.604     10.322              \n",
      "10          0.979    11.009    11.230              \n",
      "11          1.251    14.530    11.664              \n",
      "12          2.155    17.475    8.613               \n",
      "13          3.207    11.244    3.531               \n",
      "14          3.360    10.861    3.230               \n",
      "15          3.472    13.323    3.835               \n",
      "16          3.585    14.955    4.168               \n",
      "17          3.752    19.208    5.111               \n",
      "18          4.767    56.207    11.378              \n",
      "19          11.099   161.301   14.555              \n",
      "20          24.179   314.139   13.161              \n"
     ]
    }
   ],
   "source": [
    "sel=(~data['flagC'] )\n",
    "var_bin = 'tot_inc'\n",
    "num_bins=21\n",
    "tmp, bins_original = pd.qcut(data[sel][var_bin], q = num_bins, labels=False, retbins = True)\n",
    "data['bin_' + var_bin] = tmp[:]\n",
    "bins = bins_original.copy()\n",
    "bins[0] = -np.inf\n",
    "bins[-1] = np.inf\n",
    "data['bin_' + var_bin] = pd.cut(data[var_bin], bins, labels = False)     \n",
    "mean_baseline=data[sel].groupby('bin_' + var_bin).mean()[varlist]\n",
    "count_baseline=data[sel].groupby('bin_' + var_bin).count()[varlist]\n",
    "print(mean_baseline)"
   ]
  },
  {
   "cell_type": "markdown",
   "metadata": {},
   "source": [
    "We next report ratio of  average wealth in a bin to average wealth to average total income in that bin "
   ]
  },
  {
   "cell_type": "code",
   "execution_count": 37,
   "metadata": {},
   "outputs": [
    {
     "name": "stdout",
     "output_type": "stream",
     "text": [
      "bin_tot_inc\n",
      "0    -3.907 \n",
      "1    -17.828\n",
      "2    21.928 \n",
      "3    16.963 \n",
      "4    15.886 \n",
      "5    15.301 \n",
      "6    15.186 \n",
      "7    14.920 \n",
      "8    12.577 \n",
      "9    10.309 \n",
      "10   11.243 \n",
      "11   11.618 \n",
      "12   8.108  \n",
      "13   3.506  \n",
      "14   3.232  \n",
      "15   3.837  \n",
      "16   4.171  \n",
      "17   5.119  \n",
      "18   11.792 \n",
      "19   14.533 \n",
      "20   12.992 \n",
      "dtype: float64\n"
     ]
    }
   ],
   "source": [
    "print(mean_baseline.wealth_R/mean_baseline.tot_inc)"
   ]
  },
  {
   "cell_type": "markdown",
   "metadata": {},
   "source": [
    "### Wealth Income ratios for Workers"
   ]
  },
  {
   "cell_type": "markdown",
   "metadata": {},
   "source": [
    "Descriptive stats for workers"
   ]
  },
  {
   "cell_type": "code",
   "execution_count": 38,
   "metadata": {},
   "outputs": [
    {
     "data": {
      "text/html": [
       "<div>\n",
       "<style scoped>\n",
       "    .dataframe tbody tr th:only-of-type {\n",
       "        vertical-align: middle;\n",
       "    }\n",
       "\n",
       "    .dataframe tbody tr th {\n",
       "        vertical-align: top;\n",
       "    }\n",
       "\n",
       "    .dataframe thead th {\n",
       "        text-align: right;\n",
       "    }\n",
       "</style>\n",
       "<table border=\"1\" class=\"dataframe\">\n",
       "  <thead>\n",
       "    <tr style=\"text-align: right;\">\n",
       "      <th></th>\n",
       "      <th>tot_inc</th>\n",
       "      <th>wealth_R</th>\n",
       "      <th>wealth_income_ratio</th>\n",
       "    </tr>\n",
       "  </thead>\n",
       "  <tbody>\n",
       "    <tr>\n",
       "      <th>count</th>\n",
       "      <td>62525.000</td>\n",
       "      <td>62525.000</td>\n",
       "      <td>62525.000</td>\n",
       "    </tr>\n",
       "    <tr>\n",
       "      <th>mean</th>\n",
       "      <td>3.423</td>\n",
       "      <td>18.609</td>\n",
       "      <td>4.125</td>\n",
       "    </tr>\n",
       "    <tr>\n",
       "      <th>std</th>\n",
       "      <td>3.179</td>\n",
       "      <td>49.880</td>\n",
       "      <td>4.620</td>\n",
       "    </tr>\n",
       "    <tr>\n",
       "      <th>min</th>\n",
       "      <td>0.000</td>\n",
       "      <td>0.000</td>\n",
       "      <td>0.000</td>\n",
       "    </tr>\n",
       "    <tr>\n",
       "      <th>25%</th>\n",
       "      <td>1.977</td>\n",
       "      <td>2.445</td>\n",
       "      <td>1.119</td>\n",
       "    </tr>\n",
       "    <tr>\n",
       "      <th>50%</th>\n",
       "      <td>2.558</td>\n",
       "      <td>6.105</td>\n",
       "      <td>2.336</td>\n",
       "    </tr>\n",
       "    <tr>\n",
       "      <th>75%</th>\n",
       "      <td>4.693</td>\n",
       "      <td>11.977</td>\n",
       "      <td>4.692</td>\n",
       "    </tr>\n",
       "    <tr>\n",
       "      <th>max</th>\n",
       "      <td>30.255</td>\n",
       "      <td>461.812</td>\n",
       "      <td>15.264</td>\n",
       "    </tr>\n",
       "  </tbody>\n",
       "</table>\n",
       "</div>"
      ],
      "text/plain": [
       "        tot_inc  wealth_R  wealth_income_ratio\n",
       "count 62525.000 62525.000 62525.000           \n",
       "mean  3.423     18.609    4.125               \n",
       "std   3.179     49.880    4.620               \n",
       "min   0.000     0.000     0.000               \n",
       "25%   1.977     2.445     1.119               \n",
       "50%   2.558     6.105     2.336               \n",
       "75%   4.693     11.977    4.692               \n",
       "max   30.255    461.812   15.264              "
      ]
     },
     "execution_count": 38,
     "metadata": {},
     "output_type": "execute_result"
    }
   ],
   "source": [
    "sel=(data['flagC'] )\n",
    "varlist=['tot_inc','wealth_R','wealth_income_ratio']\n",
    "data[sel][varlist].describe()"
   ]
  },
  {
   "cell_type": "markdown",
   "metadata": {},
   "source": [
    "Stats by total income (each bin has 5% ) and report the averages  by bins. "
   ]
  },
  {
   "cell_type": "code",
   "execution_count": 39,
   "metadata": {},
   "outputs": [
    {
     "name": "stdout",
     "output_type": "stream",
     "text": [
      "             tot_inc  wealth_R  wealth_income_ratio\n",
      "bin_tot_inc                                        \n",
      "0           0.202    2.555     13.754              \n",
      "1           0.544    3.533     6.768               \n",
      "2           1.050    5.658     5.638               \n",
      "3           1.357    4.124     3.042               \n",
      "4           1.593    4.714     2.879               \n",
      "5           2.072    4.941     2.389               \n",
      "6           2.447    3.091     1.290               \n",
      "7           2.473    2.593     1.049               \n",
      "8           2.491    3.125     1.254               \n",
      "9           2.521    4.207     1.668               \n",
      "10          2.558    5.470     2.138               \n",
      "11          2.597    7.092     2.730               \n",
      "12          2.650    10.225    3.858               \n",
      "13          2.746    13.879    5.046               \n",
      "14          3.744    16.319    4.837               \n",
      "15          4.689    5.821     1.241               \n",
      "16          4.713    7.487     1.588               \n",
      "17          4.756    9.155     1.924               \n",
      "18          4.837    15.567    3.215               \n",
      "19          6.919    35.081    5.209               \n",
      "20          14.926   226.107   15.104              \n"
     ]
    }
   ],
   "source": [
    "sel=(data['flagC'] )\n",
    "var_bin = 'tot_inc'\n",
    "num_bins=21\n",
    "tmp, bins_original = pd.qcut(data[sel][var_bin], q = num_bins, labels=False, retbins = True)\n",
    "data['bin_' + var_bin] = tmp[:]\n",
    "bins = bins_original.copy()\n",
    "bins[0] = -np.inf\n",
    "bins[-1] = np.inf\n",
    "data['bin_' + var_bin] = pd.cut(data[var_bin], bins, labels = False)     \n",
    "mean_baseline=data[sel].groupby('bin_' + var_bin).mean()[varlist]\n",
    "count_baseline=data[sel].groupby('bin_' + var_bin).count()[varlist]\n",
    "print(mean_baseline)"
   ]
  },
  {
   "cell_type": "markdown",
   "metadata": {},
   "source": [
    "Ratio of averages for workers"
   ]
  },
  {
   "cell_type": "code",
   "execution_count": 40,
   "metadata": {},
   "outputs": [
    {
     "name": "stdout",
     "output_type": "stream",
     "text": [
      "bin_tot_inc\n",
      "0    12.681\n",
      "1    6.496 \n",
      "2    5.390 \n",
      "3    3.039 \n",
      "4    2.959 \n",
      "5    2.385 \n",
      "6    1.263 \n",
      "7    1.049 \n",
      "8    1.254 \n",
      "9    1.669 \n",
      "10   2.138 \n",
      "11   2.731 \n",
      "12   3.859 \n",
      "13   5.054 \n",
      "14   4.358 \n",
      "15   1.242 \n",
      "16   1.588 \n",
      "17   1.925 \n",
      "18   3.219 \n",
      "19   5.070 \n",
      "20   15.149\n",
      "dtype: float64\n"
     ]
    }
   ],
   "source": [
    "print(mean_baseline.wealth_R/mean_baseline.tot_inc)"
   ]
  },
  {
   "cell_type": "markdown",
   "metadata": {},
   "source": [
    "# Effects of change in $\\tau_{b}$\n",
    "Please point to the simulations of the economy after the tabx change"
   ]
  },
  {
   "cell_type": "code",
   "execution_count": 41,
   "metadata": {},
   "outputs": [],
   "source": [
    "df_baseline=[]\n",
    "df_target=[]\n",
    "my_file_handle=open(path_baseline+ '/' + momfilename_baseline )\n",
    "textbuffer_baseline=my_file_handle.read()\n",
    "my_file_handle=open(path_target+'/'+momfilename_target)\n",
    "textbuffer_target=my_file_handle.read()\n",
    "w,p,rc,rs,delta,GDP=get_prices(path_target,momfilename_target)\n",
    "df_target=uploadData(path_target,w,rs,rc,p,delta)"
   ]
  },
  {
   "cell_type": "markdown",
   "metadata": {},
   "source": [
    "##    $\\Delta$  in Equilibrium Prices\n",
    "% change in wage, rental rate of capital, and relative price of s-good"
   ]
  },
  {
   "cell_type": "code",
   "execution_count": 42,
   "metadata": {},
   "outputs": [
    {
     "name": "stdout",
     "output_type": "stream",
     "text": [
      "Wage (w):  0.5774620407247077\n",
      "S-good price (p):  -2.9612522932707885\n",
      "Interest rate (r_c):  -0.853633433179446\n"
     ]
    }
   ],
   "source": [
    "varlist=['Wage (w)','S-good price (p)','Interest rate (r_c)']\n",
    "for var in varlist:\n",
    "    print(var+ \":  \"+ str((__extract_num__(var,textbuffer_target)/__extract_num__(var,textbuffer_baseline)-1)*100 ))"
   ]
  },
  {
   "cell_type": "markdown",
   "metadata": {},
   "source": [
    "##    $\\Delta$  in economy-wide aggregates"
   ]
  },
  {
   "cell_type": "code",
   "execution_count": 43,
   "metadata": {},
   "outputs": [],
   "source": [
    "DeltaDebt=(__extract_num__('  Govt. debt(b)',textbuffer_target)/__extract_num__('  Govt. debt(b)',textbuffer_baseline)-1)*100\n",
    "DeltaFracS=(__extract_num__('  Frac of S-corp owner',textbuffer_target)/__extract_num__('  Frac of S-corp owner',textbuffer_baseline)-1)*100\n",
    "\n",
    "DeltaGDP=(__extract_num__('  GDP',textbuffer_target)/__extract_num__('  GDP',textbuffer_baseline)-1)*100\n",
    "AggCons_baseline=__extract_num__('  Consumption(Ecc)',textbuffer_baseline)+__extract_num__('  Consumption(Ecs)',textbuffer_baseline)*__extract_num__('S-good price (p)',textbuffer_baseline)\n",
    "AggCons_target=__extract_num__('  Consumption(Ecc)',textbuffer_target)+__extract_num__('  Consumption(Ecs)',textbuffer_target)*__extract_num__('S-good price (p)',textbuffer_target)\n",
    "DeltaAggCons=(AggCons_target/AggCons_baseline-1)*100\n",
    "AggHours_baseline=__extract_num__('  Eff. Worked Hours Demand(nc)',textbuffer_baseline)+__extract_num__('  Eff. Worked Hours Demand(Ens)',textbuffer_baseline)+__extract_num__('  Hours, sweat(Ehkap) ',textbuffer_baseline)+__extract_num__('  Hours, production(Ehy) ',textbuffer_baseline)\n",
    "AggHours_target=__extract_num__('  Eff. Worked Hours Demand(nc)',textbuffer_target)+__extract_num__('  Eff. Worked Hours Demand(Ens)',textbuffer_target)+__extract_num__('  Hours, sweat(Ehkap) ',textbuffer_target)+__extract_num__('  Hours, production(Ehy) ',textbuffer_target)\n",
    "DeltaAggHours=(AggHours_target/AggHours_baseline-1)*100\n",
    "DeltaVb_mutual=(df_target.val_mf.sum()/data.val_mf.sum()-1)*100\n",
    "AggFa_baseline=__extract_num__('  Capital(kc)',textbuffer_baseline)+__extract_num__('  S-Corp Rental Capital (ks)',textbuffer_baseline)\n",
    "AggFa_target=__extract_num__('  Capital(kc)',textbuffer_target)+__extract_num__('  S-Corp Rental Capital (ks)',textbuffer_target)\n",
    "DeltaAggFa=(AggFa_target/AggFa_baseline-1)*100  \n",
    "DeltaTaxRevenues=(__extract_num__('  Tax revenue(tax_rev)',textbuffer_target)/__extract_num__('  Tax revenue(tax_rev)',textbuffer_baseline)-1)*100\n",
    "AggEmpHours_baseline=__extract_num__('  Eff. Worked Hours Demand(nc)',textbuffer_baseline)+__extract_num__('  Eff. Worked Hours Demand(Ens)',textbuffer_baseline)\n",
    "AggEmpHours_target=__extract_num__('  Eff. Worked Hours Demand(nc)',textbuffer_target)+__extract_num__('  Eff. Worked Hours Demand(Ens)',textbuffer_target)\n",
    "DeltaAggEmpHours=(AggEmpHours_target/AggEmpHours_baseline-1)*100\n"
   ]
  },
  {
   "cell_type": "code",
   "execution_count": 44,
   "metadata": {},
   "outputs": [
    {
     "name": "stdout",
     "output_type": "stream",
     "text": [
      "GDP: -1.7655542953233128\n",
      "Agg. Cons: -2.497255174086044\n",
      "Agg. Hours: 0.0390880930292159\n",
      "Agg. Emp Hours: -5.18037245435834\n",
      "Agg. Vb (mf): 4.260734164540025\n",
      "Agg. Fixed assets: -1.8202492874411558\n",
      "Agg. Tax revenues: -7.349031924521632\n",
      "Agg. Debt: -34.944142066205686\n",
      "Frac in S: 15.621080720480297\n"
     ]
    }
   ],
   "source": [
    "print(\"GDP: \" + str( DeltaGDP))\n",
    "print(\"Agg. Cons: \" + str( DeltaAggCons))\n",
    "print(\"Agg. Hours: \" + str( DeltaAggHours))\n",
    "print(\"Agg. Emp Hours: \" + str( DeltaAggEmpHours))\n",
    "print(\"Agg. Vb (mf): \" + str( DeltaVb_mutual))\n",
    "print(\"Agg. Fixed assets: \" + str( DeltaAggFa))\n",
    "print(\"Agg. Tax revenues: \" + str( DeltaTaxRevenues))\n",
    "print(\"Agg. Debt: \" + str(DeltaDebt))\n",
    "print(\"Frac in S: \" + str(DeltaFracS))"
   ]
  },
  {
   "cell_type": "markdown",
   "metadata": {},
   "source": [
    "##    $\\Delta$  in C-corp sector"
   ]
  },
  {
   "cell_type": "code",
   "execution_count": 45,
   "metadata": {},
   "outputs": [
    {
     "name": "stdout",
     "output_type": "stream",
     "text": [
      "  Output(yc) :  -2.2772033117366974\n",
      "  Consumption(Ecc):  -2.5135341938387734\n",
      "  Eff. Worked Hours Demand(nc):  -2.8382753894759527\n",
      "  Capital(kc):  -1.7614012786187239\n"
     ]
    }
   ],
   "source": [
    "varlist=['  Output(yc) ','  Consumption(Ecc)','  Eff. Worked Hours Demand(nc)','  Capital(kc)']\n",
    "for var in varlist:\n",
    "    print(var+ \":  \"+ str((__extract_num__(var,textbuffer_target)/__extract_num__(var,textbuffer_baseline)-1)*100 ))"
   ]
  },
  {
   "cell_type": "code",
   "execution_count": 46,
   "metadata": {},
   "outputs": [],
   "source": [
    "df_baseline_workers = data[data['flagC']==True]\n",
    "df_target_workers=df_target[df_target['flagC']==True]\n",
    "df_baseline = data[data['flagC']==False]\n",
    "df_target=df_target[df_target['flagC']==False]"
   ]
  },
  {
   "cell_type": "code",
   "execution_count": 47,
   "metadata": {},
   "outputs": [],
   "source": [
    "my_file_handle=open(path_baseline+'/'+momfilename_baseline)\n",
    "textbuffer_baseline=my_file_handle.read()\n",
    "my_file_handle=open(path_target+'/'+momfilename_target)\n",
    "textbuffer_target=my_file_handle.read()"
   ]
  },
  {
   "cell_type": "markdown",
   "metadata": {},
   "source": [
    "##    $\\Delta$ factor use and outputs for  Private Busineses"
   ]
  },
  {
   "cell_type": "code",
   "execution_count": 48,
   "metadata": {},
   "outputs": [
    {
     "name": "stdout",
     "output_type": "stream",
     "text": [
      "---------------- sum change (%)--------------\n",
      "x         0.735  \n",
      "hy        22.383 \n",
      "ns        -10.008\n",
      "hkap      14.722 \n",
      "ne        20.958 \n",
      "ys        0.618  \n",
      "ks        -1.938 \n",
      "kappa     7.320  \n",
      "bus_inc   5.308  \n",
      "pys       -2.361 \n",
      "wns       -9.488 \n",
      "val_mf    6.324  \n",
      "val_sdf   7.319  \n",
      "div       -13.721\n",
      "s_age     21.141 \n",
      "pys       -2.361 \n",
      "dtype: float64\n"
     ]
    }
   ],
   "source": [
    "varlist=['x','hy','ns','hkap','ne','ys','ks','kappa','bus_inc','pys','wns','val_mf','val_sdf','div','s_age','pys']\n",
    "print(\"---------------- sum change (%)--------------\")\n",
    "# per_change_agg=100.*(df_target[varlist].sum()/df_baseline[varlist].sum() -1.)\n",
    "# print(per_change_agg)\n",
    "print(100.*(df_target.sum()/df_baseline.sum() - 1.)[varlist])"
   ]
  },
  {
   "cell_type": "markdown",
   "metadata": {},
   "source": [
    "##  Aggregate $\\Delta$ profitability\n",
    "Agg profitability is defined as  sum of business incomes in passthrus / sum of physical capital used in pass thrus "
   ]
  },
  {
   "cell_type": "code",
   "execution_count": 49,
   "metadata": {},
   "outputs": [
    {
     "name": "stdout",
     "output_type": "stream",
     "text": [
      "---------------- profitability --------------\n",
      "after tax change:   8.61\n",
      "Baseline:           8.02\n",
      "DELTA:              7.39\n"
     ]
    }
   ],
   "source": [
    "print(\"---------------- profitability --------------\")\n",
    "target_profitability=df_target.bus_inc.sum()/df_target.ks.sum()\n",
    "baseline_profitability=df_baseline.bus_inc.sum()/df_baseline.ks.sum()\n",
    "print(\"after tax change:  % 4.2f\" % (100*target_profitability))\n",
    "print(\"Baseline:          % 4.2f\"  % (100*baseline_profitability))\n",
    "print(\"DELTA:             % 4.2f\" % ( 100*(target_profitability/baseline_profitability-1) ))\n"
   ]
  },
  {
   "cell_type": "markdown",
   "metadata": {},
   "source": [
    "##  Aggregate $\\Delta$ markups\n",
    "Agg markups  is defined as  sum of business incomes in passthrus / sum rental and wage expenses in pass thrus "
   ]
  },
  {
   "cell_type": "code",
   "execution_count": 50,
   "metadata": {},
   "outputs": [
    {
     "name": "stdout",
     "output_type": "stream",
     "text": [
      "after tax change:   45.52\n",
      "Baseline:           40.85\n",
      "DELTA:              11.43\n"
     ]
    }
   ],
   "source": [
    "target_markups=df_target.bus_inc.sum()/df_target.cogs.sum()\n",
    "baseline_markups=df_baseline.bus_inc.sum()/df_baseline.cogs.sum()\n",
    "print(\"after tax change:  % 4.2f\" % (100*target_markups))\n",
    "print(\"Baseline:          % 4.2f\"  % (100*baseline_markups))\n",
    "print(\"DELTA:             % 4.2f\" % ( 100*(target_markups/baseline_markups-1) ))\n"
   ]
  },
  {
   "cell_type": "markdown",
   "metadata": {},
   "source": [
    "## Aggregate $\\Delta$ TFP in passthru\n",
    "Agg. TFP is defined as (sum of ys )  divided   (sum of ks)^(1/3) x (sum of ns)^(2/3)"
   ]
  },
  {
   "cell_type": "code",
   "execution_count": 51,
   "metadata": {},
   "outputs": [
    {
     "name": "stdout",
     "output_type": "stream",
     "text": [
      "after tax change:    2.47\n",
      "Baseline:            2.27\n",
      "DELTA:               8.57\n"
     ]
    }
   ],
   "source": [
    "target_TFP=(df_target.ys.sum())/ (((df_target.ks.sum())**(0.33))*((df_target.ns.sum())**(0.66)))\n",
    "baseline_TFP=(df_baseline.ys.sum()) /(((df_baseline.ks.sum())**(0.33))*((df_baseline.ns.sum())**(0.66)))\n",
    "print(\"after tax change:   % 4.2f\" % (target_TFP))\n",
    "print(\"Baseline:           % 4.2f\" % (baseline_TFP))\n",
    "print(\"DELTA:              % 4.2f\"% (100*(target_TFP/baseline_TFP-1))) \n"
   ]
  },
  {
   "cell_type": "markdown",
   "metadata": {},
   "source": [
    "## Decomposition of $\\Delta$ by Owner productivity \"z\""
   ]
  },
  {
   "cell_type": "code",
   "execution_count": 52,
   "metadata": {},
   "outputs": [
    {
     "name": "stdout",
     "output_type": "stream",
     "text": [
      "\n",
      "SORTED BY z\n",
      "BINS = [-1.0, 0.43, 0.66, 1.0, 1.52, 2.32, 2.9]\n"
     ]
    }
   ],
   "source": [
    "var_bin = 'z'\n",
    "var_list=['ztilde','eps','a','bus_inc','ys','ks','kappa','ns','hy','hkap','ztilde_meas','zkapphi','ne','measured_markups','pys','wns']\n",
    "bins=data[sel].z\n",
    "bins=np.hstack((-1,sorted(data.z.unique())))\n",
    "total,sum_baseline,intensive_alt,extensive_alt=print_results(var_bin,bins,var_list,df_baseline,df_target)"
   ]
  },
  {
   "cell_type": "markdown",
   "metadata": {},
   "source": [
    "### Total change"
   ]
  },
  {
   "cell_type": "code",
   "execution_count": 53,
   "metadata": {},
   "outputs": [
    {
     "data": {
      "text/html": [
       "<div>\n",
       "<style scoped>\n",
       "    .dataframe tbody tr th:only-of-type {\n",
       "        vertical-align: middle;\n",
       "    }\n",
       "\n",
       "    .dataframe tbody tr th {\n",
       "        vertical-align: top;\n",
       "    }\n",
       "\n",
       "    .dataframe thead th {\n",
       "        text-align: right;\n",
       "    }\n",
       "</style>\n",
       "<table border=\"1\" class=\"dataframe\">\n",
       "  <thead>\n",
       "    <tr style=\"text-align: right;\">\n",
       "      <th></th>\n",
       "      <th>bins/total</th>\n",
       "      <th>ztilde</th>\n",
       "      <th>eps</th>\n",
       "      <th>a</th>\n",
       "      <th>bus_inc</th>\n",
       "      <th>ys</th>\n",
       "      <th>ks</th>\n",
       "      <th>kappa</th>\n",
       "      <th>ns</th>\n",
       "      <th>hy</th>\n",
       "      <th>hkap</th>\n",
       "      <th>ztilde_meas</th>\n",
       "      <th>zkapphi</th>\n",
       "      <th>ne</th>\n",
       "      <th>measured_markups</th>\n",
       "      <th>pys</th>\n",
       "      <th>wns</th>\n",
       "    </tr>\n",
       "  </thead>\n",
       "  <tbody>\n",
       "    <tr>\n",
       "      <th>0</th>\n",
       "      <td>(-1.0, 0.432]</td>\n",
       "      <td>-5.052</td>\n",
       "      <td>2.236</td>\n",
       "      <td>-1.160</td>\n",
       "      <td>-0.004</td>\n",
       "      <td>0.000</td>\n",
       "      <td>0.000</td>\n",
       "      <td>1.229</td>\n",
       "      <td>0.000</td>\n",
       "      <td>0.000</td>\n",
       "      <td>0.062</td>\n",
       "      <td>3.678</td>\n",
       "      <td>0.523</td>\n",
       "      <td>0.012</td>\n",
       "      <td>-19.856</td>\n",
       "      <td>0.000</td>\n",
       "      <td>0.000</td>\n",
       "    </tr>\n",
       "    <tr>\n",
       "      <th>1</th>\n",
       "      <td>(0.432, 0.657]</td>\n",
       "      <td>-1.994</td>\n",
       "      <td>1.734</td>\n",
       "      <td>-0.681</td>\n",
       "      <td>-0.001</td>\n",
       "      <td>0.001</td>\n",
       "      <td>0.001</td>\n",
       "      <td>0.581</td>\n",
       "      <td>0.000</td>\n",
       "      <td>0.004</td>\n",
       "      <td>0.042</td>\n",
       "      <td>3.001</td>\n",
       "      <td>0.540</td>\n",
       "      <td>0.011</td>\n",
       "      <td>-10.229</td>\n",
       "      <td>0.001</td>\n",
       "      <td>0.000</td>\n",
       "    </tr>\n",
       "    <tr>\n",
       "      <th>2</th>\n",
       "      <td>(0.657, 1.0]</td>\n",
       "      <td>0.000</td>\n",
       "      <td>2.227</td>\n",
       "      <td>-1.002</td>\n",
       "      <td>0.048</td>\n",
       "      <td>0.030</td>\n",
       "      <td>0.028</td>\n",
       "      <td>1.226</td>\n",
       "      <td>0.011</td>\n",
       "      <td>0.160</td>\n",
       "      <td>0.063</td>\n",
       "      <td>3.679</td>\n",
       "      <td>1.197</td>\n",
       "      <td>0.142</td>\n",
       "      <td>3.961</td>\n",
       "      <td>0.027</td>\n",
       "      <td>0.012</td>\n",
       "    </tr>\n",
       "    <tr>\n",
       "      <th>3</th>\n",
       "      <td>(1.0, 1.522]</td>\n",
       "      <td>3.732</td>\n",
       "      <td>3.388</td>\n",
       "      <td>-1.180</td>\n",
       "      <td>0.911</td>\n",
       "      <td>0.574</td>\n",
       "      <td>0.480</td>\n",
       "      <td>1.999</td>\n",
       "      <td>0.161</td>\n",
       "      <td>2.677</td>\n",
       "      <td>0.085</td>\n",
       "      <td>5.418</td>\n",
       "      <td>2.849</td>\n",
       "      <td>2.195</td>\n",
       "      <td>25.826</td>\n",
       "      <td>0.464</td>\n",
       "      <td>0.173</td>\n",
       "    </tr>\n",
       "    <tr>\n",
       "      <th>4</th>\n",
       "      <td>(1.522, 2.317]</td>\n",
       "      <td>15.307</td>\n",
       "      <td>7.558</td>\n",
       "      <td>-0.463</td>\n",
       "      <td>8.162</td>\n",
       "      <td>6.968</td>\n",
       "      <td>5.300</td>\n",
       "      <td>6.530</td>\n",
       "      <td>1.632</td>\n",
       "      <td>19.172</td>\n",
       "      <td>15.066</td>\n",
       "      <td>9.851</td>\n",
       "      <td>10.239</td>\n",
       "      <td>18.409</td>\n",
       "      <td>50.886</td>\n",
       "      <td>5.024</td>\n",
       "      <td>1.922</td>\n",
       "    </tr>\n",
       "    <tr>\n",
       "      <th>5</th>\n",
       "      <td>(2.317, 2.896]</td>\n",
       "      <td>0.048</td>\n",
       "      <td>0.017</td>\n",
       "      <td>-0.734</td>\n",
       "      <td>-3.808</td>\n",
       "      <td>-6.955</td>\n",
       "      <td>-7.747</td>\n",
       "      <td>-4.245</td>\n",
       "      <td>-11.812</td>\n",
       "      <td>0.369</td>\n",
       "      <td>-0.596</td>\n",
       "      <td>0.194</td>\n",
       "      <td>-0.139</td>\n",
       "      <td>0.190</td>\n",
       "      <td>0.767</td>\n",
       "      <td>-7.878</td>\n",
       "      <td>-11.594</td>\n",
       "    </tr>\n",
       "    <tr>\n",
       "      <th>6</th>\n",
       "      <td>total</td>\n",
       "      <td>12.041</td>\n",
       "      <td>17.160</td>\n",
       "      <td>-5.221</td>\n",
       "      <td>5.308</td>\n",
       "      <td>0.618</td>\n",
       "      <td>-1.938</td>\n",
       "      <td>7.320</td>\n",
       "      <td>-10.008</td>\n",
       "      <td>22.383</td>\n",
       "      <td>14.722</td>\n",
       "      <td>25.821</td>\n",
       "      <td>15.210</td>\n",
       "      <td>20.958</td>\n",
       "      <td>51.355</td>\n",
       "      <td>-2.361</td>\n",
       "      <td>-9.488</td>\n",
       "    </tr>\n",
       "  </tbody>\n",
       "</table>\n",
       "</div>"
      ],
      "text/plain": [
       "       bins/total  ztilde    eps      a  bus_inc     ys     ks  kappa      ns  \\\n",
       "0  (-1.0, 0.432]  -5.052  2.236  -1.160 -0.004   0.000  0.000  1.229  0.000     \n",
       "1  (0.432, 0.657] -1.994  1.734  -0.681 -0.001   0.001  0.001  0.581  0.000     \n",
       "2  (0.657, 1.0]   0.000   2.227  -1.002 0.048    0.030  0.028  1.226  0.011     \n",
       "3  (1.0, 1.522]   3.732   3.388  -1.180 0.911    0.574  0.480  1.999  0.161     \n",
       "4  (1.522, 2.317] 15.307  7.558  -0.463 8.162    6.968  5.300  6.530  1.632     \n",
       "5  (2.317, 2.896] 0.048   0.017  -0.734 -3.808   -6.955 -7.747 -4.245 -11.812   \n",
       "6  total          12.041  17.160 -5.221 5.308    0.618  -1.938 7.320  -10.008   \n",
       "\n",
       "      hy   hkap  ztilde_meas  zkapphi     ne  measured_markups    pys     wns  \n",
       "0 0.000  0.062  3.678        0.523    0.012  -19.856           0.000  0.000    \n",
       "1 0.004  0.042  3.001        0.540    0.011  -10.229           0.001  0.000    \n",
       "2 0.160  0.063  3.679        1.197    0.142  3.961             0.027  0.012    \n",
       "3 2.677  0.085  5.418        2.849    2.195  25.826            0.464  0.173    \n",
       "4 19.172 15.066 9.851        10.239   18.409 50.886            5.024  1.922    \n",
       "5 0.369  -0.596 0.194        -0.139   0.190  0.767             -7.878 -11.594  \n",
       "6 22.383 14.722 25.821       15.210   20.958 51.355            -2.361 -9.488   "
      ]
     },
     "execution_count": 53,
     "metadata": {},
     "output_type": "execute_result"
    }
   ],
   "source": [
    "agg= 100*total/sum_baseline.sum() \n",
    "aggsum=100*total.sum()/sum_baseline.sum()    \n",
    "format_table(agg,aggsum)   "
   ]
  },
  {
   "cell_type": "markdown",
   "metadata": {},
   "source": [
    "### Intensive "
   ]
  },
  {
   "cell_type": "code",
   "execution_count": 54,
   "metadata": {},
   "outputs": [
    {
     "data": {
      "text/html": [
       "<div>\n",
       "<style scoped>\n",
       "    .dataframe tbody tr th:only-of-type {\n",
       "        vertical-align: middle;\n",
       "    }\n",
       "\n",
       "    .dataframe tbody tr th {\n",
       "        vertical-align: top;\n",
       "    }\n",
       "\n",
       "    .dataframe thead th {\n",
       "        text-align: right;\n",
       "    }\n",
       "</style>\n",
       "<table border=\"1\" class=\"dataframe\">\n",
       "  <thead>\n",
       "    <tr style=\"text-align: right;\">\n",
       "      <th></th>\n",
       "      <th>bins/total</th>\n",
       "      <th>ztilde</th>\n",
       "      <th>eps</th>\n",
       "      <th>a</th>\n",
       "      <th>bus_inc</th>\n",
       "      <th>ys</th>\n",
       "      <th>ks</th>\n",
       "      <th>kappa</th>\n",
       "      <th>ns</th>\n",
       "      <th>hy</th>\n",
       "      <th>hkap</th>\n",
       "      <th>ztilde_meas</th>\n",
       "      <th>zkapphi</th>\n",
       "      <th>ne</th>\n",
       "      <th>measured_markups</th>\n",
       "      <th>pys</th>\n",
       "      <th>wns</th>\n",
       "    </tr>\n",
       "  </thead>\n",
       "  <tbody>\n",
       "    <tr>\n",
       "      <th>0</th>\n",
       "      <td>(-1.0, 0.432]</td>\n",
       "      <td>0.000</td>\n",
       "      <td>0.166</td>\n",
       "      <td>-3.527</td>\n",
       "      <td>-0.000</td>\n",
       "      <td>0.000</td>\n",
       "      <td>0.000</td>\n",
       "      <td>0.442</td>\n",
       "      <td>0.000</td>\n",
       "      <td>0.000</td>\n",
       "      <td>0.027</td>\n",
       "      <td>1.022</td>\n",
       "      <td>0.158</td>\n",
       "      <td>0.005</td>\n",
       "      <td>0.794</td>\n",
       "      <td>0.000</td>\n",
       "      <td>0.000</td>\n",
       "    </tr>\n",
       "    <tr>\n",
       "      <th>1</th>\n",
       "      <td>(0.432, 0.657]</td>\n",
       "      <td>0.000</td>\n",
       "      <td>0.109</td>\n",
       "      <td>-2.547</td>\n",
       "      <td>0.001</td>\n",
       "      <td>0.000</td>\n",
       "      <td>0.000</td>\n",
       "      <td>0.141</td>\n",
       "      <td>0.000</td>\n",
       "      <td>0.003</td>\n",
       "      <td>0.018</td>\n",
       "      <td>0.897</td>\n",
       "      <td>0.156</td>\n",
       "      <td>0.005</td>\n",
       "      <td>3.072</td>\n",
       "      <td>0.000</td>\n",
       "      <td>0.000</td>\n",
       "    </tr>\n",
       "    <tr>\n",
       "      <th>2</th>\n",
       "      <td>(0.657, 1.0]</td>\n",
       "      <td>0.000</td>\n",
       "      <td>0.165</td>\n",
       "      <td>-3.133</td>\n",
       "      <td>0.025</td>\n",
       "      <td>0.015</td>\n",
       "      <td>0.012</td>\n",
       "      <td>0.403</td>\n",
       "      <td>0.003</td>\n",
       "      <td>0.096</td>\n",
       "      <td>0.029</td>\n",
       "      <td>1.058</td>\n",
       "      <td>0.335</td>\n",
       "      <td>0.084</td>\n",
       "      <td>7.319</td>\n",
       "      <td>0.012</td>\n",
       "      <td>0.003</td>\n",
       "    </tr>\n",
       "    <tr>\n",
       "      <th>3</th>\n",
       "      <td>(1.0, 1.522]</td>\n",
       "      <td>-0.000</td>\n",
       "      <td>0.287</td>\n",
       "      <td>-3.757</td>\n",
       "      <td>0.042</td>\n",
       "      <td>0.049</td>\n",
       "      <td>-0.038</td>\n",
       "      <td>-0.010</td>\n",
       "      <td>-0.152</td>\n",
       "      <td>1.006</td>\n",
       "      <td>0.019</td>\n",
       "      <td>1.638</td>\n",
       "      <td>0.351</td>\n",
       "      <td>0.823</td>\n",
       "      <td>7.944</td>\n",
       "      <td>-0.052</td>\n",
       "      <td>-0.141</td>\n",
       "    </tr>\n",
       "    <tr>\n",
       "      <th>4</th>\n",
       "      <td>(1.522, 2.317]</td>\n",
       "      <td>0.000</td>\n",
       "      <td>0.802</td>\n",
       "      <td>-4.249</td>\n",
       "      <td>-1.642</td>\n",
       "      <td>-1.304</td>\n",
       "      <td>-2.867</td>\n",
       "      <td>-0.086</td>\n",
       "      <td>-4.955</td>\n",
       "      <td>6.712</td>\n",
       "      <td>2.410</td>\n",
       "      <td>3.127</td>\n",
       "      <td>0.428</td>\n",
       "      <td>5.912</td>\n",
       "      <td>21.649</td>\n",
       "      <td>-3.126</td>\n",
       "      <td>-4.683</td>\n",
       "    </tr>\n",
       "    <tr>\n",
       "      <th>5</th>\n",
       "      <td>(2.317, 2.896]</td>\n",
       "      <td>-0.000</td>\n",
       "      <td>-0.001</td>\n",
       "      <td>-0.819</td>\n",
       "      <td>-3.941</td>\n",
       "      <td>-7.153</td>\n",
       "      <td>-7.943</td>\n",
       "      <td>-4.409</td>\n",
       "      <td>-12.061</td>\n",
       "      <td>0.335</td>\n",
       "      <td>-0.659</td>\n",
       "      <td>0.177</td>\n",
       "      <td>-0.184</td>\n",
       "      <td>0.150</td>\n",
       "      <td>0.724</td>\n",
       "      <td>-8.073</td>\n",
       "      <td>-11.845</td>\n",
       "    </tr>\n",
       "    <tr>\n",
       "      <th>6</th>\n",
       "      <td>total</td>\n",
       "      <td>0.000</td>\n",
       "      <td>1.528</td>\n",
       "      <td>-18.032</td>\n",
       "      <td>-5.516</td>\n",
       "      <td>-8.392</td>\n",
       "      <td>-10.835</td>\n",
       "      <td>-3.518</td>\n",
       "      <td>-17.165</td>\n",
       "      <td>8.152</td>\n",
       "      <td>1.844</td>\n",
       "      <td>7.919</td>\n",
       "      <td>1.244</td>\n",
       "      <td>6.979</td>\n",
       "      <td>41.502</td>\n",
       "      <td>-11.240</td>\n",
       "      <td>-16.665</td>\n",
       "    </tr>\n",
       "  </tbody>\n",
       "</table>\n",
       "</div>"
      ],
      "text/plain": [
       "       bins/total  ztilde    eps       a  bus_inc     ys      ks  kappa  \\\n",
       "0  (-1.0, 0.432]  0.000   0.166  -3.527  -0.000   0.000  0.000   0.442    \n",
       "1  (0.432, 0.657] 0.000   0.109  -2.547  0.001    0.000  0.000   0.141    \n",
       "2  (0.657, 1.0]   0.000   0.165  -3.133  0.025    0.015  0.012   0.403    \n",
       "3  (1.0, 1.522]   -0.000  0.287  -3.757  0.042    0.049  -0.038  -0.010   \n",
       "4  (1.522, 2.317] 0.000   0.802  -4.249  -1.642   -1.304 -2.867  -0.086   \n",
       "5  (2.317, 2.896] -0.000  -0.001 -0.819  -3.941   -7.153 -7.943  -4.409   \n",
       "6  total          0.000   1.528  -18.032 -5.516   -8.392 -10.835 -3.518   \n",
       "\n",
       "       ns    hy   hkap  ztilde_meas  zkapphi    ne  measured_markups     pys  \\\n",
       "0 0.000   0.000 0.027  1.022        0.158    0.005 0.794             0.000     \n",
       "1 0.000   0.003 0.018  0.897        0.156    0.005 3.072             0.000     \n",
       "2 0.003   0.096 0.029  1.058        0.335    0.084 7.319             0.012     \n",
       "3 -0.152  1.006 0.019  1.638        0.351    0.823 7.944             -0.052    \n",
       "4 -4.955  6.712 2.410  3.127        0.428    5.912 21.649            -3.126    \n",
       "5 -12.061 0.335 -0.659 0.177        -0.184   0.150 0.724             -8.073    \n",
       "6 -17.165 8.152 1.844  7.919        1.244    6.979 41.502            -11.240   \n",
       "\n",
       "      wns  \n",
       "0 0.000    \n",
       "1 0.000    \n",
       "2 0.003    \n",
       "3 -0.141   \n",
       "4 -4.683   \n",
       "5 -11.845  \n",
       "6 -16.665  "
      ]
     },
     "execution_count": 54,
     "metadata": {},
     "output_type": "execute_result"
    }
   ],
   "source": [
    "format_table(intensive_alt,intensive_alt.sum())   "
   ]
  },
  {
   "cell_type": "markdown",
   "metadata": {},
   "source": [
    "### Extensive"
   ]
  },
  {
   "cell_type": "code",
   "execution_count": 55,
   "metadata": {},
   "outputs": [
    {
     "data": {
      "text/html": [
       "<div>\n",
       "<style scoped>\n",
       "    .dataframe tbody tr th:only-of-type {\n",
       "        vertical-align: middle;\n",
       "    }\n",
       "\n",
       "    .dataframe tbody tr th {\n",
       "        vertical-align: top;\n",
       "    }\n",
       "\n",
       "    .dataframe thead th {\n",
       "        text-align: right;\n",
       "    }\n",
       "</style>\n",
       "<table border=\"1\" class=\"dataframe\">\n",
       "  <thead>\n",
       "    <tr style=\"text-align: right;\">\n",
       "      <th></th>\n",
       "      <th>bins/total</th>\n",
       "      <th>ztilde</th>\n",
       "      <th>eps</th>\n",
       "      <th>a</th>\n",
       "      <th>bus_inc</th>\n",
       "      <th>ys</th>\n",
       "      <th>ks</th>\n",
       "      <th>kappa</th>\n",
       "      <th>ns</th>\n",
       "      <th>hy</th>\n",
       "      <th>hkap</th>\n",
       "      <th>ztilde_meas</th>\n",
       "      <th>zkapphi</th>\n",
       "      <th>ne</th>\n",
       "      <th>measured_markups</th>\n",
       "      <th>pys</th>\n",
       "      <th>wns</th>\n",
       "    </tr>\n",
       "  </thead>\n",
       "  <tbody>\n",
       "    <tr>\n",
       "      <th>0</th>\n",
       "      <td>(-1.0, 0.432]</td>\n",
       "      <td>-5.052</td>\n",
       "      <td>2.071</td>\n",
       "      <td>2.367</td>\n",
       "      <td>-0.004</td>\n",
       "      <td>0.000</td>\n",
       "      <td>0.000</td>\n",
       "      <td>0.787</td>\n",
       "      <td>0.000</td>\n",
       "      <td>0.000</td>\n",
       "      <td>0.034</td>\n",
       "      <td>2.656</td>\n",
       "      <td>0.365</td>\n",
       "      <td>0.007</td>\n",
       "      <td>-20.650</td>\n",
       "      <td>0.000</td>\n",
       "      <td>0.000</td>\n",
       "    </tr>\n",
       "    <tr>\n",
       "      <th>1</th>\n",
       "      <td>(0.432, 0.657]</td>\n",
       "      <td>-1.994</td>\n",
       "      <td>1.624</td>\n",
       "      <td>1.866</td>\n",
       "      <td>-0.002</td>\n",
       "      <td>0.000</td>\n",
       "      <td>0.000</td>\n",
       "      <td>0.440</td>\n",
       "      <td>0.000</td>\n",
       "      <td>0.002</td>\n",
       "      <td>0.024</td>\n",
       "      <td>2.105</td>\n",
       "      <td>0.384</td>\n",
       "      <td>0.006</td>\n",
       "      <td>-13.301</td>\n",
       "      <td>0.000</td>\n",
       "      <td>0.000</td>\n",
       "    </tr>\n",
       "    <tr>\n",
       "      <th>2</th>\n",
       "      <td>(0.657, 1.0]</td>\n",
       "      <td>0.000</td>\n",
       "      <td>2.062</td>\n",
       "      <td>2.131</td>\n",
       "      <td>0.023</td>\n",
       "      <td>0.016</td>\n",
       "      <td>0.015</td>\n",
       "      <td>0.823</td>\n",
       "      <td>0.008</td>\n",
       "      <td>0.064</td>\n",
       "      <td>0.034</td>\n",
       "      <td>2.621</td>\n",
       "      <td>0.862</td>\n",
       "      <td>0.058</td>\n",
       "      <td>-3.359</td>\n",
       "      <td>0.015</td>\n",
       "      <td>0.008</td>\n",
       "    </tr>\n",
       "    <tr>\n",
       "      <th>3</th>\n",
       "      <td>(1.0, 1.522]</td>\n",
       "      <td>3.732</td>\n",
       "      <td>3.101</td>\n",
       "      <td>2.577</td>\n",
       "      <td>0.870</td>\n",
       "      <td>0.525</td>\n",
       "      <td>0.518</td>\n",
       "      <td>2.009</td>\n",
       "      <td>0.313</td>\n",
       "      <td>1.670</td>\n",
       "      <td>0.066</td>\n",
       "      <td>3.780</td>\n",
       "      <td>2.497</td>\n",
       "      <td>1.372</td>\n",
       "      <td>17.881</td>\n",
       "      <td>0.517</td>\n",
       "      <td>0.314</td>\n",
       "    </tr>\n",
       "    <tr>\n",
       "      <th>4</th>\n",
       "      <td>(1.522, 2.317]</td>\n",
       "      <td>15.307</td>\n",
       "      <td>6.756</td>\n",
       "      <td>3.786</td>\n",
       "      <td>9.804</td>\n",
       "      <td>8.271</td>\n",
       "      <td>8.167</td>\n",
       "      <td>6.616</td>\n",
       "      <td>6.587</td>\n",
       "      <td>12.460</td>\n",
       "      <td>12.656</td>\n",
       "      <td>6.723</td>\n",
       "      <td>9.811</td>\n",
       "      <td>12.497</td>\n",
       "      <td>29.237</td>\n",
       "      <td>8.150</td>\n",
       "      <td>6.605</td>\n",
       "    </tr>\n",
       "    <tr>\n",
       "      <th>5</th>\n",
       "      <td>(2.317, 2.896]</td>\n",
       "      <td>0.048</td>\n",
       "      <td>0.018</td>\n",
       "      <td>0.084</td>\n",
       "      <td>0.133</td>\n",
       "      <td>0.198</td>\n",
       "      <td>0.196</td>\n",
       "      <td>0.164</td>\n",
       "      <td>0.249</td>\n",
       "      <td>0.034</td>\n",
       "      <td>0.064</td>\n",
       "      <td>0.017</td>\n",
       "      <td>0.045</td>\n",
       "      <td>0.040</td>\n",
       "      <td>0.044</td>\n",
       "      <td>0.196</td>\n",
       "      <td>0.250</td>\n",
       "    </tr>\n",
       "    <tr>\n",
       "      <th>6</th>\n",
       "      <td>total</td>\n",
       "      <td>12.041</td>\n",
       "      <td>15.631</td>\n",
       "      <td>12.811</td>\n",
       "      <td>10.823</td>\n",
       "      <td>9.011</td>\n",
       "      <td>8.897</td>\n",
       "      <td>10.839</td>\n",
       "      <td>7.158</td>\n",
       "      <td>14.230</td>\n",
       "      <td>12.878</td>\n",
       "      <td>17.902</td>\n",
       "      <td>13.966</td>\n",
       "      <td>13.979</td>\n",
       "      <td>9.852</td>\n",
       "      <td>8.879</td>\n",
       "      <td>7.177</td>\n",
       "    </tr>\n",
       "  </tbody>\n",
       "</table>\n",
       "</div>"
      ],
      "text/plain": [
       "       bins/total  ztilde    eps      a  bus_inc    ys    ks  kappa    ns  \\\n",
       "0  (-1.0, 0.432]  -5.052  2.071  2.367  -0.004   0.000 0.000 0.787  0.000   \n",
       "1  (0.432, 0.657] -1.994  1.624  1.866  -0.002   0.000 0.000 0.440  0.000   \n",
       "2  (0.657, 1.0]   0.000   2.062  2.131  0.023    0.016 0.015 0.823  0.008   \n",
       "3  (1.0, 1.522]   3.732   3.101  2.577  0.870    0.525 0.518 2.009  0.313   \n",
       "4  (1.522, 2.317] 15.307  6.756  3.786  9.804    8.271 8.167 6.616  6.587   \n",
       "5  (2.317, 2.896] 0.048   0.018  0.084  0.133    0.198 0.196 0.164  0.249   \n",
       "6  total          12.041  15.631 12.811 10.823   9.011 8.897 10.839 7.158   \n",
       "\n",
       "      hy   hkap  ztilde_meas  zkapphi     ne  measured_markups   pys   wns  \n",
       "0 0.000  0.034  2.656        0.365    0.007  -20.650           0.000 0.000  \n",
       "1 0.002  0.024  2.105        0.384    0.006  -13.301           0.000 0.000  \n",
       "2 0.064  0.034  2.621        0.862    0.058  -3.359            0.015 0.008  \n",
       "3 1.670  0.066  3.780        2.497    1.372  17.881            0.517 0.314  \n",
       "4 12.460 12.656 6.723        9.811    12.497 29.237            8.150 6.605  \n",
       "5 0.034  0.064  0.017        0.045    0.040  0.044             0.196 0.250  \n",
       "6 14.230 12.878 17.902       13.966   13.979 9.852             8.879 7.177  "
      ]
     },
     "execution_count": 55,
     "metadata": {},
     "output_type": "execute_result"
    }
   ],
   "source": [
    "format_table(extensive_alt,extensive_alt.sum())   "
   ]
  },
  {
   "cell_type": "markdown",
   "metadata": {},
   "source": [
    "##  Decomposition of $\\Delta$ by Owner sweat capital"
   ]
  },
  {
   "cell_type": "code",
   "execution_count": 56,
   "metadata": {},
   "outputs": [
    {
     "name": "stdout",
     "output_type": "stream",
     "text": [
      "\n",
      "SORTED BY kappa\n",
      "BINS = [-inf, 0.0, 0.28, 0.62, 0.73, inf]\n"
     ]
    }
   ],
   "source": [
    "var_bin = 'kappa'\n",
    "num_bins=5\n",
    "tmp, bins_original = pd.qcut(df_baseline[var_bin], q = num_bins, labels=False, retbins = True)\n",
    "df_baseline['bin_' + var_bin] = tmp[:]\n",
    "bins = bins_original.copy()\n",
    "bins[0] = -np.inf\n",
    "bins[-1] = np.inf\n",
    "total,sum_baseline,intensive_alt,extensive_alt=print_results(var_bin,bins,var_list,df_baseline,df_target)\n"
   ]
  },
  {
   "cell_type": "markdown",
   "metadata": {},
   "source": [
    "### Total change"
   ]
  },
  {
   "cell_type": "code",
   "execution_count": 57,
   "metadata": {},
   "outputs": [
    {
     "data": {
      "text/html": [
       "<div>\n",
       "<style scoped>\n",
       "    .dataframe tbody tr th:only-of-type {\n",
       "        vertical-align: middle;\n",
       "    }\n",
       "\n",
       "    .dataframe tbody tr th {\n",
       "        vertical-align: top;\n",
       "    }\n",
       "\n",
       "    .dataframe thead th {\n",
       "        text-align: right;\n",
       "    }\n",
       "</style>\n",
       "<table border=\"1\" class=\"dataframe\">\n",
       "  <thead>\n",
       "    <tr style=\"text-align: right;\">\n",
       "      <th></th>\n",
       "      <th>bins/total</th>\n",
       "      <th>ztilde</th>\n",
       "      <th>eps</th>\n",
       "      <th>a</th>\n",
       "      <th>bus_inc</th>\n",
       "      <th>ys</th>\n",
       "      <th>ks</th>\n",
       "      <th>kappa</th>\n",
       "      <th>ns</th>\n",
       "      <th>hy</th>\n",
       "      <th>hkap</th>\n",
       "      <th>ztilde_meas</th>\n",
       "      <th>zkapphi</th>\n",
       "      <th>ne</th>\n",
       "      <th>measured_markups</th>\n",
       "      <th>pys</th>\n",
       "      <th>wns</th>\n",
       "    </tr>\n",
       "  </thead>\n",
       "  <tbody>\n",
       "    <tr>\n",
       "      <th>0</th>\n",
       "      <td>(-inf, 0.000151]</td>\n",
       "      <td>-0.183</td>\n",
       "      <td>1.607</td>\n",
       "      <td>-5.862</td>\n",
       "      <td>0.000</td>\n",
       "      <td>0.000</td>\n",
       "      <td>0.000</td>\n",
       "      <td>0.000</td>\n",
       "      <td>-0.000</td>\n",
       "      <td>0.000</td>\n",
       "      <td>0.000</td>\n",
       "      <td>3.650</td>\n",
       "      <td>0.243</td>\n",
       "      <td>0.000</td>\n",
       "      <td>-3.178</td>\n",
       "      <td>0.000</td>\n",
       "      <td>-0.000</td>\n",
       "    </tr>\n",
       "    <tr>\n",
       "      <th>1</th>\n",
       "      <td>(0.000151, 0.277]</td>\n",
       "      <td>0.298</td>\n",
       "      <td>3.545</td>\n",
       "      <td>-1.283</td>\n",
       "      <td>0.070</td>\n",
       "      <td>0.027</td>\n",
       "      <td>0.019</td>\n",
       "      <td>0.467</td>\n",
       "      <td>-0.009</td>\n",
       "      <td>0.233</td>\n",
       "      <td>0.035</td>\n",
       "      <td>5.807</td>\n",
       "      <td>1.741</td>\n",
       "      <td>0.197</td>\n",
       "      <td>-3.306</td>\n",
       "      <td>0.017</td>\n",
       "      <td>-0.008</td>\n",
       "    </tr>\n",
       "    <tr>\n",
       "      <th>2</th>\n",
       "      <td>(0.277, 0.624]</td>\n",
       "      <td>-0.735</td>\n",
       "      <td>4.366</td>\n",
       "      <td>0.759</td>\n",
       "      <td>1.814</td>\n",
       "      <td>0.704</td>\n",
       "      <td>0.487</td>\n",
       "      <td>3.276</td>\n",
       "      <td>-0.014</td>\n",
       "      <td>3.144</td>\n",
       "      <td>-3.324</td>\n",
       "      <td>6.799</td>\n",
       "      <td>2.887</td>\n",
       "      <td>1.941</td>\n",
       "      <td>22.133</td>\n",
       "      <td>0.451</td>\n",
       "      <td>0.021</td>\n",
       "    </tr>\n",
       "    <tr>\n",
       "      <th>3</th>\n",
       "      <td>(0.624, 0.731]</td>\n",
       "      <td>12.296</td>\n",
       "      <td>6.943</td>\n",
       "      <td>2.313</td>\n",
       "      <td>15.062</td>\n",
       "      <td>10.644</td>\n",
       "      <td>9.686</td>\n",
       "      <td>7.683</td>\n",
       "      <td>6.405</td>\n",
       "      <td>21.017</td>\n",
       "      <td>2.028</td>\n",
       "      <td>8.454</td>\n",
       "      <td>10.039</td>\n",
       "      <td>17.485</td>\n",
       "      <td>49.658</td>\n",
       "      <td>9.527</td>\n",
       "      <td>6.569</td>\n",
       "    </tr>\n",
       "    <tr>\n",
       "      <th>4</th>\n",
       "      <td>(0.731, inf]</td>\n",
       "      <td>0.365</td>\n",
       "      <td>0.699</td>\n",
       "      <td>-1.149</td>\n",
       "      <td>-11.639</td>\n",
       "      <td>-10.757</td>\n",
       "      <td>-12.129</td>\n",
       "      <td>-4.106</td>\n",
       "      <td>-16.389</td>\n",
       "      <td>-2.012</td>\n",
       "      <td>15.983</td>\n",
       "      <td>1.111</td>\n",
       "      <td>0.300</td>\n",
       "      <td>1.335</td>\n",
       "      <td>-13.951</td>\n",
       "      <td>-12.356</td>\n",
       "      <td>-16.069</td>\n",
       "    </tr>\n",
       "    <tr>\n",
       "      <th>5</th>\n",
       "      <td>total</td>\n",
       "      <td>12.041</td>\n",
       "      <td>17.160</td>\n",
       "      <td>-5.221</td>\n",
       "      <td>5.308</td>\n",
       "      <td>0.618</td>\n",
       "      <td>-1.938</td>\n",
       "      <td>7.320</td>\n",
       "      <td>-10.008</td>\n",
       "      <td>22.383</td>\n",
       "      <td>14.722</td>\n",
       "      <td>25.821</td>\n",
       "      <td>15.210</td>\n",
       "      <td>20.958</td>\n",
       "      <td>51.355</td>\n",
       "      <td>-2.361</td>\n",
       "      <td>-9.488</td>\n",
       "    </tr>\n",
       "  </tbody>\n",
       "</table>\n",
       "</div>"
      ],
      "text/plain": [
       "          bins/total  ztilde    eps      a  bus_inc      ys      ks  kappa  \\\n",
       "0  (-inf, 0.000151]  -0.183  1.607  -5.862 0.000    0.000   0.000   0.000    \n",
       "1  (0.000151, 0.277] 0.298   3.545  -1.283 0.070    0.027   0.019   0.467    \n",
       "2  (0.277, 0.624]    -0.735  4.366  0.759  1.814    0.704   0.487   3.276    \n",
       "3  (0.624, 0.731]    12.296  6.943  2.313  15.062   10.644  9.686   7.683    \n",
       "4  (0.731, inf]      0.365   0.699  -1.149 -11.639  -10.757 -12.129 -4.106   \n",
       "5  total             12.041  17.160 -5.221 5.308    0.618   -1.938  7.320    \n",
       "\n",
       "       ns     hy   hkap  ztilde_meas  zkapphi     ne  measured_markups  \\\n",
       "0 -0.000  0.000  0.000  3.650        0.243    0.000  -3.178              \n",
       "1 -0.009  0.233  0.035  5.807        1.741    0.197  -3.306              \n",
       "2 -0.014  3.144  -3.324 6.799        2.887    1.941  22.133              \n",
       "3 6.405   21.017 2.028  8.454        10.039   17.485 49.658              \n",
       "4 -16.389 -2.012 15.983 1.111        0.300    1.335  -13.951             \n",
       "5 -10.008 22.383 14.722 25.821       15.210   20.958 51.355              \n",
       "\n",
       "      pys     wns  \n",
       "0 0.000   -0.000   \n",
       "1 0.017   -0.008   \n",
       "2 0.451   0.021    \n",
       "3 9.527   6.569    \n",
       "4 -12.356 -16.069  \n",
       "5 -2.361  -9.488   "
      ]
     },
     "execution_count": 57,
     "metadata": {},
     "output_type": "execute_result"
    }
   ],
   "source": [
    "agg= 100*total/sum_baseline.sum()  \n",
    "aggsum=100*total.sum()/sum_baseline.sum()\n",
    "format_table(agg,aggsum)   "
   ]
  },
  {
   "cell_type": "markdown",
   "metadata": {},
   "source": [
    "### Intensive "
   ]
  },
  {
   "cell_type": "code",
   "execution_count": 58,
   "metadata": {},
   "outputs": [
    {
     "data": {
      "text/html": [
       "<div>\n",
       "<style scoped>\n",
       "    .dataframe tbody tr th:only-of-type {\n",
       "        vertical-align: middle;\n",
       "    }\n",
       "\n",
       "    .dataframe tbody tr th {\n",
       "        vertical-align: top;\n",
       "    }\n",
       "\n",
       "    .dataframe thead th {\n",
       "        text-align: right;\n",
       "    }\n",
       "</style>\n",
       "<table border=\"1\" class=\"dataframe\">\n",
       "  <thead>\n",
       "    <tr style=\"text-align: right;\">\n",
       "      <th></th>\n",
       "      <th>bins/total</th>\n",
       "      <th>ztilde</th>\n",
       "      <th>eps</th>\n",
       "      <th>a</th>\n",
       "      <th>bus_inc</th>\n",
       "      <th>ys</th>\n",
       "      <th>ks</th>\n",
       "      <th>kappa</th>\n",
       "      <th>ns</th>\n",
       "      <th>hy</th>\n",
       "      <th>hkap</th>\n",
       "      <th>ztilde_meas</th>\n",
       "      <th>zkapphi</th>\n",
       "      <th>ne</th>\n",
       "      <th>measured_markups</th>\n",
       "      <th>pys</th>\n",
       "      <th>wns</th>\n",
       "    </tr>\n",
       "  </thead>\n",
       "  <tbody>\n",
       "    <tr>\n",
       "      <th>0</th>\n",
       "      <td>(-inf, 0.000151]</td>\n",
       "      <td>-0.099</td>\n",
       "      <td>0.197</td>\n",
       "      <td>-7.962</td>\n",
       "      <td>0.000</td>\n",
       "      <td>-0.000</td>\n",
       "      <td>-0.000</td>\n",
       "      <td>0.000</td>\n",
       "      <td>-0.000</td>\n",
       "      <td>0.000</td>\n",
       "      <td>0.000</td>\n",
       "      <td>1.611</td>\n",
       "      <td>0.091</td>\n",
       "      <td>0.000</td>\n",
       "      <td>2.638</td>\n",
       "      <td>-0.000</td>\n",
       "      <td>-0.000</td>\n",
       "    </tr>\n",
       "    <tr>\n",
       "      <th>1</th>\n",
       "      <td>(0.000151, 0.277]</td>\n",
       "      <td>0.049</td>\n",
       "      <td>0.415</td>\n",
       "      <td>-4.826</td>\n",
       "      <td>0.028</td>\n",
       "      <td>-0.019</td>\n",
       "      <td>-0.027</td>\n",
       "      <td>0.138</td>\n",
       "      <td>-0.041</td>\n",
       "      <td>0.114</td>\n",
       "      <td>-0.286</td>\n",
       "      <td>1.974</td>\n",
       "      <td>0.086</td>\n",
       "      <td>0.040</td>\n",
       "      <td>5.515</td>\n",
       "      <td>-0.028</td>\n",
       "      <td>-0.040</td>\n",
       "    </tr>\n",
       "    <tr>\n",
       "      <th>2</th>\n",
       "      <td>(0.277, 0.624]</td>\n",
       "      <td>-4.134</td>\n",
       "      <td>0.243</td>\n",
       "      <td>-1.264</td>\n",
       "      <td>-0.066</td>\n",
       "      <td>-0.792</td>\n",
       "      <td>-0.992</td>\n",
       "      <td>-0.064</td>\n",
       "      <td>-1.119</td>\n",
       "      <td>0.193</td>\n",
       "      <td>-6.042</td>\n",
       "      <td>1.766</td>\n",
       "      <td>-1.378</td>\n",
       "      <td>-0.967</td>\n",
       "      <td>9.230</td>\n",
       "      <td>-1.025</td>\n",
       "      <td>-1.088</td>\n",
       "    </tr>\n",
       "    <tr>\n",
       "      <th>3</th>\n",
       "      <td>(0.624, 0.731]</td>\n",
       "      <td>0.333</td>\n",
       "      <td>-0.118</td>\n",
       "      <td>0.057</td>\n",
       "      <td>2.539</td>\n",
       "      <td>1.376</td>\n",
       "      <td>0.538</td>\n",
       "      <td>-0.102</td>\n",
       "      <td>-0.842</td>\n",
       "      <td>6.240</td>\n",
       "      <td>-3.139</td>\n",
       "      <td>1.369</td>\n",
       "      <td>0.261</td>\n",
       "      <td>4.496</td>\n",
       "      <td>10.049</td>\n",
       "      <td>0.399</td>\n",
       "      <td>-0.699</td>\n",
       "    </tr>\n",
       "    <tr>\n",
       "      <th>4</th>\n",
       "      <td>(0.731, inf]</td>\n",
       "      <td>-0.515</td>\n",
       "      <td>0.331</td>\n",
       "      <td>-1.605</td>\n",
       "      <td>-12.575</td>\n",
       "      <td>-11.912</td>\n",
       "      <td>-13.270</td>\n",
       "      <td>-5.191</td>\n",
       "      <td>-17.625</td>\n",
       "      <td>-2.831</td>\n",
       "      <td>14.573</td>\n",
       "      <td>1.251</td>\n",
       "      <td>-0.408</td>\n",
       "      <td>0.406</td>\n",
       "      <td>-14.671</td>\n",
       "      <td>-13.495</td>\n",
       "      <td>-17.308</td>\n",
       "    </tr>\n",
       "    <tr>\n",
       "      <th>5</th>\n",
       "      <td>total</td>\n",
       "      <td>-4.366</td>\n",
       "      <td>1.067</td>\n",
       "      <td>-15.600</td>\n",
       "      <td>-10.074</td>\n",
       "      <td>-11.347</td>\n",
       "      <td>-13.751</td>\n",
       "      <td>-5.219</td>\n",
       "      <td>-19.628</td>\n",
       "      <td>3.717</td>\n",
       "      <td>5.106</td>\n",
       "      <td>7.971</td>\n",
       "      <td>-1.348</td>\n",
       "      <td>3.975</td>\n",
       "      <td>12.762</td>\n",
       "      <td>-14.149</td>\n",
       "      <td>-19.135</td>\n",
       "    </tr>\n",
       "  </tbody>\n",
       "</table>\n",
       "</div>"
      ],
      "text/plain": [
       "          bins/total  ztilde    eps       a  bus_inc      ys      ks  kappa  \\\n",
       "0  (-inf, 0.000151]  -0.099  0.197  -7.962  0.000    -0.000  -0.000  0.000    \n",
       "1  (0.000151, 0.277] 0.049   0.415  -4.826  0.028    -0.019  -0.027  0.138    \n",
       "2  (0.277, 0.624]    -4.134  0.243  -1.264  -0.066   -0.792  -0.992  -0.064   \n",
       "3  (0.624, 0.731]    0.333   -0.118 0.057   2.539    1.376   0.538   -0.102   \n",
       "4  (0.731, inf]      -0.515  0.331  -1.605  -12.575  -11.912 -13.270 -5.191   \n",
       "5  total             -4.366  1.067  -15.600 -10.074  -11.347 -13.751 -5.219   \n",
       "\n",
       "       ns     hy   hkap  ztilde_meas  zkapphi     ne  measured_markups  \\\n",
       "0 -0.000  0.000  0.000  1.611        0.091    0.000  2.638               \n",
       "1 -0.041  0.114  -0.286 1.974        0.086    0.040  5.515               \n",
       "2 -1.119  0.193  -6.042 1.766        -1.378   -0.967 9.230               \n",
       "3 -0.842  6.240  -3.139 1.369        0.261    4.496  10.049              \n",
       "4 -17.625 -2.831 14.573 1.251        -0.408   0.406  -14.671             \n",
       "5 -19.628 3.717  5.106  7.971        -1.348   3.975  12.762              \n",
       "\n",
       "      pys     wns  \n",
       "0 -0.000  -0.000   \n",
       "1 -0.028  -0.040   \n",
       "2 -1.025  -1.088   \n",
       "3 0.399   -0.699   \n",
       "4 -13.495 -17.308  \n",
       "5 -14.149 -19.135  "
      ]
     },
     "execution_count": 58,
     "metadata": {},
     "output_type": "execute_result"
    }
   ],
   "source": [
    "format_table(intensive_alt,intensive_alt.sum())   "
   ]
  },
  {
   "cell_type": "markdown",
   "metadata": {},
   "source": [
    "### Extensive"
   ]
  },
  {
   "cell_type": "code",
   "execution_count": 59,
   "metadata": {},
   "outputs": [
    {
     "data": {
      "text/html": [
       "<div>\n",
       "<style scoped>\n",
       "    .dataframe tbody tr th:only-of-type {\n",
       "        vertical-align: middle;\n",
       "    }\n",
       "\n",
       "    .dataframe tbody tr th {\n",
       "        vertical-align: top;\n",
       "    }\n",
       "\n",
       "    .dataframe thead th {\n",
       "        text-align: right;\n",
       "    }\n",
       "</style>\n",
       "<table border=\"1\" class=\"dataframe\">\n",
       "  <thead>\n",
       "    <tr style=\"text-align: right;\">\n",
       "      <th></th>\n",
       "      <th>bins/total</th>\n",
       "      <th>ztilde</th>\n",
       "      <th>eps</th>\n",
       "      <th>a</th>\n",
       "      <th>bus_inc</th>\n",
       "      <th>ys</th>\n",
       "      <th>ks</th>\n",
       "      <th>kappa</th>\n",
       "      <th>ns</th>\n",
       "      <th>hy</th>\n",
       "      <th>hkap</th>\n",
       "      <th>ztilde_meas</th>\n",
       "      <th>zkapphi</th>\n",
       "      <th>ne</th>\n",
       "      <th>measured_markups</th>\n",
       "      <th>pys</th>\n",
       "      <th>wns</th>\n",
       "    </tr>\n",
       "  </thead>\n",
       "  <tbody>\n",
       "    <tr>\n",
       "      <th>0</th>\n",
       "      <td>(-inf, 0.000151]</td>\n",
       "      <td>-0.083</td>\n",
       "      <td>1.410</td>\n",
       "      <td>2.100</td>\n",
       "      <td>0.000</td>\n",
       "      <td>0.000</td>\n",
       "      <td>0.000</td>\n",
       "      <td>0.000</td>\n",
       "      <td>0.000</td>\n",
       "      <td>0.000</td>\n",
       "      <td>0.000</td>\n",
       "      <td>2.039</td>\n",
       "      <td>0.152</td>\n",
       "      <td>0.000</td>\n",
       "      <td>-5.817</td>\n",
       "      <td>0.000</td>\n",
       "      <td>0.000</td>\n",
       "    </tr>\n",
       "    <tr>\n",
       "      <th>1</th>\n",
       "      <td>(0.000151, 0.277]</td>\n",
       "      <td>0.249</td>\n",
       "      <td>3.131</td>\n",
       "      <td>3.543</td>\n",
       "      <td>0.041</td>\n",
       "      <td>0.046</td>\n",
       "      <td>0.046</td>\n",
       "      <td>0.330</td>\n",
       "      <td>0.032</td>\n",
       "      <td>0.119</td>\n",
       "      <td>0.320</td>\n",
       "      <td>3.832</td>\n",
       "      <td>1.655</td>\n",
       "      <td>0.157</td>\n",
       "      <td>-8.821</td>\n",
       "      <td>0.045</td>\n",
       "      <td>0.032</td>\n",
       "    </tr>\n",
       "    <tr>\n",
       "      <th>2</th>\n",
       "      <td>(0.277, 0.624]</td>\n",
       "      <td>3.399</td>\n",
       "      <td>4.123</td>\n",
       "      <td>2.023</td>\n",
       "      <td>1.881</td>\n",
       "      <td>1.496</td>\n",
       "      <td>1.478</td>\n",
       "      <td>3.340</td>\n",
       "      <td>1.105</td>\n",
       "      <td>2.951</td>\n",
       "      <td>2.718</td>\n",
       "      <td>5.033</td>\n",
       "      <td>4.266</td>\n",
       "      <td>2.908</td>\n",
       "      <td>12.903</td>\n",
       "      <td>1.475</td>\n",
       "      <td>1.108</td>\n",
       "    </tr>\n",
       "    <tr>\n",
       "      <th>3</th>\n",
       "      <td>(0.624, 0.731]</td>\n",
       "      <td>11.963</td>\n",
       "      <td>7.061</td>\n",
       "      <td>2.256</td>\n",
       "      <td>12.523</td>\n",
       "      <td>9.268</td>\n",
       "      <td>9.148</td>\n",
       "      <td>7.785</td>\n",
       "      <td>7.247</td>\n",
       "      <td>14.777</td>\n",
       "      <td>5.167</td>\n",
       "      <td>7.084</td>\n",
       "      <td>9.778</td>\n",
       "      <td>12.989</td>\n",
       "      <td>39.608</td>\n",
       "      <td>9.128</td>\n",
       "      <td>7.267</td>\n",
       "    </tr>\n",
       "    <tr>\n",
       "      <th>4</th>\n",
       "      <td>(0.731, inf]</td>\n",
       "      <td>0.879</td>\n",
       "      <td>0.368</td>\n",
       "      <td>0.456</td>\n",
       "      <td>0.937</td>\n",
       "      <td>1.154</td>\n",
       "      <td>1.141</td>\n",
       "      <td>1.085</td>\n",
       "      <td>1.236</td>\n",
       "      <td>0.819</td>\n",
       "      <td>1.410</td>\n",
       "      <td>-0.140</td>\n",
       "      <td>0.707</td>\n",
       "      <td>0.929</td>\n",
       "      <td>0.719</td>\n",
       "      <td>1.139</td>\n",
       "      <td>1.239</td>\n",
       "    </tr>\n",
       "    <tr>\n",
       "      <th>5</th>\n",
       "      <td>total</td>\n",
       "      <td>16.407</td>\n",
       "      <td>16.093</td>\n",
       "      <td>10.379</td>\n",
       "      <td>15.382</td>\n",
       "      <td>11.965</td>\n",
       "      <td>11.813</td>\n",
       "      <td>12.540</td>\n",
       "      <td>9.620</td>\n",
       "      <td>18.666</td>\n",
       "      <td>9.616</td>\n",
       "      <td>17.850</td>\n",
       "      <td>16.558</td>\n",
       "      <td>16.982</td>\n",
       "      <td>38.593</td>\n",
       "      <td>11.788</td>\n",
       "      <td>9.647</td>\n",
       "    </tr>\n",
       "  </tbody>\n",
       "</table>\n",
       "</div>"
      ],
      "text/plain": [
       "          bins/total  ztilde    eps      a  bus_inc     ys     ks  kappa  \\\n",
       "0  (-inf, 0.000151]  -0.083  1.410  2.100  0.000    0.000  0.000  0.000    \n",
       "1  (0.000151, 0.277] 0.249   3.131  3.543  0.041    0.046  0.046  0.330    \n",
       "2  (0.277, 0.624]    3.399   4.123  2.023  1.881    1.496  1.478  3.340    \n",
       "3  (0.624, 0.731]    11.963  7.061  2.256  12.523   9.268  9.148  7.785    \n",
       "4  (0.731, inf]      0.879   0.368  0.456  0.937    1.154  1.141  1.085    \n",
       "5  total             16.407  16.093 10.379 15.382   11.965 11.813 12.540   \n",
       "\n",
       "     ns     hy  hkap  ztilde_meas  zkapphi     ne  measured_markups    pys  \\\n",
       "0 0.000 0.000  0.000 2.039        0.152    0.000  -5.817            0.000    \n",
       "1 0.032 0.119  0.320 3.832        1.655    0.157  -8.821            0.045    \n",
       "2 1.105 2.951  2.718 5.033        4.266    2.908  12.903            1.475    \n",
       "3 7.247 14.777 5.167 7.084        9.778    12.989 39.608            9.128    \n",
       "4 1.236 0.819  1.410 -0.140       0.707    0.929  0.719             1.139    \n",
       "5 9.620 18.666 9.616 17.850       16.558   16.982 38.593            11.788   \n",
       "\n",
       "    wns  \n",
       "0 0.000  \n",
       "1 0.032  \n",
       "2 1.108  \n",
       "3 7.267  \n",
       "4 1.239  \n",
       "5 9.647  "
      ]
     },
     "execution_count": 59,
     "metadata": {},
     "output_type": "execute_result"
    }
   ],
   "source": [
    "format_table(extensive_alt,extensive_alt.sum())   "
   ]
  },
  {
   "cell_type": "markdown",
   "metadata": {},
   "source": [
    "##   Decomposition of $\\Delta$ by Owner Financial assets"
   ]
  },
  {
   "cell_type": "code",
   "execution_count": 60,
   "metadata": {},
   "outputs": [
    {
     "name": "stdout",
     "output_type": "stream",
     "text": [
      "\n",
      "SORTED BY a\n",
      "BINS = [-inf, 2.71, 5.98, 10.0, 17.41, inf]\n"
     ]
    }
   ],
   "source": [
    "var_bin = 'a'\n",
    "tmp, bins_original = pd.qcut(df_baseline[var_bin], q = num_bins, labels=False, retbins = True)\n",
    "df_baseline['bin_' + var_bin] = tmp[:]\n",
    "bins = bins_original.copy()\n",
    "bins[0] = -np.inf\n",
    "bins[-1] = np.inf\n",
    "total,sum_baseline,intensive_alt,extensive_alt=print_results(var_bin,bins,var_list,df_baseline,df_target)"
   ]
  },
  {
   "cell_type": "markdown",
   "metadata": {},
   "source": [
    "### Total change"
   ]
  },
  {
   "cell_type": "code",
   "execution_count": 61,
   "metadata": {},
   "outputs": [
    {
     "data": {
      "text/html": [
       "<div>\n",
       "<style scoped>\n",
       "    .dataframe tbody tr th:only-of-type {\n",
       "        vertical-align: middle;\n",
       "    }\n",
       "\n",
       "    .dataframe tbody tr th {\n",
       "        vertical-align: top;\n",
       "    }\n",
       "\n",
       "    .dataframe thead th {\n",
       "        text-align: right;\n",
       "    }\n",
       "</style>\n",
       "<table border=\"1\" class=\"dataframe\">\n",
       "  <thead>\n",
       "    <tr style=\"text-align: right;\">\n",
       "      <th></th>\n",
       "      <th>bins/total</th>\n",
       "      <th>ztilde</th>\n",
       "      <th>eps</th>\n",
       "      <th>a</th>\n",
       "      <th>bus_inc</th>\n",
       "      <th>ys</th>\n",
       "      <th>ks</th>\n",
       "      <th>kappa</th>\n",
       "      <th>ns</th>\n",
       "      <th>hy</th>\n",
       "      <th>hkap</th>\n",
       "      <th>ztilde_meas</th>\n",
       "      <th>zkapphi</th>\n",
       "      <th>ne</th>\n",
       "      <th>measured_markups</th>\n",
       "      <th>pys</th>\n",
       "      <th>wns</th>\n",
       "    </tr>\n",
       "  </thead>\n",
       "  <tbody>\n",
       "    <tr>\n",
       "      <th>0</th>\n",
       "      <td>(-inf, 2.706]</td>\n",
       "      <td>4.002</td>\n",
       "      <td>4.472</td>\n",
       "      <td>0.134</td>\n",
       "      <td>0.015</td>\n",
       "      <td>0.737</td>\n",
       "      <td>0.480</td>\n",
       "      <td>2.273</td>\n",
       "      <td>-0.204</td>\n",
       "      <td>3.327</td>\n",
       "      <td>10.311</td>\n",
       "      <td>5.782</td>\n",
       "      <td>3.831</td>\n",
       "      <td>4.626</td>\n",
       "      <td>2.390</td>\n",
       "      <td>0.438</td>\n",
       "      <td>-0.157</td>\n",
       "    </tr>\n",
       "    <tr>\n",
       "      <th>1</th>\n",
       "      <td>(2.706, 5.977]</td>\n",
       "      <td>1.149</td>\n",
       "      <td>2.265</td>\n",
       "      <td>0.322</td>\n",
       "      <td>0.695</td>\n",
       "      <td>0.374</td>\n",
       "      <td>0.002</td>\n",
       "      <td>1.254</td>\n",
       "      <td>-0.836</td>\n",
       "      <td>3.465</td>\n",
       "      <td>1.959</td>\n",
       "      <td>4.023</td>\n",
       "      <td>1.851</td>\n",
       "      <td>3.185</td>\n",
       "      <td>10.696</td>\n",
       "      <td>-0.059</td>\n",
       "      <td>-0.771</td>\n",
       "    </tr>\n",
       "    <tr>\n",
       "      <th>2</th>\n",
       "      <td>(5.977, 10.004]</td>\n",
       "      <td>0.942</td>\n",
       "      <td>4.936</td>\n",
       "      <td>1.224</td>\n",
       "      <td>1.961</td>\n",
       "      <td>1.248</td>\n",
       "      <td>0.773</td>\n",
       "      <td>2.588</td>\n",
       "      <td>-0.137</td>\n",
       "      <td>4.546</td>\n",
       "      <td>-0.073</td>\n",
       "      <td>7.294</td>\n",
       "      <td>3.172</td>\n",
       "      <td>3.687</td>\n",
       "      <td>6.613</td>\n",
       "      <td>0.694</td>\n",
       "      <td>-0.053</td>\n",
       "    </tr>\n",
       "    <tr>\n",
       "      <th>3</th>\n",
       "      <td>(10.004, 17.407]</td>\n",
       "      <td>3.813</td>\n",
       "      <td>4.543</td>\n",
       "      <td>1.706</td>\n",
       "      <td>3.736</td>\n",
       "      <td>2.679</td>\n",
       "      <td>2.119</td>\n",
       "      <td>3.926</td>\n",
       "      <td>0.700</td>\n",
       "      <td>7.074</td>\n",
       "      <td>2.724</td>\n",
       "      <td>5.871</td>\n",
       "      <td>4.528</td>\n",
       "      <td>6.265</td>\n",
       "      <td>16.731</td>\n",
       "      <td>2.026</td>\n",
       "      <td>0.800</td>\n",
       "    </tr>\n",
       "    <tr>\n",
       "      <th>4</th>\n",
       "      <td>(17.407, inf]</td>\n",
       "      <td>2.136</td>\n",
       "      <td>0.945</td>\n",
       "      <td>-8.608</td>\n",
       "      <td>-1.099</td>\n",
       "      <td>-4.420</td>\n",
       "      <td>-5.312</td>\n",
       "      <td>-2.720</td>\n",
       "      <td>-9.531</td>\n",
       "      <td>3.970</td>\n",
       "      <td>-0.199</td>\n",
       "      <td>2.852</td>\n",
       "      <td>1.827</td>\n",
       "      <td>3.195</td>\n",
       "      <td>14.925</td>\n",
       "      <td>-5.459</td>\n",
       "      <td>-9.306</td>\n",
       "    </tr>\n",
       "    <tr>\n",
       "      <th>5</th>\n",
       "      <td>total</td>\n",
       "      <td>12.041</td>\n",
       "      <td>17.160</td>\n",
       "      <td>-5.221</td>\n",
       "      <td>5.308</td>\n",
       "      <td>0.618</td>\n",
       "      <td>-1.938</td>\n",
       "      <td>7.320</td>\n",
       "      <td>-10.008</td>\n",
       "      <td>22.383</td>\n",
       "      <td>14.722</td>\n",
       "      <td>25.821</td>\n",
       "      <td>15.210</td>\n",
       "      <td>20.958</td>\n",
       "      <td>51.355</td>\n",
       "      <td>-2.361</td>\n",
       "      <td>-9.488</td>\n",
       "    </tr>\n",
       "  </tbody>\n",
       "</table>\n",
       "</div>"
      ],
      "text/plain": [
       "         bins/total  ztilde    eps      a  bus_inc     ys     ks  kappa  \\\n",
       "0  (-inf, 2.706]    4.002   4.472  0.134  0.015    0.737  0.480  2.273    \n",
       "1  (2.706, 5.977]   1.149   2.265  0.322  0.695    0.374  0.002  1.254    \n",
       "2  (5.977, 10.004]  0.942   4.936  1.224  1.961    1.248  0.773  2.588    \n",
       "3  (10.004, 17.407] 3.813   4.543  1.706  3.736    2.679  2.119  3.926    \n",
       "4  (17.407, inf]    2.136   0.945  -8.608 -1.099   -4.420 -5.312 -2.720   \n",
       "5  total            12.041  17.160 -5.221 5.308    0.618  -1.938 7.320    \n",
       "\n",
       "       ns     hy   hkap  ztilde_meas  zkapphi     ne  measured_markups    pys  \\\n",
       "0 -0.204  3.327  10.311 5.782        3.831    4.626  2.390             0.438    \n",
       "1 -0.836  3.465  1.959  4.023        1.851    3.185  10.696            -0.059   \n",
       "2 -0.137  4.546  -0.073 7.294        3.172    3.687  6.613             0.694    \n",
       "3 0.700   7.074  2.724  5.871        4.528    6.265  16.731            2.026    \n",
       "4 -9.531  3.970  -0.199 2.852        1.827    3.195  14.925            -5.459   \n",
       "5 -10.008 22.383 14.722 25.821       15.210   20.958 51.355            -2.361   \n",
       "\n",
       "     wns  \n",
       "0 -0.157  \n",
       "1 -0.771  \n",
       "2 -0.053  \n",
       "3 0.800   \n",
       "4 -9.306  \n",
       "5 -9.488  "
      ]
     },
     "execution_count": 61,
     "metadata": {},
     "output_type": "execute_result"
    }
   ],
   "source": [
    "agg= 100*total/sum_baseline.sum()  \n",
    "aggsum=100*total.sum()/sum_baseline.sum()   \n",
    "format_table(agg,aggsum)   "
   ]
  },
  {
   "cell_type": "markdown",
   "metadata": {},
   "source": [
    "### Intensive "
   ]
  },
  {
   "cell_type": "code",
   "execution_count": 62,
   "metadata": {},
   "outputs": [
    {
     "data": {
      "text/html": [
       "<div>\n",
       "<style scoped>\n",
       "    .dataframe tbody tr th:only-of-type {\n",
       "        vertical-align: middle;\n",
       "    }\n",
       "\n",
       "    .dataframe tbody tr th {\n",
       "        vertical-align: top;\n",
       "    }\n",
       "\n",
       "    .dataframe thead th {\n",
       "        text-align: right;\n",
       "    }\n",
       "</style>\n",
       "<table border=\"1\" class=\"dataframe\">\n",
       "  <thead>\n",
       "    <tr style=\"text-align: right;\">\n",
       "      <th></th>\n",
       "      <th>bins/total</th>\n",
       "      <th>ztilde</th>\n",
       "      <th>eps</th>\n",
       "      <th>a</th>\n",
       "      <th>bus_inc</th>\n",
       "      <th>ys</th>\n",
       "      <th>ks</th>\n",
       "      <th>kappa</th>\n",
       "      <th>ns</th>\n",
       "      <th>hy</th>\n",
       "      <th>hkap</th>\n",
       "      <th>ztilde_meas</th>\n",
       "      <th>zkapphi</th>\n",
       "      <th>ne</th>\n",
       "      <th>measured_markups</th>\n",
       "      <th>pys</th>\n",
       "      <th>wns</th>\n",
       "    </tr>\n",
       "  </thead>\n",
       "  <tbody>\n",
       "    <tr>\n",
       "      <th>0</th>\n",
       "      <td>(-inf, 2.706]</td>\n",
       "      <td>0.754</td>\n",
       "      <td>0.916</td>\n",
       "      <td>0.008</td>\n",
       "      <td>-1.236</td>\n",
       "      <td>-0.955</td>\n",
       "      <td>-1.192</td>\n",
       "      <td>-0.082</td>\n",
       "      <td>-1.626</td>\n",
       "      <td>0.668</td>\n",
       "      <td>4.239</td>\n",
       "      <td>1.369</td>\n",
       "      <td>0.641</td>\n",
       "      <td>1.332</td>\n",
       "      <td>3.140</td>\n",
       "      <td>-1.231</td>\n",
       "      <td>-1.583</td>\n",
       "    </tr>\n",
       "    <tr>\n",
       "      <th>1</th>\n",
       "      <td>(2.706, 5.977]</td>\n",
       "      <td>-0.801</td>\n",
       "      <td>0.111</td>\n",
       "      <td>0.021</td>\n",
       "      <td>-1.020</td>\n",
       "      <td>-1.112</td>\n",
       "      <td>-1.466</td>\n",
       "      <td>-0.354</td>\n",
       "      <td>-2.032</td>\n",
       "      <td>1.152</td>\n",
       "      <td>-0.259</td>\n",
       "      <td>1.520</td>\n",
       "      <td>-0.226</td>\n",
       "      <td>0.890</td>\n",
       "      <td>7.619</td>\n",
       "      <td>-1.525</td>\n",
       "      <td>-1.971</td>\n",
       "    </tr>\n",
       "    <tr>\n",
       "      <th>2</th>\n",
       "      <td>(5.977, 10.004]</td>\n",
       "      <td>-4.074</td>\n",
       "      <td>0.082</td>\n",
       "      <td>0.008</td>\n",
       "      <td>-2.794</td>\n",
       "      <td>-2.650</td>\n",
       "      <td>-3.079</td>\n",
       "      <td>-1.331</td>\n",
       "      <td>-3.282</td>\n",
       "      <td>-1.365</td>\n",
       "      <td>-4.408</td>\n",
       "      <td>1.950</td>\n",
       "      <td>-1.850</td>\n",
       "      <td>-1.931</td>\n",
       "      <td>-3.226</td>\n",
       "      <td>-3.150</td>\n",
       "      <td>-3.207</td>\n",
       "    </tr>\n",
       "    <tr>\n",
       "      <th>3</th>\n",
       "      <td>(10.004, 17.407]</td>\n",
       "      <td>-1.130</td>\n",
       "      <td>0.293</td>\n",
       "      <td>-0.017</td>\n",
       "      <td>-1.051</td>\n",
       "      <td>-1.203</td>\n",
       "      <td>-1.716</td>\n",
       "      <td>0.242</td>\n",
       "      <td>-2.492</td>\n",
       "      <td>1.472</td>\n",
       "      <td>-0.638</td>\n",
       "      <td>1.496</td>\n",
       "      <td>-0.131</td>\n",
       "      <td>1.080</td>\n",
       "      <td>6.179</td>\n",
       "      <td>-1.801</td>\n",
       "      <td>-2.401</td>\n",
       "    </tr>\n",
       "    <tr>\n",
       "      <th>4</th>\n",
       "      <td>(17.407, inf]</td>\n",
       "      <td>1.446</td>\n",
       "      <td>0.146</td>\n",
       "      <td>-11.533</td>\n",
       "      <td>-2.254</td>\n",
       "      <td>-5.805</td>\n",
       "      <td>-6.680</td>\n",
       "      <td>-4.071</td>\n",
       "      <td>-11.156</td>\n",
       "      <td>3.392</td>\n",
       "      <td>-0.662</td>\n",
       "      <td>1.547</td>\n",
       "      <td>1.064</td>\n",
       "      <td>2.638</td>\n",
       "      <td>15.125</td>\n",
       "      <td>-6.825</td>\n",
       "      <td>-10.935</td>\n",
       "    </tr>\n",
       "    <tr>\n",
       "      <th>5</th>\n",
       "      <td>total</td>\n",
       "      <td>-3.804</td>\n",
       "      <td>1.549</td>\n",
       "      <td>-11.512</td>\n",
       "      <td>-8.356</td>\n",
       "      <td>-11.725</td>\n",
       "      <td>-14.133</td>\n",
       "      <td>-5.596</td>\n",
       "      <td>-20.589</td>\n",
       "      <td>5.319</td>\n",
       "      <td>-1.727</td>\n",
       "      <td>7.883</td>\n",
       "      <td>-0.502</td>\n",
       "      <td>4.009</td>\n",
       "      <td>28.836</td>\n",
       "      <td>-14.532</td>\n",
       "      <td>-20.097</td>\n",
       "    </tr>\n",
       "  </tbody>\n",
       "</table>\n",
       "</div>"
      ],
      "text/plain": [
       "         bins/total  ztilde   eps       a  bus_inc      ys      ks  kappa  \\\n",
       "0  (-inf, 2.706]    0.754   0.916 0.008   -1.236   -0.955  -1.192  -0.082   \n",
       "1  (2.706, 5.977]   -0.801  0.111 0.021   -1.020   -1.112  -1.466  -0.354   \n",
       "2  (5.977, 10.004]  -4.074  0.082 0.008   -2.794   -2.650  -3.079  -1.331   \n",
       "3  (10.004, 17.407] -1.130  0.293 -0.017  -1.051   -1.203  -1.716  0.242    \n",
       "4  (17.407, inf]    1.446   0.146 -11.533 -2.254   -5.805  -6.680  -4.071   \n",
       "5  total            -3.804  1.549 -11.512 -8.356   -11.725 -14.133 -5.596   \n",
       "\n",
       "       ns     hy   hkap  ztilde_meas  zkapphi     ne  measured_markups  \\\n",
       "0 -1.626  0.668  4.239  1.369        0.641    1.332  3.140               \n",
       "1 -2.032  1.152  -0.259 1.520        -0.226   0.890  7.619               \n",
       "2 -3.282  -1.365 -4.408 1.950        -1.850   -1.931 -3.226              \n",
       "3 -2.492  1.472  -0.638 1.496        -0.131   1.080  6.179               \n",
       "4 -11.156 3.392  -0.662 1.547        1.064    2.638  15.125              \n",
       "5 -20.589 5.319  -1.727 7.883        -0.502   4.009  28.836              \n",
       "\n",
       "      pys     wns  \n",
       "0 -1.231  -1.583   \n",
       "1 -1.525  -1.971   \n",
       "2 -3.150  -3.207   \n",
       "3 -1.801  -2.401   \n",
       "4 -6.825  -10.935  \n",
       "5 -14.532 -20.097  "
      ]
     },
     "execution_count": 62,
     "metadata": {},
     "output_type": "execute_result"
    }
   ],
   "source": [
    "format_table(intensive_alt,intensive_alt.sum())   "
   ]
  },
  {
   "cell_type": "markdown",
   "metadata": {},
   "source": [
    "### Extensive"
   ]
  },
  {
   "cell_type": "code",
   "execution_count": 63,
   "metadata": {},
   "outputs": [
    {
     "data": {
      "text/html": [
       "<div>\n",
       "<style scoped>\n",
       "    .dataframe tbody tr th:only-of-type {\n",
       "        vertical-align: middle;\n",
       "    }\n",
       "\n",
       "    .dataframe tbody tr th {\n",
       "        vertical-align: top;\n",
       "    }\n",
       "\n",
       "    .dataframe thead th {\n",
       "        text-align: right;\n",
       "    }\n",
       "</style>\n",
       "<table border=\"1\" class=\"dataframe\">\n",
       "  <thead>\n",
       "    <tr style=\"text-align: right;\">\n",
       "      <th></th>\n",
       "      <th>bins/total</th>\n",
       "      <th>ztilde</th>\n",
       "      <th>eps</th>\n",
       "      <th>a</th>\n",
       "      <th>bus_inc</th>\n",
       "      <th>ys</th>\n",
       "      <th>ks</th>\n",
       "      <th>kappa</th>\n",
       "      <th>ns</th>\n",
       "      <th>hy</th>\n",
       "      <th>hkap</th>\n",
       "      <th>ztilde_meas</th>\n",
       "      <th>zkapphi</th>\n",
       "      <th>ne</th>\n",
       "      <th>measured_markups</th>\n",
       "      <th>pys</th>\n",
       "      <th>wns</th>\n",
       "    </tr>\n",
       "  </thead>\n",
       "  <tbody>\n",
       "    <tr>\n",
       "      <th>0</th>\n",
       "      <td>(-inf, 2.706]</td>\n",
       "      <td>3.248</td>\n",
       "      <td>3.556</td>\n",
       "      <td>0.126</td>\n",
       "      <td>1.251</td>\n",
       "      <td>1.692</td>\n",
       "      <td>1.672</td>\n",
       "      <td>2.354</td>\n",
       "      <td>1.422</td>\n",
       "      <td>2.660</td>\n",
       "      <td>6.072</td>\n",
       "      <td>4.413</td>\n",
       "      <td>3.191</td>\n",
       "      <td>3.294</td>\n",
       "      <td>-0.750</td>\n",
       "      <td>1.669</td>\n",
       "      <td>1.425</td>\n",
       "    </tr>\n",
       "    <tr>\n",
       "      <th>1</th>\n",
       "      <td>(2.706, 5.977]</td>\n",
       "      <td>1.949</td>\n",
       "      <td>2.153</td>\n",
       "      <td>0.301</td>\n",
       "      <td>1.715</td>\n",
       "      <td>1.486</td>\n",
       "      <td>1.468</td>\n",
       "      <td>1.607</td>\n",
       "      <td>1.196</td>\n",
       "      <td>2.313</td>\n",
       "      <td>2.218</td>\n",
       "      <td>2.502</td>\n",
       "      <td>2.077</td>\n",
       "      <td>2.295</td>\n",
       "      <td>3.078</td>\n",
       "      <td>1.465</td>\n",
       "      <td>1.199</td>\n",
       "    </tr>\n",
       "    <tr>\n",
       "      <th>2</th>\n",
       "      <td>(5.977, 10.004]</td>\n",
       "      <td>5.016</td>\n",
       "      <td>4.854</td>\n",
       "      <td>1.216</td>\n",
       "      <td>4.755</td>\n",
       "      <td>3.898</td>\n",
       "      <td>3.852</td>\n",
       "      <td>3.919</td>\n",
       "      <td>3.146</td>\n",
       "      <td>5.911</td>\n",
       "      <td>4.334</td>\n",
       "      <td>5.343</td>\n",
       "      <td>5.021</td>\n",
       "      <td>5.618</td>\n",
       "      <td>9.839</td>\n",
       "      <td>3.844</td>\n",
       "      <td>3.154</td>\n",
       "    </tr>\n",
       "    <tr>\n",
       "      <th>3</th>\n",
       "      <td>(10.004, 17.407]</td>\n",
       "      <td>4.943</td>\n",
       "      <td>4.249</td>\n",
       "      <td>1.723</td>\n",
       "      <td>4.787</td>\n",
       "      <td>3.882</td>\n",
       "      <td>3.835</td>\n",
       "      <td>3.683</td>\n",
       "      <td>3.193</td>\n",
       "      <td>5.602</td>\n",
       "      <td>3.362</td>\n",
       "      <td>4.375</td>\n",
       "      <td>4.659</td>\n",
       "      <td>5.185</td>\n",
       "      <td>10.552</td>\n",
       "      <td>3.827</td>\n",
       "      <td>3.201</td>\n",
       "    </tr>\n",
       "    <tr>\n",
       "      <th>4</th>\n",
       "      <td>(17.407, inf]</td>\n",
       "      <td>0.689</td>\n",
       "      <td>0.799</td>\n",
       "      <td>2.925</td>\n",
       "      <td>1.155</td>\n",
       "      <td>1.385</td>\n",
       "      <td>1.369</td>\n",
       "      <td>1.352</td>\n",
       "      <td>1.625</td>\n",
       "      <td>0.578</td>\n",
       "      <td>0.463</td>\n",
       "      <td>1.305</td>\n",
       "      <td>0.763</td>\n",
       "      <td>0.556</td>\n",
       "      <td>-0.200</td>\n",
       "      <td>1.366</td>\n",
       "      <td>1.629</td>\n",
       "    </tr>\n",
       "    <tr>\n",
       "      <th>5</th>\n",
       "      <td>total</td>\n",
       "      <td>15.845</td>\n",
       "      <td>15.611</td>\n",
       "      <td>6.291</td>\n",
       "      <td>13.664</td>\n",
       "      <td>12.344</td>\n",
       "      <td>12.195</td>\n",
       "      <td>12.916</td>\n",
       "      <td>10.581</td>\n",
       "      <td>17.063</td>\n",
       "      <td>16.449</td>\n",
       "      <td>17.938</td>\n",
       "      <td>15.712</td>\n",
       "      <td>16.949</td>\n",
       "      <td>22.518</td>\n",
       "      <td>12.171</td>\n",
       "      <td>10.609</td>\n",
       "    </tr>\n",
       "  </tbody>\n",
       "</table>\n",
       "</div>"
      ],
      "text/plain": [
       "         bins/total  ztilde    eps     a  bus_inc     ys     ks  kappa     ns  \\\n",
       "0  (-inf, 2.706]    3.248   3.556  0.126 1.251    1.692  1.672  2.354  1.422    \n",
       "1  (2.706, 5.977]   1.949   2.153  0.301 1.715    1.486  1.468  1.607  1.196    \n",
       "2  (5.977, 10.004]  5.016   4.854  1.216 4.755    3.898  3.852  3.919  3.146    \n",
       "3  (10.004, 17.407] 4.943   4.249  1.723 4.787    3.882  3.835  3.683  3.193    \n",
       "4  (17.407, inf]    0.689   0.799  2.925 1.155    1.385  1.369  1.352  1.625    \n",
       "5  total            15.845  15.611 6.291 13.664   12.344 12.195 12.916 10.581   \n",
       "\n",
       "      hy   hkap  ztilde_meas  zkapphi     ne  measured_markups    pys    wns  \n",
       "0 2.660  6.072  4.413        3.191    3.294  -0.750            1.669  1.425   \n",
       "1 2.313  2.218  2.502        2.077    2.295  3.078             1.465  1.199   \n",
       "2 5.911  4.334  5.343        5.021    5.618  9.839             3.844  3.154   \n",
       "3 5.602  3.362  4.375        4.659    5.185  10.552            3.827  3.201   \n",
       "4 0.578  0.463  1.305        0.763    0.556  -0.200            1.366  1.629   \n",
       "5 17.063 16.449 17.938       15.712   16.949 22.518            12.171 10.609  "
      ]
     },
     "execution_count": 63,
     "metadata": {},
     "output_type": "execute_result"
    }
   ],
   "source": [
    "format_table(extensive_alt,extensive_alt.sum())   "
   ]
  },
  {
   "cell_type": "markdown",
   "metadata": {},
   "source": [
    "## Short-run Elasticities"
   ]
  },
  {
   "cell_type": "markdown",
   "metadata": {},
   "source": [
    "## Concept\n",
    "Our goal is to approximate short-run elaticities by comparing  similar agents across different levels of taxes. For this we use the optimal policies in the two economies and simulate paths for a buch of agents fixing their initial conditions and the sequence of exogenous shocks. \n",
    "\n",
    "### Implementation\n",
    "Let $\\Theta$ be the vector of parameters including tax rates and market clearing prices. Let $s^1=(a,\\kappa)$ be the vector of endogenous  state variables for an individual,;  $s^2=(\\epsilon,z,age)$ be the vector of shocks. Functions $\\mathcal{F}^x(s; \\Theta)$ be the optimal policies for choice variable $x$ and $\\mathcal{S}^1(s;\\Theta)$ the law of motion for the endogenous states under the optimal policies. We denote the ergodic distribution associated with optimal policies using $\\mu(s,\\Theta)$. We use $\\Theta^*$ for the benchmark calibrated to US policies and $\\Theta^{\\prime}$ to denote the counterfactual economy with alternative taxes.\n",
    "\n",
    "\n",
    "* We draw agents from the ergodic distribution, that is, a collection of $\\{s_{i,0}\\}_i$ from $\\mu(s,\\Theta)$. \n",
    "* We draw a sequence of exogenous shocks $\\{s^{2}_{i,t}\\}_i,t$\n",
    "* We use $\\mathcal{F}^x(s; \\Theta^{\\prime})$ and $\\mathcal{S}^1(s;\\Theta^{\\prime})$ to generate a panel for $x^{\\prime}_{i,t}$ \n",
    "$$ x^{\\prime}_{i,1}= \\mathcal{F}^x(s_{i,0}; \\Theta^{\\prime}) $$\n",
    "$$ x_{i,2}= \\mathcal{F}^x(\\mathcal{S}^1(s^{\\prime}_{i,1};\\Theta^{\\prime}),s_{2,i}; \\Theta^{\\prime})$$\n",
    "and so on\n",
    "*  We use $\\mathcal{F}^x(s; \\Theta^{*})$ and $\\mathcal{S}^1(s;\\Theta^{*})$ to generate a panel for $x^{*}_{i,t}$ \n",
    "* For a group $G$, we compute $\\Delta^{x}_{G,t}\\left(\\Theta^*,\\Theta^{\\prime}\\right)= \\frac{\\sum_{i\\in G} x^{\\prime}_{i,t} - \\sum_{i\\in G} x^{*}_{i,t}}{ \\sum_{i\\in G} x^{*}_{i,t}} $\n",
    "\n",
    "## Application\n",
    "We now compute $\\Delta^{G,x}_{i,t}$ for $x=\\{h_y+h_{\\kappa},n_s+h_y+h_{\\kappa}\\} and for $G=\\{all, by $z$\\}$ "
   ]
  },
  {
   "cell_type": "code",
   "execution_count": 64,
   "metadata": {},
   "outputs": [],
   "source": [
    "T0=0\n",
    "TN=10\n",
    "e1 = import_econ(pathtosiminitbase)\n",
    "e2 = import_econ(pathtosiminittarget)\n",
    "\n",
    "base_tot_hrs=e1.data_hy+e1.data_ns+e1.data_hkap\n",
    "tax_tot_hrs=e2.data_hy+e2.data_ns+e2.data_hkap\n",
    "base_e_hrs=e1.data_hy+e1.data_hkap\n",
    "tax_e_hrs=e2.data_hy+e2.data_hkap\n",
    "\n",
    "\n",
    "data_baseline=[]\n",
    "data_target=[]\n",
    "data=[]\n",
    "for t in range (T0,TN):\n",
    "    data=np.vstack( (e1.data_hy[:,t],\n",
    "                     e1.data_hkap[:,t],\n",
    "                     e1.data_is_c[:,t],\n",
    "                     e1.is_to_iz[e1.data_i_s[:,t]],\n",
    "                     base_tot_hrs[:,t], \n",
    "                     e1.data_ns[:,t],\n",
    "                     e1.data_a[:,t],\n",
    "                     e1.data_kap[:,t],\n",
    "                     base_e_hrs[:,t],\n",
    "                     e1.data_n[:,1]\n",
    "\n",
    "                    )  \n",
    "                  )\n",
    "    coldata=['hy','hkap','flagC','z','totalhrs','ns','a','kappa','ent_hrs','emp_hrs']\n",
    "    data=data.T\n",
    "    data_baseline.append( pd.DataFrame( data ,columns=coldata))\n",
    "    data_baseline[t].flagC=data_baseline[t].flagC.astype('bool')    \n",
    "    data_baseline[t]['flagS']=~data_baseline[t].flagC.astype('bool')\n",
    "\n",
    "    data=np.vstack( (e2.data_hy[:,t],\n",
    "                     e2.data_hkap[:,t],\n",
    "                     e2.data_is_c[:,t],\n",
    "                     e2.is_to_iz[e2.data_i_s[:,t]], \n",
    "                     tax_tot_hrs[:,t],\n",
    "                     e2.data_ns[:,t],\n",
    "                     e2.data_a[:,t],\n",
    "                     e2.data_kap[:,t],\n",
    "                     tax_e_hrs[:,t],    \n",
    "                     e2.data_n[:,t]\n",
    "                    )  \n",
    "                  )\n",
    "    data=data.T\n",
    "    data_target.append( pd.DataFrame( data ,columns=coldata))\n",
    "    data_target[t].flagC=data_target[t].flagC.astype('bool')\n",
    "    data_target[t]['flagS']=~data_target[t].flagC.astype('bool')\n",
    "   "
   ]
  },
  {
   "cell_type": "markdown",
   "metadata": {},
   "source": [
    "### Total hours in business: $n_s+h_y+h_{\\kappa}$"
   ]
  },
  {
   "cell_type": "markdown",
   "metadata": {},
   "source": [
    "All business owners"
   ]
  },
  {
   "cell_type": "code",
   "execution_count": 65,
   "metadata": {},
   "outputs": [
    {
     "data": {
      "text/plain": [
       "[<matplotlib.lines.Line2D at 0x7fc4a9f6d8d0>]"
      ]
     },
     "execution_count": 65,
     "metadata": {},
     "output_type": "execute_result"
    },
    {
     "name": "stdout",
     "output_type": "stream",
     "text": [
      "   Delta_all\n",
      "0 nan       \n",
      "1 -0.009    \n",
      "2 0.015     \n",
      "3 0.014     \n",
      "4 0.011     \n",
      "5 0.011     \n",
      "6 0.010     \n",
      "7 0.009     \n",
      "8 0.011     \n",
      "9 0.011     \n"
     ]
    },
    {
     "data": {
      "image/png": "[encoded data removed]",
      "text/plain": [
       "<Figure size 432x288 with 1 Axes>"
      ]
     },
     "metadata": {
      "needs_background": "light"
     },
     "output_type": "display_data"
    }
   ],
   "source": [
    "data_e1=[data_baseline[t].totalhrs.sum() for t in range(T0,TN)]\n",
    "data_e2=[data_target[t].totalhrs.sum() for t in range(T0,TN)]\n",
    "Delta=np.array(data_e2)/np.array(data_e1)-1\n",
    "plt.plot(Delta)\n",
    "print(pd.DataFrame(Delta,columns=['Delta_all']))"
   ]
  },
  {
   "cell_type": "markdown",
   "metadata": {},
   "source": [
    "Grouped by $z$"
   ]
  },
  {
   "cell_type": "code",
   "execution_count": 66,
   "metadata": {},
   "outputs": [
    {
     "data": {
      "text/plain": [
       "[<matplotlib.lines.Line2D at 0x7fc5aa1006a0>]"
      ]
     },
     "execution_count": 66,
     "metadata": {},
     "output_type": "execute_result"
    },
    {
     "data": {
      "text/plain": [
       "[<matplotlib.lines.Line2D at 0x7fc5d3ea46d8>]"
      ]
     },
     "execution_count": 66,
     "metadata": {},
     "output_type": "execute_result"
    },
    {
     "data": {
      "text/plain": [
       "[<matplotlib.lines.Line2D at 0x7fc5d3ea42b0>]"
      ]
     },
     "execution_count": 66,
     "metadata": {},
     "output_type": "execute_result"
    },
    {
     "data": {
      "text/plain": [
       "[<matplotlib.lines.Line2D at 0x7fc5d3ea44e0>]"
      ]
     },
     "execution_count": 66,
     "metadata": {},
     "output_type": "execute_result"
    },
    {
     "data": {
      "text/plain": [
       "[<matplotlib.lines.Line2D at 0x7fc5d3ea49e8>]"
      ]
     },
     "execution_count": 66,
     "metadata": {},
     "output_type": "execute_result"
    },
    {
     "data": {
      "text/plain": [
       "[<matplotlib.lines.Line2D at 0x7fc5d3eb6048>]"
      ]
     },
     "execution_count": 66,
     "metadata": {},
     "output_type": "execute_result"
    },
    {
     "data": {
      "text/plain": [
       "<matplotlib.legend.Legend at 0x7fc5d3ea4240>"
      ]
     },
     "execution_count": 66,
     "metadata": {},
     "output_type": "execute_result"
    },
    {
     "name": "stdout",
     "output_type": "stream",
     "text": [
      "        0      1      2      3      4      5      6      7      8      9\n",
      "0.000 nan 0.155  0.185  0.192  0.208  0.208  0.227  0.237  0.238  0.240 \n",
      "1.000 nan 0.122  0.163  0.176  0.180  0.192  0.229  0.252  0.255  0.228 \n",
      "2.000 nan 0.224  0.285  0.281  0.362  0.397  0.344  0.416  0.365  0.392 \n",
      "3.000 nan 0.054  0.121  0.159  0.182  0.189  0.191  0.216  0.216  0.217 \n",
      "4.000 nan 0.036  0.091  0.103  0.106  0.114  0.118  0.115  0.117  0.119 \n",
      "5.000 nan -0.112 -0.159 -0.189 -0.209 -0.222 -0.230 -0.234 -0.236 -0.237\n"
     ]
    },
    {
     "data": {
      "image/png": "[encoded data removed]",
      "text/plain": [
       "<Figure size 432x288 with 1 Axes>"
      ]
     },
     "metadata": {
      "needs_background": "light"
     },
     "output_type": "display_data"
    }
   ],
   "source": [
    "\n",
    "Delta=[]\n",
    "fig, ax = plt.subplots()\n",
    "for zval in np.sort(data_baseline[0].z.unique()):\n",
    "    sel_baseline=[data_baseline[t].z==zval for t in range(T0,TN)]\n",
    "    sel_target=[data_target[t].z==zval for t in range(T0,TN)]\n",
    "    data_e1=[data_baseline[t][sel_baseline[t]].totalhrs.sum() for t in range(T0,TN)]\n",
    "    data_e2=[data_target[t][sel_target[t]].totalhrs.sum() for t in range(T0,TN)]\n",
    "    temp=np.array(data_e2)/np.array(data_e1)-1\n",
    "    Delta.append(temp)\n",
    "    ax.plot(temp)\n",
    "    \n",
    "ax.legend(np.sort(data_baseline[0].z.unique()))\n",
    "Delta_by_z=pd.DataFrame(Delta,index=np.sort(data_baseline[0].z.unique()))    \n",
    "print(Delta_by_z)"
   ]
  },
  {
   "cell_type": "markdown",
   "metadata": {},
   "source": [
    "### Total hours by entreprenurs : $h_y+h_{\\kappa}$"
   ]
  },
  {
   "cell_type": "markdown",
   "metadata": {},
   "source": [
    "All business owners"
   ]
  },
  {
   "cell_type": "code",
   "execution_count": 67,
   "metadata": {},
   "outputs": [
    {
     "data": {
      "text/plain": [
       "[<matplotlib.lines.Line2D at 0x7fc5a9db67b8>]"
      ]
     },
     "execution_count": 67,
     "metadata": {},
     "output_type": "execute_result"
    },
    {
     "name": "stdout",
     "output_type": "stream",
     "text": [
      "   Delta_all\n",
      "0 nan       \n",
      "1 0.125     \n",
      "2 0.162     \n",
      "3 0.172     \n",
      "4 0.178     \n",
      "5 0.184     \n",
      "6 0.187     \n",
      "7 0.189     \n",
      "8 0.189     \n",
      "9 0.191     \n"
     ]
    },
    {
     "data": {
      "image/png": "[encoded data removed]",
      "text/plain": [
       "<Figure size 432x288 with 1 Axes>"
      ]
     },
     "metadata": {
      "needs_background": "light"
     },
     "output_type": "display_data"
    }
   ],
   "source": [
    "data_e1=[data_baseline[t].ent_hrs.sum() for t in range(T0,TN)]\n",
    "data_e2=[data_target[t].ent_hrs.sum() for t in range(T0,TN)]\n",
    "Delta=np.array(data_e2)/np.array(data_e1)-1\n",
    "plt.plot(Delta)\n",
    "print(pd.DataFrame(Delta,columns=['Delta_all']))"
   ]
  },
  {
   "cell_type": "markdown",
   "metadata": {},
   "source": [
    "Grouped by $z$"
   ]
  },
  {
   "cell_type": "code",
   "execution_count": 68,
   "metadata": {},
   "outputs": [
    {
     "data": {
      "text/plain": [
       "[<matplotlib.lines.Line2D at 0x7fc5d3ea4e10>]"
      ]
     },
     "execution_count": 68,
     "metadata": {},
     "output_type": "execute_result"
    },
    {
     "data": {
      "text/plain": [
       "[<matplotlib.lines.Line2D at 0x7fc5d3eb64a8>]"
      ]
     },
     "execution_count": 68,
     "metadata": {},
     "output_type": "execute_result"
    },
    {
     "data": {
      "text/plain": [
       "[<matplotlib.lines.Line2D at 0x7fc5a9d78320>]"
      ]
     },
     "execution_count": 68,
     "metadata": {},
     "output_type": "execute_result"
    },
    {
     "data": {
      "text/plain": [
       "[<matplotlib.lines.Line2D at 0x7fc5a9d8b898>]"
      ]
     },
     "execution_count": 68,
     "metadata": {},
     "output_type": "execute_result"
    },
    {
     "data": {
      "text/plain": [
       "[<matplotlib.lines.Line2D at 0x7fc5d3eb6f28>]"
      ]
     },
     "execution_count": 68,
     "metadata": {},
     "output_type": "execute_result"
    },
    {
     "data": {
      "text/plain": [
       "[<matplotlib.lines.Line2D at 0x7fc5a9d8bf60>]"
      ]
     },
     "execution_count": 68,
     "metadata": {},
     "output_type": "execute_result"
    },
    {
     "data": {
      "text/plain": [
       "<matplotlib.legend.Legend at 0x7fc5a9d8b470>"
      ]
     },
     "execution_count": 68,
     "metadata": {},
     "output_type": "execute_result"
    },
    {
     "name": "stdout",
     "output_type": "stream",
     "text": [
      "        0     1      2      3      4      5      6      7      8      9\n",
      "0.000 nan 0.156 0.185  0.192  0.208  0.208  0.228  0.237  0.238  0.240 \n",
      "1.000 nan 0.128 0.169  0.181  0.184  0.196  0.234  0.257  0.261  0.233 \n",
      "2.000 nan 0.256 0.319  0.310  0.397  0.438  0.377  0.456  0.397  0.430 \n",
      "3.000 nan 0.096 0.165  0.205  0.229  0.237  0.238  0.264  0.265  0.266 \n",
      "4.000 nan 0.137 0.175  0.182  0.188  0.193  0.197  0.196  0.196  0.199 \n",
      "5.000 nan 0.004 -0.002 -0.007 -0.007 -0.008 -0.007 -0.004 -0.004 -0.004\n"
     ]
    },
    {
     "data": {
      "image/png": "[encoded data removed]",
      "text/plain": [
       "<Figure size 432x288 with 1 Axes>"
      ]
     },
     "metadata": {
      "needs_background": "light"
     },
     "output_type": "display_data"
    }
   ],
   "source": [
    "Delta=[]\n",
    "fig, ax = plt.subplots()\n",
    "for zval in np.sort(data_baseline[0].z.unique()):\n",
    "    sel_baseline=[data_baseline[t].z==zval for t in range(T0,TN)]\n",
    "    sel_target=[data_target[t].z==zval for t in range(T0,TN)]\n",
    "    data_e1=[data_baseline[t][sel_baseline[t]].ent_hrs.sum() for t in range(T0,TN)]\n",
    "    data_e2=[data_target[t][sel_target[t]].ent_hrs.sum() for t in range(T0,TN)]\n",
    "    temp=np.array(data_e2)/np.array(data_e1)-1\n",
    "    Delta.append(temp)\n",
    "    ax.plot(temp)\n",
    "    \n",
    "ax.legend(np.sort(data_baseline[0].z.unique()))\n",
    "Delta_by_z=pd.DataFrame(Delta,index=np.sort(data_baseline[0].z.unique()))    \n",
    "print(Delta_by_z)"
   ]
  },
  {
   "cell_type": "markdown",
   "metadata": {},
   "source": [
    "## Intensive Margin entreprenur hours: $h_y$+$h_{\\kappa}$\n",
    "In here we condition on individual who were running business in date $t=0$. We then compute the % change in hours \"person-by-person\" and report the 25, 50, 75 percentiles. Note that this not what GR do. But is closer to what Chettty does and calls as intensive margin. "
   ]
  },
  {
   "cell_type": "code",
   "execution_count": 69,
   "metadata": {},
   "outputs": [
    {
     "data": {
      "text/plain": [
       "[<matplotlib.lines.Line2D at 0x7fc5a9d0fcc0>,\n",
       " <matplotlib.lines.Line2D at 0x7fc5a9d0fe48>,\n",
       " <matplotlib.lines.Line2D at 0x7fc5a9d0ffd0>]"
      ]
     },
     "execution_count": 69,
     "metadata": {},
     "output_type": "execute_result"
    },
    {
     "data": {
      "image/png": "[encoded data removed]",
      "text/plain": [
       "<Figure size 432x288 with 1 Axes>"
      ]
     },
     "metadata": {
      "needs_background": "light"
     },
     "output_type": "display_data"
    }
   ],
   "source": [
    "Delta_ent_hrs=[(data_target[t].ent_hrs-data_baseline[t].ent_hrs)/data_baseline[t].ent_hrs for t in range(T0,TN)]\n",
    "sel=data_baseline[1].flagS\n",
    "plt.plot([Delta_ent_hrs[t][data_baseline[1][sel].index].quantile([.25,.5,.75]) for t in range(T0,TN)])"
   ]
  },
  {
   "cell_type": "markdown",
   "metadata": {},
   "source": [
    "### Num of entreprenurs "
   ]
  },
  {
   "cell_type": "code",
   "execution_count": 70,
   "metadata": {},
   "outputs": [
    {
     "data": {
      "text/plain": [
       "[<matplotlib.lines.Line2D at 0x7fc5a9c77b38>]"
      ]
     },
     "execution_count": 70,
     "metadata": {},
     "output_type": "execute_result"
    },
    {
     "name": "stdout",
     "output_type": "stream",
     "text": [
      "   Delta_all\n",
      "0 nan       \n",
      "1 0.071     \n",
      "2 0.083     \n",
      "3 0.088     \n",
      "4 0.094     \n",
      "5 0.098     \n",
      "6 0.100     \n",
      "7 0.106     \n",
      "8 0.104     \n",
      "9 0.107     \n"
     ]
    },
    {
     "data": {
      "image/png": "[encoded data removed]",
      "text/plain": [
       "<Figure size 432x288 with 1 Axes>"
      ]
     },
     "metadata": {
      "needs_background": "light"
     },
     "output_type": "display_data"
    }
   ],
   "source": [
    "data_e1=[data_baseline[t].flagS.sum() for t in range(T0,TN)]\n",
    "data_e2=[data_target[t].flagS.sum() for t in range(T0,TN)]\n",
    "Delta=np.array(data_e2)/np.array(data_e1)-1\n",
    "Delta[0]=np.nan\n",
    "plt.plot(Delta)\n",
    "print(pd.DataFrame(Delta,columns=['Delta_all']))"
   ]
  },
  {
   "cell_type": "code",
   "execution_count": 71,
   "metadata": {},
   "outputs": [
    {
     "data": {
      "text/plain": [
       "[<matplotlib.lines.Line2D at 0x7fc5a9d8ba58>]"
      ]
     },
     "execution_count": 71,
     "metadata": {},
     "output_type": "execute_result"
    },
    {
     "data": {
      "text/plain": [
       "[<matplotlib.lines.Line2D at 0x7fc5a9d8bdd8>]"
      ]
     },
     "execution_count": 71,
     "metadata": {},
     "output_type": "execute_result"
    },
    {
     "data": {
      "text/plain": [
       "[<matplotlib.lines.Line2D at 0x7fc5a9cb37f0>]"
      ]
     },
     "execution_count": 71,
     "metadata": {},
     "output_type": "execute_result"
    },
    {
     "data": {
      "text/plain": [
       "[<matplotlib.lines.Line2D at 0x7fc5a9c73208>]"
      ]
     },
     "execution_count": 71,
     "metadata": {},
     "output_type": "execute_result"
    },
    {
     "data": {
      "text/plain": [
       "[<matplotlib.lines.Line2D at 0x7fc5a9d98898>]"
      ]
     },
     "execution_count": 71,
     "metadata": {},
     "output_type": "execute_result"
    },
    {
     "data": {
      "text/plain": [
       "[<matplotlib.lines.Line2D at 0x7fc5a9c64fd0>]"
      ]
     },
     "execution_count": 71,
     "metadata": {},
     "output_type": "execute_result"
    },
    {
     "data": {
      "text/plain": [
       "<matplotlib.legend.Legend at 0x7fc5a9c64da0>"
      ]
     },
     "execution_count": 71,
     "metadata": {},
     "output_type": "execute_result"
    },
    {
     "name": "stdout",
     "output_type": "stream",
     "text": [
      "        0      1     2      3     4     5      6      7     8      9\n",
      "0.000 nan 0.083  0.103 0.110  0.110 0.105 0.119  0.120  0.115 0.114 \n",
      "1.000 nan 0.072  0.070 0.073  0.081 0.086 0.082  0.091  0.087 0.085 \n",
      "2.000 nan 0.088  0.089 0.092  0.106 0.117 0.105  0.115  0.117 0.120 \n",
      "3.000 nan 0.038  0.064 0.078  0.083 0.085 0.095  0.110  0.102 0.107 \n",
      "4.000 nan 0.082  0.093 0.095  0.101 0.106 0.107  0.108  0.110 0.113 \n",
      "5.000 nan -0.001 0.000 -0.002 0.003 0.000 -0.003 -0.003 0.004 -0.001\n"
     ]
    },
    {
     "data": {
      "image/png": "[encoded data removed]",
      "text/plain": [
       "<Figure size 432x288 with 1 Axes>"
      ]
     },
     "metadata": {
      "needs_background": "light"
     },
     "output_type": "display_data"
    }
   ],
   "source": [
    "Delta=[]\n",
    "fig, ax = plt.subplots()\n",
    "for zval in np.sort(data_baseline[0].z.unique()):\n",
    "    sel_baseline=[data_baseline[t].z==zval for t in range(T0,TN)]\n",
    "    sel_target=[data_target[t].z==zval for t in range(T0,TN)]\n",
    "    data_e1=[data_baseline[t][sel_baseline[t]].flagS.sum() for t in range(T0,TN)]\n",
    "    data_e2=[data_target[t][sel_target[t]].flagS.sum() for t in range(T0,TN)]\n",
    "    temp=np.array(data_e2)/np.array(data_e1)-1\n",
    "    temp[0]=np.nan\n",
    "    Delta.append(temp)\n",
    "    ax.plot(temp)\n",
    "    \n",
    "ax.legend(np.sort(data_baseline[0].z.unique()))\n",
    "Delta_by_z=pd.DataFrame(Delta,index=np.sort(data_baseline[0].z.unique()))    \n",
    "print(Delta_by_z)"
   ]
  },
  {
   "cell_type": "markdown",
   "metadata": {},
   "source": [
    "## Employee Hours: n"
   ]
  },
  {
   "cell_type": "code",
   "execution_count": 72,
   "metadata": {},
   "outputs": [
    {
     "data": {
      "text/plain": [
       "[<matplotlib.lines.Line2D at 0x7fc5a9b7b860>]"
      ]
     },
     "execution_count": 72,
     "metadata": {},
     "output_type": "execute_result"
    },
    {
     "name": "stdout",
     "output_type": "stream",
     "text": [
      "   Delta_all\n",
      "0 nan       \n",
      "1 -0.037    \n",
      "2 -0.046    \n",
      "3 -0.053    \n",
      "4 -0.054    \n",
      "5 -0.055    \n",
      "6 -0.055    \n",
      "7 -0.057    \n",
      "8 -0.055    \n",
      "9 -0.054    \n"
     ]
    },
    {
     "data": {
      "image/png": "[encoded data removed]",
      "text/plain": [
       "<Figure size 432x288 with 1 Axes>"
      ]
     },
     "metadata": {
      "needs_background": "light"
     },
     "output_type": "display_data"
    }
   ],
   "source": [
    "data_e1=[data_baseline[t].emp_hrs.sum() for t in range(T0,TN)]\n",
    "data_e2=[data_target[t].emp_hrs.sum() for t in range(T0,TN)]\n",
    "Delta=np.array(data_e2)/np.array(data_e1)-1\n",
    "Delta[0]=np.nan\n",
    "plt.plot(Delta)\n",
    "print(pd.DataFrame(Delta,columns=['Delta_all']))"
   ]
  },
  {
   "cell_type": "markdown",
   "metadata": {},
   "source": [
    "## Employee Hours: n intensive"
   ]
  },
  {
   "cell_type": "code",
   "execution_count": 73,
   "metadata": {},
   "outputs": [
    {
     "data": {
      "text/plain": [
       "[<matplotlib.lines.Line2D at 0x7fc4b2382668>]"
      ]
     },
     "execution_count": 73,
     "metadata": {},
     "output_type": "execute_result"
    },
    {
     "data": {
      "image/png": "[encoded data removed]",
      "text/plain": [
       "<Figure size 432x288 with 1 Axes>"
      ]
     },
     "metadata": {
      "needs_background": "light"
     },
     "output_type": "display_data"
    }
   ],
   "source": [
    "Delta_emp_hrs=[]\n",
    "for t in range(T0,TN):\n",
    "    Delta_emp_hrs.append((data_target[t].emp_hrs-data_baseline[t].emp_hrs)/data_baseline[t].emp_hrs)\n",
    "\n",
    "sel=data_baseline[1].flagC\n",
    "plt.plot([Delta_emp_hrs[t][data_baseline[1][sel].index].quantile(.5) for t in range(T0+1,TN)])"
   ]
  },
  {
   "cell_type": "code",
   "execution_count": null,
   "metadata": {},
   "outputs": [],
   "source": []
  }
 ],
 "metadata": {
  "kernelspec": {
   "display_name": "Python 3",
   "language": "python",
   "name": "python3"
  },
  "language_info": {
   "codemirror_mode": {
    "name": "ipython",
    "version": 3
   },
   "file_extension": ".py",
   "mimetype": "text/x-python",
   "name": "python",
   "nbconvert_exporter": "python",
   "pygments_lexer": "ipython3",
   "version": "3.6.8"
  }
 },
 "nbformat": 4,
 "nbformat_minor": 4
}
