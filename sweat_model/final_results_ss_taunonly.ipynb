{
 "cells": [
  {
   "cell_type": "markdown",
   "metadata": {},
   "source": [
    "<h1 align=\"center\">RESULTS: Comparision of SuperStar and Lower Tax on Employees </h1> \n",
    "\n"
   ]
  },
  {
   "cell_type": "markdown",
   "metadata": {},
   "source": [
    "This file generates  aggregate and  cross-sectional moments using the simulated data. The simlations are generated using the simulate.py fle. Please update the paths to the simulation data before running."
   ]
  },
  {
   "cell_type": "markdown",
   "metadata": {},
   "source": [
    "## Import libraries"
   ]
  },
  {
   "cell_type": "code",
   "execution_count": 1,
   "metadata": {},
   "outputs": [],
   "source": [
    "import numpy as np\n",
    "import pandas as pd\n",
    "import stats\n",
    "import os.path\n",
    "pd.options.display.float_format = '{:.3f}'.format\n",
    "pd.set_option('display.max_colwidth', -1)\n",
    "from SCEconomy import *\n",
    "import seaborn as sns\n",
    "sns.set_style('whitegrid')\n",
    "\n",
    "import warnings\n",
    "warnings.filterwarnings('ignore')\n",
    "\n",
    "%matplotlib inline\n",
    "import matplotlib as mpl\n",
    "mpl.rc(\"savefig\",dpi=200)\n",
    "from matplotlib import pyplot as plt\n",
    "# plt.rcParams[\"figure.figsize\"] = (10.,10.)"
   ]
  },
  {
   "cell_type": "code",
   "execution_count": 2,
   "metadata": {},
   "outputs": [
    {
     "data": {
      "text/html": [
       "<script>\n",
       "code_show=true; \n",
       "function code_toggle() {\n",
       " if (code_show){\n",
       " $('div.input').hide();\n",
       " } else {\n",
       " $('div.input').show();\n",
       " }\n",
       " code_show = !code_show\n",
       "} \n",
       "$( document ).ready(code_toggle);\n",
       "</script>\n",
       "<form action=\"javascript:code_toggle()\"><input type=\"submit\" value=\"Click here to toggle on/off the raw code.\"></form>"
      ],
      "text/plain": [
       "<IPython.core.display.HTML object>"
      ]
     },
     "execution_count": 2,
     "metadata": {},
     "output_type": "execute_result"
    }
   ],
   "source": [
    "from IPython.display import HTML\n",
    "from IPython.core.interactiveshell import InteractiveShell\n",
    "InteractiveShell.ast_node_interactivity = \"all\"\n",
    "HTML('''<script>\n",
    "code_show=true; \n",
    "function code_toggle() {\n",
    " if (code_show){\n",
    " $('div.input').hide();\n",
    " } else {\n",
    " $('div.input').show();\n",
    " }\n",
    " code_show = !code_show\n",
    "} \n",
    "$( document ).ready(code_toggle);\n",
    "</script>\n",
    "<form action=\"javascript:code_toggle()\"><input type=\"submit\" value=\"Click here to toggle on/off the raw code.\"></form>''')"
   ]
  },
  {
   "cell_type": "code",
   "execution_count": 3,
   "metadata": {},
   "outputs": [],
   "source": [
    "df_baseline=[]\n",
    "df_target=[]\n",
    "def gini(series, weights):\n",
    "    if series.size!=weights.size:\n",
    "        print(\"Weights are not the same size as the series\")\n",
    "        return\n",
    "    sorted_series = series.sort_values()\n",
    "    height, area = 0, 0\n",
    "    for i in range(series.size):\n",
    "        value = series[sorted_series.index[i]]\n",
    "        wgt = weights[sorted_series.index[i]]\n",
    "        height += wgt*value\n",
    "        area += wgt*(height - value / 2)\n",
    "    fair_area = height * weights.sum() / 2.\n",
    "    return (fair_area - area) / fair_area\n",
    "\n",
    "\n",
    "def gini_alt(series):\n",
    "    csum= 0.0\n",
    "    N=len(series)\n",
    "    for i in range(N):\n",
    "        for j in range(N):\n",
    "            value_i = series.iloc[i]\n",
    "            value_j = series.iloc[j]\n",
    "            csum+=np.abs(value_i-value_j)\n",
    "        \n",
    "    gini_val=0.5*(csum/(N)**2)/series.mean()\n",
    "    \n",
    "    return gini_val\n",
    "\n",
    "\n",
    "def Lorenz(series,quantiles):\n",
    "    N=len(quantiles)\n",
    "    Lz=np.zeros(N)\n",
    "    for n in range(N):\n",
    "        selection = series<series.quantile(quantiles[n])\n",
    "        Lz[n]=series[selection].sum()/series.sum()\n",
    "               \n",
    "        \n",
    "    return  Lz\n",
    "\n",
    "\n",
    "def uploadData(case,w,rs,rc,p,delta):\n",
    "    data=pd.DataFrame()\n",
    "    is_iz=pd.read_csv(case+'/is_to_iz.csv',delim_whitespace=True,header=None)\n",
    "    zgrid=pd.read_csv(case+'/zgrid.csv',delim_whitespace=True,header=None)\n",
    "    is_to_ieps=pd.read_csv(case+'/is_to_ieps.csv', delim_whitespace=True,header=None)\n",
    "    epsgrid=pd.read_csv(case+'/epsgrid.csv', delim_whitespace=True,header=None)\n",
    "    T=100-1\n",
    "    \n",
    "    data['s_ind_']=pd.read_csv(case+'/data_i_s.csv', delim_whitespace=True,header=None).iloc[:,T-1]\n",
    "    data['s_ind']=pd.read_csv(case+'/data_i_s.csv', delim_whitespace=True,header=None, usecols=[T])\n",
    "    \n",
    "    \n",
    "    data['eps']=epsgrid.values.flatten()[is_to_ieps.astype('int').values.flatten()[data.s_ind.astype('int').values.flatten()]]   \n",
    "    data['eps_']=epsgrid.values.flatten()[is_to_ieps.astype('int').values.flatten()[data.s_ind_.astype('int').values.flatten()]]   \n",
    "    data['iz']=is_iz.astype('int').values.flatten()[data.s_ind.astype('int').values.flatten()]\n",
    "    data['iz_']=is_iz.astype('int').values.flatten()[data.s_ind_.astype('int').values.flatten()]\n",
    "    data['ieps']=is_to_ieps.astype('int').values.flatten()[data.s_ind.astype('int').values.flatten()]  \n",
    "    data['ieps_']=is_to_ieps.astype('int').values.flatten()[data.s_ind_.astype('int').values.flatten()]\n",
    "    data['z']=zgrid.values.flatten()[is_iz.astype('int').values.flatten()[data.s_ind.astype('int').values.flatten()]]    \n",
    "    data['z_']=zgrid.values.flatten()[is_iz.astype('int').values.flatten()[data.s_ind_.astype('int').values.flatten()]]    \n",
    "    data['ys']=pd.read_csv(case+'/data_ys.csv', delim_whitespace=True,header=None, usecols=[T])\n",
    "    data['ys_']=pd.read_csv(case+'/data_ys.csv', delim_whitespace=True,header=None, usecols=[T-1])\n",
    "    data['ks']=pd.read_csv(case+'/data_ks.csv', delim_whitespace=True,header=None, usecols=[T])\n",
    "    data['ns']=pd.read_csv(case+'/data_ns.csv', delim_whitespace=True,header=None, usecols=[T])\n",
    "    data['x']=pd.read_csv(case+'/data_x.csv',  delim_whitespace=True,header=None, usecols=[T])\n",
    "    data['n']=pd.read_csv(case+'/data_n.csv', delim_whitespace=True,header=None, usecols=[T])\n",
    "    data['ks_']=pd.read_csv(case+'/data_ks.csv', delim_whitespace=True,header=None, usecols=[T-1])\n",
    "    data['ns_']=pd.read_csv(case+'/data_ns.csv', delim_whitespace=True,header=None, usecols=[T-1])\n",
    "    data['x_']=pd.read_csv(case+'/data_x.csv',  delim_whitespace=True,header=None, usecols=[T-1])\n",
    "    data['n_']=pd.read_csv(case+'/data_n.csv', delim_whitespace=True,header=None, usecols=[T-1])\n",
    "    data['flagC']=pd.read_csv(case+'/data_is_c.csv', delim_whitespace=True,header=None, usecols=[T])\n",
    "    data['flagC_']=pd.read_csv(case+'/data_is_c.csv', delim_whitespace=True,header=None, usecols=[T-1])\n",
    "    data['flagO']=pd.read_csv(case+'/data_is_o.csv',delim_whitespace=True,header=None, usecols=[T])\n",
    "    data['kappa']=pd.read_csv(case+'/data_kap.csv', delim_whitespace=True,header=None, usecols=[T])\n",
    "    data['hkap']=pd.read_csv(case+'/data_hkap.csv',  delim_whitespace=True,header=None, usecols=[T])\n",
    "    data['hy']=pd.read_csv(case+'/data_hy.csv',  delim_whitespace=True,header=None, usecols=[T])\n",
    "    data['s_age']=pd.read_csv(case+'/s_age.csv',  delim_whitespace=True,header=None)\n",
    "    data['sind_age']=pd.read_csv(case+'/sind_age.csv',  delim_whitespace=True,header=None)\n",
    "    data['ind_age']=pd.read_csv(case+'/ind_age.csv',  delim_whitespace=True,header=None)\n",
    "    data['c_age']=pd.read_csv(case+'/c_age.csv',  delim_whitespace=True,header=None)\n",
    "    data['div_']=pd.read_csv(case+'/data_div_sweat.csv',  delim_whitespace=True,header=None, usecols=[T-1])\n",
    "    data['div']= pd.read_csv(case+'/data_div_sweat.csv',  delim_whitespace=True,header=None, usecols=[T])\n",
    "    data['val_sdf_']=pd.read_csv(case+'/data_val_sweat_dyna_sdf.csv',  delim_whitespace=True,header=None, usecols=[T-1])\n",
    "    data['val_mf_']=pd.read_csv(case+'/data_val_sweat_dyna_fix.csv',  delim_whitespace=True,header=None, usecols=[T-1])\n",
    "\n",
    "    data['val_sdf']=pd.read_csv(case+'/data_val_sweat_dyna_sdf.csv',  delim_whitespace=True,header=None, usecols=[T])\n",
    "    data['val_mf']=pd.read_csv(case+'/data_val_sweat_dyna_fix.csv',  delim_whitespace=True,header=None, usecols=[T])\n",
    "    data['a']= pd.read_csv(case+'/data_a.csv',  delim_whitespace=True,header=None, usecols=[T])\n",
    "    \n",
    "    data['flagC']=data['flagC'].astype('bool')\n",
    "    data['flagC_']=data['flagC_'].astype('bool')\n",
    "    data['flagO']=data['flagO'].astype('bool')\n",
    "    data['expenses']=(rs+delta)*data['ks']+w*data['ns']+data['x']\n",
    "    data['expenses_']=(rs+delta)*data['ks_']+w*data['ns_']+data['x_']\n",
    "    data['wns']=data['ns']*w\n",
    "    data['pys']=p*data['ys']\n",
    "\n",
    "    data['bus_inc']=p*data['ys']-data['expenses']\n",
    "    data['bus_inc_']=p*data['ys_']-data['expenses_']\n",
    "    data['lab_inc']=data.eps*w*data.n\n",
    "    data['lab_inc_']=data.eps_*w*data.n_\n",
    "    data['n_e']=data['hkap']+data['hy']\n",
    "    data['ne']=data['n_e']\n",
    "    data['kappa_adj']=(data.kappa**0.15)*data.z\n",
    "    data['ret_sdf']=(data['val_sdf']+data['div_'])/data['val_sdf_']+0.02\n",
    "    data['ret_mf']=(data['val_mf']+data['div_'])/data['val_mf_']+0.02\n",
    "    data['div_yld_sdf']=(data['div'])/data['val_sdf']\n",
    "    data['div_yld_mf']=(data['div'])/data['val_mf']\n",
    "    #data['intan_int_sdf']=data['val_sdf'] /(data['val_sdf']+data['ks'])\n",
    "    #data['intan_int_mf']=data['val_mf'] /(data['val_mf']+data['ks'])\n",
    "    data['profit_rate']=100*data['bus_inc']/data['ks']\n",
    "    data['measured_markups']=100*(data['bus_inc'])/(data['x']+(rs+delta)*data['ks']+w*data['ns'])\n",
    "    data['measured_markups_alt']=100*(data['bus_inc']+data['x'])/((rs+delta)*data['ks']+w*data['ns'])\n",
    "    data['x_pys']=data['x']/(p*data['ys'])\n",
    "    data['cogs']=((rs+delta)*data['ks']+w*data['ns']+data['x'])    \n",
    "    data['wealth_sdf']=data['a']+data['val_sdf']   \n",
    "    data['wealth_mf']=data['a']+data['val_mf']   \n",
    "    data['ztilde'] = np.log(data['z'])\n",
    "    data['zkapphi']=data['z']*data['kappa']**(0.15)\n",
    "    data['ztilde_meas'] = np.log(data['ys']/(data['ks']**(0.333)*data['ns']**(0.666)))\n",
    "    data['inc']=0.0\n",
    "    data['inc'][data['flagC']==True]=data[data['flagC']==True]['lab_inc']\n",
    "    data['inc'][data['flagC']==False]=data[data['flagC']==False]['bus_inc']\n",
    "    data['tot_inc']=data['inc']+rc*data['a'] \n",
    "    if os.path.exists(case+'/data_R.csv'):\n",
    "        data['R']= pd.read_csv(case+'/data_R.csv',  delim_whitespace=True,header=None, usecols=[T])\n",
    "        data['intan_int']=data['R']/(data['R']+data['ks'])\n",
    "        data['wealth_R']=0.0\n",
    "        data['wealth_R'][data['flagC']==True]=data[data['flagC']==True]['a']   \n",
    "        data['wealth_R'][data['flagC']==False]=data[data['flagC']==False]['a']+data[data['flagC']==False]['R']   \n",
    "        data['wealth_income_ratio']=data['wealth_R']/data['tot_inc']\n",
    "  \n",
    "  \n",
    "\n",
    "    data['wgt']=1.0\n",
    "    return data\n",
    "\n",
    "\n",
    "\n",
    "\n",
    "def get_prices(path_baseline,momfilename):\n",
    "    with open (path_baseline+ momfilename, 'rt') as myfile:  # Open file lorem.txt for reading text\n",
    "        for myline in myfile:                 # For each line, read it to a string \n",
    "          #print(\"gdp line\")\n",
    "          #print(myline.find(\"GDP(\"))\n",
    "          if myline.find(\"w\")==0:\n",
    "            #print(myline)\n",
    "            w=float(myline[ myline.find(\"=\")+1:])\n",
    "          if myline.find(\"S-good price\")==0:\n",
    "            #print(myline)\n",
    "            p=float(myline[ myline.find(\"=\")+1:])\n",
    "          if myline.find(\"rc\")==0:\n",
    "            #print(myline)\n",
    "            rc=float(myline[ myline.find(\"=\")+1:])\n",
    "          if myline.find(\"rs\")==0:\n",
    "            #print(myline)\n",
    "            rs=float(myline[ myline.find(\"=\")+1:])\n",
    "          if myline.find(\"GDP(\")==2:\n",
    "            #print(myline)\n",
    "            GVA=float(myline[ myline.find(\"=\")+1:])\n",
    "          if myline.find(\"investment,\")==2:\n",
    "            #print(myline)\n",
    "            x=float(myline[ myline.find(\"=\")+1:])\n",
    "            #print(\"GDP = \"+ str(GVA-x))\n",
    "          if myline.find(\"delk \")==0:\n",
    "            #print(myline)\n",
    "            delta=float(myline[ myline.find(\"=\")+1:])\n",
    "            #print(\"delta= \"+ str(delta))\n",
    "            \n",
    "    return w,p,rc,rs,delta,GVA-x\n",
    "\n",
    "\n",
    "\n",
    "def decomposition (var_bin,bins,varlist):\n",
    "    print('')\n",
    "    print(\"SORTED BY \" + var_bin)\n",
    "    print(\"BINS = \" + str([round(b,2) for b in bins ]) )\n",
    "    \n",
    "\n",
    "    data['bin_' + var_bin] = pd.cut(data[var_bin], bins, labels = False)     \n",
    "    mean_baseline=data.groupby('bin_' + var_bin).mean()[varlist]\n",
    "    count_baseline=data.groupby('bin_' + var_bin).count()[varlist]\n",
    "    \n",
    "    \n",
    "    print(\"-------------- baseline means ----------\")\n",
    "    print(mean_baseline)\n",
    "    print(\"-------------- baseline counts ----------\")\n",
    "    print(count_baseline)\n",
    "    print('')\n",
    "    return mean_baseline,count_baseline\n",
    "\n",
    "def format_table(data,total):\n",
    "    results=[]\n",
    "    results=pd.DataFrame(data) \n",
    "    results['bins/total']=(sorted(pd.cut(df_baseline[var_bin], bins).unique()) )\n",
    "    cols = results.columns.tolist()\n",
    "    cols = cols[-1:] + cols[:-1]\n",
    "    results=results[cols]  #    OR    df = df.ix[:, cols]\n",
    "    results=results.append(total,ignore_index=True)\n",
    "    results.iloc[-1,0]='total'\n",
    "    \n",
    "    return results\n",
    "\n",
    "\n",
    "def print_results (var_bin,bins,varlist,df_baseline=df_baseline,df_target=df_target):\n",
    "    print('')\n",
    "    print(\"SORTED BY \" + var_bin)\n",
    "    print(\"BINS = \" + str([round(b,2) for b in bins ]) )\n",
    "    \n",
    "\n",
    "    df_baseline['bin_' + var_bin] = pd.cut(df_baseline[var_bin], bins, labels = False) \n",
    "    df_target['bin_' + var_bin] = pd.cut(df_target[var_bin], bins, labels = False) \n",
    "    \n",
    "    mean_baseline=df_baseline.groupby('bin_' + var_bin).mean()[varlist]\n",
    "    mean_target=df_target.groupby('bin_' + var_bin).mean()[varlist]\n",
    "    sum_baseline=df_baseline.groupby('bin_' + var_bin).sum()[varlist]\n",
    "    sum_target=df_target.groupby('bin_' + var_bin).sum()[varlist]\n",
    "    count_baseline=df_baseline.groupby('bin_' + var_bin).count()[varlist]\n",
    "    count_target=df_target.groupby('bin_' + var_bin).count()[varlist]\n",
    "    \n",
    "    intensive=(mean_target-mean_baseline)*(count_target+count_baseline)/2\n",
    "    extensive=(count_target-count_baseline)*(mean_target+mean_baseline)/2\n",
    "    total=intensive+extensive\n",
    "    intensive=100.*(intensive/(total.sum()))\n",
    "    extensive=100.*(extensive/(total.sum()))\n",
    "    total_per_change=(100*total.sum()/sum_baseline.sum()).T\n",
    "    intensive_alt=intensive*total_per_change*(1.0/100)\n",
    "    extensive_alt=extensive*total_per_change*(1.0/100)\n",
    "   \n",
    "    return total,sum_baseline,intensive_alt,extensive_alt\n",
    "\n",
    "   \n",
    "\n",
    "    print('')\n",
    "    \n",
    "def __extract_num__(item_name, text):\n",
    "    \n",
    "    import re\n",
    "    for ln in text.splitlines():\n",
    "        if ln.startswith(item_name):\n",
    "\n",
    "            match = re.search(r'[-+]?[0-9]*\\.?[0-9]+([eE][-+]?[0-9]+)?', ln[len(item_name):])\n",
    "\n",
    "            if match is not None:\n",
    "                return float(match.group(0))\n",
    "            else:\n",
    "                return np.nan\n",
    "                    \n",
    "                \n",
    "    return np.nan\n",
    "\n",
    "def get_data_textbuffer(item_name, outputs):\n",
    "    \n",
    "    return np.array([__extract_num__(item_name, text) for text in outputs])\n",
    "    \n",
    "   "
   ]
  },
  {
   "cell_type": "markdown",
   "metadata": {},
   "source": [
    "## Set paths"
   ]
  },
  {
   "cell_type": "code",
   "execution_count": 4,
   "metadata": {},
   "outputs": [],
   "source": [
    "casename='newbench_superstar'\n",
    "targetname='newbench_superstar_taunonly'\n",
    "#path_baseline = '/home/shared/yaoxx366/save_data/save_data_'+casename+'/'\n",
    "path_baseline='./save_data_'+casename\n",
    "path_table = './save_data_'+casename+'/'\n",
    "path_target = './save_data_'+ targetname + '/'\n",
    "momfilename_baseline= 'paras_mom_' + casename  + '.txt'\n",
    "momfilename_target= 'paras_mom_' + targetname  + '.txt'\n",
    "pathtosiminitbase='./save_data_'+ casename+  '/econ_' +casename + '.pickle'\n",
    "pathtosiminittarget='./save_data_'+ targetname+  '/econ_' +targetname + '.pickle'\n",
    "my_file_handle=open(path_baseline+ '/' + momfilename_baseline )\n",
    "textbuffer_baseline=my_file_handle.read()"
   ]
  },
  {
   "cell_type": "markdown",
   "metadata": {},
   "source": [
    "# Calibration"
   ]
  },
  {
   "cell_type": "markdown",
   "metadata": {},
   "source": [
    "## Preferences"
   ]
  },
  {
   "cell_type": "code",
   "execution_count": 5,
   "metadata": {},
   "outputs": [
    {
     "name": "stdout",
     "output_type": "stream",
     "text": [
      "Discount factor                           0.980\n",
      "Paternalistic discount factor             1.000\n",
      "Consumption weight                        0.420\n",
      "Leisure weight                            0.580\n",
      "Intertemporal elasticity inverse          1.500\n",
      "C-corporate good share in consumption     0.448\n",
      "Love of business parameter                0.000\n",
      "Labor productivity decline for the old    0.500\n",
      "Business productivity decline for the old 0.500\n"
     ]
    }
   ],
   "source": [
    "print(pd.read_csv(path_table + 'preferences.csv').to_string(header=None))"
   ]
  },
  {
   "cell_type": "markdown",
   "metadata": {},
   "source": [
    "## Life cycle related params"
   ]
  },
  {
   "cell_type": "code",
   "execution_count": 6,
   "metadata": {},
   "outputs": [
    {
     "name": "stdout",
     "output_type": "stream",
     "text": [
      "Unnamed: 0     y     o\n",
      " y         0.978 0.022\n",
      " o         0.067 0.933\n"
     ]
    }
   ],
   "source": [
    "print(pd.read_csv(path_table + 'age_transition_table.csv', skiprows = 1).to_string(index=None))"
   ]
  },
  {
   "cell_type": "markdown",
   "metadata": {},
   "source": [
    "## Technology"
   ]
  },
  {
   "cell_type": "code",
   "execution_count": 7,
   "metadata": {},
   "outputs": [
    {
     "name": "stdout",
     "output_type": "stream",
     "text": [
      "Technology growth                                                      0.020\n",
      "C-corporate fixed asset share                                          0.522\n",
      "Private business fixed asset share                                     0.300\n",
      "Private business sweat capital share                                   0.150\n",
      "Private business ces labor composite share                             0.550\n",
      "Private business employee hours share parameter in ces labor composite 0.522\n",
      "Private business hours substitution parameter in ces labor composite   0.500\n",
      "Fixed asset depreciation                                               0.041\n",
      "Sweat capital depreciation                                             0.058\n",
      "Sweat capital owner hour share                                         0.408\n",
      "Sweat capital c-good share                                             0.592\n",
      "Sweat capital deterioration for workers                                0.200\n",
      "Sweat capital deterioration for bequests                               0.100\n",
      "Working-capital constraint                                             0.000\n",
      "Non-business production relative to GDP                                0.266\n",
      "Non-business consumption relative to GDP                               0.110\n"
     ]
    }
   ],
   "source": [
    "print(pd.read_csv(path_table + 'technologies.csv').to_string(header=None))"
   ]
  },
  {
   "cell_type": "markdown",
   "metadata": {},
   "source": [
    "## Shocks"
   ]
  },
  {
   "cell_type": "markdown",
   "metadata": {},
   "source": [
    "### Business skill"
   ]
  },
  {
   "cell_type": "code",
   "execution_count": 8,
   "metadata": {},
   "outputs": [
    {
     "name": "stdout",
     "output_type": "stream",
     "text": [
      "       0  1  2  3  4  5\n",
      "zgrid  0  1  2  3  4  5\n",
      "\n",
      "      0     1     2     3     4     5\n",
      "0 0.612 0.170 0.098 0.065 0.055 0.000\n",
      "1 0.172 0.551 0.187 0.064 0.025 0.000\n",
      "2 0.099 0.191 0.475 0.190 0.045 0.000\n",
      "3 0.060 0.055 0.164 0.558 0.164 0.000\n",
      "4 0.045 0.009 0.034 0.135 0.775 0.001\n",
      "5 0.000 0.000 0.000 0.000 0.022 0.978\n"
     ]
    }
   ],
   "source": [
    "# np.loadtxt(path_table + 'business_productivity_transition_table.csv', skiprows = 2, skipcolumn = 1)\n",
    "# pd.read_csv(path_table + 'business_productivity_transition_table.csv', skiprows = 1)\n",
    "\n",
    "\n",
    "print(pd.Series(pd.read_csv(path_table + 'business_productivity_transition_table.csv', skiprows = 1).iloc[:,0]).to_frame('zgrid').T)\n",
    "print()\n",
    "print(pd.DataFrame(pd.read_csv(path_table + 'business_productivity_transition_table.csv', skiprows = 1).iloc[:,1:].values))\n"
   ]
  },
  {
   "cell_type": "markdown",
   "metadata": {},
   "source": [
    "### Labor skills"
   ]
  },
  {
   "cell_type": "code",
   "execution_count": 9,
   "metadata": {},
   "outputs": [
    {
     "name": "stdout",
     "output_type": "stream",
     "text": [
      "         0  1  2  3  4\n",
      "epsgrid  0  1  2  3  4\n",
      "\n",
      "      0     1     2     3     4\n",
      "0 0.424 0.549 0.027 0.000 0.000\n",
      "1 0.046 0.621 0.327 0.005 0.000\n",
      "2 0.001 0.145 0.709 0.145 0.001\n",
      "3 0.000 0.005 0.327 0.621 0.046\n",
      "4 0.000 0.000 0.027 0.549 0.424\n"
     ]
    }
   ],
   "source": [
    "print(pd.Series(pd.read_csv(path_table + 'labor_productivity_transition_table.csv', skiprows = 1).iloc[:,0]).to_frame('epsgrid').T)\n",
    "print('')\n",
    "print(pd.DataFrame(pd.read_csv(path_table + 'labor_productivity_transition_table.csv', skiprows = 1).iloc[:,1:].values))\n"
   ]
  },
  {
   "cell_type": "markdown",
   "metadata": {},
   "source": [
    "## Tax policy"
   ]
  },
  {
   "cell_type": "markdown",
   "metadata": {},
   "source": [
    "### Pass thru income tax"
   ]
  },
  {
   "cell_type": "code",
   "execution_count": 10,
   "metadata": {},
   "outputs": [
    {
     "name": "stdout",
     "output_type": "stream",
     "text": [
      " bbracket_left  bbracket_right   taub   psib\n",
      "-inf             0.153         0.140  0.010 \n",
      "0.153            0.304         0.183  0.037 \n",
      "0.304            0.912         0.201  0.060 \n",
      "0.912            2.667         0.235  0.188 \n",
      "2.667            5.727         0.262  0.484 \n",
      "5.727            9.104         0.269  0.650 \n",
      "9.104            inf           0.280  1.062 \n"
     ]
    }
   ],
   "source": [
    "print(pd.read_csv(path_table + 'business_income_tax.csv').to_string(index=None))"
   ]
  },
  {
   "cell_type": "markdown",
   "metadata": {},
   "source": [
    "### Labor income tax"
   ]
  },
  {
   "cell_type": "code",
   "execution_count": 11,
   "metadata": {},
   "outputs": [
    {
     "name": "stdout",
     "output_type": "stream",
     "text": [
      " nbracket_left  nbracket_right   taun   psin\n",
      "-inf             0.173         0.293  -0.091\n",
      "0.173            0.262         0.324  -0.069\n",
      "0.262            0.404         0.343  -0.048\n",
      "0.404            0.732         0.390  0.030 \n",
      "0.732            1.409         0.400  0.060 \n",
      "1.409            3.3138        0.408  0.106 \n",
      "3.314            inf           0.419  0.257 \n"
     ]
    }
   ],
   "source": [
    "print(pd.read_csv(path_table + 'labor_income_tax.csv').to_string(index=None))"
   ]
  },
  {
   "cell_type": "markdown",
   "metadata": {},
   "source": [
    "### Other taxes"
   ]
  },
  {
   "cell_type": "code",
   "execution_count": 12,
   "metadata": {},
   "outputs": [
    {
     "name": "stdout",
     "output_type": "stream",
     "text": [
      "Consumption tax                        0.065\n",
      "Dividends tax                          0.133\n",
      "Profits tax                            0.360\n",
      "Government expenditure relative to GDP 0.133\n",
      "Retirement Transfer                    0.800\n"
     ]
    }
   ],
   "source": [
    "print(pd.read_csv(path_table + 'policies.csv').to_string(header=None))"
   ]
  },
  {
   "cell_type": "markdown",
   "metadata": {},
   "source": [
    "# Aggregates"
   ]
  },
  {
   "cell_type": "code",
   "execution_count": 13,
   "metadata": {},
   "outputs": [],
   "source": [
    "mom=pd.read_csv(path_table + 'moments.csv')\n",
    "mom.columns=['desc','val']    \n",
    "tax=pd.read_csv(path_table + 'policies.csv')\n",
    "tax.columns=['val']\n",
    "cal=pd.read_csv(path_table + 'technologies.csv')\n",
    "cal.columns=['val']\n",
    "w=float(mom[mom.desc.str.strip()=='Wage (w)']['val'].values)\n",
    "p=float(mom[mom.desc.str.strip()=='S-good price (p)']['val'].values)\n",
    "rc=float(mom[mom.desc.str.strip()=='Interest rate (rc)']['val'].values)\n",
    "GDP=float(mom[mom.desc.str.strip()=='GDP(yc + yn + p*Eys - Ex)']['val'].values)\n",
    "taup=float(tax[tax.index.str.strip()=='Profits tax']['val'].values)\n",
    "rs=rc*(1-taup)\n",
    "delta=float(cal[cal.index.str.strip()=='Fixed asset depreciation']['val'].values)"
   ]
  },
  {
   "cell_type": "code",
   "execution_count": 14,
   "metadata": {},
   "outputs": [],
   "source": [
    "data=uploadData(path_baseline,w,rs,rc,p,delta)"
   ]
  },
  {
   "cell_type": "markdown",
   "metadata": {},
   "source": [
    "## GDP\n",
    "We normalize several things in the paper by GDP"
   ]
  },
  {
   "cell_type": "code",
   "execution_count": 15,
   "metadata": {},
   "outputs": [
    {
     "name": "stdout",
     "output_type": "stream",
     "text": [
      "4.157832003091141\n"
     ]
    }
   ],
   "source": [
    "print(GDP)"
   ]
  },
  {
   "cell_type": "markdown",
   "metadata": {},
   "source": [
    "## Aggregate markups\n",
    "Agg markups  is defined as  sum of business incomes in passthrus / sum rental and wage expenses in pass thrus "
   ]
  },
  {
   "cell_type": "code",
   "execution_count": 16,
   "metadata": {},
   "outputs": [
    {
     "name": "stdout",
     "output_type": "stream",
     "text": [
      "40.85246698091567\n"
     ]
    }
   ],
   "source": [
    "print(100*data.bus_inc.sum()/data.cogs.sum())"
   ]
  },
  {
   "cell_type": "markdown",
   "metadata": {},
   "source": [
    "## Aggregate profitability\n",
    "Agg profitability is defined as  sum of business incomes in passthrus / sum of physical capital used in pass thrus "
   ]
  },
  {
   "cell_type": "code",
   "execution_count": 17,
   "metadata": {},
   "outputs": [
    {
     "name": "stdout",
     "output_type": "stream",
     "text": [
      "8.01754654489454\n"
     ]
    }
   ],
   "source": [
    "print(100*data.bus_inc.sum()/data.ks.sum())"
   ]
  },
  {
   "cell_type": "markdown",
   "metadata": {},
   "source": [
    "## National Accounts"
   ]
  },
  {
   "cell_type": "markdown",
   "metadata": {},
   "source": [
    "### income share"
   ]
  },
  {
   "cell_type": "code",
   "execution_count": 18,
   "metadata": {},
   "outputs": [
    {
     "name": "stdout",
     "output_type": "stream",
     "text": [
      " Business Income                              0.736\n",
      " Sweat labor income                           0.089\n",
      " Non-sweat labor income                       0.320\n",
      " Non-sweat labor income C corporations        0.216\n",
      " Non-sweat labor income pass through business 0.105\n",
      " Non-sweat capital income                     0.328\n",
      " Non-sweat capital income rents               0.191\n",
      " Non-sweat capital income depreciation        0.136\n",
      " Non-business Income                          0.264\n"
     ]
    }
   ],
   "source": [
    "print(pd.read_csv(path_table + 'income_shares.csv').to_string(header=None,index=None))"
   ]
  },
  {
   "cell_type": "markdown",
   "metadata": {},
   "source": [
    "### product share"
   ]
  },
  {
   "cell_type": "code",
   "execution_count": 19,
   "metadata": {},
   "outputs": [
    {
     "name": "stdout",
     "output_type": "stream",
     "text": [
      " Private Consumption                        0.557\n",
      " Government Consumption                     0.132\n",
      " Business Investments C corporations        0.135\n",
      " Business Investments pass through business 0.068\n",
      " Non-business Investments                   0.109\n"
     ]
    }
   ],
   "source": [
    "print(pd.read_csv(path_table + 'product_shares.csv').to_string(header=None,index=None))"
   ]
  },
  {
   "cell_type": "markdown",
   "metadata": {},
   "source": [
    "## Sweat equity by GDP"
   ]
  },
  {
   "cell_type": "code",
   "execution_count": 20,
   "metadata": {},
   "outputs": [
    {
     "name": "stdout",
     "output_type": "stream",
     "text": [
      "0  discounted by beta_tilde 1.099\n",
      "1  discounted by owner SDF  0.672\n"
     ]
    }
   ],
   "source": [
    "print(pd.read_csv(path_table + 'sweat_equity_div_gdp.csv').to_string(header=None))"
   ]
  },
  {
   "cell_type": "markdown",
   "metadata": {},
   "source": [
    "# Age profiles"
   ]
  },
  {
   "cell_type": "markdown",
   "metadata": {},
   "source": [
    "## distribution by age"
   ]
  },
  {
   "cell_type": "code",
   "execution_count": 21,
   "metadata": {},
   "outputs": [
    {
     "name": "stdout",
     "output_type": "stream",
     "text": [
      "0    11.797\n",
      "1    9.753 \n",
      "2    8.302 \n",
      "3    7.127 \n",
      "4    6.346 \n",
      "5    5.481 \n",
      "6    4.886 \n",
      "7    4.334 \n",
      "8    3.856 \n",
      "9    3.066 \n",
      "10   2.999 \n",
      "11   2.516 \n",
      "12   2.252 \n",
      "13   2.105 \n",
      "14   1.855 \n",
      "15   1.702 \n",
      "16   1.534 \n",
      "17   1.361 \n",
      "18   1.219 \n",
      "19   1.110 \n",
      "20   0.926 \n",
      "21   0.907 \n",
      "22   0.769 \n",
      "23   0.694 \n",
      "24   0.678 \n",
      "25   0.598 \n",
      "26   0.558 \n",
      "27   0.488 \n",
      "28   0.512 \n",
      "29   0.342 \n",
      "30   0.331 \n",
      "31   0.406 \n",
      "32   0.323 \n",
      "33   0.270 \n",
      "34   0.259 \n",
      "35   0.254 \n",
      "36   0.264 \n",
      "37   0.203 \n",
      "38   0.211 \n",
      "39   0.195 \n",
      "40   0.171 \n"
     ]
    }
   ],
   "source": [
    "df = pd.read_csv(path_table + 'started_n_periods_ago.csv')\n",
    "print((100*df[df['N periods ago'] <= 40].set_index('N periods ago').iloc[:,0]).to_string(header=None))"
   ]
  },
  {
   "cell_type": "markdown",
   "metadata": {},
   "source": [
    "## sweat capital by age"
   ]
  },
  {
   "cell_type": "code",
   "execution_count": 22,
   "metadata": {},
   "outputs": [
    {
     "data": {
      "text/plain": [
       "<matplotlib.axes._subplots.AxesSubplot at 0x7f1dceb30550>"
      ]
     },
     "execution_count": 22,
     "metadata": {},
     "output_type": "execute_result"
    },
    {
     "name": "stdout",
     "output_type": "stream",
     "text": [
      "              sind_age  kappa\n",
      "bin_sind_age                 \n",
      "0.000        0.000     0.353 \n",
      "1.000        1.000     0.448 \n",
      "2.000        2.000     0.485 \n",
      "3.000        3.000     0.501 \n",
      "4.000        4.000     0.520 \n",
      "5.000        5.918     0.583 \n",
      "6.000        8.891     0.579 \n",
      "7.000        11.449    0.636 \n",
      "8.000        13.930    0.714 \n",
      "9.000        19.662    0.793 \n",
      "10.000       27.810    1.026 \n",
      "11.000       32.783    1.071 \n",
      "12.000       37.784    1.086 \n",
      "13.000       42.846    1.216 \n",
      "14.000       48.016    1.280 \n",
      "15.000       52.753    1.239 \n",
      "16.000       57.890    0.955 \n",
      "17.000       69.696    1.049 \n",
      "18.000       112.595   0.512 \n"
     ]
    },
    {
     "data": {
      "image/png": "[encoded data removed]",
      "text/plain": [
       "<Figure size 432x288 with 1 Axes>"
      ]
     },
     "metadata": {
      "needs_background": "light"
     },
     "output_type": "display_data"
    }
   ],
   "source": [
    "sel=(~data['flagC'] )\n",
    "var_bin = 'sind_age'\n",
    "varlist=['kappa','intan_int','ret_sdf','div_yld_sdf','measured_markups','val_sdf','a','wealth_sdf','s_age','sind_age','ind_age','ztilde_meas','ztilde','bus_inc','hy','hkap','n_e','ns','ks','R','x']\n",
    "bins=[-1,0,1,2,3,4,7,10, 12,15,25,30,35,40,45,50,55,60,80,500 ]\n",
    "data['bin_' + var_bin] = pd.cut(data[var_bin], bins, labels = False)     \n",
    "mean_baseline=data[sel].groupby('bin_' + var_bin).mean()[varlist]\n",
    "count_baseline=data[sel].groupby('bin_' + var_bin).count()[varlist]\n",
    "mean_baseline[['sind_age','kappa']].plot(x='sind_age',y='kappa')\n",
    "mean_baseline[['sind_age','kappa']].to_csv('sind_kappa.csv')\n",
    "print(mean_baseline[['sind_age','kappa']])"
   ]
  },
  {
   "cell_type": "markdown",
   "metadata": {},
   "source": [
    "## Regression of $\\log V_{\\kappa}$ on $age,age^2$: Pratts"
   ]
  },
  {
   "cell_type": "code",
   "execution_count": 23,
   "metadata": {},
   "outputs": [
    {
     "data": {
      "text/plain": [
       "24"
      ]
     },
     "execution_count": 23,
     "metadata": {},
     "output_type": "execute_result"
    },
    {
     "data": {
      "text/html": [
       "<table class=\"simpletable\">\n",
       "<caption>OLS Regression Results</caption>\n",
       "<tr>\n",
       "  <th>Dep. Variable:</th>    <td>TotalIntangiblesPPA</td> <th>  R-squared:         </th> <td>   0.228</td> \n",
       "</tr>\n",
       "<tr>\n",
       "  <th>Model:</th>                    <td>OLS</td>         <th>  Adj. R-squared:    </th> <td>   0.223</td> \n",
       "</tr>\n",
       "<tr>\n",
       "  <th>Method:</th>              <td>Least Squares</td>    <th>  F-statistic:       </th> <td>   45.30</td> \n",
       "</tr>\n",
       "<tr>\n",
       "  <th>Date:</th>              <td>Mon, 15 Jun 2020</td>   <th>  Prob (F-statistic):</th>  <td>  0.00</td>  \n",
       "</tr>\n",
       "<tr>\n",
       "  <th>Time:</th>                  <td>18:28:06</td>       <th>  Log-Likelihood:    </th> <td> -13411.</td> \n",
       "</tr>\n",
       "<tr>\n",
       "  <th>No. Observations:</th>       <td>  6943</td>        <th>  AIC:               </th> <td>2.691e+04</td>\n",
       "</tr>\n",
       "<tr>\n",
       "  <th>Df Residuals:</th>           <td>  6897</td>        <th>  BIC:               </th> <td>2.723e+04</td>\n",
       "</tr>\n",
       "<tr>\n",
       "  <th>Df Model:</th>               <td>    45</td>        <th>                     </th>     <td> </td>    \n",
       "</tr>\n",
       "<tr>\n",
       "  <th>Covariance Type:</th>       <td>nonrobust</td>      <th>                     </th>     <td> </td>    \n",
       "</tr>\n",
       "</table>\n",
       "<table class=\"simpletable\">\n",
       "<tr>\n",
       "             <td></td>               <th>coef</th>     <th>std err</th>      <th>t</th>      <th>P>|t|</th>  <th>[0.025</th>    <th>0.975]</th>  \n",
       "</tr>\n",
       "<tr>\n",
       "  <th>const</th>                  <td>   11.5470</td> <td>    1.145</td> <td>   10.084</td> <td> 0.000</td> <td>    9.302</td> <td>   13.792</td>\n",
       "</tr>\n",
       "<tr>\n",
       "  <th>TargetAge</th>              <td>    0.0183</td> <td>    0.002</td> <td>    8.629</td> <td> 0.000</td> <td>    0.014</td> <td>    0.022</td>\n",
       "</tr>\n",
       "<tr>\n",
       "  <th>TargetAge2</th>             <td> -4.99e-05</td> <td> 1.46e-05</td> <td>   -3.413</td> <td> 0.001</td> <td>-7.86e-05</td> <td>-2.12e-05</td>\n",
       "</tr>\n",
       "<tr>\n",
       "  <th>nacis_code_cat[11, 21)</th> <td>   -0.4594</td> <td>    1.285</td> <td>   -0.357</td> <td> 0.721</td> <td>   -2.979</td> <td>    2.060</td>\n",
       "</tr>\n",
       "<tr>\n",
       "  <th>nacis_code_cat[21, 22)</th> <td>    3.1797</td> <td>    1.294</td> <td>    2.458</td> <td> 0.014</td> <td>    0.644</td> <td>    5.716</td>\n",
       "</tr>\n",
       "<tr>\n",
       "  <th>nacis_code_cat[22, 23)</th> <td>   -0.5650</td> <td>    1.349</td> <td>   -0.419</td> <td> 0.675</td> <td>   -3.209</td> <td>    2.079</td>\n",
       "</tr>\n",
       "<tr>\n",
       "  <th>nacis_code_cat[23, 24)</th> <td>   -0.1541</td> <td>    1.194</td> <td>   -0.129</td> <td> 0.897</td> <td>   -2.494</td> <td>    2.186</td>\n",
       "</tr>\n",
       "<tr>\n",
       "  <th>nacis_code_cat[24, 31)</th> <td>-6.894e-15</td> <td> 1.01e-14</td> <td>   -0.686</td> <td> 0.493</td> <td>-2.66e-14</td> <td> 1.28e-14</td>\n",
       "</tr>\n",
       "<tr>\n",
       "  <th>nacis_code_cat[31, 35)</th> <td>    0.2924</td> <td>    1.192</td> <td>    0.245</td> <td> 0.806</td> <td>   -2.044</td> <td>    2.629</td>\n",
       "</tr>\n",
       "<tr>\n",
       "  <th>nacis_code_cat[35, 42)</th> <td>-1.458e-14</td> <td>  3.9e-14</td> <td>   -0.373</td> <td> 0.709</td> <td>-9.11e-14</td> <td> 6.19e-14</td>\n",
       "</tr>\n",
       "<tr>\n",
       "  <th>nacis_code_cat[42, 44)</th> <td>   -1.7597</td> <td>    1.286</td> <td>   -1.369</td> <td> 0.171</td> <td>   -4.280</td> <td>    0.761</td>\n",
       "</tr>\n",
       "<tr>\n",
       "  <th>nacis_code_cat[44, 46)</th> <td>   -1.0531</td> <td>    1.191</td> <td>   -0.884</td> <td> 0.377</td> <td>   -3.388</td> <td>    1.281</td>\n",
       "</tr>\n",
       "<tr>\n",
       "  <th>nacis_code_cat[46, 48)</th> <td>-1.401e-14</td> <td> 1.87e-14</td> <td>   -0.751</td> <td> 0.453</td> <td>-5.06e-14</td> <td> 2.26e-14</td>\n",
       "</tr>\n",
       "<tr>\n",
       "  <th>nacis_code_cat[48, 50)</th> <td>   -0.6359</td> <td>    1.194</td> <td>   -0.533</td> <td> 0.594</td> <td>   -2.977</td> <td>    1.705</td>\n",
       "</tr>\n",
       "<tr>\n",
       "  <th>nacis_code_cat[50, 51)</th> <td> 4.997e-15</td> <td> 7.13e-15</td> <td>    0.701</td> <td> 0.484</td> <td>-8.98e-15</td> <td>  1.9e-14</td>\n",
       "</tr>\n",
       "<tr>\n",
       "  <th>nacis_code_cat[51, 52)</th> <td>    1.9595</td> <td>    1.198</td> <td>    1.636</td> <td> 0.102</td> <td>   -0.388</td> <td>    4.307</td>\n",
       "</tr>\n",
       "<tr>\n",
       "  <th>nacis_code_cat[52, 53)</th> <td>    0.4310</td> <td>    1.199</td> <td>    0.360</td> <td> 0.719</td> <td>   -1.919</td> <td>    2.781</td>\n",
       "</tr>\n",
       "<tr>\n",
       "  <th>nacis_code_cat[53, 54)</th> <td>   -0.5248</td> <td>    1.196</td> <td>   -0.439</td> <td> 0.661</td> <td>   -2.870</td> <td>    1.820</td>\n",
       "</tr>\n",
       "<tr>\n",
       "  <th>nacis_code_cat[54, 55)</th> <td>    0.3950</td> <td>    1.193</td> <td>    0.331</td> <td> 0.741</td> <td>   -1.944</td> <td>    2.734</td>\n",
       "</tr>\n",
       "<tr>\n",
       "  <th>nacis_code_cat[55, 56)</th> <td>    5.4398</td> <td>    1.407</td> <td>    3.866</td> <td> 0.000</td> <td>    2.681</td> <td>    8.198</td>\n",
       "</tr>\n",
       "<tr>\n",
       "  <th>nacis_code_cat[56, 61)</th> <td>   -0.8055</td> <td>    1.192</td> <td>   -0.676</td> <td> 0.499</td> <td>   -3.141</td> <td>    1.530</td>\n",
       "</tr>\n",
       "<tr>\n",
       "  <th>nacis_code_cat[61, 62)</th> <td>   -1.0929</td> <td>    1.205</td> <td>   -0.907</td> <td> 0.364</td> <td>   -3.455</td> <td>    1.269</td>\n",
       "</tr>\n",
       "<tr>\n",
       "  <th>nacis_code_cat[62, 71)</th> <td>   -0.5618</td> <td>    1.194</td> <td>   -0.471</td> <td> 0.638</td> <td>   -2.902</td> <td>    1.778</td>\n",
       "</tr>\n",
       "<tr>\n",
       "  <th>nacis_code_cat[71, 72)</th> <td>   -1.2780</td> <td>    1.201</td> <td>   -1.064</td> <td> 0.287</td> <td>   -3.632</td> <td>    1.076</td>\n",
       "</tr>\n",
       "<tr>\n",
       "  <th>nacis_code_cat[72, 81)</th> <td>   -1.5446</td> <td>    1.191</td> <td>   -1.297</td> <td> 0.195</td> <td>   -3.879</td> <td>    0.790</td>\n",
       "</tr>\n",
       "<tr>\n",
       "  <th>nacis_code_cat[81, 83)</th> <td>   -1.6104</td> <td>    1.191</td> <td>   -1.352</td> <td> 0.176</td> <td>   -3.946</td> <td>    0.725</td>\n",
       "</tr>\n",
       "<tr>\n",
       "  <th>nacis_code_cat[83, 92)</th> <td> 3.713e-15</td> <td> 1.25e-14</td> <td>    0.298</td> <td> 0.766</td> <td>-2.07e-14</td> <td> 2.82e-14</td>\n",
       "</tr>\n",
       "<tr>\n",
       "  <th>year1990</th>               <td>-1.387e-14</td> <td> 2.27e-14</td> <td>   -0.612</td> <td> 0.540</td> <td>-5.83e-14</td> <td> 3.05e-14</td>\n",
       "</tr>\n",
       "<tr>\n",
       "  <th>year1991</th>               <td>-9.191e-15</td> <td> 8.71e-15</td> <td>   -1.055</td> <td> 0.291</td> <td>-2.63e-14</td> <td> 7.88e-15</td>\n",
       "</tr>\n",
       "<tr>\n",
       "  <th>year1992</th>               <td>-1.186e-14</td> <td> 8.03e-15</td> <td>   -1.477</td> <td> 0.140</td> <td>-2.76e-14</td> <td> 3.88e-15</td>\n",
       "</tr>\n",
       "<tr>\n",
       "  <th>year1993</th>               <td>   -1.1647</td> <td>    1.142</td> <td>   -1.020</td> <td> 0.308</td> <td>   -3.403</td> <td>    1.074</td>\n",
       "</tr>\n",
       "<tr>\n",
       "  <th>year1994</th>               <td>    0.0515</td> <td>    0.662</td> <td>    0.078</td> <td> 0.938</td> <td>   -1.247</td> <td>    1.350</td>\n",
       "</tr>\n",
       "<tr>\n",
       "  <th>year1995</th>               <td>   -0.1088</td> <td>    0.454</td> <td>   -0.239</td> <td> 0.811</td> <td>   -1.000</td> <td>    0.782</td>\n",
       "</tr>\n",
       "<tr>\n",
       "  <th>year1996</th>               <td>    0.1736</td> <td>    0.332</td> <td>    0.523</td> <td> 0.601</td> <td>   -0.477</td> <td>    0.824</td>\n",
       "</tr>\n",
       "<tr>\n",
       "  <th>year1997</th>               <td>    0.1796</td> <td>    0.264</td> <td>    0.681</td> <td> 0.496</td> <td>   -0.338</td> <td>    0.697</td>\n",
       "</tr>\n",
       "<tr>\n",
       "  <th>year1998</th>               <td>    0.3877</td> <td>    0.184</td> <td>    2.103</td> <td> 0.035</td> <td>    0.026</td> <td>    0.749</td>\n",
       "</tr>\n",
       "<tr>\n",
       "  <th>year1999</th>               <td>    0.2742</td> <td>    0.171</td> <td>    1.599</td> <td> 0.110</td> <td>   -0.062</td> <td>    0.610</td>\n",
       "</tr>\n",
       "<tr>\n",
       "  <th>year2000</th>               <td>    0.5887</td> <td>    0.174</td> <td>    3.386</td> <td> 0.001</td> <td>    0.248</td> <td>    0.930</td>\n",
       "</tr>\n",
       "<tr>\n",
       "  <th>year2001</th>               <td>    0.0710</td> <td>    0.165</td> <td>    0.430</td> <td> 0.667</td> <td>   -0.253</td> <td>    0.395</td>\n",
       "</tr>\n",
       "<tr>\n",
       "  <th>year2002</th>               <td>    0.3106</td> <td>    0.150</td> <td>    2.068</td> <td> 0.039</td> <td>    0.016</td> <td>    0.605</td>\n",
       "</tr>\n",
       "<tr>\n",
       "  <th>year2003</th>               <td>    0.2908</td> <td>    0.152</td> <td>    1.917</td> <td> 0.055</td> <td>   -0.007</td> <td>    0.588</td>\n",
       "</tr>\n",
       "<tr>\n",
       "  <th>year2004</th>               <td>    0.3179</td> <td>    0.144</td> <td>    2.213</td> <td> 0.027</td> <td>    0.036</td> <td>    0.600</td>\n",
       "</tr>\n",
       "<tr>\n",
       "  <th>year2005</th>               <td>    0.9144</td> <td>    0.137</td> <td>    6.660</td> <td> 0.000</td> <td>    0.645</td> <td>    1.184</td>\n",
       "</tr>\n",
       "<tr>\n",
       "  <th>year2006</th>               <td>    0.7611</td> <td>    0.124</td> <td>    6.127</td> <td> 0.000</td> <td>    0.518</td> <td>    1.005</td>\n",
       "</tr>\n",
       "<tr>\n",
       "  <th>year2007</th>               <td>    0.8835</td> <td>    0.118</td> <td>    7.489</td> <td> 0.000</td> <td>    0.652</td> <td>    1.115</td>\n",
       "</tr>\n",
       "<tr>\n",
       "  <th>year2008</th>               <td>    0.7802</td> <td>    0.110</td> <td>    7.093</td> <td> 0.000</td> <td>    0.565</td> <td>    0.996</td>\n",
       "</tr>\n",
       "<tr>\n",
       "  <th>year2009</th>               <td>    0.4965</td> <td>    0.105</td> <td>    4.751</td> <td> 0.000</td> <td>    0.292</td> <td>    0.701</td>\n",
       "</tr>\n",
       "<tr>\n",
       "  <th>year2010</th>               <td>    0.5255</td> <td>    0.103</td> <td>    5.093</td> <td> 0.000</td> <td>    0.323</td> <td>    0.728</td>\n",
       "</tr>\n",
       "<tr>\n",
       "  <th>year2011</th>               <td>    0.5614</td> <td>    0.102</td> <td>    5.521</td> <td> 0.000</td> <td>    0.362</td> <td>    0.761</td>\n",
       "</tr>\n",
       "<tr>\n",
       "  <th>year2012</th>               <td>    0.6878</td> <td>    0.102</td> <td>    6.747</td> <td> 0.000</td> <td>    0.488</td> <td>    0.888</td>\n",
       "</tr>\n",
       "<tr>\n",
       "  <th>year2013</th>               <td>    0.8902</td> <td>    0.104</td> <td>    8.568</td> <td> 0.000</td> <td>    0.687</td> <td>    1.094</td>\n",
       "</tr>\n",
       "<tr>\n",
       "  <th>year2014</th>               <td>    1.0386</td> <td>    0.103</td> <td>   10.080</td> <td> 0.000</td> <td>    0.837</td> <td>    1.241</td>\n",
       "</tr>\n",
       "<tr>\n",
       "  <th>year2015</th>               <td>    1.0080</td> <td>    0.102</td> <td>    9.842</td> <td> 0.000</td> <td>    0.807</td> <td>    1.209</td>\n",
       "</tr>\n",
       "<tr>\n",
       "  <th>year2016</th>               <td>    0.9196</td> <td>    0.102</td> <td>    9.012</td> <td> 0.000</td> <td>    0.720</td> <td>    1.120</td>\n",
       "</tr>\n",
       "<tr>\n",
       "  <th>year2017</th>               <td>    0.7077</td> <td>    0.137</td> <td>    5.152</td> <td> 0.000</td> <td>    0.438</td> <td>    0.977</td>\n",
       "</tr>\n",
       "</table>\n",
       "<table class=\"simpletable\">\n",
       "<tr>\n",
       "  <th>Omnibus:</th>       <td>623.299</td> <th>  Durbin-Watson:     </th> <td>   1.631</td>\n",
       "</tr>\n",
       "<tr>\n",
       "  <th>Prob(Omnibus):</th> <td> 0.000</td>  <th>  Jarque-Bera (JB):  </th> <td>2654.069</td>\n",
       "</tr>\n",
       "<tr>\n",
       "  <th>Skew:</th>          <td> 0.356</td>  <th>  Prob(JB):          </th> <td>    0.00</td>\n",
       "</tr>\n",
       "<tr>\n",
       "  <th>Kurtosis:</th>      <td> 5.944</td>  <th>  Cond. No.          </th> <td>1.03e+16</td>\n",
       "</tr>\n",
       "</table><br/><br/>Warnings:<br/>[1] Standard Errors assume that the covariance matrix of the errors is correctly specified.<br/>[2] The smallest eigenvalue is 2.73e-22. This might indicate that there are<br/>strong multicollinearity problems or that the design matrix is singular."
      ],
      "text/plain": [
       "<class 'statsmodels.iolib.summary.Summary'>\n",
       "\"\"\"\n",
       "                             OLS Regression Results                            \n",
       "===============================================================================\n",
       "Dep. Variable:     TotalIntangiblesPPA   R-squared:                       0.228\n",
       "Model:                             OLS   Adj. R-squared:                  0.223\n",
       "Method:                  Least Squares   F-statistic:                     45.30\n",
       "Date:                 Mon, 15 Jun 2020   Prob (F-statistic):               0.00\n",
       "Time:                         18:28:06   Log-Likelihood:                -13411.\n",
       "No. Observations:                 6943   AIC:                         2.691e+04\n",
       "Df Residuals:                     6897   BIC:                         2.723e+04\n",
       "Df Model:                           45                                         \n",
       "Covariance Type:             nonrobust                                         \n",
       "==========================================================================================\n",
       "                             coef    std err          t      P>|t|      [0.025      0.975]\n",
       "------------------------------------------------------------------------------------------\n",
       "const                     11.5470      1.145     10.084      0.000       9.302      13.792\n",
       "TargetAge                  0.0183      0.002      8.629      0.000       0.014       0.022\n",
       "TargetAge2              -4.99e-05   1.46e-05     -3.413      0.001   -7.86e-05   -2.12e-05\n",
       "nacis_code_cat[11, 21)    -0.4594      1.285     -0.357      0.721      -2.979       2.060\n",
       "nacis_code_cat[21, 22)     3.1797      1.294      2.458      0.014       0.644       5.716\n",
       "nacis_code_cat[22, 23)    -0.5650      1.349     -0.419      0.675      -3.209       2.079\n",
       "nacis_code_cat[23, 24)    -0.1541      1.194     -0.129      0.897      -2.494       2.186\n",
       "nacis_code_cat[24, 31) -6.894e-15   1.01e-14     -0.686      0.493   -2.66e-14    1.28e-14\n",
       "nacis_code_cat[31, 35)     0.2924      1.192      0.245      0.806      -2.044       2.629\n",
       "nacis_code_cat[35, 42) -1.458e-14    3.9e-14     -0.373      0.709   -9.11e-14    6.19e-14\n",
       "nacis_code_cat[42, 44)    -1.7597      1.286     -1.369      0.171      -4.280       0.761\n",
       "nacis_code_cat[44, 46)    -1.0531      1.191     -0.884      0.377      -3.388       1.281\n",
       "nacis_code_cat[46, 48) -1.401e-14   1.87e-14     -0.751      0.453   -5.06e-14    2.26e-14\n",
       "nacis_code_cat[48, 50)    -0.6359      1.194     -0.533      0.594      -2.977       1.705\n",
       "nacis_code_cat[50, 51)  4.997e-15   7.13e-15      0.701      0.484   -8.98e-15     1.9e-14\n",
       "nacis_code_cat[51, 52)     1.9595      1.198      1.636      0.102      -0.388       4.307\n",
       "nacis_code_cat[52, 53)     0.4310      1.199      0.360      0.719      -1.919       2.781\n",
       "nacis_code_cat[53, 54)    -0.5248      1.196     -0.439      0.661      -2.870       1.820\n",
       "nacis_code_cat[54, 55)     0.3950      1.193      0.331      0.741      -1.944       2.734\n",
       "nacis_code_cat[55, 56)     5.4398      1.407      3.866      0.000       2.681       8.198\n",
       "nacis_code_cat[56, 61)    -0.8055      1.192     -0.676      0.499      -3.141       1.530\n",
       "nacis_code_cat[61, 62)    -1.0929      1.205     -0.907      0.364      -3.455       1.269\n",
       "nacis_code_cat[62, 71)    -0.5618      1.194     -0.471      0.638      -2.902       1.778\n",
       "nacis_code_cat[71, 72)    -1.2780      1.201     -1.064      0.287      -3.632       1.076\n",
       "nacis_code_cat[72, 81)    -1.5446      1.191     -1.297      0.195      -3.879       0.790\n",
       "nacis_code_cat[81, 83)    -1.6104      1.191     -1.352      0.176      -3.946       0.725\n",
       "nacis_code_cat[83, 92)  3.713e-15   1.25e-14      0.298      0.766   -2.07e-14    2.82e-14\n",
       "year1990               -1.387e-14   2.27e-14     -0.612      0.540   -5.83e-14    3.05e-14\n",
       "year1991               -9.191e-15   8.71e-15     -1.055      0.291   -2.63e-14    7.88e-15\n",
       "year1992               -1.186e-14   8.03e-15     -1.477      0.140   -2.76e-14    3.88e-15\n",
       "year1993                  -1.1647      1.142     -1.020      0.308      -3.403       1.074\n",
       "year1994                   0.0515      0.662      0.078      0.938      -1.247       1.350\n",
       "year1995                  -0.1088      0.454     -0.239      0.811      -1.000       0.782\n",
       "year1996                   0.1736      0.332      0.523      0.601      -0.477       0.824\n",
       "year1997                   0.1796      0.264      0.681      0.496      -0.338       0.697\n",
       "year1998                   0.3877      0.184      2.103      0.035       0.026       0.749\n",
       "year1999                   0.2742      0.171      1.599      0.110      -0.062       0.610\n",
       "year2000                   0.5887      0.174      3.386      0.001       0.248       0.930\n",
       "year2001                   0.0710      0.165      0.430      0.667      -0.253       0.395\n",
       "year2002                   0.3106      0.150      2.068      0.039       0.016       0.605\n",
       "year2003                   0.2908      0.152      1.917      0.055      -0.007       0.588\n",
       "year2004                   0.3179      0.144      2.213      0.027       0.036       0.600\n",
       "year2005                   0.9144      0.137      6.660      0.000       0.645       1.184\n",
       "year2006                   0.7611      0.124      6.127      0.000       0.518       1.005\n",
       "year2007                   0.8835      0.118      7.489      0.000       0.652       1.115\n",
       "year2008                   0.7802      0.110      7.093      0.000       0.565       0.996\n",
       "year2009                   0.4965      0.105      4.751      0.000       0.292       0.701\n",
       "year2010                   0.5255      0.103      5.093      0.000       0.323       0.728\n",
       "year2011                   0.5614      0.102      5.521      0.000       0.362       0.761\n",
       "year2012                   0.6878      0.102      6.747      0.000       0.488       0.888\n",
       "year2013                   0.8902      0.104      8.568      0.000       0.687       1.094\n",
       "year2014                   1.0386      0.103     10.080      0.000       0.837       1.241\n",
       "year2015                   1.0080      0.102      9.842      0.000       0.807       1.209\n",
       "year2016                   0.9196      0.102      9.012      0.000       0.720       1.120\n",
       "year2017                   0.7077      0.137      5.152      0.000       0.438       0.977\n",
       "==============================================================================\n",
       "Omnibus:                      623.299   Durbin-Watson:                   1.631\n",
       "Prob(Omnibus):                  0.000   Jarque-Bera (JB):             2654.069\n",
       "Skew:                           0.356   Prob(JB):                         0.00\n",
       "Kurtosis:                       5.944   Cond. No.                     1.03e+16\n",
       "==============================================================================\n",
       "\n",
       "Warnings:\n",
       "[1] Standard Errors assume that the covariance matrix of the errors is correctly specified.\n",
       "[2] The smallest eigenvalue is 2.73e-22. This might indicate that there are\n",
       "strong multicollinearity problems or that the design matrix is singular.\n",
       "\"\"\""
      ]
     },
     "execution_count": 23,
     "metadata": {},
     "output_type": "execute_result"
    }
   ],
   "source": [
    "prattsdata=pd.read_csv('prattsdatabase.csv',encoding='latin-1')    \n",
    "prattsdata['TargetAge2']=prattsdata['TargetAge']**2\n",
    "\n",
    "prattsdata['TargetStructureAlt']=prattsdata['TargetStructure'].values\n",
    "sel=prattsdata['TargetStructure'].isin(['Partnership', 'Limited Partnership', 'LLP'])\n",
    "prattsdata.loc[sel,'TargetStructureAlt']='Partnership'\n",
    "sel=prattsdata['TargetStructure'].isin(['Consolidated', 'UK Corporation', 'PC','Non-Profit','Ltd','Limited Corporation'])\n",
    "prattsdata.loc[sel,'TargetStructureAlt']='Others'\n",
    "sel=prattsdata['TargetStructure'].isin(['C corporation'])\n",
    "prattsdata.loc[sel,'TargetStructureAlt']='C Corporation'\n",
    "\n",
    "naics_labels=['Agriculture, Forestry, Fishing and Hunting',\\\n",
    "        'Mining, Quarrying, and Oil and Gas Extraction',\\\n",
    "        'Utilities',\\\n",
    "        'Construction',\\\n",
    "        'NA1',\\\n",
    "        'Manufacturing',\\\n",
    "        'NA2',\\\n",
    "        'Wholesale Trade',\\\n",
    "        'Retail Trade',\\\n",
    "        'NA3',\\\n",
    "        'Transportation and Warehousing',\\\n",
    "        'NA4',\\\n",
    "        'Information',\\\n",
    "        'Finance and Insurance',\\\n",
    "        'Real Estate and Rental and Leasing',\\\n",
    "        'Professional, Scientific, and Technical Services',\\\n",
    "        'Management of Companies and Enterprises',\\\n",
    "        'Administrative and Support and Waste Management and Remediation Services'\\\n",
    "        'NA5',\\\n",
    "        'Educational Services',\\\n",
    "        'Health Care and Social Assistance',\\\n",
    "        'Arts, Entertainment, and Recreation',\\\n",
    "        'Accommodation and Food Service',\\\n",
    "        'Other Services','Public administration']\n",
    "\n",
    "len(naics_labels)\n",
    "\n",
    "naics_code=[11,21,22,23,24,31,35,42,44,46,48,50,51,52,53,54,55,56,61,62,71,72,81,83,92]\n",
    "n=24\n",
    "\n",
    "\n",
    "#naics_labels=['Ag. Mining and Utilities',\\\n",
    "#        'Consts and Mfg',\\\n",
    "#        'Trade and warehousing',\\\n",
    "#        'Information and FIRE',\\\n",
    "#        'RE',\\\n",
    "#        'Professional services',\\\n",
    "#        'Nonprof services']\n",
    "\n",
    "#naics_code=[11,23,42,51,53,54,57,92]\n",
    "\n",
    "prattsdata['naics_label']=pd.cut(prattsdata['TargetNAICS1']/10**10,naics_code[:n+1],labels=naics_labels[:n],include_lowest=True,right=False)\n",
    "prattsdata['naics_code_cat']=pd.cut(prattsdata['TargetNAICS1']/10**10,naics_code[:n+1],include_lowest=True,right=False)\n",
    "prattsdata['naics_2d']=pd.cut(prattsdata['TargetNAICS1']/10**10,naics_code[:n+1],labels=naics_code[:n],include_lowest=True,right=False)\n",
    "\n",
    "prattsdata['year'] = prattsdata['SaleDate'].str[-4:]\n",
    "prattsdata['year']=prattsdata['year'].astype(int)\n",
    "\n",
    "\n",
    "\n",
    "import statsmodels.api as sm\n",
    "\n",
    "dummies1 = pd.get_dummies(prattsdata['naics_code_cat']).rename(columns=lambda x: 'nacis_code_cat' + str(x))\n",
    "dummies2 = pd.get_dummies(prattsdata['year']).rename(columns=lambda x: 'year' + str(x))\n",
    "X = pd.concat([prattsdata[['TargetAge','TargetAge2']],dummies1,dummies2],axis=1)\n",
    "Y=np.log(prattsdata.TotalIntangiblesPPA)\n",
    "X = sm.add_constant(X)\n",
    "selection=(pd.notnull(prattsdata.TargetAge)) & (prattsdata.TotalIntangiblesPPA>0)& ~(prattsdata.TargetStructureAlt=='C Corporation')& ~(prattsdata.TargetStructureAlt=='LLC')\n",
    "model11 = sm.OLS(Y[selection], X[selection]).fit()\n",
    "model11.summary()"
   ]
  },
  {
   "cell_type": "markdown",
   "metadata": {},
   "source": [
    "## Regression of $\\log V_{\\kappa}$ on $age,age^2$: Model"
   ]
  },
  {
   "cell_type": "code",
   "execution_count": 24,
   "metadata": {},
   "outputs": [
    {
     "data": {
      "text/html": [
       "<table class=\"simpletable\">\n",
       "<caption>OLS Regression Results</caption>\n",
       "<tr>\n",
       "  <th>Dep. Variable:</th>            <td>R</td>        <th>  R-squared:         </th> <td>     nan</td>\n",
       "</tr>\n",
       "<tr>\n",
       "  <th>Model:</th>                   <td>OLS</td>       <th>  Adj. R-squared:    </th> <td>     nan</td>\n",
       "</tr>\n",
       "<tr>\n",
       "  <th>Method:</th>             <td>Least Squares</td>  <th>  F-statistic:       </th> <td>     nan</td>\n",
       "</tr>\n",
       "<tr>\n",
       "  <th>Date:</th>             <td>Mon, 15 Jun 2020</td> <th>  Prob (F-statistic):</th>  <td>   nan</td> \n",
       "</tr>\n",
       "<tr>\n",
       "  <th>Time:</th>                 <td>18:28:06</td>     <th>  Log-Likelihood:    </th> <td>     nan</td>\n",
       "</tr>\n",
       "<tr>\n",
       "  <th>No. Observations:</th>      <td> 37475</td>      <th>  AIC:               </th> <td>     nan</td>\n",
       "</tr>\n",
       "<tr>\n",
       "  <th>Df Residuals:</th>          <td> 37472</td>      <th>  BIC:               </th> <td>     nan</td>\n",
       "</tr>\n",
       "<tr>\n",
       "  <th>Df Model:</th>              <td>     2</td>      <th>                     </th>     <td> </td>   \n",
       "</tr>\n",
       "<tr>\n",
       "  <th>Covariance Type:</th>      <td>nonrobust</td>    <th>                     </th>     <td> </td>   \n",
       "</tr>\n",
       "</table>\n",
       "<table class=\"simpletable\">\n",
       "<tr>\n",
       "      <td></td>         <th>coef</th>     <th>std err</th>      <th>t</th>      <th>P>|t|</th>  <th>[0.025</th>    <th>0.975]</th>  \n",
       "</tr>\n",
       "<tr>\n",
       "  <th>const</th>     <td>       nan</td> <td>      nan</td> <td>      nan</td> <td>   nan</td> <td>      nan</td> <td>      nan</td>\n",
       "</tr>\n",
       "<tr>\n",
       "  <th>sind_age</th>  <td>       nan</td> <td>      nan</td> <td>      nan</td> <td>   nan</td> <td>      nan</td> <td>      nan</td>\n",
       "</tr>\n",
       "<tr>\n",
       "  <th>sind_age2</th> <td>      -inf</td> <td>      nan</td> <td>      nan</td> <td>   nan</td> <td>      nan</td> <td>      nan</td>\n",
       "</tr>\n",
       "</table>\n",
       "<table class=\"simpletable\">\n",
       "<tr>\n",
       "  <th>Omnibus:</th>       <td>   nan</td> <th>  Durbin-Watson:     </th> <td>     nan</td>\n",
       "</tr>\n",
       "<tr>\n",
       "  <th>Prob(Omnibus):</th> <td>   nan</td> <th>  Jarque-Bera (JB):  </th> <td>     nan</td>\n",
       "</tr>\n",
       "<tr>\n",
       "  <th>Skew:</th>          <td>   nan</td> <th>  Prob(JB):          </th> <td>     nan</td>\n",
       "</tr>\n",
       "<tr>\n",
       "  <th>Kurtosis:</th>      <td>   nan</td> <th>  Cond. No.          </th> <td>2.07e+03</td>\n",
       "</tr>\n",
       "</table><br/><br/>Warnings:<br/>[1] Standard Errors assume that the covariance matrix of the errors is correctly specified.<br/>[2] The condition number is large, 2.07e+03. This might indicate that there are<br/>strong multicollinearity or other numerical problems."
      ],
      "text/plain": [
       "<class 'statsmodels.iolib.summary.Summary'>\n",
       "\"\"\"\n",
       "                            OLS Regression Results                            \n",
       "==============================================================================\n",
       "Dep. Variable:                      R   R-squared:                         nan\n",
       "Model:                            OLS   Adj. R-squared:                    nan\n",
       "Method:                 Least Squares   F-statistic:                       nan\n",
       "Date:                Mon, 15 Jun 2020   Prob (F-statistic):                nan\n",
       "Time:                        18:28:06   Log-Likelihood:                    nan\n",
       "No. Observations:               37475   AIC:                               nan\n",
       "Df Residuals:                   37472   BIC:                               nan\n",
       "Df Model:                           2                                         \n",
       "Covariance Type:            nonrobust                                         \n",
       "==============================================================================\n",
       "                 coef    std err          t      P>|t|      [0.025      0.975]\n",
       "------------------------------------------------------------------------------\n",
       "const             nan        nan        nan        nan         nan         nan\n",
       "sind_age          nan        nan        nan        nan         nan         nan\n",
       "sind_age2        -inf        nan        nan        nan         nan         nan\n",
       "==============================================================================\n",
       "Omnibus:                          nan   Durbin-Watson:                     nan\n",
       "Prob(Omnibus):                    nan   Jarque-Bera (JB):                  nan\n",
       "Skew:                             nan   Prob(JB):                          nan\n",
       "Kurtosis:                         nan   Cond. No.                     2.07e+03\n",
       "==============================================================================\n",
       "\n",
       "Warnings:\n",
       "[1] Standard Errors assume that the covariance matrix of the errors is correctly specified.\n",
       "[2] The condition number is large, 2.07e+03. This might indicate that there are\n",
       "strong multicollinearity or other numerical problems.\n",
       "\"\"\""
      ]
     },
     "execution_count": 24,
     "metadata": {},
     "output_type": "execute_result"
    }
   ],
   "source": [
    "sel=(~data['flagC'] )\n",
    "data['sind_age2']=data['sind_age']**2\n",
    "X = data[['sind_age','sind_age2']]\n",
    "Y=np.log(data.R)\n",
    "X = sm.add_constant(X)\n",
    "model11 = sm.OLS(Y[sel], X[sel]).fit()\n",
    "model11.summary()"
   ]
  },
  {
   "cell_type": "markdown",
   "metadata": {},
   "source": [
    "# Business and Labor Income Percentiles"
   ]
  },
  {
   "cell_type": "code",
   "execution_count": 25,
   "metadata": {},
   "outputs": [
    {
     "name": "stdout",
     "output_type": "stream",
     "text": [
      "       lab_inc  bus_inc\n",
      "0.000 0.000    -15.160 \n",
      "0.050 0.000    -1.284  \n",
      "0.100 0.000    -0.006  \n",
      "0.150 0.503    -0.002  \n",
      "0.200 0.876    -0.000  \n",
      "0.250 1.281    -0.000  \n",
      "0.300 1.584    -0.000  \n",
      "0.350 1.755    -0.000  \n",
      "0.400 1.899    0.000   \n",
      "0.450 2.015    0.000   \n",
      "0.500 2.103    0.003   \n",
      "0.550 2.171    0.044   \n",
      "0.600 2.234    0.186   \n",
      "0.650 2.299    0.552   \n",
      "0.700 2.388    1.181   \n",
      "0.750 2.661    2.446   \n",
      "0.800 3.827    2.727   \n",
      "0.850 4.057    2.883   \n",
      "0.900 4.240    3.019   \n",
      "0.950 4.435    3.153   \n",
      "1.000 7.848    22.198  \n"
     ]
    }
   ],
   "source": [
    "quantiles=pd.DataFrame( (data[data.flagC==True].lab_inc.quantile(np.linspace(0,1,21))))\n",
    "quantiles['bus_inc']=data[data.flagC==False].bus_inc.quantile(np.linspace(0,1,21))\n",
    "print(quantiles)"
   ]
  },
  {
   "cell_type": "markdown",
   "metadata": {},
   "source": [
    "# Lorenz curves"
   ]
  },
  {
   "cell_type": "code",
   "execution_count": 26,
   "metadata": {},
   "outputs": [
    {
     "data": {
      "text/html": [
       "<div>\n",
       "<style scoped>\n",
       "    .dataframe tbody tr th:only-of-type {\n",
       "        vertical-align: middle;\n",
       "    }\n",
       "\n",
       "    .dataframe tbody tr th {\n",
       "        vertical-align: top;\n",
       "    }\n",
       "\n",
       "    .dataframe thead th {\n",
       "        text-align: right;\n",
       "    }\n",
       "</style>\n",
       "<table border=\"1\" class=\"dataframe\">\n",
       "  <thead>\n",
       "    <tr style=\"text-align: right;\">\n",
       "      <th></th>\n",
       "      <th>frac_pop</th>\n",
       "      <th>bus_inc</th>\n",
       "      <th>kappa</th>\n",
       "      <th>hkap</th>\n",
       "      <th>hy</th>\n",
       "      <th>ns</th>\n",
       "      <th>ks</th>\n",
       "      <th>R</th>\n",
       "      <th>Vb_sdf</th>\n",
       "      <th>Vb_mf</th>\n",
       "    </tr>\n",
       "  </thead>\n",
       "  <tbody>\n",
       "    <tr>\n",
       "      <th>0</th>\n",
       "      <td>0.000</td>\n",
       "      <td>0.000</td>\n",
       "      <td>0.000</td>\n",
       "      <td>0.000</td>\n",
       "      <td>0.000</td>\n",
       "      <td>0.000</td>\n",
       "      <td>0.000</td>\n",
       "      <td>0.000</td>\n",
       "      <td>0.000</td>\n",
       "      <td>0.000</td>\n",
       "    </tr>\n",
       "    <tr>\n",
       "      <th>1</th>\n",
       "      <td>0.050</td>\n",
       "      <td>-0.092</td>\n",
       "      <td>0.000</td>\n",
       "      <td>0.000</td>\n",
       "      <td>0.000</td>\n",
       "      <td>0.000</td>\n",
       "      <td>0.000</td>\n",
       "      <td>0.000</td>\n",
       "      <td>0.004</td>\n",
       "      <td>0.006</td>\n",
       "    </tr>\n",
       "    <tr>\n",
       "      <th>2</th>\n",
       "      <td>0.100</td>\n",
       "      <td>-0.108</td>\n",
       "      <td>0.000</td>\n",
       "      <td>0.000</td>\n",
       "      <td>0.000</td>\n",
       "      <td>0.000</td>\n",
       "      <td>0.000</td>\n",
       "      <td>0.000</td>\n",
       "      <td>0.015</td>\n",
       "      <td>0.024</td>\n",
       "    </tr>\n",
       "    <tr>\n",
       "      <th>3</th>\n",
       "      <td>0.150</td>\n",
       "      <td>-0.108</td>\n",
       "      <td>0.000</td>\n",
       "      <td>0.000</td>\n",
       "      <td>0.000</td>\n",
       "      <td>0.000</td>\n",
       "      <td>0.000</td>\n",
       "      <td>0.002</td>\n",
       "      <td>0.027</td>\n",
       "      <td>0.047</td>\n",
       "    </tr>\n",
       "    <tr>\n",
       "      <th>4</th>\n",
       "      <td>0.200</td>\n",
       "      <td>-0.108</td>\n",
       "      <td>0.000</td>\n",
       "      <td>0.000</td>\n",
       "      <td>0.000</td>\n",
       "      <td>0.000</td>\n",
       "      <td>0.000</td>\n",
       "      <td>0.003</td>\n",
       "      <td>0.040</td>\n",
       "      <td>0.070</td>\n",
       "    </tr>\n",
       "    <tr>\n",
       "      <th>5</th>\n",
       "      <td>0.250</td>\n",
       "      <td>-0.108</td>\n",
       "      <td>0.000</td>\n",
       "      <td>0.000</td>\n",
       "      <td>0.000</td>\n",
       "      <td>0.000</td>\n",
       "      <td>0.000</td>\n",
       "      <td>0.005</td>\n",
       "      <td>0.055</td>\n",
       "      <td>0.093</td>\n",
       "    </tr>\n",
       "    <tr>\n",
       "      <th>6</th>\n",
       "      <td>0.300</td>\n",
       "      <td>-0.108</td>\n",
       "      <td>0.001</td>\n",
       "      <td>0.000</td>\n",
       "      <td>0.000</td>\n",
       "      <td>0.000</td>\n",
       "      <td>0.000</td>\n",
       "      <td>0.007</td>\n",
       "      <td>0.071</td>\n",
       "      <td>0.117</td>\n",
       "    </tr>\n",
       "    <tr>\n",
       "      <th>7</th>\n",
       "      <td>0.350</td>\n",
       "      <td>-0.108</td>\n",
       "      <td>0.005</td>\n",
       "      <td>0.000</td>\n",
       "      <td>0.000</td>\n",
       "      <td>0.000</td>\n",
       "      <td>0.000</td>\n",
       "      <td>0.010</td>\n",
       "      <td>0.088</td>\n",
       "      <td>0.141</td>\n",
       "    </tr>\n",
       "    <tr>\n",
       "      <th>8</th>\n",
       "      <td>0.400</td>\n",
       "      <td>-0.108</td>\n",
       "      <td>0.020</td>\n",
       "      <td>0.001</td>\n",
       "      <td>0.000</td>\n",
       "      <td>0.000</td>\n",
       "      <td>0.000</td>\n",
       "      <td>0.012</td>\n",
       "      <td>0.106</td>\n",
       "      <td>0.166</td>\n",
       "    </tr>\n",
       "    <tr>\n",
       "      <th>9</th>\n",
       "      <td>0.450</td>\n",
       "      <td>-0.108</td>\n",
       "      <td>0.051</td>\n",
       "      <td>0.002</td>\n",
       "      <td>0.000</td>\n",
       "      <td>0.000</td>\n",
       "      <td>0.000</td>\n",
       "      <td>0.015</td>\n",
       "      <td>0.126</td>\n",
       "      <td>0.192</td>\n",
       "    </tr>\n",
       "    <tr>\n",
       "      <th>10</th>\n",
       "      <td>0.500</td>\n",
       "      <td>-0.108</td>\n",
       "      <td>0.091</td>\n",
       "      <td>0.003</td>\n",
       "      <td>0.000</td>\n",
       "      <td>0.000</td>\n",
       "      <td>0.000</td>\n",
       "      <td>0.018</td>\n",
       "      <td>0.148</td>\n",
       "      <td>0.218</td>\n",
       "    </tr>\n",
       "    <tr>\n",
       "      <th>11</th>\n",
       "      <td>0.550</td>\n",
       "      <td>-0.107</td>\n",
       "      <td>0.137</td>\n",
       "      <td>0.005</td>\n",
       "      <td>0.004</td>\n",
       "      <td>0.001</td>\n",
       "      <td>0.001</td>\n",
       "      <td>0.024</td>\n",
       "      <td>0.172</td>\n",
       "      <td>0.247</td>\n",
       "    </tr>\n",
       "    <tr>\n",
       "      <th>12</th>\n",
       "      <td>0.600</td>\n",
       "      <td>-0.102</td>\n",
       "      <td>0.188</td>\n",
       "      <td>0.007</td>\n",
       "      <td>0.016</td>\n",
       "      <td>0.003</td>\n",
       "      <td>0.005</td>\n",
       "      <td>0.035</td>\n",
       "      <td>0.201</td>\n",
       "      <td>0.280</td>\n",
       "    </tr>\n",
       "    <tr>\n",
       "      <th>13</th>\n",
       "      <td>0.650</td>\n",
       "      <td>-0.080</td>\n",
       "      <td>0.243</td>\n",
       "      <td>0.011</td>\n",
       "      <td>0.056</td>\n",
       "      <td>0.013</td>\n",
       "      <td>0.020</td>\n",
       "      <td>0.050</td>\n",
       "      <td>0.235</td>\n",
       "      <td>0.315</td>\n",
       "    </tr>\n",
       "    <tr>\n",
       "      <th>14</th>\n",
       "      <td>0.700</td>\n",
       "      <td>-0.044</td>\n",
       "      <td>0.300</td>\n",
       "      <td>0.025</td>\n",
       "      <td>0.117</td>\n",
       "      <td>0.028</td>\n",
       "      <td>0.043</td>\n",
       "      <td>0.079</td>\n",
       "      <td>0.273</td>\n",
       "      <td>0.354</td>\n",
       "    </tr>\n",
       "    <tr>\n",
       "      <th>15</th>\n",
       "      <td>0.750</td>\n",
       "      <td>0.058</td>\n",
       "      <td>0.360</td>\n",
       "      <td>0.053</td>\n",
       "      <td>0.231</td>\n",
       "      <td>0.095</td>\n",
       "      <td>0.125</td>\n",
       "      <td>0.128</td>\n",
       "      <td>0.328</td>\n",
       "      <td>0.404</td>\n",
       "    </tr>\n",
       "    <tr>\n",
       "      <th>16</th>\n",
       "      <td>0.800</td>\n",
       "      <td>0.190</td>\n",
       "      <td>0.421</td>\n",
       "      <td>0.086</td>\n",
       "      <td>0.368</td>\n",
       "      <td>0.176</td>\n",
       "      <td>0.223</td>\n",
       "      <td>0.197</td>\n",
       "      <td>0.390</td>\n",
       "      <td>0.458</td>\n",
       "    </tr>\n",
       "    <tr>\n",
       "      <th>17</th>\n",
       "      <td>0.850</td>\n",
       "      <td>0.332</td>\n",
       "      <td>0.484</td>\n",
       "      <td>0.126</td>\n",
       "      <td>0.514</td>\n",
       "      <td>0.261</td>\n",
       "      <td>0.326</td>\n",
       "      <td>0.274</td>\n",
       "      <td>0.455</td>\n",
       "      <td>0.514</td>\n",
       "    </tr>\n",
       "    <tr>\n",
       "      <th>18</th>\n",
       "      <td>0.900</td>\n",
       "      <td>0.483</td>\n",
       "      <td>0.547</td>\n",
       "      <td>0.196</td>\n",
       "      <td>0.668</td>\n",
       "      <td>0.350</td>\n",
       "      <td>0.434</td>\n",
       "      <td>0.355</td>\n",
       "      <td>0.520</td>\n",
       "      <td>0.571</td>\n",
       "    </tr>\n",
       "    <tr>\n",
       "      <th>19</th>\n",
       "      <td>0.950</td>\n",
       "      <td>0.638</td>\n",
       "      <td>0.614</td>\n",
       "      <td>0.463</td>\n",
       "      <td>0.829</td>\n",
       "      <td>0.442</td>\n",
       "      <td>0.546</td>\n",
       "      <td>0.445</td>\n",
       "      <td>0.587</td>\n",
       "      <td>0.629</td>\n",
       "    </tr>\n",
       "    <tr>\n",
       "      <th>20</th>\n",
       "      <td>1.000</td>\n",
       "      <td>0.999</td>\n",
       "      <td>1.000</td>\n",
       "      <td>0.999</td>\n",
       "      <td>1.000</td>\n",
       "      <td>0.999</td>\n",
       "      <td>0.999</td>\n",
       "      <td>0.999</td>\n",
       "      <td>0.999</td>\n",
       "      <td>0.999</td>\n",
       "    </tr>\n",
       "  </tbody>\n",
       "</table>\n",
       "</div>"
      ],
      "text/plain": [
       "    frac_pop  bus_inc  kappa  hkap    hy    ns    ks     R  Vb_sdf  Vb_mf\n",
       "0  0.000     0.000    0.000  0.000 0.000 0.000 0.000 0.000 0.000   0.000 \n",
       "1  0.050     -0.092   0.000  0.000 0.000 0.000 0.000 0.000 0.004   0.006 \n",
       "2  0.100     -0.108   0.000  0.000 0.000 0.000 0.000 0.000 0.015   0.024 \n",
       "3  0.150     -0.108   0.000  0.000 0.000 0.000 0.000 0.002 0.027   0.047 \n",
       "4  0.200     -0.108   0.000  0.000 0.000 0.000 0.000 0.003 0.040   0.070 \n",
       "5  0.250     -0.108   0.000  0.000 0.000 0.000 0.000 0.005 0.055   0.093 \n",
       "6  0.300     -0.108   0.001  0.000 0.000 0.000 0.000 0.007 0.071   0.117 \n",
       "7  0.350     -0.108   0.005  0.000 0.000 0.000 0.000 0.010 0.088   0.141 \n",
       "8  0.400     -0.108   0.020  0.001 0.000 0.000 0.000 0.012 0.106   0.166 \n",
       "9  0.450     -0.108   0.051  0.002 0.000 0.000 0.000 0.015 0.126   0.192 \n",
       "10 0.500     -0.108   0.091  0.003 0.000 0.000 0.000 0.018 0.148   0.218 \n",
       "11 0.550     -0.107   0.137  0.005 0.004 0.001 0.001 0.024 0.172   0.247 \n",
       "12 0.600     -0.102   0.188  0.007 0.016 0.003 0.005 0.035 0.201   0.280 \n",
       "13 0.650     -0.080   0.243  0.011 0.056 0.013 0.020 0.050 0.235   0.315 \n",
       "14 0.700     -0.044   0.300  0.025 0.117 0.028 0.043 0.079 0.273   0.354 \n",
       "15 0.750     0.058    0.360  0.053 0.231 0.095 0.125 0.128 0.328   0.404 \n",
       "16 0.800     0.190    0.421  0.086 0.368 0.176 0.223 0.197 0.390   0.458 \n",
       "17 0.850     0.332    0.484  0.126 0.514 0.261 0.326 0.274 0.455   0.514 \n",
       "18 0.900     0.483    0.547  0.196 0.668 0.350 0.434 0.355 0.520   0.571 \n",
       "19 0.950     0.638    0.614  0.463 0.829 0.442 0.546 0.445 0.587   0.629 \n",
       "20 1.000     0.999    1.000  0.999 1.000 0.999 0.999 0.999 0.999   0.999 "
      ]
     },
     "execution_count": 26,
     "metadata": {},
     "output_type": "execute_result"
    }
   ],
   "source": [
    "sel=(~data['flagC'] )\n",
    "LzData=pd.DataFrame()\n",
    "LzData['frac_pop']=np.linspace(0,1,21)\n",
    "LzData['bus_inc']=Lorenz(data[sel]['bus_inc'],LzData.frac_pop)\n",
    "LzData['kappa']=Lorenz(data[sel]['kappa'],LzData.frac_pop)\n",
    "LzData['hkap']=Lorenz(data[sel]['hkap'],LzData.frac_pop)\n",
    "LzData['hy']=Lorenz(data[sel]['hy'],LzData.frac_pop)\n",
    "\n",
    "LzData['ns']=Lorenz(data[sel]['ns'],LzData.frac_pop)\n",
    "LzData['ks']=Lorenz(data[sel]['ks'],LzData.frac_pop)\n",
    "LzData['R']=Lorenz(data[sel]['R'],LzData.frac_pop)\n",
    "LzData['Vb_sdf']=Lorenz(data[sel]['val_sdf'],LzData.frac_pop)\n",
    "LzData['Vb_mf']=Lorenz(data[sel]['val_mf'],LzData.frac_pop)\n",
    "\n",
    "LzData"
   ]
  },
  {
   "cell_type": "markdown",
   "metadata": {},
   "source": [
    "# Cross Sectional Moments: All Businesses"
   ]
  },
  {
   "cell_type": "code",
   "execution_count": 27,
   "metadata": {},
   "outputs": [
    {
     "name": "stdout",
     "output_type": "stream",
     "text": [
      "      gross_returns: sdf  gross_returns: mf  intan. intensity  div yield: sdf  \\\n",
      "mean 1.132               1.106              0.531             0.026             \n",
      "std  1.222               0.961              0.416             0.128             \n",
      "gini 0.148               0.107              0.416             2.213             \n",
      "p10  0.882               0.973              0.106             -0.004            \n",
      "p25  1.001               1.016              0.119             -0.000            \n",
      "p50  1.022               1.024              0.321             0.000             \n",
      "p75  1.178               1.141              1.000             0.115             \n",
      "p95  1.750               1.510              1.000             0.172             \n",
      "p99  2.633               1.910              1.000             0.190             \n",
      "\n",
      "      div yield: mf  market value: R  valuation: sdf  valuation: mf  kappa  \\\n",
      "mean 0.023          2.193            4.653           6.836          0.587    \n",
      "std  0.086          7.377            11.614          15.239         1.214    \n",
      "gini 1.714          0.792            0.577           0.476          0.612    \n",
      "p10  -0.002         0.040            1.065           3.070          0.000    \n",
      "p25  -0.000         0.092            1.450           3.212          0.002    \n",
      "p50  0.000          0.208            2.112           3.742          0.511    \n",
      "p75  0.087          2.746            5.614           7.252          0.707    \n",
      "p95  0.133          3.873            6.319           8.011          0.843    \n",
      "p99  0.148          51.384           84.643          110.173        8.251    \n",
      "\n",
      "      bus inc  fin wealth:a  wealth:vb_sdf+a  wealth:vb_mf+a  markups  \\\n",
      "mean 0.985    31.129        35.782           37.965          10.343     \n",
      "std  2.280    73.253        76.499           77.148          79.283     \n",
      "gini 0.929    0.769         0.715            0.681           nan        \n",
      "p10  -0.006   0.850         2.704            4.887           -99.952    \n",
      "p25  -0.000   3.506         6.027            7.864           -90.822    \n",
      "p50  0.003    7.822         11.619           13.325          58.445     \n",
      "p75  2.446    14.557        19.122           20.718          71.609     \n",
      "p95  3.153    216.935       230.044          235.088         100.959    \n",
      "p99  12.161   381.556       399.166          400.832         111.263    \n",
      "\n",
      "      log_meas_tfp  log_z    hy  hkap  total owner hrs: hy+hkap  \n",
      "mean 0.975         0.356  0.102 0.023 0.125                      \n",
      "std  0.160         0.597  0.135 0.061 0.147                      \n",
      "gini 0.091         0.886  0.671 0.858 0.620                      \n",
      "p10  0.831         -0.840 0.000 0.000 0.000                      \n",
      "p25  0.851         0.000  0.000 0.000 0.000                      \n",
      "p50  1.024         0.420  0.002 0.001 0.019                      \n",
      "p75  1.104         0.840  0.268 0.014 0.290                      \n",
      "p95  1.190         0.840  0.333 0.216 0.355                      \n",
      "p99  1.229         1.063  0.357 0.259 0.417                      \n"
     ]
    }
   ],
   "source": [
    "sel=(~data['flagC'] )\n",
    "\n",
    "val,cols=stats.describe(data[sel].ret_sdf,data[sel]['wgt'])\n",
    "moments_only_business=pd.DataFrame(val.T,columns=['gross_returns: sdf'])\n",
    "moments_only_business.index=cols\n",
    "\n",
    "\n",
    "\n",
    "val,cols=stats.describe(data[sel].ret_sdf,data[sel]['wgt'])\n",
    "moments_only_business['gross_returns: sdf']=val\n",
    "\n",
    "\n",
    "val,cols=stats.describe(data[sel].ret_mf,data[sel]['wgt'])\n",
    "moments_only_business['gross_returns: mf']=val\n",
    "\n",
    "sel2=sel&(data['ns']>0)\n",
    "val,cols=stats.describe(data[sel2].intan_int,data[sel2]['wgt'])\n",
    "moments_only_business['intan. intensity']=val\n",
    "\n",
    "\n",
    "val,cols=stats.describe(data[sel].div_yld_sdf,data[sel]['wgt'])\n",
    "moments_only_business['div yield: sdf']=val\n",
    "\n",
    "\n",
    "val,cols=stats.describe(data[sel].div_yld_mf,data[sel]['wgt'])\n",
    "moments_only_business['div yield: mf']=val\n",
    "\n",
    "\n",
    "val,cols=stats.describe(data[sel2].R,data[sel2]['wgt'])\n",
    "moments_only_business['market value: R']=val\n",
    "\n",
    "\n",
    "val,cols=stats.describe(data[sel].val_sdf,data[sel]['wgt'])\n",
    "moments_only_business['valuation: sdf']=val\n",
    "\n",
    "val,cols=stats.describe(data[sel].val_mf,data[sel]['wgt'])\n",
    "moments_only_business['valuation: mf']=val\n",
    "\n",
    "\n",
    "val,cols=stats.describe(data[sel].kappa,data[sel]['wgt'])\n",
    "moments_only_business['kappa']=val\n",
    "\n",
    "\n",
    "val,cols=stats.describe(data[sel].bus_inc,data[sel]['wgt'])\n",
    "moments_only_business['bus inc']=val\n",
    "\n",
    "\n",
    "\n",
    "val,cols=stats.describe(data[sel].a,data[sel]['wgt'])\n",
    "moments_only_business['fin wealth:a']=val\n",
    "\n",
    "\n",
    "val,cols=stats.describe(data[sel].wealth_sdf,data[sel]['wgt'])\n",
    "moments_only_business['wealth:vb_sdf+a']=val\n",
    "\n",
    "val,cols=stats.describe(data[sel].wealth_mf,data[sel]['wgt'])\n",
    "moments_only_business['wealth:vb_mf+a']=val\n",
    "\n",
    "\n",
    "\n",
    "val,cols=stats.describe(data[sel].measured_markups,data[sel]['wgt'])\n",
    "moments_only_business['markups']=val\n",
    "\n",
    "\n",
    "sel_temp=(~data['flagC'] )  & (~pd.isna(data['ztilde_meas']))\n",
    "val,cols=stats.describe(data[sel_temp].ztilde_meas,data[sel_temp]['wgt'])\n",
    "moments_only_business['log_meas_tfp']=val\n",
    "\n",
    "val,cols=stats.describe(data[sel].ztilde,data[sel]['wgt'])\n",
    "moments_only_business['log_z']=val\n",
    "\n",
    "val,cols=stats.describe(data[sel].hy,data[sel]['wgt'])\n",
    "moments_only_business['hy']=val\n",
    "\n",
    "\n",
    "val,cols=stats.describe(data[sel].hkap,data[sel]['wgt'])\n",
    "moments_only_business['hkap']=val\n",
    "\n",
    "\n",
    "val,cols=stats.describe(data[sel].hy,data[sel]['wgt'])\n",
    "moments_only_business['hy']=val\n",
    "\n",
    "\n",
    "val,cols=stats.describe(data[sel].n_e,data[sel]['wgt'])\n",
    "moments_only_business['total owner hrs: hy+hkap']=val\n",
    "\n",
    "\n",
    "\n",
    "print (moments_only_business)\n",
    "moments_only_business.to_excel('moments_all_businesses.xls')\n"
   ]
  },
  {
   "cell_type": "markdown",
   "metadata": {},
   "source": [
    "## Decomposition by  Sweat Capital: All Businesses"
   ]
  },
  {
   "cell_type": "code",
   "execution_count": 28,
   "metadata": {},
   "outputs": [
    {
     "name": "stdout",
     "output_type": "stream",
     "text": [
      "           kappa  intan_int  ret_sdf  div_yld_sdf  measured_markups  val_sdf  \\\n",
      "bin_kappa                                                                      \n",
      "0         0.000  0.998      0.998    0.000        -31.595           1.273      \n",
      "1         0.060  0.839      1.002    -0.003       -30.469           1.415      \n",
      "2         0.493  0.443      1.078    0.007        31.282            2.702      \n",
      "3         0.684  0.216      1.139    0.088        58.915            4.733      \n",
      "4         1.701  0.287      1.442    0.035        22.722            13.140     \n",
      "\n",
      "               a  wealth_sdf  s_age  sind_age  ind_age  ztilde_meas  ztilde  \\\n",
      "bin_kappa                                                                     \n",
      "0         52.389 53.663      23.321 11.824    55.841   1.041        -0.020    \n",
      "1         38.722 40.136      15.879 11.909    57.757   1.053        0.028     \n",
      "2         16.681 19.382      11.079 9.876     54.191   1.025        0.337     \n",
      "3         10.444 15.177      7.006  6.327     49.948   0.922        0.633     \n",
      "4         37.409 50.549      11.804 8.276     44.437   0.825        0.802     \n",
      "\n",
      "           bus_inc    hy  hkap   n_e     ks  \n",
      "bin_kappa                                    \n",
      "0         0.000    0.000 0.000 0.000 0.000   \n",
      "1         0.012    0.004 0.003 0.006 0.186   \n",
      "2         0.466    0.075 0.019 0.094 4.828   \n",
      "3         1.787    0.212 0.020 0.231 16.627  \n",
      "4         2.659    0.220 0.075 0.296 39.769  \n"
     ]
    }
   ],
   "source": [
    "sel=(~data['flagC'] )\n",
    "\n",
    "var_bin = 'kappa'\n",
    "num_bins=5\n",
    "varlist=['kappa','intan_int','ret_sdf','div_yld_sdf','measured_markups','val_sdf','a','wealth_sdf','s_age','sind_age','ind_age','ztilde_meas','ztilde','bus_inc','hy','hkap','n_e','ks']\n",
    "tmp, bins_original = pd.qcut(data[sel][var_bin], q = num_bins, labels=False, retbins = True)\n",
    "data['bin_' + var_bin] = tmp[:]\n",
    "bins = bins_original.copy()\n",
    "bins[0] = -np.inf\n",
    "bins[-1] = np.inf\n",
    "data['bin_' + var_bin] = pd.cut(data[var_bin], bins, labels = False)     \n",
    "mean_baseline=data[sel].groupby('bin_' + var_bin).mean()[varlist]\n",
    "count_baseline=data[sel].groupby('bin_' + var_bin).count()[varlist]\n",
    "print(mean_baseline)\n"
   ]
  },
  {
   "cell_type": "markdown",
   "metadata": {},
   "source": [
    "## Decomposition by  Financial assets: All Businesses"
   ]
  },
  {
   "cell_type": "code",
   "execution_count": 29,
   "metadata": {},
   "outputs": [
    {
     "name": "stdout",
     "output_type": "stream",
     "text": [
      "       kappa     R  intan_int  ret_sdf  div_yld_sdf  measured_markups  \\\n",
      "bin_a                                                                   \n",
      "0     0.366  0.938 0.671      1.138    -0.013       -2.791              \n",
      "1     0.441  1.207 0.548      1.157    0.036        12.840              \n",
      "2     0.498  1.429 0.484      1.124    0.037        21.967              \n",
      "3     0.522  1.653 0.453      1.094    0.044        25.041              \n",
      "4     1.110  5.139 0.631      1.146    0.025        -5.491              \n",
      "\n",
      "       val_sdf       a  wealth_sdf  s_age  sind_age  ind_age  ztilde_meas  \\\n",
      "bin_a                                                                       \n",
      "0     2.731    1.029   3.760       7.107  6.631     48.473   1.105          \n",
      "1     3.240    4.316   7.556       6.763  6.207     47.713   1.026          \n",
      "2     3.735    7.891   11.627      7.061  6.449     51.579   0.983          \n",
      "3     4.225    13.030  17.256      8.274  7.680     58.724   0.956          \n",
      "4     9.331    129.378 138.709     39.884 21.245    55.684   0.809          \n",
      "\n",
      "       ztilde  bus_inc    hy  hkap   n_e    ns     ks  \n",
      "bin_a                                                  \n",
      "0     0.299   0.353    0.070 0.035 0.105 0.068 5.758   \n",
      "1     0.327   0.804    0.106 0.024 0.130 0.099 8.760   \n",
      "2     0.405   1.038    0.129 0.023 0.152 0.120 10.710  \n",
      "3     0.436   1.168    0.135 0.019 0.155 0.137 11.909  \n",
      "4     0.312   1.561    0.070 0.015 0.084 0.398 24.275  \n"
     ]
    }
   ],
   "source": [
    "sel=(~data['flagC'] )\n",
    "\n",
    "var_bin = 'a'\n",
    "num_bins=5\n",
    "varlist=['kappa','R','intan_int','ret_sdf','div_yld_sdf','measured_markups','val_sdf','a','wealth_sdf','s_age','sind_age','ind_age','ztilde_meas','ztilde','bus_inc','hy','hkap','n_e','ns','ks']\n",
    "tmp, bins_original = pd.qcut(data[sel][var_bin], q = num_bins, labels=False, retbins = True)\n",
    "data['bin_' + var_bin] = tmp[:]\n",
    "bins = bins_original.copy()\n",
    "bins[0] = -np.inf\n",
    "bins[-1] = np.inf\n",
    "data['bin_' + var_bin] = pd.cut(data[var_bin], bins, labels = False)     \n",
    "mean_baseline=data[sel].groupby('bin_' + var_bin).mean()[varlist]\n",
    "count_baseline=data[sel].groupby('bin_' + var_bin).count()[varlist]\n",
    "print(mean_baseline)\n"
   ]
  },
  {
   "cell_type": "markdown",
   "metadata": {},
   "source": [
    "## Decomposition by z: All Businesses"
   ]
  },
  {
   "cell_type": "code",
   "execution_count": 30,
   "metadata": {},
   "outputs": [
    {
     "name": "stdout",
     "output_type": "stream",
     "text": [
      "       kappa  intan_int  ret_sdf  div_yld_sdf  measured_markups  val_sdf  \\\n",
      "bin_z                                                                      \n",
      "0     0.205  0.997      0.945    -0.001       -96.309           1.514      \n",
      "1     0.149  0.983      0.974    -0.001       -77.392           1.446      \n",
      "2     0.218  0.847      0.948    0.000        -18.606           1.585      \n",
      "3     0.373  0.520      0.955    0.027        54.671            2.191      \n",
      "4     0.600  0.317      1.279    0.042        43.451            4.398      \n",
      "5     6.476  0.209      1.999    0.051        27.014            62.335     \n",
      "\n",
      "            a  wealth_sdf  s_age  sind_age  ind_age  ztilde_meas  ztilde  \\\n",
      "bin_z                                                                      \n",
      "0     38.921  40.435      17.042 11.445    56.212   1.051        -0.840    \n",
      "1     38.016  39.462      17.045 11.098    56.362   1.056        -0.420    \n",
      "2     35.048  36.633      16.361 11.172    55.904   1.060        0.000     \n",
      "3     28.206  30.397      14.727 10.330    53.402   1.043        0.420     \n",
      "4     19.532  23.930      9.771  7.375     49.851   0.907        0.840     \n",
      "5     168.186 230.521     38.666 23.206    44.456   0.606        1.063     \n",
      "\n",
      "       bus_inc    hy  hkap   n_e    ns      ks      R  \n",
      "bin_z                                                  \n",
      "0     -0.002   0.000 0.000 0.000 0.000 0.000   0.145   \n",
      "1     -0.001   0.000 0.000 0.000 0.000 0.003   0.121   \n",
      "2     0.010    0.003 0.000 0.003 0.001 0.083   0.160   \n",
      "3     0.270    0.051 0.000 0.052 0.017 2.023   0.471   \n",
      "4     1.505    0.189 0.045 0.234 0.175 15.831  2.007   \n",
      "5     8.876    0.212 0.096 0.308 2.913 167.917 36.717  \n"
     ]
    }
   ],
   "source": [
    "sel=(~data['flagC'] )  \n",
    "var_bin = 'z'\n",
    "varlist=['kappa','intan_int','ret_sdf','div_yld_sdf','measured_markups','val_sdf','a','wealth_sdf','s_age','sind_age','ind_age','ztilde_meas','ztilde','bus_inc','hy','hkap','n_e','ns','ks','R']\n",
    "bins=data[sel].z\n",
    "bins=np.hstack((-1,sorted(data.z.unique())))\n",
    "data['bin_' + var_bin] = pd.cut(data[var_bin], bins, labels = False)     \n",
    "mean_baseline=data[sel].groupby('bin_' + var_bin).mean()[varlist]\n",
    "count_baseline=data[sel].groupby('bin_' + var_bin).count()[varlist]\n",
    "print(mean_baseline)"
   ]
  },
  {
   "cell_type": "markdown",
   "metadata": {},
   "source": [
    "# Cross Sectional Moments: Young Businesses"
   ]
  },
  {
   "cell_type": "markdown",
   "metadata": {},
   "source": [
    "#### ``young'' defined as owners that have been running the businesse for less than 5 yrs (variable: sind_age)"
   ]
  },
  {
   "cell_type": "code",
   "execution_count": 31,
   "metadata": {},
   "outputs": [
    {
     "name": "stdout",
     "output_type": "stream",
     "text": [
      "      gross_returns: sdf  gross_returns: mf  intan. intensity  \\\n",
      "mean 1.225               1.176              0.517               \n",
      "std  1.783               1.383              0.423               \n",
      "gini 0.203               0.146              0.430               \n",
      "p10  0.846               0.974              0.101               \n",
      "p25  0.990               1.016              0.112               \n",
      "p50  1.055               1.065              0.232               \n",
      "p75  1.251               1.175              1.000               \n",
      "p95  2.023               1.653              1.000               \n",
      "p99  2.934               2.030              1.000               \n",
      "\n",
      "      market value: R  div yield: sdf  div yield: mf  valuation: sdf  \\\n",
      "mean 1.313            0.001           0.009          3.627             \n",
      "std  2.712            0.171           0.113          5.136             \n",
      "gini 0.686            84.404          6.364          0.400             \n",
      "p10  0.008            -0.298          -0.150         1.209             \n",
      "p25  0.068            -0.000          -0.000         1.587             \n",
      "p50  0.173            0.000           0.000          2.471             \n",
      "p75  2.680            0.131           0.102          5.710             \n",
      "p95  3.828            0.174           0.134          6.206             \n",
      "p99  4.599            0.193           0.148          6.789             \n",
      "\n",
      "      valuation: mf    ns     ks  bus inc  fin wealth:a  wealth:vb_sdf+a  \\\n",
      "mean 5.713          0.747 9.312  0.727    13.537        17.165             \n",
      "std  8.591          1.567 15.789 1.633    36.086        36.794             \n",
      "gini 0.314          0.719 0.701  1.176    0.672         0.568              \n",
      "p10  3.123          0.000 0.000  -1.408   0.614         2.762              \n",
      "p25  3.291          0.000 0.000  -0.000   2.776         5.508              \n",
      "p50  4.503          0.001 0.013  0.000    6.218         10.037             \n",
      "p75  7.376          1.865 24.041 2.581    11.110        15.440             \n",
      "p95  7.993          2.172 28.163 3.151    41.376        49.989             \n",
      "p99  8.770          2.410 30.474 3.346    215.548       229.321            \n",
      "\n",
      "      wealth:vb_mf+a  markups  log_meas_tfp  log_z    hy  hkap  \\\n",
      "mean 19.251          4.454    0.913         0.398  0.110 0.042   \n",
      "std  37.355          81.346   0.145         0.582  0.142 0.082   \n",
      "gini 0.515           nan      0.085         0.748  0.655 0.802   \n",
      "p10  5.085           -100.000 0.795         -0.420 0.000 0.000   \n",
      "p25  7.355           -96.959  0.847         0.000  0.000 0.000   \n",
      "p50  11.747          56.999   0.858         0.840  0.000 0.001   \n",
      "p75  17.082          68.884   1.041         0.840  0.288 0.019   \n",
      "p95  57.138          100.887  1.130         0.840  0.340 0.247   \n",
      "p99  235.952         108.239  1.210         0.840  0.357 0.270   \n",
      "\n",
      "      total owner hrs: hy+hkap  \n",
      "mean 0.152                      \n",
      "std  0.150                      \n",
      "gini 0.541                      \n",
      "p10  0.000                      \n",
      "p25  0.000                      \n",
      "p50  0.122                      \n",
      "p75  0.311                      \n",
      "p95  0.363                      \n",
      "p99  0.379                      \n"
     ]
    }
   ],
   "source": [
    "sel=(~data['flagC'] ) & (data['sind_age']<5.0)  \n",
    "\n",
    "val,cols=stats.describe(data[sel].ret_sdf,data[sel]['wgt'])\n",
    "moments_only_business=pd.DataFrame(val.T,columns=['gross_returns: sdf'])\n",
    "moments_only_business.index=cols\n",
    "\n",
    "val,cols=stats.describe(data[sel].ret_mf,data[sel]['wgt'])\n",
    "moments_only_business['gross_returns: mf']=val\n",
    "\n",
    "\n",
    "val,cols=stats.describe(data[sel].ret_sdf,data[sel]['wgt'])\n",
    "moments_only_business['gross_returns: sdf']=val\n",
    "\n",
    "\n",
    "sel2=sel&(data['ns']>0)\n",
    "val,cols=stats.describe(data[sel2].intan_int,data[sel2]['wgt'])\n",
    "moments_only_business['intan. intensity']=val\n",
    "\n",
    "\n",
    "val,cols=stats.describe(data[sel].R,data[sel]['wgt'])\n",
    "moments_only_business['market value: R']=val\n",
    "\n",
    "\n",
    "val,cols=stats.describe(data[sel].div_yld_sdf,data[sel]['wgt'])\n",
    "moments_only_business['div yield: sdf']=val\n",
    "\n",
    "\n",
    "val,cols=stats.describe(data[sel].div_yld_mf,data[sel]['wgt'])\n",
    "moments_only_business['div yield: mf']=val\n",
    "\n",
    "\n",
    "val,cols=stats.describe(data[sel].val_sdf,data[sel]['wgt'])\n",
    "moments_only_business['valuation: sdf']=val\n",
    "\n",
    "val,cols=stats.describe(data[sel].val_mf,data[sel]['wgt'])\n",
    "moments_only_business['valuation: mf']=val\n",
    "\n",
    "\n",
    "val,cols=stats.describe(w*data[sel].ns,data[sel]['wgt'])\n",
    "moments_only_business['ns']=val\n",
    "\n",
    "\n",
    "val,cols=stats.describe(data[sel].ks,data[sel]['wgt'])\n",
    "moments_only_business['ks']=val\n",
    "\n",
    "\n",
    "val,cols=stats.describe(data[sel].bus_inc,data[sel]['wgt'])\n",
    "moments_only_business['bus inc']=val\n",
    "\n",
    "\n",
    "\n",
    "val,cols=stats.describe(data[sel].a,data[sel]['wgt'])\n",
    "moments_only_business['fin wealth:a']=val\n",
    "\n",
    "\n",
    "val,cols=stats.describe(data[sel].wealth_sdf,data[sel]['wgt'])\n",
    "moments_only_business['wealth:vb_sdf+a']=val\n",
    "\n",
    "val,cols=stats.describe(data[sel].wealth_mf,data[sel]['wgt'])\n",
    "moments_only_business['wealth:vb_mf+a']=val\n",
    "\n",
    "\n",
    "\n",
    "val,cols=stats.describe(data[sel].measured_markups,data[sel]['wgt'])\n",
    "moments_only_business['markups']=val\n",
    "\n",
    "\n",
    "sel_temp=(~data['flagC'] ) & (~data['flagO']) & (~pd.isna(data['ztilde_meas']))\n",
    "val,cols=stats.describe(data[sel_temp].ztilde_meas,data[sel_temp]['wgt'])\n",
    "moments_only_business['log_meas_tfp']=val\n",
    "\n",
    "\n",
    "val,cols=stats.describe(data[sel].ztilde,data[sel]['wgt'])\n",
    "moments_only_business['log_z']=val\n",
    "\n",
    "val,cols=stats.describe(data[sel].hy,data[sel]['wgt'])\n",
    "moments_only_business['hy']=val\n",
    "\n",
    "\n",
    "val,cols=stats.describe(data[sel].hkap,data[sel]['wgt'])\n",
    "moments_only_business['hkap']=val\n",
    "\n",
    "\n",
    "val,cols=stats.describe(data[sel].hy,data[sel]['wgt'])\n",
    "moments_only_business['hy']=val\n",
    "\n",
    "\n",
    "val,cols=stats.describe(data[sel].n_e,data[sel]['wgt'])\n",
    "moments_only_business['total owner hrs: hy+hkap']=val\n",
    "\n",
    "\n",
    "print (moments_only_business)\n",
    "moments_only_business.to_excel('moments_young_businesses.xls')\n"
   ]
  },
  {
   "cell_type": "markdown",
   "metadata": {},
   "source": [
    "## Decomposition by  Sweat Capital: Young Businesses"
   ]
  },
  {
   "cell_type": "code",
   "execution_count": 32,
   "metadata": {},
   "outputs": [
    {
     "name": "stdout",
     "output_type": "stream",
     "text": [
      "           kappa     x  intan_int  ret_sdf  div_yld_sdf  measured_markups  \\\n",
      "bin_kappa                                                                   \n",
      "0         0.000  0.000 0.997      0.980    0.000        -29.216             \n",
      "1         0.033  0.012 0.873      0.985    -0.006       -27.445             \n",
      "2         0.563  0.316 0.357      1.169    -0.028       30.034              \n",
      "3         0.713  0.338 0.197      1.318    0.062        43.089              \n",
      "4         0.928  0.979 0.389      1.672    -0.023       5.457               \n",
      "\n",
      "           val_sdf      a  wealth_sdf  s_age  sind_age  ind_age  ztilde_meas  \\\n",
      "bin_kappa                                                                      \n",
      "0         1.491    18.055 19.546      4.305  1.455     50.574   1.088          \n",
      "1         1.536    20.066 21.602      3.200  1.393     49.341   1.087          \n",
      "2         3.475    12.437 15.912      2.704  1.987     47.216   0.978          \n",
      "3         4.921    8.053  12.974      2.677  1.957     45.349   0.902          \n",
      "4         6.712    9.076  15.788      2.843  1.506     39.234   0.862          \n",
      "\n",
      "           ztilde  bus_inc    hy  hkap   n_e    ns     ks  \n",
      "bin_kappa                                                  \n",
      "0         -0.101  0.000    0.000 0.000 0.000 0.000 0.000   \n",
      "1         -0.049  -0.000   0.003 0.003 0.006 0.001 0.082   \n",
      "2         0.592   0.700    0.124 0.051 0.175 0.089 8.494   \n",
      "3         0.732   1.745    0.224 0.046 0.270 0.195 17.881  \n",
      "4         0.818   1.187    0.201 0.109 0.310 0.244 20.105  \n"
     ]
    }
   ],
   "source": [
    "sel=(~data['flagC'] ) & (data['sind_age']<5) \n",
    "var_bin = 'kappa'\n",
    "num_bins=5\n",
    "varlist=['kappa','x','intan_int','ret_sdf','div_yld_sdf','measured_markups','val_sdf','a','wealth_sdf','s_age','sind_age','ind_age','ztilde_meas','ztilde','bus_inc','hy','hkap','n_e','ns','ks']\n",
    "tmp, bins_original = pd.qcut(data[sel][var_bin], q = num_bins, labels=False, retbins = True)\n",
    "data['bin_' + var_bin] = tmp[:]\n",
    "bins = bins_original.copy()\n",
    "bins[0] = -np.inf\n",
    "bins[-1] = np.inf\n",
    "data['bin_' + var_bin] = pd.cut(data[var_bin], bins, labels = False)     \n",
    "mean_baseline=data[sel].groupby('bin_' + var_bin).mean()[varlist]\n",
    "count_baseline=data[sel].groupby('bin_' + var_bin).count()[varlist]\n",
    "print(mean_baseline)\n"
   ]
  },
  {
   "cell_type": "markdown",
   "metadata": {},
   "source": [
    "## Decomposition by Financial Assets: Young Businesses"
   ]
  },
  {
   "cell_type": "code",
   "execution_count": 33,
   "metadata": {},
   "outputs": [
    {
     "name": "stdout",
     "output_type": "stream",
     "text": [
      "       kappa  intan_int  ret_sdf  div_yld_sdf  measured_markups  val_sdf  \\\n",
      "bin_a                                                                      \n",
      "0     0.445  0.625      1.225    -0.049       -6.681            3.353      \n",
      "1     0.457  0.526      1.240    0.032        7.270             3.283      \n",
      "2     0.469  0.533      1.205    0.020        11.055            3.583      \n",
      "3     0.457  0.532      1.140    0.009        11.328            3.846      \n",
      "4     0.408  0.603      1.314    -0.007       -0.712            4.071      \n",
      "\n",
      "           a  wealth_sdf  s_age  sind_age  ind_age  ztilde_meas  ztilde  \\\n",
      "bin_a                                                                     \n",
      "0     0.781  4.134       2.071  1.543     40.885   1.071        0.427     \n",
      "1     3.433  6.715       2.183  1.663     41.889   1.012        0.376     \n",
      "2     6.270  9.853       2.228  1.700     45.890   0.983        0.407     \n",
      "3     10.028 13.874      2.302  1.659     51.584   0.964        0.409     \n",
      "4     47.176 51.247      6.945  1.733     51.467   0.915        0.374     \n",
      "\n",
      "       bus_inc    hy  hkap   n_e  \n",
      "bin_a                             \n",
      "0     0.422    0.094 0.060 0.154  \n",
      "1     0.786    0.119 0.042 0.161  \n",
      "2     0.891    0.126 0.041 0.167  \n",
      "3     0.954    0.128 0.035 0.163  \n",
      "4     0.578    0.084 0.032 0.116  \n"
     ]
    }
   ],
   "source": [
    "sel=(~data['flagC'] ) & (data['sind_age']<5.0)  \n",
    "\n",
    "var_bin = 'a'\n",
    "num_bins=5\n",
    "varlist=['kappa','intan_int','ret_sdf','div_yld_sdf','measured_markups','val_sdf','a','wealth_sdf','s_age','sind_age','ind_age','ztilde_meas','ztilde','bus_inc','hy','hkap','n_e']\n",
    "tmp, bins_original = pd.qcut(data[sel][var_bin], q = num_bins, labels=False, retbins = True)\n",
    "data['bin_' + var_bin] = tmp[:]\n",
    "bins = bins_original.copy()\n",
    "bins[0] = -np.inf\n",
    "bins[-1] = np.inf\n",
    "data['bin_' + var_bin] = pd.cut(data[var_bin], bins, labels = False)     \n",
    "mean_baseline=data[sel].groupby('bin_' + var_bin).mean()[varlist]\n",
    "count_baseline=data[sel].groupby('bin_' + var_bin).count()[varlist]\n",
    "print(mean_baseline)\n"
   ]
  },
  {
   "cell_type": "markdown",
   "metadata": {},
   "source": [
    "## Decomposition by z: Young Businesses"
   ]
  },
  {
   "cell_type": "code",
   "execution_count": 34,
   "metadata": {},
   "outputs": [
    {
     "name": "stdout",
     "output_type": "stream",
     "text": [
      "       bus_inc  kappa  intan_int  ret_sdf  div_yld_sdf  measured_markups  \\\n",
      "bin_z                                                                      \n",
      "0     -0.001   0.104  0.997      0.925    -0.000       -96.431             \n",
      "1     -0.000   0.041  0.985      0.964    -0.000       -75.003             \n",
      "2     0.008    0.113  0.868      0.931    0.001        -4.102              \n",
      "3     0.282    0.315  0.529      0.919    0.029        62.977              \n",
      "4     1.269    0.630  0.359      1.384    -0.006       21.222              \n",
      "5     1.189    4.113  0.275      6.862    -0.053       -1.592              \n",
      "\n",
      "       val_sdf      a  wealth_sdf  s_age  sind_age  ind_age  ztilde_meas  \\\n",
      "bin_z                                                                      \n",
      "0     1.565    17.623 19.188      3.710  1.588     51.504   1.087          \n",
      "1     1.533    15.976 17.509      3.285  1.473     49.790   1.088          \n",
      "2     1.622    17.023 18.645      3.474  1.626     49.839   1.089          \n",
      "3     2.225    14.206 16.431      3.737  1.948     46.838   1.066          \n",
      "4     4.474    9.968  14.441      2.473  1.618     44.305   0.903          \n",
      "5     47.158   97.270 144.428     19.873 1.949     23.102   0.612          \n",
      "\n",
      "       ztilde    hy  hkap   n_e    ns     ks      R  \n",
      "bin_z                                                \n",
      "0     -0.840  0.000 0.000 0.000 0.000 0.000  0.100   \n",
      "1     -0.420  0.000 0.000 0.000 0.000 0.001  0.073   \n",
      "2     0.000   0.002 0.000 0.002 0.000 0.062  0.106   \n",
      "3     0.420   0.055 0.000 0.056 0.017 2.085  0.424   \n",
      "4     0.840   0.189 0.075 0.264 0.168 15.371 1.942   \n",
      "5     1.063   0.190 0.233 0.423 1.555 94.439 20.982  \n"
     ]
    }
   ],
   "source": [
    "sel=(~data['flagC'] ) & (data['sind_age']<5)  \n",
    "\n",
    "var_bin = 'z'\n",
    "varlist=['bus_inc','kappa','intan_int','ret_sdf','div_yld_sdf','measured_markups','val_sdf','a','wealth_sdf','s_age','sind_age','ind_age','ztilde_meas','ztilde','hy','hkap','n_e','ns','ks','R']\n",
    "bins=np.hstack((-1,sorted(data.z.unique())))\n",
    "data['bin_' + var_bin] = pd.cut(data[var_bin], bins, labels = False)     \n",
    "mean_baseline=data[sel].groupby('bin_' + var_bin).mean()[varlist]\n",
    "count_baseline=data[sel].groupby('bin_' + var_bin).count()[varlist]\n",
    "print(mean_baseline)\n"
   ]
  },
  {
   "cell_type": "markdown",
   "metadata": {},
   "source": [
    "# Effects of change in $\\tau_{b}$\n",
    "Please point to the simulations of the economy after the tabx change"
   ]
  },
  {
   "cell_type": "code",
   "execution_count": 35,
   "metadata": {},
   "outputs": [],
   "source": [
    "df_baseline=[]\n",
    "df_target=[]\n",
    "my_file_handle=open(path_baseline+ '/' + momfilename_baseline )\n",
    "textbuffer_baseline=my_file_handle.read()\n",
    "my_file_handle=open(path_target+'/'+momfilename_target)\n",
    "textbuffer_target=my_file_handle.read()\n",
    "w,p,rc,rs,delta,GDP=get_prices(path_target,momfilename_target)\n",
    "df_target=uploadData(path_target,w,rs,rc,p,delta)"
   ]
  },
  {
   "cell_type": "markdown",
   "metadata": {},
   "source": [
    "##    $\\Delta$  in Equilibrium Prices\n",
    "% change in wage, rental rate of capital, and relative price of s-good"
   ]
  },
  {
   "cell_type": "code",
   "execution_count": 36,
   "metadata": {},
   "outputs": [
    {
     "name": "stdout",
     "output_type": "stream",
     "text": [
      "Wage (w):  0.4338288110524502\n",
      "S-good price (p):  4.217557456974541\n",
      "Interest rate (r_c):  -0.6421854400318061\n"
     ]
    }
   ],
   "source": [
    "varlist=['Wage (w)','S-good price (p)','Interest rate (r_c)']\n",
    "for var in varlist:\n",
    "    print(var+ \":  \"+ str((__extract_num__(var,textbuffer_target)/__extract_num__(var,textbuffer_baseline)-1)*100 ))"
   ]
  },
  {
   "cell_type": "markdown",
   "metadata": {},
   "source": [
    "##    $\\Delta$  in economy-wide aggregates"
   ]
  },
  {
   "cell_type": "code",
   "execution_count": 37,
   "metadata": {},
   "outputs": [],
   "source": [
    "DeltaDebt=(__extract_num__('  Govt. debt(b)',textbuffer_target)/__extract_num__('  Govt. debt(b)',textbuffer_baseline)-1)*100\n",
    "DeltaFracS=(__extract_num__('  Frac of S-corp owner',textbuffer_target)/__extract_num__('  Frac of S-corp owner',textbuffer_baseline)-1)*100\n",
    "\n",
    "DeltaGDP=(__extract_num__('  GDP',textbuffer_target)/__extract_num__('  GDP',textbuffer_baseline)-1)*100\n",
    "AggCons_baseline=__extract_num__('  Consumption(Ecc)',textbuffer_baseline)+__extract_num__('  Consumption(Ecs)',textbuffer_baseline)*__extract_num__('S-good price (p)',textbuffer_baseline)\n",
    "AggCons_target=__extract_num__('  Consumption(Ecc)',textbuffer_target)+__extract_num__('  Consumption(Ecs)',textbuffer_target)*__extract_num__('S-good price (p)',textbuffer_target)\n",
    "DeltaAggCons=(AggCons_target/AggCons_baseline-1)*100\n",
    "AggHours_baseline=__extract_num__('  Eff. Worked Hours Demand(nc)',textbuffer_baseline)+__extract_num__('  Eff. Worked Hours Demand(Ens)',textbuffer_baseline)+__extract_num__('  Hours, sweat(Ehkap) ',textbuffer_baseline)+__extract_num__('  Hours, production(Ehy) ',textbuffer_baseline)\n",
    "AggHours_target=__extract_num__('  Eff. Worked Hours Demand(nc)',textbuffer_target)+__extract_num__('  Eff. Worked Hours Demand(Ens)',textbuffer_target)+__extract_num__('  Hours, sweat(Ehkap) ',textbuffer_target)+__extract_num__('  Hours, production(Ehy) ',textbuffer_target)\n",
    "DeltaAggHours=(AggHours_target/AggHours_baseline-1)*100\n",
    "DeltaVb_mutual=(df_target.val_mf.sum()/data.val_mf.sum()-1)*100\n",
    "AggFa_baseline=__extract_num__('  Capital(kc)',textbuffer_baseline)+__extract_num__('  S-Corp Rental Capital (ks)',textbuffer_baseline)\n",
    "AggFa_target=__extract_num__('  Capital(kc)',textbuffer_target)+__extract_num__('  S-Corp Rental Capital (ks)',textbuffer_target)\n",
    "DeltaAggFa=(AggFa_target/AggFa_baseline-1)*100  \n",
    "DeltaTaxRevenues=(__extract_num__('  Tax revenue(tax_rev)',textbuffer_target)/__extract_num__('  Tax revenue(tax_rev)',textbuffer_baseline)-1)*100\n",
    "AggEmpHours_baseline=__extract_num__('  Eff. Worked Hours Demand(nc)',textbuffer_baseline)+__extract_num__('  Eff. Worked Hours Demand(Ens)',textbuffer_baseline)\n",
    "AggEmpHours_target=__extract_num__('  Eff. Worked Hours Demand(nc)',textbuffer_target)+__extract_num__('  Eff. Worked Hours Demand(Ens)',textbuffer_target)\n",
    "DeltaAggEmpHours=(AggEmpHours_target/AggEmpHours_baseline-1)*100\n"
   ]
  },
  {
   "cell_type": "code",
   "execution_count": 38,
   "metadata": {},
   "outputs": [
    {
     "name": "stdout",
     "output_type": "stream",
     "text": [
      "GDP: 9.363365187343708\n",
      "Agg. Cons: 11.97749098223948\n",
      "Agg. Hours: 7.172276033988556\n",
      "Agg. Emp Hours: 17.553392988464434\n",
      "Agg. Vb (mf): 16.866095817377346\n",
      "Agg. Fixed assets: 13.937406060970048\n",
      "Agg. Tax revenues: -0.6247368247626617\n",
      "Agg. Debt: -3.1514060235782404\n",
      "Frac in S: -39.00200133422283\n"
     ]
    }
   ],
   "source": [
    "print(\"GDP: \" + str( DeltaGDP))\n",
    "print(\"Agg. Cons: \" + str( DeltaAggCons))\n",
    "print(\"Agg. Hours: \" + str( DeltaAggHours))\n",
    "print(\"Agg. Emp Hours: \" + str( DeltaAggEmpHours))\n",
    "print(\"Agg. Vb (mf): \" + str( DeltaVb_mutual))\n",
    "print(\"Agg. Fixed assets: \" + str( DeltaAggFa))\n",
    "print(\"Agg. Tax revenues: \" + str( DeltaTaxRevenues))\n",
    "print(\"Agg. Debt: \" + str(DeltaDebt))\n",
    "print(\"Frac in S: \" + str(DeltaFracS))"
   ]
  },
  {
   "cell_type": "markdown",
   "metadata": {},
   "source": [
    "##    $\\Delta$  in C-corp sector"
   ]
  },
  {
   "cell_type": "code",
   "execution_count": 39,
   "metadata": {},
   "outputs": [
    {
     "name": "stdout",
     "output_type": "stream",
     "text": [
      "  Output(yc) :  18.711597558874814\n",
      "  Consumption(Ecc):  12.003184937792977\n",
      "  Eff. Worked Hours Demand(nc):  18.198817036248414\n",
      "  Capital(kc):  19.18236011303154\n"
     ]
    }
   ],
   "source": [
    "varlist=['  Output(yc) ','  Consumption(Ecc)','  Eff. Worked Hours Demand(nc)','  Capital(kc)']\n",
    "for var in varlist:\n",
    "    print(var+ \":  \"+ str((__extract_num__(var,textbuffer_target)/__extract_num__(var,textbuffer_baseline)-1)*100 ))"
   ]
  },
  {
   "cell_type": "code",
   "execution_count": 40,
   "metadata": {},
   "outputs": [],
   "source": [
    "df_baseline_workers = data[data['flagC']==True]\n",
    "df_target_workers=df_target[df_target['flagC']==True]\n",
    "df_baseline = data[data['flagC']==False]\n",
    "df_target=df_target[df_target['flagC']==False]"
   ]
  },
  {
   "cell_type": "code",
   "execution_count": 41,
   "metadata": {},
   "outputs": [],
   "source": [
    "my_file_handle=open(path_baseline+'/'+momfilename_baseline)\n",
    "textbuffer_baseline=my_file_handle.read()\n",
    "my_file_handle=open(path_target+'/'+momfilename_target)\n",
    "textbuffer_target=my_file_handle.read()"
   ]
  },
  {
   "cell_type": "markdown",
   "metadata": {},
   "source": [
    "##    $\\Delta$ factor use and outputs for  Private Busineses"
   ]
  },
  {
   "cell_type": "code",
   "execution_count": 42,
   "metadata": {},
   "outputs": [
    {
     "name": "stdout",
     "output_type": "stream",
     "text": [
      "---------------- sum change (%)--------------\n",
      "x         1.635  \n",
      "hy        -35.968\n",
      "ns        16.223 \n",
      "hkap      -27.719\n",
      "ne        -34.434\n",
      "ys        -1.058 \n",
      "ks        3.451  \n",
      "kappa     -6.310 \n",
      "bus_inc   -12.576\n",
      "pys       3.115  \n",
      "wns       16.727 \n",
      "val_mf    -2.409 \n",
      "val_sdf   -5.135 \n",
      "div       -4.938 \n",
      "s_age     -45.759\n",
      "pys       3.115  \n",
      "dtype: float64\n"
     ]
    }
   ],
   "source": [
    "varlist=['x','hy','ns','hkap','ne','ys','ks','kappa','bus_inc','pys','wns','val_mf','val_sdf','div','s_age','pys']\n",
    "print(\"---------------- sum change (%)--------------\")\n",
    "# per_change_agg=100.*(df_target[varlist].sum()/df_baseline[varlist].sum() -1.)\n",
    "# print(per_change_agg)\n",
    "print(100.*(df_target.sum()/df_baseline.sum() - 1.)[varlist])"
   ]
  },
  {
   "cell_type": "markdown",
   "metadata": {},
   "source": [
    "##  Aggregate $\\Delta$ profitability\n",
    "Agg profitability is defined as  sum of business incomes in passthrus / sum of physical capital used in pass thrus "
   ]
  },
  {
   "cell_type": "code",
   "execution_count": 43,
   "metadata": {},
   "outputs": [
    {
     "name": "stdout",
     "output_type": "stream",
     "text": [
      "---------------- profitability --------------\n",
      "after tax change:   6.78\n",
      "Baseline:           8.02\n",
      "DELTA:             -15.49\n"
     ]
    }
   ],
   "source": [
    "print(\"---------------- profitability --------------\")\n",
    "target_profitability=df_target.bus_inc.sum()/df_target.ks.sum()\n",
    "baseline_profitability=df_baseline.bus_inc.sum()/df_baseline.ks.sum()\n",
    "print(\"after tax change:  % 4.2f\" % (100*target_profitability))\n",
    "print(\"Baseline:          % 4.2f\"  % (100*baseline_profitability))\n",
    "print(\"DELTA:             % 4.2f\" % ( 100*(target_profitability/baseline_profitability-1) ))\n"
   ]
  },
  {
   "cell_type": "markdown",
   "metadata": {},
   "source": [
    "##  Aggregate $\\Delta$ markups\n",
    "Agg markups  is defined as  sum of business incomes in passthrus / sum rental and wage expenses in pass thrus "
   ]
  },
  {
   "cell_type": "code",
   "execution_count": 44,
   "metadata": {},
   "outputs": [
    {
     "name": "stdout",
     "output_type": "stream",
     "text": [
      "after tax change:   32.61\n",
      "Baseline:           40.85\n",
      "DELTA:             -20.18\n"
     ]
    }
   ],
   "source": [
    "target_markups=df_target.bus_inc.sum()/df_target.cogs.sum()\n",
    "baseline_markups=df_baseline.bus_inc.sum()/df_baseline.cogs.sum()\n",
    "print(\"after tax change:  % 4.2f\" % (100*target_markups))\n",
    "print(\"Baseline:          % 4.2f\"  % (100*baseline_markups))\n",
    "print(\"DELTA:             % 4.2f\" % ( 100*(target_markups/baseline_markups-1) ))\n"
   ]
  },
  {
   "cell_type": "markdown",
   "metadata": {},
   "source": [
    "## Aggregate $\\Delta$ TFP in passthru\n",
    "Agg. TFP is defined as (sum of ys )  divided   (sum of ks)^(1/3) x (sum of ns)^(2/3)"
   ]
  },
  {
   "cell_type": "code",
   "execution_count": 45,
   "metadata": {},
   "outputs": [
    {
     "name": "stdout",
     "output_type": "stream",
     "text": [
      "after tax change:    2.01\n",
      "Baseline:            2.27\n",
      "DELTA:              -11.40\n"
     ]
    }
   ],
   "source": [
    "target_TFP=(df_target.ys.sum())/ (((df_target.ks.sum())**(0.33))*((df_target.ns.sum())**(0.66)))\n",
    "baseline_TFP=(df_baseline.ys.sum()) /(((df_baseline.ks.sum())**(0.33))*((df_baseline.ns.sum())**(0.66)))\n",
    "print(\"after tax change:   % 4.2f\" % (target_TFP))\n",
    "print(\"Baseline:           % 4.2f\" % (baseline_TFP))\n",
    "print(\"DELTA:              % 4.2f\"% (100*(target_TFP/baseline_TFP-1))) \n"
   ]
  },
  {
   "cell_type": "markdown",
   "metadata": {},
   "source": [
    "## Decomposition of $\\Delta$ by Owner productivity \"z\""
   ]
  },
  {
   "cell_type": "code",
   "execution_count": 46,
   "metadata": {},
   "outputs": [
    {
     "name": "stdout",
     "output_type": "stream",
     "text": [
      "\n",
      "SORTED BY z\n",
      "BINS = [-1.0, 0.43, 0.66, 1.0, 1.52, 2.32, 2.9]\n"
     ]
    }
   ],
   "source": [
    "var_bin = 'z'\n",
    "var_list=['ztilde','eps','a','bus_inc','ys','ks','kappa','ns','hy','hkap','ztilde_meas','zkapphi','ne','measured_markups','pys','wns']\n",
    "bins=data[sel].z\n",
    "bins=np.hstack((-1,sorted(data.z.unique())))\n",
    "total,sum_baseline,intensive_alt,extensive_alt=print_results(var_bin,bins,var_list,df_baseline,df_target)"
   ]
  },
  {
   "cell_type": "markdown",
   "metadata": {},
   "source": [
    "### Total change"
   ]
  },
  {
   "cell_type": "code",
   "execution_count": 47,
   "metadata": {},
   "outputs": [
    {
     "data": {
      "text/html": [
       "<div>\n",
       "<style scoped>\n",
       "    .dataframe tbody tr th:only-of-type {\n",
       "        vertical-align: middle;\n",
       "    }\n",
       "\n",
       "    .dataframe tbody tr th {\n",
       "        vertical-align: top;\n",
       "    }\n",
       "\n",
       "    .dataframe thead th {\n",
       "        text-align: right;\n",
       "    }\n",
       "</style>\n",
       "<table border=\"1\" class=\"dataframe\">\n",
       "  <thead>\n",
       "    <tr style=\"text-align: right;\">\n",
       "      <th></th>\n",
       "      <th>bins/total</th>\n",
       "      <th>ztilde</th>\n",
       "      <th>eps</th>\n",
       "      <th>a</th>\n",
       "      <th>bus_inc</th>\n",
       "      <th>ys</th>\n",
       "      <th>ks</th>\n",
       "      <th>kappa</th>\n",
       "      <th>ns</th>\n",
       "      <th>hy</th>\n",
       "      <th>hkap</th>\n",
       "      <th>ztilde_meas</th>\n",
       "      <th>zkapphi</th>\n",
       "      <th>ne</th>\n",
       "      <th>measured_markups</th>\n",
       "      <th>pys</th>\n",
       "      <th>wns</th>\n",
       "    </tr>\n",
       "  </thead>\n",
       "  <tbody>\n",
       "    <tr>\n",
       "      <th>0</th>\n",
       "      <td>(-1.0, 0.432]</td>\n",
       "      <td>11.061</td>\n",
       "      <td>-4.621</td>\n",
       "      <td>-2.907</td>\n",
       "      <td>0.005</td>\n",
       "      <td>-0.000</td>\n",
       "      <td>-0.000</td>\n",
       "      <td>-0.637</td>\n",
       "      <td>-0.000</td>\n",
       "      <td>-0.000</td>\n",
       "      <td>-0.066</td>\n",
       "      <td>-5.781</td>\n",
       "      <td>-0.739</td>\n",
       "      <td>-0.013</td>\n",
       "      <td>42.878</td>\n",
       "      <td>-0.000</td>\n",
       "      <td>-0.000</td>\n",
       "    </tr>\n",
       "    <tr>\n",
       "      <th>1</th>\n",
       "      <td>(0.432, 0.657]</td>\n",
       "      <td>5.231</td>\n",
       "      <td>-4.321</td>\n",
       "      <td>-2.165</td>\n",
       "      <td>0.004</td>\n",
       "      <td>-0.001</td>\n",
       "      <td>-0.001</td>\n",
       "      <td>-0.392</td>\n",
       "      <td>-0.000</td>\n",
       "      <td>-0.003</td>\n",
       "      <td>-0.064</td>\n",
       "      <td>-5.459</td>\n",
       "      <td>-0.946</td>\n",
       "      <td>-0.015</td>\n",
       "      <td>30.684</td>\n",
       "      <td>-0.001</td>\n",
       "      <td>-0.000</td>\n",
       "    </tr>\n",
       "    <tr>\n",
       "      <th>2</th>\n",
       "      <td>(0.657, 1.0]</td>\n",
       "      <td>0.000</td>\n",
       "      <td>-4.880</td>\n",
       "      <td>-2.518</td>\n",
       "      <td>-0.029</td>\n",
       "      <td>-0.021</td>\n",
       "      <td>-0.018</td>\n",
       "      <td>-0.949</td>\n",
       "      <td>-0.008</td>\n",
       "      <td>-0.102</td>\n",
       "      <td>-0.075</td>\n",
       "      <td>-6.117</td>\n",
       "      <td>-1.898</td>\n",
       "      <td>-0.097</td>\n",
       "      <td>6.136</td>\n",
       "      <td>-0.018</td>\n",
       "      <td>-0.008</td>\n",
       "    </tr>\n",
       "    <tr>\n",
       "      <th>3</th>\n",
       "      <td>(1.0, 1.522]</td>\n",
       "      <td>-8.730</td>\n",
       "      <td>-7.523</td>\n",
       "      <td>-3.496</td>\n",
       "      <td>-1.280</td>\n",
       "      <td>-0.776</td>\n",
       "      <td>-0.668</td>\n",
       "      <td>-2.256</td>\n",
       "      <td>-0.297</td>\n",
       "      <td>-3.350</td>\n",
       "      <td>-0.137</td>\n",
       "      <td>-9.279</td>\n",
       "      <td>-5.494</td>\n",
       "      <td>-2.753</td>\n",
       "      <td>-40.351</td>\n",
       "      <td>-0.676</td>\n",
       "      <td>-0.290</td>\n",
       "    </tr>\n",
       "    <tr>\n",
       "      <th>4</th>\n",
       "      <td>(1.522, 2.317]</td>\n",
       "      <td>-41.403</td>\n",
       "      <td>-20.121</td>\n",
       "      <td>-6.157</td>\n",
       "      <td>-19.225</td>\n",
       "      <td>-15.363</td>\n",
       "      <td>-13.389</td>\n",
       "      <td>-11.292</td>\n",
       "      <td>-8.722</td>\n",
       "      <td>-32.226</td>\n",
       "      <td>-29.111</td>\n",
       "      <td>-18.808</td>\n",
       "      <td>-25.741</td>\n",
       "      <td>-31.647</td>\n",
       "      <td>-83.560</td>\n",
       "      <td>-13.536</td>\n",
       "      <td>-8.550</td>\n",
       "    </tr>\n",
       "    <tr>\n",
       "      <th>5</th>\n",
       "      <td>(2.317, 2.896]</td>\n",
       "      <td>-0.064</td>\n",
       "      <td>-0.028</td>\n",
       "      <td>4.361</td>\n",
       "      <td>7.948</td>\n",
       "      <td>15.102</td>\n",
       "      <td>17.527</td>\n",
       "      <td>9.217</td>\n",
       "      <td>25.251</td>\n",
       "      <td>-0.286</td>\n",
       "      <td>1.734</td>\n",
       "      <td>-0.249</td>\n",
       "      <td>0.258</td>\n",
       "      <td>0.090</td>\n",
       "      <td>-1.132</td>\n",
       "      <td>17.346</td>\n",
       "      <td>25.575</td>\n",
       "    </tr>\n",
       "    <tr>\n",
       "      <th>6</th>\n",
       "      <td>total</td>\n",
       "      <td>-33.905</td>\n",
       "      <td>-41.494</td>\n",
       "      <td>-12.880</td>\n",
       "      <td>-12.576</td>\n",
       "      <td>-1.058</td>\n",
       "      <td>3.451</td>\n",
       "      <td>-6.310</td>\n",
       "      <td>16.223</td>\n",
       "      <td>-35.968</td>\n",
       "      <td>-27.719</td>\n",
       "      <td>-45.693</td>\n",
       "      <td>-34.560</td>\n",
       "      <td>-34.434</td>\n",
       "      <td>-45.344</td>\n",
       "      <td>3.115</td>\n",
       "      <td>16.727</td>\n",
       "    </tr>\n",
       "  </tbody>\n",
       "</table>\n",
       "</div>"
      ],
      "text/plain": [
       "       bins/total  ztilde     eps       a  bus_inc      ys      ks   kappa  \\\n",
       "0  (-1.0, 0.432]  11.061  -4.621  -2.907  0.005    -0.000  -0.000  -0.637    \n",
       "1  (0.432, 0.657] 5.231   -4.321  -2.165  0.004    -0.001  -0.001  -0.392    \n",
       "2  (0.657, 1.0]   0.000   -4.880  -2.518  -0.029   -0.021  -0.018  -0.949    \n",
       "3  (1.0, 1.522]   -8.730  -7.523  -3.496  -1.280   -0.776  -0.668  -2.256    \n",
       "4  (1.522, 2.317] -41.403 -20.121 -6.157  -19.225  -15.363 -13.389 -11.292   \n",
       "5  (2.317, 2.896] -0.064  -0.028  4.361   7.948    15.102  17.527  9.217     \n",
       "6  total          -33.905 -41.494 -12.880 -12.576  -1.058  3.451   -6.310    \n",
       "\n",
       "      ns      hy    hkap  ztilde_meas  zkapphi      ne  measured_markups  \\\n",
       "0 -0.000 -0.000  -0.066  -5.781       -0.739   -0.013  42.878              \n",
       "1 -0.000 -0.003  -0.064  -5.459       -0.946   -0.015  30.684              \n",
       "2 -0.008 -0.102  -0.075  -6.117       -1.898   -0.097  6.136               \n",
       "3 -0.297 -3.350  -0.137  -9.279       -5.494   -2.753  -40.351             \n",
       "4 -8.722 -32.226 -29.111 -18.808      -25.741  -31.647 -83.560             \n",
       "5 25.251 -0.286  1.734   -0.249       0.258    0.090   -1.132              \n",
       "6 16.223 -35.968 -27.719 -45.693      -34.560  -34.434 -45.344             \n",
       "\n",
       "      pys    wns  \n",
       "0 -0.000  -0.000  \n",
       "1 -0.001  -0.000  \n",
       "2 -0.018  -0.008  \n",
       "3 -0.676  -0.290  \n",
       "4 -13.536 -8.550  \n",
       "5 17.346  25.575  \n",
       "6 3.115   16.727  "
      ]
     },
     "execution_count": 47,
     "metadata": {},
     "output_type": "execute_result"
    }
   ],
   "source": [
    "agg= 100*total/sum_baseline.sum() \n",
    "aggsum=100*total.sum()/sum_baseline.sum()    \n",
    "format_table(agg,aggsum)   "
   ]
  },
  {
   "cell_type": "markdown",
   "metadata": {},
   "source": [
    "### Intensive "
   ]
  },
  {
   "cell_type": "code",
   "execution_count": 48,
   "metadata": {},
   "outputs": [
    {
     "data": {
      "text/html": [
       "<div>\n",
       "<style scoped>\n",
       "    .dataframe tbody tr th:only-of-type {\n",
       "        vertical-align: middle;\n",
       "    }\n",
       "\n",
       "    .dataframe tbody tr th {\n",
       "        vertical-align: top;\n",
       "    }\n",
       "\n",
       "    .dataframe thead th {\n",
       "        text-align: right;\n",
       "    }\n",
       "</style>\n",
       "<table border=\"1\" class=\"dataframe\">\n",
       "  <thead>\n",
       "    <tr style=\"text-align: right;\">\n",
       "      <th></th>\n",
       "      <th>bins/total</th>\n",
       "      <th>ztilde</th>\n",
       "      <th>eps</th>\n",
       "      <th>a</th>\n",
       "      <th>bus_inc</th>\n",
       "      <th>ys</th>\n",
       "      <th>ks</th>\n",
       "      <th>kappa</th>\n",
       "      <th>ns</th>\n",
       "      <th>hy</th>\n",
       "      <th>hkap</th>\n",
       "      <th>ztilde_meas</th>\n",
       "      <th>zkapphi</th>\n",
       "      <th>ne</th>\n",
       "      <th>measured_markups</th>\n",
       "      <th>pys</th>\n",
       "      <th>wns</th>\n",
       "    </tr>\n",
       "  </thead>\n",
       "  <tbody>\n",
       "    <tr>\n",
       "      <th>0</th>\n",
       "      <td>(-1.0, 0.432]</td>\n",
       "      <td>-0.000</td>\n",
       "      <td>-0.161</td>\n",
       "      <td>4.024</td>\n",
       "      <td>-0.005</td>\n",
       "      <td>0.000</td>\n",
       "      <td>0.000</td>\n",
       "      <td>1.364</td>\n",
       "      <td>0.000</td>\n",
       "      <td>0.000</td>\n",
       "      <td>0.005</td>\n",
       "      <td>-0.815</td>\n",
       "      <td>0.042</td>\n",
       "      <td>0.001</td>\n",
       "      <td>-0.417</td>\n",
       "      <td>0.000</td>\n",
       "      <td>0.000</td>\n",
       "    </tr>\n",
       "    <tr>\n",
       "      <th>1</th>\n",
       "      <td>(0.432, 0.657]</td>\n",
       "      <td>-0.000</td>\n",
       "      <td>-0.113</td>\n",
       "      <td>4.521</td>\n",
       "      <td>-0.003</td>\n",
       "      <td>0.001</td>\n",
       "      <td>0.001</td>\n",
       "      <td>1.022</td>\n",
       "      <td>0.001</td>\n",
       "      <td>0.001</td>\n",
       "      <td>-0.006</td>\n",
       "      <td>-0.782</td>\n",
       "      <td>0.043</td>\n",
       "      <td>-0.000</td>\n",
       "      <td>-2.556</td>\n",
       "      <td>0.001</td>\n",
       "      <td>0.001</td>\n",
       "    </tr>\n",
       "    <tr>\n",
       "      <th>2</th>\n",
       "      <td>(0.657, 1.0]</td>\n",
       "      <td>0.000</td>\n",
       "      <td>-0.198</td>\n",
       "      <td>4.170</td>\n",
       "      <td>0.027</td>\n",
       "      <td>0.017</td>\n",
       "      <td>0.021</td>\n",
       "      <td>1.205</td>\n",
       "      <td>0.015</td>\n",
       "      <td>0.037</td>\n",
       "      <td>-0.003</td>\n",
       "      <td>-0.861</td>\n",
       "      <td>0.042</td>\n",
       "      <td>0.029</td>\n",
       "      <td>-3.564</td>\n",
       "      <td>0.021</td>\n",
       "      <td>0.015</td>\n",
       "    </tr>\n",
       "    <tr>\n",
       "      <th>3</th>\n",
       "      <td>(1.0, 1.522]</td>\n",
       "      <td>0.000</td>\n",
       "      <td>-0.424</td>\n",
       "      <td>4.228</td>\n",
       "      <td>0.985</td>\n",
       "      <td>0.584</td>\n",
       "      <td>0.726</td>\n",
       "      <td>3.224</td>\n",
       "      <td>0.610</td>\n",
       "      <td>0.496</td>\n",
       "      <td>0.017</td>\n",
       "      <td>-1.450</td>\n",
       "      <td>0.375</td>\n",
       "      <td>0.407</td>\n",
       "      <td>-2.149</td>\n",
       "      <td>0.715</td>\n",
       "      <td>0.619</td>\n",
       "    </tr>\n",
       "    <tr>\n",
       "      <th>4</th>\n",
       "      <td>(1.522, 2.317]</td>\n",
       "      <td>-0.000</td>\n",
       "      <td>-2.614</td>\n",
       "      <td>6.368</td>\n",
       "      <td>9.969</td>\n",
       "      <td>9.517</td>\n",
       "      <td>12.109</td>\n",
       "      <td>8.694</td>\n",
       "      <td>13.117</td>\n",
       "      <td>0.356</td>\n",
       "      <td>6.159</td>\n",
       "      <td>-2.994</td>\n",
       "      <td>0.947</td>\n",
       "      <td>1.436</td>\n",
       "      <td>-13.445</td>\n",
       "      <td>11.916</td>\n",
       "      <td>13.343</td>\n",
       "    </tr>\n",
       "    <tr>\n",
       "      <th>5</th>\n",
       "      <td>(2.317, 2.896]</td>\n",
       "      <td>0.000</td>\n",
       "      <td>-0.005</td>\n",
       "      <td>4.494</td>\n",
       "      <td>8.172</td>\n",
       "      <td>15.453</td>\n",
       "      <td>17.888</td>\n",
       "      <td>9.489</td>\n",
       "      <td>25.728</td>\n",
       "      <td>-0.243</td>\n",
       "      <td>1.829</td>\n",
       "      <td>-0.217</td>\n",
       "      <td>0.321</td>\n",
       "      <td>0.143</td>\n",
       "      <td>-1.080</td>\n",
       "      <td>17.706</td>\n",
       "      <td>26.054</td>\n",
       "    </tr>\n",
       "    <tr>\n",
       "      <th>6</th>\n",
       "      <td>total</td>\n",
       "      <td>-0.000</td>\n",
       "      <td>-3.514</td>\n",
       "      <td>27.805</td>\n",
       "      <td>19.145</td>\n",
       "      <td>25.572</td>\n",
       "      <td>30.744</td>\n",
       "      <td>24.998</td>\n",
       "      <td>39.470</td>\n",
       "      <td>0.647</td>\n",
       "      <td>8.002</td>\n",
       "      <td>-7.120</td>\n",
       "      <td>1.770</td>\n",
       "      <td>2.015</td>\n",
       "      <td>-23.211</td>\n",
       "      <td>30.359</td>\n",
       "      <td>40.032</td>\n",
       "    </tr>\n",
       "  </tbody>\n",
       "</table>\n",
       "</div>"
      ],
      "text/plain": [
       "       bins/total  ztilde    eps      a  bus_inc     ys     ks  kappa     ns  \\\n",
       "0  (-1.0, 0.432]  -0.000  -0.161 4.024  -0.005   0.000  0.000  1.364  0.000    \n",
       "1  (0.432, 0.657] -0.000  -0.113 4.521  -0.003   0.001  0.001  1.022  0.001    \n",
       "2  (0.657, 1.0]   0.000   -0.198 4.170  0.027    0.017  0.021  1.205  0.015    \n",
       "3  (1.0, 1.522]   0.000   -0.424 4.228  0.985    0.584  0.726  3.224  0.610    \n",
       "4  (1.522, 2.317] -0.000  -2.614 6.368  9.969    9.517  12.109 8.694  13.117   \n",
       "5  (2.317, 2.896] 0.000   -0.005 4.494  8.172    15.453 17.888 9.489  25.728   \n",
       "6  total          -0.000  -3.514 27.805 19.145   25.572 30.744 24.998 39.470   \n",
       "\n",
       "      hy   hkap  ztilde_meas  zkapphi     ne  measured_markups    pys    wns  \n",
       "0 0.000  0.005  -0.815       0.042    0.001  -0.417            0.000  0.000   \n",
       "1 0.001  -0.006 -0.782       0.043    -0.000 -2.556            0.001  0.001   \n",
       "2 0.037  -0.003 -0.861       0.042    0.029  -3.564            0.021  0.015   \n",
       "3 0.496  0.017  -1.450       0.375    0.407  -2.149            0.715  0.619   \n",
       "4 0.356  6.159  -2.994       0.947    1.436  -13.445           11.916 13.343  \n",
       "5 -0.243 1.829  -0.217       0.321    0.143  -1.080            17.706 26.054  \n",
       "6 0.647  8.002  -7.120       1.770    2.015  -23.211           30.359 40.032  "
      ]
     },
     "execution_count": 48,
     "metadata": {},
     "output_type": "execute_result"
    }
   ],
   "source": [
    "format_table(intensive_alt,intensive_alt.sum())   "
   ]
  },
  {
   "cell_type": "markdown",
   "metadata": {},
   "source": [
    "### Extensive"
   ]
  },
  {
   "cell_type": "code",
   "execution_count": 49,
   "metadata": {},
   "outputs": [
    {
     "data": {
      "text/html": [
       "<div>\n",
       "<style scoped>\n",
       "    .dataframe tbody tr th:only-of-type {\n",
       "        vertical-align: middle;\n",
       "    }\n",
       "\n",
       "    .dataframe tbody tr th {\n",
       "        vertical-align: top;\n",
       "    }\n",
       "\n",
       "    .dataframe thead th {\n",
       "        text-align: right;\n",
       "    }\n",
       "</style>\n",
       "<table border=\"1\" class=\"dataframe\">\n",
       "  <thead>\n",
       "    <tr style=\"text-align: right;\">\n",
       "      <th></th>\n",
       "      <th>bins/total</th>\n",
       "      <th>ztilde</th>\n",
       "      <th>eps</th>\n",
       "      <th>a</th>\n",
       "      <th>bus_inc</th>\n",
       "      <th>ys</th>\n",
       "      <th>ks</th>\n",
       "      <th>kappa</th>\n",
       "      <th>ns</th>\n",
       "      <th>hy</th>\n",
       "      <th>hkap</th>\n",
       "      <th>ztilde_meas</th>\n",
       "      <th>zkapphi</th>\n",
       "      <th>ne</th>\n",
       "      <th>measured_markups</th>\n",
       "      <th>pys</th>\n",
       "      <th>wns</th>\n",
       "    </tr>\n",
       "  </thead>\n",
       "  <tbody>\n",
       "    <tr>\n",
       "      <th>0</th>\n",
       "      <td>(-1.0, 0.432]</td>\n",
       "      <td>11.061</td>\n",
       "      <td>-4.459</td>\n",
       "      <td>-6.930</td>\n",
       "      <td>0.010</td>\n",
       "      <td>-0.000</td>\n",
       "      <td>-0.000</td>\n",
       "      <td>-2.001</td>\n",
       "      <td>-0.000</td>\n",
       "      <td>-0.000</td>\n",
       "      <td>-0.071</td>\n",
       "      <td>-4.966</td>\n",
       "      <td>-0.781</td>\n",
       "      <td>-0.014</td>\n",
       "      <td>43.295</td>\n",
       "      <td>-0.000</td>\n",
       "      <td>-0.000</td>\n",
       "    </tr>\n",
       "    <tr>\n",
       "      <th>1</th>\n",
       "      <td>(0.432, 0.657]</td>\n",
       "      <td>5.231</td>\n",
       "      <td>-4.208</td>\n",
       "      <td>-6.686</td>\n",
       "      <td>0.007</td>\n",
       "      <td>-0.001</td>\n",
       "      <td>-0.001</td>\n",
       "      <td>-1.414</td>\n",
       "      <td>-0.001</td>\n",
       "      <td>-0.004</td>\n",
       "      <td>-0.058</td>\n",
       "      <td>-4.678</td>\n",
       "      <td>-0.989</td>\n",
       "      <td>-0.014</td>\n",
       "      <td>33.239</td>\n",
       "      <td>-0.001</td>\n",
       "      <td>-0.001</td>\n",
       "    </tr>\n",
       "    <tr>\n",
       "      <th>2</th>\n",
       "      <td>(0.657, 1.0]</td>\n",
       "      <td>-0.000</td>\n",
       "      <td>-4.683</td>\n",
       "      <td>-6.688</td>\n",
       "      <td>-0.056</td>\n",
       "      <td>-0.038</td>\n",
       "      <td>-0.039</td>\n",
       "      <td>-2.154</td>\n",
       "      <td>-0.023</td>\n",
       "      <td>-0.138</td>\n",
       "      <td>-0.073</td>\n",
       "      <td>-5.255</td>\n",
       "      <td>-1.940</td>\n",
       "      <td>-0.126</td>\n",
       "      <td>9.700</td>\n",
       "      <td>-0.039</td>\n",
       "      <td>-0.023</td>\n",
       "    </tr>\n",
       "    <tr>\n",
       "      <th>3</th>\n",
       "      <td>(1.0, 1.522]</td>\n",
       "      <td>-8.730</td>\n",
       "      <td>-7.099</td>\n",
       "      <td>-7.724</td>\n",
       "      <td>-2.265</td>\n",
       "      <td>-1.360</td>\n",
       "      <td>-1.394</td>\n",
       "      <td>-5.480</td>\n",
       "      <td>-0.907</td>\n",
       "      <td>-3.846</td>\n",
       "      <td>-0.154</td>\n",
       "      <td>-7.829</td>\n",
       "      <td>-5.869</td>\n",
       "      <td>-3.160</td>\n",
       "      <td>-38.202</td>\n",
       "      <td>-1.391</td>\n",
       "      <td>-0.909</td>\n",
       "    </tr>\n",
       "    <tr>\n",
       "      <th>4</th>\n",
       "      <td>(1.522, 2.317]</td>\n",
       "      <td>-41.403</td>\n",
       "      <td>-17.507</td>\n",
       "      <td>-12.525</td>\n",
       "      <td>-29.194</td>\n",
       "      <td>-24.880</td>\n",
       "      <td>-25.498</td>\n",
       "      <td>-19.986</td>\n",
       "      <td>-21.839</td>\n",
       "      <td>-32.582</td>\n",
       "      <td>-35.270</td>\n",
       "      <td>-15.814</td>\n",
       "      <td>-26.689</td>\n",
       "      <td>-33.082</td>\n",
       "      <td>-70.114</td>\n",
       "      <td>-25.452</td>\n",
       "      <td>-21.893</td>\n",
       "    </tr>\n",
       "    <tr>\n",
       "      <th>5</th>\n",
       "      <td>(2.317, 2.896]</td>\n",
       "      <td>-0.064</td>\n",
       "      <td>-0.023</td>\n",
       "      <td>-0.133</td>\n",
       "      <td>-0.224</td>\n",
       "      <td>-0.351</td>\n",
       "      <td>-0.361</td>\n",
       "      <td>-0.272</td>\n",
       "      <td>-0.477</td>\n",
       "      <td>-0.043</td>\n",
       "      <td>-0.095</td>\n",
       "      <td>-0.031</td>\n",
       "      <td>-0.062</td>\n",
       "      <td>-0.053</td>\n",
       "      <td>-0.052</td>\n",
       "      <td>-0.360</td>\n",
       "      <td>-0.479</td>\n",
       "    </tr>\n",
       "    <tr>\n",
       "      <th>6</th>\n",
       "      <td>total</td>\n",
       "      <td>-33.905</td>\n",
       "      <td>-37.980</td>\n",
       "      <td>-40.685</td>\n",
       "      <td>-31.721</td>\n",
       "      <td>-26.630</td>\n",
       "      <td>-27.293</td>\n",
       "      <td>-31.307</td>\n",
       "      <td>-23.247</td>\n",
       "      <td>-36.615</td>\n",
       "      <td>-35.721</td>\n",
       "      <td>-38.573</td>\n",
       "      <td>-36.330</td>\n",
       "      <td>-36.449</td>\n",
       "      <td>-22.133</td>\n",
       "      <td>-27.244</td>\n",
       "      <td>-23.305</td>\n",
       "    </tr>\n",
       "  </tbody>\n",
       "</table>\n",
       "</div>"
      ],
      "text/plain": [
       "       bins/total  ztilde     eps       a  bus_inc      ys      ks   kappa  \\\n",
       "0  (-1.0, 0.432]  11.061  -4.459  -6.930  0.010    -0.000  -0.000  -2.001    \n",
       "1  (0.432, 0.657] 5.231   -4.208  -6.686  0.007    -0.001  -0.001  -1.414    \n",
       "2  (0.657, 1.0]   -0.000  -4.683  -6.688  -0.056   -0.038  -0.039  -2.154    \n",
       "3  (1.0, 1.522]   -8.730  -7.099  -7.724  -2.265   -1.360  -1.394  -5.480    \n",
       "4  (1.522, 2.317] -41.403 -17.507 -12.525 -29.194  -24.880 -25.498 -19.986   \n",
       "5  (2.317, 2.896] -0.064  -0.023  -0.133  -0.224   -0.351  -0.361  -0.272    \n",
       "6  total          -33.905 -37.980 -40.685 -31.721  -26.630 -27.293 -31.307   \n",
       "\n",
       "       ns      hy    hkap  ztilde_meas  zkapphi      ne  measured_markups  \\\n",
       "0 -0.000  -0.000  -0.071  -4.966       -0.781   -0.014  43.295              \n",
       "1 -0.001  -0.004  -0.058  -4.678       -0.989   -0.014  33.239              \n",
       "2 -0.023  -0.138  -0.073  -5.255       -1.940   -0.126  9.700               \n",
       "3 -0.907  -3.846  -0.154  -7.829       -5.869   -3.160  -38.202             \n",
       "4 -21.839 -32.582 -35.270 -15.814      -26.689  -33.082 -70.114             \n",
       "5 -0.477  -0.043  -0.095  -0.031       -0.062   -0.053  -0.052              \n",
       "6 -23.247 -36.615 -35.721 -38.573      -36.330  -36.449 -22.133             \n",
       "\n",
       "      pys     wns  \n",
       "0 -0.000  -0.000   \n",
       "1 -0.001  -0.001   \n",
       "2 -0.039  -0.023   \n",
       "3 -1.391  -0.909   \n",
       "4 -25.452 -21.893  \n",
       "5 -0.360  -0.479   \n",
       "6 -27.244 -23.305  "
      ]
     },
     "execution_count": 49,
     "metadata": {},
     "output_type": "execute_result"
    }
   ],
   "source": [
    "format_table(extensive_alt,extensive_alt.sum())   "
   ]
  },
  {
   "cell_type": "markdown",
   "metadata": {},
   "source": [
    "##  Decomposition of $\\Delta$ by Owner sweat capital"
   ]
  },
  {
   "cell_type": "code",
   "execution_count": 50,
   "metadata": {},
   "outputs": [
    {
     "name": "stdout",
     "output_type": "stream",
     "text": [
      "\n",
      "SORTED BY kappa\n",
      "BINS = [-inf, 0.0, 0.28, 0.62, 0.73, inf]\n"
     ]
    }
   ],
   "source": [
    "var_bin = 'kappa'\n",
    "num_bins=5\n",
    "tmp, bins_original = pd.qcut(df_baseline[var_bin], q = num_bins, labels=False, retbins = True)\n",
    "df_baseline['bin_' + var_bin] = tmp[:]\n",
    "bins = bins_original.copy()\n",
    "bins[0] = -np.inf\n",
    "bins[-1] = np.inf\n",
    "total,sum_baseline,intensive_alt,extensive_alt=print_results(var_bin,bins,var_list,df_baseline,df_target)\n"
   ]
  },
  {
   "cell_type": "markdown",
   "metadata": {},
   "source": [
    "### Total change"
   ]
  },
  {
   "cell_type": "code",
   "execution_count": 51,
   "metadata": {},
   "outputs": [
    {
     "data": {
      "text/html": [
       "<div>\n",
       "<style scoped>\n",
       "    .dataframe tbody tr th:only-of-type {\n",
       "        vertical-align: middle;\n",
       "    }\n",
       "\n",
       "    .dataframe tbody tr th {\n",
       "        vertical-align: top;\n",
       "    }\n",
       "\n",
       "    .dataframe thead th {\n",
       "        text-align: right;\n",
       "    }\n",
       "</style>\n",
       "<table border=\"1\" class=\"dataframe\">\n",
       "  <thead>\n",
       "    <tr style=\"text-align: right;\">\n",
       "      <th></th>\n",
       "      <th>bins/total</th>\n",
       "      <th>ztilde</th>\n",
       "      <th>eps</th>\n",
       "      <th>a</th>\n",
       "      <th>bus_inc</th>\n",
       "      <th>ys</th>\n",
       "      <th>ks</th>\n",
       "      <th>kappa</th>\n",
       "      <th>ns</th>\n",
       "      <th>hy</th>\n",
       "      <th>hkap</th>\n",
       "      <th>ztilde_meas</th>\n",
       "      <th>zkapphi</th>\n",
       "      <th>ne</th>\n",
       "      <th>measured_markups</th>\n",
       "      <th>pys</th>\n",
       "      <th>wns</th>\n",
       "    </tr>\n",
       "  </thead>\n",
       "  <tbody>\n",
       "    <tr>\n",
       "      <th>0</th>\n",
       "      <td>(-inf, 0.000151]</td>\n",
       "      <td>1.447</td>\n",
       "      <td>-7.939</td>\n",
       "      <td>-11.089</td>\n",
       "      <td>-0.000</td>\n",
       "      <td>-0.000</td>\n",
       "      <td>-0.000</td>\n",
       "      <td>-0.000</td>\n",
       "      <td>-0.000</td>\n",
       "      <td>-0.000</td>\n",
       "      <td>-0.000</td>\n",
       "      <td>-8.828</td>\n",
       "      <td>-0.778</td>\n",
       "      <td>-0.000</td>\n",
       "      <td>21.668</td>\n",
       "      <td>-0.000</td>\n",
       "      <td>-0.000</td>\n",
       "    </tr>\n",
       "    <tr>\n",
       "      <th>1</th>\n",
       "      <td>(0.000151, 0.277]</td>\n",
       "      <td>-0.379</td>\n",
       "      <td>-9.742</td>\n",
       "      <td>-4.119</td>\n",
       "      <td>-0.123</td>\n",
       "      <td>-0.164</td>\n",
       "      <td>-0.158</td>\n",
       "      <td>-1.224</td>\n",
       "      <td>-0.113</td>\n",
       "      <td>-0.401</td>\n",
       "      <td>-1.408</td>\n",
       "      <td>-12.050</td>\n",
       "      <td>-5.393</td>\n",
       "      <td>-0.588</td>\n",
       "      <td>28.901</td>\n",
       "      <td>-0.158</td>\n",
       "      <td>-0.112</td>\n",
       "    </tr>\n",
       "    <tr>\n",
       "      <th>2</th>\n",
       "      <td>(0.277, 0.624]</td>\n",
       "      <td>-12.406</td>\n",
       "      <td>-13.562</td>\n",
       "      <td>-3.304</td>\n",
       "      <td>-6.555</td>\n",
       "      <td>-5.410</td>\n",
       "      <td>-5.298</td>\n",
       "      <td>-10.864</td>\n",
       "      <td>-3.978</td>\n",
       "      <td>-10.619</td>\n",
       "      <td>-10.696</td>\n",
       "      <td>-14.339</td>\n",
       "      <td>-14.182</td>\n",
       "      <td>-10.634</td>\n",
       "      <td>-46.112</td>\n",
       "      <td>-5.306</td>\n",
       "      <td>-3.969</td>\n",
       "    </tr>\n",
       "    <tr>\n",
       "      <th>3</th>\n",
       "      <td>(0.624, 0.731]</td>\n",
       "      <td>-28.224</td>\n",
       "      <td>-15.230</td>\n",
       "      <td>-3.710</td>\n",
       "      <td>-29.360</td>\n",
       "      <td>-21.936</td>\n",
       "      <td>-21.701</td>\n",
       "      <td>-16.586</td>\n",
       "      <td>-17.541</td>\n",
       "      <td>-33.735</td>\n",
       "      <td>-12.879</td>\n",
       "      <td>-14.154</td>\n",
       "      <td>-21.809</td>\n",
       "      <td>-29.856</td>\n",
       "      <td>-85.357</td>\n",
       "      <td>-21.719</td>\n",
       "      <td>-17.521</td>\n",
       "    </tr>\n",
       "    <tr>\n",
       "      <th>4</th>\n",
       "      <td>(0.731, inf]</td>\n",
       "      <td>5.656</td>\n",
       "      <td>4.978</td>\n",
       "      <td>9.342</td>\n",
       "      <td>23.463</td>\n",
       "      <td>26.451</td>\n",
       "      <td>30.608</td>\n",
       "      <td>22.365</td>\n",
       "      <td>37.854</td>\n",
       "      <td>8.788</td>\n",
       "      <td>-2.736</td>\n",
       "      <td>3.677</td>\n",
       "      <td>7.601</td>\n",
       "      <td>6.645</td>\n",
       "      <td>35.556</td>\n",
       "      <td>30.298</td>\n",
       "      <td>38.330</td>\n",
       "    </tr>\n",
       "    <tr>\n",
       "      <th>5</th>\n",
       "      <td>total</td>\n",
       "      <td>-33.905</td>\n",
       "      <td>-41.494</td>\n",
       "      <td>-12.880</td>\n",
       "      <td>-12.576</td>\n",
       "      <td>-1.058</td>\n",
       "      <td>3.451</td>\n",
       "      <td>-6.310</td>\n",
       "      <td>16.223</td>\n",
       "      <td>-35.968</td>\n",
       "      <td>-27.719</td>\n",
       "      <td>-45.693</td>\n",
       "      <td>-34.560</td>\n",
       "      <td>-34.434</td>\n",
       "      <td>-45.344</td>\n",
       "      <td>3.115</td>\n",
       "      <td>16.727</td>\n",
       "    </tr>\n",
       "  </tbody>\n",
       "</table>\n",
       "</div>"
      ],
      "text/plain": [
       "          bins/total  ztilde     eps       a  bus_inc      ys      ks   kappa  \\\n",
       "0  (-inf, 0.000151]  1.447   -7.939  -11.089 -0.000   -0.000  -0.000  -0.000    \n",
       "1  (0.000151, 0.277] -0.379  -9.742  -4.119  -0.123   -0.164  -0.158  -1.224    \n",
       "2  (0.277, 0.624]    -12.406 -13.562 -3.304  -6.555   -5.410  -5.298  -10.864   \n",
       "3  (0.624, 0.731]    -28.224 -15.230 -3.710  -29.360  -21.936 -21.701 -16.586   \n",
       "4  (0.731, inf]      5.656   4.978   9.342   23.463   26.451  30.608  22.365    \n",
       "5  total             -33.905 -41.494 -12.880 -12.576  -1.058  3.451   -6.310    \n",
       "\n",
       "       ns      hy    hkap  ztilde_meas  zkapphi      ne  measured_markups  \\\n",
       "0 -0.000  -0.000  -0.000  -8.828       -0.778   -0.000  21.668              \n",
       "1 -0.113  -0.401  -1.408  -12.050      -5.393   -0.588  28.901              \n",
       "2 -3.978  -10.619 -10.696 -14.339      -14.182  -10.634 -46.112             \n",
       "3 -17.541 -33.735 -12.879 -14.154      -21.809  -29.856 -85.357             \n",
       "4 37.854  8.788   -2.736  3.677        7.601    6.645   35.556              \n",
       "5 16.223  -35.968 -27.719 -45.693      -34.560  -34.434 -45.344             \n",
       "\n",
       "      pys     wns  \n",
       "0 -0.000  -0.000   \n",
       "1 -0.158  -0.112   \n",
       "2 -5.306  -3.969   \n",
       "3 -21.719 -17.521  \n",
       "4 30.298  38.330   \n",
       "5 3.115   16.727   "
      ]
     },
     "execution_count": 51,
     "metadata": {},
     "output_type": "execute_result"
    }
   ],
   "source": [
    "agg= 100*total/sum_baseline.sum()  \n",
    "aggsum=100*total.sum()/sum_baseline.sum()\n",
    "format_table(agg,aggsum)   "
   ]
  },
  {
   "cell_type": "markdown",
   "metadata": {},
   "source": [
    "### Intensive "
   ]
  },
  {
   "cell_type": "code",
   "execution_count": 52,
   "metadata": {},
   "outputs": [
    {
     "data": {
      "text/html": [
       "<div>\n",
       "<style scoped>\n",
       "    .dataframe tbody tr th:only-of-type {\n",
       "        vertical-align: middle;\n",
       "    }\n",
       "\n",
       "    .dataframe tbody tr th {\n",
       "        vertical-align: top;\n",
       "    }\n",
       "\n",
       "    .dataframe thead th {\n",
       "        text-align: right;\n",
       "    }\n",
       "</style>\n",
       "<table border=\"1\" class=\"dataframe\">\n",
       "  <thead>\n",
       "    <tr style=\"text-align: right;\">\n",
       "      <th></th>\n",
       "      <th>bins/total</th>\n",
       "      <th>ztilde</th>\n",
       "      <th>eps</th>\n",
       "      <th>a</th>\n",
       "      <th>bus_inc</th>\n",
       "      <th>ys</th>\n",
       "      <th>ks</th>\n",
       "      <th>kappa</th>\n",
       "      <th>ns</th>\n",
       "      <th>hy</th>\n",
       "      <th>hkap</th>\n",
       "      <th>ztilde_meas</th>\n",
       "      <th>zkapphi</th>\n",
       "      <th>ne</th>\n",
       "      <th>measured_markups</th>\n",
       "      <th>pys</th>\n",
       "      <th>wns</th>\n",
       "    </tr>\n",
       "  </thead>\n",
       "  <tbody>\n",
       "    <tr>\n",
       "      <th>0</th>\n",
       "      <td>(-inf, 0.000151]</td>\n",
       "      <td>1.326</td>\n",
       "      <td>-0.250</td>\n",
       "      <td>2.645</td>\n",
       "      <td>0.000</td>\n",
       "      <td>0.000</td>\n",
       "      <td>0.000</td>\n",
       "      <td>-0.000</td>\n",
       "      <td>0.000</td>\n",
       "      <td>0.000</td>\n",
       "      <td>-0.000</td>\n",
       "      <td>-1.208</td>\n",
       "      <td>0.059</td>\n",
       "      <td>0.000</td>\n",
       "      <td>-1.289</td>\n",
       "      <td>0.000</td>\n",
       "      <td>0.000</td>\n",
       "    </tr>\n",
       "    <tr>\n",
       "      <th>1</th>\n",
       "      <td>(0.000151, 0.277]</td>\n",
       "      <td>0.561</td>\n",
       "      <td>-0.200</td>\n",
       "      <td>11.681</td>\n",
       "      <td>-0.002</td>\n",
       "      <td>-0.025</td>\n",
       "      <td>-0.015</td>\n",
       "      <td>-0.344</td>\n",
       "      <td>-0.005</td>\n",
       "      <td>-0.084</td>\n",
       "      <td>-0.515</td>\n",
       "      <td>-1.536</td>\n",
       "      <td>-0.421</td>\n",
       "      <td>-0.164</td>\n",
       "      <td>0.491</td>\n",
       "      <td>-0.016</td>\n",
       "      <td>-0.004</td>\n",
       "    </tr>\n",
       "    <tr>\n",
       "      <th>2</th>\n",
       "      <td>(0.277, 0.624]</td>\n",
       "      <td>-0.521</td>\n",
       "      <td>-0.714</td>\n",
       "      <td>6.757</td>\n",
       "      <td>-0.928</td>\n",
       "      <td>-0.697</td>\n",
       "      <td>-0.485</td>\n",
       "      <td>-0.207</td>\n",
       "      <td>-0.187</td>\n",
       "      <td>-2.253</td>\n",
       "      <td>-0.372</td>\n",
       "      <td>-1.168</td>\n",
       "      <td>-0.128</td>\n",
       "      <td>-1.903</td>\n",
       "      <td>-13.869</td>\n",
       "      <td>-0.501</td>\n",
       "      <td>-0.169</td>\n",
       "    </tr>\n",
       "    <tr>\n",
       "      <th>3</th>\n",
       "      <td>(0.624, 0.731]</td>\n",
       "      <td>-6.474</td>\n",
       "      <td>-0.410</td>\n",
       "      <td>2.393</td>\n",
       "      <td>-7.860</td>\n",
       "      <td>-5.934</td>\n",
       "      <td>-5.410</td>\n",
       "      <td>-0.012</td>\n",
       "      <td>-4.202</td>\n",
       "      <td>-9.455</td>\n",
       "      <td>-2.095</td>\n",
       "      <td>-0.280</td>\n",
       "      <td>-2.465</td>\n",
       "      <td>-8.086</td>\n",
       "      <td>-9.442</td>\n",
       "      <td>-5.449</td>\n",
       "      <td>-4.159</td>\n",
       "    </tr>\n",
       "    <tr>\n",
       "      <th>4</th>\n",
       "      <td>(0.731, inf]</td>\n",
       "      <td>-6.100</td>\n",
       "      <td>-0.155</td>\n",
       "      <td>2.387</td>\n",
       "      <td>7.570</td>\n",
       "      <td>7.575</td>\n",
       "      <td>11.280</td>\n",
       "      <td>5.626</td>\n",
       "      <td>16.016</td>\n",
       "      <td>-2.831</td>\n",
       "      <td>-18.425</td>\n",
       "      <td>-0.936</td>\n",
       "      <td>-2.187</td>\n",
       "      <td>-5.731</td>\n",
       "      <td>20.837</td>\n",
       "      <td>11.004</td>\n",
       "      <td>16.440</td>\n",
       "    </tr>\n",
       "    <tr>\n",
       "      <th>5</th>\n",
       "      <td>total</td>\n",
       "      <td>-11.207</td>\n",
       "      <td>-1.729</td>\n",
       "      <td>25.863</td>\n",
       "      <td>-1.220</td>\n",
       "      <td>0.919</td>\n",
       "      <td>5.369</td>\n",
       "      <td>5.063</td>\n",
       "      <td>11.623</td>\n",
       "      <td>-14.623</td>\n",
       "      <td>-21.408</td>\n",
       "      <td>-5.128</td>\n",
       "      <td>-5.142</td>\n",
       "      <td>-15.885</td>\n",
       "      <td>-3.271</td>\n",
       "      <td>5.038</td>\n",
       "      <td>12.108</td>\n",
       "    </tr>\n",
       "  </tbody>\n",
       "</table>\n",
       "</div>"
      ],
      "text/plain": [
       "          bins/total  ztilde    eps      a  bus_inc     ys     ks  kappa  \\\n",
       "0  (-inf, 0.000151]  1.326   -0.250 2.645  0.000    0.000  0.000  -0.000   \n",
       "1  (0.000151, 0.277] 0.561   -0.200 11.681 -0.002   -0.025 -0.015 -0.344   \n",
       "2  (0.277, 0.624]    -0.521  -0.714 6.757  -0.928   -0.697 -0.485 -0.207   \n",
       "3  (0.624, 0.731]    -6.474  -0.410 2.393  -7.860   -5.934 -5.410 -0.012   \n",
       "4  (0.731, inf]      -6.100  -0.155 2.387  7.570    7.575  11.280 5.626    \n",
       "5  total             -11.207 -1.729 25.863 -1.220   0.919  5.369  5.063    \n",
       "\n",
       "      ns      hy    hkap  ztilde_meas  zkapphi      ne  measured_markups  \\\n",
       "0 0.000  0.000   -0.000  -1.208       0.059    0.000   -1.289              \n",
       "1 -0.005 -0.084  -0.515  -1.536       -0.421   -0.164  0.491               \n",
       "2 -0.187 -2.253  -0.372  -1.168       -0.128   -1.903  -13.869             \n",
       "3 -4.202 -9.455  -2.095  -0.280       -2.465   -8.086  -9.442              \n",
       "4 16.016 -2.831  -18.425 -0.936       -2.187   -5.731  20.837              \n",
       "5 11.623 -14.623 -21.408 -5.128       -5.142   -15.885 -3.271              \n",
       "\n",
       "     pys    wns  \n",
       "0 0.000  0.000   \n",
       "1 -0.016 -0.004  \n",
       "2 -0.501 -0.169  \n",
       "3 -5.449 -4.159  \n",
       "4 11.004 16.440  \n",
       "5 5.038  12.108  "
      ]
     },
     "execution_count": 52,
     "metadata": {},
     "output_type": "execute_result"
    }
   ],
   "source": [
    "format_table(intensive_alt,intensive_alt.sum())   "
   ]
  },
  {
   "cell_type": "markdown",
   "metadata": {},
   "source": [
    "### Extensive"
   ]
  },
  {
   "cell_type": "code",
   "execution_count": 53,
   "metadata": {},
   "outputs": [
    {
     "data": {
      "text/html": [
       "<div>\n",
       "<style scoped>\n",
       "    .dataframe tbody tr th:only-of-type {\n",
       "        vertical-align: middle;\n",
       "    }\n",
       "\n",
       "    .dataframe tbody tr th {\n",
       "        vertical-align: top;\n",
       "    }\n",
       "\n",
       "    .dataframe thead th {\n",
       "        text-align: right;\n",
       "    }\n",
       "</style>\n",
       "<table border=\"1\" class=\"dataframe\">\n",
       "  <thead>\n",
       "    <tr style=\"text-align: right;\">\n",
       "      <th></th>\n",
       "      <th>bins/total</th>\n",
       "      <th>ztilde</th>\n",
       "      <th>eps</th>\n",
       "      <th>a</th>\n",
       "      <th>bus_inc</th>\n",
       "      <th>ys</th>\n",
       "      <th>ks</th>\n",
       "      <th>kappa</th>\n",
       "      <th>ns</th>\n",
       "      <th>hy</th>\n",
       "      <th>hkap</th>\n",
       "      <th>ztilde_meas</th>\n",
       "      <th>zkapphi</th>\n",
       "      <th>ne</th>\n",
       "      <th>measured_markups</th>\n",
       "      <th>pys</th>\n",
       "      <th>wns</th>\n",
       "    </tr>\n",
       "  </thead>\n",
       "  <tbody>\n",
       "    <tr>\n",
       "      <th>0</th>\n",
       "      <td>(-inf, 0.000151]</td>\n",
       "      <td>0.121</td>\n",
       "      <td>-7.689</td>\n",
       "      <td>-13.734</td>\n",
       "      <td>-0.000</td>\n",
       "      <td>-0.000</td>\n",
       "      <td>-0.000</td>\n",
       "      <td>-0.000</td>\n",
       "      <td>-0.000</td>\n",
       "      <td>-0.000</td>\n",
       "      <td>-0.000</td>\n",
       "      <td>-7.619</td>\n",
       "      <td>-0.837</td>\n",
       "      <td>-0.000</td>\n",
       "      <td>22.956</td>\n",
       "      <td>-0.000</td>\n",
       "      <td>-0.000</td>\n",
       "    </tr>\n",
       "    <tr>\n",
       "      <th>1</th>\n",
       "      <td>(0.000151, 0.277]</td>\n",
       "      <td>-0.940</td>\n",
       "      <td>-9.542</td>\n",
       "      <td>-15.800</td>\n",
       "      <td>-0.121</td>\n",
       "      <td>-0.139</td>\n",
       "      <td>-0.142</td>\n",
       "      <td>-0.881</td>\n",
       "      <td>-0.107</td>\n",
       "      <td>-0.317</td>\n",
       "      <td>-0.892</td>\n",
       "      <td>-10.514</td>\n",
       "      <td>-4.972</td>\n",
       "      <td>-0.424</td>\n",
       "      <td>28.410</td>\n",
       "      <td>-0.142</td>\n",
       "      <td>-0.108</td>\n",
       "    </tr>\n",
       "    <tr>\n",
       "      <th>2</th>\n",
       "      <td>(0.277, 0.624]</td>\n",
       "      <td>-11.885</td>\n",
       "      <td>-12.848</td>\n",
       "      <td>-10.061</td>\n",
       "      <td>-5.627</td>\n",
       "      <td>-4.713</td>\n",
       "      <td>-4.813</td>\n",
       "      <td>-10.656</td>\n",
       "      <td>-3.792</td>\n",
       "      <td>-8.367</td>\n",
       "      <td>-10.324</td>\n",
       "      <td>-13.170</td>\n",
       "      <td>-14.054</td>\n",
       "      <td>-8.731</td>\n",
       "      <td>-32.243</td>\n",
       "      <td>-4.805</td>\n",
       "      <td>-3.800</td>\n",
       "    </tr>\n",
       "    <tr>\n",
       "      <th>3</th>\n",
       "      <td>(0.624, 0.731]</td>\n",
       "      <td>-21.750</td>\n",
       "      <td>-14.820</td>\n",
       "      <td>-6.103</td>\n",
       "      <td>-21.501</td>\n",
       "      <td>-16.001</td>\n",
       "      <td>-16.291</td>\n",
       "      <td>-16.574</td>\n",
       "      <td>-13.339</td>\n",
       "      <td>-24.281</td>\n",
       "      <td>-10.784</td>\n",
       "      <td>-13.874</td>\n",
       "      <td>-19.344</td>\n",
       "      <td>-21.770</td>\n",
       "      <td>-75.914</td>\n",
       "      <td>-16.270</td>\n",
       "      <td>-13.363</td>\n",
       "    </tr>\n",
       "    <tr>\n",
       "      <th>4</th>\n",
       "      <td>(0.731, inf]</td>\n",
       "      <td>11.756</td>\n",
       "      <td>5.133</td>\n",
       "      <td>6.954</td>\n",
       "      <td>15.893</td>\n",
       "      <td>18.877</td>\n",
       "      <td>19.328</td>\n",
       "      <td>16.739</td>\n",
       "      <td>21.838</td>\n",
       "      <td>11.619</td>\n",
       "      <td>15.689</td>\n",
       "      <td>4.613</td>\n",
       "      <td>9.789</td>\n",
       "      <td>12.376</td>\n",
       "      <td>14.719</td>\n",
       "      <td>19.294</td>\n",
       "      <td>21.890</td>\n",
       "    </tr>\n",
       "    <tr>\n",
       "      <th>5</th>\n",
       "      <td>total</td>\n",
       "      <td>-22.698</td>\n",
       "      <td>-39.766</td>\n",
       "      <td>-38.744</td>\n",
       "      <td>-11.356</td>\n",
       "      <td>-1.977</td>\n",
       "      <td>-1.918</td>\n",
       "      <td>-11.372</td>\n",
       "      <td>4.600</td>\n",
       "      <td>-21.345</td>\n",
       "      <td>-6.311</td>\n",
       "      <td>-40.565</td>\n",
       "      <td>-29.418</td>\n",
       "      <td>-18.549</td>\n",
       "      <td>-42.073</td>\n",
       "      <td>-1.923</td>\n",
       "      <td>4.620</td>\n",
       "    </tr>\n",
       "  </tbody>\n",
       "</table>\n",
       "</div>"
      ],
      "text/plain": [
       "          bins/total  ztilde     eps       a  bus_inc      ys      ks   kappa  \\\n",
       "0  (-inf, 0.000151]  0.121   -7.689  -13.734 -0.000   -0.000  -0.000  -0.000    \n",
       "1  (0.000151, 0.277] -0.940  -9.542  -15.800 -0.121   -0.139  -0.142  -0.881    \n",
       "2  (0.277, 0.624]    -11.885 -12.848 -10.061 -5.627   -4.713  -4.813  -10.656   \n",
       "3  (0.624, 0.731]    -21.750 -14.820 -6.103  -21.501  -16.001 -16.291 -16.574   \n",
       "4  (0.731, inf]      11.756  5.133   6.954   15.893   18.877  19.328  16.739    \n",
       "5  total             -22.698 -39.766 -38.744 -11.356  -1.977  -1.918  -11.372   \n",
       "\n",
       "       ns      hy    hkap  ztilde_meas  zkapphi      ne  measured_markups  \\\n",
       "0 -0.000  -0.000  -0.000  -7.619       -0.837   -0.000  22.956              \n",
       "1 -0.107  -0.317  -0.892  -10.514      -4.972   -0.424  28.410              \n",
       "2 -3.792  -8.367  -10.324 -13.170      -14.054  -8.731  -32.243             \n",
       "3 -13.339 -24.281 -10.784 -13.874      -19.344  -21.770 -75.914             \n",
       "4 21.838  11.619  15.689  4.613        9.789    12.376  14.719              \n",
       "5 4.600   -21.345 -6.311  -40.565      -29.418  -18.549 -42.073             \n",
       "\n",
       "      pys     wns  \n",
       "0 -0.000  -0.000   \n",
       "1 -0.142  -0.108   \n",
       "2 -4.805  -3.800   \n",
       "3 -16.270 -13.363  \n",
       "4 19.294  21.890   \n",
       "5 -1.923  4.620    "
      ]
     },
     "execution_count": 53,
     "metadata": {},
     "output_type": "execute_result"
    }
   ],
   "source": [
    "format_table(extensive_alt,extensive_alt.sum())   "
   ]
  },
  {
   "cell_type": "markdown",
   "metadata": {},
   "source": [
    "##   Decomposition of $\\Delta$ by Owner Financial assets"
   ]
  },
  {
   "cell_type": "code",
   "execution_count": 54,
   "metadata": {},
   "outputs": [
    {
     "name": "stdout",
     "output_type": "stream",
     "text": [
      "\n",
      "SORTED BY a\n",
      "BINS = [-inf, 2.71, 5.98, 10.0, 17.41, inf]\n"
     ]
    }
   ],
   "source": [
    "var_bin = 'a'\n",
    "tmp, bins_original = pd.qcut(df_baseline[var_bin], q = num_bins, labels=False, retbins = True)\n",
    "df_baseline['bin_' + var_bin] = tmp[:]\n",
    "bins = bins_original.copy()\n",
    "bins[0] = -np.inf\n",
    "bins[-1] = np.inf\n",
    "total,sum_baseline,intensive_alt,extensive_alt=print_results(var_bin,bins,var_list,df_baseline,df_target)"
   ]
  },
  {
   "cell_type": "markdown",
   "metadata": {},
   "source": [
    "### Total change"
   ]
  },
  {
   "cell_type": "code",
   "execution_count": 55,
   "metadata": {},
   "outputs": [
    {
     "data": {
      "text/html": [
       "<div>\n",
       "<style scoped>\n",
       "    .dataframe tbody tr th:only-of-type {\n",
       "        vertical-align: middle;\n",
       "    }\n",
       "\n",
       "    .dataframe tbody tr th {\n",
       "        vertical-align: top;\n",
       "    }\n",
       "\n",
       "    .dataframe thead th {\n",
       "        text-align: right;\n",
       "    }\n",
       "</style>\n",
       "<table border=\"1\" class=\"dataframe\">\n",
       "  <thead>\n",
       "    <tr style=\"text-align: right;\">\n",
       "      <th></th>\n",
       "      <th>bins/total</th>\n",
       "      <th>ztilde</th>\n",
       "      <th>eps</th>\n",
       "      <th>a</th>\n",
       "      <th>bus_inc</th>\n",
       "      <th>ys</th>\n",
       "      <th>ks</th>\n",
       "      <th>kappa</th>\n",
       "      <th>ns</th>\n",
       "      <th>hy</th>\n",
       "      <th>hkap</th>\n",
       "      <th>ztilde_meas</th>\n",
       "      <th>zkapphi</th>\n",
       "      <th>ne</th>\n",
       "      <th>measured_markups</th>\n",
       "      <th>pys</th>\n",
       "      <th>wns</th>\n",
       "    </tr>\n",
       "  </thead>\n",
       "  <tbody>\n",
       "    <tr>\n",
       "      <th>0</th>\n",
       "      <td>(-inf, 2.706]</td>\n",
       "      <td>-4.631</td>\n",
       "      <td>-6.482</td>\n",
       "      <td>-0.286</td>\n",
       "      <td>-1.352</td>\n",
       "      <td>-0.062</td>\n",
       "      <td>0.362</td>\n",
       "      <td>-1.045</td>\n",
       "      <td>1.412</td>\n",
       "      <td>-3.947</td>\n",
       "      <td>-5.793</td>\n",
       "      <td>-8.802</td>\n",
       "      <td>-4.812</td>\n",
       "      <td>-4.290</td>\n",
       "      <td>3.573</td>\n",
       "      <td>0.331</td>\n",
       "      <td>1.453</td>\n",
       "    </tr>\n",
       "    <tr>\n",
       "      <th>1</th>\n",
       "      <td>(2.706, 5.977]</td>\n",
       "      <td>-8.200</td>\n",
       "      <td>-11.902</td>\n",
       "      <td>-1.570</td>\n",
       "      <td>-6.252</td>\n",
       "      <td>-5.309</td>\n",
       "      <td>-4.901</td>\n",
       "      <td>-5.417</td>\n",
       "      <td>-3.756</td>\n",
       "      <td>-9.582</td>\n",
       "      <td>-9.224</td>\n",
       "      <td>-13.041</td>\n",
       "      <td>-9.646</td>\n",
       "      <td>-9.516</td>\n",
       "      <td>-9.148</td>\n",
       "      <td>-4.931</td>\n",
       "      <td>-3.721</td>\n",
       "    </tr>\n",
       "    <tr>\n",
       "      <th>2</th>\n",
       "      <td>(5.977, 10.004]</td>\n",
       "      <td>-11.166</td>\n",
       "      <td>-10.620</td>\n",
       "      <td>-2.464</td>\n",
       "      <td>-7.888</td>\n",
       "      <td>-6.269</td>\n",
       "      <td>-5.760</td>\n",
       "      <td>-6.228</td>\n",
       "      <td>-4.094</td>\n",
       "      <td>-12.104</td>\n",
       "      <td>-9.518</td>\n",
       "      <td>-10.920</td>\n",
       "      <td>-10.623</td>\n",
       "      <td>-11.623</td>\n",
       "      <td>-24.465</td>\n",
       "      <td>-5.798</td>\n",
       "      <td>-4.049</td>\n",
       "    </tr>\n",
       "    <tr>\n",
       "      <th>3</th>\n",
       "      <td>(10.004, 17.407]</td>\n",
       "      <td>-9.967</td>\n",
       "      <td>-8.956</td>\n",
       "      <td>-3.289</td>\n",
       "      <td>-6.867</td>\n",
       "      <td>-4.844</td>\n",
       "      <td>-4.181</td>\n",
       "      <td>-4.552</td>\n",
       "      <td>-2.532</td>\n",
       "      <td>-10.467</td>\n",
       "      <td>-4.535</td>\n",
       "      <td>-9.340</td>\n",
       "      <td>-8.891</td>\n",
       "      <td>-9.364</td>\n",
       "      <td>-24.218</td>\n",
       "      <td>-4.230</td>\n",
       "      <td>-2.470</td>\n",
       "    </tr>\n",
       "    <tr>\n",
       "      <th>4</th>\n",
       "      <td>(17.407, inf]</td>\n",
       "      <td>0.059</td>\n",
       "      <td>-3.535</td>\n",
       "      <td>-5.271</td>\n",
       "      <td>9.783</td>\n",
       "      <td>15.426</td>\n",
       "      <td>17.931</td>\n",
       "      <td>10.932</td>\n",
       "      <td>25.194</td>\n",
       "      <td>0.133</td>\n",
       "      <td>1.351</td>\n",
       "      <td>-3.589</td>\n",
       "      <td>-0.588</td>\n",
       "      <td>0.360</td>\n",
       "      <td>8.915</td>\n",
       "      <td>17.744</td>\n",
       "      <td>25.513</td>\n",
       "    </tr>\n",
       "    <tr>\n",
       "      <th>5</th>\n",
       "      <td>total</td>\n",
       "      <td>-33.905</td>\n",
       "      <td>-41.494</td>\n",
       "      <td>-12.880</td>\n",
       "      <td>-12.576</td>\n",
       "      <td>-1.058</td>\n",
       "      <td>3.451</td>\n",
       "      <td>-6.310</td>\n",
       "      <td>16.223</td>\n",
       "      <td>-35.968</td>\n",
       "      <td>-27.719</td>\n",
       "      <td>-45.693</td>\n",
       "      <td>-34.560</td>\n",
       "      <td>-34.434</td>\n",
       "      <td>-45.344</td>\n",
       "      <td>3.115</td>\n",
       "      <td>16.727</td>\n",
       "    </tr>\n",
       "  </tbody>\n",
       "</table>\n",
       "</div>"
      ],
      "text/plain": [
       "         bins/total  ztilde     eps       a  bus_inc     ys     ks  kappa  \\\n",
       "0  (-inf, 2.706]    -4.631  -6.482  -0.286  -1.352   -0.062 0.362  -1.045   \n",
       "1  (2.706, 5.977]   -8.200  -11.902 -1.570  -6.252   -5.309 -4.901 -5.417   \n",
       "2  (5.977, 10.004]  -11.166 -10.620 -2.464  -7.888   -6.269 -5.760 -6.228   \n",
       "3  (10.004, 17.407] -9.967  -8.956  -3.289  -6.867   -4.844 -4.181 -4.552   \n",
       "4  (17.407, inf]    0.059   -3.535  -5.271  9.783    15.426 17.931 10.932   \n",
       "5  total            -33.905 -41.494 -12.880 -12.576  -1.058 3.451  -6.310   \n",
       "\n",
       "      ns      hy    hkap  ztilde_meas  zkapphi      ne  measured_markups  \\\n",
       "0 1.412  -3.947  -5.793  -8.802       -4.812   -4.290  3.573               \n",
       "1 -3.756 -9.582  -9.224  -13.041      -9.646   -9.516  -9.148              \n",
       "2 -4.094 -12.104 -9.518  -10.920      -10.623  -11.623 -24.465             \n",
       "3 -2.532 -10.467 -4.535  -9.340       -8.891   -9.364  -24.218             \n",
       "4 25.194 0.133   1.351   -3.589       -0.588   0.360   8.915               \n",
       "5 16.223 -35.968 -27.719 -45.693      -34.560  -34.434 -45.344             \n",
       "\n",
       "     pys    wns  \n",
       "0 0.331  1.453   \n",
       "1 -4.931 -3.721  \n",
       "2 -5.798 -4.049  \n",
       "3 -4.230 -2.470  \n",
       "4 17.744 25.513  \n",
       "5 3.115  16.727  "
      ]
     },
     "execution_count": 55,
     "metadata": {},
     "output_type": "execute_result"
    }
   ],
   "source": [
    "agg= 100*total/sum_baseline.sum()  \n",
    "aggsum=100*total.sum()/sum_baseline.sum()   \n",
    "format_table(agg,aggsum)   "
   ]
  },
  {
   "cell_type": "markdown",
   "metadata": {},
   "source": [
    "### Intensive "
   ]
  },
  {
   "cell_type": "code",
   "execution_count": 56,
   "metadata": {},
   "outputs": [
    {
     "data": {
      "text/html": [
       "<div>\n",
       "<style scoped>\n",
       "    .dataframe tbody tr th:only-of-type {\n",
       "        vertical-align: middle;\n",
       "    }\n",
       "\n",
       "    .dataframe tbody tr th {\n",
       "        vertical-align: top;\n",
       "    }\n",
       "\n",
       "    .dataframe thead th {\n",
       "        text-align: right;\n",
       "    }\n",
       "</style>\n",
       "<table border=\"1\" class=\"dataframe\">\n",
       "  <thead>\n",
       "    <tr style=\"text-align: right;\">\n",
       "      <th></th>\n",
       "      <th>bins/total</th>\n",
       "      <th>ztilde</th>\n",
       "      <th>eps</th>\n",
       "      <th>a</th>\n",
       "      <th>bus_inc</th>\n",
       "      <th>ys</th>\n",
       "      <th>ks</th>\n",
       "      <th>kappa</th>\n",
       "      <th>ns</th>\n",
       "      <th>hy</th>\n",
       "      <th>hkap</th>\n",
       "      <th>ztilde_meas</th>\n",
       "      <th>zkapphi</th>\n",
       "      <th>ne</th>\n",
       "      <th>measured_markups</th>\n",
       "      <th>pys</th>\n",
       "      <th>wns</th>\n",
       "    </tr>\n",
       "  </thead>\n",
       "  <tbody>\n",
       "    <tr>\n",
       "      <th>0</th>\n",
       "      <td>(-inf, 2.706]</td>\n",
       "      <td>1.404</td>\n",
       "      <td>-0.258</td>\n",
       "      <td>-0.076</td>\n",
       "      <td>1.385</td>\n",
       "      <td>3.959</td>\n",
       "      <td>4.493</td>\n",
       "      <td>4.054</td>\n",
       "      <td>5.331</td>\n",
       "      <td>0.946</td>\n",
       "      <td>5.678</td>\n",
       "      <td>-1.102</td>\n",
       "      <td>1.069</td>\n",
       "      <td>1.826</td>\n",
       "      <td>2.176</td>\n",
       "      <td>4.453</td>\n",
       "      <td>5.384</td>\n",
       "    </tr>\n",
       "    <tr>\n",
       "      <th>1</th>\n",
       "      <td>(2.706, 5.977]</td>\n",
       "      <td>3.720</td>\n",
       "      <td>-1.049</td>\n",
       "      <td>0.008</td>\n",
       "      <td>5.010</td>\n",
       "      <td>4.624</td>\n",
       "      <td>5.301</td>\n",
       "      <td>5.158</td>\n",
       "      <td>5.084</td>\n",
       "      <td>3.720</td>\n",
       "      <td>4.122</td>\n",
       "      <td>-1.450</td>\n",
       "      <td>2.179</td>\n",
       "      <td>3.795</td>\n",
       "      <td>8.210</td>\n",
       "      <td>5.250</td>\n",
       "      <td>5.143</td>\n",
       "    </tr>\n",
       "    <tr>\n",
       "      <th>2</th>\n",
       "      <td>(5.977, 10.004]</td>\n",
       "      <td>-0.026</td>\n",
       "      <td>-1.058</td>\n",
       "      <td>0.031</td>\n",
       "      <td>3.622</td>\n",
       "      <td>3.375</td>\n",
       "      <td>4.129</td>\n",
       "      <td>3.075</td>\n",
       "      <td>4.525</td>\n",
       "      <td>0.414</td>\n",
       "      <td>0.457</td>\n",
       "      <td>-1.236</td>\n",
       "      <td>0.072</td>\n",
       "      <td>0.422</td>\n",
       "      <td>-5.388</td>\n",
       "      <td>4.073</td>\n",
       "      <td>4.592</td>\n",
       "    </tr>\n",
       "    <tr>\n",
       "      <th>3</th>\n",
       "      <td>(10.004, 17.407]</td>\n",
       "      <td>-0.115</td>\n",
       "      <td>-0.926</td>\n",
       "      <td>0.116</td>\n",
       "      <td>3.605</td>\n",
       "      <td>3.980</td>\n",
       "      <td>4.867</td>\n",
       "      <td>3.495</td>\n",
       "      <td>5.583</td>\n",
       "      <td>0.305</td>\n",
       "      <td>2.891</td>\n",
       "      <td>-1.354</td>\n",
       "      <td>0.339</td>\n",
       "      <td>0.786</td>\n",
       "      <td>-6.272</td>\n",
       "      <td>4.801</td>\n",
       "      <td>5.665</td>\n",
       "    </tr>\n",
       "    <tr>\n",
       "      <th>4</th>\n",
       "      <td>(17.407, inf]</td>\n",
       "      <td>2.866</td>\n",
       "      <td>-0.471</td>\n",
       "      <td>7.550</td>\n",
       "      <td>15.689</td>\n",
       "      <td>23.069</td>\n",
       "      <td>25.789</td>\n",
       "      <td>17.911</td>\n",
       "      <td>35.113</td>\n",
       "      <td>2.323</td>\n",
       "      <td>3.478</td>\n",
       "      <td>-1.371</td>\n",
       "      <td>2.506</td>\n",
       "      <td>2.537</td>\n",
       "      <td>8.128</td>\n",
       "      <td>25.586</td>\n",
       "      <td>35.461</td>\n",
       "    </tr>\n",
       "    <tr>\n",
       "      <th>5</th>\n",
       "      <td>total</td>\n",
       "      <td>7.849</td>\n",
       "      <td>-3.763</td>\n",
       "      <td>7.629</td>\n",
       "      <td>29.311</td>\n",
       "      <td>39.007</td>\n",
       "      <td>44.579</td>\n",
       "      <td>33.693</td>\n",
       "      <td>55.636</td>\n",
       "      <td>7.708</td>\n",
       "      <td>16.626</td>\n",
       "      <td>-6.513</td>\n",
       "      <td>6.164</td>\n",
       "      <td>9.367</td>\n",
       "      <td>6.852</td>\n",
       "      <td>44.164</td>\n",
       "      <td>56.244</td>\n",
       "    </tr>\n",
       "  </tbody>\n",
       "</table>\n",
       "</div>"
      ],
      "text/plain": [
       "         bins/total  ztilde    eps      a  bus_inc     ys     ks  kappa  \\\n",
       "0  (-inf, 2.706]    1.404   -0.258 -0.076 1.385    3.959  4.493  4.054    \n",
       "1  (2.706, 5.977]   3.720   -1.049 0.008  5.010    4.624  5.301  5.158    \n",
       "2  (5.977, 10.004]  -0.026  -1.058 0.031  3.622    3.375  4.129  3.075    \n",
       "3  (10.004, 17.407] -0.115  -0.926 0.116  3.605    3.980  4.867  3.495    \n",
       "4  (17.407, inf]    2.866   -0.471 7.550  15.689   23.069 25.789 17.911   \n",
       "5  total            7.849   -3.763 7.629  29.311   39.007 44.579 33.693   \n",
       "\n",
       "      ns    hy   hkap  ztilde_meas  zkapphi    ne  measured_markups    pys  \\\n",
       "0 5.331  0.946 5.678  -1.102       1.069    1.826 2.176             4.453    \n",
       "1 5.084  3.720 4.122  -1.450       2.179    3.795 8.210             5.250    \n",
       "2 4.525  0.414 0.457  -1.236       0.072    0.422 -5.388            4.073    \n",
       "3 5.583  0.305 2.891  -1.354       0.339    0.786 -6.272            4.801    \n",
       "4 35.113 2.323 3.478  -1.371       2.506    2.537 8.128             25.586   \n",
       "5 55.636 7.708 16.626 -6.513       6.164    9.367 6.852             44.164   \n",
       "\n",
       "     wns  \n",
       "0 5.384   \n",
       "1 5.143   \n",
       "2 4.592   \n",
       "3 5.665   \n",
       "4 35.461  \n",
       "5 56.244  "
      ]
     },
     "execution_count": 56,
     "metadata": {},
     "output_type": "execute_result"
    }
   ],
   "source": [
    "format_table(intensive_alt,intensive_alt.sum())   "
   ]
  },
  {
   "cell_type": "markdown",
   "metadata": {},
   "source": [
    "### Extensive"
   ]
  },
  {
   "cell_type": "code",
   "execution_count": 57,
   "metadata": {},
   "outputs": [
    {
     "data": {
      "text/html": [
       "<div>\n",
       "<style scoped>\n",
       "    .dataframe tbody tr th:only-of-type {\n",
       "        vertical-align: middle;\n",
       "    }\n",
       "\n",
       "    .dataframe tbody tr th {\n",
       "        vertical-align: top;\n",
       "    }\n",
       "\n",
       "    .dataframe thead th {\n",
       "        text-align: right;\n",
       "    }\n",
       "</style>\n",
       "<table border=\"1\" class=\"dataframe\">\n",
       "  <thead>\n",
       "    <tr style=\"text-align: right;\">\n",
       "      <th></th>\n",
       "      <th>bins/total</th>\n",
       "      <th>ztilde</th>\n",
       "      <th>eps</th>\n",
       "      <th>a</th>\n",
       "      <th>bus_inc</th>\n",
       "      <th>ys</th>\n",
       "      <th>ks</th>\n",
       "      <th>kappa</th>\n",
       "      <th>ns</th>\n",
       "      <th>hy</th>\n",
       "      <th>hkap</th>\n",
       "      <th>ztilde_meas</th>\n",
       "      <th>zkapphi</th>\n",
       "      <th>ne</th>\n",
       "      <th>measured_markups</th>\n",
       "      <th>pys</th>\n",
       "      <th>wns</th>\n",
       "    </tr>\n",
       "  </thead>\n",
       "  <tbody>\n",
       "    <tr>\n",
       "      <th>0</th>\n",
       "      <td>(-inf, 2.706]</td>\n",
       "      <td>-6.035</td>\n",
       "      <td>-6.224</td>\n",
       "      <td>-0.210</td>\n",
       "      <td>-2.737</td>\n",
       "      <td>-4.021</td>\n",
       "      <td>-4.131</td>\n",
       "      <td>-5.099</td>\n",
       "      <td>-3.920</td>\n",
       "      <td>-4.893</td>\n",
       "      <td>-11.471</td>\n",
       "      <td>-7.700</td>\n",
       "      <td>-5.881</td>\n",
       "      <td>-6.116</td>\n",
       "      <td>1.397</td>\n",
       "      <td>-4.123</td>\n",
       "      <td>-3.931</td>\n",
       "    </tr>\n",
       "    <tr>\n",
       "      <th>1</th>\n",
       "      <td>(2.706, 5.977]</td>\n",
       "      <td>-11.920</td>\n",
       "      <td>-10.853</td>\n",
       "      <td>-1.578</td>\n",
       "      <td>-11.262</td>\n",
       "      <td>-9.933</td>\n",
       "      <td>-10.202</td>\n",
       "      <td>-10.575</td>\n",
       "      <td>-8.840</td>\n",
       "      <td>-13.303</td>\n",
       "      <td>-13.345</td>\n",
       "      <td>-11.591</td>\n",
       "      <td>-11.825</td>\n",
       "      <td>-13.311</td>\n",
       "      <td>-17.358</td>\n",
       "      <td>-10.182</td>\n",
       "      <td>-8.864</td>\n",
       "    </tr>\n",
       "    <tr>\n",
       "      <th>2</th>\n",
       "      <td>(5.977, 10.004]</td>\n",
       "      <td>-11.140</td>\n",
       "      <td>-9.562</td>\n",
       "      <td>-2.495</td>\n",
       "      <td>-11.510</td>\n",
       "      <td>-9.645</td>\n",
       "      <td>-9.889</td>\n",
       "      <td>-9.303</td>\n",
       "      <td>-8.619</td>\n",
       "      <td>-12.519</td>\n",
       "      <td>-9.975</td>\n",
       "      <td>-9.683</td>\n",
       "      <td>-10.695</td>\n",
       "      <td>-12.046</td>\n",
       "      <td>-19.077</td>\n",
       "      <td>-9.871</td>\n",
       "      <td>-8.640</td>\n",
       "    </tr>\n",
       "    <tr>\n",
       "      <th>3</th>\n",
       "      <td>(10.004, 17.407]</td>\n",
       "      <td>-9.851</td>\n",
       "      <td>-8.029</td>\n",
       "      <td>-3.405</td>\n",
       "      <td>-10.472</td>\n",
       "      <td>-8.824</td>\n",
       "      <td>-9.048</td>\n",
       "      <td>-8.047</td>\n",
       "      <td>-8.115</td>\n",
       "      <td>-10.772</td>\n",
       "      <td>-7.426</td>\n",
       "      <td>-7.986</td>\n",
       "      <td>-9.229</td>\n",
       "      <td>-10.150</td>\n",
       "      <td>-17.946</td>\n",
       "      <td>-9.031</td>\n",
       "      <td>-8.135</td>\n",
       "    </tr>\n",
       "    <tr>\n",
       "      <th>4</th>\n",
       "      <td>(17.407, inf]</td>\n",
       "      <td>-2.808</td>\n",
       "      <td>-3.064</td>\n",
       "      <td>-12.821</td>\n",
       "      <td>-5.905</td>\n",
       "      <td>-7.642</td>\n",
       "      <td>-7.858</td>\n",
       "      <td>-6.978</td>\n",
       "      <td>-9.920</td>\n",
       "      <td>-2.190</td>\n",
       "      <td>-2.127</td>\n",
       "      <td>-2.219</td>\n",
       "      <td>-3.094</td>\n",
       "      <td>-2.178</td>\n",
       "      <td>0.787</td>\n",
       "      <td>-7.842</td>\n",
       "      <td>-9.947</td>\n",
       "    </tr>\n",
       "    <tr>\n",
       "      <th>5</th>\n",
       "      <td>total</td>\n",
       "      <td>-41.754</td>\n",
       "      <td>-37.731</td>\n",
       "      <td>-20.509</td>\n",
       "      <td>-41.886</td>\n",
       "      <td>-40.065</td>\n",
       "      <td>-41.128</td>\n",
       "      <td>-40.002</td>\n",
       "      <td>-39.413</td>\n",
       "      <td>-43.676</td>\n",
       "      <td>-44.344</td>\n",
       "      <td>-39.179</td>\n",
       "      <td>-40.724</td>\n",
       "      <td>-43.800</td>\n",
       "      <td>-52.196</td>\n",
       "      <td>-41.049</td>\n",
       "      <td>-39.517</td>\n",
       "    </tr>\n",
       "  </tbody>\n",
       "</table>\n",
       "</div>"
      ],
      "text/plain": [
       "         bins/total  ztilde     eps       a  bus_inc      ys      ks   kappa  \\\n",
       "0  (-inf, 2.706]    -6.035  -6.224  -0.210  -2.737   -4.021  -4.131  -5.099    \n",
       "1  (2.706, 5.977]   -11.920 -10.853 -1.578  -11.262  -9.933  -10.202 -10.575   \n",
       "2  (5.977, 10.004]  -11.140 -9.562  -2.495  -11.510  -9.645  -9.889  -9.303    \n",
       "3  (10.004, 17.407] -9.851  -8.029  -3.405  -10.472  -8.824  -9.048  -8.047    \n",
       "4  (17.407, inf]    -2.808  -3.064  -12.821 -5.905   -7.642  -7.858  -6.978    \n",
       "5  total            -41.754 -37.731 -20.509 -41.886  -40.065 -41.128 -40.002   \n",
       "\n",
       "       ns      hy    hkap  ztilde_meas  zkapphi      ne  measured_markups  \\\n",
       "0 -3.920  -4.893  -11.471 -7.700       -5.881   -6.116  1.397               \n",
       "1 -8.840  -13.303 -13.345 -11.591      -11.825  -13.311 -17.358             \n",
       "2 -8.619  -12.519 -9.975  -9.683       -10.695  -12.046 -19.077             \n",
       "3 -8.115  -10.772 -7.426  -7.986       -9.229   -10.150 -17.946             \n",
       "4 -9.920  -2.190  -2.127  -2.219       -3.094   -2.178  0.787               \n",
       "5 -39.413 -43.676 -44.344 -39.179      -40.724  -43.800 -52.196             \n",
       "\n",
       "      pys     wns  \n",
       "0 -4.123  -3.931   \n",
       "1 -10.182 -8.864   \n",
       "2 -9.871  -8.640   \n",
       "3 -9.031  -8.135   \n",
       "4 -7.842  -9.947   \n",
       "5 -41.049 -39.517  "
      ]
     },
     "execution_count": 57,
     "metadata": {},
     "output_type": "execute_result"
    }
   ],
   "source": [
    "format_table(extensive_alt,extensive_alt.sum())   "
   ]
  },
  {
   "cell_type": "markdown",
   "metadata": {},
   "source": [
    "## Short-run Elasticities"
   ]
  },
  {
   "cell_type": "markdown",
   "metadata": {},
   "source": [
    "## Concept\n",
    "Our goal is to approximate short-run elaticities by comparing  similar agents across different levels of taxes. For this we use the optimal policies in the two economies and simulate paths for a buch of agents fixing their initial conditions and the sequence of exogenous shocks. \n",
    "\n",
    "### Implementation\n",
    "Let $\\Theta$ be the vector of parameters including tax rates and market clearing prices. Let $s^1=(a,\\kappa)$ be the vector of endogenous  state variables for an individual,;  $s^2=(\\epsilon,z,age)$ be the vector of shocks. Functions $\\mathcal{F}^x(s; \\Theta)$ be the optimal policies for choice variable $x$ and $\\mathcal{S}^1(s;\\Theta)$ the law of motion for the endogenous states under the optimal policies. We denote the ergodic distribution associated with optimal policies using $\\mu(s,\\Theta)$. We use $\\Theta^*$ for the benchmark calibrated to US policies and $\\Theta^{\\prime}$ to denote the counterfactual economy with alternative taxes.\n",
    "\n",
    "\n",
    "* We draw agents from the ergodic distribution, that is, a collection of $\\{s_{i,0}\\}_i$ from $\\mu(s,\\Theta)$. \n",
    "* We draw a sequence of exogenous shocks $\\{s^{2}_{i,t}\\}_i,t$\n",
    "* We use $\\mathcal{F}^x(s; \\Theta^{\\prime})$ and $\\mathcal{S}^1(s;\\Theta^{\\prime})$ to generate a panel for $x^{\\prime}_{i,t}$ \n",
    "$$ x^{\\prime}_{i,1}= \\mathcal{F}^x(s_{i,0}; \\Theta^{\\prime}) $$\n",
    "$$ x_{i,2}= \\mathcal{F}^x(\\mathcal{S}^1(s^{\\prime}_{i,1};\\Theta^{\\prime}),s_{2,i}; \\Theta^{\\prime})$$\n",
    "and so on\n",
    "*  We use $\\mathcal{F}^x(s; \\Theta^{*})$ and $\\mathcal{S}^1(s;\\Theta^{*})$ to generate a panel for $x^{*}_{i,t}$ \n",
    "* For a group $G$, we compute $\\Delta^{x}_{G,t}\\left(\\Theta^*,\\Theta^{\\prime}\\right)= \\frac{\\sum_{i\\in G} x^{\\prime}_{i,t} - \\sum_{i\\in G} x^{*}_{i,t}}{ \\sum_{i\\in G} x^{*}_{i,t}} $\n",
    "\n",
    "## Application\n",
    "We now compute $\\Delta^{G,x}_{i,t}$ for $x=\\{h_y+h_{\\kappa},n_s+h_y+h_{\\kappa}\\} and for $G=\\{all, by $z$\\}$ "
   ]
  },
  {
   "cell_type": "code",
   "execution_count": 58,
   "metadata": {},
   "outputs": [],
   "source": [
    "T0=0\n",
    "TN=10\n",
    "e1 = import_econ(pathtosiminitbase)\n",
    "e2 = import_econ(pathtosiminittarget)\n",
    "\n",
    "base_tot_hrs=e1.data_hy+e1.data_ns+e1.data_hkap\n",
    "tax_tot_hrs=e2.data_hy+e2.data_ns+e2.data_hkap\n",
    "base_e_hrs=e1.data_hy+e1.data_hkap\n",
    "tax_e_hrs=e2.data_hy+e2.data_hkap\n",
    "\n",
    "\n",
    "data_baseline=[]\n",
    "data_target=[]\n",
    "data=[]\n",
    "for t in range (T0,TN):\n",
    "    data=np.vstack( (e1.data_hy[:,t],\n",
    "                     e1.data_hkap[:,t],\n",
    "                     e1.data_is_c[:,t],\n",
    "                     e1.is_to_iz[e1.data_i_s[:,t]],\n",
    "                     base_tot_hrs[:,t], \n",
    "                     e1.data_ns[:,t],\n",
    "                     e1.data_a[:,t],\n",
    "                     e1.data_kap[:,t],\n",
    "                     base_e_hrs[:,t],\n",
    "                     e1.data_n[:,1]\n",
    "\n",
    "                    )  \n",
    "                  )\n",
    "    coldata=['hy','hkap','flagC','z','totalhrs','ns','a','kappa','ent_hrs','emp_hrs']\n",
    "    data=data.T\n",
    "    data_baseline.append( pd.DataFrame( data ,columns=coldata))\n",
    "    data_baseline[t].flagC=data_baseline[t].flagC.astype('bool')    \n",
    "    data_baseline[t]['flagS']=~data_baseline[t].flagC.astype('bool')\n",
    "\n",
    "    data=np.vstack( (e2.data_hy[:,t],\n",
    "                     e2.data_hkap[:,t],\n",
    "                     e2.data_is_c[:,t],\n",
    "                     e2.is_to_iz[e2.data_i_s[:,t]], \n",
    "                     tax_tot_hrs[:,t],\n",
    "                     e2.data_ns[:,t],\n",
    "                     e2.data_a[:,t],\n",
    "                     e2.data_kap[:,t],\n",
    "                     tax_e_hrs[:,t],    \n",
    "                     e2.data_n[:,t]\n",
    "                    )  \n",
    "                  )\n",
    "    data=data.T\n",
    "    data_target.append( pd.DataFrame( data ,columns=coldata))\n",
    "    data_target[t].flagC=data_target[t].flagC.astype('bool')\n",
    "    data_target[t]['flagS']=~data_target[t].flagC.astype('bool')\n",
    "   "
   ]
  },
  {
   "cell_type": "markdown",
   "metadata": {},
   "source": [
    "### Total hours in business: $n_s+h_y+h_{\\kappa}$"
   ]
  },
  {
   "cell_type": "markdown",
   "metadata": {},
   "source": [
    "All business owners"
   ]
  },
  {
   "cell_type": "code",
   "execution_count": 59,
   "metadata": {},
   "outputs": [
    {
     "data": {
      "text/plain": [
       "[<matplotlib.lines.Line2D at 0x7f1c31e982b0>]"
      ]
     },
     "execution_count": 59,
     "metadata": {},
     "output_type": "execute_result"
    },
    {
     "name": "stdout",
     "output_type": "stream",
     "text": [
      "   Delta_all\n",
      "0 nan       \n",
      "1 0.064     \n",
      "2 0.053     \n",
      "3 0.041     \n",
      "4 0.028     \n",
      "5 0.019     \n",
      "6 0.012     \n",
      "7 0.000     \n",
      "8 -0.003    \n",
      "9 -0.002    \n"
     ]
    },
    {
     "data": {
      "image/png": "[encoded data removed]",
      "text/plain": [
       "<Figure size 432x288 with 1 Axes>"
      ]
     },
     "metadata": {
      "needs_background": "light"
     },
     "output_type": "display_data"
    }
   ],
   "source": [
    "data_e1=[data_baseline[t].totalhrs.sum() for t in range(T0,TN)]\n",
    "data_e2=[data_target[t].totalhrs.sum() for t in range(T0,TN)]\n",
    "Delta=np.array(data_e2)/np.array(data_e1)-1\n",
    "plt.plot(Delta)\n",
    "print(pd.DataFrame(Delta,columns=['Delta_all']))"
   ]
  },
  {
   "cell_type": "markdown",
   "metadata": {},
   "source": [
    "Grouped by $z$"
   ]
  },
  {
   "cell_type": "code",
   "execution_count": 60,
   "metadata": {},
   "outputs": [
    {
     "data": {
      "text/plain": [
       "[<matplotlib.lines.Line2D at 0x7f1dd745a898>]"
      ]
     },
     "execution_count": 60,
     "metadata": {},
     "output_type": "execute_result"
    },
    {
     "data": {
      "text/plain": [
       "[<matplotlib.lines.Line2D at 0x7f1dd73dd518>]"
      ]
     },
     "execution_count": 60,
     "metadata": {},
     "output_type": "execute_result"
    },
    {
     "data": {
      "text/plain": [
       "[<matplotlib.lines.Line2D at 0x7f1dd73dd0f0>]"
      ]
     },
     "execution_count": 60,
     "metadata": {},
     "output_type": "execute_result"
    },
    {
     "data": {
      "text/plain": [
       "[<matplotlib.lines.Line2D at 0x7f1dd73dd320>]"
      ]
     },
     "execution_count": 60,
     "metadata": {},
     "output_type": "execute_result"
    },
    {
     "data": {
      "text/plain": [
       "[<matplotlib.lines.Line2D at 0x7f1dd73dd828>]"
      ]
     },
     "execution_count": 60,
     "metadata": {},
     "output_type": "execute_result"
    },
    {
     "data": {
      "text/plain": [
       "[<matplotlib.lines.Line2D at 0x7f1dd73ddf60>]"
      ]
     },
     "execution_count": 60,
     "metadata": {},
     "output_type": "execute_result"
    },
    {
     "data": {
      "text/plain": [
       "<matplotlib.legend.Legend at 0x7f1dd73dd080>"
      ]
     },
     "execution_count": 60,
     "metadata": {},
     "output_type": "execute_result"
    },
    {
     "name": "stdout",
     "output_type": "stream",
     "text": [
      "        0      1      2      3      4      5      6      7      8      9\n",
      "0.000 nan -0.207 -0.202 -0.214 -0.217 -0.231 -0.249 -0.270 -0.321 -0.311\n",
      "1.000 nan -0.238 -0.223 -0.219 -0.257 -0.262 -0.294 -0.291 -0.301 -0.337\n",
      "2.000 nan -0.323 -0.320 -0.300 -0.257 -0.312 -0.335 -0.334 -0.328 -0.377\n",
      "3.000 nan -0.052 -0.100 -0.139 -0.176 -0.213 -0.243 -0.245 -0.263 -0.289\n",
      "4.000 nan 0.013  -0.061 -0.126 -0.173 -0.206 -0.228 -0.253 -0.258 -0.262\n",
      "5.000 nan 0.188  0.310  0.407  0.470  0.505  0.530  0.543  0.552  0.561 \n"
     ]
    },
    {
     "data": {
      "image/png": "[encoded data removed]",
      "text/plain": [
       "<Figure size 432x288 with 1 Axes>"
      ]
     },
     "metadata": {
      "needs_background": "light"
     },
     "output_type": "display_data"
    }
   ],
   "source": [
    "\n",
    "Delta=[]\n",
    "fig, ax = plt.subplots()\n",
    "for zval in np.sort(data_baseline[0].z.unique()):\n",
    "    sel_baseline=[data_baseline[t].z==zval for t in range(T0,TN)]\n",
    "    sel_target=[data_target[t].z==zval for t in range(T0,TN)]\n",
    "    data_e1=[data_baseline[t][sel_baseline[t]].totalhrs.sum() for t in range(T0,TN)]\n",
    "    data_e2=[data_target[t][sel_target[t]].totalhrs.sum() for t in range(T0,TN)]\n",
    "    temp=np.array(data_e2)/np.array(data_e1)-1\n",
    "    Delta.append(temp)\n",
    "    ax.plot(temp)\n",
    "    \n",
    "ax.legend(np.sort(data_baseline[0].z.unique()))\n",
    "Delta_by_z=pd.DataFrame(Delta,index=np.sort(data_baseline[0].z.unique()))    \n",
    "print(Delta_by_z)"
   ]
  },
  {
   "cell_type": "markdown",
   "metadata": {},
   "source": [
    "### Total hours by entreprenurs : $h_y+h_{\\kappa}$"
   ]
  },
  {
   "cell_type": "markdown",
   "metadata": {},
   "source": [
    "All business owners"
   ]
  },
  {
   "cell_type": "code",
   "execution_count": 61,
   "metadata": {},
   "outputs": [
    {
     "data": {
      "text/plain": [
       "[<matplotlib.lines.Line2D at 0x7f1dad3640b8>]"
      ]
     },
     "execution_count": 61,
     "metadata": {},
     "output_type": "execute_result"
    },
    {
     "name": "stdout",
     "output_type": "stream",
     "text": [
      "   Delta_all\n",
      "0 nan       \n",
      "1 -0.076    \n",
      "2 -0.146    \n",
      "3 -0.200    \n",
      "4 -0.238    \n",
      "5 -0.265    \n",
      "6 -0.287    \n",
      "7 -0.303    \n",
      "8 -0.309    \n",
      "9 -0.317    \n"
     ]
    },
    {
     "data": {
      "image/png": "[encoded data removed]",
      "text/plain": [
       "<Figure size 432x288 with 1 Axes>"
      ]
     },
     "metadata": {
      "needs_background": "light"
     },
     "output_type": "display_data"
    }
   ],
   "source": [
    "data_e1=[data_baseline[t].ent_hrs.sum() for t in range(T0,TN)]\n",
    "data_e2=[data_target[t].ent_hrs.sum() for t in range(T0,TN)]\n",
    "Delta=np.array(data_e2)/np.array(data_e1)-1\n",
    "plt.plot(Delta)\n",
    "print(pd.DataFrame(Delta,columns=['Delta_all']))"
   ]
  },
  {
   "cell_type": "markdown",
   "metadata": {},
   "source": [
    "Grouped by $z$"
   ]
  },
  {
   "cell_type": "code",
   "execution_count": 62,
   "metadata": {},
   "outputs": [
    {
     "data": {
      "text/plain": [
       "[<matplotlib.lines.Line2D at 0x7f1dd73ddda0>]"
      ]
     },
     "execution_count": 62,
     "metadata": {},
     "output_type": "execute_result"
    },
    {
     "data": {
      "text/plain": [
       "[<matplotlib.lines.Line2D at 0x7f1dd73ed438>]"
      ]
     },
     "execution_count": 62,
     "metadata": {},
     "output_type": "execute_result"
    },
    {
     "data": {
      "text/plain": [
       "[<matplotlib.lines.Line2D at 0x7f1dad30c048>]"
      ]
     },
     "execution_count": 62,
     "metadata": {},
     "output_type": "execute_result"
    },
    {
     "data": {
      "text/plain": [
       "[<matplotlib.lines.Line2D at 0x7f1dad2c3860>]"
      ]
     },
     "execution_count": 62,
     "metadata": {},
     "output_type": "execute_result"
    },
    {
     "data": {
      "text/plain": [
       "[<matplotlib.lines.Line2D at 0x7f1dd73edeb8>]"
      ]
     },
     "execution_count": 62,
     "metadata": {},
     "output_type": "execute_result"
    },
    {
     "data": {
      "text/plain": [
       "[<matplotlib.lines.Line2D at 0x7f1dad2c38d0>]"
      ]
     },
     "execution_count": 62,
     "metadata": {},
     "output_type": "execute_result"
    },
    {
     "data": {
      "text/plain": [
       "<matplotlib.legend.Legend at 0x7f1dad2c3400>"
      ]
     },
     "execution_count": 62,
     "metadata": {},
     "output_type": "execute_result"
    },
    {
     "name": "stdout",
     "output_type": "stream",
     "text": [
      "        0      1      2      3      4      5      6      7      8      9\n",
      "0.000 nan -0.208 -0.202 -0.214 -0.217 -0.232 -0.249 -0.271 -0.321 -0.311\n",
      "1.000 nan -0.246 -0.229 -0.226 -0.264 -0.269 -0.299 -0.299 -0.309 -0.346\n",
      "2.000 nan -0.346 -0.339 -0.314 -0.277 -0.336 -0.355 -0.354 -0.347 -0.400\n",
      "3.000 nan -0.100 -0.145 -0.183 -0.220 -0.256 -0.285 -0.286 -0.306 -0.331\n",
      "4.000 nan -0.090 -0.168 -0.227 -0.268 -0.296 -0.319 -0.337 -0.342 -0.348\n",
      "5.000 nan 0.127  0.132  0.128  0.123  0.116  0.113  0.108  0.103  0.100 \n"
     ]
    },
    {
     "data": {
      "image/png": "[encoded data removed]",
      "text/plain": [
       "<Figure size 432x288 with 1 Axes>"
      ]
     },
     "metadata": {
      "needs_background": "light"
     },
     "output_type": "display_data"
    }
   ],
   "source": [
    "Delta=[]\n",
    "fig, ax = plt.subplots()\n",
    "for zval in np.sort(data_baseline[0].z.unique()):\n",
    "    sel_baseline=[data_baseline[t].z==zval for t in range(T0,TN)]\n",
    "    sel_target=[data_target[t].z==zval for t in range(T0,TN)]\n",
    "    data_e1=[data_baseline[t][sel_baseline[t]].ent_hrs.sum() for t in range(T0,TN)]\n",
    "    data_e2=[data_target[t][sel_target[t]].ent_hrs.sum() for t in range(T0,TN)]\n",
    "    temp=np.array(data_e2)/np.array(data_e1)-1\n",
    "    Delta.append(temp)\n",
    "    ax.plot(temp)\n",
    "    \n",
    "ax.legend(np.sort(data_baseline[0].z.unique()))\n",
    "Delta_by_z=pd.DataFrame(Delta,index=np.sort(data_baseline[0].z.unique()))    \n",
    "print(Delta_by_z)"
   ]
  },
  {
   "cell_type": "markdown",
   "metadata": {},
   "source": [
    "## Intensive Margin entreprenur hours: $h_y$+$h_{\\kappa}$\n",
    "In here we condition on individual who were running business in date $t=0$. We then compute the % change in hours \"person-by-person\" and report the 25, 50, 75 percentiles. Note that this not what GR do. But is closer to what Chettty does and calls as intensive margin. "
   ]
  },
  {
   "cell_type": "code",
   "execution_count": 63,
   "metadata": {},
   "outputs": [
    {
     "data": {
      "text/plain": [
       "[<matplotlib.lines.Line2D at 0x7f1dad260128>,\n",
       " <matplotlib.lines.Line2D at 0x7f1dad260390>,\n",
       " <matplotlib.lines.Line2D at 0x7f1dad260518>]"
      ]
     },
     "execution_count": 63,
     "metadata": {},
     "output_type": "execute_result"
    },
    {
     "data": {
      "image/png": "[encoded data removed]",
      "text/plain": [
       "<Figure size 432x288 with 1 Axes>"
      ]
     },
     "metadata": {
      "needs_background": "light"
     },
     "output_type": "display_data"
    }
   ],
   "source": [
    "Delta_ent_hrs=[(data_target[t].ent_hrs-data_baseline[t].ent_hrs)/data_baseline[t].ent_hrs for t in range(T0,TN)]\n",
    "sel=data_baseline[1].flagS\n",
    "plt.plot([Delta_ent_hrs[t][data_baseline[1][sel].index].quantile([.25,.5,.75]) for t in range(T0,TN)])"
   ]
  },
  {
   "cell_type": "markdown",
   "metadata": {},
   "source": [
    "### Num of entreprenurs "
   ]
  },
  {
   "cell_type": "code",
   "execution_count": 64,
   "metadata": {},
   "outputs": [
    {
     "data": {
      "text/plain": [
       "[<matplotlib.lines.Line2D at 0x7f1dad1c85c0>]"
      ]
     },
     "execution_count": 64,
     "metadata": {},
     "output_type": "execute_result"
    },
    {
     "name": "stdout",
     "output_type": "stream",
     "text": [
      "   Delta_all\n",
      "0 nan       \n",
      "1 -0.128    \n",
      "2 -0.160    \n",
      "3 -0.190    \n",
      "4 -0.208    \n",
      "5 -0.228    \n",
      "6 -0.244    \n",
      "7 -0.253    \n",
      "8 -0.262    \n",
      "9 -0.273    \n"
     ]
    },
    {
     "data": {
      "image/png": "[encoded data removed]",
      "text/plain": [
       "<Figure size 432x288 with 1 Axes>"
      ]
     },
     "metadata": {
      "needs_background": "light"
     },
     "output_type": "display_data"
    }
   ],
   "source": [
    "data_e1=[data_baseline[t].flagS.sum() for t in range(T0,TN)]\n",
    "data_e2=[data_target[t].flagS.sum() for t in range(T0,TN)]\n",
    "Delta=np.array(data_e2)/np.array(data_e1)-1\n",
    "Delta[0]=np.nan\n",
    "plt.plot(Delta)\n",
    "print(pd.DataFrame(Delta,columns=['Delta_all']))"
   ]
  },
  {
   "cell_type": "code",
   "execution_count": 65,
   "metadata": {},
   "outputs": [
    {
     "data": {
      "text/plain": [
       "[<matplotlib.lines.Line2D at 0x7f1dad2c3a58>]"
      ]
     },
     "execution_count": 65,
     "metadata": {},
     "output_type": "execute_result"
    },
    {
     "data": {
      "text/plain": [
       "[<matplotlib.lines.Line2D at 0x7f1dad2c3e10>]"
      ]
     },
     "execution_count": 65,
     "metadata": {},
     "output_type": "execute_result"
    },
    {
     "data": {
      "text/plain": [
       "[<matplotlib.lines.Line2D at 0x7f1dad1f84a8>]"
      ]
     },
     "execution_count": 65,
     "metadata": {},
     "output_type": "execute_result"
    },
    {
     "data": {
      "text/plain": [
       "[<matplotlib.lines.Line2D at 0x7f1dad137ba8>]"
      ]
     },
     "execution_count": 65,
     "metadata": {},
     "output_type": "execute_result"
    },
    {
     "data": {
      "text/plain": [
       "[<matplotlib.lines.Line2D at 0x7f1dad2da940>]"
      ]
     },
     "execution_count": 65,
     "metadata": {},
     "output_type": "execute_result"
    },
    {
     "data": {
      "text/plain": [
       "[<matplotlib.lines.Line2D at 0x7f1dad137978>]"
      ]
     },
     "execution_count": 65,
     "metadata": {},
     "output_type": "execute_result"
    },
    {
     "data": {
      "text/plain": [
       "<matplotlib.legend.Legend at 0x7f1dad137748>"
      ]
     },
     "execution_count": 65,
     "metadata": {},
     "output_type": "execute_result"
    },
    {
     "name": "stdout",
     "output_type": "stream",
     "text": [
      "        0      1      2      3      4      5      6      7      8      9\n",
      "0.000 nan -0.176 -0.180 -0.189 -0.187 -0.207 -0.216 -0.220 -0.232 -0.240\n",
      "1.000 nan -0.181 -0.175 -0.172 -0.185 -0.197 -0.192 -0.198 -0.207 -0.224\n",
      "2.000 nan -0.208 -0.194 -0.219 -0.203 -0.212 -0.225 -0.230 -0.233 -0.253\n",
      "3.000 nan -0.093 -0.127 -0.149 -0.173 -0.200 -0.222 -0.224 -0.242 -0.260\n",
      "4.000 nan -0.106 -0.168 -0.215 -0.246 -0.271 -0.291 -0.308 -0.314 -0.319\n",
      "5.000 nan -0.002 -0.001 -0.001 0.004  0.001  -0.001 0.003  0.003  0.000 \n"
     ]
    },
    {
     "data": {
      "image/png": "[encoded data removed]",
      "text/plain": [
       "<Figure size 432x288 with 1 Axes>"
      ]
     },
     "metadata": {
      "needs_background": "light"
     },
     "output_type": "display_data"
    }
   ],
   "source": [
    "Delta=[]\n",
    "fig, ax = plt.subplots()\n",
    "for zval in np.sort(data_baseline[0].z.unique()):\n",
    "    sel_baseline=[data_baseline[t].z==zval for t in range(T0,TN)]\n",
    "    sel_target=[data_target[t].z==zval for t in range(T0,TN)]\n",
    "    data_e1=[data_baseline[t][sel_baseline[t]].flagS.sum() for t in range(T0,TN)]\n",
    "    data_e2=[data_target[t][sel_target[t]].flagS.sum() for t in range(T0,TN)]\n",
    "    temp=np.array(data_e2)/np.array(data_e1)-1\n",
    "    temp[0]=np.nan\n",
    "    Delta.append(temp)\n",
    "    ax.plot(temp)\n",
    "    \n",
    "ax.legend(np.sort(data_baseline[0].z.unique()))\n",
    "Delta_by_z=pd.DataFrame(Delta,index=np.sort(data_baseline[0].z.unique()))    \n",
    "print(Delta_by_z)"
   ]
  },
  {
   "cell_type": "markdown",
   "metadata": {},
   "source": [
    "## Employee Hours: n"
   ]
  },
  {
   "cell_type": "code",
   "execution_count": 66,
   "metadata": {},
   "outputs": [
    {
     "data": {
      "text/plain": [
       "[<matplotlib.lines.Line2D at 0x7f1dad0d3278>]"
      ]
     },
     "execution_count": 66,
     "metadata": {},
     "output_type": "execute_result"
    },
    {
     "name": "stdout",
     "output_type": "stream",
     "text": [
      "   Delta_all\n",
      "0 nan       \n",
      "1 0.137     \n",
      "2 0.160     \n",
      "3 0.174     \n",
      "4 0.187     \n",
      "5 0.200     \n",
      "6 0.207     \n",
      "7 0.212     \n",
      "8 0.216     \n",
      "9 0.221     \n"
     ]
    },
    {
     "data": {
      "image/png": "[encoded data removed]",
      "text/plain": [
       "<Figure size 432x288 with 1 Axes>"
      ]
     },
     "metadata": {
      "needs_background": "light"
     },
     "output_type": "display_data"
    }
   ],
   "source": [
    "data_e1=[data_baseline[t].emp_hrs.sum() for t in range(T0,TN)]\n",
    "data_e2=[data_target[t].emp_hrs.sum() for t in range(T0,TN)]\n",
    "Delta=np.array(data_e2)/np.array(data_e1)-1\n",
    "Delta[0]=np.nan\n",
    "plt.plot(Delta)\n",
    "print(pd.DataFrame(Delta,columns=['Delta_all']))"
   ]
  },
  {
   "cell_type": "markdown",
   "metadata": {},
   "source": [
    "## Employee Hours: n intensive (median)"
   ]
  },
  {
   "cell_type": "code",
   "execution_count": 68,
   "metadata": {},
   "outputs": [
    {
     "data": {
      "text/plain": [
       "[<matplotlib.lines.Line2D at 0x7f1cca0237f0>]"
      ]
     },
     "execution_count": 68,
     "metadata": {},
     "output_type": "execute_result"
    },
    {
     "data": {
      "image/png": "[encoded data removed]",
      "text/plain": [
       "<Figure size 432x288 with 1 Axes>"
      ]
     },
     "metadata": {
      "needs_background": "light"
     },
     "output_type": "display_data"
    }
   ],
   "source": [
    "Delta_emp_hrs=[]\n",
    "for t in range(T0,TN):\n",
    "    Delta_emp_hrs.append((data_target[t].emp_hrs-data_baseline[t].emp_hrs)/data_baseline[t].emp_hrs)\n",
    "sel=data_baseline[1].flagC\n",
    "plt.plot([Delta_emp_hrs[t][data_baseline[1][sel].index].quantile(.5) for t in range(T0+1,TN)])"
   ]
  },
  {
   "cell_type": "code",
   "execution_count": null,
   "metadata": {},
   "outputs": [],
   "source": []
  }
 ],
 "metadata": {
  "kernelspec": {
   "display_name": "Python 3",
   "language": "python",
   "name": "python3"
  },
  "language_info": {
   "codemirror_mode": {
    "name": "ipython",
    "version": 3
   },
   "file_extension": ".py",
   "mimetype": "text/x-python",
   "name": "python",
   "nbconvert_exporter": "python",
   "pygments_lexer": "ipython3",
   "version": "3.6.8"
  }
 },
 "nbformat": 4,
 "nbformat_minor": 4
}
