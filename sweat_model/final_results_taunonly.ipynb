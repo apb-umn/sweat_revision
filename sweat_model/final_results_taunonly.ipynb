{
 "cells": [
  {
   "cell_type": "markdown",
   "metadata": {},
   "source": [
    "<h1 align=\"center\">RESULTS: Comparision of Baseline and Lower Tax on Employees </h1> \n",
    "\n"
   ]
  },
  {
   "cell_type": "markdown",
   "metadata": {},
   "source": [
    "This file generates  aggregate and  cross-sectional moments using the simulated data. The simlations are generated using the simulate.py fle. Please update the paths to the simulation data before running."
   ]
  },
  {
   "cell_type": "markdown",
   "metadata": {},
   "source": [
    "## Import libraries"
   ]
  },
  {
   "cell_type": "code",
   "execution_count": 1,
   "metadata": {},
   "outputs": [],
   "source": [
    "import numpy as np\n",
    "import pandas as pd\n",
    "import stats\n",
    "import os.path\n",
    "pd.options.display.float_format = '{:.3f}'.format\n",
    "pd.set_option('display.max_colwidth', -1)\n",
    "from SCEconomy import *\n",
    "import seaborn as sns\n",
    "sns.set_style('whitegrid')\n",
    "\n",
    "import warnings\n",
    "warnings.filterwarnings('ignore')\n",
    "\n",
    "%matplotlib inline\n",
    "import matplotlib as mpl\n",
    "mpl.rc(\"savefig\",dpi=200)\n",
    "from matplotlib import pyplot as plt\n",
    "# plt.rcParams[\"figure.figsize\"] = (10.,10.)"
   ]
  },
  {
   "cell_type": "code",
   "execution_count": 2,
   "metadata": {},
   "outputs": [
    {
     "data": {
      "text/html": [
       "<script>\n",
       "code_show=true; \n",
       "function code_toggle() {\n",
       " if (code_show){\n",
       " $('div.input').hide();\n",
       " } else {\n",
       " $('div.input').show();\n",
       " }\n",
       " code_show = !code_show\n",
       "} \n",
       "$( document ).ready(code_toggle);\n",
       "</script>\n",
       "<form action=\"javascript:code_toggle()\"><input type=\"submit\" value=\"Click here to toggle on/off the raw code.\"></form>"
      ],
      "text/plain": [
       "<IPython.core.display.HTML object>"
      ]
     },
     "execution_count": 2,
     "metadata": {},
     "output_type": "execute_result"
    }
   ],
   "source": [
    "from IPython.display import HTML\n",
    "from IPython.core.interactiveshell import InteractiveShell\n",
    "InteractiveShell.ast_node_interactivity = \"all\"\n",
    "HTML('''<script>\n",
    "code_show=true; \n",
    "function code_toggle() {\n",
    " if (code_show){\n",
    " $('div.input').hide();\n",
    " } else {\n",
    " $('div.input').show();\n",
    " }\n",
    " code_show = !code_show\n",
    "} \n",
    "$( document ).ready(code_toggle);\n",
    "</script>\n",
    "<form action=\"javascript:code_toggle()\"><input type=\"submit\" value=\"Click here to toggle on/off the raw code.\"></form>''')"
   ]
  },
  {
   "cell_type": "code",
   "execution_count": 3,
   "metadata": {},
   "outputs": [],
   "source": [
    "df_baseline=[]\n",
    "df_target=[]\n",
    "def gini(series, weights):\n",
    "    if series.size!=weights.size:\n",
    "        print(\"Weights are not the same size as the series\")\n",
    "        return\n",
    "    sorted_series = series.sort_values()\n",
    "    height, area = 0, 0\n",
    "    for i in range(series.size):\n",
    "        value = series[sorted_series.index[i]]\n",
    "        wgt = weights[sorted_series.index[i]]\n",
    "        height += wgt*value\n",
    "        area += wgt*(height - value / 2)\n",
    "    fair_area = height * weights.sum() / 2.\n",
    "    return (fair_area - area) / fair_area\n",
    "\n",
    "\n",
    "def gini_alt(series):\n",
    "    csum= 0.0\n",
    "    N=len(series)\n",
    "    for i in range(N):\n",
    "        for j in range(N):\n",
    "            value_i = series.iloc[i]\n",
    "            value_j = series.iloc[j]\n",
    "            csum+=np.abs(value_i-value_j)\n",
    "        \n",
    "    gini_val=0.5*(csum/(N)**2)/series.mean()\n",
    "    \n",
    "    return gini_val\n",
    "\n",
    "\n",
    "def Lorenz(series,quantiles):\n",
    "    N=len(quantiles)\n",
    "    Lz=np.zeros(N)\n",
    "    for n in range(N):\n",
    "        selection = series<series.quantile(quantiles[n])\n",
    "        Lz[n]=series[selection].sum()/series.sum()\n",
    "               \n",
    "        \n",
    "    return  Lz\n",
    "\n",
    "\n",
    "def uploadData(case,w,rs,rc,p,delta):\n",
    "    data=pd.DataFrame()\n",
    "    is_iz=pd.read_csv(case+'/is_to_iz.csv',delim_whitespace=True,header=None)\n",
    "    zgrid=pd.read_csv(case+'/zgrid.csv',delim_whitespace=True,header=None)\n",
    "    is_to_ieps=pd.read_csv(case+'/is_to_ieps.csv', delim_whitespace=True,header=None)\n",
    "    epsgrid=pd.read_csv(case+'/epsgrid.csv', delim_whitespace=True,header=None)\n",
    "    T=100-1\n",
    "    \n",
    "    data['s_ind_']=pd.read_csv(case+'/data_i_s.csv', delim_whitespace=True,header=None).iloc[:,T-1]\n",
    "    data['s_ind']=pd.read_csv(case+'/data_i_s.csv', delim_whitespace=True,header=None, usecols=[T])\n",
    "    \n",
    "    \n",
    "    data['eps']=epsgrid.values.flatten()[is_to_ieps.astype('int').values.flatten()[data.s_ind.astype('int').values.flatten()]]   \n",
    "    data['eps_']=epsgrid.values.flatten()[is_to_ieps.astype('int').values.flatten()[data.s_ind_.astype('int').values.flatten()]]   \n",
    "    data['iz']=is_iz.astype('int').values.flatten()[data.s_ind.astype('int').values.flatten()]\n",
    "    data['iz_']=is_iz.astype('int').values.flatten()[data.s_ind_.astype('int').values.flatten()]\n",
    "    data['ieps']=is_to_ieps.astype('int').values.flatten()[data.s_ind.astype('int').values.flatten()]  \n",
    "    data['ieps_']=is_to_ieps.astype('int').values.flatten()[data.s_ind_.astype('int').values.flatten()]\n",
    "    data['z']=zgrid.values.flatten()[is_iz.astype('int').values.flatten()[data.s_ind.astype('int').values.flatten()]]    \n",
    "    data['z_']=zgrid.values.flatten()[is_iz.astype('int').values.flatten()[data.s_ind_.astype('int').values.flatten()]]    \n",
    "    data['ys']=pd.read_csv(case+'/data_ys.csv', delim_whitespace=True,header=None, usecols=[T])\n",
    "    data['ys_']=pd.read_csv(case+'/data_ys.csv', delim_whitespace=True,header=None, usecols=[T-1])\n",
    "    data['ks']=pd.read_csv(case+'/data_ks.csv', delim_whitespace=True,header=None, usecols=[T])\n",
    "    data['ns']=pd.read_csv(case+'/data_ns.csv', delim_whitespace=True,header=None, usecols=[T])\n",
    "    data['x']=pd.read_csv(case+'/data_x.csv',  delim_whitespace=True,header=None, usecols=[T])\n",
    "    data['n']=pd.read_csv(case+'/data_n.csv', delim_whitespace=True,header=None, usecols=[T])\n",
    "    data['ks_']=pd.read_csv(case+'/data_ks.csv', delim_whitespace=True,header=None, usecols=[T-1])\n",
    "    data['ns_']=pd.read_csv(case+'/data_ns.csv', delim_whitespace=True,header=None, usecols=[T-1])\n",
    "    data['x_']=pd.read_csv(case+'/data_x.csv',  delim_whitespace=True,header=None, usecols=[T-1])\n",
    "    data['n_']=pd.read_csv(case+'/data_n.csv', delim_whitespace=True,header=None, usecols=[T-1])\n",
    "    data['flagC']=pd.read_csv(case+'/data_is_c.csv', delim_whitespace=True,header=None, usecols=[T])\n",
    "    data['flagC_']=pd.read_csv(case+'/data_is_c.csv', delim_whitespace=True,header=None, usecols=[T-1])\n",
    "    data['flagO']=pd.read_csv(case+'/data_is_o.csv',delim_whitespace=True,header=None, usecols=[T])\n",
    "    data['kappa']=pd.read_csv(case+'/data_kap.csv', delim_whitespace=True,header=None, usecols=[T])\n",
    "    data['hkap']=pd.read_csv(case+'/data_hkap.csv',  delim_whitespace=True,header=None, usecols=[T])\n",
    "    data['hy']=pd.read_csv(case+'/data_hy.csv',  delim_whitespace=True,header=None, usecols=[T])\n",
    "    data['s_age']=pd.read_csv(case+'/s_age.csv',  delim_whitespace=True,header=None)\n",
    "    data['sind_age']=pd.read_csv(case+'/sind_age.csv',  delim_whitespace=True,header=None)\n",
    "    data['ind_age']=pd.read_csv(case+'/ind_age.csv',  delim_whitespace=True,header=None)\n",
    "    data['c_age']=pd.read_csv(case+'/c_age.csv',  delim_whitespace=True,header=None)\n",
    "    data['div_']=pd.read_csv(case+'/data_div_sweat.csv',  delim_whitespace=True,header=None, usecols=[T-1])\n",
    "    data['div']= pd.read_csv(case+'/data_div_sweat.csv',  delim_whitespace=True,header=None, usecols=[T])\n",
    "    data['val_sdf_']=pd.read_csv(case+'/data_val_sweat_dyna_sdf.csv',  delim_whitespace=True,header=None, usecols=[T-1])\n",
    "    data['val_mf_']=pd.read_csv(case+'/data_val_sweat_dyna_fix.csv',  delim_whitespace=True,header=None, usecols=[T-1])\n",
    "\n",
    "    data['val_sdf']=pd.read_csv(case+'/data_val_sweat_dyna_sdf.csv',  delim_whitespace=True,header=None, usecols=[T])\n",
    "    data['val_mf']=pd.read_csv(case+'/data_val_sweat_dyna_fix.csv',  delim_whitespace=True,header=None, usecols=[T])\n",
    "    data['a']= pd.read_csv(case+'/data_a.csv',  delim_whitespace=True,header=None, usecols=[T])\n",
    "    \n",
    "    data['flagC']=data['flagC'].astype('bool')\n",
    "    data['flagC_']=data['flagC_'].astype('bool')\n",
    "    data['flagO']=data['flagO'].astype('bool')\n",
    "    data['expenses']=(rs+delta)*data['ks']+w*data['ns']+data['x']\n",
    "    data['expenses_']=(rs+delta)*data['ks_']+w*data['ns_']+data['x_']\n",
    "    data['wns']=data['ns']*w\n",
    "    data['pys']=p*data['ys']\n",
    "\n",
    "    data['bus_inc']=p*data['ys']-data['expenses']\n",
    "    data['bus_inc_']=p*data['ys_']-data['expenses_']\n",
    "    data['lab_inc']=data.eps*w*data.n\n",
    "    data['lab_inc_']=data.eps_*w*data.n_\n",
    "    data['n_e']=data['hkap']+data['hy']\n",
    "    data['ne']=data['n_e']\n",
    "    data['kappa_adj']=(data.kappa**0.15)*data.z\n",
    "    data['ret_sdf']=(data['val_sdf']+data['div_'])/data['val_sdf_']+0.02\n",
    "    data['ret_mf']=(data['val_mf']+data['div_'])/data['val_mf_']+0.02\n",
    "    data['div_yld_sdf']=(data['div'])/data['val_sdf']\n",
    "    data['div_yld_mf']=(data['div'])/data['val_mf']\n",
    "    #data['intan_int_sdf']=data['val_sdf'] /(data['val_sdf']+data['ks'])\n",
    "    #data['intan_int_mf']=data['val_mf'] /(data['val_mf']+data['ks'])\n",
    "    data['profit_rate']=100*data['bus_inc']/data['ks']\n",
    "    data['measured_markups']=100*(data['bus_inc'])/(data['x']+(rs+delta)*data['ks']+w*data['ns'])\n",
    "    data['measured_markups_alt']=100*(data['bus_inc']+data['x'])/((rs+delta)*data['ks']+w*data['ns'])\n",
    "    data['x_pys']=data['x']/(p*data['ys'])\n",
    "    data['cogs']=((rs+delta)*data['ks']+w*data['ns']+data['x'])    \n",
    "    data['wealth_sdf']=data['a']+data['val_sdf']   \n",
    "    data['wealth_mf']=data['a']+data['val_mf']   \n",
    "    data['ztilde'] = np.log(data['z'])\n",
    "    data['zkapphi']=data['z']*data['kappa']**(0.15)\n",
    "    data['ztilde_meas'] = np.log(data['ys']/(data['ks']**(0.333)*data['ns']**(0.666)))\n",
    "    data['inc']=0.0\n",
    "    data['inc'][data['flagC']==True]=data[data['flagC']==True]['lab_inc']\n",
    "    data['inc'][data['flagC']==False]=data[data['flagC']==False]['bus_inc']\n",
    "    data['tot_inc']=data['inc']+rc*data['a'] \n",
    "    if os.path.exists(case+'/data_R.csv'):\n",
    "        data['R']= pd.read_csv(case+'/data_R.csv',  delim_whitespace=True,header=None, usecols=[T])\n",
    "        data['intan_int']=data['R']/(data['R']+data['ks'])\n",
    "        data['wealth_R']=0.0\n",
    "        data['wealth_R'][data['flagC']==True]=data[data['flagC']==True]['a']   \n",
    "        data['wealth_R'][data['flagC']==False]=data[data['flagC']==False]['a']+data[data['flagC']==False]['R']   \n",
    "        data['wealth_income_ratio']=data['wealth_R']/data['tot_inc']\n",
    "  \n",
    "  \n",
    "\n",
    "    data['wgt']=1.0\n",
    "    return data\n",
    "\n",
    "\n",
    "\n",
    "\n",
    "def get_prices(path_baseline,momfilename):\n",
    "    with open (path_baseline+ momfilename, 'rt') as myfile:  # Open file lorem.txt for reading text\n",
    "        for myline in myfile:                 # For each line, read it to a string \n",
    "          #print(\"gdp line\")\n",
    "          #print(myline.find(\"GDP(\"))\n",
    "          if myline.find(\"w\")==0:\n",
    "            #print(myline)\n",
    "            w=float(myline[ myline.find(\"=\")+1:])\n",
    "          if myline.find(\"S-good price\")==0:\n",
    "            #print(myline)\n",
    "            p=float(myline[ myline.find(\"=\")+1:])\n",
    "          if myline.find(\"rc\")==0:\n",
    "            #print(myline)\n",
    "            rc=float(myline[ myline.find(\"=\")+1:])\n",
    "          if myline.find(\"rs\")==0:\n",
    "            #print(myline)\n",
    "            rs=float(myline[ myline.find(\"=\")+1:])\n",
    "          if myline.find(\"GDP(\")==2:\n",
    "            #print(myline)\n",
    "            GVA=float(myline[ myline.find(\"=\")+1:])\n",
    "          if myline.find(\"investment,\")==2:\n",
    "            #print(myline)\n",
    "            x=float(myline[ myline.find(\"=\")+1:])\n",
    "            #print(\"GDP = \"+ str(GVA-x))\n",
    "          if myline.find(\"delk \")==0:\n",
    "            #print(myline)\n",
    "            delta=float(myline[ myline.find(\"=\")+1:])\n",
    "            #print(\"delta= \"+ str(delta))\n",
    "            \n",
    "    return w,p,rc,rs,delta,GVA-x\n",
    "\n",
    "\n",
    "\n",
    "def decomposition (var_bin,bins,varlist):\n",
    "    print('')\n",
    "    print(\"SORTED BY \" + var_bin)\n",
    "    print(\"BINS = \" + str([round(b,2) for b in bins ]) )\n",
    "    \n",
    "\n",
    "    data['bin_' + var_bin] = pd.cut(data[var_bin], bins, labels = False)     \n",
    "    mean_baseline=data.groupby('bin_' + var_bin).mean()[varlist]\n",
    "    count_baseline=data.groupby('bin_' + var_bin).count()[varlist]\n",
    "    \n",
    "    \n",
    "    print(\"-------------- baseline means ----------\")\n",
    "    print(mean_baseline)\n",
    "    print(\"-------------- baseline counts ----------\")\n",
    "    print(count_baseline)\n",
    "    print('')\n",
    "    return mean_baseline,count_baseline\n",
    "\n",
    "def format_table(data,total):\n",
    "    results=[]\n",
    "    results=pd.DataFrame(data) \n",
    "    results['bins/total']=(sorted(pd.cut(df_baseline[var_bin], bins).unique()) )\n",
    "    cols = results.columns.tolist()\n",
    "    cols = cols[-1:] + cols[:-1]\n",
    "    results=results[cols]  #    OR    df = df.ix[:, cols]\n",
    "    results=results.append(total,ignore_index=True)\n",
    "    results.iloc[-1,0]='total'\n",
    "    \n",
    "    return results\n",
    "\n",
    "\n",
    "def print_results (var_bin,bins,varlist,df_baseline=df_baseline,df_target=df_target):\n",
    "    print('')\n",
    "    print(\"SORTED BY \" + var_bin)\n",
    "    print(\"BINS = \" + str([round(b,2) for b in bins ]) )\n",
    "    \n",
    "\n",
    "    df_baseline['bin_' + var_bin] = pd.cut(df_baseline[var_bin], bins, labels = False) \n",
    "    df_target['bin_' + var_bin] = pd.cut(df_target[var_bin], bins, labels = False) \n",
    "    \n",
    "    mean_baseline=df_baseline.groupby('bin_' + var_bin).mean()[varlist]\n",
    "    mean_target=df_target.groupby('bin_' + var_bin).mean()[varlist]\n",
    "    sum_baseline=df_baseline.groupby('bin_' + var_bin).sum()[varlist]\n",
    "    sum_target=df_target.groupby('bin_' + var_bin).sum()[varlist]\n",
    "    count_baseline=df_baseline.groupby('bin_' + var_bin).count()[varlist]\n",
    "    count_target=df_target.groupby('bin_' + var_bin).count()[varlist]\n",
    "    \n",
    "    intensive=(mean_target-mean_baseline)*(count_target+count_baseline)/2\n",
    "    extensive=(count_target-count_baseline)*(mean_target+mean_baseline)/2\n",
    "    total=intensive+extensive\n",
    "    intensive=100.*(intensive/(total.sum()))\n",
    "    extensive=100.*(extensive/(total.sum()))\n",
    "    total_per_change=(100*total.sum()/sum_baseline.sum()).T\n",
    "    intensive_alt=intensive*total_per_change*(1.0/100)\n",
    "    extensive_alt=extensive*total_per_change*(1.0/100)\n",
    "   \n",
    "    return total,sum_baseline,intensive_alt,extensive_alt\n",
    "\n",
    "   \n",
    "\n",
    "    print('')\n",
    "    \n",
    "def __extract_num__(item_name, text):\n",
    "    \n",
    "    import re\n",
    "    for ln in text.splitlines():\n",
    "        if ln.startswith(item_name):\n",
    "\n",
    "            match = re.search(r'[-+]?[0-9]*\\.?[0-9]+([eE][-+]?[0-9]+)?', ln[len(item_name):])\n",
    "\n",
    "            if match is not None:\n",
    "                return float(match.group(0))\n",
    "            else:\n",
    "                return np.nan\n",
    "                    \n",
    "                \n",
    "    return np.nan\n",
    "\n",
    "def get_data_textbuffer(item_name, outputs):\n",
    "    \n",
    "    return np.array([__extract_num__(item_name, text) for text in outputs])\n",
    "    \n",
    "   "
   ]
  },
  {
   "cell_type": "markdown",
   "metadata": {},
   "source": [
    "## Set paths"
   ]
  },
  {
   "cell_type": "code",
   "execution_count": 4,
   "metadata": {},
   "outputs": [],
   "source": [
    "casename='newbench'\n",
    "targetname='newbench_taunonly'\n",
    "#path_baseline = '/home/shared/yaoxx366/save_data/save_data_'+casename+'/'\n",
    "path_baseline='./save_data_'+casename\n",
    "path_table = './save_data_'+casename+'/'\n",
    "path_target = './save_data_'+ targetname + '/'\n",
    "momfilename_baseline= 'paras_mom_' + casename  + '.txt'\n",
    "momfilename_target= 'paras_mom_' + targetname  + '.txt'\n",
    "pathtosiminitbase='./save_data_'+ casename+  '/econ_' +casename + '.pickle'\n",
    "pathtosiminittarget='./save_data_'+ targetname+  '/econ_' +targetname + '.pickle'\n",
    "my_file_handle=open(path_baseline+ '/' + momfilename_baseline )\n",
    "textbuffer_baseline=my_file_handle.read()"
   ]
  },
  {
   "cell_type": "markdown",
   "metadata": {},
   "source": [
    "# Calibration"
   ]
  },
  {
   "cell_type": "markdown",
   "metadata": {},
   "source": [
    "## Preferences"
   ]
  },
  {
   "cell_type": "code",
   "execution_count": 5,
   "metadata": {},
   "outputs": [
    {
     "name": "stdout",
     "output_type": "stream",
     "text": [
      "Discount factor                           0.980\n",
      "Paternalistic discount factor             1.000\n",
      "Consumption weight                        0.420\n",
      "Leisure weight                            0.580\n",
      "Intertemporal elasticity inverse          1.500\n",
      "C-corporate good share in consumption     0.449\n",
      "Love of business parameter                0.000\n",
      "Labor productivity decline for the old    0.500\n",
      "Business productivity decline for the old 0.500\n"
     ]
    }
   ],
   "source": [
    "print(pd.read_csv(path_table + 'preferences.csv').to_string(header=None))"
   ]
  },
  {
   "cell_type": "markdown",
   "metadata": {},
   "source": [
    "## Life cycle related params"
   ]
  },
  {
   "cell_type": "code",
   "execution_count": 6,
   "metadata": {},
   "outputs": [
    {
     "name": "stdout",
     "output_type": "stream",
     "text": [
      "Unnamed: 0     y     o\n",
      " y         0.978 0.022\n",
      " o         0.067 0.933\n"
     ]
    }
   ],
   "source": [
    "print(pd.read_csv(path_table + 'age_transition_table.csv', skiprows = 1).to_string(index=None))"
   ]
  },
  {
   "cell_type": "markdown",
   "metadata": {},
   "source": [
    "## Technology"
   ]
  },
  {
   "cell_type": "code",
   "execution_count": 7,
   "metadata": {},
   "outputs": [
    {
     "name": "stdout",
     "output_type": "stream",
     "text": [
      "Technology growth                                                      0.020\n",
      "C-corporate fixed asset share                                          0.502\n",
      "Private business fixed asset share                                     0.300\n",
      "Private business sweat capital share                                   0.150\n",
      "Private business ces labor composite share                             0.550\n",
      "Private business employee hours share parameter in ces labor composite 0.575\n",
      "Private business hours substitution parameter in ces labor composite   0.500\n",
      "Fixed asset depreciation                                               0.041\n",
      "Sweat capital depreciation                                             0.058\n",
      "Sweat capital owner hour share                                         0.408\n",
      "Sweat capital c-good share                                             0.592\n",
      "Sweat capital deterioration for workers                                0.400\n",
      "Sweat capital deterioration for bequests                               0.100\n",
      "Working-capital constraint                                             0.000\n",
      "Non-business production relative to GDP                                0.266\n",
      "Non-business consumption relative to GDP                               0.110\n"
     ]
    }
   ],
   "source": [
    "print(pd.read_csv(path_table + 'technologies.csv').to_string(header=None))"
   ]
  },
  {
   "cell_type": "markdown",
   "metadata": {},
   "source": [
    "## Shocks"
   ]
  },
  {
   "cell_type": "markdown",
   "metadata": {},
   "source": [
    "### Business skill"
   ]
  },
  {
   "cell_type": "code",
   "execution_count": 8,
   "metadata": {},
   "outputs": [
    {
     "name": "stdout",
     "output_type": "stream",
     "text": [
      "       0  1  2  3  4\n",
      "zgrid  0  1  2  3  4\n",
      "\n",
      "      0     1     2     3     4\n",
      "0 0.612 0.170 0.098 0.065 0.055\n",
      "1 0.172 0.551 0.187 0.064 0.025\n",
      "2 0.099 0.191 0.475 0.190 0.045\n",
      "3 0.060 0.055 0.164 0.558 0.164\n",
      "4 0.046 0.009 0.034 0.135 0.776\n"
     ]
    }
   ],
   "source": [
    "# np.loadtxt(path_table + 'business_productivity_transition_table.csv', skiprows = 2, skipcolumn = 1)\n",
    "# pd.read_csv(path_table + 'business_productivity_transition_table.csv', skiprows = 1)\n",
    "\n",
    "\n",
    "print(pd.Series(pd.read_csv(path_table + 'business_productivity_transition_table.csv', skiprows = 1).iloc[:,0]).to_frame('zgrid').T)\n",
    "print()\n",
    "print(pd.DataFrame(pd.read_csv(path_table + 'business_productivity_transition_table.csv', skiprows = 1).iloc[:,1:].values))\n"
   ]
  },
  {
   "cell_type": "markdown",
   "metadata": {},
   "source": [
    "### Labor skills"
   ]
  },
  {
   "cell_type": "code",
   "execution_count": 9,
   "metadata": {},
   "outputs": [
    {
     "name": "stdout",
     "output_type": "stream",
     "text": [
      "         0  1  2  3  4\n",
      "epsgrid  0  1  2  3  4\n",
      "\n",
      "      0     1     2     3     4\n",
      "0 0.424 0.549 0.027 0.000 0.000\n",
      "1 0.046 0.621 0.327 0.005 0.000\n",
      "2 0.001 0.145 0.709 0.145 0.001\n",
      "3 0.000 0.005 0.327 0.621 0.046\n",
      "4 0.000 0.000 0.027 0.549 0.424\n"
     ]
    }
   ],
   "source": [
    "print(pd.Series(pd.read_csv(path_table + 'labor_productivity_transition_table.csv', skiprows = 1).iloc[:,0]).to_frame('epsgrid').T)\n",
    "print('')\n",
    "print(pd.DataFrame(pd.read_csv(path_table + 'labor_productivity_transition_table.csv', skiprows = 1).iloc[:,1:].values))\n"
   ]
  },
  {
   "cell_type": "markdown",
   "metadata": {},
   "source": [
    "## Tax policy"
   ]
  },
  {
   "cell_type": "markdown",
   "metadata": {},
   "source": [
    "### Pass thru income tax"
   ]
  },
  {
   "cell_type": "code",
   "execution_count": 10,
   "metadata": {},
   "outputs": [
    {
     "name": "stdout",
     "output_type": "stream",
     "text": [
      " bbracket_left  bbracket_right   taub   psib\n",
      "-inf             0.153         0.140  0.023 \n",
      "0.153            0.304         0.183  0.043 \n",
      "0.304            0.912         0.201  0.060 \n",
      "0.912            2.667         0.235  0.156 \n",
      "2.667            5.727         0.262  0.379 \n",
      "5.727            9.104         0.269  0.504 \n",
      "9.104            inf           0.280  0.814 \n"
     ]
    }
   ],
   "source": [
    "print(pd.read_csv(path_table + 'business_income_tax.csv').to_string(index=None))"
   ]
  },
  {
   "cell_type": "markdown",
   "metadata": {},
   "source": [
    "### Labor income tax"
   ]
  },
  {
   "cell_type": "code",
   "execution_count": 11,
   "metadata": {},
   "outputs": [
    {
     "name": "stdout",
     "output_type": "stream",
     "text": [
      " nbracket_left  nbracket_right   taun   psin\n",
      "-inf             0.173         0.293  -0.054\n",
      "0.173            0.262         0.324  -0.037\n",
      "0.262            0.404         0.343  -0.022\n",
      "0.404            0.732         0.390  0.037 \n",
      "0.732            1.409         0.400  0.060 \n",
      "1.409            3.3138        0.408  0.095 \n",
      "3.314            inf           0.419  0.208 \n"
     ]
    }
   ],
   "source": [
    "print(pd.read_csv(path_table + 'labor_income_tax.csv').to_string(index=None))"
   ]
  },
  {
   "cell_type": "markdown",
   "metadata": {},
   "source": [
    "### Other taxes"
   ]
  },
  {
   "cell_type": "code",
   "execution_count": 12,
   "metadata": {},
   "outputs": [
    {
     "name": "stdout",
     "output_type": "stream",
     "text": [
      "Consumption tax                        0.065\n",
      "Dividends tax                          0.133\n",
      "Profits tax                            0.360\n",
      "Government expenditure relative to GDP 0.133\n",
      "Retirement Transfer                    0.800\n"
     ]
    }
   ],
   "source": [
    "print(pd.read_csv(path_table + 'policies.csv').to_string(header=None))"
   ]
  },
  {
   "cell_type": "markdown",
   "metadata": {},
   "source": [
    "# Aggregates"
   ]
  },
  {
   "cell_type": "code",
   "execution_count": 13,
   "metadata": {},
   "outputs": [],
   "source": [
    "mom=pd.read_csv(path_table + 'moments.csv')\n",
    "mom.columns=['desc','val']    \n",
    "tax=pd.read_csv(path_table + 'policies.csv')\n",
    "tax.columns=['val']\n",
    "cal=pd.read_csv(path_table + 'technologies.csv')\n",
    "cal.columns=['val']\n",
    "w=float(mom[mom.desc.str.strip()=='Wage (w)']['val'].values)\n",
    "p=float(mom[mom.desc.str.strip()=='S-good price (p)']['val'].values)\n",
    "rc=float(mom[mom.desc.str.strip()=='Interest rate (rc)']['val'].values)\n",
    "GDP=float(mom[mom.desc.str.strip()=='GDP(yc + yn + p*Eys - Ex)']['val'].values)\n",
    "taup=float(tax[tax.index.str.strip()=='Profits tax']['val'].values)\n",
    "rs=rc*(1-taup)\n",
    "delta=float(cal[cal.index.str.strip()=='Fixed asset depreciation']['val'].values)"
   ]
  },
  {
   "cell_type": "code",
   "execution_count": 14,
   "metadata": {},
   "outputs": [],
   "source": [
    "data=uploadData(path_baseline,w,rs,rc,p,delta)"
   ]
  },
  {
   "cell_type": "markdown",
   "metadata": {},
   "source": [
    "## GDP\n",
    "We normalize several things in the paper by GDP"
   ]
  },
  {
   "cell_type": "code",
   "execution_count": 15,
   "metadata": {},
   "outputs": [
    {
     "name": "stdout",
     "output_type": "stream",
     "text": [
      "3.0923335720580734\n"
     ]
    }
   ],
   "source": [
    "print(GDP)"
   ]
  },
  {
   "cell_type": "markdown",
   "metadata": {},
   "source": [
    "## Aggregate markups\n",
    "Agg markups  is defined as  sum of business incomes in passthrus / sum rental and wage expenses in pass thrus "
   ]
  },
  {
   "cell_type": "code",
   "execution_count": 16,
   "metadata": {},
   "outputs": [
    {
     "name": "stdout",
     "output_type": "stream",
     "text": [
      "40.54400109223414\n"
     ]
    }
   ],
   "source": [
    "print(100*data.bus_inc.sum()/data.cogs.sum())"
   ]
  },
  {
   "cell_type": "markdown",
   "metadata": {},
   "source": [
    "## Aggregate profitability\n",
    "Agg profitability is defined as  sum of business incomes in passthrus / sum of physical capital used in pass thrus "
   ]
  },
  {
   "cell_type": "code",
   "execution_count": 17,
   "metadata": {},
   "outputs": [
    {
     "name": "stdout",
     "output_type": "stream",
     "text": [
      "8.169521166039837\n"
     ]
    }
   ],
   "source": [
    "print(100*data.bus_inc.sum()/data.ks.sum())"
   ]
  },
  {
   "cell_type": "markdown",
   "metadata": {},
   "source": [
    "## National Accounts"
   ]
  },
  {
   "cell_type": "markdown",
   "metadata": {},
   "source": [
    "### income share"
   ]
  },
  {
   "cell_type": "code",
   "execution_count": 18,
   "metadata": {},
   "outputs": [
    {
     "name": "stdout",
     "output_type": "stream",
     "text": [
      " Business Income                              0.733\n",
      " Sweat labor income                           0.090\n",
      " Non-sweat labor income                       0.327\n",
      " Non-sweat labor income C corporations        0.222\n",
      " Non-sweat labor income pass through business 0.105\n",
      " Non-sweat capital income                     0.317\n",
      " Non-sweat capital income rents               0.188\n",
      " Non-sweat capital income depreciation        0.129\n",
      " Non-business Income                          0.267\n"
     ]
    }
   ],
   "source": [
    "print(pd.read_csv(path_table + 'income_shares.csv').to_string(header=None,index=None))"
   ]
  },
  {
   "cell_type": "markdown",
   "metadata": {},
   "source": [
    "### product share"
   ]
  },
  {
   "cell_type": "code",
   "execution_count": 19,
   "metadata": {},
   "outputs": [
    {
     "name": "stdout",
     "output_type": "stream",
     "text": [
      " Private Consumption                        0.565\n",
      " Government Consumption                     0.133\n",
      " Business Investments C corporations        0.124\n",
      " Business Investments pass through business 0.067\n",
      " Non-business Investments                   0.110\n"
     ]
    }
   ],
   "source": [
    "print(pd.read_csv(path_table + 'product_shares.csv').to_string(header=None,index=None))"
   ]
  },
  {
   "cell_type": "markdown",
   "metadata": {},
   "source": [
    "## Sweat equity by GDP"
   ]
  },
  {
   "cell_type": "code",
   "execution_count": 20,
   "metadata": {},
   "outputs": [
    {
     "name": "stdout",
     "output_type": "stream",
     "text": [
      "0  discounted by beta_tilde 1.018\n",
      "1  discounted by owner SDF  0.885\n"
     ]
    }
   ],
   "source": [
    "print(pd.read_csv(path_table + 'sweat_equity_div_gdp.csv').to_string(header=None))"
   ]
  },
  {
   "cell_type": "markdown",
   "metadata": {},
   "source": [
    "# Age profiles"
   ]
  },
  {
   "cell_type": "markdown",
   "metadata": {},
   "source": [
    "## distribution by age"
   ]
  },
  {
   "cell_type": "code",
   "execution_count": 21,
   "metadata": {},
   "outputs": [
    {
     "name": "stdout",
     "output_type": "stream",
     "text": [
      "0    11.252\n",
      "1    9.079 \n",
      "2    7.737 \n",
      "3    6.866 \n",
      "4    5.971 \n",
      "5    5.247 \n",
      "6    4.774 \n",
      "7    4.358 \n",
      "8    3.974 \n",
      "9    3.403 \n",
      "10   3.126 \n",
      "11   2.729 \n",
      "12   2.566 \n",
      "13   2.285 \n",
      "14   2.169 \n",
      "15   2.012 \n",
      "16   1.753 \n",
      "17   1.586 \n",
      "18   1.534 \n",
      "19   1.468 \n",
      "20   1.193 \n",
      "21   1.125 \n",
      "22   1.028 \n",
      "23   0.926 \n",
      "24   0.906 \n",
      "25   0.819 \n",
      "26   0.798 \n",
      "27   0.674 \n",
      "28   0.616 \n",
      "29   0.564 \n",
      "30   0.500 \n",
      "31   0.488 \n",
      "32   0.403 \n",
      "33   0.418 \n",
      "34   0.389 \n",
      "35   0.343 \n",
      "36   0.333 \n",
      "37   0.320 \n",
      "38   0.323 \n",
      "39   0.242 \n",
      "40   0.217 \n"
     ]
    }
   ],
   "source": [
    "df = pd.read_csv(path_table + 'started_n_periods_ago.csv')\n",
    "print((100*df[df['N periods ago'] <= 40].set_index('N periods ago').iloc[:,0]).to_string(header=None))"
   ]
  },
  {
   "cell_type": "markdown",
   "metadata": {},
   "source": [
    "## sweat capital by age"
   ]
  },
  {
   "cell_type": "code",
   "execution_count": 22,
   "metadata": {},
   "outputs": [
    {
     "data": {
      "text/plain": [
       "<matplotlib.axes._subplots.AxesSubplot at 0x7f9eef47a470>"
      ]
     },
     "execution_count": 22,
     "metadata": {},
     "output_type": "execute_result"
    },
    {
     "name": "stdout",
     "output_type": "stream",
     "text": [
      "              sind_age  kappa\n",
      "bin_sind_age                 \n",
      "0.000        0.000     0.330 \n",
      "1.000        1.000     0.441 \n",
      "2.000        2.000     0.477 \n",
      "3.000        3.000     0.505 \n",
      "4.000        4.000     0.526 \n",
      "5.000        5.931     0.534 \n",
      "6.000        8.915     0.504 \n",
      "7.000        11.455    0.476 \n",
      "8.000        13.948    0.460 \n",
      "9.000        19.698    0.373 \n",
      "10.000       27.791    0.294 \n",
      "11.000       32.879    0.267 \n",
      "12.000       37.852    0.204 \n",
      "13.000       42.967    0.195 \n",
      "14.000       47.835    0.148 \n",
      "15.000       52.809    0.143 \n",
      "16.000       57.661    0.128 \n",
      "17.000       68.021    0.089 \n",
      "18.000       93.421    0.057 \n"
     ]
    },
    {
     "data": {
      "image/png": "[encoded data removed]",
      "text/plain": [
       "<Figure size 432x288 with 1 Axes>"
      ]
     },
     "metadata": {
      "needs_background": "light"
     },
     "output_type": "display_data"
    }
   ],
   "source": [
    "sel=(~data['flagC'] )\n",
    "var_bin = 'sind_age'\n",
    "varlist=['kappa','intan_int','ret_sdf','div_yld_sdf','measured_markups','val_sdf','a','wealth_sdf','s_age','sind_age','ind_age','ztilde_meas','ztilde','bus_inc','hy','hkap','n_e','ns','ks','R','x']\n",
    "bins=[-1,0,1,2,3,4,7,10, 12,15,25,30,35,40,45,50,55,60,80,500 ]\n",
    "data['bin_' + var_bin] = pd.cut(data[var_bin], bins, labels = False)     \n",
    "mean_baseline=data[sel].groupby('bin_' + var_bin).mean()[varlist]\n",
    "count_baseline=data[sel].groupby('bin_' + var_bin).count()[varlist]\n",
    "mean_baseline[['sind_age','kappa']].plot(x='sind_age',y='kappa')\n",
    "mean_baseline[['sind_age','kappa']].to_csv('sind_kappa.csv')\n",
    "print(mean_baseline[['sind_age','kappa']])"
   ]
  },
  {
   "cell_type": "markdown",
   "metadata": {},
   "source": [
    "## Regression of $\\log V_{\\kappa}$ on $age,age^2$: Pratts"
   ]
  },
  {
   "cell_type": "code",
   "execution_count": 23,
   "metadata": {},
   "outputs": [
    {
     "data": {
      "text/plain": [
       "24"
      ]
     },
     "execution_count": 23,
     "metadata": {},
     "output_type": "execute_result"
    },
    {
     "data": {
      "text/html": [
       "<table class=\"simpletable\">\n",
       "<caption>OLS Regression Results</caption>\n",
       "<tr>\n",
       "  <th>Dep. Variable:</th>    <td>TotalIntangiblesPPA</td> <th>  R-squared:         </th> <td>   0.228</td> \n",
       "</tr>\n",
       "<tr>\n",
       "  <th>Model:</th>                    <td>OLS</td>         <th>  Adj. R-squared:    </th> <td>   0.223</td> \n",
       "</tr>\n",
       "<tr>\n",
       "  <th>Method:</th>              <td>Least Squares</td>    <th>  F-statistic:       </th> <td>   45.30</td> \n",
       "</tr>\n",
       "<tr>\n",
       "  <th>Date:</th>              <td>Mon, 15 Jun 2020</td>   <th>  Prob (F-statistic):</th>  <td>  0.00</td>  \n",
       "</tr>\n",
       "<tr>\n",
       "  <th>Time:</th>                  <td>18:53:44</td>       <th>  Log-Likelihood:    </th> <td> -13411.</td> \n",
       "</tr>\n",
       "<tr>\n",
       "  <th>No. Observations:</th>       <td>  6943</td>        <th>  AIC:               </th> <td>2.691e+04</td>\n",
       "</tr>\n",
       "<tr>\n",
       "  <th>Df Residuals:</th>           <td>  6897</td>        <th>  BIC:               </th> <td>2.723e+04</td>\n",
       "</tr>\n",
       "<tr>\n",
       "  <th>Df Model:</th>               <td>    45</td>        <th>                     </th>     <td> </td>    \n",
       "</tr>\n",
       "<tr>\n",
       "  <th>Covariance Type:</th>       <td>nonrobust</td>      <th>                     </th>     <td> </td>    \n",
       "</tr>\n",
       "</table>\n",
       "<table class=\"simpletable\">\n",
       "<tr>\n",
       "             <td></td>               <th>coef</th>     <th>std err</th>      <th>t</th>      <th>P>|t|</th>  <th>[0.025</th>    <th>0.975]</th>  \n",
       "</tr>\n",
       "<tr>\n",
       "  <th>const</th>                  <td>   11.5470</td> <td>    1.145</td> <td>   10.084</td> <td> 0.000</td> <td>    9.302</td> <td>   13.792</td>\n",
       "</tr>\n",
       "<tr>\n",
       "  <th>TargetAge</th>              <td>    0.0183</td> <td>    0.002</td> <td>    8.629</td> <td> 0.000</td> <td>    0.014</td> <td>    0.022</td>\n",
       "</tr>\n",
       "<tr>\n",
       "  <th>TargetAge2</th>             <td> -4.99e-05</td> <td> 1.46e-05</td> <td>   -3.413</td> <td> 0.001</td> <td>-7.86e-05</td> <td>-2.12e-05</td>\n",
       "</tr>\n",
       "<tr>\n",
       "  <th>nacis_code_cat[11, 21)</th> <td>   -0.4594</td> <td>    1.285</td> <td>   -0.357</td> <td> 0.721</td> <td>   -2.979</td> <td>    2.060</td>\n",
       "</tr>\n",
       "<tr>\n",
       "  <th>nacis_code_cat[21, 22)</th> <td>    3.1797</td> <td>    1.294</td> <td>    2.458</td> <td> 0.014</td> <td>    0.644</td> <td>    5.716</td>\n",
       "</tr>\n",
       "<tr>\n",
       "  <th>nacis_code_cat[22, 23)</th> <td>   -0.5650</td> <td>    1.349</td> <td>   -0.419</td> <td> 0.675</td> <td>   -3.209</td> <td>    2.079</td>\n",
       "</tr>\n",
       "<tr>\n",
       "  <th>nacis_code_cat[23, 24)</th> <td>   -0.1541</td> <td>    1.194</td> <td>   -0.129</td> <td> 0.897</td> <td>   -2.494</td> <td>    2.186</td>\n",
       "</tr>\n",
       "<tr>\n",
       "  <th>nacis_code_cat[24, 31)</th> <td>-6.894e-15</td> <td> 1.01e-14</td> <td>   -0.686</td> <td> 0.493</td> <td>-2.66e-14</td> <td> 1.28e-14</td>\n",
       "</tr>\n",
       "<tr>\n",
       "  <th>nacis_code_cat[31, 35)</th> <td>    0.2924</td> <td>    1.192</td> <td>    0.245</td> <td> 0.806</td> <td>   -2.044</td> <td>    2.629</td>\n",
       "</tr>\n",
       "<tr>\n",
       "  <th>nacis_code_cat[35, 42)</th> <td>-1.458e-14</td> <td>  3.9e-14</td> <td>   -0.373</td> <td> 0.709</td> <td>-9.11e-14</td> <td> 6.19e-14</td>\n",
       "</tr>\n",
       "<tr>\n",
       "  <th>nacis_code_cat[42, 44)</th> <td>   -1.7597</td> <td>    1.286</td> <td>   -1.369</td> <td> 0.171</td> <td>   -4.280</td> <td>    0.761</td>\n",
       "</tr>\n",
       "<tr>\n",
       "  <th>nacis_code_cat[44, 46)</th> <td>   -1.0531</td> <td>    1.191</td> <td>   -0.884</td> <td> 0.377</td> <td>   -3.388</td> <td>    1.281</td>\n",
       "</tr>\n",
       "<tr>\n",
       "  <th>nacis_code_cat[46, 48)</th> <td>-1.401e-14</td> <td> 1.87e-14</td> <td>   -0.751</td> <td> 0.453</td> <td>-5.06e-14</td> <td> 2.26e-14</td>\n",
       "</tr>\n",
       "<tr>\n",
       "  <th>nacis_code_cat[48, 50)</th> <td>   -0.6359</td> <td>    1.194</td> <td>   -0.533</td> <td> 0.594</td> <td>   -2.977</td> <td>    1.705</td>\n",
       "</tr>\n",
       "<tr>\n",
       "  <th>nacis_code_cat[50, 51)</th> <td> 4.997e-15</td> <td> 7.13e-15</td> <td>    0.701</td> <td> 0.484</td> <td>-8.98e-15</td> <td>  1.9e-14</td>\n",
       "</tr>\n",
       "<tr>\n",
       "  <th>nacis_code_cat[51, 52)</th> <td>    1.9595</td> <td>    1.198</td> <td>    1.636</td> <td> 0.102</td> <td>   -0.388</td> <td>    4.307</td>\n",
       "</tr>\n",
       "<tr>\n",
       "  <th>nacis_code_cat[52, 53)</th> <td>    0.4310</td> <td>    1.199</td> <td>    0.360</td> <td> 0.719</td> <td>   -1.919</td> <td>    2.781</td>\n",
       "</tr>\n",
       "<tr>\n",
       "  <th>nacis_code_cat[53, 54)</th> <td>   -0.5248</td> <td>    1.196</td> <td>   -0.439</td> <td> 0.661</td> <td>   -2.870</td> <td>    1.820</td>\n",
       "</tr>\n",
       "<tr>\n",
       "  <th>nacis_code_cat[54, 55)</th> <td>    0.3950</td> <td>    1.193</td> <td>    0.331</td> <td> 0.741</td> <td>   -1.944</td> <td>    2.734</td>\n",
       "</tr>\n",
       "<tr>\n",
       "  <th>nacis_code_cat[55, 56)</th> <td>    5.4398</td> <td>    1.407</td> <td>    3.866</td> <td> 0.000</td> <td>    2.681</td> <td>    8.198</td>\n",
       "</tr>\n",
       "<tr>\n",
       "  <th>nacis_code_cat[56, 61)</th> <td>   -0.8055</td> <td>    1.192</td> <td>   -0.676</td> <td> 0.499</td> <td>   -3.141</td> <td>    1.530</td>\n",
       "</tr>\n",
       "<tr>\n",
       "  <th>nacis_code_cat[61, 62)</th> <td>   -1.0929</td> <td>    1.205</td> <td>   -0.907</td> <td> 0.364</td> <td>   -3.455</td> <td>    1.269</td>\n",
       "</tr>\n",
       "<tr>\n",
       "  <th>nacis_code_cat[62, 71)</th> <td>   -0.5618</td> <td>    1.194</td> <td>   -0.471</td> <td> 0.638</td> <td>   -2.902</td> <td>    1.778</td>\n",
       "</tr>\n",
       "<tr>\n",
       "  <th>nacis_code_cat[71, 72)</th> <td>   -1.2780</td> <td>    1.201</td> <td>   -1.064</td> <td> 0.287</td> <td>   -3.632</td> <td>    1.076</td>\n",
       "</tr>\n",
       "<tr>\n",
       "  <th>nacis_code_cat[72, 81)</th> <td>   -1.5446</td> <td>    1.191</td> <td>   -1.297</td> <td> 0.195</td> <td>   -3.879</td> <td>    0.790</td>\n",
       "</tr>\n",
       "<tr>\n",
       "  <th>nacis_code_cat[81, 83)</th> <td>   -1.6104</td> <td>    1.191</td> <td>   -1.352</td> <td> 0.176</td> <td>   -3.946</td> <td>    0.725</td>\n",
       "</tr>\n",
       "<tr>\n",
       "  <th>nacis_code_cat[83, 92)</th> <td> 3.713e-15</td> <td> 1.25e-14</td> <td>    0.298</td> <td> 0.766</td> <td>-2.07e-14</td> <td> 2.82e-14</td>\n",
       "</tr>\n",
       "<tr>\n",
       "  <th>year1990</th>               <td>-1.387e-14</td> <td> 2.27e-14</td> <td>   -0.612</td> <td> 0.540</td> <td>-5.83e-14</td> <td> 3.05e-14</td>\n",
       "</tr>\n",
       "<tr>\n",
       "  <th>year1991</th>               <td>-9.191e-15</td> <td> 8.71e-15</td> <td>   -1.055</td> <td> 0.291</td> <td>-2.63e-14</td> <td> 7.88e-15</td>\n",
       "</tr>\n",
       "<tr>\n",
       "  <th>year1992</th>               <td>-1.186e-14</td> <td> 8.03e-15</td> <td>   -1.477</td> <td> 0.140</td> <td>-2.76e-14</td> <td> 3.88e-15</td>\n",
       "</tr>\n",
       "<tr>\n",
       "  <th>year1993</th>               <td>   -1.1647</td> <td>    1.142</td> <td>   -1.020</td> <td> 0.308</td> <td>   -3.403</td> <td>    1.074</td>\n",
       "</tr>\n",
       "<tr>\n",
       "  <th>year1994</th>               <td>    0.0515</td> <td>    0.662</td> <td>    0.078</td> <td> 0.938</td> <td>   -1.247</td> <td>    1.350</td>\n",
       "</tr>\n",
       "<tr>\n",
       "  <th>year1995</th>               <td>   -0.1088</td> <td>    0.454</td> <td>   -0.239</td> <td> 0.811</td> <td>   -1.000</td> <td>    0.782</td>\n",
       "</tr>\n",
       "<tr>\n",
       "  <th>year1996</th>               <td>    0.1736</td> <td>    0.332</td> <td>    0.523</td> <td> 0.601</td> <td>   -0.477</td> <td>    0.824</td>\n",
       "</tr>\n",
       "<tr>\n",
       "  <th>year1997</th>               <td>    0.1796</td> <td>    0.264</td> <td>    0.681</td> <td> 0.496</td> <td>   -0.338</td> <td>    0.697</td>\n",
       "</tr>\n",
       "<tr>\n",
       "  <th>year1998</th>               <td>    0.3877</td> <td>    0.184</td> <td>    2.103</td> <td> 0.035</td> <td>    0.026</td> <td>    0.749</td>\n",
       "</tr>\n",
       "<tr>\n",
       "  <th>year1999</th>               <td>    0.2742</td> <td>    0.171</td> <td>    1.599</td> <td> 0.110</td> <td>   -0.062</td> <td>    0.610</td>\n",
       "</tr>\n",
       "<tr>\n",
       "  <th>year2000</th>               <td>    0.5887</td> <td>    0.174</td> <td>    3.386</td> <td> 0.001</td> <td>    0.248</td> <td>    0.930</td>\n",
       "</tr>\n",
       "<tr>\n",
       "  <th>year2001</th>               <td>    0.0710</td> <td>    0.165</td> <td>    0.430</td> <td> 0.667</td> <td>   -0.253</td> <td>    0.395</td>\n",
       "</tr>\n",
       "<tr>\n",
       "  <th>year2002</th>               <td>    0.3106</td> <td>    0.150</td> <td>    2.068</td> <td> 0.039</td> <td>    0.016</td> <td>    0.605</td>\n",
       "</tr>\n",
       "<tr>\n",
       "  <th>year2003</th>               <td>    0.2908</td> <td>    0.152</td> <td>    1.917</td> <td> 0.055</td> <td>   -0.007</td> <td>    0.588</td>\n",
       "</tr>\n",
       "<tr>\n",
       "  <th>year2004</th>               <td>    0.3179</td> <td>    0.144</td> <td>    2.213</td> <td> 0.027</td> <td>    0.036</td> <td>    0.600</td>\n",
       "</tr>\n",
       "<tr>\n",
       "  <th>year2005</th>               <td>    0.9144</td> <td>    0.137</td> <td>    6.660</td> <td> 0.000</td> <td>    0.645</td> <td>    1.184</td>\n",
       "</tr>\n",
       "<tr>\n",
       "  <th>year2006</th>               <td>    0.7611</td> <td>    0.124</td> <td>    6.127</td> <td> 0.000</td> <td>    0.518</td> <td>    1.005</td>\n",
       "</tr>\n",
       "<tr>\n",
       "  <th>year2007</th>               <td>    0.8835</td> <td>    0.118</td> <td>    7.489</td> <td> 0.000</td> <td>    0.652</td> <td>    1.115</td>\n",
       "</tr>\n",
       "<tr>\n",
       "  <th>year2008</th>               <td>    0.7802</td> <td>    0.110</td> <td>    7.093</td> <td> 0.000</td> <td>    0.565</td> <td>    0.996</td>\n",
       "</tr>\n",
       "<tr>\n",
       "  <th>year2009</th>               <td>    0.4965</td> <td>    0.105</td> <td>    4.751</td> <td> 0.000</td> <td>    0.292</td> <td>    0.701</td>\n",
       "</tr>\n",
       "<tr>\n",
       "  <th>year2010</th>               <td>    0.5255</td> <td>    0.103</td> <td>    5.093</td> <td> 0.000</td> <td>    0.323</td> <td>    0.728</td>\n",
       "</tr>\n",
       "<tr>\n",
       "  <th>year2011</th>               <td>    0.5614</td> <td>    0.102</td> <td>    5.521</td> <td> 0.000</td> <td>    0.362</td> <td>    0.761</td>\n",
       "</tr>\n",
       "<tr>\n",
       "  <th>year2012</th>               <td>    0.6878</td> <td>    0.102</td> <td>    6.747</td> <td> 0.000</td> <td>    0.488</td> <td>    0.888</td>\n",
       "</tr>\n",
       "<tr>\n",
       "  <th>year2013</th>               <td>    0.8902</td> <td>    0.104</td> <td>    8.568</td> <td> 0.000</td> <td>    0.687</td> <td>    1.094</td>\n",
       "</tr>\n",
       "<tr>\n",
       "  <th>year2014</th>               <td>    1.0386</td> <td>    0.103</td> <td>   10.080</td> <td> 0.000</td> <td>    0.837</td> <td>    1.241</td>\n",
       "</tr>\n",
       "<tr>\n",
       "  <th>year2015</th>               <td>    1.0080</td> <td>    0.102</td> <td>    9.842</td> <td> 0.000</td> <td>    0.807</td> <td>    1.209</td>\n",
       "</tr>\n",
       "<tr>\n",
       "  <th>year2016</th>               <td>    0.9196</td> <td>    0.102</td> <td>    9.012</td> <td> 0.000</td> <td>    0.720</td> <td>    1.120</td>\n",
       "</tr>\n",
       "<tr>\n",
       "  <th>year2017</th>               <td>    0.7077</td> <td>    0.137</td> <td>    5.152</td> <td> 0.000</td> <td>    0.438</td> <td>    0.977</td>\n",
       "</tr>\n",
       "</table>\n",
       "<table class=\"simpletable\">\n",
       "<tr>\n",
       "  <th>Omnibus:</th>       <td>623.299</td> <th>  Durbin-Watson:     </th> <td>   1.631</td>\n",
       "</tr>\n",
       "<tr>\n",
       "  <th>Prob(Omnibus):</th> <td> 0.000</td>  <th>  Jarque-Bera (JB):  </th> <td>2654.069</td>\n",
       "</tr>\n",
       "<tr>\n",
       "  <th>Skew:</th>          <td> 0.356</td>  <th>  Prob(JB):          </th> <td>    0.00</td>\n",
       "</tr>\n",
       "<tr>\n",
       "  <th>Kurtosis:</th>      <td> 5.944</td>  <th>  Cond. No.          </th> <td>1.03e+16</td>\n",
       "</tr>\n",
       "</table><br/><br/>Warnings:<br/>[1] Standard Errors assume that the covariance matrix of the errors is correctly specified.<br/>[2] The smallest eigenvalue is 2.73e-22. This might indicate that there are<br/>strong multicollinearity problems or that the design matrix is singular."
      ],
      "text/plain": [
       "<class 'statsmodels.iolib.summary.Summary'>\n",
       "\"\"\"\n",
       "                             OLS Regression Results                            \n",
       "===============================================================================\n",
       "Dep. Variable:     TotalIntangiblesPPA   R-squared:                       0.228\n",
       "Model:                             OLS   Adj. R-squared:                  0.223\n",
       "Method:                  Least Squares   F-statistic:                     45.30\n",
       "Date:                 Mon, 15 Jun 2020   Prob (F-statistic):               0.00\n",
       "Time:                         18:53:44   Log-Likelihood:                -13411.\n",
       "No. Observations:                 6943   AIC:                         2.691e+04\n",
       "Df Residuals:                     6897   BIC:                         2.723e+04\n",
       "Df Model:                           45                                         \n",
       "Covariance Type:             nonrobust                                         \n",
       "==========================================================================================\n",
       "                             coef    std err          t      P>|t|      [0.025      0.975]\n",
       "------------------------------------------------------------------------------------------\n",
       "const                     11.5470      1.145     10.084      0.000       9.302      13.792\n",
       "TargetAge                  0.0183      0.002      8.629      0.000       0.014       0.022\n",
       "TargetAge2              -4.99e-05   1.46e-05     -3.413      0.001   -7.86e-05   -2.12e-05\n",
       "nacis_code_cat[11, 21)    -0.4594      1.285     -0.357      0.721      -2.979       2.060\n",
       "nacis_code_cat[21, 22)     3.1797      1.294      2.458      0.014       0.644       5.716\n",
       "nacis_code_cat[22, 23)    -0.5650      1.349     -0.419      0.675      -3.209       2.079\n",
       "nacis_code_cat[23, 24)    -0.1541      1.194     -0.129      0.897      -2.494       2.186\n",
       "nacis_code_cat[24, 31) -6.894e-15   1.01e-14     -0.686      0.493   -2.66e-14    1.28e-14\n",
       "nacis_code_cat[31, 35)     0.2924      1.192      0.245      0.806      -2.044       2.629\n",
       "nacis_code_cat[35, 42) -1.458e-14    3.9e-14     -0.373      0.709   -9.11e-14    6.19e-14\n",
       "nacis_code_cat[42, 44)    -1.7597      1.286     -1.369      0.171      -4.280       0.761\n",
       "nacis_code_cat[44, 46)    -1.0531      1.191     -0.884      0.377      -3.388       1.281\n",
       "nacis_code_cat[46, 48) -1.401e-14   1.87e-14     -0.751      0.453   -5.06e-14    2.26e-14\n",
       "nacis_code_cat[48, 50)    -0.6359      1.194     -0.533      0.594      -2.977       1.705\n",
       "nacis_code_cat[50, 51)  4.997e-15   7.13e-15      0.701      0.484   -8.98e-15     1.9e-14\n",
       "nacis_code_cat[51, 52)     1.9595      1.198      1.636      0.102      -0.388       4.307\n",
       "nacis_code_cat[52, 53)     0.4310      1.199      0.360      0.719      -1.919       2.781\n",
       "nacis_code_cat[53, 54)    -0.5248      1.196     -0.439      0.661      -2.870       1.820\n",
       "nacis_code_cat[54, 55)     0.3950      1.193      0.331      0.741      -1.944       2.734\n",
       "nacis_code_cat[55, 56)     5.4398      1.407      3.866      0.000       2.681       8.198\n",
       "nacis_code_cat[56, 61)    -0.8055      1.192     -0.676      0.499      -3.141       1.530\n",
       "nacis_code_cat[61, 62)    -1.0929      1.205     -0.907      0.364      -3.455       1.269\n",
       "nacis_code_cat[62, 71)    -0.5618      1.194     -0.471      0.638      -2.902       1.778\n",
       "nacis_code_cat[71, 72)    -1.2780      1.201     -1.064      0.287      -3.632       1.076\n",
       "nacis_code_cat[72, 81)    -1.5446      1.191     -1.297      0.195      -3.879       0.790\n",
       "nacis_code_cat[81, 83)    -1.6104      1.191     -1.352      0.176      -3.946       0.725\n",
       "nacis_code_cat[83, 92)  3.713e-15   1.25e-14      0.298      0.766   -2.07e-14    2.82e-14\n",
       "year1990               -1.387e-14   2.27e-14     -0.612      0.540   -5.83e-14    3.05e-14\n",
       "year1991               -9.191e-15   8.71e-15     -1.055      0.291   -2.63e-14    7.88e-15\n",
       "year1992               -1.186e-14   8.03e-15     -1.477      0.140   -2.76e-14    3.88e-15\n",
       "year1993                  -1.1647      1.142     -1.020      0.308      -3.403       1.074\n",
       "year1994                   0.0515      0.662      0.078      0.938      -1.247       1.350\n",
       "year1995                  -0.1088      0.454     -0.239      0.811      -1.000       0.782\n",
       "year1996                   0.1736      0.332      0.523      0.601      -0.477       0.824\n",
       "year1997                   0.1796      0.264      0.681      0.496      -0.338       0.697\n",
       "year1998                   0.3877      0.184      2.103      0.035       0.026       0.749\n",
       "year1999                   0.2742      0.171      1.599      0.110      -0.062       0.610\n",
       "year2000                   0.5887      0.174      3.386      0.001       0.248       0.930\n",
       "year2001                   0.0710      0.165      0.430      0.667      -0.253       0.395\n",
       "year2002                   0.3106      0.150      2.068      0.039       0.016       0.605\n",
       "year2003                   0.2908      0.152      1.917      0.055      -0.007       0.588\n",
       "year2004                   0.3179      0.144      2.213      0.027       0.036       0.600\n",
       "year2005                   0.9144      0.137      6.660      0.000       0.645       1.184\n",
       "year2006                   0.7611      0.124      6.127      0.000       0.518       1.005\n",
       "year2007                   0.8835      0.118      7.489      0.000       0.652       1.115\n",
       "year2008                   0.7802      0.110      7.093      0.000       0.565       0.996\n",
       "year2009                   0.4965      0.105      4.751      0.000       0.292       0.701\n",
       "year2010                   0.5255      0.103      5.093      0.000       0.323       0.728\n",
       "year2011                   0.5614      0.102      5.521      0.000       0.362       0.761\n",
       "year2012                   0.6878      0.102      6.747      0.000       0.488       0.888\n",
       "year2013                   0.8902      0.104      8.568      0.000       0.687       1.094\n",
       "year2014                   1.0386      0.103     10.080      0.000       0.837       1.241\n",
       "year2015                   1.0080      0.102      9.842      0.000       0.807       1.209\n",
       "year2016                   0.9196      0.102      9.012      0.000       0.720       1.120\n",
       "year2017                   0.7077      0.137      5.152      0.000       0.438       0.977\n",
       "==============================================================================\n",
       "Omnibus:                      623.299   Durbin-Watson:                   1.631\n",
       "Prob(Omnibus):                  0.000   Jarque-Bera (JB):             2654.069\n",
       "Skew:                           0.356   Prob(JB):                         0.00\n",
       "Kurtosis:                       5.944   Cond. No.                     1.03e+16\n",
       "==============================================================================\n",
       "\n",
       "Warnings:\n",
       "[1] Standard Errors assume that the covariance matrix of the errors is correctly specified.\n",
       "[2] The smallest eigenvalue is 2.73e-22. This might indicate that there are\n",
       "strong multicollinearity problems or that the design matrix is singular.\n",
       "\"\"\""
      ]
     },
     "execution_count": 23,
     "metadata": {},
     "output_type": "execute_result"
    }
   ],
   "source": [
    "prattsdata=pd.read_csv('prattsdatabase.csv',encoding='latin-1')    \n",
    "prattsdata['TargetAge2']=prattsdata['TargetAge']**2\n",
    "\n",
    "prattsdata['TargetStructureAlt']=prattsdata['TargetStructure'].values\n",
    "sel=prattsdata['TargetStructure'].isin(['Partnership', 'Limited Partnership', 'LLP'])\n",
    "prattsdata.loc[sel,'TargetStructureAlt']='Partnership'\n",
    "sel=prattsdata['TargetStructure'].isin(['Consolidated', 'UK Corporation', 'PC','Non-Profit','Ltd','Limited Corporation'])\n",
    "prattsdata.loc[sel,'TargetStructureAlt']='Others'\n",
    "sel=prattsdata['TargetStructure'].isin(['C corporation'])\n",
    "prattsdata.loc[sel,'TargetStructureAlt']='C Corporation'\n",
    "\n",
    "naics_labels=['Agriculture, Forestry, Fishing and Hunting',\\\n",
    "        'Mining, Quarrying, and Oil and Gas Extraction',\\\n",
    "        'Utilities',\\\n",
    "        'Construction',\\\n",
    "        'NA1',\\\n",
    "        'Manufacturing',\\\n",
    "        'NA2',\\\n",
    "        'Wholesale Trade',\\\n",
    "        'Retail Trade',\\\n",
    "        'NA3',\\\n",
    "        'Transportation and Warehousing',\\\n",
    "        'NA4',\\\n",
    "        'Information',\\\n",
    "        'Finance and Insurance',\\\n",
    "        'Real Estate and Rental and Leasing',\\\n",
    "        'Professional, Scientific, and Technical Services',\\\n",
    "        'Management of Companies and Enterprises',\\\n",
    "        'Administrative and Support and Waste Management and Remediation Services'\\\n",
    "        'NA5',\\\n",
    "        'Educational Services',\\\n",
    "        'Health Care and Social Assistance',\\\n",
    "        'Arts, Entertainment, and Recreation',\\\n",
    "        'Accommodation and Food Service',\\\n",
    "        'Other Services','Public administration']\n",
    "\n",
    "len(naics_labels)\n",
    "\n",
    "naics_code=[11,21,22,23,24,31,35,42,44,46,48,50,51,52,53,54,55,56,61,62,71,72,81,83,92]\n",
    "n=24\n",
    "\n",
    "\n",
    "#naics_labels=['Ag. Mining and Utilities',\\\n",
    "#        'Consts and Mfg',\\\n",
    "#        'Trade and warehousing',\\\n",
    "#        'Information and FIRE',\\\n",
    "#        'RE',\\\n",
    "#        'Professional services',\\\n",
    "#        'Nonprof services']\n",
    "\n",
    "#naics_code=[11,23,42,51,53,54,57,92]\n",
    "\n",
    "prattsdata['naics_label']=pd.cut(prattsdata['TargetNAICS1']/10**10,naics_code[:n+1],labels=naics_labels[:n],include_lowest=True,right=False)\n",
    "prattsdata['naics_code_cat']=pd.cut(prattsdata['TargetNAICS1']/10**10,naics_code[:n+1],include_lowest=True,right=False)\n",
    "prattsdata['naics_2d']=pd.cut(prattsdata['TargetNAICS1']/10**10,naics_code[:n+1],labels=naics_code[:n],include_lowest=True,right=False)\n",
    "\n",
    "prattsdata['year'] = prattsdata['SaleDate'].str[-4:]\n",
    "prattsdata['year']=prattsdata['year'].astype(int)\n",
    "\n",
    "\n",
    "\n",
    "import statsmodels.api as sm\n",
    "\n",
    "dummies1 = pd.get_dummies(prattsdata['naics_code_cat']).rename(columns=lambda x: 'nacis_code_cat' + str(x))\n",
    "dummies2 = pd.get_dummies(prattsdata['year']).rename(columns=lambda x: 'year' + str(x))\n",
    "X = pd.concat([prattsdata[['TargetAge','TargetAge2']],dummies1,dummies2],axis=1)\n",
    "Y=np.log(prattsdata.TotalIntangiblesPPA)\n",
    "X = sm.add_constant(X)\n",
    "selection=(pd.notnull(prattsdata.TargetAge)) & (prattsdata.TotalIntangiblesPPA>0)& ~(prattsdata.TargetStructureAlt=='C Corporation')& ~(prattsdata.TargetStructureAlt=='LLC')\n",
    "model11 = sm.OLS(Y[selection], X[selection]).fit()\n",
    "model11.summary()"
   ]
  },
  {
   "cell_type": "markdown",
   "metadata": {},
   "source": [
    "## Regression of $\\log V_{\\kappa}$ on $age,age^2$: Model"
   ]
  },
  {
   "cell_type": "code",
   "execution_count": 24,
   "metadata": {},
   "outputs": [
    {
     "data": {
      "text/html": [
       "<table class=\"simpletable\">\n",
       "<caption>OLS Regression Results</caption>\n",
       "<tr>\n",
       "  <th>Dep. Variable:</th>            <td>R</td>        <th>  R-squared:         </th> <td>   0.012</td> \n",
       "</tr>\n",
       "<tr>\n",
       "  <th>Model:</th>                   <td>OLS</td>       <th>  Adj. R-squared:    </th> <td>   0.012</td> \n",
       "</tr>\n",
       "<tr>\n",
       "  <th>Method:</th>             <td>Least Squares</td>  <th>  F-statistic:       </th> <td>   290.2</td> \n",
       "</tr>\n",
       "<tr>\n",
       "  <th>Date:</th>             <td>Mon, 15 Jun 2020</td> <th>  Prob (F-statistic):</th> <td>5.28e-126</td>\n",
       "</tr>\n",
       "<tr>\n",
       "  <th>Time:</th>                 <td>18:53:45</td>     <th>  Log-Likelihood:    </th> <td> -98061.</td> \n",
       "</tr>\n",
       "<tr>\n",
       "  <th>No. Observations:</th>      <td> 48366</td>      <th>  AIC:               </th> <td>1.961e+05</td>\n",
       "</tr>\n",
       "<tr>\n",
       "  <th>Df Residuals:</th>          <td> 48363</td>      <th>  BIC:               </th> <td>1.962e+05</td>\n",
       "</tr>\n",
       "<tr>\n",
       "  <th>Df Model:</th>              <td>     2</td>      <th>                     </th>     <td> </td>    \n",
       "</tr>\n",
       "<tr>\n",
       "  <th>Covariance Type:</th>      <td>nonrobust</td>    <th>                     </th>     <td> </td>    \n",
       "</tr>\n",
       "</table>\n",
       "<table class=\"simpletable\">\n",
       "<tr>\n",
       "      <td></td>         <th>coef</th>     <th>std err</th>      <th>t</th>      <th>P>|t|</th>  <th>[0.025</th>    <th>0.975]</th>  \n",
       "</tr>\n",
       "<tr>\n",
       "  <th>const</th>     <td>   -1.4068</td> <td>    0.013</td> <td> -109.712</td> <td> 0.000</td> <td>   -1.432</td> <td>   -1.382</td>\n",
       "</tr>\n",
       "<tr>\n",
       "  <th>sind_age</th>  <td>    0.0178</td> <td>    0.002</td> <td>   10.858</td> <td> 0.000</td> <td>    0.015</td> <td>    0.021</td>\n",
       "</tr>\n",
       "<tr>\n",
       "  <th>sind_age2</th> <td>   -0.0007</td> <td> 3.33e-05</td> <td>  -19.902</td> <td> 0.000</td> <td>   -0.001</td> <td>   -0.001</td>\n",
       "</tr>\n",
       "</table>\n",
       "<table class=\"simpletable\">\n",
       "<tr>\n",
       "  <th>Omnibus:</th>       <td>412.631</td> <th>  Durbin-Watson:     </th> <td>   1.992</td> \n",
       "</tr>\n",
       "<tr>\n",
       "  <th>Prob(Omnibus):</th> <td> 0.000</td>  <th>  Jarque-Bera (JB):  </th> <td> 642.030</td> \n",
       "</tr>\n",
       "<tr>\n",
       "  <th>Skew:</th>          <td>-0.060</td>  <th>  Prob(JB):          </th> <td>3.85e-140</td>\n",
       "</tr>\n",
       "<tr>\n",
       "  <th>Kurtosis:</th>      <td> 3.552</td>  <th>  Cond. No.          </th> <td>    854.</td> \n",
       "</tr>\n",
       "</table><br/><br/>Warnings:<br/>[1] Standard Errors assume that the covariance matrix of the errors is correctly specified."
      ],
      "text/plain": [
       "<class 'statsmodels.iolib.summary.Summary'>\n",
       "\"\"\"\n",
       "                            OLS Regression Results                            \n",
       "==============================================================================\n",
       "Dep. Variable:                      R   R-squared:                       0.012\n",
       "Model:                            OLS   Adj. R-squared:                  0.012\n",
       "Method:                 Least Squares   F-statistic:                     290.2\n",
       "Date:                Mon, 15 Jun 2020   Prob (F-statistic):          5.28e-126\n",
       "Time:                        18:53:45   Log-Likelihood:                -98061.\n",
       "No. Observations:               48366   AIC:                         1.961e+05\n",
       "Df Residuals:                   48363   BIC:                         1.962e+05\n",
       "Df Model:                           2                                         \n",
       "Covariance Type:            nonrobust                                         \n",
       "==============================================================================\n",
       "                 coef    std err          t      P>|t|      [0.025      0.975]\n",
       "------------------------------------------------------------------------------\n",
       "const         -1.4068      0.013   -109.712      0.000      -1.432      -1.382\n",
       "sind_age       0.0178      0.002     10.858      0.000       0.015       0.021\n",
       "sind_age2     -0.0007   3.33e-05    -19.902      0.000      -0.001      -0.001\n",
       "==============================================================================\n",
       "Omnibus:                      412.631   Durbin-Watson:                   1.992\n",
       "Prob(Omnibus):                  0.000   Jarque-Bera (JB):              642.030\n",
       "Skew:                          -0.060   Prob(JB):                    3.85e-140\n",
       "Kurtosis:                       3.552   Cond. No.                         854.\n",
       "==============================================================================\n",
       "\n",
       "Warnings:\n",
       "[1] Standard Errors assume that the covariance matrix of the errors is correctly specified.\n",
       "\"\"\""
      ]
     },
     "execution_count": 24,
     "metadata": {},
     "output_type": "execute_result"
    }
   ],
   "source": [
    "sel=(~data['flagC'] )\n",
    "data['sind_age2']=data['sind_age']**2\n",
    "X = data[['sind_age','sind_age2']]\n",
    "Y=np.log(data.R)\n",
    "X = sm.add_constant(X)\n",
    "model11 = sm.OLS(Y[sel], X[sel]).fit()\n",
    "model11.summary()"
   ]
  },
  {
   "cell_type": "markdown",
   "metadata": {},
   "source": [
    "# Business and Labor Income Percentiles"
   ]
  },
  {
   "cell_type": "code",
   "execution_count": 25,
   "metadata": {},
   "outputs": [
    {
     "name": "stdout",
     "output_type": "stream",
     "text": [
      "       lab_inc  bus_inc\n",
      "0.000 0.000    -2.067  \n",
      "0.050 0.000    -1.148  \n",
      "0.100 0.554    -0.002  \n",
      "0.150 0.947    -0.001  \n",
      "0.200 1.242    -0.000  \n",
      "0.250 1.252    -0.000  \n",
      "0.300 1.372    -0.000  \n",
      "0.350 1.477    -0.000  \n",
      "0.400 1.566    -0.000  \n",
      "0.450 1.643    0.000   \n",
      "0.500 1.728    0.000   \n",
      "0.550 1.813    0.008   \n",
      "0.600 1.855    0.032   \n",
      "0.650 1.980    0.247   \n",
      "0.700 2.593    0.414   \n",
      "0.750 3.002    1.312   \n",
      "0.800 3.215    2.098   \n",
      "0.850 3.377    2.414   \n",
      "0.900 3.539    2.640   \n",
      "0.950 3.722    2.787   \n",
      "1.000 6.536    3.000   \n"
     ]
    }
   ],
   "source": [
    "quantiles=pd.DataFrame( (data[data.flagC==True].lab_inc.quantile(np.linspace(0,1,21))))\n",
    "quantiles['bus_inc']=data[data.flagC==False].bus_inc.quantile(np.linspace(0,1,21))\n",
    "print(quantiles)"
   ]
  },
  {
   "cell_type": "markdown",
   "metadata": {},
   "source": [
    "# Lorenz curves"
   ]
  },
  {
   "cell_type": "code",
   "execution_count": 26,
   "metadata": {},
   "outputs": [
    {
     "data": {
      "text/html": [
       "<div>\n",
       "<style scoped>\n",
       "    .dataframe tbody tr th:only-of-type {\n",
       "        vertical-align: middle;\n",
       "    }\n",
       "\n",
       "    .dataframe tbody tr th {\n",
       "        vertical-align: top;\n",
       "    }\n",
       "\n",
       "    .dataframe thead th {\n",
       "        text-align: right;\n",
       "    }\n",
       "</style>\n",
       "<table border=\"1\" class=\"dataframe\">\n",
       "  <thead>\n",
       "    <tr style=\"text-align: right;\">\n",
       "      <th></th>\n",
       "      <th>frac_pop</th>\n",
       "      <th>bus_inc</th>\n",
       "      <th>kappa</th>\n",
       "      <th>hkap</th>\n",
       "      <th>hy</th>\n",
       "      <th>ns</th>\n",
       "      <th>ks</th>\n",
       "      <th>R</th>\n",
       "      <th>Vb_sdf</th>\n",
       "      <th>Vb_mf</th>\n",
       "    </tr>\n",
       "  </thead>\n",
       "  <tbody>\n",
       "    <tr>\n",
       "      <th>0</th>\n",
       "      <td>0.000</td>\n",
       "      <td>0.000</td>\n",
       "      <td>0.000</td>\n",
       "      <td>0.000</td>\n",
       "      <td>0.000</td>\n",
       "      <td>0.000</td>\n",
       "      <td>0.000</td>\n",
       "      <td>0.000</td>\n",
       "      <td>0.000</td>\n",
       "      <td>0.000</td>\n",
       "    </tr>\n",
       "    <tr>\n",
       "      <th>1</th>\n",
       "      <td>0.050</td>\n",
       "      <td>-0.141</td>\n",
       "      <td>0.000</td>\n",
       "      <td>0.000</td>\n",
       "      <td>0.000</td>\n",
       "      <td>0.000</td>\n",
       "      <td>0.000</td>\n",
       "      <td>0.001</td>\n",
       "      <td>0.018</td>\n",
       "      <td>0.023</td>\n",
       "    </tr>\n",
       "    <tr>\n",
       "      <th>2</th>\n",
       "      <td>0.100</td>\n",
       "      <td>-0.149</td>\n",
       "      <td>0.000</td>\n",
       "      <td>0.000</td>\n",
       "      <td>0.000</td>\n",
       "      <td>0.000</td>\n",
       "      <td>0.000</td>\n",
       "      <td>0.002</td>\n",
       "      <td>0.039</td>\n",
       "      <td>0.049</td>\n",
       "    </tr>\n",
       "    <tr>\n",
       "      <th>3</th>\n",
       "      <td>0.150</td>\n",
       "      <td>-0.149</td>\n",
       "      <td>0.000</td>\n",
       "      <td>0.000</td>\n",
       "      <td>0.000</td>\n",
       "      <td>0.000</td>\n",
       "      <td>0.000</td>\n",
       "      <td>0.004</td>\n",
       "      <td>0.064</td>\n",
       "      <td>0.076</td>\n",
       "    </tr>\n",
       "    <tr>\n",
       "      <th>4</th>\n",
       "      <td>0.200</td>\n",
       "      <td>-0.149</td>\n",
       "      <td>0.000</td>\n",
       "      <td>0.000</td>\n",
       "      <td>0.000</td>\n",
       "      <td>0.000</td>\n",
       "      <td>0.000</td>\n",
       "      <td>0.008</td>\n",
       "      <td>0.091</td>\n",
       "      <td>0.104</td>\n",
       "    </tr>\n",
       "    <tr>\n",
       "      <th>5</th>\n",
       "      <td>0.250</td>\n",
       "      <td>-0.149</td>\n",
       "      <td>0.000</td>\n",
       "      <td>0.000</td>\n",
       "      <td>0.000</td>\n",
       "      <td>0.000</td>\n",
       "      <td>0.000</td>\n",
       "      <td>0.012</td>\n",
       "      <td>0.118</td>\n",
       "      <td>0.133</td>\n",
       "    </tr>\n",
       "    <tr>\n",
       "      <th>6</th>\n",
       "      <td>0.300</td>\n",
       "      <td>-0.149</td>\n",
       "      <td>0.001</td>\n",
       "      <td>0.000</td>\n",
       "      <td>0.000</td>\n",
       "      <td>0.000</td>\n",
       "      <td>0.000</td>\n",
       "      <td>0.015</td>\n",
       "      <td>0.146</td>\n",
       "      <td>0.163</td>\n",
       "    </tr>\n",
       "    <tr>\n",
       "      <th>7</th>\n",
       "      <td>0.350</td>\n",
       "      <td>-0.149</td>\n",
       "      <td>0.007</td>\n",
       "      <td>0.000</td>\n",
       "      <td>0.000</td>\n",
       "      <td>0.000</td>\n",
       "      <td>0.000</td>\n",
       "      <td>0.019</td>\n",
       "      <td>0.176</td>\n",
       "      <td>0.193</td>\n",
       "    </tr>\n",
       "    <tr>\n",
       "      <th>8</th>\n",
       "      <td>0.400</td>\n",
       "      <td>-0.149</td>\n",
       "      <td>0.023</td>\n",
       "      <td>0.001</td>\n",
       "      <td>0.000</td>\n",
       "      <td>0.000</td>\n",
       "      <td>0.000</td>\n",
       "      <td>0.023</td>\n",
       "      <td>0.206</td>\n",
       "      <td>0.224</td>\n",
       "    </tr>\n",
       "    <tr>\n",
       "      <th>9</th>\n",
       "      <td>0.450</td>\n",
       "      <td>-0.149</td>\n",
       "      <td>0.058</td>\n",
       "      <td>0.001</td>\n",
       "      <td>0.000</td>\n",
       "      <td>0.000</td>\n",
       "      <td>0.000</td>\n",
       "      <td>0.027</td>\n",
       "      <td>0.238</td>\n",
       "      <td>0.259</td>\n",
       "    </tr>\n",
       "    <tr>\n",
       "      <th>10</th>\n",
       "      <td>0.500</td>\n",
       "      <td>-0.149</td>\n",
       "      <td>0.112</td>\n",
       "      <td>0.002</td>\n",
       "      <td>0.000</td>\n",
       "      <td>0.000</td>\n",
       "      <td>0.000</td>\n",
       "      <td>0.032</td>\n",
       "      <td>0.274</td>\n",
       "      <td>0.296</td>\n",
       "    </tr>\n",
       "    <tr>\n",
       "      <th>11</th>\n",
       "      <td>0.550</td>\n",
       "      <td>-0.149</td>\n",
       "      <td>0.177</td>\n",
       "      <td>0.004</td>\n",
       "      <td>0.001</td>\n",
       "      <td>0.000</td>\n",
       "      <td>0.000</td>\n",
       "      <td>0.039</td>\n",
       "      <td>0.314</td>\n",
       "      <td>0.336</td>\n",
       "    </tr>\n",
       "    <tr>\n",
       "      <th>12</th>\n",
       "      <td>0.600</td>\n",
       "      <td>-0.147</td>\n",
       "      <td>0.251</td>\n",
       "      <td>0.005</td>\n",
       "      <td>0.005</td>\n",
       "      <td>0.002</td>\n",
       "      <td>0.002</td>\n",
       "      <td>0.054</td>\n",
       "      <td>0.358</td>\n",
       "      <td>0.381</td>\n",
       "    </tr>\n",
       "    <tr>\n",
       "      <th>13</th>\n",
       "      <td>0.650</td>\n",
       "      <td>-0.139</td>\n",
       "      <td>0.331</td>\n",
       "      <td>0.007</td>\n",
       "      <td>0.019</td>\n",
       "      <td>0.007</td>\n",
       "      <td>0.009</td>\n",
       "      <td>0.079</td>\n",
       "      <td>0.408</td>\n",
       "      <td>0.432</td>\n",
       "    </tr>\n",
       "    <tr>\n",
       "      <th>14</th>\n",
       "      <td>0.700</td>\n",
       "      <td>-0.109</td>\n",
       "      <td>0.416</td>\n",
       "      <td>0.008</td>\n",
       "      <td>0.061</td>\n",
       "      <td>0.025</td>\n",
       "      <td>0.031</td>\n",
       "      <td>0.118</td>\n",
       "      <td>0.462</td>\n",
       "      <td>0.487</td>\n",
       "    </tr>\n",
       "    <tr>\n",
       "      <th>15</th>\n",
       "      <td>0.750</td>\n",
       "      <td>-0.055</td>\n",
       "      <td>0.505</td>\n",
       "      <td>0.022</td>\n",
       "      <td>0.136</td>\n",
       "      <td>0.069</td>\n",
       "      <td>0.080</td>\n",
       "      <td>0.181</td>\n",
       "      <td>0.523</td>\n",
       "      <td>0.547</td>\n",
       "    </tr>\n",
       "    <tr>\n",
       "      <th>16</th>\n",
       "      <td>0.800</td>\n",
       "      <td>0.098</td>\n",
       "      <td>0.597</td>\n",
       "      <td>0.057</td>\n",
       "      <td>0.276</td>\n",
       "      <td>0.224</td>\n",
       "      <td>0.233</td>\n",
       "      <td>0.298</td>\n",
       "      <td>0.609</td>\n",
       "      <td>0.628</td>\n",
       "    </tr>\n",
       "    <tr>\n",
       "      <th>17</th>\n",
       "      <td>0.850</td>\n",
       "      <td>0.295</td>\n",
       "      <td>0.693</td>\n",
       "      <td>0.106</td>\n",
       "      <td>0.438</td>\n",
       "      <td>0.401</td>\n",
       "      <td>0.408</td>\n",
       "      <td>0.451</td>\n",
       "      <td>0.702</td>\n",
       "      <td>0.717</td>\n",
       "    </tr>\n",
       "    <tr>\n",
       "      <th>18</th>\n",
       "      <td>0.900</td>\n",
       "      <td>0.516</td>\n",
       "      <td>0.790</td>\n",
       "      <td>0.197</td>\n",
       "      <td>0.614</td>\n",
       "      <td>0.592</td>\n",
       "      <td>0.596</td>\n",
       "      <td>0.619</td>\n",
       "      <td>0.799</td>\n",
       "      <td>0.808</td>\n",
       "    </tr>\n",
       "    <tr>\n",
       "      <th>19</th>\n",
       "      <td>0.950</td>\n",
       "      <td>0.754</td>\n",
       "      <td>0.892</td>\n",
       "      <td>0.397</td>\n",
       "      <td>0.801</td>\n",
       "      <td>0.791</td>\n",
       "      <td>0.793</td>\n",
       "      <td>0.800</td>\n",
       "      <td>0.897</td>\n",
       "      <td>0.902</td>\n",
       "    </tr>\n",
       "    <tr>\n",
       "      <th>20</th>\n",
       "      <td>1.000</td>\n",
       "      <td>1.000</td>\n",
       "      <td>1.000</td>\n",
       "      <td>1.000</td>\n",
       "      <td>1.000</td>\n",
       "      <td>1.000</td>\n",
       "      <td>1.000</td>\n",
       "      <td>1.000</td>\n",
       "      <td>1.000</td>\n",
       "      <td>1.000</td>\n",
       "    </tr>\n",
       "  </tbody>\n",
       "</table>\n",
       "</div>"
      ],
      "text/plain": [
       "    frac_pop  bus_inc  kappa  hkap    hy    ns    ks     R  Vb_sdf  Vb_mf\n",
       "0  0.000     0.000    0.000  0.000 0.000 0.000 0.000 0.000 0.000   0.000 \n",
       "1  0.050     -0.141   0.000  0.000 0.000 0.000 0.000 0.001 0.018   0.023 \n",
       "2  0.100     -0.149   0.000  0.000 0.000 0.000 0.000 0.002 0.039   0.049 \n",
       "3  0.150     -0.149   0.000  0.000 0.000 0.000 0.000 0.004 0.064   0.076 \n",
       "4  0.200     -0.149   0.000  0.000 0.000 0.000 0.000 0.008 0.091   0.104 \n",
       "5  0.250     -0.149   0.000  0.000 0.000 0.000 0.000 0.012 0.118   0.133 \n",
       "6  0.300     -0.149   0.001  0.000 0.000 0.000 0.000 0.015 0.146   0.163 \n",
       "7  0.350     -0.149   0.007  0.000 0.000 0.000 0.000 0.019 0.176   0.193 \n",
       "8  0.400     -0.149   0.023  0.001 0.000 0.000 0.000 0.023 0.206   0.224 \n",
       "9  0.450     -0.149   0.058  0.001 0.000 0.000 0.000 0.027 0.238   0.259 \n",
       "10 0.500     -0.149   0.112  0.002 0.000 0.000 0.000 0.032 0.274   0.296 \n",
       "11 0.550     -0.149   0.177  0.004 0.001 0.000 0.000 0.039 0.314   0.336 \n",
       "12 0.600     -0.147   0.251  0.005 0.005 0.002 0.002 0.054 0.358   0.381 \n",
       "13 0.650     -0.139   0.331  0.007 0.019 0.007 0.009 0.079 0.408   0.432 \n",
       "14 0.700     -0.109   0.416  0.008 0.061 0.025 0.031 0.118 0.462   0.487 \n",
       "15 0.750     -0.055   0.505  0.022 0.136 0.069 0.080 0.181 0.523   0.547 \n",
       "16 0.800     0.098    0.597  0.057 0.276 0.224 0.233 0.298 0.609   0.628 \n",
       "17 0.850     0.295    0.693  0.106 0.438 0.401 0.408 0.451 0.702   0.717 \n",
       "18 0.900     0.516    0.790  0.197 0.614 0.592 0.596 0.619 0.799   0.808 \n",
       "19 0.950     0.754    0.892  0.397 0.801 0.791 0.793 0.800 0.897   0.902 \n",
       "20 1.000     1.000    1.000  1.000 1.000 1.000 1.000 1.000 1.000   1.000 "
      ]
     },
     "execution_count": 26,
     "metadata": {},
     "output_type": "execute_result"
    }
   ],
   "source": [
    "sel=(~data['flagC'] )\n",
    "LzData=pd.DataFrame()\n",
    "LzData['frac_pop']=np.linspace(0,1,21)\n",
    "LzData['bus_inc']=Lorenz(data[sel]['bus_inc'],LzData.frac_pop)\n",
    "LzData['kappa']=Lorenz(data[sel]['kappa'],LzData.frac_pop)\n",
    "LzData['hkap']=Lorenz(data[sel]['hkap'],LzData.frac_pop)\n",
    "LzData['hy']=Lorenz(data[sel]['hy'],LzData.frac_pop)\n",
    "\n",
    "LzData['ns']=Lorenz(data[sel]['ns'],LzData.frac_pop)\n",
    "LzData['ks']=Lorenz(data[sel]['ks'],LzData.frac_pop)\n",
    "LzData['R']=Lorenz(data[sel]['R'],LzData.frac_pop)\n",
    "LzData['Vb_sdf']=Lorenz(data[sel]['val_sdf'],LzData.frac_pop)\n",
    "LzData['Vb_mf']=Lorenz(data[sel]['val_mf'],LzData.frac_pop)\n",
    "\n",
    "LzData"
   ]
  },
  {
   "cell_type": "markdown",
   "metadata": {},
   "source": [
    "# Cross Sectional Moments: All Businesses"
   ]
  },
  {
   "cell_type": "code",
   "execution_count": 27,
   "metadata": {},
   "outputs": [
    {
     "name": "stdout",
     "output_type": "stream",
     "text": [
      "      gross_returns: sdf  gross_returns: mf  intan. intensity  div yield: sdf  \\\n",
      "mean 1.078               1.075              0.593             0.015             \n",
      "std  0.238               0.214              0.405             0.124             \n",
      "gini 0.104               0.094              0.366             3.383             \n",
      "p10  0.868               0.886              0.110             -0.001            \n",
      "p25  1.010               1.015              0.125             -0.000            \n",
      "p50  1.020               1.020              0.752             0.000             \n",
      "p75  1.169               1.156              1.000             0.049             \n",
      "p95  1.545               1.523              1.000             0.167             \n",
      "p99  1.950               1.865              1.000             0.180             \n",
      "\n",
      "      div yield: mf  market value: R  valuation: sdf  valuation: mf  kappa  \\\n",
      "mean 0.016          1.026            3.368           3.781          0.441    \n",
      "std  0.110          1.388            1.912           1.928          0.369    \n",
      "gini 2.945          0.667            0.306           0.275          0.465    \n",
      "p10  -0.001         0.045            1.571           1.976          0.000    \n",
      "p25  -0.000         0.074            1.869           2.238          0.004    \n",
      "p50  0.000          0.125            2.530           2.941          0.534    \n",
      "p75  0.043          2.034            5.213           5.562          0.800    \n",
      "p95  0.156          3.775            6.760           7.230          0.930    \n",
      "p99  0.168          4.131            7.012           7.511          0.953    \n",
      "\n",
      "      bus inc  fin wealth:a  wealth:vb_sdf+a  wealth:vb_mf+a  markups  \\\n",
      "mean 0.573    14.092        17.460           17.873          -2.370     \n",
      "std  1.158    9.671         10.069           9.937           71.949     \n",
      "gini 0.995    0.381         0.324            0.312           -16.531    \n",
      "p10  -0.002   2.974         5.186            5.767           -99.929    \n",
      "p25  -0.000   6.584         9.856            10.356          -92.567    \n",
      "p50  0.000    12.192        15.877           16.271          40.107     \n",
      "p75  1.312    20.129        24.159           24.490          57.065     \n",
      "p95  2.787    32.439        36.081           36.281          75.866     \n",
      "p99  2.827    40.629        44.066           44.143          81.484     \n",
      "\n",
      "      log_meas_tfp  log_z    hy  hkap  total owner hrs: hy+hkap  \n",
      "mean 0.836         0.281  0.085 0.022 0.108                      \n",
      "std  0.084         0.605  0.126 0.062 0.142                      \n",
      "gini 0.056         1.163  0.717 0.874 0.667                      \n",
      "p10  0.711         -0.840 0.000 0.000 0.000                      \n",
      "p25  0.730         0.000  0.000 0.000 0.000                      \n",
      "p50  0.861         0.420  0.001 0.000 0.003                      \n",
      "p75  0.898         0.840  0.208 0.011 0.277                      \n",
      "p95  0.947         0.840  0.328 0.205 0.350                      \n",
      "p99  0.982         0.840  0.346 0.300 0.372                      \n"
     ]
    }
   ],
   "source": [
    "sel=(~data['flagC'] )\n",
    "\n",
    "val,cols=stats.describe(data[sel].ret_sdf,data[sel]['wgt'])\n",
    "moments_only_business=pd.DataFrame(val.T,columns=['gross_returns: sdf'])\n",
    "moments_only_business.index=cols\n",
    "\n",
    "\n",
    "\n",
    "val,cols=stats.describe(data[sel].ret_sdf,data[sel]['wgt'])\n",
    "moments_only_business['gross_returns: sdf']=val\n",
    "\n",
    "\n",
    "val,cols=stats.describe(data[sel].ret_mf,data[sel]['wgt'])\n",
    "moments_only_business['gross_returns: mf']=val\n",
    "\n",
    "sel2=sel&(data['ns']>0)\n",
    "val,cols=stats.describe(data[sel2].intan_int,data[sel2]['wgt'])\n",
    "moments_only_business['intan. intensity']=val\n",
    "\n",
    "\n",
    "val,cols=stats.describe(data[sel].div_yld_sdf,data[sel]['wgt'])\n",
    "moments_only_business['div yield: sdf']=val\n",
    "\n",
    "\n",
    "val,cols=stats.describe(data[sel].div_yld_mf,data[sel]['wgt'])\n",
    "moments_only_business['div yield: mf']=val\n",
    "\n",
    "\n",
    "val,cols=stats.describe(data[sel2].R,data[sel2]['wgt'])\n",
    "moments_only_business['market value: R']=val\n",
    "\n",
    "\n",
    "val,cols=stats.describe(data[sel].val_sdf,data[sel]['wgt'])\n",
    "moments_only_business['valuation: sdf']=val\n",
    "\n",
    "val,cols=stats.describe(data[sel].val_mf,data[sel]['wgt'])\n",
    "moments_only_business['valuation: mf']=val\n",
    "\n",
    "\n",
    "val,cols=stats.describe(data[sel].kappa,data[sel]['wgt'])\n",
    "moments_only_business['kappa']=val\n",
    "\n",
    "\n",
    "val,cols=stats.describe(data[sel].bus_inc,data[sel]['wgt'])\n",
    "moments_only_business['bus inc']=val\n",
    "\n",
    "\n",
    "\n",
    "val,cols=stats.describe(data[sel].a,data[sel]['wgt'])\n",
    "moments_only_business['fin wealth:a']=val\n",
    "\n",
    "\n",
    "val,cols=stats.describe(data[sel].wealth_sdf,data[sel]['wgt'])\n",
    "moments_only_business['wealth:vb_sdf+a']=val\n",
    "\n",
    "val,cols=stats.describe(data[sel].wealth_mf,data[sel]['wgt'])\n",
    "moments_only_business['wealth:vb_mf+a']=val\n",
    "\n",
    "\n",
    "\n",
    "val,cols=stats.describe(data[sel].measured_markups,data[sel]['wgt'])\n",
    "moments_only_business['markups']=val\n",
    "\n",
    "\n",
    "sel_temp=(~data['flagC'] )  & (~pd.isna(data['ztilde_meas']))\n",
    "val,cols=stats.describe(data[sel_temp].ztilde_meas,data[sel_temp]['wgt'])\n",
    "moments_only_business['log_meas_tfp']=val\n",
    "\n",
    "val,cols=stats.describe(data[sel].ztilde,data[sel]['wgt'])\n",
    "moments_only_business['log_z']=val\n",
    "\n",
    "val,cols=stats.describe(data[sel].hy,data[sel]['wgt'])\n",
    "moments_only_business['hy']=val\n",
    "\n",
    "\n",
    "val,cols=stats.describe(data[sel].hkap,data[sel]['wgt'])\n",
    "moments_only_business['hkap']=val\n",
    "\n",
    "\n",
    "val,cols=stats.describe(data[sel].hy,data[sel]['wgt'])\n",
    "moments_only_business['hy']=val\n",
    "\n",
    "\n",
    "val,cols=stats.describe(data[sel].n_e,data[sel]['wgt'])\n",
    "moments_only_business['total owner hrs: hy+hkap']=val\n",
    "\n",
    "\n",
    "\n",
    "print (moments_only_business)\n",
    "moments_only_business.to_excel('moments_all_businesses.xls')\n"
   ]
  },
  {
   "cell_type": "markdown",
   "metadata": {},
   "source": [
    "## Decomposition by  Sweat Capital: All Businesses"
   ]
  },
  {
   "cell_type": "code",
   "execution_count": 28,
   "metadata": {},
   "outputs": [
    {
     "name": "stdout",
     "output_type": "stream",
     "text": [
      "           kappa  intan_int  ret_sdf  div_yld_sdf  measured_markups  val_sdf  \\\n",
      "bin_kappa                                                                      \n",
      "0         0.000  0.997      1.006    -0.000       -41.116           1.842      \n",
      "1         0.051  0.879      1.010    -0.000       -35.060           1.877      \n",
      "2         0.503  0.577      1.057    -0.001       7.143             2.736      \n",
      "3         0.763  0.368      1.095    0.003        22.160            4.348      \n",
      "4         0.888  0.205      1.224    0.075        35.030            6.035      \n",
      "\n",
      "               a  wealth_sdf  s_age  sind_age  ind_age  ztilde_meas  ztilde  \\\n",
      "bin_kappa                                                                     \n",
      "0         12.664 14.506      8.505  8.160     54.830   0.889        -0.039    \n",
      "1         13.283 15.160      13.461 12.460    59.350   0.895        -0.004    \n",
      "2         16.487 19.223      12.723 11.263    53.058   0.862        0.179     \n",
      "3         15.063 19.412      8.622  7.091     47.217   0.799        0.499     \n",
      "4         12.962 18.997      7.712  6.271     45.987   0.731        0.768     \n",
      "\n",
      "           bus_inc    hy  hkap   n_e     ks  \n",
      "bin_kappa                                    \n",
      "0         0.000    0.000 0.000 0.000 0.000   \n",
      "1         0.003    0.001 0.000 0.002 0.040   \n",
      "2         0.185    0.041 0.015 0.057 2.541   \n",
      "3         0.785    0.132 0.046 0.178 10.423  \n",
      "4         1.891    0.251 0.050 0.301 22.065  \n"
     ]
    }
   ],
   "source": [
    "sel=(~data['flagC'] )\n",
    "\n",
    "var_bin = 'kappa'\n",
    "num_bins=5\n",
    "varlist=['kappa','intan_int','ret_sdf','div_yld_sdf','measured_markups','val_sdf','a','wealth_sdf','s_age','sind_age','ind_age','ztilde_meas','ztilde','bus_inc','hy','hkap','n_e','ks']\n",
    "tmp, bins_original = pd.qcut(data[sel][var_bin], q = num_bins, labels=False, retbins = True)\n",
    "data['bin_' + var_bin] = tmp[:]\n",
    "bins = bins_original.copy()\n",
    "bins[0] = -np.inf\n",
    "bins[-1] = np.inf\n",
    "data['bin_' + var_bin] = pd.cut(data[var_bin], bins, labels = False)     \n",
    "mean_baseline=data[sel].groupby('bin_' + var_bin).mean()[varlist]\n",
    "count_baseline=data[sel].groupby('bin_' + var_bin).count()[varlist]\n",
    "print(mean_baseline)\n"
   ]
  },
  {
   "cell_type": "markdown",
   "metadata": {},
   "source": [
    "## Decomposition by  Financial assets: All Businesses"
   ]
  },
  {
   "cell_type": "code",
   "execution_count": 29,
   "metadata": {},
   "outputs": [
    {
     "name": "stdout",
     "output_type": "stream",
     "text": [
      "       kappa     R  intan_int  ret_sdf  div_yld_sdf  measured_markups  \\\n",
      "bin_a                                                                   \n",
      "0     0.365  0.720 0.667      1.099    -0.009       -10.969             \n",
      "1     0.434  0.991 0.605      1.078    0.015        -0.991              \n",
      "2     0.456  1.055 0.592      1.078    0.020        -0.993              \n",
      "3     0.511  1.194 0.559      1.074    0.027        3.350               \n",
      "4     0.440  1.031 0.602      1.062    0.024        -2.244              \n",
      "\n",
      "       val_sdf      a  wealth_sdf  s_age  sind_age  ind_age  ztilde_meas  \\\n",
      "bin_a                                                                      \n",
      "0     2.587    2.832  5.419       7.791  7.081     48.334   0.892          \n",
      "1     3.388    7.707  11.095      8.852  7.877     48.132   0.848          \n",
      "2     3.605    12.233 15.838      9.817  8.782     52.549   0.831          \n",
      "3     3.853    18.237 22.090      10.203 8.933     54.202   0.811          \n",
      "4     3.405    29.452 32.857      14.361 12.573    57.226   0.797          \n",
      "\n",
      "       ztilde  bus_inc    hy  hkap   n_e    ns    ks  \n",
      "bin_a                                                 \n",
      "0     0.267   0.346    0.070 0.032 0.102 0.081 5.042  \n",
      "1     0.275   0.604    0.092 0.024 0.116 0.121 7.335  \n",
      "2     0.289   0.639    0.092 0.022 0.114 0.127 7.639  \n",
      "3     0.297   0.711    0.097 0.020 0.116 0.140 8.355  \n",
      "4     0.275   0.566    0.074 0.015 0.090 0.113 6.697  \n"
     ]
    }
   ],
   "source": [
    "sel=(~data['flagC'] )\n",
    "\n",
    "var_bin = 'a'\n",
    "num_bins=5\n",
    "varlist=['kappa','R','intan_int','ret_sdf','div_yld_sdf','measured_markups','val_sdf','a','wealth_sdf','s_age','sind_age','ind_age','ztilde_meas','ztilde','bus_inc','hy','hkap','n_e','ns','ks']\n",
    "tmp, bins_original = pd.qcut(data[sel][var_bin], q = num_bins, labels=False, retbins = True)\n",
    "data['bin_' + var_bin] = tmp[:]\n",
    "bins = bins_original.copy()\n",
    "bins[0] = -np.inf\n",
    "bins[-1] = np.inf\n",
    "data['bin_' + var_bin] = pd.cut(data[var_bin], bins, labels = False)     \n",
    "mean_baseline=data[sel].groupby('bin_' + var_bin).mean()[varlist]\n",
    "count_baseline=data[sel].groupby('bin_' + var_bin).count()[varlist]\n",
    "print(mean_baseline)\n"
   ]
  },
  {
   "cell_type": "markdown",
   "metadata": {},
   "source": [
    "## Decomposition by z: All Businesses"
   ]
  },
  {
   "cell_type": "code",
   "execution_count": 30,
   "metadata": {},
   "outputs": [
    {
     "name": "stdout",
     "output_type": "stream",
     "text": [
      "       kappa  intan_int  ret_sdf  div_yld_sdf  measured_markups  val_sdf  \\\n",
      "bin_z                                                                      \n",
      "0     0.240  0.999      0.960    -0.000       -96.650           2.087      \n",
      "1     0.167  0.989      0.984    -0.000       -75.565           1.983      \n",
      "2     0.246  0.871      0.965    0.001        -19.519           2.137      \n",
      "3     0.386  0.556      0.967    0.018        37.915            2.679      \n",
      "4     0.666  0.319      1.228    0.028        33.168            4.854      \n",
      "\n",
      "           a  wealth_sdf  s_age  sind_age  ind_age  ztilde_meas  ztilde  \\\n",
      "bin_z                                                                     \n",
      "0     14.115 16.202      11.298 10.243    55.143   0.886        -0.840    \n",
      "1     13.808 15.791      11.040 10.098    54.986   0.889        -0.420    \n",
      "2     14.136 16.272      11.053 10.101    54.764   0.891        0.000     \n",
      "3     13.947 16.626      11.025 9.818     53.039   0.878        0.420     \n",
      "4     14.219 19.073      8.986  7.701     49.064   0.766        0.840     \n",
      "\n",
      "       bus_inc    hy  hkap   n_e    ns     ks     R  \n",
      "bin_z                                                \n",
      "0     -0.001   0.000 0.000 0.000 0.000 0.000  0.143  \n",
      "1     -0.000   0.000 0.000 0.000 0.000 0.002  0.104  \n",
      "2     0.007    0.002 0.000 0.002 0.001 0.065  0.158  \n",
      "3     0.184    0.039 0.000 0.039 0.021 1.534  0.460  \n",
      "4     1.268    0.182 0.053 0.235 0.265 15.864 2.025  \n"
     ]
    }
   ],
   "source": [
    "sel=(~data['flagC'] )  \n",
    "var_bin = 'z'\n",
    "varlist=['kappa','intan_int','ret_sdf','div_yld_sdf','measured_markups','val_sdf','a','wealth_sdf','s_age','sind_age','ind_age','ztilde_meas','ztilde','bus_inc','hy','hkap','n_e','ns','ks','R']\n",
    "bins=data[sel].z\n",
    "bins=np.hstack((-1,sorted(data.z.unique())))\n",
    "data['bin_' + var_bin] = pd.cut(data[var_bin], bins, labels = False)     \n",
    "mean_baseline=data[sel].groupby('bin_' + var_bin).mean()[varlist]\n",
    "count_baseline=data[sel].groupby('bin_' + var_bin).count()[varlist]\n",
    "print(mean_baseline)"
   ]
  },
  {
   "cell_type": "markdown",
   "metadata": {},
   "source": [
    "# Cross Sectional Moments: Young Businesses"
   ]
  },
  {
   "cell_type": "markdown",
   "metadata": {},
   "source": [
    "#### ``young'' defined as owners that have been running the businesse for less than 5 yrs (variable: sind_age)"
   ]
  },
  {
   "cell_type": "code",
   "execution_count": 31,
   "metadata": {},
   "outputs": [
    {
     "name": "stdout",
     "output_type": "stream",
     "text": [
      "      gross_returns: sdf  gross_returns: mf  intan. intensity  \\\n",
      "mean 1.119               1.114              0.581               \n",
      "std  0.289               0.260              0.415               \n",
      "gini 0.132               0.119              0.379               \n",
      "p10  0.820               0.844              0.108               \n",
      "p25  1.007               1.014              0.119               \n",
      "p50  1.037               1.037              0.726               \n",
      "p75  1.223               1.201              1.000               \n",
      "p95  1.650               1.610              1.000               \n",
      "p99  2.023               1.923              1.000               \n",
      "\n",
      "      market value: R  div yield: sdf  div yield: mf  valuation: sdf  \\\n",
      "mean 1.026            -0.014          -0.010         3.545             \n",
      "std  1.400            0.169           0.148          1.876             \n",
      "gini 0.674            -5.560          -7.155         0.292             \n",
      "p10  0.019            -0.379          -0.339         1.633             \n",
      "p25  0.060            -0.000          -0.000         2.012             \n",
      "p50  0.100            0.000           0.000          2.790             \n",
      "p75  2.241            0.061           0.053          5.669             \n",
      "p95  3.762            0.167           0.157          6.700             \n",
      "p99  4.121            0.182           0.169          6.984             \n",
      "\n",
      "      valuation: mf    ns     ks  bus inc  fin wealth:a  wealth:vb_sdf+a  \\\n",
      "mean 4.004          0.715 7.493  0.499    12.400        15.945             \n",
      "std  1.897          1.096 11.348 1.294    9.136         9.412              \n",
      "gini 0.262          0.724 0.720  1.354    0.403         0.328              \n",
      "p10  2.035          0.000 0.000  -1.339   2.297         4.671              \n",
      "p25  2.336          0.000 0.000  -0.000   5.440         8.902              \n",
      "p50  3.236          0.001 0.008  0.000    10.432        14.270             \n",
      "p75  6.048          1.943 20.045 1.481    17.503        21.536             \n",
      "p95  7.212          2.733 28.403 2.799    30.219        33.788             \n",
      "p99  7.507          2.852 29.383 2.827    38.939        42.092             \n",
      "\n",
      "      wealth:vb_mf+a  markups  log_meas_tfp  log_z    hy  hkap  \\\n",
      "mean 16.403          -7.610   0.798         0.321  0.092 0.043   \n",
      "std  9.259           72.463   0.084         0.603  0.131 0.087   \n",
      "gini 0.313           -5.208   0.058         0.996  0.702 0.814   \n",
      "p10  5.422           -99.978  0.707         -0.840 0.000 0.000   \n",
      "p25  9.430           -96.283  0.716         0.000  0.000 0.000   \n",
      "p50  14.714          34.162   0.777         0.420  0.000 0.001   \n",
      "p75  21.889          54.385   0.875         0.840  0.232 0.030   \n",
      "p95  34.025          76.182   0.921         0.840  0.335 0.271   \n",
      "p99  42.301          81.836   0.973         0.840  0.349 0.312   \n",
      "\n",
      "      total owner hrs: hy+hkap  \n",
      "mean 0.135                      \n",
      "std  0.150                      \n",
      "gini 0.592                      \n",
      "p10  0.000                      \n",
      "p25  0.000                      \n",
      "p50  0.022                      \n",
      "p75  0.303                      \n",
      "p95  0.359                      \n",
      "p99  0.381                      \n"
     ]
    }
   ],
   "source": [
    "sel=(~data['flagC'] ) & (data['sind_age']<5.0)  \n",
    "\n",
    "val,cols=stats.describe(data[sel].ret_sdf,data[sel]['wgt'])\n",
    "moments_only_business=pd.DataFrame(val.T,columns=['gross_returns: sdf'])\n",
    "moments_only_business.index=cols\n",
    "\n",
    "val,cols=stats.describe(data[sel].ret_mf,data[sel]['wgt'])\n",
    "moments_only_business['gross_returns: mf']=val\n",
    "\n",
    "\n",
    "val,cols=stats.describe(data[sel].ret_sdf,data[sel]['wgt'])\n",
    "moments_only_business['gross_returns: sdf']=val\n",
    "\n",
    "\n",
    "sel2=sel&(data['ns']>0)\n",
    "val,cols=stats.describe(data[sel2].intan_int,data[sel2]['wgt'])\n",
    "moments_only_business['intan. intensity']=val\n",
    "\n",
    "\n",
    "val,cols=stats.describe(data[sel].R,data[sel]['wgt'])\n",
    "moments_only_business['market value: R']=val\n",
    "\n",
    "\n",
    "val,cols=stats.describe(data[sel].div_yld_sdf,data[sel]['wgt'])\n",
    "moments_only_business['div yield: sdf']=val\n",
    "\n",
    "\n",
    "val,cols=stats.describe(data[sel].div_yld_mf,data[sel]['wgt'])\n",
    "moments_only_business['div yield: mf']=val\n",
    "\n",
    "\n",
    "val,cols=stats.describe(data[sel].val_sdf,data[sel]['wgt'])\n",
    "moments_only_business['valuation: sdf']=val\n",
    "\n",
    "val,cols=stats.describe(data[sel].val_mf,data[sel]['wgt'])\n",
    "moments_only_business['valuation: mf']=val\n",
    "\n",
    "\n",
    "val,cols=stats.describe(w*data[sel].ns,data[sel]['wgt'])\n",
    "moments_only_business['ns']=val\n",
    "\n",
    "\n",
    "val,cols=stats.describe(data[sel].ks,data[sel]['wgt'])\n",
    "moments_only_business['ks']=val\n",
    "\n",
    "\n",
    "val,cols=stats.describe(data[sel].bus_inc,data[sel]['wgt'])\n",
    "moments_only_business['bus inc']=val\n",
    "\n",
    "\n",
    "\n",
    "val,cols=stats.describe(data[sel].a,data[sel]['wgt'])\n",
    "moments_only_business['fin wealth:a']=val\n",
    "\n",
    "\n",
    "val,cols=stats.describe(data[sel].wealth_sdf,data[sel]['wgt'])\n",
    "moments_only_business['wealth:vb_sdf+a']=val\n",
    "\n",
    "val,cols=stats.describe(data[sel].wealth_mf,data[sel]['wgt'])\n",
    "moments_only_business['wealth:vb_mf+a']=val\n",
    "\n",
    "\n",
    "\n",
    "val,cols=stats.describe(data[sel].measured_markups,data[sel]['wgt'])\n",
    "moments_only_business['markups']=val\n",
    "\n",
    "\n",
    "sel_temp=(~data['flagC'] ) & (~data['flagO']) & (~pd.isna(data['ztilde_meas']))\n",
    "val,cols=stats.describe(data[sel_temp].ztilde_meas,data[sel_temp]['wgt'])\n",
    "moments_only_business['log_meas_tfp']=val\n",
    "\n",
    "\n",
    "val,cols=stats.describe(data[sel].ztilde,data[sel]['wgt'])\n",
    "moments_only_business['log_z']=val\n",
    "\n",
    "val,cols=stats.describe(data[sel].hy,data[sel]['wgt'])\n",
    "moments_only_business['hy']=val\n",
    "\n",
    "\n",
    "val,cols=stats.describe(data[sel].hkap,data[sel]['wgt'])\n",
    "moments_only_business['hkap']=val\n",
    "\n",
    "\n",
    "val,cols=stats.describe(data[sel].hy,data[sel]['wgt'])\n",
    "moments_only_business['hy']=val\n",
    "\n",
    "\n",
    "val,cols=stats.describe(data[sel].n_e,data[sel]['wgt'])\n",
    "moments_only_business['total owner hrs: hy+hkap']=val\n",
    "\n",
    "\n",
    "print (moments_only_business)\n",
    "moments_only_business.to_excel('moments_young_businesses.xls')\n"
   ]
  },
  {
   "cell_type": "markdown",
   "metadata": {},
   "source": [
    "## Decomposition by  Sweat Capital: Young Businesses"
   ]
  },
  {
   "cell_type": "code",
   "execution_count": 32,
   "metadata": {},
   "outputs": [
    {
     "name": "stdout",
     "output_type": "stream",
     "text": [
      "           kappa     x  intan_int  ret_sdf  div_yld_sdf  measured_markups  \\\n",
      "bin_kappa                                                                   \n",
      "0         0.000  0.000 0.997      0.997    0.000        -37.977             \n",
      "1         0.015  0.000 0.917      1.000    0.000        -33.449             \n",
      "2         0.496  0.273 0.492      1.117    -0.037       3.829               \n",
      "3         0.791  0.589 0.374      1.202    -0.068       4.151               \n",
      "4         0.892  0.491 0.237      1.281    0.035        25.394              \n",
      "\n",
      "           val_sdf      a  wealth_sdf  s_age  sind_age  ind_age  ztilde_meas  \\\n",
      "bin_kappa                                                                      \n",
      "0         1.951    12.655 14.606      1.958  1.422     47.677   0.888          \n",
      "1         2.000    12.888 14.888      2.740  1.449     47.832   0.896          \n",
      "2         3.210    14.470 17.680      2.573  1.603     46.455   0.844          \n",
      "3         4.646    11.463 16.109      3.269  1.848     41.159   0.776          \n",
      "4         5.918    10.522 16.441      3.404  1.979     41.530   0.730          \n",
      "\n",
      "           ztilde  bus_inc    hy  hkap   n_e    ns     ks  \n",
      "bin_kappa                                                  \n",
      "0         -0.121  0.000    0.000 0.000 0.000 0.000 0.000   \n",
      "1         -0.105  0.002    0.001 0.000 0.001 0.000 0.018   \n",
      "2         0.360   0.220    0.070 0.046 0.117 0.073 4.606   \n",
      "3         0.674   0.619    0.146 0.095 0.241 0.193 11.708  \n",
      "4         0.796   1.656    0.243 0.074 0.316 0.354 21.131  \n"
     ]
    }
   ],
   "source": [
    "sel=(~data['flagC'] ) & (data['sind_age']<5) \n",
    "var_bin = 'kappa'\n",
    "num_bins=5\n",
    "varlist=['kappa','x','intan_int','ret_sdf','div_yld_sdf','measured_markups','val_sdf','a','wealth_sdf','s_age','sind_age','ind_age','ztilde_meas','ztilde','bus_inc','hy','hkap','n_e','ns','ks']\n",
    "tmp, bins_original = pd.qcut(data[sel][var_bin], q = num_bins, labels=False, retbins = True)\n",
    "data['bin_' + var_bin] = tmp[:]\n",
    "bins = bins_original.copy()\n",
    "bins[0] = -np.inf\n",
    "bins[-1] = np.inf\n",
    "data['bin_' + var_bin] = pd.cut(data[var_bin], bins, labels = False)     \n",
    "mean_baseline=data[sel].groupby('bin_' + var_bin).mean()[varlist]\n",
    "count_baseline=data[sel].groupby('bin_' + var_bin).count()[varlist]\n",
    "print(mean_baseline)\n"
   ]
  },
  {
   "cell_type": "markdown",
   "metadata": {},
   "source": [
    "## Decomposition by Financial Assets: Young Businesses"
   ]
  },
  {
   "cell_type": "code",
   "execution_count": 33,
   "metadata": {},
   "outputs": [
    {
     "name": "stdout",
     "output_type": "stream",
     "text": [
      "       kappa  intan_int  ret_sdf  div_yld_sdf  measured_markups  val_sdf  \\\n",
      "bin_a                                                                      \n",
      "0     0.443  0.616      1.167    -0.037       -13.675           2.945      \n",
      "1     0.457  0.577      1.112    -0.007       -1.630            3.649      \n",
      "2     0.444  0.602      1.112    -0.008       -6.773            3.737      \n",
      "3     0.460  0.602      1.106    -0.007       -6.246            3.876      \n",
      "4     0.392  0.621      1.100    -0.010       -9.723            3.518      \n",
      "\n",
      "           a  wealth_sdf  s_age  sind_age  ind_age  ztilde_meas  ztilde  \\\n",
      "bin_a                                                                     \n",
      "0     2.189  5.134       2.166  1.562     43.596   0.874        0.371     \n",
      "1     6.379  10.027      2.740  1.666     41.483   0.836        0.320     \n",
      "2     10.487 14.224      2.904  1.678     44.745   0.825        0.299     \n",
      "3     15.868 19.744      2.654  1.695     49.287   0.810        0.311     \n",
      "4     27.076 30.594      3.481  1.699     45.543   0.794        0.304     \n",
      "\n",
      "       bus_inc    hy  hkap   n_e  \n",
      "bin_a                             \n",
      "0     0.368    0.093 0.059 0.151  \n",
      "1     0.612    0.106 0.042 0.148  \n",
      "2     0.549    0.096 0.041 0.137  \n",
      "3     0.549    0.093 0.039 0.132  \n",
      "4     0.419    0.073 0.034 0.107  \n"
     ]
    }
   ],
   "source": [
    "sel=(~data['flagC'] ) & (data['sind_age']<5.0)  \n",
    "\n",
    "var_bin = 'a'\n",
    "num_bins=5\n",
    "varlist=['kappa','intan_int','ret_sdf','div_yld_sdf','measured_markups','val_sdf','a','wealth_sdf','s_age','sind_age','ind_age','ztilde_meas','ztilde','bus_inc','hy','hkap','n_e']\n",
    "tmp, bins_original = pd.qcut(data[sel][var_bin], q = num_bins, labels=False, retbins = True)\n",
    "data['bin_' + var_bin] = tmp[:]\n",
    "bins = bins_original.copy()\n",
    "bins[0] = -np.inf\n",
    "bins[-1] = np.inf\n",
    "data['bin_' + var_bin] = pd.cut(data[var_bin], bins, labels = False)     \n",
    "mean_baseline=data[sel].groupby('bin_' + var_bin).mean()[varlist]\n",
    "count_baseline=data[sel].groupby('bin_' + var_bin).count()[varlist]\n",
    "print(mean_baseline)\n"
   ]
  },
  {
   "cell_type": "markdown",
   "metadata": {},
   "source": [
    "## Decomposition by z: Young Businesses"
   ]
  },
  {
   "cell_type": "code",
   "execution_count": 34,
   "metadata": {},
   "outputs": [
    {
     "name": "stdout",
     "output_type": "stream",
     "text": [
      "       bus_inc  kappa  intan_int  ret_sdf  div_yld_sdf  measured_markups  \\\n",
      "bin_z                                                                      \n",
      "0     -0.001   0.135  0.999      0.951    -0.000       -97.056             \n",
      "1     -0.000   0.066  0.990      0.980    -0.000       -74.897             \n",
      "2     0.005    0.140  0.893      0.956    0.000        -6.924              \n",
      "3     0.179    0.325  0.559      0.938    0.018        45.539              \n",
      "4     0.995    0.727  0.351      1.306    -0.036       11.421              \n",
      "\n",
      "       val_sdf      a  wealth_sdf  s_age  sind_age  ind_age  ztilde_meas  \\\n",
      "bin_z                                                                      \n",
      "0     2.081    12.804 14.885      2.566  1.564     48.551   0.890          \n",
      "1     2.010    12.812 14.822      2.382  1.487     46.936   0.891          \n",
      "2     2.124    12.904 15.029      2.590  1.607     46.833   0.895          \n",
      "3     2.686    12.495 15.181      3.080  1.859     46.032   0.883          \n",
      "4     4.976    12.030 17.007      2.888  1.667     42.628   0.754          \n",
      "\n",
      "       ztilde    hy  hkap   n_e    ns     ks     R  \n",
      "bin_z                                               \n",
      "0     -0.840  0.000 0.000 0.000 0.000 0.000  0.105  \n",
      "1     -0.420  0.000 0.000 0.000 0.000 0.001  0.069  \n",
      "2     0.000   0.001 0.000 0.002 0.001 0.045  0.111  \n",
      "3     0.420   0.039 0.000 0.040 0.020 1.481  0.412  \n",
      "4     0.840   0.181 0.091 0.272 0.256 15.373 1.958  \n"
     ]
    }
   ],
   "source": [
    "sel=(~data['flagC'] ) & (data['sind_age']<5)  \n",
    "\n",
    "var_bin = 'z'\n",
    "varlist=['bus_inc','kappa','intan_int','ret_sdf','div_yld_sdf','measured_markups','val_sdf','a','wealth_sdf','s_age','sind_age','ind_age','ztilde_meas','ztilde','hy','hkap','n_e','ns','ks','R']\n",
    "bins=np.hstack((-1,sorted(data.z.unique())))\n",
    "data['bin_' + var_bin] = pd.cut(data[var_bin], bins, labels = False)     \n",
    "mean_baseline=data[sel].groupby('bin_' + var_bin).mean()[varlist]\n",
    "count_baseline=data[sel].groupby('bin_' + var_bin).count()[varlist]\n",
    "print(mean_baseline)\n"
   ]
  },
  {
   "cell_type": "markdown",
   "metadata": {},
   "source": [
    "# Effects of change in $\\tau_{b}$\n",
    "Please point to the simulations of the economy after the tabx change"
   ]
  },
  {
   "cell_type": "code",
   "execution_count": 35,
   "metadata": {},
   "outputs": [],
   "source": [
    "df_baseline=[]\n",
    "df_target=[]\n",
    "my_file_handle=open(path_baseline+ '/' + momfilename_baseline )\n",
    "textbuffer_baseline=my_file_handle.read()\n",
    "my_file_handle=open(path_target+'/'+momfilename_target)\n",
    "textbuffer_target=my_file_handle.read()\n",
    "w,p,rc,rs,delta,GDP=get_prices(path_target,momfilename_target)\n",
    "df_target=uploadData(path_target,w,rs,rc,p,delta)"
   ]
  },
  {
   "cell_type": "markdown",
   "metadata": {},
   "source": [
    "##    $\\Delta$  in Equilibrium Prices\n",
    "% change in wage, rental rate of capital, and relative price of s-good"
   ]
  },
  {
   "cell_type": "code",
   "execution_count": 36,
   "metadata": {},
   "outputs": [
    {
     "name": "stdout",
     "output_type": "stream",
     "text": [
      "Wage (w):  0.547889980341032\n",
      "S-good price (p):  4.404560313032957\n",
      "Interest rate (r_c):  -0.8623765613766543\n"
     ]
    }
   ],
   "source": [
    "varlist=['Wage (w)','S-good price (p)','Interest rate (r_c)']\n",
    "for var in varlist:\n",
    "    print(var+ \":  \"+ str((__extract_num__(var,textbuffer_target)/__extract_num__(var,textbuffer_baseline)-1)*100 ))"
   ]
  },
  {
   "cell_type": "markdown",
   "metadata": {},
   "source": [
    "##    $\\Delta$  in economy-wide aggregates"
   ]
  },
  {
   "cell_type": "code",
   "execution_count": 37,
   "metadata": {},
   "outputs": [],
   "source": [
    "DeltaDebt=(__extract_num__('  Govt. debt(b)',textbuffer_target)/__extract_num__('  Govt. debt(b)',textbuffer_baseline)-1)*100\n",
    "DeltaFracS=(__extract_num__('  Frac of S-corp owner',textbuffer_target)/__extract_num__('  Frac of S-corp owner',textbuffer_baseline)-1)*100\n",
    "\n",
    "DeltaGDP=(__extract_num__('  GDP',textbuffer_target)/__extract_num__('  GDP',textbuffer_baseline)-1)*100\n",
    "AggCons_baseline=__extract_num__('  Consumption(Ecc)',textbuffer_baseline)+__extract_num__('  Consumption(Ecs)',textbuffer_baseline)*__extract_num__('S-good price (p)',textbuffer_baseline)\n",
    "AggCons_target=__extract_num__('  Consumption(Ecc)',textbuffer_target)+__extract_num__('  Consumption(Ecs)',textbuffer_target)*__extract_num__('S-good price (p)',textbuffer_target)\n",
    "DeltaAggCons=(AggCons_target/AggCons_baseline-1)*100\n",
    "AggHours_baseline=__extract_num__('  Eff. Worked Hours Demand(nc)',textbuffer_baseline)+__extract_num__('  Eff. Worked Hours Demand(Ens)',textbuffer_baseline)+__extract_num__('  Hours, sweat(Ehkap) ',textbuffer_baseline)+__extract_num__('  Hours, production(Ehy) ',textbuffer_baseline)\n",
    "AggHours_target=__extract_num__('  Eff. Worked Hours Demand(nc)',textbuffer_target)+__extract_num__('  Eff. Worked Hours Demand(Ens)',textbuffer_target)+__extract_num__('  Hours, sweat(Ehkap) ',textbuffer_target)+__extract_num__('  Hours, production(Ehy) ',textbuffer_target)\n",
    "DeltaAggHours=(AggHours_target/AggHours_baseline-1)*100\n",
    "DeltaVb_mutual=(df_target.val_mf.sum()/data.val_mf.sum()-1)*100\n",
    "AggFa_baseline=__extract_num__('  Capital(kc)',textbuffer_baseline)+__extract_num__('  S-Corp Rental Capital (ks)',textbuffer_baseline)\n",
    "AggFa_target=__extract_num__('  Capital(kc)',textbuffer_target)+__extract_num__('  S-Corp Rental Capital (ks)',textbuffer_target)\n",
    "DeltaAggFa=(AggFa_target/AggFa_baseline-1)*100  \n",
    "DeltaTaxRevenues=(__extract_num__('  Tax revenue(tax_rev)',textbuffer_target)/__extract_num__('  Tax revenue(tax_rev)',textbuffer_baseline)-1)*100\n",
    "AggEmpHours_baseline=__extract_num__('  Eff. Worked Hours Demand(nc)',textbuffer_baseline)+__extract_num__('  Eff. Worked Hours Demand(Ens)',textbuffer_baseline)\n",
    "AggEmpHours_target=__extract_num__('  Eff. Worked Hours Demand(nc)',textbuffer_target)+__extract_num__('  Eff. Worked Hours Demand(Ens)',textbuffer_target)\n",
    "DeltaAggEmpHours=(AggEmpHours_target/AggEmpHours_baseline-1)*100\n"
   ]
  },
  {
   "cell_type": "code",
   "execution_count": 38,
   "metadata": {},
   "outputs": [
    {
     "name": "stdout",
     "output_type": "stream",
     "text": [
      "GDP: 9.204083820649721\n",
      "Agg. Cons: 11.925017992369181\n",
      "Agg. Hours: 8.217647781803539\n",
      "Agg. Emp Hours: 13.964127486353494\n",
      "Agg. Vb (mf): 14.744869662610082\n",
      "Agg. Fixed assets: 13.099063990701554\n",
      "Agg. Tax revenues: -1.7968692197803948\n",
      "Agg. Debt: -19.81030233182026\n",
      "Frac in S: -18.12430219575735\n"
     ]
    }
   ],
   "source": [
    "print(\"GDP: \" + str( DeltaGDP))\n",
    "print(\"Agg. Cons: \" + str( DeltaAggCons))\n",
    "print(\"Agg. Hours: \" + str( DeltaAggHours))\n",
    "print(\"Agg. Emp Hours: \" + str( DeltaAggEmpHours))\n",
    "print(\"Agg. Vb (mf): \" + str( DeltaVb_mutual))\n",
    "print(\"Agg. Fixed assets: \" + str( DeltaAggFa))\n",
    "print(\"Agg. Tax revenues: \" + str( DeltaTaxRevenues))\n",
    "print(\"Agg. Debt: \" + str(DeltaDebt))\n",
    "print(\"Frac in S: \" + str(DeltaFracS))"
   ]
  },
  {
   "cell_type": "markdown",
   "metadata": {},
   "source": [
    "##    $\\Delta$  in C-corp sector"
   ]
  },
  {
   "cell_type": "code",
   "execution_count": 39,
   "metadata": {},
   "outputs": [
    {
     "name": "stdout",
     "output_type": "stream",
     "text": [
      "  Output(yc) :  12.83515571888032\n",
      "  Consumption(Ecc):  11.95181728716841\n",
      "  Eff. Worked Hours Demand(nc):  12.220311874214062\n",
      "  Capital(kc):  13.447796182112493\n"
     ]
    }
   ],
   "source": [
    "varlist=['  Output(yc) ','  Consumption(Ecc)','  Eff. Worked Hours Demand(nc)','  Capital(kc)']\n",
    "for var in varlist:\n",
    "    print(var+ \":  \"+ str((__extract_num__(var,textbuffer_target)/__extract_num__(var,textbuffer_baseline)-1)*100 ))"
   ]
  },
  {
   "cell_type": "code",
   "execution_count": 40,
   "metadata": {},
   "outputs": [],
   "source": [
    "df_baseline_workers = data[data['flagC']==True]\n",
    "df_target_workers=df_target[df_target['flagC']==True]\n",
    "df_baseline = data[data['flagC']==False]\n",
    "df_target=df_target[df_target['flagC']==False]"
   ]
  },
  {
   "cell_type": "code",
   "execution_count": 41,
   "metadata": {},
   "outputs": [],
   "source": [
    "my_file_handle=open(path_baseline+'/'+momfilename_baseline)\n",
    "textbuffer_baseline=my_file_handle.read()\n",
    "my_file_handle=open(path_target+'/'+momfilename_target)\n",
    "textbuffer_target=my_file_handle.read()"
   ]
  },
  {
   "cell_type": "markdown",
   "metadata": {},
   "source": [
    "##    $\\Delta$ factor use and outputs for  Private Busineses"
   ]
  },
  {
   "cell_type": "code",
   "execution_count": 42,
   "metadata": {},
   "outputs": [
    {
     "name": "stdout",
     "output_type": "stream",
     "text": [
      "---------------- sum change (%)--------------\n",
      "x         9.898  \n",
      "hy        -12.654\n",
      "ns        17.644 \n",
      "hkap      -5.256 \n",
      "ne        -11.108\n",
      "ys        7.226  \n",
      "ks        12.451 \n",
      "kappa     1.968  \n",
      "bus_inc   5.037  \n",
      "pys       11.949 \n",
      "wns       18.288 \n",
      "val_mf    2.447  \n",
      "val_sdf   2.328  \n",
      "div       14.542 \n",
      "s_age     -28.266\n",
      "pys       11.949 \n",
      "dtype: float64\n"
     ]
    }
   ],
   "source": [
    "varlist=['x','hy','ns','hkap','ne','ys','ks','kappa','bus_inc','pys','wns','val_mf','val_sdf','div','s_age','pys']\n",
    "print(\"---------------- sum change (%)--------------\")\n",
    "# per_change_agg=100.*(df_target[varlist].sum()/df_baseline[varlist].sum() -1.)\n",
    "# print(per_change_agg)\n",
    "print(100.*(df_target.sum()/df_baseline.sum() - 1.)[varlist])"
   ]
  },
  {
   "cell_type": "markdown",
   "metadata": {},
   "source": [
    "##  Aggregate $\\Delta$ profitability\n",
    "Agg profitability is defined as  sum of business incomes in passthrus / sum of physical capital used in pass thrus "
   ]
  },
  {
   "cell_type": "code",
   "execution_count": 43,
   "metadata": {},
   "outputs": [
    {
     "name": "stdout",
     "output_type": "stream",
     "text": [
      "---------------- profitability --------------\n",
      "after tax change:   7.63\n",
      "Baseline:           8.17\n",
      "DELTA:             -6.59\n"
     ]
    }
   ],
   "source": [
    "print(\"---------------- profitability --------------\")\n",
    "target_profitability=df_target.bus_inc.sum()/df_target.ks.sum()\n",
    "baseline_profitability=df_baseline.bus_inc.sum()/df_baseline.ks.sum()\n",
    "print(\"after tax change:  % 4.2f\" % (100*target_profitability))\n",
    "print(\"Baseline:          % 4.2f\"  % (100*baseline_profitability))\n",
    "print(\"DELTA:             % 4.2f\" % ( 100*(target_profitability/baseline_profitability-1) ))\n"
   ]
  },
  {
   "cell_type": "markdown",
   "metadata": {},
   "source": [
    "##  Aggregate $\\Delta$ markups\n",
    "Agg markups  is defined as  sum of business incomes in passthrus / sum rental and wage expenses in pass thrus "
   ]
  },
  {
   "cell_type": "code",
   "execution_count": 44,
   "metadata": {},
   "outputs": [
    {
     "name": "stdout",
     "output_type": "stream",
     "text": [
      "after tax change:   37.11\n",
      "Baseline:           40.54\n",
      "DELTA:             -8.47\n"
     ]
    }
   ],
   "source": [
    "target_markups=df_target.bus_inc.sum()/df_target.cogs.sum()\n",
    "baseline_markups=df_baseline.bus_inc.sum()/df_baseline.cogs.sum()\n",
    "print(\"after tax change:  % 4.2f\" % (100*target_markups))\n",
    "print(\"Baseline:          % 4.2f\"  % (100*baseline_markups))\n",
    "print(\"DELTA:             % 4.2f\" % ( 100*(target_markups/baseline_markups-1) ))\n"
   ]
  },
  {
   "cell_type": "markdown",
   "metadata": {},
   "source": [
    "## Aggregate $\\Delta$ TFP in passthru\n",
    "Agg. TFP is defined as (sum of ys )  divided   (sum of ks)^(1/3) x (sum of ns)^(2/3)"
   ]
  },
  {
   "cell_type": "code",
   "execution_count": 45,
   "metadata": {},
   "outputs": [
    {
     "name": "stdout",
     "output_type": "stream",
     "text": [
      "after tax change:    2.11\n",
      "Baseline:            2.27\n",
      "DELTA:              -7.34\n"
     ]
    }
   ],
   "source": [
    "target_TFP=(df_target.ys.sum())/ (((df_target.ks.sum())**(0.33))*((df_target.ns.sum())**(0.66)))\n",
    "baseline_TFP=(df_baseline.ys.sum()) /(((df_baseline.ks.sum())**(0.33))*((df_baseline.ns.sum())**(0.66)))\n",
    "print(\"after tax change:   % 4.2f\" % (target_TFP))\n",
    "print(\"Baseline:           % 4.2f\" % (baseline_TFP))\n",
    "print(\"DELTA:              % 4.2f\"% (100*(target_TFP/baseline_TFP-1))) \n"
   ]
  },
  {
   "cell_type": "markdown",
   "metadata": {},
   "source": [
    "## Decomposition of $\\Delta$ by Owner productivity \"z\""
   ]
  },
  {
   "cell_type": "code",
   "execution_count": 46,
   "metadata": {},
   "outputs": [
    {
     "name": "stdout",
     "output_type": "stream",
     "text": [
      "\n",
      "SORTED BY z\n",
      "BINS = [-1.0, 0.43, 0.66, 1.0, 1.52, 2.32]\n"
     ]
    }
   ],
   "source": [
    "var_bin = 'z'\n",
    "var_list=['ztilde','eps','a','bus_inc','ys','ks','kappa','ns','hy','hkap','ztilde_meas','zkapphi','ne','measured_markups','pys','wns']\n",
    "bins=data[sel].z\n",
    "bins=np.hstack((-1,sorted(data.z.unique())))\n",
    "total,sum_baseline,intensive_alt,extensive_alt=print_results(var_bin,bins,var_list,df_baseline,df_target)"
   ]
  },
  {
   "cell_type": "markdown",
   "metadata": {},
   "source": [
    "### Total change"
   ]
  },
  {
   "cell_type": "code",
   "execution_count": 47,
   "metadata": {},
   "outputs": [
    {
     "data": {
      "text/html": [
       "<div>\n",
       "<style scoped>\n",
       "    .dataframe tbody tr th:only-of-type {\n",
       "        vertical-align: middle;\n",
       "    }\n",
       "\n",
       "    .dataframe tbody tr th {\n",
       "        vertical-align: top;\n",
       "    }\n",
       "\n",
       "    .dataframe thead th {\n",
       "        text-align: right;\n",
       "    }\n",
       "</style>\n",
       "<table border=\"1\" class=\"dataframe\">\n",
       "  <thead>\n",
       "    <tr style=\"text-align: right;\">\n",
       "      <th></th>\n",
       "      <th>bins/total</th>\n",
       "      <th>ztilde</th>\n",
       "      <th>eps</th>\n",
       "      <th>a</th>\n",
       "      <th>bus_inc</th>\n",
       "      <th>ys</th>\n",
       "      <th>ks</th>\n",
       "      <th>kappa</th>\n",
       "      <th>ns</th>\n",
       "      <th>hy</th>\n",
       "      <th>hkap</th>\n",
       "      <th>ztilde_meas</th>\n",
       "      <th>zkapphi</th>\n",
       "      <th>ne</th>\n",
       "      <th>measured_markups</th>\n",
       "      <th>pys</th>\n",
       "      <th>wns</th>\n",
       "    </tr>\n",
       "  </thead>\n",
       "  <tbody>\n",
       "    <tr>\n",
       "      <th>0</th>\n",
       "      <td>(-1.0, 0.432]</td>\n",
       "      <td>8.850</td>\n",
       "      <td>-2.944</td>\n",
       "      <td>-2.038</td>\n",
       "      <td>-0.002</td>\n",
       "      <td>0.000</td>\n",
       "      <td>0.000</td>\n",
       "      <td>-0.205</td>\n",
       "      <td>0.000</td>\n",
       "      <td>-0.000</td>\n",
       "      <td>-0.004</td>\n",
       "      <td>-4.041</td>\n",
       "      <td>-0.527</td>\n",
       "      <td>-0.001</td>\n",
       "      <td>-119.525</td>\n",
       "      <td>0.000</td>\n",
       "      <td>0.000</td>\n",
       "    </tr>\n",
       "    <tr>\n",
       "      <th>1</th>\n",
       "      <td>(0.432, 0.657]</td>\n",
       "      <td>4.143</td>\n",
       "      <td>-2.767</td>\n",
       "      <td>-1.946</td>\n",
       "      <td>-0.000</td>\n",
       "      <td>-0.000</td>\n",
       "      <td>0.000</td>\n",
       "      <td>-0.282</td>\n",
       "      <td>0.000</td>\n",
       "      <td>-0.001</td>\n",
       "      <td>-0.008</td>\n",
       "      <td>-3.748</td>\n",
       "      <td>-0.719</td>\n",
       "      <td>-0.003</td>\n",
       "      <td>-80.404</td>\n",
       "      <td>0.000</td>\n",
       "      <td>0.000</td>\n",
       "    </tr>\n",
       "    <tr>\n",
       "      <th>2</th>\n",
       "      <td>(0.657, 1.0]</td>\n",
       "      <td>0.000</td>\n",
       "      <td>-2.965</td>\n",
       "      <td>-2.011</td>\n",
       "      <td>0.004</td>\n",
       "      <td>0.004</td>\n",
       "      <td>0.010</td>\n",
       "      <td>-0.094</td>\n",
       "      <td>0.012</td>\n",
       "      <td>-0.030</td>\n",
       "      <td>0.001</td>\n",
       "      <td>-4.131</td>\n",
       "      <td>-1.210</td>\n",
       "      <td>-0.023</td>\n",
       "      <td>-9.710</td>\n",
       "      <td>0.009</td>\n",
       "      <td>0.013</td>\n",
       "    </tr>\n",
       "    <tr>\n",
       "      <th>3</th>\n",
       "      <td>(1.0, 1.522]</td>\n",
       "      <td>-5.294</td>\n",
       "      <td>-3.658</td>\n",
       "      <td>-2.084</td>\n",
       "      <td>0.211</td>\n",
       "      <td>0.154</td>\n",
       "      <td>0.374</td>\n",
       "      <td>0.435</td>\n",
       "      <td>0.518</td>\n",
       "      <td>-1.103</td>\n",
       "      <td>0.011</td>\n",
       "      <td>-5.409</td>\n",
       "      <td>-2.541</td>\n",
       "      <td>-0.870</td>\n",
       "      <td>73.494</td>\n",
       "      <td>0.353</td>\n",
       "      <td>0.540</td>\n",
       "    </tr>\n",
       "    <tr>\n",
       "      <th>4</th>\n",
       "      <td>(1.522, 2.317]</td>\n",
       "      <td>-17.662</td>\n",
       "      <td>-6.904</td>\n",
       "      <td>-2.159</td>\n",
       "      <td>4.824</td>\n",
       "      <td>7.068</td>\n",
       "      <td>12.067</td>\n",
       "      <td>2.115</td>\n",
       "      <td>17.113</td>\n",
       "      <td>-11.520</td>\n",
       "      <td>-5.256</td>\n",
       "      <td>-8.964</td>\n",
       "      <td>-8.063</td>\n",
       "      <td>-10.211</td>\n",
       "      <td>139.542</td>\n",
       "      <td>11.587</td>\n",
       "      <td>17.735</td>\n",
       "    </tr>\n",
       "    <tr>\n",
       "      <th>5</th>\n",
       "      <td>total</td>\n",
       "      <td>-9.963</td>\n",
       "      <td>-19.239</td>\n",
       "      <td>-10.237</td>\n",
       "      <td>5.037</td>\n",
       "      <td>7.226</td>\n",
       "      <td>12.451</td>\n",
       "      <td>1.968</td>\n",
       "      <td>17.644</td>\n",
       "      <td>-12.654</td>\n",
       "      <td>-5.256</td>\n",
       "      <td>-26.293</td>\n",
       "      <td>-13.061</td>\n",
       "      <td>-11.108</td>\n",
       "      <td>3.397</td>\n",
       "      <td>11.949</td>\n",
       "      <td>18.288</td>\n",
       "    </tr>\n",
       "  </tbody>\n",
       "</table>\n",
       "</div>"
      ],
      "text/plain": [
       "       bins/total  ztilde     eps       a  bus_inc     ys     ks  kappa  \\\n",
       "0  (-1.0, 0.432]  8.850   -2.944  -2.038  -0.002   0.000  0.000  -0.205   \n",
       "1  (0.432, 0.657] 4.143   -2.767  -1.946  -0.000   -0.000 0.000  -0.282   \n",
       "2  (0.657, 1.0]   0.000   -2.965  -2.011  0.004    0.004  0.010  -0.094   \n",
       "3  (1.0, 1.522]   -5.294  -3.658  -2.084  0.211    0.154  0.374  0.435    \n",
       "4  (1.522, 2.317] -17.662 -6.904  -2.159  4.824    7.068  12.067 2.115    \n",
       "5  total          -9.963  -19.239 -10.237 5.037    7.226  12.451 1.968    \n",
       "\n",
       "      ns      hy   hkap  ztilde_meas  zkapphi      ne  measured_markups  \\\n",
       "0 0.000  -0.000  -0.004 -4.041       -0.527   -0.001  -119.525            \n",
       "1 0.000  -0.001  -0.008 -3.748       -0.719   -0.003  -80.404             \n",
       "2 0.012  -0.030  0.001  -4.131       -1.210   -0.023  -9.710              \n",
       "3 0.518  -1.103  0.011  -5.409       -2.541   -0.870  73.494              \n",
       "4 17.113 -11.520 -5.256 -8.964       -8.063   -10.211 139.542             \n",
       "5 17.644 -12.654 -5.256 -26.293      -13.061  -11.108 3.397               \n",
       "\n",
       "     pys    wns  \n",
       "0 0.000  0.000   \n",
       "1 0.000  0.000   \n",
       "2 0.009  0.013   \n",
       "3 0.353  0.540   \n",
       "4 11.587 17.735  \n",
       "5 11.949 18.288  "
      ]
     },
     "execution_count": 47,
     "metadata": {},
     "output_type": "execute_result"
    }
   ],
   "source": [
    "agg= 100*total/sum_baseline.sum() \n",
    "aggsum=100*total.sum()/sum_baseline.sum()    \n",
    "format_table(agg,aggsum)   "
   ]
  },
  {
   "cell_type": "markdown",
   "metadata": {},
   "source": [
    "### Intensive "
   ]
  },
  {
   "cell_type": "code",
   "execution_count": 48,
   "metadata": {},
   "outputs": [
    {
     "data": {
      "text/html": [
       "<div>\n",
       "<style scoped>\n",
       "    .dataframe tbody tr th:only-of-type {\n",
       "        vertical-align: middle;\n",
       "    }\n",
       "\n",
       "    .dataframe tbody tr th {\n",
       "        vertical-align: top;\n",
       "    }\n",
       "\n",
       "    .dataframe thead th {\n",
       "        text-align: right;\n",
       "    }\n",
       "</style>\n",
       "<table border=\"1\" class=\"dataframe\">\n",
       "  <thead>\n",
       "    <tr style=\"text-align: right;\">\n",
       "      <th></th>\n",
       "      <th>bins/total</th>\n",
       "      <th>ztilde</th>\n",
       "      <th>eps</th>\n",
       "      <th>a</th>\n",
       "      <th>bus_inc</th>\n",
       "      <th>ys</th>\n",
       "      <th>ks</th>\n",
       "      <th>kappa</th>\n",
       "      <th>ns</th>\n",
       "      <th>hy</th>\n",
       "      <th>hkap</th>\n",
       "      <th>ztilde_meas</th>\n",
       "      <th>zkapphi</th>\n",
       "      <th>ne</th>\n",
       "      <th>measured_markups</th>\n",
       "      <th>pys</th>\n",
       "      <th>wns</th>\n",
       "    </tr>\n",
       "  </thead>\n",
       "  <tbody>\n",
       "    <tr>\n",
       "      <th>0</th>\n",
       "      <td>(-1.0, 0.432]</td>\n",
       "      <td>-0.000</td>\n",
       "      <td>-0.125</td>\n",
       "      <td>1.061</td>\n",
       "      <td>-0.009</td>\n",
       "      <td>0.000</td>\n",
       "      <td>0.000</td>\n",
       "      <td>1.612</td>\n",
       "      <td>0.000</td>\n",
       "      <td>0.000</td>\n",
       "      <td>0.033</td>\n",
       "      <td>-1.017</td>\n",
       "      <td>0.079</td>\n",
       "      <td>0.007</td>\n",
       "      <td>1.233</td>\n",
       "      <td>0.000</td>\n",
       "      <td>0.000</td>\n",
       "    </tr>\n",
       "    <tr>\n",
       "      <th>1</th>\n",
       "      <td>(0.432, 0.657]</td>\n",
       "      <td>-0.000</td>\n",
       "      <td>-0.151</td>\n",
       "      <td>0.884</td>\n",
       "      <td>-0.003</td>\n",
       "      <td>0.001</td>\n",
       "      <td>0.001</td>\n",
       "      <td>0.882</td>\n",
       "      <td>0.001</td>\n",
       "      <td>0.001</td>\n",
       "      <td>0.016</td>\n",
       "      <td>-0.909</td>\n",
       "      <td>0.051</td>\n",
       "      <td>0.004</td>\n",
       "      <td>9.098</td>\n",
       "      <td>0.001</td>\n",
       "      <td>0.001</td>\n",
       "    </tr>\n",
       "    <tr>\n",
       "      <th>2</th>\n",
       "      <td>(0.657, 1.0]</td>\n",
       "      <td>0.000</td>\n",
       "      <td>-0.146</td>\n",
       "      <td>1.098</td>\n",
       "      <td>0.046</td>\n",
       "      <td>0.035</td>\n",
       "      <td>0.042</td>\n",
       "      <td>1.782</td>\n",
       "      <td>0.038</td>\n",
       "      <td>0.044</td>\n",
       "      <td>0.038</td>\n",
       "      <td>-1.053</td>\n",
       "      <td>0.234</td>\n",
       "      <td>0.043</td>\n",
       "      <td>16.803</td>\n",
       "      <td>0.042</td>\n",
       "      <td>0.039</td>\n",
       "    </tr>\n",
       "    <tr>\n",
       "      <th>3</th>\n",
       "      <td>(1.0, 1.522]</td>\n",
       "      <td>0.000</td>\n",
       "      <td>-0.204</td>\n",
       "      <td>1.571</td>\n",
       "      <td>1.492</td>\n",
       "      <td>1.028</td>\n",
       "      <td>1.272</td>\n",
       "      <td>3.909</td>\n",
       "      <td>1.266</td>\n",
       "      <td>0.577</td>\n",
       "      <td>0.078</td>\n",
       "      <td>-1.725</td>\n",
       "      <td>0.620</td>\n",
       "      <td>0.473</td>\n",
       "      <td>18.712</td>\n",
       "      <td>1.248</td>\n",
       "      <td>1.290</td>\n",
       "    </tr>\n",
       "    <tr>\n",
       "      <th>4</th>\n",
       "      <td>(1.522, 2.317]</td>\n",
       "      <td>-0.000</td>\n",
       "      <td>-0.783</td>\n",
       "      <td>4.103</td>\n",
       "      <td>19.339</td>\n",
       "      <td>22.074</td>\n",
       "      <td>27.478</td>\n",
       "      <td>11.920</td>\n",
       "      <td>33.066</td>\n",
       "      <td>1.224</td>\n",
       "      <td>9.317</td>\n",
       "      <td>-3.544</td>\n",
       "      <td>1.918</td>\n",
       "      <td>2.915</td>\n",
       "      <td>61.568</td>\n",
       "      <td>26.959</td>\n",
       "      <td>33.738</td>\n",
       "    </tr>\n",
       "    <tr>\n",
       "      <th>5</th>\n",
       "      <td>total</td>\n",
       "      <td>-0.000</td>\n",
       "      <td>-1.409</td>\n",
       "      <td>8.717</td>\n",
       "      <td>20.866</td>\n",
       "      <td>23.138</td>\n",
       "      <td>28.794</td>\n",
       "      <td>20.105</td>\n",
       "      <td>34.371</td>\n",
       "      <td>1.846</td>\n",
       "      <td>9.484</td>\n",
       "      <td>-8.249</td>\n",
       "      <td>2.901</td>\n",
       "      <td>3.442</td>\n",
       "      <td>107.414</td>\n",
       "      <td>28.250</td>\n",
       "      <td>35.069</td>\n",
       "    </tr>\n",
       "  </tbody>\n",
       "</table>\n",
       "</div>"
      ],
      "text/plain": [
       "       bins/total  ztilde    eps     a  bus_inc     ys     ks  kappa     ns  \\\n",
       "0  (-1.0, 0.432]  -0.000  -0.125 1.061 -0.009   0.000  0.000  1.612  0.000    \n",
       "1  (0.432, 0.657] -0.000  -0.151 0.884 -0.003   0.001  0.001  0.882  0.001    \n",
       "2  (0.657, 1.0]   0.000   -0.146 1.098 0.046    0.035  0.042  1.782  0.038    \n",
       "3  (1.0, 1.522]   0.000   -0.204 1.571 1.492    1.028  1.272  3.909  1.266    \n",
       "4  (1.522, 2.317] -0.000  -0.783 4.103 19.339   22.074 27.478 11.920 33.066   \n",
       "5  total          -0.000  -1.409 8.717 20.866   23.138 28.794 20.105 34.371   \n",
       "\n",
       "     hy  hkap  ztilde_meas  zkapphi    ne  measured_markups    pys    wns  \n",
       "0 0.000 0.033 -1.017       0.079    0.007 1.233             0.000  0.000   \n",
       "1 0.001 0.016 -0.909       0.051    0.004 9.098             0.001  0.001   \n",
       "2 0.044 0.038 -1.053       0.234    0.043 16.803            0.042  0.039   \n",
       "3 0.577 0.078 -1.725       0.620    0.473 18.712            1.248  1.290   \n",
       "4 1.224 9.317 -3.544       1.918    2.915 61.568            26.959 33.738  \n",
       "5 1.846 9.484 -8.249       2.901    3.442 107.414           28.250 35.069  "
      ]
     },
     "execution_count": 48,
     "metadata": {},
     "output_type": "execute_result"
    }
   ],
   "source": [
    "format_table(intensive_alt,intensive_alt.sum())   "
   ]
  },
  {
   "cell_type": "markdown",
   "metadata": {},
   "source": [
    "### Extensive"
   ]
  },
  {
   "cell_type": "code",
   "execution_count": 49,
   "metadata": {},
   "outputs": [
    {
     "data": {
      "text/html": [
       "<div>\n",
       "<style scoped>\n",
       "    .dataframe tbody tr th:only-of-type {\n",
       "        vertical-align: middle;\n",
       "    }\n",
       "\n",
       "    .dataframe tbody tr th {\n",
       "        vertical-align: top;\n",
       "    }\n",
       "\n",
       "    .dataframe thead th {\n",
       "        text-align: right;\n",
       "    }\n",
       "</style>\n",
       "<table border=\"1\" class=\"dataframe\">\n",
       "  <thead>\n",
       "    <tr style=\"text-align: right;\">\n",
       "      <th></th>\n",
       "      <th>bins/total</th>\n",
       "      <th>ztilde</th>\n",
       "      <th>eps</th>\n",
       "      <th>a</th>\n",
       "      <th>bus_inc</th>\n",
       "      <th>ys</th>\n",
       "      <th>ks</th>\n",
       "      <th>kappa</th>\n",
       "      <th>ns</th>\n",
       "      <th>hy</th>\n",
       "      <th>hkap</th>\n",
       "      <th>ztilde_meas</th>\n",
       "      <th>zkapphi</th>\n",
       "      <th>ne</th>\n",
       "      <th>measured_markups</th>\n",
       "      <th>pys</th>\n",
       "      <th>wns</th>\n",
       "    </tr>\n",
       "  </thead>\n",
       "  <tbody>\n",
       "    <tr>\n",
       "      <th>0</th>\n",
       "      <td>(-1.0, 0.432]</td>\n",
       "      <td>8.850</td>\n",
       "      <td>-2.819</td>\n",
       "      <td>-3.099</td>\n",
       "      <td>0.006</td>\n",
       "      <td>-0.000</td>\n",
       "      <td>-0.000</td>\n",
       "      <td>-1.817</td>\n",
       "      <td>-0.000</td>\n",
       "      <td>-0.000</td>\n",
       "      <td>-0.037</td>\n",
       "      <td>-3.024</td>\n",
       "      <td>-0.606</td>\n",
       "      <td>-0.008</td>\n",
       "      <td>-120.758</td>\n",
       "      <td>-0.000</td>\n",
       "      <td>-0.000</td>\n",
       "    </tr>\n",
       "    <tr>\n",
       "      <th>1</th>\n",
       "      <td>(0.432, 0.657]</td>\n",
       "      <td>4.143</td>\n",
       "      <td>-2.616</td>\n",
       "      <td>-2.831</td>\n",
       "      <td>0.003</td>\n",
       "      <td>-0.001</td>\n",
       "      <td>-0.001</td>\n",
       "      <td>-1.164</td>\n",
       "      <td>-0.001</td>\n",
       "      <td>-0.002</td>\n",
       "      <td>-0.025</td>\n",
       "      <td>-2.839</td>\n",
       "      <td>-0.770</td>\n",
       "      <td>-0.007</td>\n",
       "      <td>-89.502</td>\n",
       "      <td>-0.001</td>\n",
       "      <td>-0.001</td>\n",
       "    </tr>\n",
       "    <tr>\n",
       "      <th>2</th>\n",
       "      <td>(0.657, 1.0]</td>\n",
       "      <td>-0.000</td>\n",
       "      <td>-2.819</td>\n",
       "      <td>-3.109</td>\n",
       "      <td>-0.042</td>\n",
       "      <td>-0.032</td>\n",
       "      <td>-0.033</td>\n",
       "      <td>-1.877</td>\n",
       "      <td>-0.026</td>\n",
       "      <td>-0.073</td>\n",
       "      <td>-0.038</td>\n",
       "      <td>-3.078</td>\n",
       "      <td>-1.444</td>\n",
       "      <td>-0.066</td>\n",
       "      <td>-26.513</td>\n",
       "      <td>-0.033</td>\n",
       "      <td>-0.026</td>\n",
       "    </tr>\n",
       "    <tr>\n",
       "      <th>3</th>\n",
       "      <td>(1.0, 1.522]</td>\n",
       "      <td>-5.294</td>\n",
       "      <td>-3.455</td>\n",
       "      <td>-3.654</td>\n",
       "      <td>-1.281</td>\n",
       "      <td>-0.874</td>\n",
       "      <td>-0.898</td>\n",
       "      <td>-3.474</td>\n",
       "      <td>-0.748</td>\n",
       "      <td>-1.680</td>\n",
       "      <td>-0.067</td>\n",
       "      <td>-3.683</td>\n",
       "      <td>-3.161</td>\n",
       "      <td>-1.343</td>\n",
       "      <td>54.782</td>\n",
       "      <td>-0.895</td>\n",
       "      <td>-0.750</td>\n",
       "    </tr>\n",
       "    <tr>\n",
       "      <th>4</th>\n",
       "      <td>(1.522, 2.317]</td>\n",
       "      <td>-17.662</td>\n",
       "      <td>-6.121</td>\n",
       "      <td>-6.262</td>\n",
       "      <td>-14.515</td>\n",
       "      <td>-15.005</td>\n",
       "      <td>-15.411</td>\n",
       "      <td>-9.805</td>\n",
       "      <td>-15.953</td>\n",
       "      <td>-12.744</td>\n",
       "      <td>-14.573</td>\n",
       "      <td>-5.420</td>\n",
       "      <td>-9.981</td>\n",
       "      <td>-13.126</td>\n",
       "      <td>77.974</td>\n",
       "      <td>-15.372</td>\n",
       "      <td>-16.003</td>\n",
       "    </tr>\n",
       "    <tr>\n",
       "      <th>5</th>\n",
       "      <td>total</td>\n",
       "      <td>-9.963</td>\n",
       "      <td>-17.830</td>\n",
       "      <td>-18.955</td>\n",
       "      <td>-15.829</td>\n",
       "      <td>-15.912</td>\n",
       "      <td>-16.343</td>\n",
       "      <td>-18.137</td>\n",
       "      <td>-16.727</td>\n",
       "      <td>-14.500</td>\n",
       "      <td>-14.740</td>\n",
       "      <td>-18.044</td>\n",
       "      <td>-15.962</td>\n",
       "      <td>-14.550</td>\n",
       "      <td>-104.018</td>\n",
       "      <td>-16.302</td>\n",
       "      <td>-16.780</td>\n",
       "    </tr>\n",
       "  </tbody>\n",
       "</table>\n",
       "</div>"
      ],
      "text/plain": [
       "       bins/total  ztilde     eps       a  bus_inc      ys      ks   kappa  \\\n",
       "0  (-1.0, 0.432]  8.850   -2.819  -3.099  0.006    -0.000  -0.000  -1.817    \n",
       "1  (0.432, 0.657] 4.143   -2.616  -2.831  0.003    -0.001  -0.001  -1.164    \n",
       "2  (0.657, 1.0]   -0.000  -2.819  -3.109  -0.042   -0.032  -0.033  -1.877    \n",
       "3  (1.0, 1.522]   -5.294  -3.455  -3.654  -1.281   -0.874  -0.898  -3.474    \n",
       "4  (1.522, 2.317] -17.662 -6.121  -6.262  -14.515  -15.005 -15.411 -9.805    \n",
       "5  total          -9.963  -17.830 -18.955 -15.829  -15.912 -16.343 -18.137   \n",
       "\n",
       "       ns      hy    hkap  ztilde_meas  zkapphi      ne  measured_markups  \\\n",
       "0 -0.000  -0.000  -0.037  -3.024       -0.606   -0.008  -120.758            \n",
       "1 -0.001  -0.002  -0.025  -2.839       -0.770   -0.007  -89.502             \n",
       "2 -0.026  -0.073  -0.038  -3.078       -1.444   -0.066  -26.513             \n",
       "3 -0.748  -1.680  -0.067  -3.683       -3.161   -1.343  54.782              \n",
       "4 -15.953 -12.744 -14.573 -5.420       -9.981   -13.126 77.974              \n",
       "5 -16.727 -14.500 -14.740 -18.044      -15.962  -14.550 -104.018            \n",
       "\n",
       "      pys     wns  \n",
       "0 -0.000  -0.000   \n",
       "1 -0.001  -0.001   \n",
       "2 -0.033  -0.026   \n",
       "3 -0.895  -0.750   \n",
       "4 -15.372 -16.003  \n",
       "5 -16.302 -16.780  "
      ]
     },
     "execution_count": 49,
     "metadata": {},
     "output_type": "execute_result"
    }
   ],
   "source": [
    "format_table(extensive_alt,extensive_alt.sum())   "
   ]
  },
  {
   "cell_type": "markdown",
   "metadata": {},
   "source": [
    "##  Decomposition of $\\Delta$ by Owner sweat capital"
   ]
  },
  {
   "cell_type": "code",
   "execution_count": 50,
   "metadata": {},
   "outputs": [
    {
     "name": "stdout",
     "output_type": "stream",
     "text": [
      "\n",
      "SORTED BY kappa\n",
      "BINS = [-inf, 0.0, 0.23, 0.68, 0.83, inf]\n"
     ]
    }
   ],
   "source": [
    "var_bin = 'kappa'\n",
    "num_bins=5\n",
    "tmp, bins_original = pd.qcut(df_baseline[var_bin], q = num_bins, labels=False, retbins = True)\n",
    "df_baseline['bin_' + var_bin] = tmp[:]\n",
    "bins = bins_original.copy()\n",
    "bins[0] = -np.inf\n",
    "bins[-1] = np.inf\n",
    "total,sum_baseline,intensive_alt,extensive_alt=print_results(var_bin,bins,var_list,df_baseline,df_target)\n"
   ]
  },
  {
   "cell_type": "markdown",
   "metadata": {},
   "source": [
    "### Total change"
   ]
  },
  {
   "cell_type": "code",
   "execution_count": 51,
   "metadata": {},
   "outputs": [
    {
     "data": {
      "text/html": [
       "<div>\n",
       "<style scoped>\n",
       "    .dataframe tbody tr th:only-of-type {\n",
       "        vertical-align: middle;\n",
       "    }\n",
       "\n",
       "    .dataframe tbody tr th {\n",
       "        vertical-align: top;\n",
       "    }\n",
       "\n",
       "    .dataframe thead th {\n",
       "        text-align: right;\n",
       "    }\n",
       "</style>\n",
       "<table border=\"1\" class=\"dataframe\">\n",
       "  <thead>\n",
       "    <tr style=\"text-align: right;\">\n",
       "      <th></th>\n",
       "      <th>bins/total</th>\n",
       "      <th>ztilde</th>\n",
       "      <th>eps</th>\n",
       "      <th>a</th>\n",
       "      <th>bus_inc</th>\n",
       "      <th>ys</th>\n",
       "      <th>ks</th>\n",
       "      <th>kappa</th>\n",
       "      <th>ns</th>\n",
       "      <th>hy</th>\n",
       "      <th>hkap</th>\n",
       "      <th>ztilde_meas</th>\n",
       "      <th>zkapphi</th>\n",
       "      <th>ne</th>\n",
       "      <th>measured_markups</th>\n",
       "      <th>pys</th>\n",
       "      <th>wns</th>\n",
       "    </tr>\n",
       "  </thead>\n",
       "  <tbody>\n",
       "    <tr>\n",
       "      <th>0</th>\n",
       "      <td>(-inf, 0.00046]</td>\n",
       "      <td>1.816</td>\n",
       "      <td>-4.289</td>\n",
       "      <td>-3.624</td>\n",
       "      <td>-0.000</td>\n",
       "      <td>-0.000</td>\n",
       "      <td>-0.000</td>\n",
       "      <td>-0.001</td>\n",
       "      <td>-0.000</td>\n",
       "      <td>-0.000</td>\n",
       "      <td>-0.000</td>\n",
       "      <td>-5.611</td>\n",
       "      <td>-0.598</td>\n",
       "      <td>-0.000</td>\n",
       "      <td>-62.443</td>\n",
       "      <td>-0.000</td>\n",
       "      <td>-0.000</td>\n",
       "    </tr>\n",
       "    <tr>\n",
       "      <th>1</th>\n",
       "      <td>(0.00046, 0.226]</td>\n",
       "      <td>0.176</td>\n",
       "      <td>-6.145</td>\n",
       "      <td>-4.805</td>\n",
       "      <td>-0.027</td>\n",
       "      <td>-0.036</td>\n",
       "      <td>-0.033</td>\n",
       "      <td>-0.788</td>\n",
       "      <td>-0.024</td>\n",
       "      <td>-0.098</td>\n",
       "      <td>-0.201</td>\n",
       "      <td>-7.740</td>\n",
       "      <td>-3.366</td>\n",
       "      <td>-0.120</td>\n",
       "      <td>-78.147</td>\n",
       "      <td>-0.033</td>\n",
       "      <td>-0.023</td>\n",
       "    </tr>\n",
       "    <tr>\n",
       "      <th>2</th>\n",
       "      <td>(0.226, 0.68]</td>\n",
       "      <td>-8.890</td>\n",
       "      <td>-10.891</td>\n",
       "      <td>-11.755</td>\n",
       "      <td>-4.783</td>\n",
       "      <td>-5.430</td>\n",
       "      <td>-5.341</td>\n",
       "      <td>-12.235</td>\n",
       "      <td>-5.041</td>\n",
       "      <td>-7.064</td>\n",
       "      <td>-9.372</td>\n",
       "      <td>-11.359</td>\n",
       "      <td>-11.406</td>\n",
       "      <td>-7.546</td>\n",
       "      <td>77.924</td>\n",
       "      <td>-5.350</td>\n",
       "      <td>-5.032</td>\n",
       "    </tr>\n",
       "    <tr>\n",
       "      <th>3</th>\n",
       "      <td>(0.68, 0.828]</td>\n",
       "      <td>-26.279</td>\n",
       "      <td>-12.438</td>\n",
       "      <td>-10.897</td>\n",
       "      <td>-22.721</td>\n",
       "      <td>-23.333</td>\n",
       "      <td>-23.022</td>\n",
       "      <td>-19.537</td>\n",
       "      <td>-22.841</td>\n",
       "      <td>-24.112</td>\n",
       "      <td>-27.651</td>\n",
       "      <td>-10.952</td>\n",
       "      <td>-18.390</td>\n",
       "      <td>-24.852</td>\n",
       "      <td>129.656</td>\n",
       "      <td>-23.052</td>\n",
       "      <td>-22.804</td>\n",
       "    </tr>\n",
       "    <tr>\n",
       "      <th>4</th>\n",
       "      <td>(0.828, inf]</td>\n",
       "      <td>23.213</td>\n",
       "      <td>14.524</td>\n",
       "      <td>20.844</td>\n",
       "      <td>32.567</td>\n",
       "      <td>36.025</td>\n",
       "      <td>40.846</td>\n",
       "      <td>34.528</td>\n",
       "      <td>45.550</td>\n",
       "      <td>18.621</td>\n",
       "      <td>31.968</td>\n",
       "      <td>9.369</td>\n",
       "      <td>20.698</td>\n",
       "      <td>21.410</td>\n",
       "      <td>-63.594</td>\n",
       "      <td>40.383</td>\n",
       "      <td>46.148</td>\n",
       "    </tr>\n",
       "    <tr>\n",
       "      <th>5</th>\n",
       "      <td>total</td>\n",
       "      <td>-9.963</td>\n",
       "      <td>-19.239</td>\n",
       "      <td>-10.237</td>\n",
       "      <td>5.037</td>\n",
       "      <td>7.226</td>\n",
       "      <td>12.451</td>\n",
       "      <td>1.968</td>\n",
       "      <td>17.644</td>\n",
       "      <td>-12.654</td>\n",
       "      <td>-5.256</td>\n",
       "      <td>-26.293</td>\n",
       "      <td>-13.061</td>\n",
       "      <td>-11.108</td>\n",
       "      <td>3.397</td>\n",
       "      <td>11.949</td>\n",
       "      <td>18.288</td>\n",
       "    </tr>\n",
       "  </tbody>\n",
       "</table>\n",
       "</div>"
      ],
      "text/plain": [
       "         bins/total  ztilde     eps       a  bus_inc      ys      ks   kappa  \\\n",
       "0  (-inf, 0.00046]  1.816   -4.289  -3.624  -0.000   -0.000  -0.000  -0.001    \n",
       "1  (0.00046, 0.226] 0.176   -6.145  -4.805  -0.027   -0.036  -0.033  -0.788    \n",
       "2  (0.226, 0.68]    -8.890  -10.891 -11.755 -4.783   -5.430  -5.341  -12.235   \n",
       "3  (0.68, 0.828]    -26.279 -12.438 -10.897 -22.721  -23.333 -23.022 -19.537   \n",
       "4  (0.828, inf]     23.213  14.524  20.844  32.567   36.025  40.846  34.528    \n",
       "5  total            -9.963  -19.239 -10.237 5.037    7.226   12.451  1.968     \n",
       "\n",
       "       ns      hy    hkap  ztilde_meas  zkapphi      ne  measured_markups  \\\n",
       "0 -0.000  -0.000  -0.000  -5.611       -0.598   -0.000  -62.443             \n",
       "1 -0.024  -0.098  -0.201  -7.740       -3.366   -0.120  -78.147             \n",
       "2 -5.041  -7.064  -9.372  -11.359      -11.406  -7.546  77.924              \n",
       "3 -22.841 -24.112 -27.651 -10.952      -18.390  -24.852 129.656             \n",
       "4 45.550  18.621  31.968  9.369        20.698   21.410  -63.594             \n",
       "5 17.644  -12.654 -5.256  -26.293      -13.061  -11.108 3.397               \n",
       "\n",
       "      pys     wns  \n",
       "0 -0.000  -0.000   \n",
       "1 -0.033  -0.023   \n",
       "2 -5.350  -5.032   \n",
       "3 -23.052 -22.804  \n",
       "4 40.383  46.148   \n",
       "5 11.949  18.288   "
      ]
     },
     "execution_count": 51,
     "metadata": {},
     "output_type": "execute_result"
    }
   ],
   "source": [
    "agg= 100*total/sum_baseline.sum()  \n",
    "aggsum=100*total.sum()/sum_baseline.sum()\n",
    "format_table(agg,aggsum)   "
   ]
  },
  {
   "cell_type": "markdown",
   "metadata": {},
   "source": [
    "### Intensive "
   ]
  },
  {
   "cell_type": "code",
   "execution_count": 52,
   "metadata": {},
   "outputs": [
    {
     "data": {
      "text/html": [
       "<div>\n",
       "<style scoped>\n",
       "    .dataframe tbody tr th:only-of-type {\n",
       "        vertical-align: middle;\n",
       "    }\n",
       "\n",
       "    .dataframe tbody tr th {\n",
       "        vertical-align: top;\n",
       "    }\n",
       "\n",
       "    .dataframe thead th {\n",
       "        text-align: right;\n",
       "    }\n",
       "</style>\n",
       "<table border=\"1\" class=\"dataframe\">\n",
       "  <thead>\n",
       "    <tr style=\"text-align: right;\">\n",
       "      <th></th>\n",
       "      <th>bins/total</th>\n",
       "      <th>ztilde</th>\n",
       "      <th>eps</th>\n",
       "      <th>a</th>\n",
       "      <th>bus_inc</th>\n",
       "      <th>ys</th>\n",
       "      <th>ks</th>\n",
       "      <th>kappa</th>\n",
       "      <th>ns</th>\n",
       "      <th>hy</th>\n",
       "      <th>hkap</th>\n",
       "      <th>ztilde_meas</th>\n",
       "      <th>zkapphi</th>\n",
       "      <th>ne</th>\n",
       "      <th>measured_markups</th>\n",
       "      <th>pys</th>\n",
       "      <th>wns</th>\n",
       "    </tr>\n",
       "  </thead>\n",
       "  <tbody>\n",
       "    <tr>\n",
       "      <th>0</th>\n",
       "      <td>(-inf, 0.00046]</td>\n",
       "      <td>1.395</td>\n",
       "      <td>-0.199</td>\n",
       "      <td>0.163</td>\n",
       "      <td>-0.000</td>\n",
       "      <td>-0.000</td>\n",
       "      <td>-0.000</td>\n",
       "      <td>-0.000</td>\n",
       "      <td>-0.000</td>\n",
       "      <td>-0.000</td>\n",
       "      <td>-0.000</td>\n",
       "      <td>-1.389</td>\n",
       "      <td>-0.008</td>\n",
       "      <td>-0.000</td>\n",
       "      <td>11.682</td>\n",
       "      <td>-0.000</td>\n",
       "      <td>-0.000</td>\n",
       "    </tr>\n",
       "    <tr>\n",
       "      <th>1</th>\n",
       "      <td>(0.00046, 0.226]</td>\n",
       "      <td>0.113</td>\n",
       "      <td>-0.280</td>\n",
       "      <td>0.937</td>\n",
       "      <td>0.011</td>\n",
       "      <td>-0.003</td>\n",
       "      <td>0.001</td>\n",
       "      <td>-0.128</td>\n",
       "      <td>0.003</td>\n",
       "      <td>-0.018</td>\n",
       "      <td>-0.092</td>\n",
       "      <td>-1.484</td>\n",
       "      <td>-0.110</td>\n",
       "      <td>-0.034</td>\n",
       "      <td>11.423</td>\n",
       "      <td>0.001</td>\n",
       "      <td>0.003</td>\n",
       "    </tr>\n",
       "    <tr>\n",
       "      <th>2</th>\n",
       "      <td>(0.226, 0.68]</td>\n",
       "      <td>-3.575</td>\n",
       "      <td>-0.628</td>\n",
       "      <td>0.356</td>\n",
       "      <td>-2.237</td>\n",
       "      <td>-2.619</td>\n",
       "      <td>-2.484</td>\n",
       "      <td>-0.842</td>\n",
       "      <td>-2.383</td>\n",
       "      <td>-3.188</td>\n",
       "      <td>-3.658</td>\n",
       "      <td>-1.049</td>\n",
       "      <td>-1.107</td>\n",
       "      <td>-3.286</td>\n",
       "      <td>71.746</td>\n",
       "      <td>-2.497</td>\n",
       "      <td>-2.369</td>\n",
       "    </tr>\n",
       "    <tr>\n",
       "      <th>3</th>\n",
       "      <td>(0.68, 0.828]</td>\n",
       "      <td>-10.197</td>\n",
       "      <td>-0.593</td>\n",
       "      <td>1.941</td>\n",
       "      <td>-11.935</td>\n",
       "      <td>-10.796</td>\n",
       "      <td>-10.282</td>\n",
       "      <td>0.014</td>\n",
       "      <td>-10.218</td>\n",
       "      <td>-10.883</td>\n",
       "      <td>-7.215</td>\n",
       "      <td>-0.525</td>\n",
       "      <td>-3.244</td>\n",
       "      <td>-10.117</td>\n",
       "      <td>39.612</td>\n",
       "      <td>-10.332</td>\n",
       "      <td>-10.158</td>\n",
       "    </tr>\n",
       "    <tr>\n",
       "      <th>4</th>\n",
       "      <td>(0.828, inf]</td>\n",
       "      <td>-11.017</td>\n",
       "      <td>1.572</td>\n",
       "      <td>6.704</td>\n",
       "      <td>-9.642</td>\n",
       "      <td>-5.221</td>\n",
       "      <td>-1.372</td>\n",
       "      <td>5.807</td>\n",
       "      <td>1.985</td>\n",
       "      <td>-16.999</td>\n",
       "      <td>1.350</td>\n",
       "      <td>-1.613</td>\n",
       "      <td>-3.023</td>\n",
       "      <td>-13.165</td>\n",
       "      <td>108.904</td>\n",
       "      <td>-1.742</td>\n",
       "      <td>2.463</td>\n",
       "    </tr>\n",
       "    <tr>\n",
       "      <th>5</th>\n",
       "      <td>total</td>\n",
       "      <td>-23.281</td>\n",
       "      <td>-0.128</td>\n",
       "      <td>10.101</td>\n",
       "      <td>-23.803</td>\n",
       "      <td>-18.639</td>\n",
       "      <td>-14.138</td>\n",
       "      <td>4.851</td>\n",
       "      <td>-10.614</td>\n",
       "      <td>-31.088</td>\n",
       "      <td>-9.616</td>\n",
       "      <td>-6.060</td>\n",
       "      <td>-7.492</td>\n",
       "      <td>-26.601</td>\n",
       "      <td>243.367</td>\n",
       "      <td>-14.570</td>\n",
       "      <td>-10.061</td>\n",
       "    </tr>\n",
       "  </tbody>\n",
       "</table>\n",
       "</div>"
      ],
      "text/plain": [
       "         bins/total  ztilde    eps      a  bus_inc      ys      ks  kappa  \\\n",
       "0  (-inf, 0.00046]  1.395   -0.199 0.163  -0.000   -0.000  -0.000  -0.000   \n",
       "1  (0.00046, 0.226] 0.113   -0.280 0.937  0.011    -0.003  0.001   -0.128   \n",
       "2  (0.226, 0.68]    -3.575  -0.628 0.356  -2.237   -2.619  -2.484  -0.842   \n",
       "3  (0.68, 0.828]    -10.197 -0.593 1.941  -11.935  -10.796 -10.282 0.014    \n",
       "4  (0.828, inf]     -11.017 1.572  6.704  -9.642   -5.221  -1.372  5.807    \n",
       "5  total            -23.281 -0.128 10.101 -23.803  -18.639 -14.138 4.851    \n",
       "\n",
       "       ns      hy   hkap  ztilde_meas  zkapphi      ne  measured_markups  \\\n",
       "0 -0.000  -0.000  -0.000 -1.389       -0.008   -0.000  11.682              \n",
       "1 0.003   -0.018  -0.092 -1.484       -0.110   -0.034  11.423              \n",
       "2 -2.383  -3.188  -3.658 -1.049       -1.107   -3.286  71.746              \n",
       "3 -10.218 -10.883 -7.215 -0.525       -3.244   -10.117 39.612              \n",
       "4 1.985   -16.999 1.350  -1.613       -3.023   -13.165 108.904             \n",
       "5 -10.614 -31.088 -9.616 -6.060       -7.492   -26.601 243.367             \n",
       "\n",
       "      pys     wns  \n",
       "0 -0.000  -0.000   \n",
       "1 0.001   0.003    \n",
       "2 -2.497  -2.369   \n",
       "3 -10.332 -10.158  \n",
       "4 -1.742  2.463    \n",
       "5 -14.570 -10.061  "
      ]
     },
     "execution_count": 52,
     "metadata": {},
     "output_type": "execute_result"
    }
   ],
   "source": [
    "format_table(intensive_alt,intensive_alt.sum())   "
   ]
  },
  {
   "cell_type": "markdown",
   "metadata": {},
   "source": [
    "### Extensive"
   ]
  },
  {
   "cell_type": "code",
   "execution_count": 53,
   "metadata": {},
   "outputs": [
    {
     "data": {
      "text/html": [
       "<div>\n",
       "<style scoped>\n",
       "    .dataframe tbody tr th:only-of-type {\n",
       "        vertical-align: middle;\n",
       "    }\n",
       "\n",
       "    .dataframe tbody tr th {\n",
       "        vertical-align: top;\n",
       "    }\n",
       "\n",
       "    .dataframe thead th {\n",
       "        text-align: right;\n",
       "    }\n",
       "</style>\n",
       "<table border=\"1\" class=\"dataframe\">\n",
       "  <thead>\n",
       "    <tr style=\"text-align: right;\">\n",
       "      <th></th>\n",
       "      <th>bins/total</th>\n",
       "      <th>ztilde</th>\n",
       "      <th>eps</th>\n",
       "      <th>a</th>\n",
       "      <th>bus_inc</th>\n",
       "      <th>ys</th>\n",
       "      <th>ks</th>\n",
       "      <th>kappa</th>\n",
       "      <th>ns</th>\n",
       "      <th>hy</th>\n",
       "      <th>hkap</th>\n",
       "      <th>ztilde_meas</th>\n",
       "      <th>zkapphi</th>\n",
       "      <th>ne</th>\n",
       "      <th>measured_markups</th>\n",
       "      <th>pys</th>\n",
       "      <th>wns</th>\n",
       "    </tr>\n",
       "  </thead>\n",
       "  <tbody>\n",
       "    <tr>\n",
       "      <th>0</th>\n",
       "      <td>(-inf, 0.00046]</td>\n",
       "      <td>0.421</td>\n",
       "      <td>-4.090</td>\n",
       "      <td>-3.787</td>\n",
       "      <td>-0.000</td>\n",
       "      <td>-0.000</td>\n",
       "      <td>-0.000</td>\n",
       "      <td>-0.000</td>\n",
       "      <td>-0.000</td>\n",
       "      <td>-0.000</td>\n",
       "      <td>-0.000</td>\n",
       "      <td>-4.222</td>\n",
       "      <td>-0.590</td>\n",
       "      <td>-0.000</td>\n",
       "      <td>-74.125</td>\n",
       "      <td>-0.000</td>\n",
       "      <td>-0.000</td>\n",
       "    </tr>\n",
       "    <tr>\n",
       "      <th>1</th>\n",
       "      <td>(0.00046, 0.226]</td>\n",
       "      <td>0.064</td>\n",
       "      <td>-5.866</td>\n",
       "      <td>-5.742</td>\n",
       "      <td>-0.037</td>\n",
       "      <td>-0.033</td>\n",
       "      <td>-0.034</td>\n",
       "      <td>-0.660</td>\n",
       "      <td>-0.026</td>\n",
       "      <td>-0.080</td>\n",
       "      <td>-0.109</td>\n",
       "      <td>-6.256</td>\n",
       "      <td>-3.256</td>\n",
       "      <td>-0.086</td>\n",
       "      <td>-89.570</td>\n",
       "      <td>-0.034</td>\n",
       "      <td>-0.027</td>\n",
       "    </tr>\n",
       "    <tr>\n",
       "      <th>2</th>\n",
       "      <td>(0.226, 0.68]</td>\n",
       "      <td>-5.315</td>\n",
       "      <td>-10.263</td>\n",
       "      <td>-12.111</td>\n",
       "      <td>-2.546</td>\n",
       "      <td>-2.811</td>\n",
       "      <td>-2.857</td>\n",
       "      <td>-11.393</td>\n",
       "      <td>-2.658</td>\n",
       "      <td>-3.877</td>\n",
       "      <td>-5.714</td>\n",
       "      <td>-10.310</td>\n",
       "      <td>-10.298</td>\n",
       "      <td>-4.260</td>\n",
       "      <td>6.178</td>\n",
       "      <td>-2.853</td>\n",
       "      <td>-2.663</td>\n",
       "    </tr>\n",
       "    <tr>\n",
       "      <th>3</th>\n",
       "      <td>(0.68, 0.828]</td>\n",
       "      <td>-16.082</td>\n",
       "      <td>-11.845</td>\n",
       "      <td>-12.838</td>\n",
       "      <td>-10.786</td>\n",
       "      <td>-12.537</td>\n",
       "      <td>-12.739</td>\n",
       "      <td>-19.551</td>\n",
       "      <td>-12.623</td>\n",
       "      <td>-13.229</td>\n",
       "      <td>-20.436</td>\n",
       "      <td>-10.427</td>\n",
       "      <td>-15.146</td>\n",
       "      <td>-14.735</td>\n",
       "      <td>90.044</td>\n",
       "      <td>-12.720</td>\n",
       "      <td>-12.646</td>\n",
       "    </tr>\n",
       "    <tr>\n",
       "      <th>4</th>\n",
       "      <td>(0.828, inf]</td>\n",
       "      <td>34.230</td>\n",
       "      <td>12.952</td>\n",
       "      <td>14.140</td>\n",
       "      <td>42.209</td>\n",
       "      <td>41.246</td>\n",
       "      <td>42.219</td>\n",
       "      <td>28.720</td>\n",
       "      <td>43.564</td>\n",
       "      <td>35.620</td>\n",
       "      <td>30.618</td>\n",
       "      <td>10.982</td>\n",
       "      <td>23.721</td>\n",
       "      <td>34.575</td>\n",
       "      <td>-172.498</td>\n",
       "      <td>42.125</td>\n",
       "      <td>43.685</td>\n",
       "    </tr>\n",
       "    <tr>\n",
       "      <th>5</th>\n",
       "      <td>total</td>\n",
       "      <td>13.318</td>\n",
       "      <td>-19.111</td>\n",
       "      <td>-20.339</td>\n",
       "      <td>28.840</td>\n",
       "      <td>25.865</td>\n",
       "      <td>26.588</td>\n",
       "      <td>-2.884</td>\n",
       "      <td>28.258</td>\n",
       "      <td>18.433</td>\n",
       "      <td>4.360</td>\n",
       "      <td>-20.233</td>\n",
       "      <td>-5.569</td>\n",
       "      <td>15.493</td>\n",
       "      <td>-239.970</td>\n",
       "      <td>26.519</td>\n",
       "      <td>28.350</td>\n",
       "    </tr>\n",
       "  </tbody>\n",
       "</table>\n",
       "</div>"
      ],
      "text/plain": [
       "         bins/total  ztilde     eps       a  bus_inc      ys      ks   kappa  \\\n",
       "0  (-inf, 0.00046]  0.421   -4.090  -3.787  -0.000   -0.000  -0.000  -0.000    \n",
       "1  (0.00046, 0.226] 0.064   -5.866  -5.742  -0.037   -0.033  -0.034  -0.660    \n",
       "2  (0.226, 0.68]    -5.315  -10.263 -12.111 -2.546   -2.811  -2.857  -11.393   \n",
       "3  (0.68, 0.828]    -16.082 -11.845 -12.838 -10.786  -12.537 -12.739 -19.551   \n",
       "4  (0.828, inf]     34.230  12.952  14.140  42.209   41.246  42.219  28.720    \n",
       "5  total            13.318  -19.111 -20.339 28.840   25.865  26.588  -2.884    \n",
       "\n",
       "       ns      hy    hkap  ztilde_meas  zkapphi      ne  measured_markups  \\\n",
       "0 -0.000  -0.000  -0.000  -4.222       -0.590   -0.000  -74.125             \n",
       "1 -0.026  -0.080  -0.109  -6.256       -3.256   -0.086  -89.570             \n",
       "2 -2.658  -3.877  -5.714  -10.310      -10.298  -4.260  6.178               \n",
       "3 -12.623 -13.229 -20.436 -10.427      -15.146  -14.735 90.044              \n",
       "4 43.564  35.620  30.618  10.982       23.721   34.575  -172.498            \n",
       "5 28.258  18.433  4.360   -20.233      -5.569   15.493  -239.970            \n",
       "\n",
       "      pys     wns  \n",
       "0 -0.000  -0.000   \n",
       "1 -0.034  -0.027   \n",
       "2 -2.853  -2.663   \n",
       "3 -12.720 -12.646  \n",
       "4 42.125  43.685   \n",
       "5 26.519  28.350   "
      ]
     },
     "execution_count": 53,
     "metadata": {},
     "output_type": "execute_result"
    }
   ],
   "source": [
    "format_table(extensive_alt,extensive_alt.sum())   "
   ]
  },
  {
   "cell_type": "markdown",
   "metadata": {},
   "source": [
    "##   Decomposition of $\\Delta$ by Owner Financial assets"
   ]
  },
  {
   "cell_type": "code",
   "execution_count": 54,
   "metadata": {},
   "outputs": [
    {
     "name": "stdout",
     "output_type": "stream",
     "text": [
      "\n",
      "SORTED BY a\n",
      "BINS = [-inf, 5.41, 9.94, 14.77, 22.52, inf]\n"
     ]
    }
   ],
   "source": [
    "var_bin = 'a'\n",
    "tmp, bins_original = pd.qcut(df_baseline[var_bin], q = num_bins, labels=False, retbins = True)\n",
    "df_baseline['bin_' + var_bin] = tmp[:]\n",
    "bins = bins_original.copy()\n",
    "bins[0] = -np.inf\n",
    "bins[-1] = np.inf\n",
    "total,sum_baseline,intensive_alt,extensive_alt=print_results(var_bin,bins,var_list,df_baseline,df_target)"
   ]
  },
  {
   "cell_type": "markdown",
   "metadata": {},
   "source": [
    "### Total change"
   ]
  },
  {
   "cell_type": "code",
   "execution_count": 55,
   "metadata": {},
   "outputs": [
    {
     "data": {
      "text/html": [
       "<div>\n",
       "<style scoped>\n",
       "    .dataframe tbody tr th:only-of-type {\n",
       "        vertical-align: middle;\n",
       "    }\n",
       "\n",
       "    .dataframe tbody tr th {\n",
       "        vertical-align: top;\n",
       "    }\n",
       "\n",
       "    .dataframe thead th {\n",
       "        text-align: right;\n",
       "    }\n",
       "</style>\n",
       "<table border=\"1\" class=\"dataframe\">\n",
       "  <thead>\n",
       "    <tr style=\"text-align: right;\">\n",
       "      <th></th>\n",
       "      <th>bins/total</th>\n",
       "      <th>ztilde</th>\n",
       "      <th>eps</th>\n",
       "      <th>a</th>\n",
       "      <th>bus_inc</th>\n",
       "      <th>ys</th>\n",
       "      <th>ks</th>\n",
       "      <th>kappa</th>\n",
       "      <th>ns</th>\n",
       "      <th>hy</th>\n",
       "      <th>hkap</th>\n",
       "      <th>ztilde_meas</th>\n",
       "      <th>zkapphi</th>\n",
       "      <th>ne</th>\n",
       "      <th>measured_markups</th>\n",
       "      <th>pys</th>\n",
       "      <th>wns</th>\n",
       "    </tr>\n",
       "  </thead>\n",
       "  <tbody>\n",
       "    <tr>\n",
       "      <th>0</th>\n",
       "      <td>(-inf, 5.412]</td>\n",
       "      <td>-3.382</td>\n",
       "      <td>-4.919</td>\n",
       "      <td>-1.417</td>\n",
       "      <td>-1.004</td>\n",
       "      <td>-1.090</td>\n",
       "      <td>-0.442</td>\n",
       "      <td>-1.989</td>\n",
       "      <td>0.134</td>\n",
       "      <td>-3.616</td>\n",
       "      <td>-4.922</td>\n",
       "      <td>-6.124</td>\n",
       "      <td>-4.069</td>\n",
       "      <td>-3.889</td>\n",
       "      <td>-12.042</td>\n",
       "      <td>-0.504</td>\n",
       "      <td>0.211</td>\n",
       "    </tr>\n",
       "    <tr>\n",
       "      <th>1</th>\n",
       "      <td>(5.412, 9.936]</td>\n",
       "      <td>-4.781</td>\n",
       "      <td>-7.597</td>\n",
       "      <td>-3.944</td>\n",
       "      <td>-4.927</td>\n",
       "      <td>-4.352</td>\n",
       "      <td>-3.545</td>\n",
       "      <td>-4.272</td>\n",
       "      <td>-2.738</td>\n",
       "      <td>-7.515</td>\n",
       "      <td>-5.705</td>\n",
       "      <td>-8.613</td>\n",
       "      <td>-6.395</td>\n",
       "      <td>-7.137</td>\n",
       "      <td>12.037</td>\n",
       "      <td>-3.623</td>\n",
       "      <td>-2.640</td>\n",
       "    </tr>\n",
       "    <tr>\n",
       "      <th>2</th>\n",
       "      <td>(9.936, 14.775]</td>\n",
       "      <td>-3.218</td>\n",
       "      <td>-4.453</td>\n",
       "      <td>-3.485</td>\n",
       "      <td>-0.792</td>\n",
       "      <td>0.124</td>\n",
       "      <td>1.191</td>\n",
       "      <td>-0.742</td>\n",
       "      <td>2.204</td>\n",
       "      <td>-3.771</td>\n",
       "      <td>0.210</td>\n",
       "      <td>-5.807</td>\n",
       "      <td>-3.253</td>\n",
       "      <td>-2.939</td>\n",
       "      <td>5.477</td>\n",
       "      <td>1.088</td>\n",
       "      <td>2.336</td>\n",
       "    </tr>\n",
       "    <tr>\n",
       "      <th>3</th>\n",
       "      <td>(14.775, 22.517]</td>\n",
       "      <td>-0.576</td>\n",
       "      <td>-1.434</td>\n",
       "      <td>-1.788</td>\n",
       "      <td>3.226</td>\n",
       "      <td>3.964</td>\n",
       "      <td>5.318</td>\n",
       "      <td>2.281</td>\n",
       "      <td>6.632</td>\n",
       "      <td>-0.932</td>\n",
       "      <td>2.215</td>\n",
       "      <td>-3.231</td>\n",
       "      <td>-0.850</td>\n",
       "      <td>-0.275</td>\n",
       "      <td>24.947</td>\n",
       "      <td>5.188</td>\n",
       "      <td>6.801</td>\n",
       "    </tr>\n",
       "    <tr>\n",
       "      <th>4</th>\n",
       "      <td>(22.517, inf]</td>\n",
       "      <td>1.993</td>\n",
       "      <td>-0.836</td>\n",
       "      <td>0.395</td>\n",
       "      <td>8.533</td>\n",
       "      <td>8.581</td>\n",
       "      <td>9.929</td>\n",
       "      <td>6.688</td>\n",
       "      <td>11.412</td>\n",
       "      <td>3.180</td>\n",
       "      <td>2.947</td>\n",
       "      <td>-2.519</td>\n",
       "      <td>1.506</td>\n",
       "      <td>3.132</td>\n",
       "      <td>-27.023</td>\n",
       "      <td>9.800</td>\n",
       "      <td>11.581</td>\n",
       "    </tr>\n",
       "    <tr>\n",
       "      <th>5</th>\n",
       "      <td>total</td>\n",
       "      <td>-9.963</td>\n",
       "      <td>-19.239</td>\n",
       "      <td>-10.237</td>\n",
       "      <td>5.037</td>\n",
       "      <td>7.226</td>\n",
       "      <td>12.451</td>\n",
       "      <td>1.968</td>\n",
       "      <td>17.644</td>\n",
       "      <td>-12.654</td>\n",
       "      <td>-5.256</td>\n",
       "      <td>-26.293</td>\n",
       "      <td>-13.061</td>\n",
       "      <td>-11.108</td>\n",
       "      <td>3.397</td>\n",
       "      <td>11.949</td>\n",
       "      <td>18.288</td>\n",
       "    </tr>\n",
       "  </tbody>\n",
       "</table>\n",
       "</div>"
      ],
      "text/plain": [
       "         bins/total  ztilde     eps       a  bus_inc     ys     ks  kappa  \\\n",
       "0  (-inf, 5.412]    -3.382  -4.919  -1.417  -1.004   -1.090 -0.442 -1.989   \n",
       "1  (5.412, 9.936]   -4.781  -7.597  -3.944  -4.927   -4.352 -3.545 -4.272   \n",
       "2  (9.936, 14.775]  -3.218  -4.453  -3.485  -0.792   0.124  1.191  -0.742   \n",
       "3  (14.775, 22.517] -0.576  -1.434  -1.788  3.226    3.964  5.318  2.281    \n",
       "4  (22.517, inf]    1.993   -0.836  0.395   8.533    8.581  9.929  6.688    \n",
       "5  total            -9.963  -19.239 -10.237 5.037    7.226  12.451 1.968    \n",
       "\n",
       "      ns      hy   hkap  ztilde_meas  zkapphi      ne  measured_markups  \\\n",
       "0 0.134  -3.616  -4.922 -6.124       -4.069   -3.889  -12.042             \n",
       "1 -2.738 -7.515  -5.705 -8.613       -6.395   -7.137  12.037              \n",
       "2 2.204  -3.771  0.210  -5.807       -3.253   -2.939  5.477               \n",
       "3 6.632  -0.932  2.215  -3.231       -0.850   -0.275  24.947              \n",
       "4 11.412 3.180   2.947  -2.519       1.506    3.132   -27.023             \n",
       "5 17.644 -12.654 -5.256 -26.293      -13.061  -11.108 3.397               \n",
       "\n",
       "     pys    wns  \n",
       "0 -0.504 0.211   \n",
       "1 -3.623 -2.640  \n",
       "2 1.088  2.336   \n",
       "3 5.188  6.801   \n",
       "4 9.800  11.581  \n",
       "5 11.949 18.288  "
      ]
     },
     "execution_count": 55,
     "metadata": {},
     "output_type": "execute_result"
    }
   ],
   "source": [
    "agg= 100*total/sum_baseline.sum()  \n",
    "aggsum=100*total.sum()/sum_baseline.sum()   \n",
    "format_table(agg,aggsum)   "
   ]
  },
  {
   "cell_type": "markdown",
   "metadata": {},
   "source": [
    "### Intensive "
   ]
  },
  {
   "cell_type": "code",
   "execution_count": 56,
   "metadata": {},
   "outputs": [
    {
     "data": {
      "text/html": [
       "<div>\n",
       "<style scoped>\n",
       "    .dataframe tbody tr th:only-of-type {\n",
       "        vertical-align: middle;\n",
       "    }\n",
       "\n",
       "    .dataframe tbody tr th {\n",
       "        vertical-align: top;\n",
       "    }\n",
       "\n",
       "    .dataframe thead th {\n",
       "        text-align: right;\n",
       "    }\n",
       "</style>\n",
       "<table border=\"1\" class=\"dataframe\">\n",
       "  <thead>\n",
       "    <tr style=\"text-align: right;\">\n",
       "      <th></th>\n",
       "      <th>bins/total</th>\n",
       "      <th>ztilde</th>\n",
       "      <th>eps</th>\n",
       "      <th>a</th>\n",
       "      <th>bus_inc</th>\n",
       "      <th>ys</th>\n",
       "      <th>ks</th>\n",
       "      <th>kappa</th>\n",
       "      <th>ns</th>\n",
       "      <th>hy</th>\n",
       "      <th>hkap</th>\n",
       "      <th>ztilde_meas</th>\n",
       "      <th>zkapphi</th>\n",
       "      <th>ne</th>\n",
       "      <th>measured_markups</th>\n",
       "      <th>pys</th>\n",
       "      <th>wns</th>\n",
       "    </tr>\n",
       "  </thead>\n",
       "  <tbody>\n",
       "    <tr>\n",
       "      <th>0</th>\n",
       "      <td>(-inf, 5.412]</td>\n",
       "      <td>0.959</td>\n",
       "      <td>-0.787</td>\n",
       "      <td>-0.600</td>\n",
       "      <td>1.911</td>\n",
       "      <td>2.400</td>\n",
       "      <td>3.139</td>\n",
       "      <td>1.920</td>\n",
       "      <td>3.690</td>\n",
       "      <td>0.059</td>\n",
       "      <td>1.581</td>\n",
       "      <td>-1.292</td>\n",
       "      <td>-0.104</td>\n",
       "      <td>0.377</td>\n",
       "      <td>9.710</td>\n",
       "      <td>3.068</td>\n",
       "      <td>3.778</td>\n",
       "    </tr>\n",
       "    <tr>\n",
       "      <th>1</th>\n",
       "      <td>(5.412, 9.936]</td>\n",
       "      <td>3.028</td>\n",
       "      <td>-0.474</td>\n",
       "      <td>0.046</td>\n",
       "      <td>3.530</td>\n",
       "      <td>4.188</td>\n",
       "      <td>5.226</td>\n",
       "      <td>3.706</td>\n",
       "      <td>6.187</td>\n",
       "      <td>0.420</td>\n",
       "      <td>2.647</td>\n",
       "      <td>-1.507</td>\n",
       "      <td>1.057</td>\n",
       "      <td>0.886</td>\n",
       "      <td>19.390</td>\n",
       "      <td>5.126</td>\n",
       "      <td>6.314</td>\n",
       "    </tr>\n",
       "    <tr>\n",
       "      <th>2</th>\n",
       "      <td>(9.936, 14.775]</td>\n",
       "      <td>1.258</td>\n",
       "      <td>-0.231</td>\n",
       "      <td>0.188</td>\n",
       "      <td>4.415</td>\n",
       "      <td>5.330</td>\n",
       "      <td>6.539</td>\n",
       "      <td>4.090</td>\n",
       "      <td>7.685</td>\n",
       "      <td>0.901</td>\n",
       "      <td>4.799</td>\n",
       "      <td>-1.637</td>\n",
       "      <td>1.189</td>\n",
       "      <td>1.715</td>\n",
       "      <td>8.204</td>\n",
       "      <td>6.423</td>\n",
       "      <td>7.834</td>\n",
       "    </tr>\n",
       "    <tr>\n",
       "      <th>3</th>\n",
       "      <td>(14.775, 22.517]</td>\n",
       "      <td>1.027</td>\n",
       "      <td>0.058</td>\n",
       "      <td>0.128</td>\n",
       "      <td>5.259</td>\n",
       "      <td>5.951</td>\n",
       "      <td>7.359</td>\n",
       "      <td>4.150</td>\n",
       "      <td>8.743</td>\n",
       "      <td>0.776</td>\n",
       "      <td>3.649</td>\n",
       "      <td>-1.767</td>\n",
       "      <td>0.771</td>\n",
       "      <td>1.376</td>\n",
       "      <td>23.771</td>\n",
       "      <td>7.223</td>\n",
       "      <td>8.918</td>\n",
       "    </tr>\n",
       "    <tr>\n",
       "      <th>4</th>\n",
       "      <td>(22.517, inf]</td>\n",
       "      <td>2.759</td>\n",
       "      <td>-0.083</td>\n",
       "      <td>1.957</td>\n",
       "      <td>9.429</td>\n",
       "      <td>9.453</td>\n",
       "      <td>10.827</td>\n",
       "      <td>7.557</td>\n",
       "      <td>12.352</td>\n",
       "      <td>3.890</td>\n",
       "      <td>3.507</td>\n",
       "      <td>-1.916</td>\n",
       "      <td>2.286</td>\n",
       "      <td>3.810</td>\n",
       "      <td>-26.831</td>\n",
       "      <td>10.695</td>\n",
       "      <td>12.524</td>\n",
       "    </tr>\n",
       "    <tr>\n",
       "      <th>5</th>\n",
       "      <td>total</td>\n",
       "      <td>9.031</td>\n",
       "      <td>-1.517</td>\n",
       "      <td>1.719</td>\n",
       "      <td>24.544</td>\n",
       "      <td>27.321</td>\n",
       "      <td>33.090</td>\n",
       "      <td>21.422</td>\n",
       "      <td>38.657</td>\n",
       "      <td>6.046</td>\n",
       "      <td>16.183</td>\n",
       "      <td>-8.119</td>\n",
       "      <td>5.199</td>\n",
       "      <td>8.164</td>\n",
       "      <td>34.244</td>\n",
       "      <td>32.536</td>\n",
       "      <td>39.368</td>\n",
       "    </tr>\n",
       "  </tbody>\n",
       "</table>\n",
       "</div>"
      ],
      "text/plain": [
       "         bins/total  ztilde    eps      a  bus_inc     ys     ks  kappa  \\\n",
       "0  (-inf, 5.412]    0.959   -0.787 -0.600 1.911    2.400  3.139  1.920    \n",
       "1  (5.412, 9.936]   3.028   -0.474 0.046  3.530    4.188  5.226  3.706    \n",
       "2  (9.936, 14.775]  1.258   -0.231 0.188  4.415    5.330  6.539  4.090    \n",
       "3  (14.775, 22.517] 1.027   0.058  0.128  5.259    5.951  7.359  4.150    \n",
       "4  (22.517, inf]    2.759   -0.083 1.957  9.429    9.453  10.827 7.557    \n",
       "5  total            9.031   -1.517 1.719  24.544   27.321 33.090 21.422   \n",
       "\n",
       "      ns    hy   hkap  ztilde_meas  zkapphi    ne  measured_markups    pys  \\\n",
       "0 3.690  0.059 1.581  -1.292       -0.104   0.377 9.710             3.068    \n",
       "1 6.187  0.420 2.647  -1.507       1.057    0.886 19.390            5.126    \n",
       "2 7.685  0.901 4.799  -1.637       1.189    1.715 8.204             6.423    \n",
       "3 8.743  0.776 3.649  -1.767       0.771    1.376 23.771            7.223    \n",
       "4 12.352 3.890 3.507  -1.916       2.286    3.810 -26.831           10.695   \n",
       "5 38.657 6.046 16.183 -8.119       5.199    8.164 34.244            32.536   \n",
       "\n",
       "     wns  \n",
       "0 3.778   \n",
       "1 6.314   \n",
       "2 7.834   \n",
       "3 8.918   \n",
       "4 12.524  \n",
       "5 39.368  "
      ]
     },
     "execution_count": 56,
     "metadata": {},
     "output_type": "execute_result"
    }
   ],
   "source": [
    "format_table(intensive_alt,intensive_alt.sum())   "
   ]
  },
  {
   "cell_type": "markdown",
   "metadata": {},
   "source": [
    "### Extensive"
   ]
  },
  {
   "cell_type": "code",
   "execution_count": 57,
   "metadata": {},
   "outputs": [
    {
     "data": {
      "text/html": [
       "<div>\n",
       "<style scoped>\n",
       "    .dataframe tbody tr th:only-of-type {\n",
       "        vertical-align: middle;\n",
       "    }\n",
       "\n",
       "    .dataframe tbody tr th {\n",
       "        vertical-align: top;\n",
       "    }\n",
       "\n",
       "    .dataframe thead th {\n",
       "        text-align: right;\n",
       "    }\n",
       "</style>\n",
       "<table border=\"1\" class=\"dataframe\">\n",
       "  <thead>\n",
       "    <tr style=\"text-align: right;\">\n",
       "      <th></th>\n",
       "      <th>bins/total</th>\n",
       "      <th>ztilde</th>\n",
       "      <th>eps</th>\n",
       "      <th>a</th>\n",
       "      <th>bus_inc</th>\n",
       "      <th>ys</th>\n",
       "      <th>ks</th>\n",
       "      <th>kappa</th>\n",
       "      <th>ns</th>\n",
       "      <th>hy</th>\n",
       "      <th>hkap</th>\n",
       "      <th>ztilde_meas</th>\n",
       "      <th>zkapphi</th>\n",
       "      <th>ne</th>\n",
       "      <th>measured_markups</th>\n",
       "      <th>pys</th>\n",
       "      <th>wns</th>\n",
       "    </tr>\n",
       "  </thead>\n",
       "  <tbody>\n",
       "    <tr>\n",
       "      <th>0</th>\n",
       "      <td>(-inf, 5.412]</td>\n",
       "      <td>-4.341</td>\n",
       "      <td>-4.132</td>\n",
       "      <td>-0.817</td>\n",
       "      <td>-2.915</td>\n",
       "      <td>-3.489</td>\n",
       "      <td>-3.582</td>\n",
       "      <td>-3.909</td>\n",
       "      <td>-3.556</td>\n",
       "      <td>-3.675</td>\n",
       "      <td>-6.503</td>\n",
       "      <td>-4.832</td>\n",
       "      <td>-3.965</td>\n",
       "      <td>-4.266</td>\n",
       "      <td>-21.752</td>\n",
       "      <td>-3.573</td>\n",
       "      <td>-3.567</td>\n",
       "    </tr>\n",
       "    <tr>\n",
       "      <th>1</th>\n",
       "      <td>(5.412, 9.936]</td>\n",
       "      <td>-7.809</td>\n",
       "      <td>-7.123</td>\n",
       "      <td>-3.989</td>\n",
       "      <td>-8.456</td>\n",
       "      <td>-8.540</td>\n",
       "      <td>-8.771</td>\n",
       "      <td>-7.977</td>\n",
       "      <td>-8.926</td>\n",
       "      <td>-7.936</td>\n",
       "      <td>-8.353</td>\n",
       "      <td>-7.106</td>\n",
       "      <td>-7.453</td>\n",
       "      <td>-8.023</td>\n",
       "      <td>-7.353</td>\n",
       "      <td>-8.749</td>\n",
       "      <td>-8.954</td>\n",
       "    </tr>\n",
       "    <tr>\n",
       "      <th>2</th>\n",
       "      <td>(9.936, 14.775]</td>\n",
       "      <td>-4.476</td>\n",
       "      <td>-4.222</td>\n",
       "      <td>-3.673</td>\n",
       "      <td>-5.207</td>\n",
       "      <td>-5.206</td>\n",
       "      <td>-5.348</td>\n",
       "      <td>-4.832</td>\n",
       "      <td>-5.481</td>\n",
       "      <td>-4.672</td>\n",
       "      <td>-4.589</td>\n",
       "      <td>-4.170</td>\n",
       "      <td>-4.442</td>\n",
       "      <td>-4.654</td>\n",
       "      <td>-2.727</td>\n",
       "      <td>-5.335</td>\n",
       "      <td>-5.499</td>\n",
       "    </tr>\n",
       "    <tr>\n",
       "      <th>3</th>\n",
       "      <td>(14.775, 22.517]</td>\n",
       "      <td>-1.603</td>\n",
       "      <td>-1.491</td>\n",
       "      <td>-1.915</td>\n",
       "      <td>-2.033</td>\n",
       "      <td>-1.987</td>\n",
       "      <td>-2.041</td>\n",
       "      <td>-1.868</td>\n",
       "      <td>-2.111</td>\n",
       "      <td>-1.708</td>\n",
       "      <td>-1.434</td>\n",
       "      <td>-1.464</td>\n",
       "      <td>-1.621</td>\n",
       "      <td>-1.651</td>\n",
       "      <td>1.176</td>\n",
       "      <td>-2.035</td>\n",
       "      <td>-2.117</td>\n",
       "    </tr>\n",
       "    <tr>\n",
       "      <th>4</th>\n",
       "      <td>(22.517, inf]</td>\n",
       "      <td>-0.766</td>\n",
       "      <td>-0.753</td>\n",
       "      <td>-1.562</td>\n",
       "      <td>-0.896</td>\n",
       "      <td>-0.873</td>\n",
       "      <td>-0.898</td>\n",
       "      <td>-0.868</td>\n",
       "      <td>-0.940</td>\n",
       "      <td>-0.709</td>\n",
       "      <td>-0.560</td>\n",
       "      <td>-0.602</td>\n",
       "      <td>-0.780</td>\n",
       "      <td>-0.678</td>\n",
       "      <td>-0.192</td>\n",
       "      <td>-0.896</td>\n",
       "      <td>-0.943</td>\n",
       "    </tr>\n",
       "    <tr>\n",
       "      <th>5</th>\n",
       "      <td>total</td>\n",
       "      <td>-18.995</td>\n",
       "      <td>-17.722</td>\n",
       "      <td>-11.956</td>\n",
       "      <td>-19.507</td>\n",
       "      <td>-20.095</td>\n",
       "      <td>-20.640</td>\n",
       "      <td>-19.454</td>\n",
       "      <td>-21.013</td>\n",
       "      <td>-18.700</td>\n",
       "      <td>-21.439</td>\n",
       "      <td>-18.174</td>\n",
       "      <td>-18.260</td>\n",
       "      <td>-19.272</td>\n",
       "      <td>-30.848</td>\n",
       "      <td>-20.587</td>\n",
       "      <td>-21.080</td>\n",
       "    </tr>\n",
       "  </tbody>\n",
       "</table>\n",
       "</div>"
      ],
      "text/plain": [
       "         bins/total  ztilde     eps       a  bus_inc      ys      ks   kappa  \\\n",
       "0  (-inf, 5.412]    -4.341  -4.132  -0.817  -2.915   -3.489  -3.582  -3.909    \n",
       "1  (5.412, 9.936]   -7.809  -7.123  -3.989  -8.456   -8.540  -8.771  -7.977    \n",
       "2  (9.936, 14.775]  -4.476  -4.222  -3.673  -5.207   -5.206  -5.348  -4.832    \n",
       "3  (14.775, 22.517] -1.603  -1.491  -1.915  -2.033   -1.987  -2.041  -1.868    \n",
       "4  (22.517, inf]    -0.766  -0.753  -1.562  -0.896   -0.873  -0.898  -0.868    \n",
       "5  total            -18.995 -17.722 -11.956 -19.507  -20.095 -20.640 -19.454   \n",
       "\n",
       "       ns      hy    hkap  ztilde_meas  zkapphi      ne  measured_markups  \\\n",
       "0 -3.556  -3.675  -6.503  -4.832       -3.965   -4.266  -21.752             \n",
       "1 -8.926  -7.936  -8.353  -7.106       -7.453   -8.023  -7.353              \n",
       "2 -5.481  -4.672  -4.589  -4.170       -4.442   -4.654  -2.727              \n",
       "3 -2.111  -1.708  -1.434  -1.464       -1.621   -1.651  1.176               \n",
       "4 -0.940  -0.709  -0.560  -0.602       -0.780   -0.678  -0.192              \n",
       "5 -21.013 -18.700 -21.439 -18.174      -18.260  -19.272 -30.848             \n",
       "\n",
       "      pys     wns  \n",
       "0 -3.573  -3.567   \n",
       "1 -8.749  -8.954   \n",
       "2 -5.335  -5.499   \n",
       "3 -2.035  -2.117   \n",
       "4 -0.896  -0.943   \n",
       "5 -20.587 -21.080  "
      ]
     },
     "execution_count": 57,
     "metadata": {},
     "output_type": "execute_result"
    }
   ],
   "source": [
    "format_table(extensive_alt,extensive_alt.sum())   "
   ]
  },
  {
   "cell_type": "markdown",
   "metadata": {},
   "source": [
    "## Short-run Elasticities"
   ]
  },
  {
   "cell_type": "markdown",
   "metadata": {},
   "source": [
    "## Concept\n",
    "Our goal is to approximate short-run elaticities by comparing  similar agents across different levels of taxes. For this we use the optimal policies in the two economies and simulate paths for a buch of agents fixing their initial conditions and the sequence of exogenous shocks. \n",
    "\n",
    "### Implementation\n",
    "Let $\\Theta$ be the vector of parameters including tax rates and market clearing prices. Let $s^1=(a,\\kappa)$ be the vector of endogenous  state variables for an individual,;  $s^2=(\\epsilon,z,age)$ be the vector of shocks. Functions $\\mathcal{F}^x(s; \\Theta)$ be the optimal policies for choice variable $x$ and $\\mathcal{S}^1(s;\\Theta)$ the law of motion for the endogenous states under the optimal policies. We denote the ergodic distribution associated with optimal policies using $\\mu(s,\\Theta)$. We use $\\Theta^*$ for the benchmark calibrated to US policies and $\\Theta^{\\prime}$ to denote the counterfactual economy with alternative taxes.\n",
    "\n",
    "\n",
    "* We draw agents from the ergodic distribution, that is, a collection of $\\{s_{i,0}\\}_i$ from $\\mu(s,\\Theta)$. \n",
    "* We draw a sequence of exogenous shocks $\\{s^{2}_{i,t}\\}_i,t$\n",
    "* We use $\\mathcal{F}^x(s; \\Theta^{\\prime})$ and $\\mathcal{S}^1(s;\\Theta^{\\prime})$ to generate a panel for $x^{\\prime}_{i,t}$ \n",
    "$$ x^{\\prime}_{i,1}= \\mathcal{F}^x(s_{i,0}; \\Theta^{\\prime}) $$\n",
    "$$ x_{i,2}= \\mathcal{F}^x(\\mathcal{S}^1(s^{\\prime}_{i,1};\\Theta^{\\prime}),s_{2,i}; \\Theta^{\\prime})$$\n",
    "and so on\n",
    "*  We use $\\mathcal{F}^x(s; \\Theta^{*})$ and $\\mathcal{S}^1(s;\\Theta^{*})$ to generate a panel for $x^{*}_{i,t}$ \n",
    "* For a group $G$, we compute $\\Delta^{x}_{G,t}\\left(\\Theta^*,\\Theta^{\\prime}\\right)= \\frac{\\sum_{i\\in G} x^{\\prime}_{i,t} - \\sum_{i\\in G} x^{*}_{i,t}}{ \\sum_{i\\in G} x^{*}_{i,t}} $\n",
    "\n",
    "## Application\n",
    "We now compute $\\Delta^{G,x}_{i,t}$ for $x=\\{h_y+h_{\\kappa},n_s+h_y+h_{\\kappa}\\} and for $G=\\{all, by $z$\\}$ "
   ]
  },
  {
   "cell_type": "code",
   "execution_count": 58,
   "metadata": {},
   "outputs": [],
   "source": [
    "T0=0\n",
    "TN=10\n",
    "e1 = import_econ(pathtosiminitbase)\n",
    "e2 = import_econ(pathtosiminittarget)\n",
    "\n",
    "base_tot_hrs=e1.data_hy+e1.data_ns+e1.data_hkap\n",
    "tax_tot_hrs=e2.data_hy+e2.data_ns+e2.data_hkap\n",
    "base_e_hrs=e1.data_hy+e1.data_hkap\n",
    "tax_e_hrs=e2.data_hy+e2.data_hkap\n",
    "\n",
    "\n",
    "data_baseline=[]\n",
    "data_target=[]\n",
    "data=[]\n",
    "for t in range (T0,TN):\n",
    "    data=np.vstack( (e1.data_hy[:,t],\n",
    "                     e1.data_hkap[:,t],\n",
    "                     e1.data_is_c[:,t],\n",
    "                     e1.is_to_iz[e1.data_i_s[:,t]],\n",
    "                     base_tot_hrs[:,t], \n",
    "                     e1.data_ns[:,t],\n",
    "                     e1.data_a[:,t],\n",
    "                     e1.data_kap[:,t],\n",
    "                     base_e_hrs[:,t],\n",
    "                     e1.data_n[:,1]\n",
    "\n",
    "                    )  \n",
    "                  )\n",
    "    coldata=['hy','hkap','flagC','z','totalhrs','ns','a','kappa','ent_hrs','emp_hrs']\n",
    "    data=data.T\n",
    "    data_baseline.append( pd.DataFrame( data ,columns=coldata))\n",
    "    data_baseline[t].flagC=data_baseline[t].flagC.astype('bool')    \n",
    "    data_baseline[t]['flagS']=~data_baseline[t].flagC.astype('bool')\n",
    "\n",
    "    data=np.vstack( (e2.data_hy[:,t],\n",
    "                     e2.data_hkap[:,t],\n",
    "                     e2.data_is_c[:,t],\n",
    "                     e2.is_to_iz[e2.data_i_s[:,t]], \n",
    "                     tax_tot_hrs[:,t],\n",
    "                     e2.data_ns[:,t],\n",
    "                     e2.data_a[:,t],\n",
    "                     e2.data_kap[:,t],\n",
    "                     tax_e_hrs[:,t],    \n",
    "                     e2.data_n[:,t]\n",
    "                    )  \n",
    "                  )\n",
    "    data=data.T\n",
    "    data_target.append( pd.DataFrame( data ,columns=coldata))\n",
    "    data_target[t].flagC=data_target[t].flagC.astype('bool')\n",
    "    data_target[t]['flagS']=~data_target[t].flagC.astype('bool')\n",
    "   "
   ]
  },
  {
   "cell_type": "markdown",
   "metadata": {},
   "source": [
    "### Total hours in business: $n_s+h_y+h_{\\kappa}$"
   ]
  },
  {
   "cell_type": "markdown",
   "metadata": {},
   "source": [
    "All business owners"
   ]
  },
  {
   "cell_type": "code",
   "execution_count": 59,
   "metadata": {},
   "outputs": [
    {
     "data": {
      "text/plain": [
       "[<matplotlib.lines.Line2D at 0x7f9de5fc5eb8>]"
      ]
     },
     "execution_count": 59,
     "metadata": {},
     "output_type": "execute_result"
    },
    {
     "name": "stdout",
     "output_type": "stream",
     "text": [
      "   Delta_all\n",
      "0 nan       \n",
      "1 0.076     \n",
      "2 0.090     \n",
      "3 0.082     \n",
      "4 0.075     \n",
      "5 0.070     \n",
      "6 0.061     \n",
      "7 0.058     \n",
      "8 0.053     \n",
      "9 0.048     \n"
     ]
    },
    {
     "data": {
      "image/png": "[encoded data removed]",
      "text/plain": [
       "<Figure size 432x288 with 1 Axes>"
      ]
     },
     "metadata": {
      "needs_background": "light"
     },
     "output_type": "display_data"
    }
   ],
   "source": [
    "data_e1=[data_baseline[t].totalhrs.sum() for t in range(T0,TN)]\n",
    "data_e2=[data_target[t].totalhrs.sum() for t in range(T0,TN)]\n",
    "Delta=np.array(data_e2)/np.array(data_e1)-1\n",
    "plt.plot(Delta)\n",
    "print(pd.DataFrame(Delta,columns=['Delta_all']))"
   ]
  },
  {
   "cell_type": "markdown",
   "metadata": {},
   "source": [
    "Grouped by $z$"
   ]
  },
  {
   "cell_type": "code",
   "execution_count": 60,
   "metadata": {},
   "outputs": [
    {
     "data": {
      "text/plain": [
       "[<matplotlib.lines.Line2D at 0x7f9ef7e3d240>]"
      ]
     },
     "execution_count": 60,
     "metadata": {},
     "output_type": "execute_result"
    },
    {
     "data": {
      "text/plain": [
       "[<matplotlib.lines.Line2D at 0x7f9ef7dcf748>]"
      ]
     },
     "execution_count": 60,
     "metadata": {},
     "output_type": "execute_result"
    },
    {
     "data": {
      "text/plain": [
       "[<matplotlib.lines.Line2D at 0x7f9ef7dcf320>]"
      ]
     },
     "execution_count": 60,
     "metadata": {},
     "output_type": "execute_result"
    },
    {
     "data": {
      "text/plain": [
       "[<matplotlib.lines.Line2D at 0x7f9ef7e1c4a8>]"
      ]
     },
     "execution_count": 60,
     "metadata": {},
     "output_type": "execute_result"
    },
    {
     "data": {
      "text/plain": [
       "[<matplotlib.lines.Line2D at 0x7f9ef7dcfa58>]"
      ]
     },
     "execution_count": 60,
     "metadata": {},
     "output_type": "execute_result"
    },
    {
     "data": {
      "text/plain": [
       "<matplotlib.legend.Legend at 0x7f9ef7dcf2b0>"
      ]
     },
     "execution_count": 60,
     "metadata": {},
     "output_type": "execute_result"
    },
    {
     "name": "stdout",
     "output_type": "stream",
     "text": [
      "        0      1      2      3      4      5      6      7      8      9\n",
      "0.000 nan -0.244 -0.204 -0.158 -0.127 -0.092 -0.088 -0.068 -0.045 -0.054\n",
      "1.000 nan -0.223 -0.223 -0.223 -0.206 -0.157 -0.141 -0.157 -0.110 -0.079\n",
      "2.000 nan -0.221 -0.190 -0.183 -0.156 -0.124 -0.139 -0.111 -0.115 -0.100\n",
      "3.000 nan -0.038 -0.033 -0.044 -0.044 -0.048 -0.033 -0.036 -0.039 -0.036\n",
      "4.000 nan 0.083  0.098  0.090  0.082  0.076  0.067  0.064  0.058  0.053 \n"
     ]
    },
    {
     "data": {
      "image/png": "[encoded data removed]",
      "text/plain": [
       "<Figure size 432x288 with 1 Axes>"
      ]
     },
     "metadata": {
      "needs_background": "light"
     },
     "output_type": "display_data"
    }
   ],
   "source": [
    "\n",
    "Delta=[]\n",
    "fig, ax = plt.subplots()\n",
    "for zval in np.sort(data_baseline[0].z.unique()):\n",
    "    sel_baseline=[data_baseline[t].z==zval for t in range(T0,TN)]\n",
    "    sel_target=[data_target[t].z==zval for t in range(T0,TN)]\n",
    "    data_e1=[data_baseline[t][sel_baseline[t]].totalhrs.sum() for t in range(T0,TN)]\n",
    "    data_e2=[data_target[t][sel_target[t]].totalhrs.sum() for t in range(T0,TN)]\n",
    "    temp=np.array(data_e2)/np.array(data_e1)-1\n",
    "    Delta.append(temp)\n",
    "    ax.plot(temp)\n",
    "    \n",
    "ax.legend(np.sort(data_baseline[0].z.unique()))\n",
    "Delta_by_z=pd.DataFrame(Delta,index=np.sort(data_baseline[0].z.unique()))    \n",
    "print(Delta_by_z)"
   ]
  },
  {
   "cell_type": "markdown",
   "metadata": {},
   "source": [
    "### Total hours by entreprenurs : $h_y+h_{\\kappa}$"
   ]
  },
  {
   "cell_type": "markdown",
   "metadata": {},
   "source": [
    "All business owners"
   ]
  },
  {
   "cell_type": "code",
   "execution_count": 61,
   "metadata": {},
   "outputs": [
    {
     "data": {
      "text/plain": [
       "[<matplotlib.lines.Line2D at 0x7f9ecdcd0400>]"
      ]
     },
     "execution_count": 61,
     "metadata": {},
     "output_type": "execute_result"
    },
    {
     "name": "stdout",
     "output_type": "stream",
     "text": [
      "   Delta_all\n",
      "0 nan       \n",
      "1 -0.024    \n",
      "2 -0.045    \n",
      "3 -0.062    \n",
      "4 -0.072    \n",
      "5 -0.082    \n",
      "6 -0.089    \n",
      "7 -0.094    \n",
      "8 -0.098    \n",
      "9 -0.100    \n"
     ]
    },
    {
     "data": {
      "image/png": "[encoded data removed]",
      "text/plain": [
       "<Figure size 432x288 with 1 Axes>"
      ]
     },
     "metadata": {
      "needs_background": "light"
     },
     "output_type": "display_data"
    }
   ],
   "source": [
    "data_e1=[data_baseline[t].ent_hrs.sum() for t in range(T0,TN)]\n",
    "data_e2=[data_target[t].ent_hrs.sum() for t in range(T0,TN)]\n",
    "Delta=np.array(data_e2)/np.array(data_e1)-1\n",
    "plt.plot(Delta)\n",
    "print(pd.DataFrame(Delta,columns=['Delta_all']))"
   ]
  },
  {
   "cell_type": "markdown",
   "metadata": {},
   "source": [
    "Grouped by $z$"
   ]
  },
  {
   "cell_type": "code",
   "execution_count": 62,
   "metadata": {},
   "outputs": [
    {
     "data": {
      "text/plain": [
       "[<matplotlib.lines.Line2D at 0x7f9ef7d61128>]"
      ]
     },
     "execution_count": 62,
     "metadata": {},
     "output_type": "execute_result"
    },
    {
     "data": {
      "text/plain": [
       "[<matplotlib.lines.Line2D at 0x7f9ef7dcff28>]"
      ]
     },
     "execution_count": 62,
     "metadata": {},
     "output_type": "execute_result"
    },
    {
     "data": {
      "text/plain": [
       "[<matplotlib.lines.Line2D at 0x7f9ecdcf6198>]"
      ]
     },
     "execution_count": 62,
     "metadata": {},
     "output_type": "execute_result"
    },
    {
     "data": {
      "text/plain": [
       "[<matplotlib.lines.Line2D at 0x7f9ef7d98048>]"
      ]
     },
     "execution_count": 62,
     "metadata": {},
     "output_type": "execute_result"
    },
    {
     "data": {
      "text/plain": [
       "[<matplotlib.lines.Line2D at 0x7f9ef7d61cc0>]"
      ]
     },
     "execution_count": 62,
     "metadata": {},
     "output_type": "execute_result"
    },
    {
     "data": {
      "text/plain": [
       "<matplotlib.legend.Legend at 0x7f9ecdc395f8>"
      ]
     },
     "execution_count": 62,
     "metadata": {},
     "output_type": "execute_result"
    },
    {
     "name": "stdout",
     "output_type": "stream",
     "text": [
      "        0      1      2      3      4      5      6      7      8      9\n",
      "0.000 nan -0.245 -0.204 -0.158 -0.127 -0.092 -0.089 -0.069 -0.046 -0.055\n",
      "1.000 nan -0.233 -0.231 -0.230 -0.213 -0.165 -0.149 -0.163 -0.119 -0.091\n",
      "2.000 nan -0.268 -0.234 -0.231 -0.203 -0.172 -0.189 -0.161 -0.167 -0.156\n",
      "3.000 nan -0.105 -0.105 -0.120 -0.122 -0.130 -0.118 -0.121 -0.126 -0.123\n",
      "4.000 nan -0.017 -0.040 -0.057 -0.068 -0.078 -0.086 -0.092 -0.095 -0.098\n"
     ]
    },
    {
     "data": {
      "image/png": "[encoded data removed]",
      "text/plain": [
       "<Figure size 432x288 with 1 Axes>"
      ]
     },
     "metadata": {
      "needs_background": "light"
     },
     "output_type": "display_data"
    }
   ],
   "source": [
    "Delta=[]\n",
    "fig, ax = plt.subplots()\n",
    "for zval in np.sort(data_baseline[0].z.unique()):\n",
    "    sel_baseline=[data_baseline[t].z==zval for t in range(T0,TN)]\n",
    "    sel_target=[data_target[t].z==zval for t in range(T0,TN)]\n",
    "    data_e1=[data_baseline[t][sel_baseline[t]].ent_hrs.sum() for t in range(T0,TN)]\n",
    "    data_e2=[data_target[t][sel_target[t]].ent_hrs.sum() for t in range(T0,TN)]\n",
    "    temp=np.array(data_e2)/np.array(data_e1)-1\n",
    "    Delta.append(temp)\n",
    "    ax.plot(temp)\n",
    "    \n",
    "ax.legend(np.sort(data_baseline[0].z.unique()))\n",
    "Delta_by_z=pd.DataFrame(Delta,index=np.sort(data_baseline[0].z.unique()))    \n",
    "print(Delta_by_z)"
   ]
  },
  {
   "cell_type": "markdown",
   "metadata": {},
   "source": [
    "## Intensive Margin entreprenur hours: $h_y$+$h_{\\kappa}$\n",
    "In here we condition on individual who were running business in date $t=0$. We then compute the % change in hours \"person-by-person\" and report the 25, 50, 75 percentiles. Note that this not what GR do. But is closer to what Chettty does and calls as intensive margin. "
   ]
  },
  {
   "cell_type": "code",
   "execution_count": 63,
   "metadata": {},
   "outputs": [
    {
     "data": {
      "text/plain": [
       "[<matplotlib.lines.Line2D at 0x7f9ecdbce518>,\n",
       " <matplotlib.lines.Line2D at 0x7f9ecdbce780>,\n",
       " <matplotlib.lines.Line2D at 0x7f9ecdbce908>]"
      ]
     },
     "execution_count": 63,
     "metadata": {},
     "output_type": "execute_result"
    },
    {
     "data": {
      "image/png": "[encoded data removed]",
      "text/plain": [
       "<Figure size 432x288 with 1 Axes>"
      ]
     },
     "metadata": {
      "needs_background": "light"
     },
     "output_type": "display_data"
    }
   ],
   "source": [
    "Delta_ent_hrs=[(data_target[t].ent_hrs-data_baseline[t].ent_hrs)/data_baseline[t].ent_hrs for t in range(T0,TN)]\n",
    "sel=data_baseline[1].flagS\n",
    "plt.plot([Delta_ent_hrs[t][data_baseline[1][sel].index].quantile([.25,.5,.75]) for t in range(T0,TN)])"
   ]
  },
  {
   "cell_type": "markdown",
   "metadata": {},
   "source": [
    "### Num of entreprenurs "
   ]
  },
  {
   "cell_type": "code",
   "execution_count": 64,
   "metadata": {},
   "outputs": [
    {
     "data": {
      "text/plain": [
       "[<matplotlib.lines.Line2D at 0x7f9ecdb384e0>]"
      ]
     },
     "execution_count": 64,
     "metadata": {},
     "output_type": "execute_result"
    },
    {
     "name": "stdout",
     "output_type": "stream",
     "text": [
      "   Delta_all\n",
      "0 nan       \n",
      "1 -0.100    \n",
      "2 -0.110    \n",
      "3 -0.119    \n",
      "4 -0.125    \n",
      "5 -0.128    \n",
      "6 -0.131    \n",
      "7 -0.134    \n",
      "8 -0.138    \n",
      "9 -0.136    \n"
     ]
    },
    {
     "data": {
      "image/png": "[encoded data removed]",
      "text/plain": [
       "<Figure size 432x288 with 1 Axes>"
      ]
     },
     "metadata": {
      "needs_background": "light"
     },
     "output_type": "display_data"
    }
   ],
   "source": [
    "data_e1=[data_baseline[t].flagS.sum() for t in range(T0,TN)]\n",
    "data_e2=[data_target[t].flagS.sum() for t in range(T0,TN)]\n",
    "Delta=np.array(data_e2)/np.array(data_e1)-1\n",
    "Delta[0]=np.nan\n",
    "plt.plot(Delta)\n",
    "print(pd.DataFrame(Delta,columns=['Delta_all']))"
   ]
  },
  {
   "cell_type": "code",
   "execution_count": 65,
   "metadata": {},
   "outputs": [
    {
     "data": {
      "text/plain": [
       "[<matplotlib.lines.Line2D at 0x7f9ecdc39e80>]"
      ]
     },
     "execution_count": 65,
     "metadata": {},
     "output_type": "execute_result"
    },
    {
     "data": {
      "text/plain": [
       "[<matplotlib.lines.Line2D at 0x7f9ecdc39c50>]"
      ]
     },
     "execution_count": 65,
     "metadata": {},
     "output_type": "execute_result"
    },
    {
     "data": {
      "text/plain": [
       "[<matplotlib.lines.Line2D at 0x7f9ecdb5e160>]"
      ]
     },
     "execution_count": 65,
     "metadata": {},
     "output_type": "execute_result"
    },
    {
     "data": {
      "text/plain": [
       "[<matplotlib.lines.Line2D at 0x7f9ecdb26ac8>]"
      ]
     },
     "execution_count": 65,
     "metadata": {},
     "output_type": "execute_result"
    },
    {
     "data": {
      "text/plain": [
       "[<matplotlib.lines.Line2D at 0x7f9ecdc4a780>]"
      ]
     },
     "execution_count": 65,
     "metadata": {},
     "output_type": "execute_result"
    },
    {
     "data": {
      "text/plain": [
       "<matplotlib.legend.Legend at 0x7f9ecdb26668>"
      ]
     },
     "execution_count": 65,
     "metadata": {},
     "output_type": "execute_result"
    },
    {
     "name": "stdout",
     "output_type": "stream",
     "text": [
      "        0      1      2      3      4      5      6      7      8      9\n",
      "0.000 nan -0.178 -0.175 -0.167 -0.169 -0.168 -0.166 -0.164 -0.167 -0.169\n",
      "1.000 nan -0.169 -0.168 -0.173 -0.175 -0.170 -0.176 -0.175 -0.173 -0.168\n",
      "2.000 nan -0.163 -0.166 -0.168 -0.168 -0.163 -0.172 -0.171 -0.176 -0.165\n",
      "3.000 nan -0.088 -0.101 -0.118 -0.124 -0.130 -0.128 -0.132 -0.140 -0.137\n",
      "4.000 nan -0.042 -0.061 -0.075 -0.084 -0.092 -0.098 -0.103 -0.107 -0.107\n"
     ]
    },
    {
     "data": {
      "image/png": "[encoded data removed]",
      "text/plain": [
       "<Figure size 432x288 with 1 Axes>"
      ]
     },
     "metadata": {
      "needs_background": "light"
     },
     "output_type": "display_data"
    }
   ],
   "source": [
    "Delta=[]\n",
    "fig, ax = plt.subplots()\n",
    "for zval in np.sort(data_baseline[0].z.unique()):\n",
    "    sel_baseline=[data_baseline[t].z==zval for t in range(T0,TN)]\n",
    "    sel_target=[data_target[t].z==zval for t in range(T0,TN)]\n",
    "    data_e1=[data_baseline[t][sel_baseline[t]].flagS.sum() for t in range(T0,TN)]\n",
    "    data_e2=[data_target[t][sel_target[t]].flagS.sum() for t in range(T0,TN)]\n",
    "    temp=np.array(data_e2)/np.array(data_e1)-1\n",
    "    temp[0]=np.nan\n",
    "    Delta.append(temp)\n",
    "    ax.plot(temp)\n",
    "    \n",
    "ax.legend(np.sort(data_baseline[0].z.unique()))\n",
    "Delta_by_z=pd.DataFrame(Delta,index=np.sort(data_baseline[0].z.unique()))    \n",
    "print(Delta_by_z)"
   ]
  },
  {
   "cell_type": "markdown",
   "metadata": {},
   "source": [
    "## Employee Hours: n"
   ]
  },
  {
   "cell_type": "code",
   "execution_count": 66,
   "metadata": {},
   "outputs": [
    {
     "data": {
      "text/plain": [
       "[<matplotlib.lines.Line2D at 0x7f9ecdab5d30>]"
      ]
     },
     "execution_count": 66,
     "metadata": {},
     "output_type": "execute_result"
    },
    {
     "name": "stdout",
     "output_type": "stream",
     "text": [
      "   Delta_all\n",
      "0 nan       \n",
      "1 0.138     \n",
      "2 0.148     \n",
      "3 0.154     \n",
      "4 0.158     \n",
      "5 0.162     \n",
      "6 0.163     \n",
      "7 0.165     \n",
      "8 0.165     \n",
      "9 0.166     \n"
     ]
    },
    {
     "data": {
      "image/png": "[encoded data removed]",
      "text/plain": [
       "<Figure size 432x288 with 1 Axes>"
      ]
     },
     "metadata": {
      "needs_background": "light"
     },
     "output_type": "display_data"
    }
   ],
   "source": [
    "data_e1=[data_baseline[t].emp_hrs.sum() for t in range(T0,TN)]\n",
    "data_e2=[data_target[t].emp_hrs.sum() for t in range(T0,TN)]\n",
    "Delta=np.array(data_e2)/np.array(data_e1)-1\n",
    "Delta[0]=np.nan\n",
    "plt.plot(Delta)\n",
    "print(pd.DataFrame(Delta,columns=['Delta_all']))"
   ]
  },
  {
   "cell_type": "markdown",
   "metadata": {},
   "source": [
    "## Employee Hours: n intensive (median)"
   ]
  },
  {
   "cell_type": "code",
   "execution_count": 80,
   "metadata": {},
   "outputs": [
    {
     "data": {
      "text/plain": [
       "[<matplotlib.lines.Line2D at 0x7f9e0dcd4240>]"
      ]
     },
     "execution_count": 80,
     "metadata": {},
     "output_type": "execute_result"
    },
    {
     "data": {
      "image/png": "[encoded data removed]",
      "text/plain": [
       "<Figure size 432x288 with 1 Axes>"
      ]
     },
     "metadata": {
      "needs_background": "light"
     },
     "output_type": "display_data"
    }
   ],
   "source": [
    "Delta_emp_hrs=[]\n",
    "for t in range(T0,TN):\n",
    "    Delta_emp_hrs.append((data_target[t].emp_hrs-data_baseline[t].emp_hrs)/data_baseline[t].emp_hrs)\n",
    "    \n",
    "sel=data_baseline[1].flagC\n",
    "plt.plot([Delta_emp_hrs[t][data_baseline[1][sel].index].quantile(.5) for t in range(T0+1,TN)])"
   ]
  },
  {
   "cell_type": "code",
   "execution_count": null,
   "metadata": {},
   "outputs": [],
   "source": []
  }
 ],
 "metadata": {
  "kernelspec": {
   "display_name": "Python 3",
   "language": "python",
   "name": "python3"
  },
  "language_info": {
   "codemirror_mode": {
    "name": "ipython",
    "version": 3
   },
   "file_extension": ".py",
   "mimetype": "text/x-python",
   "name": "python",
   "nbconvert_exporter": "python",
   "pygments_lexer": "ipython3",
   "version": "3.6.8"
  }
 },
 "nbformat": 4,
 "nbformat_minor": 4
}
