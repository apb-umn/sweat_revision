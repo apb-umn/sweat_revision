{
 "cells": [
  {
   "cell_type": "markdown",
   "metadata": {},
   "source": [
    "<h1 align=\"center\">RESULTS: Comparision of Baseline and Lower Tax on All Businesses </h1> \n",
    "\n"
   ]
  },
  {
   "cell_type": "markdown",
   "metadata": {},
   "source": [
    "This file generates  aggregate and  cross-sectional moments using the simulated data. The simlations are generated using the simulate.py fle. Please update the paths to the simulation data before running."
   ]
  },
  {
   "cell_type": "markdown",
   "metadata": {},
   "source": [
    "## Import libraries"
   ]
  },
  {
   "cell_type": "code",
   "execution_count": 1,
   "metadata": {},
   "outputs": [],
   "source": [
    "import numpy as np\n",
    "import pandas as pd\n",
    "import stats\n",
    "import os.path\n",
    "pd.options.display.float_format = '{:.3f}'.format\n",
    "pd.set_option('display.max_colwidth', -1)\n",
    "from SCEconomy import *\n",
    "import seaborn as sns\n",
    "sns.set_style('whitegrid')\n",
    "\n",
    "import warnings\n",
    "warnings.filterwarnings('ignore')\n",
    "\n",
    "%matplotlib inline\n",
    "import matplotlib as mpl\n",
    "mpl.rc(\"savefig\",dpi=200)\n",
    "from matplotlib import pyplot as plt\n",
    "# plt.rcParams[\"figure.figsize\"] = (10.,10.)"
   ]
  },
  {
   "cell_type": "code",
   "execution_count": 2,
   "metadata": {},
   "outputs": [
    {
     "data": {
      "text/html": [
       "<script>\n",
       "code_show=true; \n",
       "function code_toggle() {\n",
       " if (code_show){\n",
       " $('div.input').hide();\n",
       " } else {\n",
       " $('div.input').show();\n",
       " }\n",
       " code_show = !code_show\n",
       "} \n",
       "$( document ).ready(code_toggle);\n",
       "</script>\n",
       "<form action=\"javascript:code_toggle()\"><input type=\"submit\" value=\"Click here to toggle on/off the raw code.\"></form>"
      ],
      "text/plain": [
       "<IPython.core.display.HTML object>"
      ]
     },
     "execution_count": 2,
     "metadata": {},
     "output_type": "execute_result"
    }
   ],
   "source": [
    "from IPython.display import HTML\n",
    "from IPython.core.interactiveshell import InteractiveShell\n",
    "InteractiveShell.ast_node_interactivity = \"all\"\n",
    "HTML('''<script>\n",
    "code_show=true; \n",
    "function code_toggle() {\n",
    " if (code_show){\n",
    " $('div.input').hide();\n",
    " } else {\n",
    " $('div.input').show();\n",
    " }\n",
    " code_show = !code_show\n",
    "} \n",
    "$( document ).ready(code_toggle);\n",
    "</script>\n",
    "<form action=\"javascript:code_toggle()\"><input type=\"submit\" value=\"Click here to toggle on/off the raw code.\"></form>''')"
   ]
  },
  {
   "cell_type": "code",
   "execution_count": 3,
   "metadata": {},
   "outputs": [],
   "source": [
    "df_baseline=[]\n",
    "df_target=[]\n",
    "def gini(series, weights):\n",
    "    if series.size!=weights.size:\n",
    "        print(\"Weights are not the same size as the series\")\n",
    "        return\n",
    "    sorted_series = series.sort_values()\n",
    "    height, area = 0, 0\n",
    "    for i in range(series.size):\n",
    "        value = series[sorted_series.index[i]]\n",
    "        wgt = weights[sorted_series.index[i]]\n",
    "        height += wgt*value\n",
    "        area += wgt*(height - value / 2)\n",
    "    fair_area = height * weights.sum() / 2.\n",
    "    return (fair_area - area) / fair_area\n",
    "\n",
    "\n",
    "def gini_alt(series):\n",
    "    csum= 0.0\n",
    "    N=len(series)\n",
    "    for i in range(N):\n",
    "        for j in range(N):\n",
    "            value_i = series.iloc[i]\n",
    "            value_j = series.iloc[j]\n",
    "            csum+=np.abs(value_i-value_j)\n",
    "        \n",
    "    gini_val=0.5*(csum/(N)**2)/series.mean()\n",
    "    \n",
    "    return gini_val\n",
    "\n",
    "\n",
    "def Lorenz(series,quantiles):\n",
    "    N=len(quantiles)\n",
    "    Lz=np.zeros(N)\n",
    "    for n in range(N):\n",
    "        selection = series<series.quantile(quantiles[n])\n",
    "        Lz[n]=series[selection].sum()/series.sum()\n",
    "               \n",
    "        \n",
    "    return  Lz\n",
    "\n",
    "\n",
    "def uploadData(case,w,rs,rc,p,delta):\n",
    "    data=pd.DataFrame()\n",
    "    is_iz=pd.read_csv(case+'/is_to_iz.csv',delim_whitespace=True,header=None)\n",
    "    zgrid=pd.read_csv(case+'/zgrid.csv',delim_whitespace=True,header=None)\n",
    "    is_to_ieps=pd.read_csv(case+'/is_to_ieps.csv', delim_whitespace=True,header=None)\n",
    "    epsgrid=pd.read_csv(case+'/epsgrid.csv', delim_whitespace=True,header=None)\n",
    "    T=100-1\n",
    "    \n",
    "    data['s_ind_']=pd.read_csv(case+'/data_i_s.csv', delim_whitespace=True,header=None).iloc[:,T-1]\n",
    "    data['s_ind']=pd.read_csv(case+'/data_i_s.csv', delim_whitespace=True,header=None, usecols=[T])\n",
    "    \n",
    "    \n",
    "    data['eps']=epsgrid.values.flatten()[is_to_ieps.astype('int').values.flatten()[data.s_ind.astype('int').values.flatten()]]   \n",
    "    data['eps_']=epsgrid.values.flatten()[is_to_ieps.astype('int').values.flatten()[data.s_ind_.astype('int').values.flatten()]]   \n",
    "    data['iz']=is_iz.astype('int').values.flatten()[data.s_ind.astype('int').values.flatten()]\n",
    "    data['iz_']=is_iz.astype('int').values.flatten()[data.s_ind_.astype('int').values.flatten()]\n",
    "    data['ieps']=is_to_ieps.astype('int').values.flatten()[data.s_ind.astype('int').values.flatten()]  \n",
    "    data['ieps_']=is_to_ieps.astype('int').values.flatten()[data.s_ind_.astype('int').values.flatten()]\n",
    "    data['z']=zgrid.values.flatten()[is_iz.astype('int').values.flatten()[data.s_ind.astype('int').values.flatten()]]    \n",
    "    data['z_']=zgrid.values.flatten()[is_iz.astype('int').values.flatten()[data.s_ind_.astype('int').values.flatten()]]    \n",
    "    data['ys']=pd.read_csv(case+'/data_ys.csv', delim_whitespace=True,header=None, usecols=[T])\n",
    "    data['ys_']=pd.read_csv(case+'/data_ys.csv', delim_whitespace=True,header=None, usecols=[T-1])\n",
    "    data['ks']=pd.read_csv(case+'/data_ks.csv', delim_whitespace=True,header=None, usecols=[T])\n",
    "    data['ns']=pd.read_csv(case+'/data_ns.csv', delim_whitespace=True,header=None, usecols=[T])\n",
    "    data['x']=pd.read_csv(case+'/data_x.csv',  delim_whitespace=True,header=None, usecols=[T])\n",
    "    data['n']=pd.read_csv(case+'/data_n.csv', delim_whitespace=True,header=None, usecols=[T])\n",
    "    data['ks_']=pd.read_csv(case+'/data_ks.csv', delim_whitespace=True,header=None, usecols=[T-1])\n",
    "    data['ns_']=pd.read_csv(case+'/data_ns.csv', delim_whitespace=True,header=None, usecols=[T-1])\n",
    "    data['x_']=pd.read_csv(case+'/data_x.csv',  delim_whitespace=True,header=None, usecols=[T-1])\n",
    "    data['n_']=pd.read_csv(case+'/data_n.csv', delim_whitespace=True,header=None, usecols=[T-1])\n",
    "    data['flagC']=pd.read_csv(case+'/data_is_c.csv', delim_whitespace=True,header=None, usecols=[T])\n",
    "    data['flagC_']=pd.read_csv(case+'/data_is_c.csv', delim_whitespace=True,header=None, usecols=[T-1])\n",
    "    data['flagO']=pd.read_csv(case+'/data_is_o.csv',delim_whitespace=True,header=None, usecols=[T])\n",
    "    data['kappa']=pd.read_csv(case+'/data_kap.csv', delim_whitespace=True,header=None, usecols=[T])\n",
    "    data['hkap']=pd.read_csv(case+'/data_hkap.csv',  delim_whitespace=True,header=None, usecols=[T])\n",
    "    data['hy']=pd.read_csv(case+'/data_hy.csv',  delim_whitespace=True,header=None, usecols=[T])\n",
    "    data['s_age']=pd.read_csv(case+'/s_age.csv',  delim_whitespace=True,header=None)\n",
    "    data['sind_age']=pd.read_csv(case+'/sind_age.csv',  delim_whitespace=True,header=None)\n",
    "    data['ind_age']=pd.read_csv(case+'/ind_age.csv',  delim_whitespace=True,header=None)\n",
    "    data['c_age']=pd.read_csv(case+'/c_age.csv',  delim_whitespace=True,header=None)\n",
    "    data['div_']=pd.read_csv(case+'/data_div_sweat.csv',  delim_whitespace=True,header=None, usecols=[T-1])\n",
    "    data['div']= pd.read_csv(case+'/data_div_sweat.csv',  delim_whitespace=True,header=None, usecols=[T])\n",
    "    data['val_sdf_']=pd.read_csv(case+'/data_val_sweat_dyna_sdf.csv',  delim_whitespace=True,header=None, usecols=[T-1])\n",
    "    data['val_mf_']=pd.read_csv(case+'/data_val_sweat_dyna_fix.csv',  delim_whitespace=True,header=None, usecols=[T-1])\n",
    "\n",
    "    data['val_sdf']=pd.read_csv(case+'/data_val_sweat_dyna_sdf.csv',  delim_whitespace=True,header=None, usecols=[T])\n",
    "    data['val_mf']=pd.read_csv(case+'/data_val_sweat_dyna_fix.csv',  delim_whitespace=True,header=None, usecols=[T])\n",
    "    data['a']= pd.read_csv(case+'/data_a.csv',  delim_whitespace=True,header=None, usecols=[T])\n",
    "    \n",
    "    data['flagC']=data['flagC'].astype('bool')\n",
    "    data['flagC_']=data['flagC_'].astype('bool')\n",
    "    data['flagO']=data['flagO'].astype('bool')\n",
    "    data['expenses']=(rs+delta)*data['ks']+w*data['ns']+data['x']\n",
    "    data['expenses_']=(rs+delta)*data['ks_']+w*data['ns_']+data['x_']\n",
    "    data['wns']=data['ns']*w\n",
    "    data['pys']=p*data['ys']\n",
    "\n",
    "    data['bus_inc']=p*data['ys']-data['expenses']\n",
    "    data['bus_inc_']=p*data['ys_']-data['expenses_']\n",
    "    data['lab_inc']=data.eps*w*data.n\n",
    "    data['lab_inc_']=data.eps_*w*data.n_\n",
    "    data['n_e']=data['hkap']+data['hy']\n",
    "    data['ne']=data['n_e']\n",
    "    data['kappa_adj']=(data.kappa**0.15)*data.z\n",
    "    data['ret_sdf']=(data['val_sdf']+data['div_'])/data['val_sdf_']+0.02\n",
    "    data['ret_mf']=(data['val_mf']+data['div_'])/data['val_mf_']+0.02\n",
    "    data['div_yld_sdf']=(data['div'])/data['val_sdf']\n",
    "    data['div_yld_mf']=(data['div'])/data['val_mf']\n",
    "    #data['intan_int_sdf']=data['val_sdf'] /(data['val_sdf']+data['ks'])\n",
    "    #data['intan_int_mf']=data['val_mf'] /(data['val_mf']+data['ks'])\n",
    "    data['profit_rate']=100*data['bus_inc']/data['ks']\n",
    "    data['measured_markups']=100*(data['bus_inc'])/(data['x']+(rs+delta)*data['ks']+w*data['ns'])\n",
    "    data['measured_markups_alt']=100*(data['bus_inc']+data['x'])/((rs+delta)*data['ks']+w*data['ns'])\n",
    "    data['x_pys']=data['x']/(p*data['ys'])\n",
    "    data['cogs']=((rs+delta)*data['ks']+w*data['ns']+data['x'])    \n",
    "    data['wealth_sdf']=data['a']+data['val_sdf']   \n",
    "    data['wealth_mf']=data['a']+data['val_mf']   \n",
    "    data['ztilde'] = np.log(data['z'])\n",
    "    data['zkapphi']=data['z']*data['kappa']**(0.15)\n",
    "    data['ztilde_meas'] = np.log(data['ys']/(data['ks']**(0.333)*data['ns']**(0.666)))\n",
    "    data['inc']=0.0\n",
    "    data['inc'][data['flagC']==True]=data[data['flagC']==True]['lab_inc']\n",
    "    data['inc'][data['flagC']==False]=data[data['flagC']==False]['bus_inc']\n",
    "    data['tot_inc']=data['inc']+rc*data['a'] \n",
    "    if os.path.exists(case+'/data_R.csv'):\n",
    "        data['R']= pd.read_csv(case+'/data_R.csv',  delim_whitespace=True,header=None, usecols=[T])\n",
    "        data['intan_int']=data['R']/(data['R']+data['ks'])\n",
    "        data['wealth_R']=0.0\n",
    "        data['wealth_R'][data['flagC']==True]=data[data['flagC']==True]['a']   \n",
    "        data['wealth_R'][data['flagC']==False]=data[data['flagC']==False]['a']+data[data['flagC']==False]['R']   \n",
    "        data['wealth_income_ratio']=data['wealth_R']/data['tot_inc']\n",
    "  \n",
    "  \n",
    "\n",
    "    data['wgt']=1.0\n",
    "    return data\n",
    "\n",
    "\n",
    "\n",
    "\n",
    "def get_prices(path_baseline,momfilename):\n",
    "    with open (path_baseline+ momfilename, 'rt') as myfile:  # Open file lorem.txt for reading text\n",
    "        for myline in myfile:                 # For each line, read it to a string \n",
    "          #print(\"gdp line\")\n",
    "          #print(myline.find(\"GDP(\"))\n",
    "          if myline.find(\"w\")==0:\n",
    "            #print(myline)\n",
    "            w=float(myline[ myline.find(\"=\")+1:])\n",
    "          if myline.find(\"S-good price\")==0:\n",
    "            #print(myline)\n",
    "            p=float(myline[ myline.find(\"=\")+1:])\n",
    "          if myline.find(\"rc\")==0:\n",
    "            #print(myline)\n",
    "            rc=float(myline[ myline.find(\"=\")+1:])\n",
    "          if myline.find(\"rs\")==0:\n",
    "            #print(myline)\n",
    "            rs=float(myline[ myline.find(\"=\")+1:])\n",
    "          if myline.find(\"GDP(\")==2:\n",
    "            #print(myline)\n",
    "            GVA=float(myline[ myline.find(\"=\")+1:])\n",
    "          if myline.find(\"investment,\")==2:\n",
    "            #print(myline)\n",
    "            x=float(myline[ myline.find(\"=\")+1:])\n",
    "            #print(\"GDP = \"+ str(GVA-x))\n",
    "          if myline.find(\"delk \")==0:\n",
    "            #print(myline)\n",
    "            delta=float(myline[ myline.find(\"=\")+1:])\n",
    "            #print(\"delta= \"+ str(delta))\n",
    "            \n",
    "    return w,p,rc,rs,delta,GVA-x\n",
    "\n",
    "\n",
    "\n",
    "def decomposition (var_bin,bins,varlist):\n",
    "    print('')\n",
    "    print(\"SORTED BY \" + var_bin)\n",
    "    print(\"BINS = \" + str([round(b,2) for b in bins ]) )\n",
    "    \n",
    "\n",
    "    data['bin_' + var_bin] = pd.cut(data[var_bin], bins, labels = False)     \n",
    "    mean_baseline=data.groupby('bin_' + var_bin).mean()[varlist]\n",
    "    count_baseline=data.groupby('bin_' + var_bin).count()[varlist]\n",
    "    \n",
    "    \n",
    "    print(\"-------------- baseline means ----------\")\n",
    "    print(mean_baseline)\n",
    "    print(\"-------------- baseline counts ----------\")\n",
    "    print(count_baseline)\n",
    "    print('')\n",
    "    return mean_baseline,count_baseline\n",
    "\n",
    "def format_table(data,total):\n",
    "    results=[]\n",
    "    results=pd.DataFrame(data) \n",
    "    results['bins/total']=(sorted(pd.cut(df_baseline[var_bin], bins).unique()) )\n",
    "    cols = results.columns.tolist()\n",
    "    cols = cols[-1:] + cols[:-1]\n",
    "    results=results[cols]  #    OR    df = df.ix[:, cols]\n",
    "    results=results.append(total,ignore_index=True)\n",
    "    results.iloc[-1,0]='total'\n",
    "    \n",
    "    return results\n",
    "\n",
    "\n",
    "def print_results (var_bin,bins,varlist,df_baseline=df_baseline,df_target=df_target):\n",
    "    print('')\n",
    "    print(\"SORTED BY \" + var_bin)\n",
    "    print(\"BINS = \" + str([round(b,2) for b in bins ]) )\n",
    "    \n",
    "\n",
    "    df_baseline['bin_' + var_bin] = pd.cut(df_baseline[var_bin], bins, labels = False) \n",
    "    df_target['bin_' + var_bin] = pd.cut(df_target[var_bin], bins, labels = False) \n",
    "    \n",
    "    mean_baseline=df_baseline.groupby('bin_' + var_bin).mean()[varlist]\n",
    "    mean_target=df_target.groupby('bin_' + var_bin).mean()[varlist]\n",
    "    sum_baseline=df_baseline.groupby('bin_' + var_bin).sum()[varlist]\n",
    "    sum_target=df_target.groupby('bin_' + var_bin).sum()[varlist]\n",
    "    count_baseline=df_baseline.groupby('bin_' + var_bin).count()[varlist]\n",
    "    count_target=df_target.groupby('bin_' + var_bin).count()[varlist]\n",
    "    \n",
    "    intensive=(mean_target-mean_baseline)*(count_target+count_baseline)/2\n",
    "    extensive=(count_target-count_baseline)*(mean_target+mean_baseline)/2\n",
    "    total=intensive+extensive\n",
    "    intensive=100.*(intensive/(total.sum()))\n",
    "    extensive=100.*(extensive/(total.sum()))\n",
    "    total_per_change=(100*total.sum()/sum_baseline.sum()).T\n",
    "    intensive_alt=intensive*total_per_change*(1.0/100)\n",
    "    extensive_alt=extensive*total_per_change*(1.0/100)\n",
    "   \n",
    "    return total,sum_baseline,intensive_alt,extensive_alt\n",
    "\n",
    "   \n",
    "\n",
    "    print('')\n",
    "    \n",
    "def __extract_num__(item_name, text):\n",
    "    \n",
    "    import re\n",
    "    for ln in text.splitlines():\n",
    "        if ln.startswith(item_name):\n",
    "\n",
    "            match = re.search(r'[-+]?[0-9]*\\.?[0-9]+([eE][-+]?[0-9]+)?', ln[len(item_name):])\n",
    "\n",
    "            if match is not None:\n",
    "                return float(match.group(0))\n",
    "            else:\n",
    "                return np.nan\n",
    "                    \n",
    "                \n",
    "    return np.nan\n",
    "\n",
    "def get_data_textbuffer(item_name, outputs):\n",
    "    \n",
    "    return np.array([__extract_num__(item_name, text) for text in outputs])\n",
    "    \n",
    "   "
   ]
  },
  {
   "cell_type": "markdown",
   "metadata": {},
   "source": [
    "## Set paths"
   ]
  },
  {
   "cell_type": "code",
   "execution_count": 4,
   "metadata": {},
   "outputs": [],
   "source": [
    "casename='newbench'\n",
    "targetname='newbench_taubtaup'\n",
    "#path_baseline = '/home/shared/yaoxx366/save_data/save_data_'+casename+'/'\n",
    "path_baseline='./save_data_'+casename\n",
    "path_table = './save_data_'+casename+'/'\n",
    "path_target = './save_data_'+ targetname + '/'\n",
    "momfilename_baseline= 'paras_mom_' + casename  + '.txt'\n",
    "momfilename_target= 'paras_mom_' + targetname  + '.txt'\n",
    "pathtosiminitbase='./save_data_'+ casename+  '/econ_' +casename + '.pickle'\n",
    "pathtosiminittarget='./save_data_'+ targetname+  '/econ_' +targetname + '.pickle'\n",
    "my_file_handle=open(path_baseline+ '/' + momfilename_baseline )\n",
    "textbuffer_baseline=my_file_handle.read()"
   ]
  },
  {
   "cell_type": "markdown",
   "metadata": {},
   "source": [
    "# Calibration"
   ]
  },
  {
   "cell_type": "markdown",
   "metadata": {},
   "source": [
    "## Preferences"
   ]
  },
  {
   "cell_type": "code",
   "execution_count": 5,
   "metadata": {},
   "outputs": [
    {
     "name": "stdout",
     "output_type": "stream",
     "text": [
      "Discount factor                           0.980\n",
      "Paternalistic discount factor             1.000\n",
      "Consumption weight                        0.420\n",
      "Leisure weight                            0.580\n",
      "Intertemporal elasticity inverse          1.500\n",
      "C-corporate good share in consumption     0.449\n",
      "Love of business parameter                0.000\n",
      "Labor productivity decline for the old    0.500\n",
      "Business productivity decline for the old 0.500\n"
     ]
    }
   ],
   "source": [
    "print(pd.read_csv(path_table + 'preferences.csv').to_string(header=None))"
   ]
  },
  {
   "cell_type": "markdown",
   "metadata": {},
   "source": [
    "## Life cycle related params"
   ]
  },
  {
   "cell_type": "code",
   "execution_count": 6,
   "metadata": {},
   "outputs": [
    {
     "name": "stdout",
     "output_type": "stream",
     "text": [
      "Unnamed: 0     y     o\n",
      " y         0.978 0.022\n",
      " o         0.067 0.933\n"
     ]
    }
   ],
   "source": [
    "print(pd.read_csv(path_table + 'age_transition_table.csv', skiprows = 1).to_string(index=None))"
   ]
  },
  {
   "cell_type": "markdown",
   "metadata": {},
   "source": [
    "## Technology"
   ]
  },
  {
   "cell_type": "code",
   "execution_count": 7,
   "metadata": {},
   "outputs": [
    {
     "name": "stdout",
     "output_type": "stream",
     "text": [
      "Technology growth                                                      0.020\n",
      "C-corporate fixed asset share                                          0.502\n",
      "Private business fixed asset share                                     0.300\n",
      "Private business sweat capital share                                   0.150\n",
      "Private business ces labor composite share                             0.550\n",
      "Private business employee hours share parameter in ces labor composite 0.575\n",
      "Private business hours substitution parameter in ces labor composite   0.500\n",
      "Fixed asset depreciation                                               0.041\n",
      "Sweat capital depreciation                                             0.058\n",
      "Sweat capital owner hour share                                         0.408\n",
      "Sweat capital c-good share                                             0.592\n",
      "Sweat capital deterioration for workers                                0.400\n",
      "Sweat capital deterioration for bequests                               0.100\n",
      "Working-capital constraint                                             0.000\n",
      "Non-business production relative to GDP                                0.266\n",
      "Non-business consumption relative to GDP                               0.110\n"
     ]
    }
   ],
   "source": [
    "print(pd.read_csv(path_table + 'technologies.csv').to_string(header=None))"
   ]
  },
  {
   "cell_type": "markdown",
   "metadata": {},
   "source": [
    "## Shocks"
   ]
  },
  {
   "cell_type": "markdown",
   "metadata": {},
   "source": [
    "### Business skill"
   ]
  },
  {
   "cell_type": "code",
   "execution_count": 8,
   "metadata": {},
   "outputs": [
    {
     "name": "stdout",
     "output_type": "stream",
     "text": [
      "       0  1  2  3  4\n",
      "zgrid  0  1  2  3  4\n",
      "\n",
      "      0     1     2     3     4\n",
      "0 0.612 0.170 0.098 0.065 0.055\n",
      "1 0.172 0.551 0.187 0.064 0.025\n",
      "2 0.099 0.191 0.475 0.190 0.045\n",
      "3 0.060 0.055 0.164 0.558 0.164\n",
      "4 0.046 0.009 0.034 0.135 0.776\n"
     ]
    }
   ],
   "source": [
    "# np.loadtxt(path_table + 'business_productivity_transition_table.csv', skiprows = 2, skipcolumn = 1)\n",
    "# pd.read_csv(path_table + 'business_productivity_transition_table.csv', skiprows = 1)\n",
    "\n",
    "\n",
    "print(pd.Series(pd.read_csv(path_table + 'business_productivity_transition_table.csv', skiprows = 1).iloc[:,0]).to_frame('zgrid').T)\n",
    "print()\n",
    "print(pd.DataFrame(pd.read_csv(path_table + 'business_productivity_transition_table.csv', skiprows = 1).iloc[:,1:].values))\n"
   ]
  },
  {
   "cell_type": "markdown",
   "metadata": {},
   "source": [
    "### Labor skills"
   ]
  },
  {
   "cell_type": "code",
   "execution_count": 9,
   "metadata": {},
   "outputs": [
    {
     "name": "stdout",
     "output_type": "stream",
     "text": [
      "         0  1  2  3  4\n",
      "epsgrid  0  1  2  3  4\n",
      "\n",
      "      0     1     2     3     4\n",
      "0 0.424 0.549 0.027 0.000 0.000\n",
      "1 0.046 0.621 0.327 0.005 0.000\n",
      "2 0.001 0.145 0.709 0.145 0.001\n",
      "3 0.000 0.005 0.327 0.621 0.046\n",
      "4 0.000 0.000 0.027 0.549 0.424\n"
     ]
    }
   ],
   "source": [
    "print(pd.Series(pd.read_csv(path_table + 'labor_productivity_transition_table.csv', skiprows = 1).iloc[:,0]).to_frame('epsgrid').T)\n",
    "print('')\n",
    "print(pd.DataFrame(pd.read_csv(path_table + 'labor_productivity_transition_table.csv', skiprows = 1).iloc[:,1:].values))\n"
   ]
  },
  {
   "cell_type": "markdown",
   "metadata": {},
   "source": [
    "## Tax policy"
   ]
  },
  {
   "cell_type": "markdown",
   "metadata": {},
   "source": [
    "### Pass thru income tax"
   ]
  },
  {
   "cell_type": "code",
   "execution_count": 10,
   "metadata": {},
   "outputs": [
    {
     "name": "stdout",
     "output_type": "stream",
     "text": [
      " bbracket_left  bbracket_right   taub   psib\n",
      "-inf             0.153         0.140  0.023 \n",
      "0.153            0.304         0.183  0.043 \n",
      "0.304            0.912         0.201  0.060 \n",
      "0.912            2.667         0.235  0.156 \n",
      "2.667            5.727         0.262  0.379 \n",
      "5.727            9.104         0.269  0.504 \n",
      "9.104            inf           0.280  0.814 \n"
     ]
    }
   ],
   "source": [
    "print(pd.read_csv(path_table + 'business_income_tax.csv').to_string(index=None))"
   ]
  },
  {
   "cell_type": "markdown",
   "metadata": {},
   "source": [
    "### Labor income tax"
   ]
  },
  {
   "cell_type": "code",
   "execution_count": 11,
   "metadata": {},
   "outputs": [
    {
     "name": "stdout",
     "output_type": "stream",
     "text": [
      " nbracket_left  nbracket_right   taun   psin\n",
      "-inf             0.173         0.293  -0.054\n",
      "0.173            0.262         0.324  -0.037\n",
      "0.262            0.404         0.343  -0.022\n",
      "0.404            0.732         0.390  0.037 \n",
      "0.732            1.409         0.400  0.060 \n",
      "1.409            3.3138        0.408  0.095 \n",
      "3.314            inf           0.419  0.208 \n"
     ]
    }
   ],
   "source": [
    "print(pd.read_csv(path_table + 'labor_income_tax.csv').to_string(index=None))"
   ]
  },
  {
   "cell_type": "markdown",
   "metadata": {},
   "source": [
    "### Other taxes"
   ]
  },
  {
   "cell_type": "code",
   "execution_count": 12,
   "metadata": {},
   "outputs": [
    {
     "name": "stdout",
     "output_type": "stream",
     "text": [
      "Consumption tax                        0.065\n",
      "Dividends tax                          0.133\n",
      "Profits tax                            0.360\n",
      "Government expenditure relative to GDP 0.133\n",
      "Retirement Transfer                    0.800\n"
     ]
    }
   ],
   "source": [
    "print(pd.read_csv(path_table + 'policies.csv').to_string(header=None))"
   ]
  },
  {
   "cell_type": "markdown",
   "metadata": {},
   "source": [
    "# Aggregates"
   ]
  },
  {
   "cell_type": "code",
   "execution_count": 13,
   "metadata": {},
   "outputs": [],
   "source": [
    "mom=pd.read_csv(path_table + 'moments.csv')\n",
    "mom.columns=['desc','val']    \n",
    "tax=pd.read_csv(path_table + 'policies.csv')\n",
    "tax.columns=['val']\n",
    "cal=pd.read_csv(path_table + 'technologies.csv')\n",
    "cal.columns=['val']\n",
    "w=float(mom[mom.desc.str.strip()=='Wage (w)']['val'].values)\n",
    "p=float(mom[mom.desc.str.strip()=='S-good price (p)']['val'].values)\n",
    "rc=float(mom[mom.desc.str.strip()=='Interest rate (rc)']['val'].values)\n",
    "GDP=float(mom[mom.desc.str.strip()=='GDP(yc + yn + p*Eys - Ex)']['val'].values)\n",
    "taup=float(tax[tax.index.str.strip()=='Profits tax']['val'].values)\n",
    "rs=rc*(1-taup)\n",
    "delta=float(cal[cal.index.str.strip()=='Fixed asset depreciation']['val'].values)"
   ]
  },
  {
   "cell_type": "code",
   "execution_count": 14,
   "metadata": {},
   "outputs": [],
   "source": [
    "data=uploadData(path_baseline,w,rs,rc,p,delta)"
   ]
  },
  {
   "cell_type": "markdown",
   "metadata": {},
   "source": [
    "## GDP\n",
    "We normalize several things in the paper by GDP"
   ]
  },
  {
   "cell_type": "code",
   "execution_count": 15,
   "metadata": {},
   "outputs": [
    {
     "name": "stdout",
     "output_type": "stream",
     "text": [
      "3.0923335720580734\n"
     ]
    }
   ],
   "source": [
    "print(GDP)"
   ]
  },
  {
   "cell_type": "markdown",
   "metadata": {},
   "source": [
    "## Aggregate markups\n",
    "Agg markups  is defined as  sum of business incomes in passthrus / sum rental and wage expenses in pass thrus "
   ]
  },
  {
   "cell_type": "code",
   "execution_count": 16,
   "metadata": {},
   "outputs": [
    {
     "name": "stdout",
     "output_type": "stream",
     "text": [
      "40.54400109223414\n"
     ]
    }
   ],
   "source": [
    "print(100*data.bus_inc.sum()/data.cogs.sum())"
   ]
  },
  {
   "cell_type": "markdown",
   "metadata": {},
   "source": [
    "## Aggregate profitability\n",
    "Agg profitability is defined as  sum of business incomes in passthrus / sum of physical capital used in pass thrus "
   ]
  },
  {
   "cell_type": "code",
   "execution_count": 17,
   "metadata": {},
   "outputs": [
    {
     "name": "stdout",
     "output_type": "stream",
     "text": [
      "8.169521166039837\n"
     ]
    }
   ],
   "source": [
    "print(100*data.bus_inc.sum()/data.ks.sum())"
   ]
  },
  {
   "cell_type": "markdown",
   "metadata": {},
   "source": [
    "## National Accounts"
   ]
  },
  {
   "cell_type": "markdown",
   "metadata": {},
   "source": [
    "### income share"
   ]
  },
  {
   "cell_type": "code",
   "execution_count": 18,
   "metadata": {},
   "outputs": [
    {
     "name": "stdout",
     "output_type": "stream",
     "text": [
      " Business Income                              0.733\n",
      " Sweat labor income                           0.090\n",
      " Non-sweat labor income                       0.327\n",
      " Non-sweat labor income C corporations        0.222\n",
      " Non-sweat labor income pass through business 0.105\n",
      " Non-sweat capital income                     0.317\n",
      " Non-sweat capital income rents               0.188\n",
      " Non-sweat capital income depreciation        0.129\n",
      " Non-business Income                          0.267\n"
     ]
    }
   ],
   "source": [
    "print(pd.read_csv(path_table + 'income_shares.csv').to_string(header=None,index=None))"
   ]
  },
  {
   "cell_type": "markdown",
   "metadata": {},
   "source": [
    "### product share"
   ]
  },
  {
   "cell_type": "code",
   "execution_count": 19,
   "metadata": {},
   "outputs": [
    {
     "name": "stdout",
     "output_type": "stream",
     "text": [
      " Private Consumption                        0.565\n",
      " Government Consumption                     0.133\n",
      " Business Investments C corporations        0.124\n",
      " Business Investments pass through business 0.067\n",
      " Non-business Investments                   0.110\n"
     ]
    }
   ],
   "source": [
    "print(pd.read_csv(path_table + 'product_shares.csv').to_string(header=None,index=None))"
   ]
  },
  {
   "cell_type": "markdown",
   "metadata": {},
   "source": [
    "## Sweat equity by GDP"
   ]
  },
  {
   "cell_type": "code",
   "execution_count": 20,
   "metadata": {},
   "outputs": [
    {
     "name": "stdout",
     "output_type": "stream",
     "text": [
      "0  discounted by beta_tilde 1.018\n",
      "1  discounted by owner SDF  0.885\n"
     ]
    }
   ],
   "source": [
    "print(pd.read_csv(path_table + 'sweat_equity_div_gdp.csv').to_string(header=None))"
   ]
  },
  {
   "cell_type": "markdown",
   "metadata": {},
   "source": [
    "# Age profiles"
   ]
  },
  {
   "cell_type": "markdown",
   "metadata": {},
   "source": [
    "## distribution by age"
   ]
  },
  {
   "cell_type": "code",
   "execution_count": 21,
   "metadata": {},
   "outputs": [
    {
     "name": "stdout",
     "output_type": "stream",
     "text": [
      "0    11.252\n",
      "1    9.079 \n",
      "2    7.737 \n",
      "3    6.866 \n",
      "4    5.971 \n",
      "5    5.247 \n",
      "6    4.774 \n",
      "7    4.358 \n",
      "8    3.974 \n",
      "9    3.403 \n",
      "10   3.126 \n",
      "11   2.729 \n",
      "12   2.566 \n",
      "13   2.285 \n",
      "14   2.169 \n",
      "15   2.012 \n",
      "16   1.753 \n",
      "17   1.586 \n",
      "18   1.534 \n",
      "19   1.468 \n",
      "20   1.193 \n",
      "21   1.125 \n",
      "22   1.028 \n",
      "23   0.926 \n",
      "24   0.906 \n",
      "25   0.819 \n",
      "26   0.798 \n",
      "27   0.674 \n",
      "28   0.616 \n",
      "29   0.564 \n",
      "30   0.500 \n",
      "31   0.488 \n",
      "32   0.403 \n",
      "33   0.418 \n",
      "34   0.389 \n",
      "35   0.343 \n",
      "36   0.333 \n",
      "37   0.320 \n",
      "38   0.323 \n",
      "39   0.242 \n",
      "40   0.217 \n"
     ]
    }
   ],
   "source": [
    "df = pd.read_csv(path_table + 'started_n_periods_ago.csv')\n",
    "print((100*df[df['N periods ago'] <= 40].set_index('N periods ago').iloc[:,0]).to_string(header=None))"
   ]
  },
  {
   "cell_type": "markdown",
   "metadata": {},
   "source": [
    "## sweat capital by age"
   ]
  },
  {
   "cell_type": "code",
   "execution_count": 22,
   "metadata": {},
   "outputs": [
    {
     "data": {
      "text/plain": [
       "<matplotlib.axes._subplots.AxesSubplot at 0x7fd38d6e1668>"
      ]
     },
     "execution_count": 22,
     "metadata": {},
     "output_type": "execute_result"
    },
    {
     "name": "stdout",
     "output_type": "stream",
     "text": [
      "              sind_age  kappa\n",
      "bin_sind_age                 \n",
      "0.000        0.000     0.330 \n",
      "1.000        1.000     0.441 \n",
      "2.000        2.000     0.477 \n",
      "3.000        3.000     0.505 \n",
      "4.000        4.000     0.526 \n",
      "5.000        5.931     0.534 \n",
      "6.000        8.915     0.504 \n",
      "7.000        11.455    0.476 \n",
      "8.000        13.948    0.460 \n",
      "9.000        19.698    0.373 \n",
      "10.000       27.791    0.294 \n",
      "11.000       32.879    0.267 \n",
      "12.000       37.852    0.204 \n",
      "13.000       42.967    0.195 \n",
      "14.000       47.835    0.148 \n",
      "15.000       52.809    0.143 \n",
      "16.000       57.661    0.128 \n",
      "17.000       68.021    0.089 \n",
      "18.000       93.421    0.057 \n"
     ]
    },
    {
     "data": {
      "image/png": "[encoded data removed]",
      "text/plain": [
       "<Figure size 432x288 with 1 Axes>"
      ]
     },
     "metadata": {
      "needs_background": "light"
     },
     "output_type": "display_data"
    }
   ],
   "source": [
    "sel=(~data['flagC'] )\n",
    "var_bin = 'sind_age'\n",
    "varlist=['kappa','intan_int','ret_sdf','div_yld_sdf','measured_markups','val_sdf','a','wealth_sdf','s_age','sind_age','ind_age','ztilde_meas','ztilde','bus_inc','hy','hkap','n_e','ns','ks','R','x']\n",
    "bins=[-1,0,1,2,3,4,7,10, 12,15,25,30,35,40,45,50,55,60,80,500 ]\n",
    "data['bin_' + var_bin] = pd.cut(data[var_bin], bins, labels = False)     \n",
    "mean_baseline=data[sel].groupby('bin_' + var_bin).mean()[varlist]\n",
    "count_baseline=data[sel].groupby('bin_' + var_bin).count()[varlist]\n",
    "mean_baseline[['sind_age','kappa']].plot(x='sind_age',y='kappa')\n",
    "mean_baseline[['sind_age','kappa']].to_csv('sind_kappa.csv')\n",
    "print(mean_baseline[['sind_age','kappa']])"
   ]
  },
  {
   "cell_type": "markdown",
   "metadata": {},
   "source": [
    "## Regression of $\\log V_{\\kappa}$ on $age,age^2$: Pratts"
   ]
  },
  {
   "cell_type": "code",
   "execution_count": 23,
   "metadata": {},
   "outputs": [
    {
     "data": {
      "text/plain": [
       "24"
      ]
     },
     "execution_count": 23,
     "metadata": {},
     "output_type": "execute_result"
    },
    {
     "data": {
      "text/html": [
       "<table class=\"simpletable\">\n",
       "<caption>OLS Regression Results</caption>\n",
       "<tr>\n",
       "  <th>Dep. Variable:</th>    <td>TotalIntangiblesPPA</td> <th>  R-squared:         </th> <td>   0.228</td> \n",
       "</tr>\n",
       "<tr>\n",
       "  <th>Model:</th>                    <td>OLS</td>         <th>  Adj. R-squared:    </th> <td>   0.223</td> \n",
       "</tr>\n",
       "<tr>\n",
       "  <th>Method:</th>              <td>Least Squares</td>    <th>  F-statistic:       </th> <td>   45.30</td> \n",
       "</tr>\n",
       "<tr>\n",
       "  <th>Date:</th>              <td>Mon, 15 Jun 2020</td>   <th>  Prob (F-statistic):</th>  <td>  0.00</td>  \n",
       "</tr>\n",
       "<tr>\n",
       "  <th>Time:</th>                  <td>18:41:47</td>       <th>  Log-Likelihood:    </th> <td> -13411.</td> \n",
       "</tr>\n",
       "<tr>\n",
       "  <th>No. Observations:</th>       <td>  6943</td>        <th>  AIC:               </th> <td>2.691e+04</td>\n",
       "</tr>\n",
       "<tr>\n",
       "  <th>Df Residuals:</th>           <td>  6897</td>        <th>  BIC:               </th> <td>2.723e+04</td>\n",
       "</tr>\n",
       "<tr>\n",
       "  <th>Df Model:</th>               <td>    45</td>        <th>                     </th>     <td> </td>    \n",
       "</tr>\n",
       "<tr>\n",
       "  <th>Covariance Type:</th>       <td>nonrobust</td>      <th>                     </th>     <td> </td>    \n",
       "</tr>\n",
       "</table>\n",
       "<table class=\"simpletable\">\n",
       "<tr>\n",
       "             <td></td>               <th>coef</th>     <th>std err</th>      <th>t</th>      <th>P>|t|</th>  <th>[0.025</th>    <th>0.975]</th>  \n",
       "</tr>\n",
       "<tr>\n",
       "  <th>const</th>                  <td>   11.5470</td> <td>    1.145</td> <td>   10.084</td> <td> 0.000</td> <td>    9.302</td> <td>   13.792</td>\n",
       "</tr>\n",
       "<tr>\n",
       "  <th>TargetAge</th>              <td>    0.0183</td> <td>    0.002</td> <td>    8.629</td> <td> 0.000</td> <td>    0.014</td> <td>    0.022</td>\n",
       "</tr>\n",
       "<tr>\n",
       "  <th>TargetAge2</th>             <td> -4.99e-05</td> <td> 1.46e-05</td> <td>   -3.413</td> <td> 0.001</td> <td>-7.86e-05</td> <td>-2.12e-05</td>\n",
       "</tr>\n",
       "<tr>\n",
       "  <th>nacis_code_cat[11, 21)</th> <td>   -0.4594</td> <td>    1.285</td> <td>   -0.357</td> <td> 0.721</td> <td>   -2.979</td> <td>    2.060</td>\n",
       "</tr>\n",
       "<tr>\n",
       "  <th>nacis_code_cat[21, 22)</th> <td>    3.1797</td> <td>    1.294</td> <td>    2.458</td> <td> 0.014</td> <td>    0.644</td> <td>    5.716</td>\n",
       "</tr>\n",
       "<tr>\n",
       "  <th>nacis_code_cat[22, 23)</th> <td>   -0.5650</td> <td>    1.349</td> <td>   -0.419</td> <td> 0.675</td> <td>   -3.209</td> <td>    2.079</td>\n",
       "</tr>\n",
       "<tr>\n",
       "  <th>nacis_code_cat[23, 24)</th> <td>   -0.1541</td> <td>    1.194</td> <td>   -0.129</td> <td> 0.897</td> <td>   -2.494</td> <td>    2.186</td>\n",
       "</tr>\n",
       "<tr>\n",
       "  <th>nacis_code_cat[24, 31)</th> <td>-6.894e-15</td> <td> 1.01e-14</td> <td>   -0.686</td> <td> 0.493</td> <td>-2.66e-14</td> <td> 1.28e-14</td>\n",
       "</tr>\n",
       "<tr>\n",
       "  <th>nacis_code_cat[31, 35)</th> <td>    0.2924</td> <td>    1.192</td> <td>    0.245</td> <td> 0.806</td> <td>   -2.044</td> <td>    2.629</td>\n",
       "</tr>\n",
       "<tr>\n",
       "  <th>nacis_code_cat[35, 42)</th> <td>-1.458e-14</td> <td>  3.9e-14</td> <td>   -0.373</td> <td> 0.709</td> <td>-9.11e-14</td> <td> 6.19e-14</td>\n",
       "</tr>\n",
       "<tr>\n",
       "  <th>nacis_code_cat[42, 44)</th> <td>   -1.7597</td> <td>    1.286</td> <td>   -1.369</td> <td> 0.171</td> <td>   -4.280</td> <td>    0.761</td>\n",
       "</tr>\n",
       "<tr>\n",
       "  <th>nacis_code_cat[44, 46)</th> <td>   -1.0531</td> <td>    1.191</td> <td>   -0.884</td> <td> 0.377</td> <td>   -3.388</td> <td>    1.281</td>\n",
       "</tr>\n",
       "<tr>\n",
       "  <th>nacis_code_cat[46, 48)</th> <td>-1.401e-14</td> <td> 1.87e-14</td> <td>   -0.751</td> <td> 0.453</td> <td>-5.06e-14</td> <td> 2.26e-14</td>\n",
       "</tr>\n",
       "<tr>\n",
       "  <th>nacis_code_cat[48, 50)</th> <td>   -0.6359</td> <td>    1.194</td> <td>   -0.533</td> <td> 0.594</td> <td>   -2.977</td> <td>    1.705</td>\n",
       "</tr>\n",
       "<tr>\n",
       "  <th>nacis_code_cat[50, 51)</th> <td> 4.997e-15</td> <td> 7.13e-15</td> <td>    0.701</td> <td> 0.484</td> <td>-8.98e-15</td> <td>  1.9e-14</td>\n",
       "</tr>\n",
       "<tr>\n",
       "  <th>nacis_code_cat[51, 52)</th> <td>    1.9595</td> <td>    1.198</td> <td>    1.636</td> <td> 0.102</td> <td>   -0.388</td> <td>    4.307</td>\n",
       "</tr>\n",
       "<tr>\n",
       "  <th>nacis_code_cat[52, 53)</th> <td>    0.4310</td> <td>    1.199</td> <td>    0.360</td> <td> 0.719</td> <td>   -1.919</td> <td>    2.781</td>\n",
       "</tr>\n",
       "<tr>\n",
       "  <th>nacis_code_cat[53, 54)</th> <td>   -0.5248</td> <td>    1.196</td> <td>   -0.439</td> <td> 0.661</td> <td>   -2.870</td> <td>    1.820</td>\n",
       "</tr>\n",
       "<tr>\n",
       "  <th>nacis_code_cat[54, 55)</th> <td>    0.3950</td> <td>    1.193</td> <td>    0.331</td> <td> 0.741</td> <td>   -1.944</td> <td>    2.734</td>\n",
       "</tr>\n",
       "<tr>\n",
       "  <th>nacis_code_cat[55, 56)</th> <td>    5.4398</td> <td>    1.407</td> <td>    3.866</td> <td> 0.000</td> <td>    2.681</td> <td>    8.198</td>\n",
       "</tr>\n",
       "<tr>\n",
       "  <th>nacis_code_cat[56, 61)</th> <td>   -0.8055</td> <td>    1.192</td> <td>   -0.676</td> <td> 0.499</td> <td>   -3.141</td> <td>    1.530</td>\n",
       "</tr>\n",
       "<tr>\n",
       "  <th>nacis_code_cat[61, 62)</th> <td>   -1.0929</td> <td>    1.205</td> <td>   -0.907</td> <td> 0.364</td> <td>   -3.455</td> <td>    1.269</td>\n",
       "</tr>\n",
       "<tr>\n",
       "  <th>nacis_code_cat[62, 71)</th> <td>   -0.5618</td> <td>    1.194</td> <td>   -0.471</td> <td> 0.638</td> <td>   -2.902</td> <td>    1.778</td>\n",
       "</tr>\n",
       "<tr>\n",
       "  <th>nacis_code_cat[71, 72)</th> <td>   -1.2780</td> <td>    1.201</td> <td>   -1.064</td> <td> 0.287</td> <td>   -3.632</td> <td>    1.076</td>\n",
       "</tr>\n",
       "<tr>\n",
       "  <th>nacis_code_cat[72, 81)</th> <td>   -1.5446</td> <td>    1.191</td> <td>   -1.297</td> <td> 0.195</td> <td>   -3.879</td> <td>    0.790</td>\n",
       "</tr>\n",
       "<tr>\n",
       "  <th>nacis_code_cat[81, 83)</th> <td>   -1.6104</td> <td>    1.191</td> <td>   -1.352</td> <td> 0.176</td> <td>   -3.946</td> <td>    0.725</td>\n",
       "</tr>\n",
       "<tr>\n",
       "  <th>nacis_code_cat[83, 92)</th> <td> 3.713e-15</td> <td> 1.25e-14</td> <td>    0.298</td> <td> 0.766</td> <td>-2.07e-14</td> <td> 2.82e-14</td>\n",
       "</tr>\n",
       "<tr>\n",
       "  <th>year1990</th>               <td>-1.387e-14</td> <td> 2.27e-14</td> <td>   -0.612</td> <td> 0.540</td> <td>-5.83e-14</td> <td> 3.05e-14</td>\n",
       "</tr>\n",
       "<tr>\n",
       "  <th>year1991</th>               <td>-9.191e-15</td> <td> 8.71e-15</td> <td>   -1.055</td> <td> 0.291</td> <td>-2.63e-14</td> <td> 7.88e-15</td>\n",
       "</tr>\n",
       "<tr>\n",
       "  <th>year1992</th>               <td>-1.186e-14</td> <td> 8.03e-15</td> <td>   -1.477</td> <td> 0.140</td> <td>-2.76e-14</td> <td> 3.88e-15</td>\n",
       "</tr>\n",
       "<tr>\n",
       "  <th>year1993</th>               <td>   -1.1647</td> <td>    1.142</td> <td>   -1.020</td> <td> 0.308</td> <td>   -3.403</td> <td>    1.074</td>\n",
       "</tr>\n",
       "<tr>\n",
       "  <th>year1994</th>               <td>    0.0515</td> <td>    0.662</td> <td>    0.078</td> <td> 0.938</td> <td>   -1.247</td> <td>    1.350</td>\n",
       "</tr>\n",
       "<tr>\n",
       "  <th>year1995</th>               <td>   -0.1088</td> <td>    0.454</td> <td>   -0.239</td> <td> 0.811</td> <td>   -1.000</td> <td>    0.782</td>\n",
       "</tr>\n",
       "<tr>\n",
       "  <th>year1996</th>               <td>    0.1736</td> <td>    0.332</td> <td>    0.523</td> <td> 0.601</td> <td>   -0.477</td> <td>    0.824</td>\n",
       "</tr>\n",
       "<tr>\n",
       "  <th>year1997</th>               <td>    0.1796</td> <td>    0.264</td> <td>    0.681</td> <td> 0.496</td> <td>   -0.338</td> <td>    0.697</td>\n",
       "</tr>\n",
       "<tr>\n",
       "  <th>year1998</th>               <td>    0.3877</td> <td>    0.184</td> <td>    2.103</td> <td> 0.035</td> <td>    0.026</td> <td>    0.749</td>\n",
       "</tr>\n",
       "<tr>\n",
       "  <th>year1999</th>               <td>    0.2742</td> <td>    0.171</td> <td>    1.599</td> <td> 0.110</td> <td>   -0.062</td> <td>    0.610</td>\n",
       "</tr>\n",
       "<tr>\n",
       "  <th>year2000</th>               <td>    0.5887</td> <td>    0.174</td> <td>    3.386</td> <td> 0.001</td> <td>    0.248</td> <td>    0.930</td>\n",
       "</tr>\n",
       "<tr>\n",
       "  <th>year2001</th>               <td>    0.0710</td> <td>    0.165</td> <td>    0.430</td> <td> 0.667</td> <td>   -0.253</td> <td>    0.395</td>\n",
       "</tr>\n",
       "<tr>\n",
       "  <th>year2002</th>               <td>    0.3106</td> <td>    0.150</td> <td>    2.068</td> <td> 0.039</td> <td>    0.016</td> <td>    0.605</td>\n",
       "</tr>\n",
       "<tr>\n",
       "  <th>year2003</th>               <td>    0.2908</td> <td>    0.152</td> <td>    1.917</td> <td> 0.055</td> <td>   -0.007</td> <td>    0.588</td>\n",
       "</tr>\n",
       "<tr>\n",
       "  <th>year2004</th>               <td>    0.3179</td> <td>    0.144</td> <td>    2.213</td> <td> 0.027</td> <td>    0.036</td> <td>    0.600</td>\n",
       "</tr>\n",
       "<tr>\n",
       "  <th>year2005</th>               <td>    0.9144</td> <td>    0.137</td> <td>    6.660</td> <td> 0.000</td> <td>    0.645</td> <td>    1.184</td>\n",
       "</tr>\n",
       "<tr>\n",
       "  <th>year2006</th>               <td>    0.7611</td> <td>    0.124</td> <td>    6.127</td> <td> 0.000</td> <td>    0.518</td> <td>    1.005</td>\n",
       "</tr>\n",
       "<tr>\n",
       "  <th>year2007</th>               <td>    0.8835</td> <td>    0.118</td> <td>    7.489</td> <td> 0.000</td> <td>    0.652</td> <td>    1.115</td>\n",
       "</tr>\n",
       "<tr>\n",
       "  <th>year2008</th>               <td>    0.7802</td> <td>    0.110</td> <td>    7.093</td> <td> 0.000</td> <td>    0.565</td> <td>    0.996</td>\n",
       "</tr>\n",
       "<tr>\n",
       "  <th>year2009</th>               <td>    0.4965</td> <td>    0.105</td> <td>    4.751</td> <td> 0.000</td> <td>    0.292</td> <td>    0.701</td>\n",
       "</tr>\n",
       "<tr>\n",
       "  <th>year2010</th>               <td>    0.5255</td> <td>    0.103</td> <td>    5.093</td> <td> 0.000</td> <td>    0.323</td> <td>    0.728</td>\n",
       "</tr>\n",
       "<tr>\n",
       "  <th>year2011</th>               <td>    0.5614</td> <td>    0.102</td> <td>    5.521</td> <td> 0.000</td> <td>    0.362</td> <td>    0.761</td>\n",
       "</tr>\n",
       "<tr>\n",
       "  <th>year2012</th>               <td>    0.6878</td> <td>    0.102</td> <td>    6.747</td> <td> 0.000</td> <td>    0.488</td> <td>    0.888</td>\n",
       "</tr>\n",
       "<tr>\n",
       "  <th>year2013</th>               <td>    0.8902</td> <td>    0.104</td> <td>    8.568</td> <td> 0.000</td> <td>    0.687</td> <td>    1.094</td>\n",
       "</tr>\n",
       "<tr>\n",
       "  <th>year2014</th>               <td>    1.0386</td> <td>    0.103</td> <td>   10.080</td> <td> 0.000</td> <td>    0.837</td> <td>    1.241</td>\n",
       "</tr>\n",
       "<tr>\n",
       "  <th>year2015</th>               <td>    1.0080</td> <td>    0.102</td> <td>    9.842</td> <td> 0.000</td> <td>    0.807</td> <td>    1.209</td>\n",
       "</tr>\n",
       "<tr>\n",
       "  <th>year2016</th>               <td>    0.9196</td> <td>    0.102</td> <td>    9.012</td> <td> 0.000</td> <td>    0.720</td> <td>    1.120</td>\n",
       "</tr>\n",
       "<tr>\n",
       "  <th>year2017</th>               <td>    0.7077</td> <td>    0.137</td> <td>    5.152</td> <td> 0.000</td> <td>    0.438</td> <td>    0.977</td>\n",
       "</tr>\n",
       "</table>\n",
       "<table class=\"simpletable\">\n",
       "<tr>\n",
       "  <th>Omnibus:</th>       <td>623.299</td> <th>  Durbin-Watson:     </th> <td>   1.631</td>\n",
       "</tr>\n",
       "<tr>\n",
       "  <th>Prob(Omnibus):</th> <td> 0.000</td>  <th>  Jarque-Bera (JB):  </th> <td>2654.069</td>\n",
       "</tr>\n",
       "<tr>\n",
       "  <th>Skew:</th>          <td> 0.356</td>  <th>  Prob(JB):          </th> <td>    0.00</td>\n",
       "</tr>\n",
       "<tr>\n",
       "  <th>Kurtosis:</th>      <td> 5.944</td>  <th>  Cond. No.          </th> <td>1.03e+16</td>\n",
       "</tr>\n",
       "</table><br/><br/>Warnings:<br/>[1] Standard Errors assume that the covariance matrix of the errors is correctly specified.<br/>[2] The smallest eigenvalue is 2.73e-22. This might indicate that there are<br/>strong multicollinearity problems or that the design matrix is singular."
      ],
      "text/plain": [
       "<class 'statsmodels.iolib.summary.Summary'>\n",
       "\"\"\"\n",
       "                             OLS Regression Results                            \n",
       "===============================================================================\n",
       "Dep. Variable:     TotalIntangiblesPPA   R-squared:                       0.228\n",
       "Model:                             OLS   Adj. R-squared:                  0.223\n",
       "Method:                  Least Squares   F-statistic:                     45.30\n",
       "Date:                 Mon, 15 Jun 2020   Prob (F-statistic):               0.00\n",
       "Time:                         18:41:47   Log-Likelihood:                -13411.\n",
       "No. Observations:                 6943   AIC:                         2.691e+04\n",
       "Df Residuals:                     6897   BIC:                         2.723e+04\n",
       "Df Model:                           45                                         \n",
       "Covariance Type:             nonrobust                                         \n",
       "==========================================================================================\n",
       "                             coef    std err          t      P>|t|      [0.025      0.975]\n",
       "------------------------------------------------------------------------------------------\n",
       "const                     11.5470      1.145     10.084      0.000       9.302      13.792\n",
       "TargetAge                  0.0183      0.002      8.629      0.000       0.014       0.022\n",
       "TargetAge2              -4.99e-05   1.46e-05     -3.413      0.001   -7.86e-05   -2.12e-05\n",
       "nacis_code_cat[11, 21)    -0.4594      1.285     -0.357      0.721      -2.979       2.060\n",
       "nacis_code_cat[21, 22)     3.1797      1.294      2.458      0.014       0.644       5.716\n",
       "nacis_code_cat[22, 23)    -0.5650      1.349     -0.419      0.675      -3.209       2.079\n",
       "nacis_code_cat[23, 24)    -0.1541      1.194     -0.129      0.897      -2.494       2.186\n",
       "nacis_code_cat[24, 31) -6.894e-15   1.01e-14     -0.686      0.493   -2.66e-14    1.28e-14\n",
       "nacis_code_cat[31, 35)     0.2924      1.192      0.245      0.806      -2.044       2.629\n",
       "nacis_code_cat[35, 42) -1.458e-14    3.9e-14     -0.373      0.709   -9.11e-14    6.19e-14\n",
       "nacis_code_cat[42, 44)    -1.7597      1.286     -1.369      0.171      -4.280       0.761\n",
       "nacis_code_cat[44, 46)    -1.0531      1.191     -0.884      0.377      -3.388       1.281\n",
       "nacis_code_cat[46, 48) -1.401e-14   1.87e-14     -0.751      0.453   -5.06e-14    2.26e-14\n",
       "nacis_code_cat[48, 50)    -0.6359      1.194     -0.533      0.594      -2.977       1.705\n",
       "nacis_code_cat[50, 51)  4.997e-15   7.13e-15      0.701      0.484   -8.98e-15     1.9e-14\n",
       "nacis_code_cat[51, 52)     1.9595      1.198      1.636      0.102      -0.388       4.307\n",
       "nacis_code_cat[52, 53)     0.4310      1.199      0.360      0.719      -1.919       2.781\n",
       "nacis_code_cat[53, 54)    -0.5248      1.196     -0.439      0.661      -2.870       1.820\n",
       "nacis_code_cat[54, 55)     0.3950      1.193      0.331      0.741      -1.944       2.734\n",
       "nacis_code_cat[55, 56)     5.4398      1.407      3.866      0.000       2.681       8.198\n",
       "nacis_code_cat[56, 61)    -0.8055      1.192     -0.676      0.499      -3.141       1.530\n",
       "nacis_code_cat[61, 62)    -1.0929      1.205     -0.907      0.364      -3.455       1.269\n",
       "nacis_code_cat[62, 71)    -0.5618      1.194     -0.471      0.638      -2.902       1.778\n",
       "nacis_code_cat[71, 72)    -1.2780      1.201     -1.064      0.287      -3.632       1.076\n",
       "nacis_code_cat[72, 81)    -1.5446      1.191     -1.297      0.195      -3.879       0.790\n",
       "nacis_code_cat[81, 83)    -1.6104      1.191     -1.352      0.176      -3.946       0.725\n",
       "nacis_code_cat[83, 92)  3.713e-15   1.25e-14      0.298      0.766   -2.07e-14    2.82e-14\n",
       "year1990               -1.387e-14   2.27e-14     -0.612      0.540   -5.83e-14    3.05e-14\n",
       "year1991               -9.191e-15   8.71e-15     -1.055      0.291   -2.63e-14    7.88e-15\n",
       "year1992               -1.186e-14   8.03e-15     -1.477      0.140   -2.76e-14    3.88e-15\n",
       "year1993                  -1.1647      1.142     -1.020      0.308      -3.403       1.074\n",
       "year1994                   0.0515      0.662      0.078      0.938      -1.247       1.350\n",
       "year1995                  -0.1088      0.454     -0.239      0.811      -1.000       0.782\n",
       "year1996                   0.1736      0.332      0.523      0.601      -0.477       0.824\n",
       "year1997                   0.1796      0.264      0.681      0.496      -0.338       0.697\n",
       "year1998                   0.3877      0.184      2.103      0.035       0.026       0.749\n",
       "year1999                   0.2742      0.171      1.599      0.110      -0.062       0.610\n",
       "year2000                   0.5887      0.174      3.386      0.001       0.248       0.930\n",
       "year2001                   0.0710      0.165      0.430      0.667      -0.253       0.395\n",
       "year2002                   0.3106      0.150      2.068      0.039       0.016       0.605\n",
       "year2003                   0.2908      0.152      1.917      0.055      -0.007       0.588\n",
       "year2004                   0.3179      0.144      2.213      0.027       0.036       0.600\n",
       "year2005                   0.9144      0.137      6.660      0.000       0.645       1.184\n",
       "year2006                   0.7611      0.124      6.127      0.000       0.518       1.005\n",
       "year2007                   0.8835      0.118      7.489      0.000       0.652       1.115\n",
       "year2008                   0.7802      0.110      7.093      0.000       0.565       0.996\n",
       "year2009                   0.4965      0.105      4.751      0.000       0.292       0.701\n",
       "year2010                   0.5255      0.103      5.093      0.000       0.323       0.728\n",
       "year2011                   0.5614      0.102      5.521      0.000       0.362       0.761\n",
       "year2012                   0.6878      0.102      6.747      0.000       0.488       0.888\n",
       "year2013                   0.8902      0.104      8.568      0.000       0.687       1.094\n",
       "year2014                   1.0386      0.103     10.080      0.000       0.837       1.241\n",
       "year2015                   1.0080      0.102      9.842      0.000       0.807       1.209\n",
       "year2016                   0.9196      0.102      9.012      0.000       0.720       1.120\n",
       "year2017                   0.7077      0.137      5.152      0.000       0.438       0.977\n",
       "==============================================================================\n",
       "Omnibus:                      623.299   Durbin-Watson:                   1.631\n",
       "Prob(Omnibus):                  0.000   Jarque-Bera (JB):             2654.069\n",
       "Skew:                           0.356   Prob(JB):                         0.00\n",
       "Kurtosis:                       5.944   Cond. No.                     1.03e+16\n",
       "==============================================================================\n",
       "\n",
       "Warnings:\n",
       "[1] Standard Errors assume that the covariance matrix of the errors is correctly specified.\n",
       "[2] The smallest eigenvalue is 2.73e-22. This might indicate that there are\n",
       "strong multicollinearity problems or that the design matrix is singular.\n",
       "\"\"\""
      ]
     },
     "execution_count": 23,
     "metadata": {},
     "output_type": "execute_result"
    }
   ],
   "source": [
    "prattsdata=pd.read_csv('prattsdatabase.csv',encoding='latin-1')    \n",
    "prattsdata['TargetAge2']=prattsdata['TargetAge']**2\n",
    "\n",
    "prattsdata['TargetStructureAlt']=prattsdata['TargetStructure'].values\n",
    "sel=prattsdata['TargetStructure'].isin(['Partnership', 'Limited Partnership', 'LLP'])\n",
    "prattsdata.loc[sel,'TargetStructureAlt']='Partnership'\n",
    "sel=prattsdata['TargetStructure'].isin(['Consolidated', 'UK Corporation', 'PC','Non-Profit','Ltd','Limited Corporation'])\n",
    "prattsdata.loc[sel,'TargetStructureAlt']='Others'\n",
    "sel=prattsdata['TargetStructure'].isin(['C corporation'])\n",
    "prattsdata.loc[sel,'TargetStructureAlt']='C Corporation'\n",
    "\n",
    "naics_labels=['Agriculture, Forestry, Fishing and Hunting',\\\n",
    "        'Mining, Quarrying, and Oil and Gas Extraction',\\\n",
    "        'Utilities',\\\n",
    "        'Construction',\\\n",
    "        'NA1',\\\n",
    "        'Manufacturing',\\\n",
    "        'NA2',\\\n",
    "        'Wholesale Trade',\\\n",
    "        'Retail Trade',\\\n",
    "        'NA3',\\\n",
    "        'Transportation and Warehousing',\\\n",
    "        'NA4',\\\n",
    "        'Information',\\\n",
    "        'Finance and Insurance',\\\n",
    "        'Real Estate and Rental and Leasing',\\\n",
    "        'Professional, Scientific, and Technical Services',\\\n",
    "        'Management of Companies and Enterprises',\\\n",
    "        'Administrative and Support and Waste Management and Remediation Services'\\\n",
    "        'NA5',\\\n",
    "        'Educational Services',\\\n",
    "        'Health Care and Social Assistance',\\\n",
    "        'Arts, Entertainment, and Recreation',\\\n",
    "        'Accommodation and Food Service',\\\n",
    "        'Other Services','Public administration']\n",
    "\n",
    "len(naics_labels)\n",
    "\n",
    "naics_code=[11,21,22,23,24,31,35,42,44,46,48,50,51,52,53,54,55,56,61,62,71,72,81,83,92]\n",
    "n=24\n",
    "\n",
    "\n",
    "#naics_labels=['Ag. Mining and Utilities',\\\n",
    "#        'Consts and Mfg',\\\n",
    "#        'Trade and warehousing',\\\n",
    "#        'Information and FIRE',\\\n",
    "#        'RE',\\\n",
    "#        'Professional services',\\\n",
    "#        'Nonprof services']\n",
    "\n",
    "#naics_code=[11,23,42,51,53,54,57,92]\n",
    "\n",
    "prattsdata['naics_label']=pd.cut(prattsdata['TargetNAICS1']/10**10,naics_code[:n+1],labels=naics_labels[:n],include_lowest=True,right=False)\n",
    "prattsdata['naics_code_cat']=pd.cut(prattsdata['TargetNAICS1']/10**10,naics_code[:n+1],include_lowest=True,right=False)\n",
    "prattsdata['naics_2d']=pd.cut(prattsdata['TargetNAICS1']/10**10,naics_code[:n+1],labels=naics_code[:n],include_lowest=True,right=False)\n",
    "\n",
    "prattsdata['year'] = prattsdata['SaleDate'].str[-4:]\n",
    "prattsdata['year']=prattsdata['year'].astype(int)\n",
    "\n",
    "\n",
    "\n",
    "import statsmodels.api as sm\n",
    "\n",
    "dummies1 = pd.get_dummies(prattsdata['naics_code_cat']).rename(columns=lambda x: 'nacis_code_cat' + str(x))\n",
    "dummies2 = pd.get_dummies(prattsdata['year']).rename(columns=lambda x: 'year' + str(x))\n",
    "X = pd.concat([prattsdata[['TargetAge','TargetAge2']],dummies1,dummies2],axis=1)\n",
    "Y=np.log(prattsdata.TotalIntangiblesPPA)\n",
    "X = sm.add_constant(X)\n",
    "selection=(pd.notnull(prattsdata.TargetAge)) & (prattsdata.TotalIntangiblesPPA>0)& ~(prattsdata.TargetStructureAlt=='C Corporation')& ~(prattsdata.TargetStructureAlt=='LLC')\n",
    "model11 = sm.OLS(Y[selection], X[selection]).fit()\n",
    "model11.summary()"
   ]
  },
  {
   "cell_type": "markdown",
   "metadata": {},
   "source": [
    "## Regression of $\\log V_{\\kappa}$ on $age,age^2$: Model"
   ]
  },
  {
   "cell_type": "code",
   "execution_count": 24,
   "metadata": {},
   "outputs": [
    {
     "data": {
      "text/html": [
       "<table class=\"simpletable\">\n",
       "<caption>OLS Regression Results</caption>\n",
       "<tr>\n",
       "  <th>Dep. Variable:</th>            <td>R</td>        <th>  R-squared:         </th> <td>   0.012</td> \n",
       "</tr>\n",
       "<tr>\n",
       "  <th>Model:</th>                   <td>OLS</td>       <th>  Adj. R-squared:    </th> <td>   0.012</td> \n",
       "</tr>\n",
       "<tr>\n",
       "  <th>Method:</th>             <td>Least Squares</td>  <th>  F-statistic:       </th> <td>   290.2</td> \n",
       "</tr>\n",
       "<tr>\n",
       "  <th>Date:</th>             <td>Mon, 15 Jun 2020</td> <th>  Prob (F-statistic):</th> <td>5.28e-126</td>\n",
       "</tr>\n",
       "<tr>\n",
       "  <th>Time:</th>                 <td>18:41:47</td>     <th>  Log-Likelihood:    </th> <td> -98061.</td> \n",
       "</tr>\n",
       "<tr>\n",
       "  <th>No. Observations:</th>      <td> 48366</td>      <th>  AIC:               </th> <td>1.961e+05</td>\n",
       "</tr>\n",
       "<tr>\n",
       "  <th>Df Residuals:</th>          <td> 48363</td>      <th>  BIC:               </th> <td>1.962e+05</td>\n",
       "</tr>\n",
       "<tr>\n",
       "  <th>Df Model:</th>              <td>     2</td>      <th>                     </th>     <td> </td>    \n",
       "</tr>\n",
       "<tr>\n",
       "  <th>Covariance Type:</th>      <td>nonrobust</td>    <th>                     </th>     <td> </td>    \n",
       "</tr>\n",
       "</table>\n",
       "<table class=\"simpletable\">\n",
       "<tr>\n",
       "      <td></td>         <th>coef</th>     <th>std err</th>      <th>t</th>      <th>P>|t|</th>  <th>[0.025</th>    <th>0.975]</th>  \n",
       "</tr>\n",
       "<tr>\n",
       "  <th>const</th>     <td>   -1.4068</td> <td>    0.013</td> <td> -109.712</td> <td> 0.000</td> <td>   -1.432</td> <td>   -1.382</td>\n",
       "</tr>\n",
       "<tr>\n",
       "  <th>sind_age</th>  <td>    0.0178</td> <td>    0.002</td> <td>   10.858</td> <td> 0.000</td> <td>    0.015</td> <td>    0.021</td>\n",
       "</tr>\n",
       "<tr>\n",
       "  <th>sind_age2</th> <td>   -0.0007</td> <td> 3.33e-05</td> <td>  -19.902</td> <td> 0.000</td> <td>   -0.001</td> <td>   -0.001</td>\n",
       "</tr>\n",
       "</table>\n",
       "<table class=\"simpletable\">\n",
       "<tr>\n",
       "  <th>Omnibus:</th>       <td>412.631</td> <th>  Durbin-Watson:     </th> <td>   1.992</td> \n",
       "</tr>\n",
       "<tr>\n",
       "  <th>Prob(Omnibus):</th> <td> 0.000</td>  <th>  Jarque-Bera (JB):  </th> <td> 642.030</td> \n",
       "</tr>\n",
       "<tr>\n",
       "  <th>Skew:</th>          <td>-0.060</td>  <th>  Prob(JB):          </th> <td>3.85e-140</td>\n",
       "</tr>\n",
       "<tr>\n",
       "  <th>Kurtosis:</th>      <td> 3.552</td>  <th>  Cond. No.          </th> <td>    854.</td> \n",
       "</tr>\n",
       "</table><br/><br/>Warnings:<br/>[1] Standard Errors assume that the covariance matrix of the errors is correctly specified."
      ],
      "text/plain": [
       "<class 'statsmodels.iolib.summary.Summary'>\n",
       "\"\"\"\n",
       "                            OLS Regression Results                            \n",
       "==============================================================================\n",
       "Dep. Variable:                      R   R-squared:                       0.012\n",
       "Model:                            OLS   Adj. R-squared:                  0.012\n",
       "Method:                 Least Squares   F-statistic:                     290.2\n",
       "Date:                Mon, 15 Jun 2020   Prob (F-statistic):          5.28e-126\n",
       "Time:                        18:41:47   Log-Likelihood:                -98061.\n",
       "No. Observations:               48366   AIC:                         1.961e+05\n",
       "Df Residuals:                   48363   BIC:                         1.962e+05\n",
       "Df Model:                           2                                         \n",
       "Covariance Type:            nonrobust                                         \n",
       "==============================================================================\n",
       "                 coef    std err          t      P>|t|      [0.025      0.975]\n",
       "------------------------------------------------------------------------------\n",
       "const         -1.4068      0.013   -109.712      0.000      -1.432      -1.382\n",
       "sind_age       0.0178      0.002     10.858      0.000       0.015       0.021\n",
       "sind_age2     -0.0007   3.33e-05    -19.902      0.000      -0.001      -0.001\n",
       "==============================================================================\n",
       "Omnibus:                      412.631   Durbin-Watson:                   1.992\n",
       "Prob(Omnibus):                  0.000   Jarque-Bera (JB):              642.030\n",
       "Skew:                          -0.060   Prob(JB):                    3.85e-140\n",
       "Kurtosis:                       3.552   Cond. No.                         854.\n",
       "==============================================================================\n",
       "\n",
       "Warnings:\n",
       "[1] Standard Errors assume that the covariance matrix of the errors is correctly specified.\n",
       "\"\"\""
      ]
     },
     "execution_count": 24,
     "metadata": {},
     "output_type": "execute_result"
    }
   ],
   "source": [
    "sel=(~data['flagC'] )\n",
    "data['sind_age2']=data['sind_age']**2\n",
    "X = data[['sind_age','sind_age2']]\n",
    "Y=np.log(data.R)\n",
    "X = sm.add_constant(X)\n",
    "model11 = sm.OLS(Y[sel], X[sel]).fit()\n",
    "model11.summary()"
   ]
  },
  {
   "cell_type": "markdown",
   "metadata": {},
   "source": [
    "# Business and Labor Income Percentiles"
   ]
  },
  {
   "cell_type": "code",
   "execution_count": 25,
   "metadata": {},
   "outputs": [
    {
     "name": "stdout",
     "output_type": "stream",
     "text": [
      "       lab_inc  bus_inc\n",
      "0.000 0.000    -2.067  \n",
      "0.050 0.000    -1.148  \n",
      "0.100 0.554    -0.002  \n",
      "0.150 0.947    -0.001  \n",
      "0.200 1.242    -0.000  \n",
      "0.250 1.252    -0.000  \n",
      "0.300 1.372    -0.000  \n",
      "0.350 1.477    -0.000  \n",
      "0.400 1.566    -0.000  \n",
      "0.450 1.643    0.000   \n",
      "0.500 1.728    0.000   \n",
      "0.550 1.813    0.008   \n",
      "0.600 1.855    0.032   \n",
      "0.650 1.980    0.247   \n",
      "0.700 2.593    0.414   \n",
      "0.750 3.002    1.312   \n",
      "0.800 3.215    2.098   \n",
      "0.850 3.377    2.414   \n",
      "0.900 3.539    2.640   \n",
      "0.950 3.722    2.787   \n",
      "1.000 6.536    3.000   \n"
     ]
    }
   ],
   "source": [
    "quantiles=pd.DataFrame( (data[data.flagC==True].lab_inc.quantile(np.linspace(0,1,21))))\n",
    "quantiles['bus_inc']=data[data.flagC==False].bus_inc.quantile(np.linspace(0,1,21))\n",
    "print(quantiles)"
   ]
  },
  {
   "cell_type": "markdown",
   "metadata": {},
   "source": [
    "# Lorenz curves"
   ]
  },
  {
   "cell_type": "code",
   "execution_count": 26,
   "metadata": {},
   "outputs": [
    {
     "data": {
      "text/html": [
       "<div>\n",
       "<style scoped>\n",
       "    .dataframe tbody tr th:only-of-type {\n",
       "        vertical-align: middle;\n",
       "    }\n",
       "\n",
       "    .dataframe tbody tr th {\n",
       "        vertical-align: top;\n",
       "    }\n",
       "\n",
       "    .dataframe thead th {\n",
       "        text-align: right;\n",
       "    }\n",
       "</style>\n",
       "<table border=\"1\" class=\"dataframe\">\n",
       "  <thead>\n",
       "    <tr style=\"text-align: right;\">\n",
       "      <th></th>\n",
       "      <th>frac_pop</th>\n",
       "      <th>bus_inc</th>\n",
       "      <th>kappa</th>\n",
       "      <th>hkap</th>\n",
       "      <th>hy</th>\n",
       "      <th>ns</th>\n",
       "      <th>ks</th>\n",
       "      <th>R</th>\n",
       "      <th>Vb_sdf</th>\n",
       "      <th>Vb_mf</th>\n",
       "    </tr>\n",
       "  </thead>\n",
       "  <tbody>\n",
       "    <tr>\n",
       "      <th>0</th>\n",
       "      <td>0.000</td>\n",
       "      <td>0.000</td>\n",
       "      <td>0.000</td>\n",
       "      <td>0.000</td>\n",
       "      <td>0.000</td>\n",
       "      <td>0.000</td>\n",
       "      <td>0.000</td>\n",
       "      <td>0.000</td>\n",
       "      <td>0.000</td>\n",
       "      <td>0.000</td>\n",
       "    </tr>\n",
       "    <tr>\n",
       "      <th>1</th>\n",
       "      <td>0.050</td>\n",
       "      <td>-0.141</td>\n",
       "      <td>0.000</td>\n",
       "      <td>0.000</td>\n",
       "      <td>0.000</td>\n",
       "      <td>0.000</td>\n",
       "      <td>0.000</td>\n",
       "      <td>0.001</td>\n",
       "      <td>0.018</td>\n",
       "      <td>0.023</td>\n",
       "    </tr>\n",
       "    <tr>\n",
       "      <th>2</th>\n",
       "      <td>0.100</td>\n",
       "      <td>-0.149</td>\n",
       "      <td>0.000</td>\n",
       "      <td>0.000</td>\n",
       "      <td>0.000</td>\n",
       "      <td>0.000</td>\n",
       "      <td>0.000</td>\n",
       "      <td>0.002</td>\n",
       "      <td>0.039</td>\n",
       "      <td>0.049</td>\n",
       "    </tr>\n",
       "    <tr>\n",
       "      <th>3</th>\n",
       "      <td>0.150</td>\n",
       "      <td>-0.149</td>\n",
       "      <td>0.000</td>\n",
       "      <td>0.000</td>\n",
       "      <td>0.000</td>\n",
       "      <td>0.000</td>\n",
       "      <td>0.000</td>\n",
       "      <td>0.004</td>\n",
       "      <td>0.064</td>\n",
       "      <td>0.076</td>\n",
       "    </tr>\n",
       "    <tr>\n",
       "      <th>4</th>\n",
       "      <td>0.200</td>\n",
       "      <td>-0.149</td>\n",
       "      <td>0.000</td>\n",
       "      <td>0.000</td>\n",
       "      <td>0.000</td>\n",
       "      <td>0.000</td>\n",
       "      <td>0.000</td>\n",
       "      <td>0.008</td>\n",
       "      <td>0.091</td>\n",
       "      <td>0.104</td>\n",
       "    </tr>\n",
       "    <tr>\n",
       "      <th>5</th>\n",
       "      <td>0.250</td>\n",
       "      <td>-0.149</td>\n",
       "      <td>0.000</td>\n",
       "      <td>0.000</td>\n",
       "      <td>0.000</td>\n",
       "      <td>0.000</td>\n",
       "      <td>0.000</td>\n",
       "      <td>0.012</td>\n",
       "      <td>0.118</td>\n",
       "      <td>0.133</td>\n",
       "    </tr>\n",
       "    <tr>\n",
       "      <th>6</th>\n",
       "      <td>0.300</td>\n",
       "      <td>-0.149</td>\n",
       "      <td>0.001</td>\n",
       "      <td>0.000</td>\n",
       "      <td>0.000</td>\n",
       "      <td>0.000</td>\n",
       "      <td>0.000</td>\n",
       "      <td>0.015</td>\n",
       "      <td>0.146</td>\n",
       "      <td>0.163</td>\n",
       "    </tr>\n",
       "    <tr>\n",
       "      <th>7</th>\n",
       "      <td>0.350</td>\n",
       "      <td>-0.149</td>\n",
       "      <td>0.007</td>\n",
       "      <td>0.000</td>\n",
       "      <td>0.000</td>\n",
       "      <td>0.000</td>\n",
       "      <td>0.000</td>\n",
       "      <td>0.019</td>\n",
       "      <td>0.176</td>\n",
       "      <td>0.193</td>\n",
       "    </tr>\n",
       "    <tr>\n",
       "      <th>8</th>\n",
       "      <td>0.400</td>\n",
       "      <td>-0.149</td>\n",
       "      <td>0.023</td>\n",
       "      <td>0.001</td>\n",
       "      <td>0.000</td>\n",
       "      <td>0.000</td>\n",
       "      <td>0.000</td>\n",
       "      <td>0.023</td>\n",
       "      <td>0.206</td>\n",
       "      <td>0.224</td>\n",
       "    </tr>\n",
       "    <tr>\n",
       "      <th>9</th>\n",
       "      <td>0.450</td>\n",
       "      <td>-0.149</td>\n",
       "      <td>0.058</td>\n",
       "      <td>0.001</td>\n",
       "      <td>0.000</td>\n",
       "      <td>0.000</td>\n",
       "      <td>0.000</td>\n",
       "      <td>0.027</td>\n",
       "      <td>0.238</td>\n",
       "      <td>0.259</td>\n",
       "    </tr>\n",
       "    <tr>\n",
       "      <th>10</th>\n",
       "      <td>0.500</td>\n",
       "      <td>-0.149</td>\n",
       "      <td>0.112</td>\n",
       "      <td>0.002</td>\n",
       "      <td>0.000</td>\n",
       "      <td>0.000</td>\n",
       "      <td>0.000</td>\n",
       "      <td>0.032</td>\n",
       "      <td>0.274</td>\n",
       "      <td>0.296</td>\n",
       "    </tr>\n",
       "    <tr>\n",
       "      <th>11</th>\n",
       "      <td>0.550</td>\n",
       "      <td>-0.149</td>\n",
       "      <td>0.177</td>\n",
       "      <td>0.004</td>\n",
       "      <td>0.001</td>\n",
       "      <td>0.000</td>\n",
       "      <td>0.000</td>\n",
       "      <td>0.039</td>\n",
       "      <td>0.314</td>\n",
       "      <td>0.336</td>\n",
       "    </tr>\n",
       "    <tr>\n",
       "      <th>12</th>\n",
       "      <td>0.600</td>\n",
       "      <td>-0.147</td>\n",
       "      <td>0.251</td>\n",
       "      <td>0.005</td>\n",
       "      <td>0.005</td>\n",
       "      <td>0.002</td>\n",
       "      <td>0.002</td>\n",
       "      <td>0.054</td>\n",
       "      <td>0.358</td>\n",
       "      <td>0.381</td>\n",
       "    </tr>\n",
       "    <tr>\n",
       "      <th>13</th>\n",
       "      <td>0.650</td>\n",
       "      <td>-0.139</td>\n",
       "      <td>0.331</td>\n",
       "      <td>0.007</td>\n",
       "      <td>0.019</td>\n",
       "      <td>0.007</td>\n",
       "      <td>0.009</td>\n",
       "      <td>0.079</td>\n",
       "      <td>0.408</td>\n",
       "      <td>0.432</td>\n",
       "    </tr>\n",
       "    <tr>\n",
       "      <th>14</th>\n",
       "      <td>0.700</td>\n",
       "      <td>-0.109</td>\n",
       "      <td>0.416</td>\n",
       "      <td>0.008</td>\n",
       "      <td>0.061</td>\n",
       "      <td>0.025</td>\n",
       "      <td>0.031</td>\n",
       "      <td>0.118</td>\n",
       "      <td>0.462</td>\n",
       "      <td>0.487</td>\n",
       "    </tr>\n",
       "    <tr>\n",
       "      <th>15</th>\n",
       "      <td>0.750</td>\n",
       "      <td>-0.055</td>\n",
       "      <td>0.505</td>\n",
       "      <td>0.022</td>\n",
       "      <td>0.136</td>\n",
       "      <td>0.069</td>\n",
       "      <td>0.080</td>\n",
       "      <td>0.181</td>\n",
       "      <td>0.523</td>\n",
       "      <td>0.547</td>\n",
       "    </tr>\n",
       "    <tr>\n",
       "      <th>16</th>\n",
       "      <td>0.800</td>\n",
       "      <td>0.098</td>\n",
       "      <td>0.597</td>\n",
       "      <td>0.057</td>\n",
       "      <td>0.276</td>\n",
       "      <td>0.224</td>\n",
       "      <td>0.233</td>\n",
       "      <td>0.298</td>\n",
       "      <td>0.609</td>\n",
       "      <td>0.628</td>\n",
       "    </tr>\n",
       "    <tr>\n",
       "      <th>17</th>\n",
       "      <td>0.850</td>\n",
       "      <td>0.295</td>\n",
       "      <td>0.693</td>\n",
       "      <td>0.106</td>\n",
       "      <td>0.438</td>\n",
       "      <td>0.401</td>\n",
       "      <td>0.408</td>\n",
       "      <td>0.451</td>\n",
       "      <td>0.702</td>\n",
       "      <td>0.717</td>\n",
       "    </tr>\n",
       "    <tr>\n",
       "      <th>18</th>\n",
       "      <td>0.900</td>\n",
       "      <td>0.516</td>\n",
       "      <td>0.790</td>\n",
       "      <td>0.197</td>\n",
       "      <td>0.614</td>\n",
       "      <td>0.592</td>\n",
       "      <td>0.596</td>\n",
       "      <td>0.619</td>\n",
       "      <td>0.799</td>\n",
       "      <td>0.808</td>\n",
       "    </tr>\n",
       "    <tr>\n",
       "      <th>19</th>\n",
       "      <td>0.950</td>\n",
       "      <td>0.754</td>\n",
       "      <td>0.892</td>\n",
       "      <td>0.397</td>\n",
       "      <td>0.801</td>\n",
       "      <td>0.791</td>\n",
       "      <td>0.793</td>\n",
       "      <td>0.800</td>\n",
       "      <td>0.897</td>\n",
       "      <td>0.902</td>\n",
       "    </tr>\n",
       "    <tr>\n",
       "      <th>20</th>\n",
       "      <td>1.000</td>\n",
       "      <td>1.000</td>\n",
       "      <td>1.000</td>\n",
       "      <td>1.000</td>\n",
       "      <td>1.000</td>\n",
       "      <td>1.000</td>\n",
       "      <td>1.000</td>\n",
       "      <td>1.000</td>\n",
       "      <td>1.000</td>\n",
       "      <td>1.000</td>\n",
       "    </tr>\n",
       "  </tbody>\n",
       "</table>\n",
       "</div>"
      ],
      "text/plain": [
       "    frac_pop  bus_inc  kappa  hkap    hy    ns    ks     R  Vb_sdf  Vb_mf\n",
       "0  0.000     0.000    0.000  0.000 0.000 0.000 0.000 0.000 0.000   0.000 \n",
       "1  0.050     -0.141   0.000  0.000 0.000 0.000 0.000 0.001 0.018   0.023 \n",
       "2  0.100     -0.149   0.000  0.000 0.000 0.000 0.000 0.002 0.039   0.049 \n",
       "3  0.150     -0.149   0.000  0.000 0.000 0.000 0.000 0.004 0.064   0.076 \n",
       "4  0.200     -0.149   0.000  0.000 0.000 0.000 0.000 0.008 0.091   0.104 \n",
       "5  0.250     -0.149   0.000  0.000 0.000 0.000 0.000 0.012 0.118   0.133 \n",
       "6  0.300     -0.149   0.001  0.000 0.000 0.000 0.000 0.015 0.146   0.163 \n",
       "7  0.350     -0.149   0.007  0.000 0.000 0.000 0.000 0.019 0.176   0.193 \n",
       "8  0.400     -0.149   0.023  0.001 0.000 0.000 0.000 0.023 0.206   0.224 \n",
       "9  0.450     -0.149   0.058  0.001 0.000 0.000 0.000 0.027 0.238   0.259 \n",
       "10 0.500     -0.149   0.112  0.002 0.000 0.000 0.000 0.032 0.274   0.296 \n",
       "11 0.550     -0.149   0.177  0.004 0.001 0.000 0.000 0.039 0.314   0.336 \n",
       "12 0.600     -0.147   0.251  0.005 0.005 0.002 0.002 0.054 0.358   0.381 \n",
       "13 0.650     -0.139   0.331  0.007 0.019 0.007 0.009 0.079 0.408   0.432 \n",
       "14 0.700     -0.109   0.416  0.008 0.061 0.025 0.031 0.118 0.462   0.487 \n",
       "15 0.750     -0.055   0.505  0.022 0.136 0.069 0.080 0.181 0.523   0.547 \n",
       "16 0.800     0.098    0.597  0.057 0.276 0.224 0.233 0.298 0.609   0.628 \n",
       "17 0.850     0.295    0.693  0.106 0.438 0.401 0.408 0.451 0.702   0.717 \n",
       "18 0.900     0.516    0.790  0.197 0.614 0.592 0.596 0.619 0.799   0.808 \n",
       "19 0.950     0.754    0.892  0.397 0.801 0.791 0.793 0.800 0.897   0.902 \n",
       "20 1.000     1.000    1.000  1.000 1.000 1.000 1.000 1.000 1.000   1.000 "
      ]
     },
     "execution_count": 26,
     "metadata": {},
     "output_type": "execute_result"
    }
   ],
   "source": [
    "sel=(~data['flagC'] )\n",
    "LzData=pd.DataFrame()\n",
    "LzData['frac_pop']=np.linspace(0,1,21)\n",
    "LzData['bus_inc']=Lorenz(data[sel]['bus_inc'],LzData.frac_pop)\n",
    "LzData['kappa']=Lorenz(data[sel]['kappa'],LzData.frac_pop)\n",
    "LzData['hkap']=Lorenz(data[sel]['hkap'],LzData.frac_pop)\n",
    "LzData['hy']=Lorenz(data[sel]['hy'],LzData.frac_pop)\n",
    "\n",
    "LzData['ns']=Lorenz(data[sel]['ns'],LzData.frac_pop)\n",
    "LzData['ks']=Lorenz(data[sel]['ks'],LzData.frac_pop)\n",
    "LzData['R']=Lorenz(data[sel]['R'],LzData.frac_pop)\n",
    "LzData['Vb_sdf']=Lorenz(data[sel]['val_sdf'],LzData.frac_pop)\n",
    "LzData['Vb_mf']=Lorenz(data[sel]['val_mf'],LzData.frac_pop)\n",
    "\n",
    "LzData"
   ]
  },
  {
   "cell_type": "markdown",
   "metadata": {},
   "source": [
    "# Cross Sectional Moments: All Businesses"
   ]
  },
  {
   "cell_type": "code",
   "execution_count": 27,
   "metadata": {},
   "outputs": [
    {
     "name": "stdout",
     "output_type": "stream",
     "text": [
      "      gross_returns: sdf  gross_returns: mf  intan. intensity  div yield: sdf  \\\n",
      "mean 1.078               1.075              0.593             0.015             \n",
      "std  0.238               0.214              0.405             0.124             \n",
      "gini 0.104               0.094              0.366             3.383             \n",
      "p10  0.868               0.886              0.110             -0.001            \n",
      "p25  1.010               1.015              0.125             -0.000            \n",
      "p50  1.020               1.020              0.752             0.000             \n",
      "p75  1.169               1.156              1.000             0.049             \n",
      "p95  1.545               1.523              1.000             0.167             \n",
      "p99  1.950               1.865              1.000             0.180             \n",
      "\n",
      "      div yield: mf  market value: R  valuation: sdf  valuation: mf  kappa  \\\n",
      "mean 0.016          1.026            3.368           3.781          0.441    \n",
      "std  0.110          1.388            1.912           1.928          0.369    \n",
      "gini 2.945          0.667            0.306           0.275          0.465    \n",
      "p10  -0.001         0.045            1.571           1.976          0.000    \n",
      "p25  -0.000         0.074            1.869           2.238          0.004    \n",
      "p50  0.000          0.125            2.530           2.941          0.534    \n",
      "p75  0.043          2.034            5.213           5.562          0.800    \n",
      "p95  0.156          3.775            6.760           7.230          0.930    \n",
      "p99  0.168          4.131            7.012           7.511          0.953    \n",
      "\n",
      "      bus inc  fin wealth:a  wealth:vb_sdf+a  wealth:vb_mf+a  markups  \\\n",
      "mean 0.573    14.092        17.460           17.873          -2.370     \n",
      "std  1.158    9.671         10.069           9.937           71.949     \n",
      "gini 0.995    0.381         0.324            0.312           -16.531    \n",
      "p10  -0.002   2.974         5.186            5.767           -99.929    \n",
      "p25  -0.000   6.584         9.856            10.356          -92.567    \n",
      "p50  0.000    12.192        15.877           16.271          40.107     \n",
      "p75  1.312    20.129        24.159           24.490          57.065     \n",
      "p95  2.787    32.439        36.081           36.281          75.866     \n",
      "p99  2.827    40.629        44.066           44.143          81.484     \n",
      "\n",
      "      log_meas_tfp  log_z    hy  hkap  total owner hrs: hy+hkap  \n",
      "mean 0.836         0.281  0.085 0.022 0.108                      \n",
      "std  0.084         0.605  0.126 0.062 0.142                      \n",
      "gini 0.056         1.163  0.717 0.874 0.667                      \n",
      "p10  0.711         -0.840 0.000 0.000 0.000                      \n",
      "p25  0.730         0.000  0.000 0.000 0.000                      \n",
      "p50  0.861         0.420  0.001 0.000 0.003                      \n",
      "p75  0.898         0.840  0.208 0.011 0.277                      \n",
      "p95  0.947         0.840  0.328 0.205 0.350                      \n",
      "p99  0.982         0.840  0.346 0.300 0.372                      \n"
     ]
    }
   ],
   "source": [
    "sel=(~data['flagC'] )\n",
    "\n",
    "val,cols=stats.describe(data[sel].ret_sdf,data[sel]['wgt'])\n",
    "moments_only_business=pd.DataFrame(val.T,columns=['gross_returns: sdf'])\n",
    "moments_only_business.index=cols\n",
    "\n",
    "\n",
    "\n",
    "val,cols=stats.describe(data[sel].ret_sdf,data[sel]['wgt'])\n",
    "moments_only_business['gross_returns: sdf']=val\n",
    "\n",
    "\n",
    "val,cols=stats.describe(data[sel].ret_mf,data[sel]['wgt'])\n",
    "moments_only_business['gross_returns: mf']=val\n",
    "\n",
    "sel2=sel&(data['ns']>0)\n",
    "val,cols=stats.describe(data[sel2].intan_int,data[sel2]['wgt'])\n",
    "moments_only_business['intan. intensity']=val\n",
    "\n",
    "\n",
    "val,cols=stats.describe(data[sel].div_yld_sdf,data[sel]['wgt'])\n",
    "moments_only_business['div yield: sdf']=val\n",
    "\n",
    "\n",
    "val,cols=stats.describe(data[sel].div_yld_mf,data[sel]['wgt'])\n",
    "moments_only_business['div yield: mf']=val\n",
    "\n",
    "\n",
    "val,cols=stats.describe(data[sel2].R,data[sel2]['wgt'])\n",
    "moments_only_business['market value: R']=val\n",
    "\n",
    "\n",
    "val,cols=stats.describe(data[sel].val_sdf,data[sel]['wgt'])\n",
    "moments_only_business['valuation: sdf']=val\n",
    "\n",
    "val,cols=stats.describe(data[sel].val_mf,data[sel]['wgt'])\n",
    "moments_only_business['valuation: mf']=val\n",
    "\n",
    "\n",
    "val,cols=stats.describe(data[sel].kappa,data[sel]['wgt'])\n",
    "moments_only_business['kappa']=val\n",
    "\n",
    "\n",
    "val,cols=stats.describe(data[sel].bus_inc,data[sel]['wgt'])\n",
    "moments_only_business['bus inc']=val\n",
    "\n",
    "\n",
    "\n",
    "val,cols=stats.describe(data[sel].a,data[sel]['wgt'])\n",
    "moments_only_business['fin wealth:a']=val\n",
    "\n",
    "\n",
    "val,cols=stats.describe(data[sel].wealth_sdf,data[sel]['wgt'])\n",
    "moments_only_business['wealth:vb_sdf+a']=val\n",
    "\n",
    "val,cols=stats.describe(data[sel].wealth_mf,data[sel]['wgt'])\n",
    "moments_only_business['wealth:vb_mf+a']=val\n",
    "\n",
    "\n",
    "\n",
    "val,cols=stats.describe(data[sel].measured_markups,data[sel]['wgt'])\n",
    "moments_only_business['markups']=val\n",
    "\n",
    "\n",
    "sel_temp=(~data['flagC'] )  & (~pd.isna(data['ztilde_meas']))\n",
    "val,cols=stats.describe(data[sel_temp].ztilde_meas,data[sel_temp]['wgt'])\n",
    "moments_only_business['log_meas_tfp']=val\n",
    "\n",
    "val,cols=stats.describe(data[sel].ztilde,data[sel]['wgt'])\n",
    "moments_only_business['log_z']=val\n",
    "\n",
    "val,cols=stats.describe(data[sel].hy,data[sel]['wgt'])\n",
    "moments_only_business['hy']=val\n",
    "\n",
    "\n",
    "val,cols=stats.describe(data[sel].hkap,data[sel]['wgt'])\n",
    "moments_only_business['hkap']=val\n",
    "\n",
    "\n",
    "val,cols=stats.describe(data[sel].hy,data[sel]['wgt'])\n",
    "moments_only_business['hy']=val\n",
    "\n",
    "\n",
    "val,cols=stats.describe(data[sel].n_e,data[sel]['wgt'])\n",
    "moments_only_business['total owner hrs: hy+hkap']=val\n",
    "\n",
    "\n",
    "\n",
    "print (moments_only_business)\n",
    "moments_only_business.to_excel('moments_all_businesses.xls')\n"
   ]
  },
  {
   "cell_type": "markdown",
   "metadata": {},
   "source": [
    "## Decomposition by  Sweat Capital: All Businesses"
   ]
  },
  {
   "cell_type": "code",
   "execution_count": 28,
   "metadata": {},
   "outputs": [
    {
     "name": "stdout",
     "output_type": "stream",
     "text": [
      "           kappa  intan_int  ret_sdf  div_yld_sdf  measured_markups  val_sdf  \\\n",
      "bin_kappa                                                                      \n",
      "0         0.000  0.997      1.006    -0.000       -41.116           1.842      \n",
      "1         0.051  0.879      1.010    -0.000       -35.060           1.877      \n",
      "2         0.503  0.577      1.057    -0.001       7.143             2.736      \n",
      "3         0.763  0.368      1.095    0.003        22.160            4.348      \n",
      "4         0.888  0.205      1.224    0.075        35.030            6.035      \n",
      "\n",
      "               a  wealth_sdf  s_age  sind_age  ind_age  ztilde_meas  ztilde  \\\n",
      "bin_kappa                                                                     \n",
      "0         12.664 14.506      8.505  8.160     54.830   0.889        -0.039    \n",
      "1         13.283 15.160      13.461 12.460    59.350   0.895        -0.004    \n",
      "2         16.487 19.223      12.723 11.263    53.058   0.862        0.179     \n",
      "3         15.063 19.412      8.622  7.091     47.217   0.799        0.499     \n",
      "4         12.962 18.997      7.712  6.271     45.987   0.731        0.768     \n",
      "\n",
      "           bus_inc    hy  hkap   n_e     ks  \n",
      "bin_kappa                                    \n",
      "0         0.000    0.000 0.000 0.000 0.000   \n",
      "1         0.003    0.001 0.000 0.002 0.040   \n",
      "2         0.185    0.041 0.015 0.057 2.541   \n",
      "3         0.785    0.132 0.046 0.178 10.423  \n",
      "4         1.891    0.251 0.050 0.301 22.065  \n"
     ]
    }
   ],
   "source": [
    "sel=(~data['flagC'] )\n",
    "\n",
    "var_bin = 'kappa'\n",
    "num_bins=5\n",
    "varlist=['kappa','intan_int','ret_sdf','div_yld_sdf','measured_markups','val_sdf','a','wealth_sdf','s_age','sind_age','ind_age','ztilde_meas','ztilde','bus_inc','hy','hkap','n_e','ks']\n",
    "tmp, bins_original = pd.qcut(data[sel][var_bin], q = num_bins, labels=False, retbins = True)\n",
    "data['bin_' + var_bin] = tmp[:]\n",
    "bins = bins_original.copy()\n",
    "bins[0] = -np.inf\n",
    "bins[-1] = np.inf\n",
    "data['bin_' + var_bin] = pd.cut(data[var_bin], bins, labels = False)     \n",
    "mean_baseline=data[sel].groupby('bin_' + var_bin).mean()[varlist]\n",
    "count_baseline=data[sel].groupby('bin_' + var_bin).count()[varlist]\n",
    "print(mean_baseline)\n"
   ]
  },
  {
   "cell_type": "markdown",
   "metadata": {},
   "source": [
    "## Decomposition by  Financial assets: All Businesses"
   ]
  },
  {
   "cell_type": "code",
   "execution_count": 29,
   "metadata": {},
   "outputs": [
    {
     "name": "stdout",
     "output_type": "stream",
     "text": [
      "       kappa     R  intan_int  ret_sdf  div_yld_sdf  measured_markups  \\\n",
      "bin_a                                                                   \n",
      "0     0.365  0.720 0.667      1.099    -0.009       -10.969             \n",
      "1     0.434  0.991 0.605      1.078    0.015        -0.991              \n",
      "2     0.456  1.055 0.592      1.078    0.020        -0.993              \n",
      "3     0.511  1.194 0.559      1.074    0.027        3.350               \n",
      "4     0.440  1.031 0.602      1.062    0.024        -2.244              \n",
      "\n",
      "       val_sdf      a  wealth_sdf  s_age  sind_age  ind_age  ztilde_meas  \\\n",
      "bin_a                                                                      \n",
      "0     2.587    2.832  5.419       7.791  7.081     48.334   0.892          \n",
      "1     3.388    7.707  11.095      8.852  7.877     48.132   0.848          \n",
      "2     3.605    12.233 15.838      9.817  8.782     52.549   0.831          \n",
      "3     3.853    18.237 22.090      10.203 8.933     54.202   0.811          \n",
      "4     3.405    29.452 32.857      14.361 12.573    57.226   0.797          \n",
      "\n",
      "       ztilde  bus_inc    hy  hkap   n_e    ns    ks  \n",
      "bin_a                                                 \n",
      "0     0.267   0.346    0.070 0.032 0.102 0.081 5.042  \n",
      "1     0.275   0.604    0.092 0.024 0.116 0.121 7.335  \n",
      "2     0.289   0.639    0.092 0.022 0.114 0.127 7.639  \n",
      "3     0.297   0.711    0.097 0.020 0.116 0.140 8.355  \n",
      "4     0.275   0.566    0.074 0.015 0.090 0.113 6.697  \n"
     ]
    }
   ],
   "source": [
    "sel=(~data['flagC'] )\n",
    "\n",
    "var_bin = 'a'\n",
    "num_bins=5\n",
    "varlist=['kappa','R','intan_int','ret_sdf','div_yld_sdf','measured_markups','val_sdf','a','wealth_sdf','s_age','sind_age','ind_age','ztilde_meas','ztilde','bus_inc','hy','hkap','n_e','ns','ks']\n",
    "tmp, bins_original = pd.qcut(data[sel][var_bin], q = num_bins, labels=False, retbins = True)\n",
    "data['bin_' + var_bin] = tmp[:]\n",
    "bins = bins_original.copy()\n",
    "bins[0] = -np.inf\n",
    "bins[-1] = np.inf\n",
    "data['bin_' + var_bin] = pd.cut(data[var_bin], bins, labels = False)     \n",
    "mean_baseline=data[sel].groupby('bin_' + var_bin).mean()[varlist]\n",
    "count_baseline=data[sel].groupby('bin_' + var_bin).count()[varlist]\n",
    "print(mean_baseline)\n"
   ]
  },
  {
   "cell_type": "markdown",
   "metadata": {},
   "source": [
    "## Decomposition by z: All Businesses"
   ]
  },
  {
   "cell_type": "code",
   "execution_count": 30,
   "metadata": {},
   "outputs": [
    {
     "name": "stdout",
     "output_type": "stream",
     "text": [
      "       kappa  intan_int  ret_sdf  div_yld_sdf  measured_markups  val_sdf  \\\n",
      "bin_z                                                                      \n",
      "0     0.240  0.999      0.960    -0.000       -96.650           2.087      \n",
      "1     0.167  0.989      0.984    -0.000       -75.565           1.983      \n",
      "2     0.246  0.871      0.965    0.001        -19.519           2.137      \n",
      "3     0.386  0.556      0.967    0.018        37.915            2.679      \n",
      "4     0.666  0.319      1.228    0.028        33.168            4.854      \n",
      "\n",
      "           a  wealth_sdf  s_age  sind_age  ind_age  ztilde_meas  ztilde  \\\n",
      "bin_z                                                                     \n",
      "0     14.115 16.202      11.298 10.243    55.143   0.886        -0.840    \n",
      "1     13.808 15.791      11.040 10.098    54.986   0.889        -0.420    \n",
      "2     14.136 16.272      11.053 10.101    54.764   0.891        0.000     \n",
      "3     13.947 16.626      11.025 9.818     53.039   0.878        0.420     \n",
      "4     14.219 19.073      8.986  7.701     49.064   0.766        0.840     \n",
      "\n",
      "       bus_inc    hy  hkap   n_e    ns     ks     R  \n",
      "bin_z                                                \n",
      "0     -0.001   0.000 0.000 0.000 0.000 0.000  0.143  \n",
      "1     -0.000   0.000 0.000 0.000 0.000 0.002  0.104  \n",
      "2     0.007    0.002 0.000 0.002 0.001 0.065  0.158  \n",
      "3     0.184    0.039 0.000 0.039 0.021 1.534  0.460  \n",
      "4     1.268    0.182 0.053 0.235 0.265 15.864 2.025  \n"
     ]
    }
   ],
   "source": [
    "sel=(~data['flagC'] )  \n",
    "var_bin = 'z'\n",
    "varlist=['kappa','intan_int','ret_sdf','div_yld_sdf','measured_markups','val_sdf','a','wealth_sdf','s_age','sind_age','ind_age','ztilde_meas','ztilde','bus_inc','hy','hkap','n_e','ns','ks','R']\n",
    "bins=data[sel].z\n",
    "bins=np.hstack((-1,sorted(data.z.unique())))\n",
    "data['bin_' + var_bin] = pd.cut(data[var_bin], bins, labels = False)     \n",
    "mean_baseline=data[sel].groupby('bin_' + var_bin).mean()[varlist]\n",
    "count_baseline=data[sel].groupby('bin_' + var_bin).count()[varlist]\n",
    "print(mean_baseline)"
   ]
  },
  {
   "cell_type": "markdown",
   "metadata": {},
   "source": [
    "# Cross Sectional Moments: Young Businesses"
   ]
  },
  {
   "cell_type": "markdown",
   "metadata": {},
   "source": [
    "#### ``young'' defined as owners that have been running the businesse for less than 5 yrs (variable: sind_age)"
   ]
  },
  {
   "cell_type": "code",
   "execution_count": 31,
   "metadata": {},
   "outputs": [
    {
     "name": "stdout",
     "output_type": "stream",
     "text": [
      "      gross_returns: sdf  gross_returns: mf  intan. intensity  \\\n",
      "mean 1.119               1.114              0.581               \n",
      "std  0.289               0.260              0.415               \n",
      "gini 0.132               0.119              0.379               \n",
      "p10  0.820               0.844              0.108               \n",
      "p25  1.007               1.014              0.119               \n",
      "p50  1.037               1.037              0.726               \n",
      "p75  1.223               1.201              1.000               \n",
      "p95  1.650               1.610              1.000               \n",
      "p99  2.023               1.923              1.000               \n",
      "\n",
      "      market value: R  div yield: sdf  div yield: mf  valuation: sdf  \\\n",
      "mean 1.026            -0.014          -0.010         3.545             \n",
      "std  1.400            0.169           0.148          1.876             \n",
      "gini 0.674            -5.560          -7.155         0.292             \n",
      "p10  0.019            -0.379          -0.339         1.633             \n",
      "p25  0.060            -0.000          -0.000         2.012             \n",
      "p50  0.100            0.000           0.000          2.790             \n",
      "p75  2.241            0.061           0.053          5.669             \n",
      "p95  3.762            0.167           0.157          6.700             \n",
      "p99  4.121            0.182           0.169          6.984             \n",
      "\n",
      "      valuation: mf    ns     ks  bus inc  fin wealth:a  wealth:vb_sdf+a  \\\n",
      "mean 4.004          0.715 7.493  0.499    12.400        15.945             \n",
      "std  1.897          1.096 11.348 1.294    9.136         9.412              \n",
      "gini 0.262          0.724 0.720  1.354    0.403         0.328              \n",
      "p10  2.035          0.000 0.000  -1.339   2.297         4.671              \n",
      "p25  2.336          0.000 0.000  -0.000   5.440         8.902              \n",
      "p50  3.236          0.001 0.008  0.000    10.432        14.270             \n",
      "p75  6.048          1.943 20.045 1.481    17.503        21.536             \n",
      "p95  7.212          2.733 28.403 2.799    30.219        33.788             \n",
      "p99  7.507          2.852 29.383 2.827    38.939        42.092             \n",
      "\n",
      "      wealth:vb_mf+a  markups  log_meas_tfp  log_z    hy  hkap  \\\n",
      "mean 16.403          -7.610   0.798         0.321  0.092 0.043   \n",
      "std  9.259           72.463   0.084         0.603  0.131 0.087   \n",
      "gini 0.313           -5.208   0.058         0.996  0.702 0.814   \n",
      "p10  5.422           -99.978  0.707         -0.840 0.000 0.000   \n",
      "p25  9.430           -96.283  0.716         0.000  0.000 0.000   \n",
      "p50  14.714          34.162   0.777         0.420  0.000 0.001   \n",
      "p75  21.889          54.385   0.875         0.840  0.232 0.030   \n",
      "p95  34.025          76.182   0.921         0.840  0.335 0.271   \n",
      "p99  42.301          81.836   0.973         0.840  0.349 0.312   \n",
      "\n",
      "      total owner hrs: hy+hkap  \n",
      "mean 0.135                      \n",
      "std  0.150                      \n",
      "gini 0.592                      \n",
      "p10  0.000                      \n",
      "p25  0.000                      \n",
      "p50  0.022                      \n",
      "p75  0.303                      \n",
      "p95  0.359                      \n",
      "p99  0.381                      \n"
     ]
    }
   ],
   "source": [
    "sel=(~data['flagC'] ) & (data['sind_age']<5.0)  \n",
    "\n",
    "val,cols=stats.describe(data[sel].ret_sdf,data[sel]['wgt'])\n",
    "moments_only_business=pd.DataFrame(val.T,columns=['gross_returns: sdf'])\n",
    "moments_only_business.index=cols\n",
    "\n",
    "val,cols=stats.describe(data[sel].ret_mf,data[sel]['wgt'])\n",
    "moments_only_business['gross_returns: mf']=val\n",
    "\n",
    "\n",
    "val,cols=stats.describe(data[sel].ret_sdf,data[sel]['wgt'])\n",
    "moments_only_business['gross_returns: sdf']=val\n",
    "\n",
    "\n",
    "sel2=sel&(data['ns']>0)\n",
    "val,cols=stats.describe(data[sel2].intan_int,data[sel2]['wgt'])\n",
    "moments_only_business['intan. intensity']=val\n",
    "\n",
    "\n",
    "val,cols=stats.describe(data[sel].R,data[sel]['wgt'])\n",
    "moments_only_business['market value: R']=val\n",
    "\n",
    "\n",
    "val,cols=stats.describe(data[sel].div_yld_sdf,data[sel]['wgt'])\n",
    "moments_only_business['div yield: sdf']=val\n",
    "\n",
    "\n",
    "val,cols=stats.describe(data[sel].div_yld_mf,data[sel]['wgt'])\n",
    "moments_only_business['div yield: mf']=val\n",
    "\n",
    "\n",
    "val,cols=stats.describe(data[sel].val_sdf,data[sel]['wgt'])\n",
    "moments_only_business['valuation: sdf']=val\n",
    "\n",
    "val,cols=stats.describe(data[sel].val_mf,data[sel]['wgt'])\n",
    "moments_only_business['valuation: mf']=val\n",
    "\n",
    "\n",
    "val,cols=stats.describe(w*data[sel].ns,data[sel]['wgt'])\n",
    "moments_only_business['ns']=val\n",
    "\n",
    "\n",
    "val,cols=stats.describe(data[sel].ks,data[sel]['wgt'])\n",
    "moments_only_business['ks']=val\n",
    "\n",
    "\n",
    "val,cols=stats.describe(data[sel].bus_inc,data[sel]['wgt'])\n",
    "moments_only_business['bus inc']=val\n",
    "\n",
    "\n",
    "\n",
    "val,cols=stats.describe(data[sel].a,data[sel]['wgt'])\n",
    "moments_only_business['fin wealth:a']=val\n",
    "\n",
    "\n",
    "val,cols=stats.describe(data[sel].wealth_sdf,data[sel]['wgt'])\n",
    "moments_only_business['wealth:vb_sdf+a']=val\n",
    "\n",
    "val,cols=stats.describe(data[sel].wealth_mf,data[sel]['wgt'])\n",
    "moments_only_business['wealth:vb_mf+a']=val\n",
    "\n",
    "\n",
    "\n",
    "val,cols=stats.describe(data[sel].measured_markups,data[sel]['wgt'])\n",
    "moments_only_business['markups']=val\n",
    "\n",
    "\n",
    "sel_temp=(~data['flagC'] ) & (~data['flagO']) & (~pd.isna(data['ztilde_meas']))\n",
    "val,cols=stats.describe(data[sel_temp].ztilde_meas,data[sel_temp]['wgt'])\n",
    "moments_only_business['log_meas_tfp']=val\n",
    "\n",
    "\n",
    "val,cols=stats.describe(data[sel].ztilde,data[sel]['wgt'])\n",
    "moments_only_business['log_z']=val\n",
    "\n",
    "val,cols=stats.describe(data[sel].hy,data[sel]['wgt'])\n",
    "moments_only_business['hy']=val\n",
    "\n",
    "\n",
    "val,cols=stats.describe(data[sel].hkap,data[sel]['wgt'])\n",
    "moments_only_business['hkap']=val\n",
    "\n",
    "\n",
    "val,cols=stats.describe(data[sel].hy,data[sel]['wgt'])\n",
    "moments_only_business['hy']=val\n",
    "\n",
    "\n",
    "val,cols=stats.describe(data[sel].n_e,data[sel]['wgt'])\n",
    "moments_only_business['total owner hrs: hy+hkap']=val\n",
    "\n",
    "\n",
    "print (moments_only_business)\n",
    "moments_only_business.to_excel('moments_young_businesses.xls')\n"
   ]
  },
  {
   "cell_type": "markdown",
   "metadata": {},
   "source": [
    "## Decomposition by  Sweat Capital: Young Businesses"
   ]
  },
  {
   "cell_type": "code",
   "execution_count": 32,
   "metadata": {},
   "outputs": [
    {
     "name": "stdout",
     "output_type": "stream",
     "text": [
      "           kappa     x  intan_int  ret_sdf  div_yld_sdf  measured_markups  \\\n",
      "bin_kappa                                                                   \n",
      "0         0.000  0.000 0.997      0.997    0.000        -37.977             \n",
      "1         0.015  0.000 0.917      1.000    0.000        -33.449             \n",
      "2         0.496  0.273 0.492      1.117    -0.037       3.829               \n",
      "3         0.791  0.589 0.374      1.202    -0.068       4.151               \n",
      "4         0.892  0.491 0.237      1.281    0.035        25.394              \n",
      "\n",
      "           val_sdf      a  wealth_sdf  s_age  sind_age  ind_age  ztilde_meas  \\\n",
      "bin_kappa                                                                      \n",
      "0         1.951    12.655 14.606      1.958  1.422     47.677   0.888          \n",
      "1         2.000    12.888 14.888      2.740  1.449     47.832   0.896          \n",
      "2         3.210    14.470 17.680      2.573  1.603     46.455   0.844          \n",
      "3         4.646    11.463 16.109      3.269  1.848     41.159   0.776          \n",
      "4         5.918    10.522 16.441      3.404  1.979     41.530   0.730          \n",
      "\n",
      "           ztilde  bus_inc    hy  hkap   n_e    ns     ks  \n",
      "bin_kappa                                                  \n",
      "0         -0.121  0.000    0.000 0.000 0.000 0.000 0.000   \n",
      "1         -0.105  0.002    0.001 0.000 0.001 0.000 0.018   \n",
      "2         0.360   0.220    0.070 0.046 0.117 0.073 4.606   \n",
      "3         0.674   0.619    0.146 0.095 0.241 0.193 11.708  \n",
      "4         0.796   1.656    0.243 0.074 0.316 0.354 21.131  \n"
     ]
    }
   ],
   "source": [
    "sel=(~data['flagC'] ) & (data['sind_age']<5) \n",
    "var_bin = 'kappa'\n",
    "num_bins=5\n",
    "varlist=['kappa','x','intan_int','ret_sdf','div_yld_sdf','measured_markups','val_sdf','a','wealth_sdf','s_age','sind_age','ind_age','ztilde_meas','ztilde','bus_inc','hy','hkap','n_e','ns','ks']\n",
    "tmp, bins_original = pd.qcut(data[sel][var_bin], q = num_bins, labels=False, retbins = True)\n",
    "data['bin_' + var_bin] = tmp[:]\n",
    "bins = bins_original.copy()\n",
    "bins[0] = -np.inf\n",
    "bins[-1] = np.inf\n",
    "data['bin_' + var_bin] = pd.cut(data[var_bin], bins, labels = False)     \n",
    "mean_baseline=data[sel].groupby('bin_' + var_bin).mean()[varlist]\n",
    "count_baseline=data[sel].groupby('bin_' + var_bin).count()[varlist]\n",
    "print(mean_baseline)\n"
   ]
  },
  {
   "cell_type": "markdown",
   "metadata": {},
   "source": [
    "## Decomposition by Financial Assets: Young Businesses"
   ]
  },
  {
   "cell_type": "code",
   "execution_count": 33,
   "metadata": {},
   "outputs": [
    {
     "name": "stdout",
     "output_type": "stream",
     "text": [
      "       kappa  intan_int  ret_sdf  div_yld_sdf  measured_markups  val_sdf  \\\n",
      "bin_a                                                                      \n",
      "0     0.443  0.616      1.167    -0.037       -13.675           2.945      \n",
      "1     0.457  0.577      1.112    -0.007       -1.630            3.649      \n",
      "2     0.444  0.602      1.112    -0.008       -6.773            3.737      \n",
      "3     0.460  0.602      1.106    -0.007       -6.246            3.876      \n",
      "4     0.392  0.621      1.100    -0.010       -9.723            3.518      \n",
      "\n",
      "           a  wealth_sdf  s_age  sind_age  ind_age  ztilde_meas  ztilde  \\\n",
      "bin_a                                                                     \n",
      "0     2.189  5.134       2.166  1.562     43.596   0.874        0.371     \n",
      "1     6.379  10.027      2.740  1.666     41.483   0.836        0.320     \n",
      "2     10.487 14.224      2.904  1.678     44.745   0.825        0.299     \n",
      "3     15.868 19.744      2.654  1.695     49.287   0.810        0.311     \n",
      "4     27.076 30.594      3.481  1.699     45.543   0.794        0.304     \n",
      "\n",
      "       bus_inc    hy  hkap   n_e  \n",
      "bin_a                             \n",
      "0     0.368    0.093 0.059 0.151  \n",
      "1     0.612    0.106 0.042 0.148  \n",
      "2     0.549    0.096 0.041 0.137  \n",
      "3     0.549    0.093 0.039 0.132  \n",
      "4     0.419    0.073 0.034 0.107  \n"
     ]
    }
   ],
   "source": [
    "sel=(~data['flagC'] ) & (data['sind_age']<5.0)  \n",
    "\n",
    "var_bin = 'a'\n",
    "num_bins=5\n",
    "varlist=['kappa','intan_int','ret_sdf','div_yld_sdf','measured_markups','val_sdf','a','wealth_sdf','s_age','sind_age','ind_age','ztilde_meas','ztilde','bus_inc','hy','hkap','n_e']\n",
    "tmp, bins_original = pd.qcut(data[sel][var_bin], q = num_bins, labels=False, retbins = True)\n",
    "data['bin_' + var_bin] = tmp[:]\n",
    "bins = bins_original.copy()\n",
    "bins[0] = -np.inf\n",
    "bins[-1] = np.inf\n",
    "data['bin_' + var_bin] = pd.cut(data[var_bin], bins, labels = False)     \n",
    "mean_baseline=data[sel].groupby('bin_' + var_bin).mean()[varlist]\n",
    "count_baseline=data[sel].groupby('bin_' + var_bin).count()[varlist]\n",
    "print(mean_baseline)\n"
   ]
  },
  {
   "cell_type": "markdown",
   "metadata": {},
   "source": [
    "## Decomposition by z: Young Businesses"
   ]
  },
  {
   "cell_type": "code",
   "execution_count": 34,
   "metadata": {},
   "outputs": [
    {
     "name": "stdout",
     "output_type": "stream",
     "text": [
      "       bus_inc  kappa  intan_int  ret_sdf  div_yld_sdf  measured_markups  \\\n",
      "bin_z                                                                      \n",
      "0     -0.001   0.135  0.999      0.951    -0.000       -97.056             \n",
      "1     -0.000   0.066  0.990      0.980    -0.000       -74.897             \n",
      "2     0.005    0.140  0.893      0.956    0.000        -6.924              \n",
      "3     0.179    0.325  0.559      0.938    0.018        45.539              \n",
      "4     0.995    0.727  0.351      1.306    -0.036       11.421              \n",
      "\n",
      "       val_sdf      a  wealth_sdf  s_age  sind_age  ind_age  ztilde_meas  \\\n",
      "bin_z                                                                      \n",
      "0     2.081    12.804 14.885      2.566  1.564     48.551   0.890          \n",
      "1     2.010    12.812 14.822      2.382  1.487     46.936   0.891          \n",
      "2     2.124    12.904 15.029      2.590  1.607     46.833   0.895          \n",
      "3     2.686    12.495 15.181      3.080  1.859     46.032   0.883          \n",
      "4     4.976    12.030 17.007      2.888  1.667     42.628   0.754          \n",
      "\n",
      "       ztilde    hy  hkap   n_e    ns     ks     R  \n",
      "bin_z                                               \n",
      "0     -0.840  0.000 0.000 0.000 0.000 0.000  0.105  \n",
      "1     -0.420  0.000 0.000 0.000 0.000 0.001  0.069  \n",
      "2     0.000   0.001 0.000 0.002 0.001 0.045  0.111  \n",
      "3     0.420   0.039 0.000 0.040 0.020 1.481  0.412  \n",
      "4     0.840   0.181 0.091 0.272 0.256 15.373 1.958  \n"
     ]
    }
   ],
   "source": [
    "sel=(~data['flagC'] ) & (data['sind_age']<5)  \n",
    "\n",
    "var_bin = 'z'\n",
    "varlist=['bus_inc','kappa','intan_int','ret_sdf','div_yld_sdf','measured_markups','val_sdf','a','wealth_sdf','s_age','sind_age','ind_age','ztilde_meas','ztilde','hy','hkap','n_e','ns','ks','R']\n",
    "bins=np.hstack((-1,sorted(data.z.unique())))\n",
    "data['bin_' + var_bin] = pd.cut(data[var_bin], bins, labels = False)     \n",
    "mean_baseline=data[sel].groupby('bin_' + var_bin).mean()[varlist]\n",
    "count_baseline=data[sel].groupby('bin_' + var_bin).count()[varlist]\n",
    "print(mean_baseline)\n"
   ]
  },
  {
   "cell_type": "markdown",
   "metadata": {},
   "source": [
    "# Effects of change in $\\tau_{b}$\n",
    "Please point to the simulations of the economy after the tabx change"
   ]
  },
  {
   "cell_type": "code",
   "execution_count": 35,
   "metadata": {},
   "outputs": [],
   "source": [
    "df_baseline=[]\n",
    "df_target=[]\n",
    "my_file_handle=open(path_baseline+ '/' + momfilename_baseline )\n",
    "textbuffer_baseline=my_file_handle.read()\n",
    "my_file_handle=open(path_target+'/'+momfilename_target)\n",
    "textbuffer_target=my_file_handle.read()\n",
    "w,p,rc,rs,delta,GDP=get_prices(path_target,momfilename_target)\n",
    "df_target=uploadData(path_target,w,rs,rc,p,delta)"
   ]
  },
  {
   "cell_type": "markdown",
   "metadata": {},
   "source": [
    "##    $\\Delta$  in Equilibrium Prices\n",
    "% change in wage, rental rate of capital, and relative price of s-good"
   ]
  },
  {
   "cell_type": "code",
   "execution_count": 36,
   "metadata": {},
   "outputs": [
    {
     "name": "stdout",
     "output_type": "stream",
     "text": [
      "Wage (w):  9.69244773197071\n",
      "S-good price (p):  2.6389318061495137\n",
      "Interest rate (r_c):  -13.989443258012757\n"
     ]
    }
   ],
   "source": [
    "varlist=['Wage (w)','S-good price (p)','Interest rate (r_c)']\n",
    "for var in varlist:\n",
    "    print(var+ \":  \"+ str((__extract_num__(var,textbuffer_target)/__extract_num__(var,textbuffer_baseline)-1)*100 ))"
   ]
  },
  {
   "cell_type": "markdown",
   "metadata": {},
   "source": [
    "##    $\\Delta$  in economy-wide aggregates"
   ]
  },
  {
   "cell_type": "code",
   "execution_count": 37,
   "metadata": {},
   "outputs": [],
   "source": [
    "DeltaDebt=(__extract_num__('  Govt. debt(b)',textbuffer_target)/__extract_num__('  Govt. debt(b)',textbuffer_baseline)-1)*100\n",
    "DeltaFracS=(__extract_num__('  Frac of S-corp owner',textbuffer_target)/__extract_num__('  Frac of S-corp owner',textbuffer_baseline)-1)*100\n",
    "\n",
    "DeltaGDP=(__extract_num__('  GDP',textbuffer_target)/__extract_num__('  GDP',textbuffer_baseline)-1)*100\n",
    "AggCons_baseline=__extract_num__('  Consumption(Ecc)',textbuffer_baseline)+__extract_num__('  Consumption(Ecs)',textbuffer_baseline)*__extract_num__('S-good price (p)',textbuffer_baseline)\n",
    "AggCons_target=__extract_num__('  Consumption(Ecc)',textbuffer_target)+__extract_num__('  Consumption(Ecs)',textbuffer_target)*__extract_num__('S-good price (p)',textbuffer_target)\n",
    "DeltaAggCons=(AggCons_target/AggCons_baseline-1)*100\n",
    "AggHours_baseline=__extract_num__('  Eff. Worked Hours Demand(nc)',textbuffer_baseline)+__extract_num__('  Eff. Worked Hours Demand(Ens)',textbuffer_baseline)+__extract_num__('  Hours, sweat(Ehkap) ',textbuffer_baseline)+__extract_num__('  Hours, production(Ehy) ',textbuffer_baseline)\n",
    "AggHours_target=__extract_num__('  Eff. Worked Hours Demand(nc)',textbuffer_target)+__extract_num__('  Eff. Worked Hours Demand(Ens)',textbuffer_target)+__extract_num__('  Hours, sweat(Ehkap) ',textbuffer_target)+__extract_num__('  Hours, production(Ehy) ',textbuffer_target)\n",
    "DeltaAggHours=(AggHours_target/AggHours_baseline-1)*100\n",
    "DeltaVb_mutual=(df_target.val_mf.sum()/data.val_mf.sum()-1)*100\n",
    "AggFa_baseline=__extract_num__('  Capital(kc)',textbuffer_baseline)+__extract_num__('  S-Corp Rental Capital (ks)',textbuffer_baseline)\n",
    "AggFa_target=__extract_num__('  Capital(kc)',textbuffer_target)+__extract_num__('  S-Corp Rental Capital (ks)',textbuffer_target)\n",
    "DeltaAggFa=(AggFa_target/AggFa_baseline-1)*100  \n",
    "DeltaTaxRevenues=(__extract_num__('  Tax revenue(tax_rev)',textbuffer_target)/__extract_num__('  Tax revenue(tax_rev)',textbuffer_baseline)-1)*100\n",
    "AggEmpHours_baseline=__extract_num__('  Eff. Worked Hours Demand(nc)',textbuffer_baseline)+__extract_num__('  Eff. Worked Hours Demand(Ens)',textbuffer_baseline)\n",
    "AggEmpHours_target=__extract_num__('  Eff. Worked Hours Demand(nc)',textbuffer_target)+__extract_num__('  Eff. Worked Hours Demand(Ens)',textbuffer_target)\n",
    "DeltaAggEmpHours=(AggEmpHours_target/AggEmpHours_baseline-1)*100\n"
   ]
  },
  {
   "cell_type": "code",
   "execution_count": 38,
   "metadata": {},
   "outputs": [
    {
     "name": "stdout",
     "output_type": "stream",
     "text": [
      "GDP: 7.5513348515245715\n",
      "Agg. Cons: 7.408772291234311\n",
      "Agg. Hours: 2.8926113165182787\n",
      "Agg. Emp Hours: -0.3271508377416521\n",
      "Agg. Vb (mf): 8.179296655958801\n",
      "Agg. Fixed assets: 17.685112617300682\n",
      "Agg. Tax revenues: -1.245799938641956\n",
      "Agg. Debt: -19.306734434552865\n",
      "Frac in S: 4.691312078733012\n"
     ]
    }
   ],
   "source": [
    "print(\"GDP: \" + str( DeltaGDP))\n",
    "print(\"Agg. Cons: \" + str( DeltaAggCons))\n",
    "print(\"Agg. Hours: \" + str( DeltaAggHours))\n",
    "print(\"Agg. Emp Hours: \" + str( DeltaAggEmpHours))\n",
    "print(\"Agg. Vb (mf): \" + str( DeltaVb_mutual))\n",
    "print(\"Agg. Fixed assets: \" + str( DeltaAggFa))\n",
    "print(\"Agg. Tax revenues: \" + str( DeltaTaxRevenues))\n",
    "print(\"Agg. Debt: \" + str(DeltaDebt))\n",
    "print(\"Frac in S: \" + str(DeltaFracS))"
   ]
  },
  {
   "cell_type": "markdown",
   "metadata": {},
   "source": [
    "##    $\\Delta$  in C-corp sector"
   ]
  },
  {
   "cell_type": "code",
   "execution_count": 39,
   "metadata": {},
   "outputs": [
    {
     "name": "stdout",
     "output_type": "stream",
     "text": [
      "  Output(yc) :  12.273012960305829\n",
      "  Consumption(Ecc):  7.424313429869089\n",
      "  Eff. Worked Hours Demand(nc):  2.352545942488793\n",
      "  Capital(kc):  23.05264818606638\n"
     ]
    }
   ],
   "source": [
    "varlist=['  Output(yc) ','  Consumption(Ecc)','  Eff. Worked Hours Demand(nc)','  Capital(kc)']\n",
    "for var in varlist:\n",
    "    print(var+ \":  \"+ str((__extract_num__(var,textbuffer_target)/__extract_num__(var,textbuffer_baseline)-1)*100 ))"
   ]
  },
  {
   "cell_type": "code",
   "execution_count": 40,
   "metadata": {},
   "outputs": [],
   "source": [
    "df_baseline_workers = data[data['flagC']==True]\n",
    "df_target_workers=df_target[df_target['flagC']==True]\n",
    "df_baseline = data[data['flagC']==False]\n",
    "df_target=df_target[df_target['flagC']==False]"
   ]
  },
  {
   "cell_type": "code",
   "execution_count": 41,
   "metadata": {},
   "outputs": [],
   "source": [
    "my_file_handle=open(path_baseline+'/'+momfilename_baseline)\n",
    "textbuffer_baseline=my_file_handle.read()\n",
    "my_file_handle=open(path_target+'/'+momfilename_target)\n",
    "textbuffer_target=my_file_handle.read()"
   ]
  },
  {
   "cell_type": "markdown",
   "metadata": {},
   "source": [
    "##    $\\Delta$ factor use and outputs for  Private Busineses"
   ]
  },
  {
   "cell_type": "code",
   "execution_count": 42,
   "metadata": {},
   "outputs": [
    {
     "name": "stdout",
     "output_type": "stream",
     "text": [
      "---------------- sum change (%)--------------\n",
      "x         9.393 \n",
      "hy        15.285\n",
      "ns        -5.982\n",
      "hkap      7.801 \n",
      "ne        13.721\n",
      "ys        4.636 \n",
      "ks        7.704 \n",
      "kappa     8.702 \n",
      "bus_inc   11.893\n",
      "pys       7.398 \n",
      "wns       3.131 \n",
      "val_mf    10.460\n",
      "val_sdf   8.347 \n",
      "div       4.916 \n",
      "s_age     2.990 \n",
      "pys       7.398 \n",
      "dtype: float64\n"
     ]
    }
   ],
   "source": [
    "varlist=['x','hy','ns','hkap','ne','ys','ks','kappa','bus_inc','pys','wns','val_mf','val_sdf','div','s_age','pys']\n",
    "print(\"---------------- sum change (%)--------------\")\n",
    "# per_change_agg=100.*(df_target[varlist].sum()/df_baseline[varlist].sum() -1.)\n",
    "# print(per_change_agg)\n",
    "print(100.*(df_target.sum()/df_baseline.sum() - 1.)[varlist])"
   ]
  },
  {
   "cell_type": "markdown",
   "metadata": {},
   "source": [
    "##  Aggregate $\\Delta$ profitability\n",
    "Agg profitability is defined as  sum of business incomes in passthrus / sum of physical capital used in pass thrus "
   ]
  },
  {
   "cell_type": "code",
   "execution_count": 43,
   "metadata": {},
   "outputs": [
    {
     "name": "stdout",
     "output_type": "stream",
     "text": [
      "---------------- profitability --------------\n",
      "after tax change:   8.49\n",
      "Baseline:           8.17\n",
      "DELTA:              3.89\n"
     ]
    }
   ],
   "source": [
    "print(\"---------------- profitability --------------\")\n",
    "target_profitability=df_target.bus_inc.sum()/df_target.ks.sum()\n",
    "baseline_profitability=df_baseline.bus_inc.sum()/df_baseline.ks.sum()\n",
    "print(\"after tax change:  % 4.2f\" % (100*target_profitability))\n",
    "print(\"Baseline:          % 4.2f\"  % (100*baseline_profitability))\n",
    "print(\"DELTA:             % 4.2f\" % ( 100*(target_profitability/baseline_profitability-1) ))\n"
   ]
  },
  {
   "cell_type": "markdown",
   "metadata": {},
   "source": [
    "##  Aggregate $\\Delta$ markups\n",
    "Agg markups  is defined as  sum of business incomes in passthrus / sum rental and wage expenses in pass thrus "
   ]
  },
  {
   "cell_type": "code",
   "execution_count": 44,
   "metadata": {},
   "outputs": [
    {
     "name": "stdout",
     "output_type": "stream",
     "text": [
      "after tax change:   42.97\n",
      "Baseline:           40.54\n",
      "DELTA:              5.98\n"
     ]
    }
   ],
   "source": [
    "target_markups=df_target.bus_inc.sum()/df_target.cogs.sum()\n",
    "baseline_markups=df_baseline.bus_inc.sum()/df_baseline.cogs.sum()\n",
    "print(\"after tax change:  % 4.2f\" % (100*target_markups))\n",
    "print(\"Baseline:          % 4.2f\"  % (100*baseline_markups))\n",
    "print(\"DELTA:             % 4.2f\" % ( 100*(target_markups/baseline_markups-1) ))\n"
   ]
  },
  {
   "cell_type": "markdown",
   "metadata": {},
   "source": [
    "## Aggregate $\\Delta$ TFP in passthru\n",
    "Agg. TFP is defined as (sum of ys )  divided   (sum of ks)^(1/3) x (sum of ns)^(2/3)"
   ]
  },
  {
   "cell_type": "code",
   "execution_count": 45,
   "metadata": {},
   "outputs": [
    {
     "name": "stdout",
     "output_type": "stream",
     "text": [
      "after tax change:    2.42\n",
      "Baseline:            2.27\n",
      "DELTA:               6.35\n"
     ]
    }
   ],
   "source": [
    "target_TFP=(df_target.ys.sum())/ (((df_target.ks.sum())**(0.33))*((df_target.ns.sum())**(0.66)))\n",
    "baseline_TFP=(df_baseline.ys.sum()) /(((df_baseline.ks.sum())**(0.33))*((df_baseline.ns.sum())**(0.66)))\n",
    "print(\"after tax change:   % 4.2f\" % (target_TFP))\n",
    "print(\"Baseline:           % 4.2f\" % (baseline_TFP))\n",
    "print(\"DELTA:              % 4.2f\"% (100*(target_TFP/baseline_TFP-1))) \n"
   ]
  },
  {
   "cell_type": "markdown",
   "metadata": {},
   "source": [
    "## Decomposition of $\\Delta$ by Owner productivity \"z\""
   ]
  },
  {
   "cell_type": "code",
   "execution_count": 46,
   "metadata": {},
   "outputs": [
    {
     "name": "stdout",
     "output_type": "stream",
     "text": [
      "\n",
      "SORTED BY z\n",
      "BINS = [-1.0, 0.43, 0.66, 1.0, 1.52, 2.32]\n"
     ]
    }
   ],
   "source": [
    "var_bin = 'z'\n",
    "var_list=['ztilde','eps','a','bus_inc','ys','ks','kappa','ns','hy','hkap','ztilde_meas','zkapphi','ne','measured_markups','pys','wns']\n",
    "bins=data[sel].z\n",
    "bins=np.hstack((-1,sorted(data.z.unique())))\n",
    "total,sum_baseline,intensive_alt,extensive_alt=print_results(var_bin,bins,var_list,df_baseline,df_target)"
   ]
  },
  {
   "cell_type": "markdown",
   "metadata": {},
   "source": [
    "### Total change"
   ]
  },
  {
   "cell_type": "code",
   "execution_count": 47,
   "metadata": {},
   "outputs": [
    {
     "data": {
      "text/html": [
       "<div>\n",
       "<style scoped>\n",
       "    .dataframe tbody tr th:only-of-type {\n",
       "        vertical-align: middle;\n",
       "    }\n",
       "\n",
       "    .dataframe tbody tr th {\n",
       "        vertical-align: top;\n",
       "    }\n",
       "\n",
       "    .dataframe thead th {\n",
       "        text-align: right;\n",
       "    }\n",
       "</style>\n",
       "<table border=\"1\" class=\"dataframe\">\n",
       "  <thead>\n",
       "    <tr style=\"text-align: right;\">\n",
       "      <th></th>\n",
       "      <th>bins/total</th>\n",
       "      <th>ztilde</th>\n",
       "      <th>eps</th>\n",
       "      <th>a</th>\n",
       "      <th>bus_inc</th>\n",
       "      <th>ys</th>\n",
       "      <th>ks</th>\n",
       "      <th>kappa</th>\n",
       "      <th>ns</th>\n",
       "      <th>hy</th>\n",
       "      <th>hkap</th>\n",
       "      <th>ztilde_meas</th>\n",
       "      <th>zkapphi</th>\n",
       "      <th>ne</th>\n",
       "      <th>measured_markups</th>\n",
       "      <th>pys</th>\n",
       "      <th>wns</th>\n",
       "    </tr>\n",
       "  </thead>\n",
       "  <tbody>\n",
       "    <tr>\n",
       "      <th>0</th>\n",
       "      <td>(-1.0, 0.432]</td>\n",
       "      <td>-1.720</td>\n",
       "      <td>0.541</td>\n",
       "      <td>0.975</td>\n",
       "      <td>-0.002</td>\n",
       "      <td>0.000</td>\n",
       "      <td>0.000</td>\n",
       "      <td>0.594</td>\n",
       "      <td>-0.000</td>\n",
       "      <td>0.000</td>\n",
       "      <td>0.013</td>\n",
       "      <td>1.844</td>\n",
       "      <td>0.149</td>\n",
       "      <td>0.003</td>\n",
       "      <td>22.272</td>\n",
       "      <td>0.000</td>\n",
       "      <td>0.000</td>\n",
       "    </tr>\n",
       "    <tr>\n",
       "      <th>1</th>\n",
       "      <td>(0.432, 0.657]</td>\n",
       "      <td>-0.693</td>\n",
       "      <td>0.404</td>\n",
       "      <td>0.826</td>\n",
       "      <td>0.000</td>\n",
       "      <td>0.001</td>\n",
       "      <td>0.001</td>\n",
       "      <td>0.407</td>\n",
       "      <td>-0.000</td>\n",
       "      <td>0.003</td>\n",
       "      <td>0.008</td>\n",
       "      <td>1.692</td>\n",
       "      <td>0.183</td>\n",
       "      <td>0.004</td>\n",
       "      <td>5.239</td>\n",
       "      <td>0.001</td>\n",
       "      <td>0.000</td>\n",
       "    </tr>\n",
       "    <tr>\n",
       "      <th>2</th>\n",
       "      <td>(0.657, 1.0]</td>\n",
       "      <td>0.000</td>\n",
       "      <td>0.481</td>\n",
       "      <td>0.941</td>\n",
       "      <td>0.034</td>\n",
       "      <td>0.015</td>\n",
       "      <td>0.019</td>\n",
       "      <td>0.714</td>\n",
       "      <td>-0.001</td>\n",
       "      <td>0.070</td>\n",
       "      <td>0.014</td>\n",
       "      <td>1.839</td>\n",
       "      <td>0.383</td>\n",
       "      <td>0.058</td>\n",
       "      <td>-20.049</td>\n",
       "      <td>0.019</td>\n",
       "      <td>0.008</td>\n",
       "    </tr>\n",
       "    <tr>\n",
       "      <th>3</th>\n",
       "      <td>(1.0, 1.522]</td>\n",
       "      <td>1.411</td>\n",
       "      <td>0.939</td>\n",
       "      <td>1.579</td>\n",
       "      <td>0.887</td>\n",
       "      <td>0.332</td>\n",
       "      <td>0.470</td>\n",
       "      <td>1.455</td>\n",
       "      <td>-0.145</td>\n",
       "      <td>1.472</td>\n",
       "      <td>0.037</td>\n",
       "      <td>2.817</td>\n",
       "      <td>1.049</td>\n",
       "      <td>1.172</td>\n",
       "      <td>-59.136</td>\n",
       "      <td>0.456</td>\n",
       "      <td>0.182</td>\n",
       "    </tr>\n",
       "    <tr>\n",
       "      <th>4</th>\n",
       "      <td>(1.522, 2.317]</td>\n",
       "      <td>6.541</td>\n",
       "      <td>2.480</td>\n",
       "      <td>3.871</td>\n",
       "      <td>10.974</td>\n",
       "      <td>4.289</td>\n",
       "      <td>7.215</td>\n",
       "      <td>5.532</td>\n",
       "      <td>-5.836</td>\n",
       "      <td>13.740</td>\n",
       "      <td>7.729</td>\n",
       "      <td>5.464</td>\n",
       "      <td>4.328</td>\n",
       "      <td>12.484</td>\n",
       "      <td>-106.672</td>\n",
       "      <td>6.923</td>\n",
       "      <td>2.941</td>\n",
       "    </tr>\n",
       "    <tr>\n",
       "      <th>5</th>\n",
       "      <td>total</td>\n",
       "      <td>5.539</td>\n",
       "      <td>4.845</td>\n",
       "      <td>8.193</td>\n",
       "      <td>11.893</td>\n",
       "      <td>4.636</td>\n",
       "      <td>7.704</td>\n",
       "      <td>8.702</td>\n",
       "      <td>-5.982</td>\n",
       "      <td>15.285</td>\n",
       "      <td>7.801</td>\n",
       "      <td>13.655</td>\n",
       "      <td>6.090</td>\n",
       "      <td>13.721</td>\n",
       "      <td>-158.345</td>\n",
       "      <td>7.398</td>\n",
       "      <td>3.131</td>\n",
       "    </tr>\n",
       "  </tbody>\n",
       "</table>\n",
       "</div>"
      ],
      "text/plain": [
       "       bins/total  ztilde   eps     a  bus_inc    ys    ks  kappa     ns  \\\n",
       "0  (-1.0, 0.432]  -1.720  0.541 0.975 -0.002   0.000 0.000 0.594  -0.000   \n",
       "1  (0.432, 0.657] -0.693  0.404 0.826 0.000    0.001 0.001 0.407  -0.000   \n",
       "2  (0.657, 1.0]   0.000   0.481 0.941 0.034    0.015 0.019 0.714  -0.001   \n",
       "3  (1.0, 1.522]   1.411   0.939 1.579 0.887    0.332 0.470 1.455  -0.145   \n",
       "4  (1.522, 2.317] 6.541   2.480 3.871 10.974   4.289 7.215 5.532  -5.836   \n",
       "5  total          5.539   4.845 8.193 11.893   4.636 7.704 8.702  -5.982   \n",
       "\n",
       "      hy  hkap  ztilde_meas  zkapphi     ne  measured_markups   pys   wns  \n",
       "0 0.000  0.013 1.844        0.149    0.003  22.272            0.000 0.000  \n",
       "1 0.003  0.008 1.692        0.183    0.004  5.239             0.001 0.000  \n",
       "2 0.070  0.014 1.839        0.383    0.058  -20.049           0.019 0.008  \n",
       "3 1.472  0.037 2.817        1.049    1.172  -59.136           0.456 0.182  \n",
       "4 13.740 7.729 5.464        4.328    12.484 -106.672          6.923 2.941  \n",
       "5 15.285 7.801 13.655       6.090    13.721 -158.345          7.398 3.131  "
      ]
     },
     "execution_count": 47,
     "metadata": {},
     "output_type": "execute_result"
    }
   ],
   "source": [
    "agg= 100*total/sum_baseline.sum() \n",
    "aggsum=100*total.sum()/sum_baseline.sum()    \n",
    "format_table(agg,aggsum)   "
   ]
  },
  {
   "cell_type": "markdown",
   "metadata": {},
   "source": [
    "### Intensive "
   ]
  },
  {
   "cell_type": "code",
   "execution_count": 48,
   "metadata": {},
   "outputs": [
    {
     "data": {
      "text/html": [
       "<div>\n",
       "<style scoped>\n",
       "    .dataframe tbody tr th:only-of-type {\n",
       "        vertical-align: middle;\n",
       "    }\n",
       "\n",
       "    .dataframe tbody tr th {\n",
       "        vertical-align: top;\n",
       "    }\n",
       "\n",
       "    .dataframe thead th {\n",
       "        text-align: right;\n",
       "    }\n",
       "</style>\n",
       "<table border=\"1\" class=\"dataframe\">\n",
       "  <thead>\n",
       "    <tr style=\"text-align: right;\">\n",
       "      <th></th>\n",
       "      <th>bins/total</th>\n",
       "      <th>ztilde</th>\n",
       "      <th>eps</th>\n",
       "      <th>a</th>\n",
       "      <th>bus_inc</th>\n",
       "      <th>ys</th>\n",
       "      <th>ks</th>\n",
       "      <th>kappa</th>\n",
       "      <th>ns</th>\n",
       "      <th>hy</th>\n",
       "      <th>hkap</th>\n",
       "      <th>ztilde_meas</th>\n",
       "      <th>zkapphi</th>\n",
       "      <th>ne</th>\n",
       "      <th>measured_markups</th>\n",
       "      <th>pys</th>\n",
       "      <th>wns</th>\n",
       "    </tr>\n",
       "  </thead>\n",
       "  <tbody>\n",
       "    <tr>\n",
       "      <th>0</th>\n",
       "      <td>(-1.0, 0.432]</td>\n",
       "      <td>0.000</td>\n",
       "      <td>-0.010</td>\n",
       "      <td>0.391</td>\n",
       "      <td>-0.001</td>\n",
       "      <td>0.000</td>\n",
       "      <td>0.000</td>\n",
       "      <td>0.275</td>\n",
       "      <td>-0.000</td>\n",
       "      <td>0.000</td>\n",
       "      <td>0.007</td>\n",
       "      <td>1.200</td>\n",
       "      <td>0.032</td>\n",
       "      <td>0.002</td>\n",
       "      <td>-1.147</td>\n",
       "      <td>0.000</td>\n",
       "      <td>0.000</td>\n",
       "    </tr>\n",
       "    <tr>\n",
       "      <th>1</th>\n",
       "      <td>(0.432, 0.657]</td>\n",
       "      <td>0.000</td>\n",
       "      <td>-0.037</td>\n",
       "      <td>0.366</td>\n",
       "      <td>0.001</td>\n",
       "      <td>0.000</td>\n",
       "      <td>0.000</td>\n",
       "      <td>0.227</td>\n",
       "      <td>-0.000</td>\n",
       "      <td>0.002</td>\n",
       "      <td>0.004</td>\n",
       "      <td>1.112</td>\n",
       "      <td>0.054</td>\n",
       "      <td>0.003</td>\n",
       "      <td>-9.350</td>\n",
       "      <td>0.000</td>\n",
       "      <td>0.000</td>\n",
       "    </tr>\n",
       "    <tr>\n",
       "      <th>2</th>\n",
       "      <td>(0.657, 1.0]</td>\n",
       "      <td>0.000</td>\n",
       "      <td>-0.022</td>\n",
       "      <td>0.407</td>\n",
       "      <td>0.027</td>\n",
       "      <td>0.010</td>\n",
       "      <td>0.014</td>\n",
       "      <td>0.413</td>\n",
       "      <td>-0.004</td>\n",
       "      <td>0.057</td>\n",
       "      <td>0.008</td>\n",
       "      <td>1.234</td>\n",
       "      <td>0.129</td>\n",
       "      <td>0.046</td>\n",
       "      <td>-23.908</td>\n",
       "      <td>0.013</td>\n",
       "      <td>0.004</td>\n",
       "    </tr>\n",
       "    <tr>\n",
       "      <th>3</th>\n",
       "      <td>(1.0, 1.522]</td>\n",
       "      <td>0.000</td>\n",
       "      <td>0.013</td>\n",
       "      <td>0.632</td>\n",
       "      <td>0.571</td>\n",
       "      <td>0.123</td>\n",
       "      <td>0.257</td>\n",
       "      <td>0.617</td>\n",
       "      <td>-0.304</td>\n",
       "      <td>1.016</td>\n",
       "      <td>0.021</td>\n",
       "      <td>1.789</td>\n",
       "      <td>0.218</td>\n",
       "      <td>0.808</td>\n",
       "      <td>-43.055</td>\n",
       "      <td>0.244</td>\n",
       "      <td>0.015</td>\n",
       "    </tr>\n",
       "    <tr>\n",
       "      <th>4</th>\n",
       "      <td>(1.522, 2.317]</td>\n",
       "      <td>0.000</td>\n",
       "      <td>0.186</td>\n",
       "      <td>1.625</td>\n",
       "      <td>5.986</td>\n",
       "      <td>-0.638</td>\n",
       "      <td>2.216</td>\n",
       "      <td>2.178</td>\n",
       "      <td>-10.558</td>\n",
       "      <td>8.831</td>\n",
       "      <td>2.527</td>\n",
       "      <td>3.230</td>\n",
       "      <td>0.668</td>\n",
       "      <td>7.514</td>\n",
       "      <td>-74.209</td>\n",
       "      <td>1.931</td>\n",
       "      <td>-1.997</td>\n",
       "    </tr>\n",
       "    <tr>\n",
       "      <th>5</th>\n",
       "      <td>total</td>\n",
       "      <td>0.000</td>\n",
       "      <td>0.131</td>\n",
       "      <td>3.420</td>\n",
       "      <td>6.583</td>\n",
       "      <td>-0.505</td>\n",
       "      <td>2.488</td>\n",
       "      <td>3.710</td>\n",
       "      <td>-10.867</td>\n",
       "      <td>9.906</td>\n",
       "      <td>2.566</td>\n",
       "      <td>8.566</td>\n",
       "      <td>1.100</td>\n",
       "      <td>8.373</td>\n",
       "      <td>-151.670</td>\n",
       "      <td>2.189</td>\n",
       "      <td>-1.978</td>\n",
       "    </tr>\n",
       "  </tbody>\n",
       "</table>\n",
       "</div>"
      ],
      "text/plain": [
       "       bins/total  ztilde    eps     a  bus_inc     ys    ks  kappa      ns  \\\n",
       "0  (-1.0, 0.432]  0.000   -0.010 0.391 -0.001   0.000  0.000 0.275  -0.000    \n",
       "1  (0.432, 0.657] 0.000   -0.037 0.366 0.001    0.000  0.000 0.227  -0.000    \n",
       "2  (0.657, 1.0]   0.000   -0.022 0.407 0.027    0.010  0.014 0.413  -0.004    \n",
       "3  (1.0, 1.522]   0.000   0.013  0.632 0.571    0.123  0.257 0.617  -0.304    \n",
       "4  (1.522, 2.317] 0.000   0.186  1.625 5.986    -0.638 2.216 2.178  -10.558   \n",
       "5  total          0.000   0.131  3.420 6.583    -0.505 2.488 3.710  -10.867   \n",
       "\n",
       "     hy  hkap  ztilde_meas  zkapphi    ne  measured_markups   pys    wns  \n",
       "0 0.000 0.007 1.200        0.032    0.002 -1.147            0.000 0.000   \n",
       "1 0.002 0.004 1.112        0.054    0.003 -9.350            0.000 0.000   \n",
       "2 0.057 0.008 1.234        0.129    0.046 -23.908           0.013 0.004   \n",
       "3 1.016 0.021 1.789        0.218    0.808 -43.055           0.244 0.015   \n",
       "4 8.831 2.527 3.230        0.668    7.514 -74.209           1.931 -1.997  \n",
       "5 9.906 2.566 8.566        1.100    8.373 -151.670          2.189 -1.978  "
      ]
     },
     "execution_count": 48,
     "metadata": {},
     "output_type": "execute_result"
    }
   ],
   "source": [
    "format_table(intensive_alt,intensive_alt.sum())   "
   ]
  },
  {
   "cell_type": "markdown",
   "metadata": {},
   "source": [
    "### Extensive"
   ]
  },
  {
   "cell_type": "code",
   "execution_count": 49,
   "metadata": {},
   "outputs": [
    {
     "data": {
      "text/html": [
       "<div>\n",
       "<style scoped>\n",
       "    .dataframe tbody tr th:only-of-type {\n",
       "        vertical-align: middle;\n",
       "    }\n",
       "\n",
       "    .dataframe tbody tr th {\n",
       "        vertical-align: top;\n",
       "    }\n",
       "\n",
       "    .dataframe thead th {\n",
       "        text-align: right;\n",
       "    }\n",
       "</style>\n",
       "<table border=\"1\" class=\"dataframe\">\n",
       "  <thead>\n",
       "    <tr style=\"text-align: right;\">\n",
       "      <th></th>\n",
       "      <th>bins/total</th>\n",
       "      <th>ztilde</th>\n",
       "      <th>eps</th>\n",
       "      <th>a</th>\n",
       "      <th>bus_inc</th>\n",
       "      <th>ys</th>\n",
       "      <th>ks</th>\n",
       "      <th>kappa</th>\n",
       "      <th>ns</th>\n",
       "      <th>hy</th>\n",
       "      <th>hkap</th>\n",
       "      <th>ztilde_meas</th>\n",
       "      <th>zkapphi</th>\n",
       "      <th>ne</th>\n",
       "      <th>measured_markups</th>\n",
       "      <th>pys</th>\n",
       "      <th>wns</th>\n",
       "    </tr>\n",
       "  </thead>\n",
       "  <tbody>\n",
       "    <tr>\n",
       "      <th>0</th>\n",
       "      <td>(-1.0, 0.432]</td>\n",
       "      <td>-1.720</td>\n",
       "      <td>0.551</td>\n",
       "      <td>0.584</td>\n",
       "      <td>-0.001</td>\n",
       "      <td>0.000</td>\n",
       "      <td>0.000</td>\n",
       "      <td>0.319</td>\n",
       "      <td>0.000</td>\n",
       "      <td>0.000</td>\n",
       "      <td>0.007</td>\n",
       "      <td>0.643</td>\n",
       "      <td>0.117</td>\n",
       "      <td>0.001</td>\n",
       "      <td>23.420</td>\n",
       "      <td>0.000</td>\n",
       "      <td>0.000</td>\n",
       "    </tr>\n",
       "    <tr>\n",
       "      <th>1</th>\n",
       "      <td>(0.432, 0.657]</td>\n",
       "      <td>-0.693</td>\n",
       "      <td>0.440</td>\n",
       "      <td>0.461</td>\n",
       "      <td>-0.000</td>\n",
       "      <td>0.000</td>\n",
       "      <td>0.000</td>\n",
       "      <td>0.179</td>\n",
       "      <td>0.000</td>\n",
       "      <td>0.000</td>\n",
       "      <td>0.004</td>\n",
       "      <td>0.580</td>\n",
       "      <td>0.129</td>\n",
       "      <td>0.001</td>\n",
       "      <td>14.589</td>\n",
       "      <td>0.000</td>\n",
       "      <td>0.000</td>\n",
       "    </tr>\n",
       "    <tr>\n",
       "      <th>2</th>\n",
       "      <td>(0.657, 1.0]</td>\n",
       "      <td>0.000</td>\n",
       "      <td>0.503</td>\n",
       "      <td>0.535</td>\n",
       "      <td>0.007</td>\n",
       "      <td>0.005</td>\n",
       "      <td>0.005</td>\n",
       "      <td>0.301</td>\n",
       "      <td>0.004</td>\n",
       "      <td>0.013</td>\n",
       "      <td>0.006</td>\n",
       "      <td>0.604</td>\n",
       "      <td>0.253</td>\n",
       "      <td>0.012</td>\n",
       "      <td>3.860</td>\n",
       "      <td>0.005</td>\n",
       "      <td>0.004</td>\n",
       "    </tr>\n",
       "    <tr>\n",
       "      <th>3</th>\n",
       "      <td>(1.0, 1.522]</td>\n",
       "      <td>1.411</td>\n",
       "      <td>0.926</td>\n",
       "      <td>0.948</td>\n",
       "      <td>0.316</td>\n",
       "      <td>0.209</td>\n",
       "      <td>0.212</td>\n",
       "      <td>0.839</td>\n",
       "      <td>0.159</td>\n",
       "      <td>0.456</td>\n",
       "      <td>0.016</td>\n",
       "      <td>1.028</td>\n",
       "      <td>0.831</td>\n",
       "      <td>0.364</td>\n",
       "      <td>-16.081</td>\n",
       "      <td>0.212</td>\n",
       "      <td>0.167</td>\n",
       "    </tr>\n",
       "    <tr>\n",
       "      <th>4</th>\n",
       "      <td>(1.522, 2.317]</td>\n",
       "      <td>6.541</td>\n",
       "      <td>2.293</td>\n",
       "      <td>2.246</td>\n",
       "      <td>4.989</td>\n",
       "      <td>4.927</td>\n",
       "      <td>4.999</td>\n",
       "      <td>3.355</td>\n",
       "      <td>4.722</td>\n",
       "      <td>4.909</td>\n",
       "      <td>5.202</td>\n",
       "      <td>2.233</td>\n",
       "      <td>3.660</td>\n",
       "      <td>4.970</td>\n",
       "      <td>-32.463</td>\n",
       "      <td>4.992</td>\n",
       "      <td>4.938</td>\n",
       "    </tr>\n",
       "    <tr>\n",
       "      <th>5</th>\n",
       "      <td>total</td>\n",
       "      <td>5.539</td>\n",
       "      <td>4.714</td>\n",
       "      <td>4.774</td>\n",
       "      <td>5.310</td>\n",
       "      <td>5.141</td>\n",
       "      <td>5.217</td>\n",
       "      <td>4.993</td>\n",
       "      <td>4.885</td>\n",
       "      <td>5.379</td>\n",
       "      <td>5.234</td>\n",
       "      <td>5.089</td>\n",
       "      <td>4.990</td>\n",
       "      <td>5.348</td>\n",
       "      <td>-6.675</td>\n",
       "      <td>5.209</td>\n",
       "      <td>5.109</td>\n",
       "    </tr>\n",
       "  </tbody>\n",
       "</table>\n",
       "</div>"
      ],
      "text/plain": [
       "       bins/total  ztilde   eps     a  bus_inc    ys    ks  kappa    ns    hy  \\\n",
       "0  (-1.0, 0.432]  -1.720  0.551 0.584 -0.001   0.000 0.000 0.319  0.000 0.000   \n",
       "1  (0.432, 0.657] -0.693  0.440 0.461 -0.000   0.000 0.000 0.179  0.000 0.000   \n",
       "2  (0.657, 1.0]   0.000   0.503 0.535 0.007    0.005 0.005 0.301  0.004 0.013   \n",
       "3  (1.0, 1.522]   1.411   0.926 0.948 0.316    0.209 0.212 0.839  0.159 0.456   \n",
       "4  (1.522, 2.317] 6.541   2.293 2.246 4.989    4.927 4.999 3.355  4.722 4.909   \n",
       "5  total          5.539   4.714 4.774 5.310    5.141 5.217 4.993  4.885 5.379   \n",
       "\n",
       "   hkap  ztilde_meas  zkapphi    ne  measured_markups   pys   wns  \n",
       "0 0.007 0.643        0.117    0.001 23.420            0.000 0.000  \n",
       "1 0.004 0.580        0.129    0.001 14.589            0.000 0.000  \n",
       "2 0.006 0.604        0.253    0.012 3.860             0.005 0.004  \n",
       "3 0.016 1.028        0.831    0.364 -16.081           0.212 0.167  \n",
       "4 5.202 2.233        3.660    4.970 -32.463           4.992 4.938  \n",
       "5 5.234 5.089        4.990    5.348 -6.675            5.209 5.109  "
      ]
     },
     "execution_count": 49,
     "metadata": {},
     "output_type": "execute_result"
    }
   ],
   "source": [
    "format_table(extensive_alt,extensive_alt.sum())   "
   ]
  },
  {
   "cell_type": "markdown",
   "metadata": {},
   "source": [
    "##  Decomposition of $\\Delta$ by Owner sweat capital"
   ]
  },
  {
   "cell_type": "code",
   "execution_count": 50,
   "metadata": {},
   "outputs": [
    {
     "name": "stdout",
     "output_type": "stream",
     "text": [
      "\n",
      "SORTED BY kappa\n",
      "BINS = [-inf, 0.0, 0.23, 0.68, 0.83, inf]\n"
     ]
    }
   ],
   "source": [
    "var_bin = 'kappa'\n",
    "num_bins=5\n",
    "tmp, bins_original = pd.qcut(df_baseline[var_bin], q = num_bins, labels=False, retbins = True)\n",
    "df_baseline['bin_' + var_bin] = tmp[:]\n",
    "bins = bins_original.copy()\n",
    "bins[0] = -np.inf\n",
    "bins[-1] = np.inf\n",
    "total,sum_baseline,intensive_alt,extensive_alt=print_results(var_bin,bins,var_list,df_baseline,df_target)\n"
   ]
  },
  {
   "cell_type": "markdown",
   "metadata": {},
   "source": [
    "### Total change"
   ]
  },
  {
   "cell_type": "code",
   "execution_count": 51,
   "metadata": {},
   "outputs": [
    {
     "data": {
      "text/html": [
       "<div>\n",
       "<style scoped>\n",
       "    .dataframe tbody tr th:only-of-type {\n",
       "        vertical-align: middle;\n",
       "    }\n",
       "\n",
       "    .dataframe tbody tr th {\n",
       "        vertical-align: top;\n",
       "    }\n",
       "\n",
       "    .dataframe thead th {\n",
       "        text-align: right;\n",
       "    }\n",
       "</style>\n",
       "<table border=\"1\" class=\"dataframe\">\n",
       "  <thead>\n",
       "    <tr style=\"text-align: right;\">\n",
       "      <th></th>\n",
       "      <th>bins/total</th>\n",
       "      <th>ztilde</th>\n",
       "      <th>eps</th>\n",
       "      <th>a</th>\n",
       "      <th>bus_inc</th>\n",
       "      <th>ys</th>\n",
       "      <th>ks</th>\n",
       "      <th>kappa</th>\n",
       "      <th>ns</th>\n",
       "      <th>hy</th>\n",
       "      <th>hkap</th>\n",
       "      <th>ztilde_meas</th>\n",
       "      <th>zkapphi</th>\n",
       "      <th>ne</th>\n",
       "      <th>measured_markups</th>\n",
       "      <th>pys</th>\n",
       "      <th>wns</th>\n",
       "    </tr>\n",
       "  </thead>\n",
       "  <tbody>\n",
       "    <tr>\n",
       "      <th>0</th>\n",
       "      <td>(-inf, 0.00046]</td>\n",
       "      <td>-0.343</td>\n",
       "      <td>0.193</td>\n",
       "      <td>-0.060</td>\n",
       "      <td>0.000</td>\n",
       "      <td>-0.000</td>\n",
       "      <td>-0.000</td>\n",
       "      <td>0.000</td>\n",
       "      <td>-0.000</td>\n",
       "      <td>0.000</td>\n",
       "      <td>-0.000</td>\n",
       "      <td>2.160</td>\n",
       "      <td>0.048</td>\n",
       "      <td>0.000</td>\n",
       "      <td>-13.912</td>\n",
       "      <td>-0.000</td>\n",
       "      <td>-0.000</td>\n",
       "    </tr>\n",
       "    <tr>\n",
       "      <th>1</th>\n",
       "      <td>(0.00046, 0.226]</td>\n",
       "      <td>-0.155</td>\n",
       "      <td>0.294</td>\n",
       "      <td>0.481</td>\n",
       "      <td>0.024</td>\n",
       "      <td>0.004</td>\n",
       "      <td>0.008</td>\n",
       "      <td>0.024</td>\n",
       "      <td>-0.009</td>\n",
       "      <td>0.056</td>\n",
       "      <td>0.030</td>\n",
       "      <td>2.410</td>\n",
       "      <td>0.176</td>\n",
       "      <td>0.051</td>\n",
       "      <td>-17.120</td>\n",
       "      <td>0.007</td>\n",
       "      <td>-0.001</td>\n",
       "    </tr>\n",
       "    <tr>\n",
       "      <th>2</th>\n",
       "      <td>(0.226, 0.68]</td>\n",
       "      <td>-4.369</td>\n",
       "      <td>-0.826</td>\n",
       "      <td>-0.216</td>\n",
       "      <td>1.352</td>\n",
       "      <td>-1.000</td>\n",
       "      <td>-0.817</td>\n",
       "      <td>-1.085</td>\n",
       "      <td>-1.577</td>\n",
       "      <td>-0.337</td>\n",
       "      <td>-8.452</td>\n",
       "      <td>1.299</td>\n",
       "      <td>-1.935</td>\n",
       "      <td>-2.033</td>\n",
       "      <td>-36.862</td>\n",
       "      <td>-0.835</td>\n",
       "      <td>-1.072</td>\n",
       "    </tr>\n",
       "    <tr>\n",
       "      <th>3</th>\n",
       "      <td>(0.68, 0.828]</td>\n",
       "      <td>1.266</td>\n",
       "      <td>1.975</td>\n",
       "      <td>5.003</td>\n",
       "      <td>20.147</td>\n",
       "      <td>8.603</td>\n",
       "      <td>9.727</td>\n",
       "      <td>3.101</td>\n",
       "      <td>4.799</td>\n",
       "      <td>12.161</td>\n",
       "      <td>-26.555</td>\n",
       "      <td>4.011</td>\n",
       "      <td>1.919</td>\n",
       "      <td>4.071</td>\n",
       "      <td>-200.799</td>\n",
       "      <td>9.614</td>\n",
       "      <td>8.120</td>\n",
       "    </tr>\n",
       "    <tr>\n",
       "      <th>4</th>\n",
       "      <td>(0.828, inf]</td>\n",
       "      <td>9.140</td>\n",
       "      <td>3.209</td>\n",
       "      <td>2.984</td>\n",
       "      <td>-9.630</td>\n",
       "      <td>-2.971</td>\n",
       "      <td>-1.214</td>\n",
       "      <td>6.662</td>\n",
       "      <td>-9.194</td>\n",
       "      <td>3.405</td>\n",
       "      <td>42.778</td>\n",
       "      <td>3.775</td>\n",
       "      <td>5.883</td>\n",
       "      <td>11.632</td>\n",
       "      <td>110.348</td>\n",
       "      <td>-1.389</td>\n",
       "      <td>-3.916</td>\n",
       "    </tr>\n",
       "    <tr>\n",
       "      <th>5</th>\n",
       "      <td>total</td>\n",
       "      <td>5.539</td>\n",
       "      <td>4.845</td>\n",
       "      <td>8.193</td>\n",
       "      <td>11.893</td>\n",
       "      <td>4.636</td>\n",
       "      <td>7.704</td>\n",
       "      <td>8.702</td>\n",
       "      <td>-5.982</td>\n",
       "      <td>15.285</td>\n",
       "      <td>7.801</td>\n",
       "      <td>13.655</td>\n",
       "      <td>6.090</td>\n",
       "      <td>13.721</td>\n",
       "      <td>-158.345</td>\n",
       "      <td>7.398</td>\n",
       "      <td>3.131</td>\n",
       "    </tr>\n",
       "  </tbody>\n",
       "</table>\n",
       "</div>"
      ],
      "text/plain": [
       "         bins/total  ztilde    eps      a  bus_inc     ys     ks  kappa  \\\n",
       "0  (-inf, 0.00046]  -0.343  0.193  -0.060 0.000    -0.000 -0.000 0.000    \n",
       "1  (0.00046, 0.226] -0.155  0.294  0.481  0.024    0.004  0.008  0.024    \n",
       "2  (0.226, 0.68]    -4.369  -0.826 -0.216 1.352    -1.000 -0.817 -1.085   \n",
       "3  (0.68, 0.828]    1.266   1.975  5.003  20.147   8.603  9.727  3.101    \n",
       "4  (0.828, inf]     9.140   3.209  2.984  -9.630   -2.971 -1.214 6.662    \n",
       "5  total            5.539   4.845  8.193  11.893   4.636  7.704  8.702    \n",
       "\n",
       "      ns     hy    hkap  ztilde_meas  zkapphi     ne  measured_markups    pys  \\\n",
       "0 -0.000 0.000  -0.000  2.160        0.048    0.000  -13.912           -0.000   \n",
       "1 -0.009 0.056  0.030   2.410        0.176    0.051  -17.120           0.007    \n",
       "2 -1.577 -0.337 -8.452  1.299        -1.935   -2.033 -36.862           -0.835   \n",
       "3 4.799  12.161 -26.555 4.011        1.919    4.071  -200.799          9.614    \n",
       "4 -9.194 3.405  42.778  3.775        5.883    11.632 110.348           -1.389   \n",
       "5 -5.982 15.285 7.801   13.655       6.090    13.721 -158.345          7.398    \n",
       "\n",
       "     wns  \n",
       "0 -0.000  \n",
       "1 -0.001  \n",
       "2 -1.072  \n",
       "3 8.120   \n",
       "4 -3.916  \n",
       "5 3.131   "
      ]
     },
     "execution_count": 51,
     "metadata": {},
     "output_type": "execute_result"
    }
   ],
   "source": [
    "agg= 100*total/sum_baseline.sum()  \n",
    "aggsum=100*total.sum()/sum_baseline.sum()\n",
    "format_table(agg,aggsum)   "
   ]
  },
  {
   "cell_type": "markdown",
   "metadata": {},
   "source": [
    "### Intensive "
   ]
  },
  {
   "cell_type": "code",
   "execution_count": 52,
   "metadata": {},
   "outputs": [
    {
     "data": {
      "text/html": [
       "<div>\n",
       "<style scoped>\n",
       "    .dataframe tbody tr th:only-of-type {\n",
       "        vertical-align: middle;\n",
       "    }\n",
       "\n",
       "    .dataframe tbody tr th {\n",
       "        vertical-align: top;\n",
       "    }\n",
       "\n",
       "    .dataframe thead th {\n",
       "        text-align: right;\n",
       "    }\n",
       "</style>\n",
       "<table border=\"1\" class=\"dataframe\">\n",
       "  <thead>\n",
       "    <tr style=\"text-align: right;\">\n",
       "      <th></th>\n",
       "      <th>bins/total</th>\n",
       "      <th>ztilde</th>\n",
       "      <th>eps</th>\n",
       "      <th>a</th>\n",
       "      <th>bus_inc</th>\n",
       "      <th>ys</th>\n",
       "      <th>ks</th>\n",
       "      <th>kappa</th>\n",
       "      <th>ns</th>\n",
       "      <th>hy</th>\n",
       "      <th>hkap</th>\n",
       "      <th>ztilde_meas</th>\n",
       "      <th>zkapphi</th>\n",
       "      <th>ne</th>\n",
       "      <th>measured_markups</th>\n",
       "      <th>pys</th>\n",
       "      <th>wns</th>\n",
       "    </tr>\n",
       "  </thead>\n",
       "  <tbody>\n",
       "    <tr>\n",
       "      <th>0</th>\n",
       "      <td>(-inf, 0.00046]</td>\n",
       "      <td>-0.306</td>\n",
       "      <td>-0.056</td>\n",
       "      <td>-0.286</td>\n",
       "      <td>0.000</td>\n",
       "      <td>-0.000</td>\n",
       "      <td>-0.000</td>\n",
       "      <td>0.000</td>\n",
       "      <td>-0.000</td>\n",
       "      <td>0.000</td>\n",
       "      <td>-0.000</td>\n",
       "      <td>1.854</td>\n",
       "      <td>0.012</td>\n",
       "      <td>0.000</td>\n",
       "      <td>-18.210</td>\n",
       "      <td>-0.000</td>\n",
       "      <td>-0.000</td>\n",
       "    </tr>\n",
       "    <tr>\n",
       "      <th>1</th>\n",
       "      <td>(0.00046, 0.226]</td>\n",
       "      <td>-0.148</td>\n",
       "      <td>-0.085</td>\n",
       "      <td>0.122</td>\n",
       "      <td>0.022</td>\n",
       "      <td>0.002</td>\n",
       "      <td>0.006</td>\n",
       "      <td>-0.020</td>\n",
       "      <td>-0.010</td>\n",
       "      <td>0.051</td>\n",
       "      <td>0.021</td>\n",
       "      <td>1.962</td>\n",
       "      <td>-0.034</td>\n",
       "      <td>0.044</td>\n",
       "      <td>-22.537</td>\n",
       "      <td>0.005</td>\n",
       "      <td>-0.003</td>\n",
       "    </tr>\n",
       "    <tr>\n",
       "      <th>2</th>\n",
       "      <td>(0.226, 0.68]</td>\n",
       "      <td>-3.954</td>\n",
       "      <td>-0.038</td>\n",
       "      <td>0.700</td>\n",
       "      <td>1.634</td>\n",
       "      <td>-0.735</td>\n",
       "      <td>-0.548</td>\n",
       "      <td>-0.210</td>\n",
       "      <td>-1.342</td>\n",
       "      <td>0.038</td>\n",
       "      <td>-8.086</td>\n",
       "      <td>1.853</td>\n",
       "      <td>-1.154</td>\n",
       "      <td>-1.659</td>\n",
       "      <td>-39.972</td>\n",
       "      <td>-0.567</td>\n",
       "      <td>-0.827</td>\n",
       "    </tr>\n",
       "    <tr>\n",
       "      <th>3</th>\n",
       "      <td>(0.68, 0.828]</td>\n",
       "      <td>-1.596</td>\n",
       "      <td>0.209</td>\n",
       "      <td>3.123</td>\n",
       "      <td>17.214</td>\n",
       "      <td>5.927</td>\n",
       "      <td>7.007</td>\n",
       "      <td>0.247</td>\n",
       "      <td>2.286</td>\n",
       "      <td>9.247</td>\n",
       "      <td>-28.805</td>\n",
       "      <td>1.555</td>\n",
       "      <td>-0.453</td>\n",
       "      <td>1.297</td>\n",
       "      <td>-178.386</td>\n",
       "      <td>6.899</td>\n",
       "      <td>5.482</td>\n",
       "    </tr>\n",
       "    <tr>\n",
       "      <th>4</th>\n",
       "      <td>(0.828, inf]</td>\n",
       "      <td>0.400</td>\n",
       "      <td>0.237</td>\n",
       "      <td>0.051</td>\n",
       "      <td>-18.754</td>\n",
       "      <td>-12.096</td>\n",
       "      <td>-10.459</td>\n",
       "      <td>0.232</td>\n",
       "      <td>-18.001</td>\n",
       "      <td>-5.577</td>\n",
       "      <td>33.204</td>\n",
       "      <td>1.678</td>\n",
       "      <td>0.112</td>\n",
       "      <td>2.526</td>\n",
       "      <td>146.610</td>\n",
       "      <td>-10.623</td>\n",
       "      <td>-13.085</td>\n",
       "    </tr>\n",
       "    <tr>\n",
       "      <th>5</th>\n",
       "      <td>total</td>\n",
       "      <td>-5.604</td>\n",
       "      <td>0.267</td>\n",
       "      <td>3.710</td>\n",
       "      <td>0.116</td>\n",
       "      <td>-6.903</td>\n",
       "      <td>-3.994</td>\n",
       "      <td>0.249</td>\n",
       "      <td>-17.067</td>\n",
       "      <td>3.758</td>\n",
       "      <td>-3.665</td>\n",
       "      <td>8.902</td>\n",
       "      <td>-1.517</td>\n",
       "      <td>2.207</td>\n",
       "      <td>-112.495</td>\n",
       "      <td>-4.285</td>\n",
       "      <td>-8.433</td>\n",
       "    </tr>\n",
       "  </tbody>\n",
       "</table>\n",
       "</div>"
      ],
      "text/plain": [
       "         bins/total  ztilde    eps      a  bus_inc      ys      ks  kappa  \\\n",
       "0  (-inf, 0.00046]  -0.306  -0.056 -0.286 0.000    -0.000  -0.000  0.000    \n",
       "1  (0.00046, 0.226] -0.148  -0.085 0.122  0.022    0.002   0.006   -0.020   \n",
       "2  (0.226, 0.68]    -3.954  -0.038 0.700  1.634    -0.735  -0.548  -0.210   \n",
       "3  (0.68, 0.828]    -1.596  0.209  3.123  17.214   5.927   7.007   0.247    \n",
       "4  (0.828, inf]     0.400   0.237  0.051  -18.754  -12.096 -10.459 0.232    \n",
       "5  total            -5.604  0.267  3.710  0.116    -6.903  -3.994  0.249    \n",
       "\n",
       "       ns     hy    hkap  ztilde_meas  zkapphi     ne  measured_markups  \\\n",
       "0 -0.000  0.000  -0.000  1.854        0.012    0.000  -18.210             \n",
       "1 -0.010  0.051  0.021   1.962        -0.034   0.044  -22.537             \n",
       "2 -1.342  0.038  -8.086  1.853        -1.154   -1.659 -39.972             \n",
       "3 2.286   9.247  -28.805 1.555        -0.453   1.297  -178.386            \n",
       "4 -18.001 -5.577 33.204  1.678        0.112    2.526  146.610             \n",
       "5 -17.067 3.758  -3.665  8.902        -1.517   2.207  -112.495            \n",
       "\n",
       "      pys     wns  \n",
       "0 -0.000  -0.000   \n",
       "1 0.005   -0.003   \n",
       "2 -0.567  -0.827   \n",
       "3 6.899   5.482    \n",
       "4 -10.623 -13.085  \n",
       "5 -4.285  -8.433   "
      ]
     },
     "execution_count": 52,
     "metadata": {},
     "output_type": "execute_result"
    }
   ],
   "source": [
    "format_table(intensive_alt,intensive_alt.sum())   "
   ]
  },
  {
   "cell_type": "markdown",
   "metadata": {},
   "source": [
    "### Extensive"
   ]
  },
  {
   "cell_type": "code",
   "execution_count": 53,
   "metadata": {},
   "outputs": [
    {
     "data": {
      "text/html": [
       "<div>\n",
       "<style scoped>\n",
       "    .dataframe tbody tr th:only-of-type {\n",
       "        vertical-align: middle;\n",
       "    }\n",
       "\n",
       "    .dataframe tbody tr th {\n",
       "        vertical-align: top;\n",
       "    }\n",
       "\n",
       "    .dataframe thead th {\n",
       "        text-align: right;\n",
       "    }\n",
       "</style>\n",
       "<table border=\"1\" class=\"dataframe\">\n",
       "  <thead>\n",
       "    <tr style=\"text-align: right;\">\n",
       "      <th></th>\n",
       "      <th>bins/total</th>\n",
       "      <th>ztilde</th>\n",
       "      <th>eps</th>\n",
       "      <th>a</th>\n",
       "      <th>bus_inc</th>\n",
       "      <th>ys</th>\n",
       "      <th>ks</th>\n",
       "      <th>kappa</th>\n",
       "      <th>ns</th>\n",
       "      <th>hy</th>\n",
       "      <th>hkap</th>\n",
       "      <th>ztilde_meas</th>\n",
       "      <th>zkapphi</th>\n",
       "      <th>ne</th>\n",
       "      <th>measured_markups</th>\n",
       "      <th>pys</th>\n",
       "      <th>wns</th>\n",
       "    </tr>\n",
       "  </thead>\n",
       "  <tbody>\n",
       "    <tr>\n",
       "      <th>0</th>\n",
       "      <td>(-inf, 0.00046]</td>\n",
       "      <td>-0.037</td>\n",
       "      <td>0.249</td>\n",
       "      <td>0.227</td>\n",
       "      <td>0.000</td>\n",
       "      <td>0.000</td>\n",
       "      <td>0.000</td>\n",
       "      <td>0.000</td>\n",
       "      <td>0.000</td>\n",
       "      <td>0.000</td>\n",
       "      <td>0.000</td>\n",
       "      <td>0.306</td>\n",
       "      <td>0.036</td>\n",
       "      <td>0.000</td>\n",
       "      <td>4.298</td>\n",
       "      <td>0.000</td>\n",
       "      <td>0.000</td>\n",
       "    </tr>\n",
       "    <tr>\n",
       "      <th>1</th>\n",
       "      <td>(0.00046, 0.226]</td>\n",
       "      <td>-0.007</td>\n",
       "      <td>0.379</td>\n",
       "      <td>0.360</td>\n",
       "      <td>0.002</td>\n",
       "      <td>0.002</td>\n",
       "      <td>0.002</td>\n",
       "      <td>0.044</td>\n",
       "      <td>0.002</td>\n",
       "      <td>0.006</td>\n",
       "      <td>0.008</td>\n",
       "      <td>0.448</td>\n",
       "      <td>0.210</td>\n",
       "      <td>0.006</td>\n",
       "      <td>5.417</td>\n",
       "      <td>0.002</td>\n",
       "      <td>0.002</td>\n",
       "    </tr>\n",
       "    <tr>\n",
       "      <th>2</th>\n",
       "      <td>(0.226, 0.68]</td>\n",
       "      <td>-0.415</td>\n",
       "      <td>-0.788</td>\n",
       "      <td>-0.916</td>\n",
       "      <td>-0.282</td>\n",
       "      <td>-0.265</td>\n",
       "      <td>-0.269</td>\n",
       "      <td>-0.875</td>\n",
       "      <td>-0.235</td>\n",
       "      <td>-0.375</td>\n",
       "      <td>-0.366</td>\n",
       "      <td>-0.554</td>\n",
       "      <td>-0.781</td>\n",
       "      <td>-0.373</td>\n",
       "      <td>3.111</td>\n",
       "      <td>-0.268</td>\n",
       "      <td>-0.246</td>\n",
       "    </tr>\n",
       "    <tr>\n",
       "      <th>3</th>\n",
       "      <td>(0.68, 0.828]</td>\n",
       "      <td>2.861</td>\n",
       "      <td>1.766</td>\n",
       "      <td>1.880</td>\n",
       "      <td>2.933</td>\n",
       "      <td>2.677</td>\n",
       "      <td>2.719</td>\n",
       "      <td>2.854</td>\n",
       "      <td>2.512</td>\n",
       "      <td>2.913</td>\n",
       "      <td>2.250</td>\n",
       "      <td>2.456</td>\n",
       "      <td>2.372</td>\n",
       "      <td>2.775</td>\n",
       "      <td>-22.413</td>\n",
       "      <td>2.715</td>\n",
       "      <td>2.638</td>\n",
       "    </tr>\n",
       "    <tr>\n",
       "      <th>4</th>\n",
       "      <td>(0.828, inf]</td>\n",
       "      <td>8.740</td>\n",
       "      <td>2.972</td>\n",
       "      <td>2.933</td>\n",
       "      <td>9.124</td>\n",
       "      <td>9.125</td>\n",
       "      <td>9.246</td>\n",
       "      <td>6.430</td>\n",
       "      <td>8.807</td>\n",
       "      <td>8.982</td>\n",
       "      <td>9.573</td>\n",
       "      <td>2.097</td>\n",
       "      <td>5.770</td>\n",
       "      <td>9.106</td>\n",
       "      <td>-36.262</td>\n",
       "      <td>9.234</td>\n",
       "      <td>9.169</td>\n",
       "    </tr>\n",
       "    <tr>\n",
       "      <th>5</th>\n",
       "      <td>total</td>\n",
       "      <td>11.142</td>\n",
       "      <td>4.578</td>\n",
       "      <td>4.483</td>\n",
       "      <td>11.777</td>\n",
       "      <td>11.539</td>\n",
       "      <td>11.699</td>\n",
       "      <td>8.453</td>\n",
       "      <td>11.085</td>\n",
       "      <td>11.526</td>\n",
       "      <td>11.466</td>\n",
       "      <td>4.753</td>\n",
       "      <td>7.607</td>\n",
       "      <td>11.514</td>\n",
       "      <td>-45.850</td>\n",
       "      <td>11.683</td>\n",
       "      <td>11.564</td>\n",
       "    </tr>\n",
       "  </tbody>\n",
       "</table>\n",
       "</div>"
      ],
      "text/plain": [
       "         bins/total  ztilde    eps      a  bus_inc     ys     ks  kappa  \\\n",
       "0  (-inf, 0.00046]  -0.037  0.249  0.227  0.000    0.000  0.000  0.000    \n",
       "1  (0.00046, 0.226] -0.007  0.379  0.360  0.002    0.002  0.002  0.044    \n",
       "2  (0.226, 0.68]    -0.415  -0.788 -0.916 -0.282   -0.265 -0.269 -0.875   \n",
       "3  (0.68, 0.828]    2.861   1.766  1.880  2.933    2.677  2.719  2.854    \n",
       "4  (0.828, inf]     8.740   2.972  2.933  9.124    9.125  9.246  6.430    \n",
       "5  total            11.142  4.578  4.483  11.777   11.539 11.699 8.453    \n",
       "\n",
       "      ns     hy   hkap  ztilde_meas  zkapphi     ne  measured_markups    pys  \\\n",
       "0 0.000  0.000  0.000  0.306        0.036    0.000  4.298             0.000    \n",
       "1 0.002  0.006  0.008  0.448        0.210    0.006  5.417             0.002    \n",
       "2 -0.235 -0.375 -0.366 -0.554       -0.781   -0.373 3.111             -0.268   \n",
       "3 2.512  2.913  2.250  2.456        2.372    2.775  -22.413           2.715    \n",
       "4 8.807  8.982  9.573  2.097        5.770    9.106  -36.262           9.234    \n",
       "5 11.085 11.526 11.466 4.753        7.607    11.514 -45.850           11.683   \n",
       "\n",
       "     wns  \n",
       "0 0.000   \n",
       "1 0.002   \n",
       "2 -0.246  \n",
       "3 2.638   \n",
       "4 9.169   \n",
       "5 11.564  "
      ]
     },
     "execution_count": 53,
     "metadata": {},
     "output_type": "execute_result"
    }
   ],
   "source": [
    "format_table(extensive_alt,extensive_alt.sum())   "
   ]
  },
  {
   "cell_type": "markdown",
   "metadata": {},
   "source": [
    "##   Decomposition of $\\Delta$ by Owner Financial assets"
   ]
  },
  {
   "cell_type": "code",
   "execution_count": 54,
   "metadata": {},
   "outputs": [
    {
     "name": "stdout",
     "output_type": "stream",
     "text": [
      "\n",
      "SORTED BY a\n",
      "BINS = [-inf, 5.41, 9.94, 14.77, 22.52, inf]\n"
     ]
    }
   ],
   "source": [
    "var_bin = 'a'\n",
    "tmp, bins_original = pd.qcut(df_baseline[var_bin], q = num_bins, labels=False, retbins = True)\n",
    "df_baseline['bin_' + var_bin] = tmp[:]\n",
    "bins = bins_original.copy()\n",
    "bins[0] = -np.inf\n",
    "bins[-1] = np.inf\n",
    "total,sum_baseline,intensive_alt,extensive_alt=print_results(var_bin,bins,var_list,df_baseline,df_target)"
   ]
  },
  {
   "cell_type": "markdown",
   "metadata": {},
   "source": [
    "### Total change"
   ]
  },
  {
   "cell_type": "code",
   "execution_count": 55,
   "metadata": {},
   "outputs": [
    {
     "data": {
      "text/html": [
       "<div>\n",
       "<style scoped>\n",
       "    .dataframe tbody tr th:only-of-type {\n",
       "        vertical-align: middle;\n",
       "    }\n",
       "\n",
       "    .dataframe tbody tr th {\n",
       "        vertical-align: top;\n",
       "    }\n",
       "\n",
       "    .dataframe thead th {\n",
       "        text-align: right;\n",
       "    }\n",
       "</style>\n",
       "<table border=\"1\" class=\"dataframe\">\n",
       "  <thead>\n",
       "    <tr style=\"text-align: right;\">\n",
       "      <th></th>\n",
       "      <th>bins/total</th>\n",
       "      <th>ztilde</th>\n",
       "      <th>eps</th>\n",
       "      <th>a</th>\n",
       "      <th>bus_inc</th>\n",
       "      <th>ys</th>\n",
       "      <th>ks</th>\n",
       "      <th>kappa</th>\n",
       "      <th>ns</th>\n",
       "      <th>hy</th>\n",
       "      <th>hkap</th>\n",
       "      <th>ztilde_meas</th>\n",
       "      <th>zkapphi</th>\n",
       "      <th>ne</th>\n",
       "      <th>measured_markups</th>\n",
       "      <th>pys</th>\n",
       "      <th>wns</th>\n",
       "    </tr>\n",
       "  </thead>\n",
       "  <tbody>\n",
       "    <tr>\n",
       "      <th>0</th>\n",
       "      <td>(-inf, 5.412]</td>\n",
       "      <td>2.559</td>\n",
       "      <td>1.687</td>\n",
       "      <td>-0.024</td>\n",
       "      <td>0.659</td>\n",
       "      <td>0.945</td>\n",
       "      <td>1.394</td>\n",
       "      <td>2.253</td>\n",
       "      <td>-0.613</td>\n",
       "      <td>2.870</td>\n",
       "      <td>7.455</td>\n",
       "      <td>3.575</td>\n",
       "      <td>1.960</td>\n",
       "      <td>3.828</td>\n",
       "      <td>-16.163</td>\n",
       "      <td>1.350</td>\n",
       "      <td>0.680</td>\n",
       "    </tr>\n",
       "    <tr>\n",
       "      <th>1</th>\n",
       "      <td>(5.412, 9.936]</td>\n",
       "      <td>-1.578</td>\n",
       "      <td>0.025</td>\n",
       "      <td>-0.078</td>\n",
       "      <td>-0.217</td>\n",
       "      <td>-1.717</td>\n",
       "      <td>-1.154</td>\n",
       "      <td>-0.497</td>\n",
       "      <td>-3.640</td>\n",
       "      <td>0.229</td>\n",
       "      <td>-2.216</td>\n",
       "      <td>1.938</td>\n",
       "      <td>-0.734</td>\n",
       "      <td>-0.282</td>\n",
       "      <td>-10.863</td>\n",
       "      <td>-1.210</td>\n",
       "      <td>-1.982</td>\n",
       "    </tr>\n",
       "    <tr>\n",
       "      <th>2</th>\n",
       "      <td>(9.936, 14.775]</td>\n",
       "      <td>-0.740</td>\n",
       "      <td>-1.594</td>\n",
       "      <td>-1.125</td>\n",
       "      <td>1.680</td>\n",
       "      <td>-0.188</td>\n",
       "      <td>0.445</td>\n",
       "      <td>0.182</td>\n",
       "      <td>-2.375</td>\n",
       "      <td>1.981</td>\n",
       "      <td>-0.769</td>\n",
       "      <td>0.089</td>\n",
       "      <td>-0.612</td>\n",
       "      <td>1.406</td>\n",
       "      <td>-53.575</td>\n",
       "      <td>0.382</td>\n",
       "      <td>-0.495</td>\n",
       "    </tr>\n",
       "    <tr>\n",
       "      <th>3</th>\n",
       "      <td>(14.775, 22.517]</td>\n",
       "      <td>2.519</td>\n",
       "      <td>3.380</td>\n",
       "      <td>4.282</td>\n",
       "      <td>3.366</td>\n",
       "      <td>1.483</td>\n",
       "      <td>2.225</td>\n",
       "      <td>2.467</td>\n",
       "      <td>-1.138</td>\n",
       "      <td>4.140</td>\n",
       "      <td>1.893</td>\n",
       "      <td>5.162</td>\n",
       "      <td>2.650</td>\n",
       "      <td>3.671</td>\n",
       "      <td>-8.498</td>\n",
       "      <td>2.151</td>\n",
       "      <td>1.083</td>\n",
       "    </tr>\n",
       "    <tr>\n",
       "      <th>4</th>\n",
       "      <td>(22.517, inf]</td>\n",
       "      <td>2.779</td>\n",
       "      <td>1.347</td>\n",
       "      <td>5.138</td>\n",
       "      <td>6.405</td>\n",
       "      <td>4.112</td>\n",
       "      <td>4.793</td>\n",
       "      <td>4.298</td>\n",
       "      <td>1.785</td>\n",
       "      <td>6.065</td>\n",
       "      <td>1.439</td>\n",
       "      <td>2.890</td>\n",
       "      <td>2.826</td>\n",
       "      <td>5.098</td>\n",
       "      <td>-69.246</td>\n",
       "      <td>4.725</td>\n",
       "      <td>3.845</td>\n",
       "    </tr>\n",
       "    <tr>\n",
       "      <th>5</th>\n",
       "      <td>total</td>\n",
       "      <td>5.539</td>\n",
       "      <td>4.845</td>\n",
       "      <td>8.193</td>\n",
       "      <td>11.893</td>\n",
       "      <td>4.636</td>\n",
       "      <td>7.704</td>\n",
       "      <td>8.702</td>\n",
       "      <td>-5.982</td>\n",
       "      <td>15.285</td>\n",
       "      <td>7.801</td>\n",
       "      <td>13.655</td>\n",
       "      <td>6.090</td>\n",
       "      <td>13.721</td>\n",
       "      <td>-158.345</td>\n",
       "      <td>7.398</td>\n",
       "      <td>3.131</td>\n",
       "    </tr>\n",
       "  </tbody>\n",
       "</table>\n",
       "</div>"
      ],
      "text/plain": [
       "         bins/total  ztilde    eps      a  bus_inc     ys     ks  kappa  \\\n",
       "0  (-inf, 5.412]    2.559   1.687  -0.024 0.659    0.945  1.394  2.253    \n",
       "1  (5.412, 9.936]   -1.578  0.025  -0.078 -0.217   -1.717 -1.154 -0.497   \n",
       "2  (9.936, 14.775]  -0.740  -1.594 -1.125 1.680    -0.188 0.445  0.182    \n",
       "3  (14.775, 22.517] 2.519   3.380  4.282  3.366    1.483  2.225  2.467    \n",
       "4  (22.517, inf]    2.779   1.347  5.138  6.405    4.112  4.793  4.298    \n",
       "5  total            5.539   4.845  8.193  11.893   4.636  7.704  8.702    \n",
       "\n",
       "      ns     hy   hkap  ztilde_meas  zkapphi     ne  measured_markups    pys  \\\n",
       "0 -0.613 2.870  7.455  3.575        1.960    3.828  -16.163           1.350    \n",
       "1 -3.640 0.229  -2.216 1.938        -0.734   -0.282 -10.863           -1.210   \n",
       "2 -2.375 1.981  -0.769 0.089        -0.612   1.406  -53.575           0.382    \n",
       "3 -1.138 4.140  1.893  5.162        2.650    3.671  -8.498            2.151    \n",
       "4 1.785  6.065  1.439  2.890        2.826    5.098  -69.246           4.725    \n",
       "5 -5.982 15.285 7.801  13.655       6.090    13.721 -158.345          7.398    \n",
       "\n",
       "     wns  \n",
       "0 0.680   \n",
       "1 -1.982  \n",
       "2 -0.495  \n",
       "3 1.083   \n",
       "4 3.845   \n",
       "5 3.131   "
      ]
     },
     "execution_count": 55,
     "metadata": {},
     "output_type": "execute_result"
    }
   ],
   "source": [
    "agg= 100*total/sum_baseline.sum()  \n",
    "aggsum=100*total.sum()/sum_baseline.sum()   \n",
    "format_table(agg,aggsum)   "
   ]
  },
  {
   "cell_type": "markdown",
   "metadata": {},
   "source": [
    "### Intensive "
   ]
  },
  {
   "cell_type": "code",
   "execution_count": 56,
   "metadata": {},
   "outputs": [
    {
     "data": {
      "text/html": [
       "<div>\n",
       "<style scoped>\n",
       "    .dataframe tbody tr th:only-of-type {\n",
       "        vertical-align: middle;\n",
       "    }\n",
       "\n",
       "    .dataframe tbody tr th {\n",
       "        vertical-align: top;\n",
       "    }\n",
       "\n",
       "    .dataframe thead th {\n",
       "        text-align: right;\n",
       "    }\n",
       "</style>\n",
       "<table border=\"1\" class=\"dataframe\">\n",
       "  <thead>\n",
       "    <tr style=\"text-align: right;\">\n",
       "      <th></th>\n",
       "      <th>bins/total</th>\n",
       "      <th>ztilde</th>\n",
       "      <th>eps</th>\n",
       "      <th>a</th>\n",
       "      <th>bus_inc</th>\n",
       "      <th>ys</th>\n",
       "      <th>ks</th>\n",
       "      <th>kappa</th>\n",
       "      <th>ns</th>\n",
       "      <th>hy</th>\n",
       "      <th>hkap</th>\n",
       "      <th>ztilde_meas</th>\n",
       "      <th>zkapphi</th>\n",
       "      <th>ne</th>\n",
       "      <th>measured_markups</th>\n",
       "      <th>pys</th>\n",
       "      <th>wns</th>\n",
       "    </tr>\n",
       "  </thead>\n",
       "  <tbody>\n",
       "    <tr>\n",
       "      <th>0</th>\n",
       "      <td>(-inf, 5.412]</td>\n",
       "      <td>1.037</td>\n",
       "      <td>0.194</td>\n",
       "      <td>-0.325</td>\n",
       "      <td>-0.271</td>\n",
       "      <td>-0.169</td>\n",
       "      <td>0.264</td>\n",
       "      <td>0.929</td>\n",
       "      <td>-1.639</td>\n",
       "      <td>1.524</td>\n",
       "      <td>5.050</td>\n",
       "      <td>1.840</td>\n",
       "      <td>0.542</td>\n",
       "      <td>2.261</td>\n",
       "      <td>-22.534</td>\n",
       "      <td>0.221</td>\n",
       "      <td>-0.393</td>\n",
       "    </tr>\n",
       "    <tr>\n",
       "      <th>1</th>\n",
       "      <td>(5.412, 9.936]</td>\n",
       "      <td>-1.557</td>\n",
       "      <td>0.047</td>\n",
       "      <td>-0.065</td>\n",
       "      <td>-0.193</td>\n",
       "      <td>-1.694</td>\n",
       "      <td>-1.131</td>\n",
       "      <td>-0.475</td>\n",
       "      <td>-3.619</td>\n",
       "      <td>0.253</td>\n",
       "      <td>-2.193</td>\n",
       "      <td>1.830</td>\n",
       "      <td>-0.712</td>\n",
       "      <td>-0.258</td>\n",
       "      <td>-10.860</td>\n",
       "      <td>-1.187</td>\n",
       "      <td>-1.959</td>\n",
       "    </tr>\n",
       "    <tr>\n",
       "      <th>2</th>\n",
       "      <td>(9.936, 14.775]</td>\n",
       "      <td>0.687</td>\n",
       "      <td>-0.225</td>\n",
       "      <td>0.060</td>\n",
       "      <td>3.316</td>\n",
       "      <td>1.344</td>\n",
       "      <td>2.000</td>\n",
       "      <td>1.650</td>\n",
       "      <td>-0.924</td>\n",
       "      <td>3.587</td>\n",
       "      <td>0.554</td>\n",
       "      <td>1.485</td>\n",
       "      <td>0.811</td>\n",
       "      <td>2.953</td>\n",
       "      <td>-54.942</td>\n",
       "      <td>1.934</td>\n",
       "      <td>1.024</td>\n",
       "    </tr>\n",
       "    <tr>\n",
       "      <th>3</th>\n",
       "      <td>(14.775, 22.517]</td>\n",
       "      <td>-0.793</td>\n",
       "      <td>0.159</td>\n",
       "      <td>0.152</td>\n",
       "      <td>-0.542</td>\n",
       "      <td>-2.149</td>\n",
       "      <td>-1.458</td>\n",
       "      <td>-1.134</td>\n",
       "      <td>-4.625</td>\n",
       "      <td>0.487</td>\n",
       "      <td>-0.835</td>\n",
       "      <td>1.941</td>\n",
       "      <td>-0.727</td>\n",
       "      <td>0.211</td>\n",
       "      <td>-3.725</td>\n",
       "      <td>-1.527</td>\n",
       "      <td>-2.556</td>\n",
       "    </tr>\n",
       "    <tr>\n",
       "      <th>4</th>\n",
       "      <td>(22.517, inf]</td>\n",
       "      <td>1.424</td>\n",
       "      <td>-0.033</td>\n",
       "      <td>2.274</td>\n",
       "      <td>4.928</td>\n",
       "      <td>2.748</td>\n",
       "      <td>3.407</td>\n",
       "      <td>2.873</td>\n",
       "      <td>0.470</td>\n",
       "      <td>4.746</td>\n",
       "      <td>0.517</td>\n",
       "      <td>1.461</td>\n",
       "      <td>1.430</td>\n",
       "      <td>3.862</td>\n",
       "      <td>-68.304</td>\n",
       "      <td>3.342</td>\n",
       "      <td>2.465</td>\n",
       "    </tr>\n",
       "    <tr>\n",
       "      <th>5</th>\n",
       "      <td>total</td>\n",
       "      <td>0.799</td>\n",
       "      <td>0.141</td>\n",
       "      <td>2.095</td>\n",
       "      <td>7.238</td>\n",
       "      <td>0.080</td>\n",
       "      <td>3.082</td>\n",
       "      <td>3.842</td>\n",
       "      <td>-10.337</td>\n",
       "      <td>10.596</td>\n",
       "      <td>3.093</td>\n",
       "      <td>8.557</td>\n",
       "      <td>1.344</td>\n",
       "      <td>9.029</td>\n",
       "      <td>-160.364</td>\n",
       "      <td>2.782</td>\n",
       "      <td>-1.419</td>\n",
       "    </tr>\n",
       "  </tbody>\n",
       "</table>\n",
       "</div>"
      ],
      "text/plain": [
       "         bins/total  ztilde    eps      a  bus_inc     ys     ks  kappa  \\\n",
       "0  (-inf, 5.412]    1.037   0.194  -0.325 -0.271   -0.169 0.264  0.929    \n",
       "1  (5.412, 9.936]   -1.557  0.047  -0.065 -0.193   -1.694 -1.131 -0.475   \n",
       "2  (9.936, 14.775]  0.687   -0.225 0.060  3.316    1.344  2.000  1.650    \n",
       "3  (14.775, 22.517] -0.793  0.159  0.152  -0.542   -2.149 -1.458 -1.134   \n",
       "4  (22.517, inf]    1.424   -0.033 2.274  4.928    2.748  3.407  2.873    \n",
       "5  total            0.799   0.141  2.095  7.238    0.080  3.082  3.842    \n",
       "\n",
       "       ns     hy   hkap  ztilde_meas  zkapphi     ne  measured_markups    pys  \\\n",
       "0 -1.639  1.524  5.050  1.840        0.542    2.261  -22.534           0.221    \n",
       "1 -3.619  0.253  -2.193 1.830        -0.712   -0.258 -10.860           -1.187   \n",
       "2 -0.924  3.587  0.554  1.485        0.811    2.953  -54.942           1.934    \n",
       "3 -4.625  0.487  -0.835 1.941        -0.727   0.211  -3.725            -1.527   \n",
       "4 0.470   4.746  0.517  1.461        1.430    3.862  -68.304           3.342    \n",
       "5 -10.337 10.596 3.093  8.557        1.344    9.029  -160.364          2.782    \n",
       "\n",
       "     wns  \n",
       "0 -0.393  \n",
       "1 -1.959  \n",
       "2 1.024   \n",
       "3 -2.556  \n",
       "4 2.465   \n",
       "5 -1.419  "
      ]
     },
     "execution_count": 56,
     "metadata": {},
     "output_type": "execute_result"
    }
   ],
   "source": [
    "format_table(intensive_alt,intensive_alt.sum())   "
   ]
  },
  {
   "cell_type": "markdown",
   "metadata": {},
   "source": [
    "### Extensive"
   ]
  },
  {
   "cell_type": "code",
   "execution_count": 57,
   "metadata": {},
   "outputs": [
    {
     "data": {
      "text/html": [
       "<div>\n",
       "<style scoped>\n",
       "    .dataframe tbody tr th:only-of-type {\n",
       "        vertical-align: middle;\n",
       "    }\n",
       "\n",
       "    .dataframe tbody tr th {\n",
       "        vertical-align: top;\n",
       "    }\n",
       "\n",
       "    .dataframe thead th {\n",
       "        text-align: right;\n",
       "    }\n",
       "</style>\n",
       "<table border=\"1\" class=\"dataframe\">\n",
       "  <thead>\n",
       "    <tr style=\"text-align: right;\">\n",
       "      <th></th>\n",
       "      <th>bins/total</th>\n",
       "      <th>ztilde</th>\n",
       "      <th>eps</th>\n",
       "      <th>a</th>\n",
       "      <th>bus_inc</th>\n",
       "      <th>ys</th>\n",
       "      <th>ks</th>\n",
       "      <th>kappa</th>\n",
       "      <th>ns</th>\n",
       "      <th>hy</th>\n",
       "      <th>hkap</th>\n",
       "      <th>ztilde_meas</th>\n",
       "      <th>zkapphi</th>\n",
       "      <th>ne</th>\n",
       "      <th>measured_markups</th>\n",
       "      <th>pys</th>\n",
       "      <th>wns</th>\n",
       "    </tr>\n",
       "  </thead>\n",
       "  <tbody>\n",
       "    <tr>\n",
       "      <th>0</th>\n",
       "      <td>(-inf, 5.412]</td>\n",
       "      <td>1.522</td>\n",
       "      <td>1.494</td>\n",
       "      <td>0.301</td>\n",
       "      <td>0.930</td>\n",
       "      <td>1.114</td>\n",
       "      <td>1.131</td>\n",
       "      <td>1.324</td>\n",
       "      <td>1.026</td>\n",
       "      <td>1.346</td>\n",
       "      <td>2.405</td>\n",
       "      <td>1.735</td>\n",
       "      <td>1.418</td>\n",
       "      <td>1.567</td>\n",
       "      <td>6.372</td>\n",
       "      <td>1.129</td>\n",
       "      <td>1.073</td>\n",
       "    </tr>\n",
       "    <tr>\n",
       "      <th>1</th>\n",
       "      <td>(5.412, 9.936]</td>\n",
       "      <td>-0.021</td>\n",
       "      <td>-0.023</td>\n",
       "      <td>-0.012</td>\n",
       "      <td>-0.024</td>\n",
       "      <td>-0.023</td>\n",
       "      <td>-0.023</td>\n",
       "      <td>-0.022</td>\n",
       "      <td>-0.022</td>\n",
       "      <td>-0.025</td>\n",
       "      <td>-0.023</td>\n",
       "      <td>0.109</td>\n",
       "      <td>-0.022</td>\n",
       "      <td>-0.024</td>\n",
       "      <td>-0.003</td>\n",
       "      <td>-0.023</td>\n",
       "      <td>-0.022</td>\n",
       "    </tr>\n",
       "    <tr>\n",
       "      <th>2</th>\n",
       "      <td>(9.936, 14.775]</td>\n",
       "      <td>-1.426</td>\n",
       "      <td>-1.369</td>\n",
       "      <td>-1.185</td>\n",
       "      <td>-1.636</td>\n",
       "      <td>-1.531</td>\n",
       "      <td>-1.554</td>\n",
       "      <td>-1.468</td>\n",
       "      <td>-1.451</td>\n",
       "      <td>-1.606</td>\n",
       "      <td>-1.324</td>\n",
       "      <td>-1.396</td>\n",
       "      <td>-1.422</td>\n",
       "      <td>-1.547</td>\n",
       "      <td>1.366</td>\n",
       "      <td>-1.552</td>\n",
       "      <td>-1.519</td>\n",
       "    </tr>\n",
       "    <tr>\n",
       "      <th>3</th>\n",
       "      <td>(14.775, 22.517]</td>\n",
       "      <td>3.311</td>\n",
       "      <td>3.222</td>\n",
       "      <td>4.129</td>\n",
       "      <td>3.908</td>\n",
       "      <td>3.632</td>\n",
       "      <td>3.683</td>\n",
       "      <td>3.601</td>\n",
       "      <td>3.486</td>\n",
       "      <td>3.654</td>\n",
       "      <td>2.727</td>\n",
       "      <td>3.221</td>\n",
       "      <td>3.376</td>\n",
       "      <td>3.460</td>\n",
       "      <td>-4.774</td>\n",
       "      <td>3.678</td>\n",
       "      <td>3.639</td>\n",
       "    </tr>\n",
       "    <tr>\n",
       "      <th>4</th>\n",
       "      <td>(22.517, inf]</td>\n",
       "      <td>1.355</td>\n",
       "      <td>1.380</td>\n",
       "      <td>2.865</td>\n",
       "      <td>1.478</td>\n",
       "      <td>1.364</td>\n",
       "      <td>1.386</td>\n",
       "      <td>1.425</td>\n",
       "      <td>1.315</td>\n",
       "      <td>1.319</td>\n",
       "      <td>0.922</td>\n",
       "      <td>1.429</td>\n",
       "      <td>1.396</td>\n",
       "      <td>1.236</td>\n",
       "      <td>-0.942</td>\n",
       "      <td>1.383</td>\n",
       "      <td>1.380</td>\n",
       "    </tr>\n",
       "    <tr>\n",
       "      <th>5</th>\n",
       "      <td>total</td>\n",
       "      <td>4.740</td>\n",
       "      <td>4.704</td>\n",
       "      <td>6.098</td>\n",
       "      <td>4.656</td>\n",
       "      <td>4.557</td>\n",
       "      <td>4.622</td>\n",
       "      <td>4.860</td>\n",
       "      <td>4.355</td>\n",
       "      <td>4.688</td>\n",
       "      <td>4.708</td>\n",
       "      <td>5.098</td>\n",
       "      <td>4.746</td>\n",
       "      <td>4.692</td>\n",
       "      <td>2.019</td>\n",
       "      <td>4.615</td>\n",
       "      <td>4.549</td>\n",
       "    </tr>\n",
       "  </tbody>\n",
       "</table>\n",
       "</div>"
      ],
      "text/plain": [
       "         bins/total  ztilde    eps      a  bus_inc     ys     ks  kappa  \\\n",
       "0  (-inf, 5.412]    1.522   1.494  0.301  0.930    1.114  1.131  1.324    \n",
       "1  (5.412, 9.936]   -0.021  -0.023 -0.012 -0.024   -0.023 -0.023 -0.022   \n",
       "2  (9.936, 14.775]  -1.426  -1.369 -1.185 -1.636   -1.531 -1.554 -1.468   \n",
       "3  (14.775, 22.517] 3.311   3.222  4.129  3.908    3.632  3.683  3.601    \n",
       "4  (22.517, inf]    1.355   1.380  2.865  1.478    1.364  1.386  1.425    \n",
       "5  total            4.740   4.704  6.098  4.656    4.557  4.622  4.860    \n",
       "\n",
       "      ns     hy   hkap  ztilde_meas  zkapphi     ne  measured_markups    pys  \\\n",
       "0 1.026  1.346  2.405  1.735        1.418    1.567  6.372             1.129    \n",
       "1 -0.022 -0.025 -0.023 0.109        -0.022   -0.024 -0.003            -0.023   \n",
       "2 -1.451 -1.606 -1.324 -1.396       -1.422   -1.547 1.366             -1.552   \n",
       "3 3.486  3.654  2.727  3.221        3.376    3.460  -4.774            3.678    \n",
       "4 1.315  1.319  0.922  1.429        1.396    1.236  -0.942            1.383    \n",
       "5 4.355  4.688  4.708  5.098        4.746    4.692  2.019             4.615    \n",
       "\n",
       "     wns  \n",
       "0 1.073   \n",
       "1 -0.022  \n",
       "2 -1.519  \n",
       "3 3.639   \n",
       "4 1.380   \n",
       "5 4.549   "
      ]
     },
     "execution_count": 57,
     "metadata": {},
     "output_type": "execute_result"
    }
   ],
   "source": [
    "format_table(extensive_alt,extensive_alt.sum())   "
   ]
  },
  {
   "cell_type": "markdown",
   "metadata": {},
   "source": [
    "## Short-run Elasticities"
   ]
  },
  {
   "cell_type": "markdown",
   "metadata": {},
   "source": [
    "## Concept\n",
    "Our goal is to approximate short-run elaticities by comparing  similar agents across different levels of taxes. For this we use the optimal policies in the two economies and simulate paths for a buch of agents fixing their initial conditions and the sequence of exogenous shocks. \n",
    "\n",
    "### Implementation\n",
    "Let $\\Theta$ be the vector of parameters including tax rates and market clearing prices. Let $s^1=(a,\\kappa)$ be the vector of endogenous  state variables for an individual,;  $s^2=(\\epsilon,z,age)$ be the vector of shocks. Functions $\\mathcal{F}^x(s; \\Theta)$ be the optimal policies for choice variable $x$ and $\\mathcal{S}^1(s;\\Theta)$ the law of motion for the endogenous states under the optimal policies. We denote the ergodic distribution associated with optimal policies using $\\mu(s,\\Theta)$. We use $\\Theta^*$ for the benchmark calibrated to US policies and $\\Theta^{\\prime}$ to denote the counterfactual economy with alternative taxes.\n",
    "\n",
    "\n",
    "* We draw agents from the ergodic distribution, that is, a collection of $\\{s_{i,0}\\}_i$ from $\\mu(s,\\Theta)$. \n",
    "* We draw a sequence of exogenous shocks $\\{s^{2}_{i,t}\\}_i,t$\n",
    "* We use $\\mathcal{F}^x(s; \\Theta^{\\prime})$ and $\\mathcal{S}^1(s;\\Theta^{\\prime})$ to generate a panel for $x^{\\prime}_{i,t}$ \n",
    "$$ x^{\\prime}_{i,1}= \\mathcal{F}^x(s_{i,0}; \\Theta^{\\prime}) $$\n",
    "$$ x_{i,2}= \\mathcal{F}^x(\\mathcal{S}^1(s^{\\prime}_{i,1};\\Theta^{\\prime}),s_{2,i}; \\Theta^{\\prime})$$\n",
    "and so on\n",
    "*  We use $\\mathcal{F}^x(s; \\Theta^{*})$ and $\\mathcal{S}^1(s;\\Theta^{*})$ to generate a panel for $x^{*}_{i,t}$ \n",
    "* For a group $G$, we compute $\\Delta^{x}_{G,t}\\left(\\Theta^*,\\Theta^{\\prime}\\right)= \\frac{\\sum_{i\\in G} x^{\\prime}_{i,t} - \\sum_{i\\in G} x^{*}_{i,t}}{ \\sum_{i\\in G} x^{*}_{i,t}} $\n",
    "\n",
    "## Application\n",
    "We now compute $\\Delta^{G,x}_{i,t}$ for $x=\\{h_y+h_{\\kappa},n_s+h_y+h_{\\kappa}\\} and for $G=\\{all, by $z$\\}$ "
   ]
  },
  {
   "cell_type": "code",
   "execution_count": 58,
   "metadata": {},
   "outputs": [],
   "source": [
    "T0=0\n",
    "TN=10\n",
    "e1 = import_econ(pathtosiminitbase)\n",
    "e2 = import_econ(pathtosiminittarget)\n",
    "\n",
    "base_tot_hrs=e1.data_hy+e1.data_ns+e1.data_hkap\n",
    "tax_tot_hrs=e2.data_hy+e2.data_ns+e2.data_hkap\n",
    "base_e_hrs=e1.data_hy+e1.data_hkap\n",
    "tax_e_hrs=e2.data_hy+e2.data_hkap\n",
    "\n",
    "\n",
    "data_baseline=[]\n",
    "data_target=[]\n",
    "data=[]\n",
    "for t in range (T0,TN):\n",
    "    data=np.vstack( (e1.data_hy[:,t],\n",
    "                     e1.data_hkap[:,t],\n",
    "                     e1.data_is_c[:,t],\n",
    "                     e1.is_to_iz[e1.data_i_s[:,t]],\n",
    "                     base_tot_hrs[:,t], \n",
    "                     e1.data_ns[:,t],\n",
    "                     e1.data_a[:,t],\n",
    "                     e1.data_kap[:,t],\n",
    "                     base_e_hrs[:,t],\n",
    "                     e1.data_n[:,1]\n",
    "\n",
    "                    )  \n",
    "                  )\n",
    "    coldata=['hy','hkap','flagC','z','totalhrs','ns','a','kappa','ent_hrs','emp_hrs']\n",
    "    data=data.T\n",
    "    data_baseline.append( pd.DataFrame( data ,columns=coldata))\n",
    "    data_baseline[t].flagC=data_baseline[t].flagC.astype('bool')    \n",
    "    data_baseline[t]['flagS']=~data_baseline[t].flagC.astype('bool')\n",
    "\n",
    "    data=np.vstack( (e2.data_hy[:,t],\n",
    "                     e2.data_hkap[:,t],\n",
    "                     e2.data_is_c[:,t],\n",
    "                     e2.is_to_iz[e2.data_i_s[:,t]], \n",
    "                     tax_tot_hrs[:,t],\n",
    "                     e2.data_ns[:,t],\n",
    "                     e2.data_a[:,t],\n",
    "                     e2.data_kap[:,t],\n",
    "                     tax_e_hrs[:,t],    \n",
    "                     e2.data_n[:,t]\n",
    "                    )  \n",
    "                  )\n",
    "    data=data.T\n",
    "    data_target.append( pd.DataFrame( data ,columns=coldata))\n",
    "    data_target[t].flagC=data_target[t].flagC.astype('bool')\n",
    "    data_target[t]['flagS']=~data_target[t].flagC.astype('bool')\n",
    "   "
   ]
  },
  {
   "cell_type": "markdown",
   "metadata": {},
   "source": [
    "### Total hours in business: $n_s+h_y+h_{\\kappa}$"
   ]
  },
  {
   "cell_type": "markdown",
   "metadata": {},
   "source": [
    "All business owners"
   ]
  },
  {
   "cell_type": "code",
   "execution_count": 59,
   "metadata": {},
   "outputs": [
    {
     "data": {
      "text/plain": [
       "[<matplotlib.lines.Line2D at 0x7fd1e4ba2c18>]"
      ]
     },
     "execution_count": 59,
     "metadata": {},
     "output_type": "execute_result"
    },
    {
     "name": "stdout",
     "output_type": "stream",
     "text": [
      "   Delta_all\n",
      "0 nan       \n",
      "1 -0.013    \n",
      "2 0.023     \n",
      "3 0.030     \n",
      "4 0.034     \n",
      "5 0.036     \n",
      "6 0.039     \n",
      "7 0.039     \n",
      "8 0.041     \n",
      "9 0.045     \n"
     ]
    },
    {
     "data": {
      "image/png": "[encoded data removed]",
      "text/plain": [
       "<Figure size 432x288 with 1 Axes>"
      ]
     },
     "metadata": {
      "needs_background": "light"
     },
     "output_type": "display_data"
    }
   ],
   "source": [
    "data_e1=[data_baseline[t].totalhrs.sum() for t in range(T0,TN)]\n",
    "data_e2=[data_target[t].totalhrs.sum() for t in range(T0,TN)]\n",
    "Delta=np.array(data_e2)/np.array(data_e1)-1\n",
    "plt.plot(Delta)\n",
    "print(pd.DataFrame(Delta,columns=['Delta_all']))"
   ]
  },
  {
   "cell_type": "markdown",
   "metadata": {},
   "source": [
    "Grouped by $z$"
   ]
  },
  {
   "cell_type": "code",
   "execution_count": 60,
   "metadata": {},
   "outputs": [
    {
     "data": {
      "text/plain": [
       "[<matplotlib.lines.Line2D at 0x7fd28a4e82b0>]"
      ]
     },
     "execution_count": 60,
     "metadata": {},
     "output_type": "execute_result"
    },
    {
     "data": {
      "text/plain": [
       "[<matplotlib.lines.Line2D at 0x7fd395f0a9b0>]"
      ]
     },
     "execution_count": 60,
     "metadata": {},
     "output_type": "execute_result"
    },
    {
     "data": {
      "text/plain": [
       "[<matplotlib.lines.Line2D at 0x7fd395f0a588>]"
      ]
     },
     "execution_count": 60,
     "metadata": {},
     "output_type": "execute_result"
    },
    {
     "data": {
      "text/plain": [
       "[<matplotlib.lines.Line2D at 0x7fd395f0a7b8>]"
      ]
     },
     "execution_count": 60,
     "metadata": {},
     "output_type": "execute_result"
    },
    {
     "data": {
      "text/plain": [
       "[<matplotlib.lines.Line2D at 0x7fd395f0acc0>]"
      ]
     },
     "execution_count": 60,
     "metadata": {},
     "output_type": "execute_result"
    },
    {
     "data": {
      "text/plain": [
       "<matplotlib.legend.Legend at 0x7fd395f0a518>"
      ]
     },
     "execution_count": 60,
     "metadata": {},
     "output_type": "execute_result"
    },
    {
     "name": "stdout",
     "output_type": "stream",
     "text": [
      "        0      1     2     3     4     5     6     7     8     9\n",
      "0.000 nan 0.007  0.024 0.032 0.037 0.053 0.051 0.057 0.054 0.065\n",
      "1.000 nan 0.015  0.020 0.038 0.035 0.041 0.058 0.054 0.059 0.069\n",
      "2.000 nan 0.060  0.077 0.083 0.083 0.106 0.122 0.117 0.145 0.111\n",
      "3.000 nan 0.014  0.047 0.072 0.080 0.089 0.091 0.089 0.089 0.091\n",
      "4.000 nan -0.015 0.022 0.028 0.032 0.033 0.036 0.037 0.038 0.042\n"
     ]
    },
    {
     "data": {
      "image/png": "[encoded data removed]",
      "text/plain": [
       "<Figure size 432x288 with 1 Axes>"
      ]
     },
     "metadata": {
      "needs_background": "light"
     },
     "output_type": "display_data"
    }
   ],
   "source": [
    "\n",
    "Delta=[]\n",
    "fig, ax = plt.subplots()\n",
    "for zval in np.sort(data_baseline[0].z.unique()):\n",
    "    sel_baseline=[data_baseline[t].z==zval for t in range(T0,TN)]\n",
    "    sel_target=[data_target[t].z==zval for t in range(T0,TN)]\n",
    "    data_e1=[data_baseline[t][sel_baseline[t]].totalhrs.sum() for t in range(T0,TN)]\n",
    "    data_e2=[data_target[t][sel_target[t]].totalhrs.sum() for t in range(T0,TN)]\n",
    "    temp=np.array(data_e2)/np.array(data_e1)-1\n",
    "    Delta.append(temp)\n",
    "    ax.plot(temp)\n",
    "    \n",
    "ax.legend(np.sort(data_baseline[0].z.unique()))\n",
    "Delta_by_z=pd.DataFrame(Delta,index=np.sort(data_baseline[0].z.unique()))    \n",
    "print(Delta_by_z)"
   ]
  },
  {
   "cell_type": "markdown",
   "metadata": {},
   "source": [
    "### Total hours by entreprenurs : $h_y+h_{\\kappa}$"
   ]
  },
  {
   "cell_type": "markdown",
   "metadata": {},
   "source": [
    "All business owners"
   ]
  },
  {
   "cell_type": "code",
   "execution_count": 61,
   "metadata": {},
   "outputs": [
    {
     "data": {
      "text/plain": [
       "[<matplotlib.lines.Line2D at 0x7fd293fa7c18>]"
      ]
     },
     "execution_count": 61,
     "metadata": {},
     "output_type": "execute_result"
    },
    {
     "name": "stdout",
     "output_type": "stream",
     "text": [
      "   Delta_all\n",
      "0 nan       \n",
      "1 0.114     \n",
      "2 0.132     \n",
      "3 0.138     \n",
      "4 0.141     \n",
      "5 0.144     \n",
      "6 0.145     \n",
      "7 0.146     \n",
      "8 0.147     \n",
      "9 0.151     \n"
     ]
    },
    {
     "data": {
      "image/png": "[encoded data removed]",
      "text/plain": [
       "<Figure size 432x288 with 1 Axes>"
      ]
     },
     "metadata": {
      "needs_background": "light"
     },
     "output_type": "display_data"
    }
   ],
   "source": [
    "data_e1=[data_baseline[t].ent_hrs.sum() for t in range(T0,TN)]\n",
    "data_e2=[data_target[t].ent_hrs.sum() for t in range(T0,TN)]\n",
    "Delta=np.array(data_e2)/np.array(data_e1)-1\n",
    "plt.plot(Delta)\n",
    "print(pd.DataFrame(Delta,columns=['Delta_all']))"
   ]
  },
  {
   "cell_type": "markdown",
   "metadata": {},
   "source": [
    "Grouped by $z$"
   ]
  },
  {
   "cell_type": "code",
   "execution_count": 62,
   "metadata": {},
   "outputs": [
    {
     "data": {
      "text/plain": [
       "[<matplotlib.lines.Line2D at 0x7fd395f0af98>]"
      ]
     },
     "execution_count": 62,
     "metadata": {},
     "output_type": "execute_result"
    },
    {
     "data": {
      "text/plain": [
       "[<matplotlib.lines.Line2D at 0x7fd395f22208>]"
      ]
     },
     "execution_count": 62,
     "metadata": {},
     "output_type": "execute_result"
    },
    {
     "data": {
      "text/plain": [
       "[<matplotlib.lines.Line2D at 0x7fd293fb97f0>]"
      ]
     },
     "execution_count": 62,
     "metadata": {},
     "output_type": "execute_result"
    },
    {
     "data": {
      "text/plain": [
       "[<matplotlib.lines.Line2D at 0x7fd293f18550>]"
      ]
     },
     "execution_count": 62,
     "metadata": {},
     "output_type": "execute_result"
    },
    {
     "data": {
      "text/plain": [
       "[<matplotlib.lines.Line2D at 0x7fd395f22f98>]"
      ]
     },
     "execution_count": 62,
     "metadata": {},
     "output_type": "execute_result"
    },
    {
     "data": {
      "text/plain": [
       "<matplotlib.legend.Legend at 0x7fd293f18080>"
      ]
     },
     "execution_count": 62,
     "metadata": {},
     "output_type": "execute_result"
    },
    {
     "name": "stdout",
     "output_type": "stream",
     "text": [
      "        0     1     2     3     4     5     6     7     8     9\n",
      "0.000 nan 0.009 0.026 0.033 0.038 0.054 0.052 0.058 0.056 0.066\n",
      "1.000 nan 0.030 0.034 0.052 0.050 0.056 0.073 0.068 0.073 0.084\n",
      "2.000 nan 0.118 0.139 0.142 0.144 0.167 0.186 0.180 0.214 0.168\n",
      "3.000 nan 0.081 0.117 0.144 0.152 0.162 0.164 0.161 0.161 0.163\n",
      "4.000 nan 0.117 0.134 0.138 0.140 0.142 0.143 0.144 0.146 0.150\n"
     ]
    },
    {
     "data": {
      "image/png": "[encoded data removed]",
      "text/plain": [
       "<Figure size 432x288 with 1 Axes>"
      ]
     },
     "metadata": {
      "needs_background": "light"
     },
     "output_type": "display_data"
    }
   ],
   "source": [
    "Delta=[]\n",
    "fig, ax = plt.subplots()\n",
    "for zval in np.sort(data_baseline[0].z.unique()):\n",
    "    sel_baseline=[data_baseline[t].z==zval for t in range(T0,TN)]\n",
    "    sel_target=[data_target[t].z==zval for t in range(T0,TN)]\n",
    "    data_e1=[data_baseline[t][sel_baseline[t]].ent_hrs.sum() for t in range(T0,TN)]\n",
    "    data_e2=[data_target[t][sel_target[t]].ent_hrs.sum() for t in range(T0,TN)]\n",
    "    temp=np.array(data_e2)/np.array(data_e1)-1\n",
    "    Delta.append(temp)\n",
    "    ax.plot(temp)\n",
    "    \n",
    "ax.legend(np.sort(data_baseline[0].z.unique()))\n",
    "Delta_by_z=pd.DataFrame(Delta,index=np.sort(data_baseline[0].z.unique()))    \n",
    "print(Delta_by_z)"
   ]
  },
  {
   "cell_type": "markdown",
   "metadata": {},
   "source": [
    "## Intensive Margin entreprenur hours: $h_y$+$h_{\\kappa}$\n",
    "In here we condition on individual who were running business in date $t=0$. We then compute the % change in hours \"person-by-person\" and report the 25, 50, 75 percentiles. Note that this not what GR do. But is closer to what Chettty does and calls as intensive margin. "
   ]
  },
  {
   "cell_type": "code",
   "execution_count": 63,
   "metadata": {},
   "outputs": [
    {
     "data": {
      "text/plain": [
       "[<matplotlib.lines.Line2D at 0x7fd293eaa0b8>,\n",
       " <matplotlib.lines.Line2D at 0x7fd293eaa320>,\n",
       " <matplotlib.lines.Line2D at 0x7fd293eaa4a8>]"
      ]
     },
     "execution_count": 63,
     "metadata": {},
     "output_type": "execute_result"
    },
    {
     "data": {
      "image/png": "[encoded data removed]",
      "text/plain": [
       "<Figure size 432x288 with 1 Axes>"
      ]
     },
     "metadata": {
      "needs_background": "light"
     },
     "output_type": "display_data"
    }
   ],
   "source": [
    "Delta_ent_hrs=[(data_target[t].ent_hrs-data_baseline[t].ent_hrs)/data_baseline[t].ent_hrs for t in range(T0,TN)]\n",
    "sel=data_baseline[1].flagS\n",
    "plt.plot([Delta_ent_hrs[t][data_baseline[1][sel].index].quantile([.25,.5,.75]) for t in range(T0,TN)])"
   ]
  },
  {
   "cell_type": "markdown",
   "metadata": {},
   "source": [
    "### Num of entreprenurs "
   ]
  },
  {
   "cell_type": "code",
   "execution_count": 64,
   "metadata": {},
   "outputs": [
    {
     "data": {
      "text/plain": [
       "[<matplotlib.lines.Line2D at 0x7fd293e086d8>]"
      ]
     },
     "execution_count": 64,
     "metadata": {},
     "output_type": "execute_result"
    },
    {
     "name": "stdout",
     "output_type": "stream",
     "text": [
      "   Delta_all\n",
      "0 nan       \n",
      "1 0.006     \n",
      "2 0.011     \n",
      "3 0.015     \n",
      "4 0.015     \n",
      "5 0.018     \n",
      "6 0.019     \n",
      "7 0.020     \n",
      "8 0.022     \n",
      "9 0.024     \n"
     ]
    },
    {
     "data": {
      "image/png": "[encoded data removed]",
      "text/plain": [
       "<Figure size 432x288 with 1 Axes>"
      ]
     },
     "metadata": {
      "needs_background": "light"
     },
     "output_type": "display_data"
    }
   ],
   "source": [
    "data_e1=[data_baseline[t].flagS.sum() for t in range(T0,TN)]\n",
    "data_e2=[data_target[t].flagS.sum() for t in range(T0,TN)]\n",
    "Delta=np.array(data_e2)/np.array(data_e1)-1\n",
    "Delta[0]=np.nan\n",
    "plt.plot(Delta)\n",
    "print(pd.DataFrame(Delta,columns=['Delta_all']))"
   ]
  },
  {
   "cell_type": "code",
   "execution_count": 65,
   "metadata": {},
   "outputs": [
    {
     "data": {
      "text/plain": [
       "[<matplotlib.lines.Line2D at 0x7fd293f182b0>]"
      ]
     },
     "execution_count": 65,
     "metadata": {},
     "output_type": "execute_result"
    },
    {
     "data": {
      "text/plain": [
       "[<matplotlib.lines.Line2D at 0x7fd293f18780>]"
      ]
     },
     "execution_count": 65,
     "metadata": {},
     "output_type": "execute_result"
    },
    {
     "data": {
      "text/plain": [
       "[<matplotlib.lines.Line2D at 0x7fd293e3f9e8>]"
      ]
     },
     "execution_count": 65,
     "metadata": {},
     "output_type": "execute_result"
    },
    {
     "data": {
      "text/plain": [
       "[<matplotlib.lines.Line2D at 0x7fd293df99e8>]"
      ]
     },
     "execution_count": 65,
     "metadata": {},
     "output_type": "execute_result"
    },
    {
     "data": {
      "text/plain": [
       "[<matplotlib.lines.Line2D at 0x7fd293df9dd8>]"
      ]
     },
     "execution_count": 65,
     "metadata": {},
     "output_type": "execute_result"
    },
    {
     "data": {
      "text/plain": [
       "<matplotlib.legend.Legend at 0x7fd293df96d8>"
      ]
     },
     "execution_count": 65,
     "metadata": {},
     "output_type": "execute_result"
    },
    {
     "name": "stdout",
     "output_type": "stream",
     "text": [
      "        0      1      2      3      4      5      6      7      8      9\n",
      "0.000 nan -0.013 -0.008 -0.007 -0.008 -0.006 -0.005 -0.003 -0.001 -0.000\n",
      "1.000 nan -0.013 -0.015 -0.009 -0.015 -0.013 -0.012 -0.010 -0.007 -0.002\n",
      "2.000 nan -0.010 -0.012 -0.008 -0.009 -0.006 -0.005 -0.005 0.002  0.000 \n",
      "3.000 nan -0.009 -0.001 0.006  0.007  0.014  0.015  0.014  0.016  0.016 \n",
      "4.000 nan 0.029  0.037  0.039  0.040  0.042  0.044  0.045  0.046  0.049 \n"
     ]
    },
    {
     "data": {
      "image/png": "[encoded data removed]",
      "text/plain": [
       "<Figure size 432x288 with 1 Axes>"
      ]
     },
     "metadata": {
      "needs_background": "light"
     },
     "output_type": "display_data"
    }
   ],
   "source": [
    "Delta=[]\n",
    "fig, ax = plt.subplots()\n",
    "for zval in np.sort(data_baseline[0].z.unique()):\n",
    "    sel_baseline=[data_baseline[t].z==zval for t in range(T0,TN)]\n",
    "    sel_target=[data_target[t].z==zval for t in range(T0,TN)]\n",
    "    data_e1=[data_baseline[t][sel_baseline[t]].flagS.sum() for t in range(T0,TN)]\n",
    "    data_e2=[data_target[t][sel_target[t]].flagS.sum() for t in range(T0,TN)]\n",
    "    temp=np.array(data_e2)/np.array(data_e1)-1\n",
    "    temp[0]=np.nan\n",
    "    Delta.append(temp)\n",
    "    ax.plot(temp)\n",
    "    \n",
    "ax.legend(np.sort(data_baseline[0].z.unique()))\n",
    "Delta_by_z=pd.DataFrame(Delta,index=np.sort(data_baseline[0].z.unique()))    \n",
    "print(Delta_by_z)"
   ]
  },
  {
   "cell_type": "markdown",
   "metadata": {},
   "source": [
    "## Employee Hours: n"
   ]
  },
  {
   "cell_type": "code",
   "execution_count": 66,
   "metadata": {},
   "outputs": [
    {
     "data": {
      "text/plain": [
       "[<matplotlib.lines.Line2D at 0x7fd293d08908>]"
      ]
     },
     "execution_count": 66,
     "metadata": {},
     "output_type": "execute_result"
    },
    {
     "name": "stdout",
     "output_type": "stream",
     "text": [
      "   Delta_all\n",
      "0 nan       \n",
      "1 0.033     \n",
      "2 0.029     \n",
      "3 0.022     \n",
      "4 0.021     \n",
      "5 0.020     \n",
      "6 0.017     \n",
      "7 0.017     \n",
      "8 0.014     \n",
      "9 0.015     \n"
     ]
    },
    {
     "data": {
      "image/png": "[encoded data removed]",
      "text/plain": [
       "<Figure size 432x288 with 1 Axes>"
      ]
     },
     "metadata": {
      "needs_background": "light"
     },
     "output_type": "display_data"
    }
   ],
   "source": [
    "data_e1=[data_baseline[t].emp_hrs.sum() for t in range(T0,TN)]\n",
    "data_e2=[data_target[t].emp_hrs.sum() for t in range(T0,TN)]\n",
    "Delta=np.array(data_e2)/np.array(data_e1)-1\n",
    "Delta[0]=np.nan\n",
    "plt.plot(Delta)\n",
    "print(pd.DataFrame(Delta,columns=['Delta_all']))"
   ]
  },
  {
   "cell_type": "markdown",
   "metadata": {},
   "source": [
    "## Employee Hours: n intensive (median)"
   ]
  },
  {
   "cell_type": "code",
   "execution_count": 67,
   "metadata": {},
   "outputs": [
    {
     "data": {
      "text/plain": [
       "[<matplotlib.lines.Line2D at 0x7fd28a3e17f0>]"
      ]
     },
     "execution_count": 67,
     "metadata": {},
     "output_type": "execute_result"
    },
    {
     "data": {
      "image/png": "[encoded data removed]",
      "text/plain": [
       "<Figure size 432x288 with 1 Axes>"
      ]
     },
     "metadata": {
      "needs_background": "light"
     },
     "output_type": "display_data"
    }
   ],
   "source": [
    "Delta_emp_hrs=[]\n",
    "for t in range(T0,TN):\n",
    "    Delta_emp_hrs.append((data_target[t].emp_hrs-data_baseline[t].emp_hrs)/data_baseline[t].emp_hrs)\n",
    "\n",
    "sel=data_baseline[1].flagC\n",
    "plt.plot([Delta_emp_hrs[t][data_baseline[1][sel].index].quantile(.5) for t in range(T0+1,TN)])"
   ]
  },
  {
   "cell_type": "code",
   "execution_count": null,
   "metadata": {},
   "outputs": [],
   "source": []
  }
 ],
 "metadata": {
  "kernelspec": {
   "display_name": "Python 3",
   "language": "python",
   "name": "python3"
  },
  "language_info": {
   "codemirror_mode": {
    "name": "ipython",
    "version": 3
   },
   "file_extension": ".py",
   "mimetype": "text/x-python",
   "name": "python",
   "nbconvert_exporter": "python",
   "pygments_lexer": "ipython3",
   "version": "3.6.8"
  }
 },
 "nbformat": 4,
 "nbformat_minor": 4
}
